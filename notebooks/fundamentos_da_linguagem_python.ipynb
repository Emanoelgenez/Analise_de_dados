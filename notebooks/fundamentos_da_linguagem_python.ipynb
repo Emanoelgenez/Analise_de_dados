{
 "cells": [
  {
   "cell_type": "markdown",
   "id": "4b15d2fc",
   "metadata": {},
   "source": [
    "<h1>\n",
    "   <font color = \"grey\">Fundamentos da linguagem Python</font>\n",
    "</h1>"
   ]
  },
  {
   "cell_type": "markdown",
   "id": "dc976fe6",
   "metadata": {
    "heading_collapsed": true
   },
   "source": [
    "# MÓDULO 1"
   ]
  },
  {
   "cell_type": "markdown",
   "id": "e0a62a4d",
   "metadata": {
    "heading_collapsed": true,
    "hidden": true
   },
   "source": [
    "## 1.1. Operadores matemáticos"
   ]
  },
  {
   "cell_type": "code",
   "execution_count": 326,
   "id": "db5f029d",
   "metadata": {
    "hidden": true
   },
   "outputs": [
    {
     "data": {
      "text/plain": [
       "12"
      ]
     },
     "execution_count": 326,
     "metadata": {},
     "output_type": "execute_result"
    }
   ],
   "source": [
    "# adição \n",
    "\n",
    "5 + 7"
   ]
  },
  {
   "cell_type": "code",
   "execution_count": 327,
   "id": "086754d5",
   "metadata": {
    "hidden": true
   },
   "outputs": [
    {
     "data": {
      "text/plain": [
       "12"
      ]
     },
     "execution_count": 327,
     "metadata": {},
     "output_type": "execute_result"
    }
   ],
   "source": [
    "# subtração \n",
    "\n",
    "21 - 9"
   ]
  },
  {
   "cell_type": "code",
   "execution_count": 328,
   "id": "73ad00a4",
   "metadata": {
    "hidden": true
   },
   "outputs": [
    {
     "data": {
      "text/plain": [
       "27"
      ]
     },
     "execution_count": 328,
     "metadata": {},
     "output_type": "execute_result"
    }
   ],
   "source": [
    "# multiplicação \n",
    "\n",
    "3 * 9"
   ]
  },
  {
   "cell_type": "code",
   "execution_count": 329,
   "id": "7edf81d3",
   "metadata": {
    "hidden": true
   },
   "outputs": [
    {
     "data": {
      "text/plain": [
       "19.666666666666668"
      ]
     },
     "execution_count": 329,
     "metadata": {},
     "output_type": "execute_result"
    }
   ],
   "source": [
    "# divisão\n",
    "\n",
    "59 / 3"
   ]
  },
  {
   "cell_type": "markdown",
   "id": "ccae3f61",
   "metadata": {
    "hidden": true
   },
   "source": [
    "### 1.1.1. Operação com variáveis"
   ]
  },
  {
   "cell_type": "code",
   "execution_count": 330,
   "id": "a4163fb5",
   "metadata": {
    "hidden": true
   },
   "outputs": [],
   "source": [
    "a = 39"
   ]
  },
  {
   "cell_type": "code",
   "execution_count": 331,
   "id": "1fa667db",
   "metadata": {
    "hidden": true,
    "scrolled": true
   },
   "outputs": [],
   "source": [
    "b = a + 1"
   ]
  },
  {
   "cell_type": "code",
   "execution_count": 332,
   "id": "8a48dfe1",
   "metadata": {
    "hidden": true
   },
   "outputs": [
    {
     "data": {
      "text/plain": [
       "40"
      ]
     },
     "execution_count": 332,
     "metadata": {},
     "output_type": "execute_result"
    }
   ],
   "source": [
    "b"
   ]
  },
  {
   "cell_type": "code",
   "execution_count": 333,
   "id": "068ca6e0",
   "metadata": {
    "hidden": true
   },
   "outputs": [
    {
     "data": {
      "text/plain": [
       "80"
      ]
     },
     "execution_count": 333,
     "metadata": {},
     "output_type": "execute_result"
    }
   ],
   "source": [
    "b * 2"
   ]
  },
  {
   "cell_type": "markdown",
   "id": "03ed7a7e",
   "metadata": {
    "hidden": true
   },
   "source": [
    "**Aquecimento operadores matemáticos**"
   ]
  },
  {
   "cell_type": "code",
   "execution_count": 334,
   "id": "2cc48ee6",
   "metadata": {
    "hidden": true
   },
   "outputs": [],
   "source": [
    "# compras \n",
    "\n",
    "\n",
    "arroz = 10\n",
    "leite = 11.50\n",
    "carne = 30.80\n",
    "sabonete = 9.56\n",
    "alvejante = 19.58"
   ]
  },
  {
   "cell_type": "code",
   "execution_count": 335,
   "id": "b849174d",
   "metadata": {
    "hidden": true
   },
   "outputs": [],
   "source": [
    "resultado = arroz + leite + carne + sabonete + alvejante "
   ]
  },
  {
   "cell_type": "code",
   "execution_count": 336,
   "id": "2c0582cd",
   "metadata": {
    "hidden": true
   },
   "outputs": [
    {
     "data": {
      "text/plain": [
       "81.44"
      ]
     },
     "execution_count": 336,
     "metadata": {},
     "output_type": "execute_result"
    }
   ],
   "source": [
    "resultado"
   ]
  },
  {
   "cell_type": "code",
   "execution_count": 337,
   "id": "2ed10c8b",
   "metadata": {
    "hidden": true
   },
   "outputs": [
    {
     "name": "stdout",
     "output_type": "stream",
     "text": [
      "O valor total das compras é: R$ 81.44\n"
     ]
    }
   ],
   "source": [
    "print('O valor total das compras é: R$', resultado)"
   ]
  },
  {
   "cell_type": "code",
   "execution_count": 338,
   "id": "d6934e22",
   "metadata": {
    "hidden": true
   },
   "outputs": [
    {
     "data": {
      "text/plain": [
       "4"
      ]
     },
     "execution_count": 338,
     "metadata": {},
     "output_type": "execute_result"
    }
   ],
   "source": [
    "# potenciação \n",
    "\n",
    "2 ** 2"
   ]
  },
  {
   "cell_type": "code",
   "execution_count": 339,
   "id": "45175d16",
   "metadata": {
    "hidden": true
   },
   "outputs": [
    {
     "data": {
      "text/plain": [
       "3"
      ]
     },
     "execution_count": 339,
     "metadata": {},
     "output_type": "execute_result"
    }
   ],
   "source": [
    "# módulo ou resto da divisão \n",
    "\n",
    "10 % 7"
   ]
  },
  {
   "cell_type": "markdown",
   "id": "897ad1f6",
   "metadata": {
    "heading_collapsed": true,
    "hidden": true
   },
   "source": [
    "## 1.2. Operadores relacionais"
   ]
  },
  {
   "cell_type": "code",
   "execution_count": 340,
   "id": "a8a27945",
   "metadata": {
    "hidden": true
   },
   "outputs": [
    {
     "data": {
      "text/plain": [
       "False"
      ]
     },
     "execution_count": 340,
     "metadata": {},
     "output_type": "execute_result"
    }
   ],
   "source": [
    "# igualdade\n",
    "\n",
    "700 == 90"
   ]
  },
  {
   "cell_type": "code",
   "execution_count": 341,
   "id": "80c60896",
   "metadata": {
    "hidden": true
   },
   "outputs": [
    {
     "data": {
      "text/plain": [
       "True"
      ]
     },
     "execution_count": 341,
     "metadata": {},
     "output_type": "execute_result"
    }
   ],
   "source": [
    "100 == 100"
   ]
  },
  {
   "cell_type": "code",
   "execution_count": 342,
   "id": "305e00c2",
   "metadata": {
    "hidden": true
   },
   "outputs": [
    {
     "data": {
      "text/plain": [
       "True"
      ]
     },
     "execution_count": 342,
     "metadata": {},
     "output_type": "execute_result"
    }
   ],
   "source": [
    "80.0 == 80"
   ]
  },
  {
   "cell_type": "code",
   "execution_count": 343,
   "id": "a7fb955f",
   "metadata": {
    "hidden": true
   },
   "outputs": [
    {
     "data": {
      "text/plain": [
       "True"
      ]
     },
     "execution_count": 343,
     "metadata": {},
     "output_type": "execute_result"
    }
   ],
   "source": [
    "# desigualdade \n",
    "\n",
    "3 != 7"
   ]
  },
  {
   "cell_type": "code",
   "execution_count": 344,
   "id": "ca33c454",
   "metadata": {
    "hidden": true
   },
   "outputs": [
    {
     "data": {
      "text/plain": [
       "False"
      ]
     },
     "execution_count": 344,
     "metadata": {},
     "output_type": "execute_result"
    }
   ],
   "source": [
    "3 != 3"
   ]
  },
  {
   "cell_type": "code",
   "execution_count": 345,
   "id": "eceb6cf1",
   "metadata": {
    "hidden": true
   },
   "outputs": [
    {
     "data": {
      "text/plain": [
       "True"
      ]
     },
     "execution_count": 345,
     "metadata": {},
     "output_type": "execute_result"
    }
   ],
   "source": [
    "# maior que \n",
    "\n",
    "500 > 90"
   ]
  },
  {
   "cell_type": "code",
   "execution_count": 346,
   "id": "abf0b349",
   "metadata": {
    "hidden": true
   },
   "outputs": [
    {
     "data": {
      "text/plain": [
       "False"
      ]
     },
     "execution_count": 346,
     "metadata": {},
     "output_type": "execute_result"
    }
   ],
   "source": [
    "90 > 500"
   ]
  },
  {
   "cell_type": "code",
   "execution_count": 347,
   "id": "4704e0ff",
   "metadata": {
    "hidden": true
   },
   "outputs": [
    {
     "data": {
      "text/plain": [
       "False"
      ]
     },
     "execution_count": 347,
     "metadata": {},
     "output_type": "execute_result"
    }
   ],
   "source": [
    "# menor que \n",
    "\n",
    "500 < 90"
   ]
  },
  {
   "cell_type": "code",
   "execution_count": 348,
   "id": "49e66d6c",
   "metadata": {
    "hidden": true
   },
   "outputs": [
    {
     "data": {
      "text/plain": [
       "True"
      ]
     },
     "execution_count": 348,
     "metadata": {},
     "output_type": "execute_result"
    }
   ],
   "source": [
    "90 < 500"
   ]
  },
  {
   "cell_type": "code",
   "execution_count": 349,
   "id": "235c6773",
   "metadata": {
    "hidden": true
   },
   "outputs": [
    {
     "data": {
      "text/plain": [
       "True"
      ]
     },
     "execution_count": 349,
     "metadata": {},
     "output_type": "execute_result"
    }
   ],
   "source": [
    "# maior ou igual \n",
    "\n",
    "8 >= 8"
   ]
  },
  {
   "cell_type": "code",
   "execution_count": 350,
   "id": "84314f33",
   "metadata": {
    "hidden": true
   },
   "outputs": [
    {
     "data": {
      "text/plain": [
       "False"
      ]
     },
     "execution_count": 350,
     "metadata": {},
     "output_type": "execute_result"
    }
   ],
   "source": [
    "5 >= 10"
   ]
  },
  {
   "cell_type": "markdown",
   "id": "fb1ebd4f",
   "metadata": {
    "heading_collapsed": true,
    "hidden": true
   },
   "source": [
    "## 1.3. Operadores lógicos"
   ]
  },
  {
   "cell_type": "markdown",
   "id": "d10cd288",
   "metadata": {
    "hidden": true
   },
   "source": [
    "**and** = e\n",
    "\n",
    "**or** = ou \n",
    "\n",
    "**not** = não"
   ]
  },
  {
   "cell_type": "markdown",
   "id": "87f0b209",
   "metadata": {
    "hidden": true
   },
   "source": [
    "**and** = se todas as alternativas forem verdadeiras\n",
    "\n",
    "**or** = se pelo menos uma das alternativas forem verdadeiras\n",
    "\n",
    "**not** = se for verdadeira será falso"
   ]
  },
  {
   "cell_type": "markdown",
   "id": "5a4f00fe",
   "metadata": {
    "hidden": true
   },
   "source": [
    "**1.Para estudar em uma universidade, o aluno deve:**\n",
    "\n",
    "\n",
    "Ter passado no vestibular\n",
    "\n",
    "e\n",
    "\n",
    "Estar com toda documentação necessária\n",
    "\n",
    "e \n",
    "\n",
    "Estar matriculado "
   ]
  },
  {
   "cell_type": "code",
   "execution_count": 351,
   "id": "aa9cd843",
   "metadata": {
    "hidden": true
   },
   "outputs": [
    {
     "data": {
      "text/plain": [
       "True"
      ]
     },
     "execution_count": 351,
     "metadata": {},
     "output_type": "execute_result"
    }
   ],
   "source": [
    "50 > 40 and 50 > 49"
   ]
  },
  {
   "cell_type": "markdown",
   "id": "b5d28ea0",
   "metadata": {
    "hidden": true
   },
   "source": [
    "**2. Para obter flexibilidade no período de provas, o aluno deve:**\n",
    "\n",
    "Ser militar e estar de serviço\n",
    "\n",
    "ou \n",
    "\n",
    "Estar de licença maternidade\n",
    "\n",
    "ou \n",
    "\n",
    "Estar de atestado médico "
   ]
  },
  {
   "cell_type": "code",
   "execution_count": 352,
   "id": "bfd93664",
   "metadata": {
    "hidden": true
   },
   "outputs": [
    {
     "data": {
      "text/plain": [
       "True"
      ]
     },
     "execution_count": 352,
     "metadata": {},
     "output_type": "execute_result"
    }
   ],
   "source": [
    "80 > 3 or 15 > 20"
   ]
  },
  {
   "cell_type": "markdown",
   "id": "25a3d5d2",
   "metadata": {
    "heading_collapsed": true,
    "hidden": true
   },
   "source": [
    "## 1.4. Laços de repetiçoes for"
   ]
  },
  {
   "cell_type": "code",
   "execution_count": 353,
   "id": "3fec42f4",
   "metadata": {
    "hidden": true,
    "scrolled": true
   },
   "outputs": [
    {
     "name": "stdout",
     "output_type": "stream",
     "text": [
      "0\n",
      "3\n",
      "6\n",
      "9\n",
      "12\n",
      "15\n",
      "18\n"
     ]
    }
   ],
   "source": [
    "for i in range (0, 20, 3):\n",
    "    print(i)"
   ]
  },
  {
   "cell_type": "markdown",
   "id": "f69f5152",
   "metadata": {
    "hidden": true
   },
   "source": [
    "Essa função cria um loop de um range(sequencia numerica) \n",
    "\n",
    "for é função (i) é a variável in conecta ao range ( inicio da sequncia, fim da sequencia, intervalos) "
   ]
  },
  {
   "cell_type": "code",
   "execution_count": 354,
   "id": "74770f50",
   "metadata": {
    "hidden": true
   },
   "outputs": [],
   "source": [
    "lista = [3, 8, 44, 100]"
   ]
  },
  {
   "cell_type": "code",
   "execution_count": 355,
   "id": "7e2a4ec6",
   "metadata": {
    "hidden": true
   },
   "outputs": [
    {
     "name": "stdout",
     "output_type": "stream",
     "text": [
      "3\n",
      "8\n",
      "44\n",
      "100\n"
     ]
    }
   ],
   "source": [
    "for x in lista:\n",
    "    print(x)"
   ]
  },
  {
   "cell_type": "code",
   "execution_count": 356,
   "id": "977d6939",
   "metadata": {
    "hidden": true
   },
   "outputs": [],
   "source": [
    "lista2 = [3, 8, 44, 100]"
   ]
  },
  {
   "cell_type": "code",
   "execution_count": 357,
   "id": "3c00918a",
   "metadata": {
    "hidden": true
   },
   "outputs": [
    {
     "name": "stdout",
     "output_type": "stream",
     "text": [
      "8\n",
      "44\n",
      "100\n"
     ]
    }
   ],
   "source": [
    "for i in lista2:\n",
    "    \n",
    "    if i % 2 == 0:\n",
    "     print(i)"
   ]
  },
  {
   "cell_type": "code",
   "execution_count": 358,
   "id": "c02b0aa9",
   "metadata": {
    "hidden": true
   },
   "outputs": [],
   "source": [
    "lista3 = [ [1,2,3], [2,3,5], [7,8,5,4,3,2] ]"
   ]
  },
  {
   "cell_type": "code",
   "execution_count": 359,
   "id": "b0ac09fa",
   "metadata": {
    "hidden": true
   },
   "outputs": [
    {
     "name": "stdout",
     "output_type": "stream",
     "text": [
      "[1, 2, 3]\n",
      "[2, 3, 5]\n",
      "[7, 8, 5, 4, 3, 2]\n"
     ]
    }
   ],
   "source": [
    "for ii in lista3:\n",
    "    print(ii)"
   ]
  },
  {
   "cell_type": "code",
   "execution_count": 360,
   "id": "a0c9c5a5",
   "metadata": {
    "hidden": true
   },
   "outputs": [],
   "source": [
    "di = {'d1': 10,'d2': 20,'d3': 30,'d4': 40,'d5': 50, };\n",
    "\n",
    "d2 = {'d2': 10,'d2': 20,'d2': 30,'d2': 40,'d2': 50};    "
   ]
  },
  {
   "cell_type": "code",
   "execution_count": 361,
   "id": "04ed3a81",
   "metadata": {
    "hidden": true
   },
   "outputs": [
    {
     "data": {
      "text/plain": [
       "{'d1': 10, 'd2': 20, 'd3': 30, 'd4': 40, 'd5': 50}"
      ]
     },
     "execution_count": 361,
     "metadata": {},
     "output_type": "execute_result"
    }
   ],
   "source": [
    "di"
   ]
  },
  {
   "cell_type": "code",
   "execution_count": 362,
   "id": "4d8d1df3",
   "metadata": {
    "hidden": true,
    "scrolled": true
   },
   "outputs": [
    {
     "name": "stdout",
     "output_type": "stream",
     "text": [
      "d1\n",
      "d2\n",
      "d3\n",
      "d4\n",
      "d5\n"
     ]
    }
   ],
   "source": [
    "for i in di:\n",
    "    print(i)"
   ]
  },
  {
   "cell_type": "code",
   "execution_count": 363,
   "id": "08be1eaa",
   "metadata": {
    "hidden": true
   },
   "outputs": [
    {
     "data": {
      "text/plain": [
       "dict_items([('d1', 10), ('d2', 20), ('d3', 30), ('d4', 40), ('d5', 50)])"
      ]
     },
     "execution_count": 363,
     "metadata": {},
     "output_type": "execute_result"
    }
   ],
   "source": [
    "di.items()"
   ]
  },
  {
   "cell_type": "code",
   "execution_count": 364,
   "id": "6f26d53d",
   "metadata": {
    "hidden": true
   },
   "outputs": [
    {
     "name": "stdout",
     "output_type": "stream",
     "text": [
      "d1 10\n",
      "d2 20\n",
      "d3 30\n",
      "d4 40\n",
      "d5 50\n"
     ]
    }
   ],
   "source": [
    "for c, v, in di.items():\n",
    "    print( c, v)"
   ]
  },
  {
   "cell_type": "code",
   "execution_count": null,
   "id": "7de2e5db",
   "metadata": {
    "hidden": true
   },
   "outputs": [],
   "source": []
  },
  {
   "cell_type": "markdown",
   "id": "0ae554d2",
   "metadata": {
    "heading_collapsed": true,
    "hidden": true
   },
   "source": [
    "## 1.5. Laços de repetiçoes whille(enquanto)"
   ]
  },
  {
   "cell_type": "code",
   "execution_count": 365,
   "id": "6a5352c7",
   "metadata": {
    "hidden": true,
    "scrolled": true
   },
   "outputs": [
    {
     "name": "stdout",
     "output_type": "stream",
     "text": [
      "8\n",
      "9\n",
      "10\n"
     ]
    }
   ],
   "source": [
    "k = 8\n",
    "\n",
    "while k <= 10:\n",
    "    print(k)\n",
    "    \n",
    "    k += 1"
   ]
  },
  {
   "cell_type": "markdown",
   "id": "e550ad2b",
   "metadata": {
    "hidden": true
   },
   "source": [
    "**pass, break e continue**"
   ]
  },
  {
   "cell_type": "code",
   "execution_count": 366,
   "id": "889e25b2",
   "metadata": {
    "hidden": true
   },
   "outputs": [
    {
     "name": "stdout",
     "output_type": "stream",
     "text": [
      "p\n",
      "r\n",
      "o\n",
      "g\n",
      "r\n",
      "a\n",
      "m\n",
      "a\n",
      "d\n",
      "o\n",
      "r\n"
     ]
    }
   ],
   "source": [
    "for letra in 'programador':\n",
    "    if letra == 'a':\n",
    "        pass\n",
    "    print(letra)"
   ]
  },
  {
   "cell_type": "code",
   "execution_count": 367,
   "id": "1941932b",
   "metadata": {
    "hidden": true
   },
   "outputs": [
    {
     "name": "stdout",
     "output_type": "stream",
     "text": [
      "p\n",
      "r\n",
      "o\n",
      "g\n",
      "r\n",
      "m\n",
      "d\n",
      "o\n",
      "r\n"
     ]
    }
   ],
   "source": [
    "for letra in 'programador':\n",
    "    if letra == 'a':\n",
    "        continue\n",
    "    print(letra)"
   ]
  },
  {
   "cell_type": "code",
   "execution_count": 368,
   "id": "edf87000",
   "metadata": {
    "hidden": true,
    "scrolled": true
   },
   "outputs": [
    {
     "name": "stdout",
     "output_type": "stream",
     "text": [
      "p\n",
      "r\n",
      "o\n",
      "g\n",
      "r\n"
     ]
    }
   ],
   "source": [
    "for letra in 'programador':\n",
    "    if letra == 'a':\n",
    "        break\n",
    "    print(letra)"
   ]
  },
  {
   "cell_type": "markdown",
   "id": "1bda9cf9",
   "metadata": {
    "heading_collapsed": true,
    "hidden": true
   },
   "source": [
    "## 1.6. Funções"
   ]
  },
  {
   "cell_type": "code",
   "execution_count": 369,
   "id": "72e597fd",
   "metadata": {
    "hidden": true
   },
   "outputs": [],
   "source": [
    " def print_text():\n",
    "    print('Aqui é um texto qaulquer')"
   ]
  },
  {
   "cell_type": "code",
   "execution_count": 370,
   "id": "691a08e8",
   "metadata": {
    "hidden": true
   },
   "outputs": [
    {
     "name": "stdout",
     "output_type": "stream",
     "text": [
      "Aqui é um texto qaulquer\n"
     ]
    }
   ],
   "source": [
    "print_text()"
   ]
  },
  {
   "cell_type": "code",
   "execution_count": 371,
   "id": "153df271",
   "metadata": {
    "hidden": true
   },
   "outputs": [],
   "source": [
    "def print_isto(x):\n",
    "    print(x)"
   ]
  },
  {
   "cell_type": "code",
   "execution_count": 372,
   "id": "bc08ac58",
   "metadata": {
    "hidden": true
   },
   "outputs": [
    {
     "name": "stdout",
     "output_type": "stream",
     "text": [
      "7958\n"
     ]
    }
   ],
   "source": [
    "print_isto(7958)"
   ]
  },
  {
   "cell_type": "code",
   "execution_count": 373,
   "id": "09fe70b4",
   "metadata": {
    "hidden": true
   },
   "outputs": [],
   "source": [
    "def potencia(x):\n",
    "    p = x ** 2\n",
    "    return p"
   ]
  },
  {
   "cell_type": "code",
   "execution_count": 374,
   "id": "b165f8ce",
   "metadata": {
    "hidden": true
   },
   "outputs": [
    {
     "data": {
      "text/plain": [
       "16"
      ]
     },
     "execution_count": 374,
     "metadata": {},
     "output_type": "execute_result"
    }
   ],
   "source": [
    "potencia(4)"
   ]
  },
  {
   "cell_type": "code",
   "execution_count": 375,
   "id": "d56ac161",
   "metadata": {
    "hidden": true
   },
   "outputs": [],
   "source": [
    "def sub(x):\n",
    "    r = x + 4\n",
    "    return r"
   ]
  },
  {
   "cell_type": "code",
   "execution_count": 376,
   "id": "c3251bc3",
   "metadata": {
    "hidden": true,
    "scrolled": true
   },
   "outputs": [
    {
     "data": {
      "text/plain": [
       "1004"
      ]
     },
     "execution_count": 376,
     "metadata": {},
     "output_type": "execute_result"
    }
   ],
   "source": [
    "sub (1000)"
   ]
  },
  {
   "cell_type": "code",
   "execution_count": 377,
   "id": "2e930be4",
   "metadata": {
    "hidden": true
   },
   "outputs": [],
   "source": [
    "def potencia_n(x, n = 2 ):\n",
    "    p = x ** n\n",
    "    return p"
   ]
  },
  {
   "cell_type": "code",
   "execution_count": 378,
   "id": "34b78b69",
   "metadata": {
    "hidden": true
   },
   "outputs": [
    {
     "data": {
      "text/plain": [
       "25"
      ]
     },
     "execution_count": 378,
     "metadata": {},
     "output_type": "execute_result"
    }
   ],
   "source": [
    "potencia_n(5)"
   ]
  },
  {
   "cell_type": "code",
   "execution_count": 379,
   "id": "7e04ccea",
   "metadata": {
    "hidden": true,
    "scrolled": true
   },
   "outputs": [
    {
     "data": {
      "text/plain": [
       "125"
      ]
     },
     "execution_count": 379,
     "metadata": {},
     "output_type": "execute_result"
    }
   ],
   "source": [
    "potencia_n(5, 3)"
   ]
  },
  {
   "cell_type": "markdown",
   "id": "008a9cf4",
   "metadata": {},
   "source": [
    "# MÓDULO 2"
   ]
  },
  {
   "cell_type": "markdown",
   "id": "3af1ab15",
   "metadata": {
    "heading_collapsed": true
   },
   "source": [
    "### IMPORTS"
   ]
  },
  {
   "cell_type": "code",
   "execution_count": 380,
   "id": "2b252f97",
   "metadata": {
    "hidden": true
   },
   "outputs": [],
   "source": [
    "import pandas as pd\n",
    "import numpy as np"
   ]
  },
  {
   "cell_type": "markdown",
   "id": "7a4257ad",
   "metadata": {
    "heading_collapsed": true
   },
   "source": [
    "## 2.1. Dataframes"
   ]
  },
  {
   "cell_type": "code",
   "execution_count": 381,
   "id": "153860d1",
   "metadata": {
    "hidden": true
   },
   "outputs": [],
   "source": [
    "series = pd.Series([7, 4, 2, np.nan, 6, 9 ])"
   ]
  },
  {
   "cell_type": "code",
   "execution_count": 382,
   "id": "6c6d45b9",
   "metadata": {
    "hidden": true
   },
   "outputs": [
    {
     "data": {
      "text/plain": [
       "0    7.0\n",
       "1    4.0\n",
       "2    2.0\n",
       "3    NaN\n",
       "4    6.0\n",
       "5    9.0\n",
       "dtype: float64"
      ]
     },
     "execution_count": 382,
     "metadata": {},
     "output_type": "execute_result"
    }
   ],
   "source": [
    "series"
   ]
  },
  {
   "cell_type": "code",
   "execution_count": 383,
   "id": "e6454771",
   "metadata": {
    "hidden": true
   },
   "outputs": [
    {
     "data": {
      "text/plain": [
       "pandas.core.series.Series"
      ]
     },
     "execution_count": 383,
     "metadata": {},
     "output_type": "execute_result"
    }
   ],
   "source": [
    "type(series)"
   ]
  },
  {
   "cell_type": "code",
   "execution_count": 384,
   "id": "11009877",
   "metadata": {
    "hidden": true
   },
   "outputs": [],
   "source": [
    "datas = pd.date_range('20220101', periods = 6 )"
   ]
  },
  {
   "cell_type": "code",
   "execution_count": 385,
   "id": "746f19e6",
   "metadata": {
    "hidden": true
   },
   "outputs": [
    {
     "data": {
      "text/plain": [
       "DatetimeIndex(['2022-01-01', '2022-01-02', '2022-01-03', '2022-01-04',\n",
       "               '2022-01-05', '2022-01-06'],\n",
       "              dtype='datetime64[ns]', freq='D')"
      ]
     },
     "execution_count": 385,
     "metadata": {},
     "output_type": "execute_result"
    }
   ],
   "source": [
    "datas"
   ]
  },
  {
   "cell_type": "code",
   "execution_count": 386,
   "id": "b6f98800",
   "metadata": {
    "hidden": true
   },
   "outputs": [
    {
     "data": {
      "text/plain": [
       "pandas.core.indexes.datetimes.DatetimeIndex"
      ]
     },
     "execution_count": 386,
     "metadata": {},
     "output_type": "execute_result"
    }
   ],
   "source": [
    "type(datas)"
   ]
  },
  {
   "cell_type": "code",
   "execution_count": 387,
   "id": "e97f7aca",
   "metadata": {
    "hidden": true
   },
   "outputs": [],
   "source": [
    "df = pd.DataFrame(np.random.randn(6,4), index= datas, columns = list('ABCD'))"
   ]
  },
  {
   "cell_type": "code",
   "execution_count": 388,
   "id": "4a53a4f5",
   "metadata": {
    "hidden": true
   },
   "outputs": [
    {
     "data": {
      "text/html": [
       "<div>\n",
       "<style scoped>\n",
       "    .dataframe tbody tr th:only-of-type {\n",
       "        vertical-align: middle;\n",
       "    }\n",
       "\n",
       "    .dataframe tbody tr th {\n",
       "        vertical-align: top;\n",
       "    }\n",
       "\n",
       "    .dataframe thead th {\n",
       "        text-align: right;\n",
       "    }\n",
       "</style>\n",
       "<table border=\"1\" class=\"dataframe\">\n",
       "  <thead>\n",
       "    <tr style=\"text-align: right;\">\n",
       "      <th></th>\n",
       "      <th>A</th>\n",
       "      <th>B</th>\n",
       "      <th>C</th>\n",
       "      <th>D</th>\n",
       "    </tr>\n",
       "  </thead>\n",
       "  <tbody>\n",
       "    <tr>\n",
       "      <th>2022-01-01</th>\n",
       "      <td>-2.051975</td>\n",
       "      <td>0.752461</td>\n",
       "      <td>-2.065874</td>\n",
       "      <td>-0.657351</td>\n",
       "    </tr>\n",
       "    <tr>\n",
       "      <th>2022-01-02</th>\n",
       "      <td>0.588058</td>\n",
       "      <td>0.886433</td>\n",
       "      <td>-0.051583</td>\n",
       "      <td>0.491012</td>\n",
       "    </tr>\n",
       "    <tr>\n",
       "      <th>2022-01-03</th>\n",
       "      <td>0.706694</td>\n",
       "      <td>0.947890</td>\n",
       "      <td>0.245954</td>\n",
       "      <td>-2.345500</td>\n",
       "    </tr>\n",
       "    <tr>\n",
       "      <th>2022-01-04</th>\n",
       "      <td>0.580628</td>\n",
       "      <td>-0.270224</td>\n",
       "      <td>-0.216148</td>\n",
       "      <td>0.509481</td>\n",
       "    </tr>\n",
       "    <tr>\n",
       "      <th>2022-01-05</th>\n",
       "      <td>0.752368</td>\n",
       "      <td>-1.289725</td>\n",
       "      <td>0.003071</td>\n",
       "      <td>-0.089378</td>\n",
       "    </tr>\n",
       "    <tr>\n",
       "      <th>2022-01-06</th>\n",
       "      <td>0.273114</td>\n",
       "      <td>1.738508</td>\n",
       "      <td>-0.259484</td>\n",
       "      <td>0.496839</td>\n",
       "    </tr>\n",
       "  </tbody>\n",
       "</table>\n",
       "</div>"
      ],
      "text/plain": [
       "                   A         B         C         D\n",
       "2022-01-01 -2.051975  0.752461 -2.065874 -0.657351\n",
       "2022-01-02  0.588058  0.886433 -0.051583  0.491012\n",
       "2022-01-03  0.706694  0.947890  0.245954 -2.345500\n",
       "2022-01-04  0.580628 -0.270224 -0.216148  0.509481\n",
       "2022-01-05  0.752368 -1.289725  0.003071 -0.089378\n",
       "2022-01-06  0.273114  1.738508 -0.259484  0.496839"
      ]
     },
     "execution_count": 388,
     "metadata": {},
     "output_type": "execute_result"
    }
   ],
   "source": [
    "df"
   ]
  },
  {
   "cell_type": "code",
   "execution_count": 389,
   "id": "2b9cfbf3",
   "metadata": {
    "hidden": true
   },
   "outputs": [],
   "source": [
    "df2 = pd.DataFrame({'A': 7,\n",
    "                    'B': pd.Timestamp('20220101'),\n",
    "                    'C': pd.Series(1, index=list(range(4)), dtype = 'float32'),\n",
    "                    'D': np.array([3] * 4, dtype = 'int32'), \n",
    "                    'E': pd.Categorical(['test', 'train', 'test', 'train']),\n",
    "                    'F': 'Python'})"
   ]
  },
  {
   "cell_type": "code",
   "execution_count": 390,
   "id": "a0067612",
   "metadata": {
    "hidden": true
   },
   "outputs": [
    {
     "data": {
      "text/html": [
       "<div>\n",
       "<style scoped>\n",
       "    .dataframe tbody tr th:only-of-type {\n",
       "        vertical-align: middle;\n",
       "    }\n",
       "\n",
       "    .dataframe tbody tr th {\n",
       "        vertical-align: top;\n",
       "    }\n",
       "\n",
       "    .dataframe thead th {\n",
       "        text-align: right;\n",
       "    }\n",
       "</style>\n",
       "<table border=\"1\" class=\"dataframe\">\n",
       "  <thead>\n",
       "    <tr style=\"text-align: right;\">\n",
       "      <th></th>\n",
       "      <th>A</th>\n",
       "      <th>B</th>\n",
       "      <th>C</th>\n",
       "      <th>D</th>\n",
       "      <th>E</th>\n",
       "      <th>F</th>\n",
       "    </tr>\n",
       "  </thead>\n",
       "  <tbody>\n",
       "    <tr>\n",
       "      <th>0</th>\n",
       "      <td>7</td>\n",
       "      <td>2022-01-01</td>\n",
       "      <td>1.0</td>\n",
       "      <td>3</td>\n",
       "      <td>test</td>\n",
       "      <td>Python</td>\n",
       "    </tr>\n",
       "    <tr>\n",
       "      <th>1</th>\n",
       "      <td>7</td>\n",
       "      <td>2022-01-01</td>\n",
       "      <td>1.0</td>\n",
       "      <td>3</td>\n",
       "      <td>train</td>\n",
       "      <td>Python</td>\n",
       "    </tr>\n",
       "    <tr>\n",
       "      <th>2</th>\n",
       "      <td>7</td>\n",
       "      <td>2022-01-01</td>\n",
       "      <td>1.0</td>\n",
       "      <td>3</td>\n",
       "      <td>test</td>\n",
       "      <td>Python</td>\n",
       "    </tr>\n",
       "    <tr>\n",
       "      <th>3</th>\n",
       "      <td>7</td>\n",
       "      <td>2022-01-01</td>\n",
       "      <td>1.0</td>\n",
       "      <td>3</td>\n",
       "      <td>train</td>\n",
       "      <td>Python</td>\n",
       "    </tr>\n",
       "  </tbody>\n",
       "</table>\n",
       "</div>"
      ],
      "text/plain": [
       "   A          B    C  D      E       F\n",
       "0  7 2022-01-01  1.0  3   test  Python\n",
       "1  7 2022-01-01  1.0  3  train  Python\n",
       "2  7 2022-01-01  1.0  3   test  Python\n",
       "3  7 2022-01-01  1.0  3  train  Python"
      ]
     },
     "execution_count": 390,
     "metadata": {},
     "output_type": "execute_result"
    }
   ],
   "source": [
    "df2"
   ]
  },
  {
   "cell_type": "code",
   "execution_count": 391,
   "id": "84f8cb20",
   "metadata": {
    "hidden": true
   },
   "outputs": [
    {
     "data": {
      "text/plain": [
       "A             int64\n",
       "B    datetime64[ns]\n",
       "C           float32\n",
       "D             int32\n",
       "E          category\n",
       "F            object\n",
       "dtype: object"
      ]
     },
     "execution_count": 391,
     "metadata": {},
     "output_type": "execute_result"
    }
   ],
   "source": [
    "df2.dtypes"
   ]
  },
  {
   "cell_type": "markdown",
   "id": "80b65a37",
   "metadata": {
    "heading_collapsed": true
   },
   "source": [
    "## 2.2. Merge "
   ]
  },
  {
   "cell_type": "code",
   "execution_count": 392,
   "id": "f0389fba",
   "metadata": {
    "hidden": true,
    "scrolled": true
   },
   "outputs": [
    {
     "data": {
      "text/html": [
       "<div>\n",
       "<style scoped>\n",
       "    .dataframe tbody tr th:only-of-type {\n",
       "        vertical-align: middle;\n",
       "    }\n",
       "\n",
       "    .dataframe tbody tr th {\n",
       "        vertical-align: top;\n",
       "    }\n",
       "\n",
       "    .dataframe thead th {\n",
       "        text-align: right;\n",
       "    }\n",
       "</style>\n",
       "<table border=\"1\" class=\"dataframe\">\n",
       "  <thead>\n",
       "    <tr style=\"text-align: right;\">\n",
       "      <th></th>\n",
       "      <th>Id</th>\n",
       "      <th>Nome</th>\n",
       "      <th>Idade</th>\n",
       "      <th>CEP</th>\n",
       "    </tr>\n",
       "  </thead>\n",
       "  <tbody>\n",
       "    <tr>\n",
       "      <th>0</th>\n",
       "      <td>AA2930</td>\n",
       "      <td>Victor</td>\n",
       "      <td>20</td>\n",
       "      <td>00092-029</td>\n",
       "    </tr>\n",
       "    <tr>\n",
       "      <th>1</th>\n",
       "      <td>BB4563</td>\n",
       "      <td>Amanda</td>\n",
       "      <td>35</td>\n",
       "      <td>11111-111</td>\n",
       "    </tr>\n",
       "    <tr>\n",
       "      <th>2</th>\n",
       "      <td>CC2139</td>\n",
       "      <td>Bruna</td>\n",
       "      <td>40</td>\n",
       "      <td>22222-888</td>\n",
       "    </tr>\n",
       "    <tr>\n",
       "      <th>3</th>\n",
       "      <td>DE2521</td>\n",
       "      <td>Carlos</td>\n",
       "      <td>54</td>\n",
       "      <td>00000-999</td>\n",
       "    </tr>\n",
       "    <tr>\n",
       "      <th>4</th>\n",
       "      <td>GT3462</td>\n",
       "      <td>Ricardo</td>\n",
       "      <td>30</td>\n",
       "      <td>88888-111</td>\n",
       "    </tr>\n",
       "    <tr>\n",
       "      <th>5</th>\n",
       "      <td>HH1158</td>\n",
       "      <td>Maria</td>\n",
       "      <td>27</td>\n",
       "      <td>77777-666</td>\n",
       "    </tr>\n",
       "  </tbody>\n",
       "</table>\n",
       "</div>"
      ],
      "text/plain": [
       "       Id     Nome  Idade        CEP\n",
       "0  AA2930   Victor     20  00092-029\n",
       "1  BB4563   Amanda     35  11111-111\n",
       "2  CC2139    Bruna     40  22222-888\n",
       "3  DE2521   Carlos     54  00000-999\n",
       "4  GT3462  Ricardo     30  88888-111\n",
       "5  HH1158    Maria     27  77777-666"
      ]
     },
     "execution_count": 392,
     "metadata": {},
     "output_type": "execute_result"
    }
   ],
   "source": [
    "# Cadastro da loja a\n",
    "cadastro_a = {'Id': ['AA2930','BB4563','CC2139','DE2521','GT3462','HH1158'],\n",
    "            'Nome':  ['Victor', 'Amanda', 'Bruna', 'Carlos', 'Ricardo', 'Maria'],\n",
    "            'Idade': [20,35,40,54,30,27],\n",
    "            'CEP': ['00092-029','11111-111','22222-888','00000-999','88888-111','77777-666']\n",
    "           }\n",
    "\n",
    "cadastro_a = pd.DataFrame(cadastro_a, columns = ['Id','Nome','Idade','CEP'])\n",
    "cadastro_a"
   ]
  },
  {
   "cell_type": "code",
   "execution_count": 393,
   "id": "6fb38b65",
   "metadata": {
    "hidden": true,
    "scrolled": false
   },
   "outputs": [
    {
     "data": {
      "text/html": [
       "<div>\n",
       "<style scoped>\n",
       "    .dataframe tbody tr th:only-of-type {\n",
       "        vertical-align: middle;\n",
       "    }\n",
       "\n",
       "    .dataframe tbody tr th {\n",
       "        vertical-align: top;\n",
       "    }\n",
       "\n",
       "    .dataframe thead th {\n",
       "        text-align: right;\n",
       "    }\n",
       "</style>\n",
       "<table border=\"1\" class=\"dataframe\">\n",
       "  <thead>\n",
       "    <tr style=\"text-align: right;\">\n",
       "      <th></th>\n",
       "      <th>Id</th>\n",
       "      <th>Nome</th>\n",
       "      <th>Idade</th>\n",
       "      <th>CEP</th>\n",
       "    </tr>\n",
       "  </thead>\n",
       "  <tbody>\n",
       "    <tr>\n",
       "      <th>0</th>\n",
       "      <td>CC9999</td>\n",
       "      <td>Marcos</td>\n",
       "      <td>19</td>\n",
       "      <td>00092-029</td>\n",
       "    </tr>\n",
       "    <tr>\n",
       "      <th>1</th>\n",
       "      <td>EF4488</td>\n",
       "      <td>Patricia</td>\n",
       "      <td>30</td>\n",
       "      <td>11111-111</td>\n",
       "    </tr>\n",
       "    <tr>\n",
       "      <th>2</th>\n",
       "      <td>DD9999</td>\n",
       "      <td>Ericka</td>\n",
       "      <td>22</td>\n",
       "      <td>11111-888</td>\n",
       "    </tr>\n",
       "    <tr>\n",
       "      <th>3</th>\n",
       "      <td>GT3462</td>\n",
       "      <td>Ricardo</td>\n",
       "      <td>30</td>\n",
       "      <td>88888-111</td>\n",
       "    </tr>\n",
       "    <tr>\n",
       "      <th>4</th>\n",
       "      <td>HH1158</td>\n",
       "      <td>Maria</td>\n",
       "      <td>27</td>\n",
       "      <td>77777-666</td>\n",
       "    </tr>\n",
       "  </tbody>\n",
       "</table>\n",
       "</div>"
      ],
      "text/plain": [
       "       Id      Nome  Idade        CEP\n",
       "0  CC9999    Marcos     19  00092-029\n",
       "1  EF4488  Patricia     30  11111-111\n",
       "2  DD9999    Ericka     22  11111-888\n",
       "3  GT3462   Ricardo     30  88888-111\n",
       "4  HH1158     Maria     27  77777-666"
      ]
     },
     "execution_count": 393,
     "metadata": {},
     "output_type": "execute_result"
    }
   ],
   "source": [
    "# Cadastro da loja b\n",
    "cadastro_b = {'Id': ['CC9999','EF4488','DD9999','GT3462','HH1158'],\n",
    "            'Nome':  ['Marcos', 'Patricia', 'Ericka', 'Ricardo', 'Maria'],\n",
    "            'Idade': [19,30,22,30,27],\n",
    "            'CEP': ['00092-029','11111-111','11111-888','88888-111','77777-666']\n",
    "           }\n",
    " \n",
    "cadastro_b = pd.DataFrame(cadastro_b, columns = ['Id','Nome','Idade','CEP'])\n",
    "cadastro_b"
   ]
  },
  {
   "cell_type": "code",
   "execution_count": 394,
   "id": "ccbd6af6",
   "metadata": {
    "hidden": true,
    "scrolled": false
   },
   "outputs": [
    {
     "data": {
      "text/html": [
       "<div>\n",
       "<style scoped>\n",
       "    .dataframe tbody tr th:only-of-type {\n",
       "        vertical-align: middle;\n",
       "    }\n",
       "\n",
       "    .dataframe tbody tr th {\n",
       "        vertical-align: top;\n",
       "    }\n",
       "\n",
       "    .dataframe thead th {\n",
       "        text-align: right;\n",
       "    }\n",
       "</style>\n",
       "<table border=\"1\" class=\"dataframe\">\n",
       "  <thead>\n",
       "    <tr style=\"text-align: right;\">\n",
       "      <th></th>\n",
       "      <th>Id</th>\n",
       "      <th>Data</th>\n",
       "      <th>Valor</th>\n",
       "    </tr>\n",
       "  </thead>\n",
       "  <tbody>\n",
       "    <tr>\n",
       "      <th>0</th>\n",
       "      <td>AA2930</td>\n",
       "      <td>2019-01-01</td>\n",
       "      <td>200</td>\n",
       "    </tr>\n",
       "    <tr>\n",
       "      <th>1</th>\n",
       "      <td>EF4488</td>\n",
       "      <td>2019-01-30</td>\n",
       "      <td>100</td>\n",
       "    </tr>\n",
       "    <tr>\n",
       "      <th>2</th>\n",
       "      <td>CC2139</td>\n",
       "      <td>2019-01-30</td>\n",
       "      <td>40</td>\n",
       "    </tr>\n",
       "    <tr>\n",
       "      <th>3</th>\n",
       "      <td>EF4488</td>\n",
       "      <td>2019-02-01</td>\n",
       "      <td>150</td>\n",
       "    </tr>\n",
       "    <tr>\n",
       "      <th>4</th>\n",
       "      <td>CC9999</td>\n",
       "      <td>2019-02-20</td>\n",
       "      <td>300</td>\n",
       "    </tr>\n",
       "    <tr>\n",
       "      <th>5</th>\n",
       "      <td>AA2930</td>\n",
       "      <td>2019-03-15</td>\n",
       "      <td>25</td>\n",
       "    </tr>\n",
       "    <tr>\n",
       "      <th>6</th>\n",
       "      <td>HH1158</td>\n",
       "      <td>2019-04-01</td>\n",
       "      <td>50</td>\n",
       "    </tr>\n",
       "    <tr>\n",
       "      <th>7</th>\n",
       "      <td>HH1158</td>\n",
       "      <td>2019-04-10</td>\n",
       "      <td>500</td>\n",
       "    </tr>\n",
       "  </tbody>\n",
       "</table>\n",
       "</div>"
      ],
      "text/plain": [
       "       Id        Data  Valor\n",
       "0  AA2930  2019-01-01    200\n",
       "1  EF4488  2019-01-30    100\n",
       "2  CC2139  2019-01-30     40\n",
       "3  EF4488  2019-02-01    150\n",
       "4  CC9999  2019-02-20    300\n",
       "5  AA2930  2019-03-15     25\n",
       "6  HH1158  2019-04-01     50\n",
       "7  HH1158  2019-04-10    500"
      ]
     },
     "execution_count": 394,
     "metadata": {},
     "output_type": "execute_result"
    }
   ],
   "source": [
    "# Registro de compras de todas unidades\n",
    "compras = {'Id': ['AA2930','EF4488','CC2139','EF4488','CC9999','AA2930','HH1158','HH1158'],\n",
    "            'Data':  ['2019-01-01','2019-01-30','2019-01-30','2019-02-01','2019-02-20','2019-03-15','2019-04-01','2019-04-10'],\n",
    "            'Valor': [200,100,40,150,300,25,50,500]\n",
    "           }\n",
    " \n",
    "compras = pd.DataFrame(compras, columns = ['Id','Data','Valor'])\n",
    "\n",
    "compras"
   ]
  },
  {
   "cell_type": "markdown",
   "id": "61ed0e01",
   "metadata": {
    "hidden": true
   },
   "source": [
    "* Merge **inner join** junta a interceção entre as tabelas"
   ]
  },
  {
   "cell_type": "code",
   "execution_count": 395,
   "id": "2021de31",
   "metadata": {
    "hidden": true,
    "scrolled": true
   },
   "outputs": [
    {
     "data": {
      "text/html": [
       "<div>\n",
       "<style scoped>\n",
       "    .dataframe tbody tr th:only-of-type {\n",
       "        vertical-align: middle;\n",
       "    }\n",
       "\n",
       "    .dataframe tbody tr th {\n",
       "        vertical-align: top;\n",
       "    }\n",
       "\n",
       "    .dataframe thead th {\n",
       "        text-align: right;\n",
       "    }\n",
       "</style>\n",
       "<table border=\"1\" class=\"dataframe\">\n",
       "  <thead>\n",
       "    <tr style=\"text-align: right;\">\n",
       "      <th></th>\n",
       "      <th>Id</th>\n",
       "      <th>Nome</th>\n",
       "      <th>Idade_A</th>\n",
       "      <th>CEP_A</th>\n",
       "      <th>Idade_B</th>\n",
       "      <th>CEP_B</th>\n",
       "    </tr>\n",
       "  </thead>\n",
       "  <tbody>\n",
       "    <tr>\n",
       "      <th>0</th>\n",
       "      <td>GT3462</td>\n",
       "      <td>Ricardo</td>\n",
       "      <td>30</td>\n",
       "      <td>88888-111</td>\n",
       "      <td>30</td>\n",
       "      <td>88888-111</td>\n",
       "    </tr>\n",
       "    <tr>\n",
       "      <th>1</th>\n",
       "      <td>HH1158</td>\n",
       "      <td>Maria</td>\n",
       "      <td>27</td>\n",
       "      <td>77777-666</td>\n",
       "      <td>27</td>\n",
       "      <td>77777-666</td>\n",
       "    </tr>\n",
       "  </tbody>\n",
       "</table>\n",
       "</div>"
      ],
      "text/plain": [
       "       Id     Nome  Idade_A      CEP_A  Idade_B      CEP_B\n",
       "0  GT3462  Ricardo       30  88888-111       30  88888-111\n",
       "1  HH1158    Maria       27  77777-666       27  77777-666"
      ]
     },
     "execution_count": 395,
     "metadata": {},
     "output_type": "execute_result"
    }
   ],
   "source": [
    "pd.merge(cadastro_a, cadastro_b[['Id', 'Idade', 'CEP']], on= ['Id'], how='inner', suffixes= ('_A', '_B'))"
   ]
  },
  {
   "cell_type": "markdown",
   "id": "243df605",
   "metadata": {
    "hidden": true
   },
   "source": [
    "* Merge **full join** junta a todas as informações das tabelas"
   ]
  },
  {
   "cell_type": "code",
   "execution_count": 396,
   "id": "c52daa88",
   "metadata": {
    "hidden": true
   },
   "outputs": [],
   "source": [
    "lojas = pd.concat([cadastro_a, cadastro_b], ignore_index= True)"
   ]
  },
  {
   "cell_type": "code",
   "execution_count": 397,
   "id": "2c4191e8",
   "metadata": {
    "hidden": true
   },
   "outputs": [],
   "source": [
    "clientes_unicos = lojas.drop_duplicates(subset=['Id'])"
   ]
  },
  {
   "cell_type": "code",
   "execution_count": 398,
   "id": "a76b2d84",
   "metadata": {
    "hidden": true,
    "scrolled": true
   },
   "outputs": [
    {
     "data": {
      "text/html": [
       "<div>\n",
       "<style scoped>\n",
       "    .dataframe tbody tr th:only-of-type {\n",
       "        vertical-align: middle;\n",
       "    }\n",
       "\n",
       "    .dataframe tbody tr th {\n",
       "        vertical-align: top;\n",
       "    }\n",
       "\n",
       "    .dataframe thead th {\n",
       "        text-align: right;\n",
       "    }\n",
       "</style>\n",
       "<table border=\"1\" class=\"dataframe\">\n",
       "  <thead>\n",
       "    <tr style=\"text-align: right;\">\n",
       "      <th></th>\n",
       "      <th>Id</th>\n",
       "      <th>Nome</th>\n",
       "      <th>Idade</th>\n",
       "      <th>CEP</th>\n",
       "    </tr>\n",
       "  </thead>\n",
       "  <tbody>\n",
       "    <tr>\n",
       "      <th>0</th>\n",
       "      <td>AA2930</td>\n",
       "      <td>Victor</td>\n",
       "      <td>20</td>\n",
       "      <td>00092-029</td>\n",
       "    </tr>\n",
       "    <tr>\n",
       "      <th>1</th>\n",
       "      <td>BB4563</td>\n",
       "      <td>Amanda</td>\n",
       "      <td>35</td>\n",
       "      <td>11111-111</td>\n",
       "    </tr>\n",
       "    <tr>\n",
       "      <th>2</th>\n",
       "      <td>CC2139</td>\n",
       "      <td>Bruna</td>\n",
       "      <td>40</td>\n",
       "      <td>22222-888</td>\n",
       "    </tr>\n",
       "    <tr>\n",
       "      <th>3</th>\n",
       "      <td>DE2521</td>\n",
       "      <td>Carlos</td>\n",
       "      <td>54</td>\n",
       "      <td>00000-999</td>\n",
       "    </tr>\n",
       "    <tr>\n",
       "      <th>4</th>\n",
       "      <td>GT3462</td>\n",
       "      <td>Ricardo</td>\n",
       "      <td>30</td>\n",
       "      <td>88888-111</td>\n",
       "    </tr>\n",
       "    <tr>\n",
       "      <th>5</th>\n",
       "      <td>HH1158</td>\n",
       "      <td>Maria</td>\n",
       "      <td>27</td>\n",
       "      <td>77777-666</td>\n",
       "    </tr>\n",
       "    <tr>\n",
       "      <th>6</th>\n",
       "      <td>CC9999</td>\n",
       "      <td>Marcos</td>\n",
       "      <td>19</td>\n",
       "      <td>00092-029</td>\n",
       "    </tr>\n",
       "    <tr>\n",
       "      <th>7</th>\n",
       "      <td>EF4488</td>\n",
       "      <td>Patricia</td>\n",
       "      <td>30</td>\n",
       "      <td>11111-111</td>\n",
       "    </tr>\n",
       "    <tr>\n",
       "      <th>8</th>\n",
       "      <td>DD9999</td>\n",
       "      <td>Ericka</td>\n",
       "      <td>22</td>\n",
       "      <td>11111-888</td>\n",
       "    </tr>\n",
       "  </tbody>\n",
       "</table>\n",
       "</div>"
      ],
      "text/plain": [
       "       Id      Nome  Idade        CEP\n",
       "0  AA2930    Victor     20  00092-029\n",
       "1  BB4563    Amanda     35  11111-111\n",
       "2  CC2139     Bruna     40  22222-888\n",
       "3  DE2521    Carlos     54  00000-999\n",
       "4  GT3462   Ricardo     30  88888-111\n",
       "5  HH1158     Maria     27  77777-666\n",
       "6  CC9999    Marcos     19  00092-029\n",
       "7  EF4488  Patricia     30  11111-111\n",
       "8  DD9999    Ericka     22  11111-888"
      ]
     },
     "execution_count": 398,
     "metadata": {},
     "output_type": "execute_result"
    }
   ],
   "source": [
    "clientes_unicos"
   ]
  },
  {
   "cell_type": "markdown",
   "id": "56bf2238",
   "metadata": {
    "hidden": true
   },
   "source": [
    "* Merge **left join** junta informações do lado esquerdo da tabela "
   ]
  },
  {
   "cell_type": "code",
   "execution_count": 399,
   "id": "81fe873d",
   "metadata": {
    "hidden": true,
    "scrolled": true
   },
   "outputs": [],
   "source": [
    "esquerda = pd.merge(cadastro_a, compras, how='left', on=['Id'])"
   ]
  },
  {
   "cell_type": "code",
   "execution_count": 400,
   "id": "a83b8568",
   "metadata": {
    "hidden": true,
    "scrolled": true
   },
   "outputs": [
    {
     "data": {
      "text/html": [
       "<div>\n",
       "<style scoped>\n",
       "    .dataframe tbody tr th:only-of-type {\n",
       "        vertical-align: middle;\n",
       "    }\n",
       "\n",
       "    .dataframe tbody tr th {\n",
       "        vertical-align: top;\n",
       "    }\n",
       "\n",
       "    .dataframe thead th {\n",
       "        text-align: right;\n",
       "    }\n",
       "</style>\n",
       "<table border=\"1\" class=\"dataframe\">\n",
       "  <thead>\n",
       "    <tr style=\"text-align: right;\">\n",
       "      <th></th>\n",
       "      <th>Id</th>\n",
       "      <th>Data</th>\n",
       "      <th>Valor</th>\n",
       "    </tr>\n",
       "  </thead>\n",
       "  <tbody>\n",
       "    <tr>\n",
       "      <th>0</th>\n",
       "      <td>AA2930</td>\n",
       "      <td>2019-01-01</td>\n",
       "      <td>200</td>\n",
       "    </tr>\n",
       "    <tr>\n",
       "      <th>1</th>\n",
       "      <td>EF4488</td>\n",
       "      <td>2019-01-30</td>\n",
       "      <td>100</td>\n",
       "    </tr>\n",
       "    <tr>\n",
       "      <th>2</th>\n",
       "      <td>CC2139</td>\n",
       "      <td>2019-01-30</td>\n",
       "      <td>40</td>\n",
       "    </tr>\n",
       "    <tr>\n",
       "      <th>3</th>\n",
       "      <td>EF4488</td>\n",
       "      <td>2019-02-01</td>\n",
       "      <td>150</td>\n",
       "    </tr>\n",
       "    <tr>\n",
       "      <th>4</th>\n",
       "      <td>CC9999</td>\n",
       "      <td>2019-02-20</td>\n",
       "      <td>300</td>\n",
       "    </tr>\n",
       "    <tr>\n",
       "      <th>5</th>\n",
       "      <td>AA2930</td>\n",
       "      <td>2019-03-15</td>\n",
       "      <td>25</td>\n",
       "    </tr>\n",
       "    <tr>\n",
       "      <th>6</th>\n",
       "      <td>HH1158</td>\n",
       "      <td>2019-04-01</td>\n",
       "      <td>50</td>\n",
       "    </tr>\n",
       "    <tr>\n",
       "      <th>7</th>\n",
       "      <td>HH1158</td>\n",
       "      <td>2019-04-10</td>\n",
       "      <td>500</td>\n",
       "    </tr>\n",
       "  </tbody>\n",
       "</table>\n",
       "</div>"
      ],
      "text/plain": [
       "       Id        Data  Valor\n",
       "0  AA2930  2019-01-01    200\n",
       "1  EF4488  2019-01-30    100\n",
       "2  CC2139  2019-01-30     40\n",
       "3  EF4488  2019-02-01    150\n",
       "4  CC9999  2019-02-20    300\n",
       "5  AA2930  2019-03-15     25\n",
       "6  HH1158  2019-04-01     50\n",
       "7  HH1158  2019-04-10    500"
      ]
     },
     "execution_count": 400,
     "metadata": {},
     "output_type": "execute_result"
    }
   ],
   "source": [
    "compras"
   ]
  },
  {
   "cell_type": "code",
   "execution_count": 401,
   "id": "751107f5",
   "metadata": {
    "hidden": true
   },
   "outputs": [
    {
     "data": {
      "text/html": [
       "<div>\n",
       "<style scoped>\n",
       "    .dataframe tbody tr th:only-of-type {\n",
       "        vertical-align: middle;\n",
       "    }\n",
       "\n",
       "    .dataframe tbody tr th {\n",
       "        vertical-align: top;\n",
       "    }\n",
       "\n",
       "    .dataframe thead th {\n",
       "        text-align: right;\n",
       "    }\n",
       "</style>\n",
       "<table border=\"1\" class=\"dataframe\">\n",
       "  <thead>\n",
       "    <tr style=\"text-align: right;\">\n",
       "      <th></th>\n",
       "      <th>Id</th>\n",
       "      <th>Nome</th>\n",
       "      <th>Idade</th>\n",
       "      <th>CEP</th>\n",
       "    </tr>\n",
       "  </thead>\n",
       "  <tbody>\n",
       "    <tr>\n",
       "      <th>0</th>\n",
       "      <td>AA2930</td>\n",
       "      <td>Victor</td>\n",
       "      <td>20</td>\n",
       "      <td>00092-029</td>\n",
       "    </tr>\n",
       "    <tr>\n",
       "      <th>1</th>\n",
       "      <td>BB4563</td>\n",
       "      <td>Amanda</td>\n",
       "      <td>35</td>\n",
       "      <td>11111-111</td>\n",
       "    </tr>\n",
       "    <tr>\n",
       "      <th>2</th>\n",
       "      <td>CC2139</td>\n",
       "      <td>Bruna</td>\n",
       "      <td>40</td>\n",
       "      <td>22222-888</td>\n",
       "    </tr>\n",
       "    <tr>\n",
       "      <th>3</th>\n",
       "      <td>DE2521</td>\n",
       "      <td>Carlos</td>\n",
       "      <td>54</td>\n",
       "      <td>00000-999</td>\n",
       "    </tr>\n",
       "    <tr>\n",
       "      <th>4</th>\n",
       "      <td>GT3462</td>\n",
       "      <td>Ricardo</td>\n",
       "      <td>30</td>\n",
       "      <td>88888-111</td>\n",
       "    </tr>\n",
       "    <tr>\n",
       "      <th>5</th>\n",
       "      <td>HH1158</td>\n",
       "      <td>Maria</td>\n",
       "      <td>27</td>\n",
       "      <td>77777-666</td>\n",
       "    </tr>\n",
       "  </tbody>\n",
       "</table>\n",
       "</div>"
      ],
      "text/plain": [
       "       Id     Nome  Idade        CEP\n",
       "0  AA2930   Victor     20  00092-029\n",
       "1  BB4563   Amanda     35  11111-111\n",
       "2  CC2139    Bruna     40  22222-888\n",
       "3  DE2521   Carlos     54  00000-999\n",
       "4  GT3462  Ricardo     30  88888-111\n",
       "5  HH1158    Maria     27  77777-666"
      ]
     },
     "execution_count": 401,
     "metadata": {},
     "output_type": "execute_result"
    }
   ],
   "source": [
    "cadastro_a"
   ]
  },
  {
   "cell_type": "code",
   "execution_count": 402,
   "id": "94bded05",
   "metadata": {
    "hidden": true,
    "scrolled": false
   },
   "outputs": [
    {
     "data": {
      "text/html": [
       "<div>\n",
       "<style scoped>\n",
       "    .dataframe tbody tr th:only-of-type {\n",
       "        vertical-align: middle;\n",
       "    }\n",
       "\n",
       "    .dataframe tbody tr th {\n",
       "        vertical-align: top;\n",
       "    }\n",
       "\n",
       "    .dataframe thead th {\n",
       "        text-align: right;\n",
       "    }\n",
       "</style>\n",
       "<table border=\"1\" class=\"dataframe\">\n",
       "  <thead>\n",
       "    <tr style=\"text-align: right;\">\n",
       "      <th></th>\n",
       "      <th>Id</th>\n",
       "      <th>Nome</th>\n",
       "      <th>Idade</th>\n",
       "      <th>CEP</th>\n",
       "      <th>Data</th>\n",
       "      <th>Valor</th>\n",
       "    </tr>\n",
       "  </thead>\n",
       "  <tbody>\n",
       "    <tr>\n",
       "      <th>0</th>\n",
       "      <td>AA2930</td>\n",
       "      <td>Victor</td>\n",
       "      <td>20</td>\n",
       "      <td>00092-029</td>\n",
       "      <td>2019-01-01</td>\n",
       "      <td>200.0</td>\n",
       "    </tr>\n",
       "    <tr>\n",
       "      <th>1</th>\n",
       "      <td>AA2930</td>\n",
       "      <td>Victor</td>\n",
       "      <td>20</td>\n",
       "      <td>00092-029</td>\n",
       "      <td>2019-03-15</td>\n",
       "      <td>25.0</td>\n",
       "    </tr>\n",
       "    <tr>\n",
       "      <th>2</th>\n",
       "      <td>BB4563</td>\n",
       "      <td>Amanda</td>\n",
       "      <td>35</td>\n",
       "      <td>11111-111</td>\n",
       "      <td>NaN</td>\n",
       "      <td>NaN</td>\n",
       "    </tr>\n",
       "    <tr>\n",
       "      <th>3</th>\n",
       "      <td>CC2139</td>\n",
       "      <td>Bruna</td>\n",
       "      <td>40</td>\n",
       "      <td>22222-888</td>\n",
       "      <td>2019-01-30</td>\n",
       "      <td>40.0</td>\n",
       "    </tr>\n",
       "    <tr>\n",
       "      <th>4</th>\n",
       "      <td>DE2521</td>\n",
       "      <td>Carlos</td>\n",
       "      <td>54</td>\n",
       "      <td>00000-999</td>\n",
       "      <td>NaN</td>\n",
       "      <td>NaN</td>\n",
       "    </tr>\n",
       "    <tr>\n",
       "      <th>5</th>\n",
       "      <td>GT3462</td>\n",
       "      <td>Ricardo</td>\n",
       "      <td>30</td>\n",
       "      <td>88888-111</td>\n",
       "      <td>NaN</td>\n",
       "      <td>NaN</td>\n",
       "    </tr>\n",
       "    <tr>\n",
       "      <th>6</th>\n",
       "      <td>HH1158</td>\n",
       "      <td>Maria</td>\n",
       "      <td>27</td>\n",
       "      <td>77777-666</td>\n",
       "      <td>2019-04-01</td>\n",
       "      <td>50.0</td>\n",
       "    </tr>\n",
       "    <tr>\n",
       "      <th>7</th>\n",
       "      <td>HH1158</td>\n",
       "      <td>Maria</td>\n",
       "      <td>27</td>\n",
       "      <td>77777-666</td>\n",
       "      <td>2019-04-10</td>\n",
       "      <td>500.0</td>\n",
       "    </tr>\n",
       "  </tbody>\n",
       "</table>\n",
       "</div>"
      ],
      "text/plain": [
       "       Id     Nome  Idade        CEP        Data  Valor\n",
       "0  AA2930   Victor     20  00092-029  2019-01-01  200.0\n",
       "1  AA2930   Victor     20  00092-029  2019-03-15   25.0\n",
       "2  BB4563   Amanda     35  11111-111         NaN    NaN\n",
       "3  CC2139    Bruna     40  22222-888  2019-01-30   40.0\n",
       "4  DE2521   Carlos     54  00000-999         NaN    NaN\n",
       "5  GT3462  Ricardo     30  88888-111         NaN    NaN\n",
       "6  HH1158    Maria     27  77777-666  2019-04-01   50.0\n",
       "7  HH1158    Maria     27  77777-666  2019-04-10  500.0"
      ]
     },
     "execution_count": 402,
     "metadata": {},
     "output_type": "execute_result"
    }
   ],
   "source": [
    "esquerda"
   ]
  },
  {
   "cell_type": "code",
   "execution_count": 403,
   "id": "7921212c",
   "metadata": {
    "hidden": true,
    "scrolled": true
   },
   "outputs": [
    {
     "data": {
      "text/plain": [
       "Id      Nome   \n",
       "AA2930  Victor     225.0\n",
       "BB4563  Amanda       0.0\n",
       "CC2139  Bruna       40.0\n",
       "DE2521  Carlos       0.0\n",
       "GT3462  Ricardo      0.0\n",
       "HH1158  Maria      550.0\n",
       "Name: Valor, dtype: float64"
      ]
     },
     "execution_count": 403,
     "metadata": {},
     "output_type": "execute_result"
    }
   ],
   "source": [
    "esquerda.groupby(['Id', 'Nome'])['Valor'].sum()"
   ]
  },
  {
   "cell_type": "markdown",
   "id": "72c07ba4",
   "metadata": {
    "heading_collapsed": true
   },
   "source": [
    "## 2.3. Groupby "
   ]
  },
  {
   "cell_type": "code",
   "execution_count": 404,
   "id": "2914940d",
   "metadata": {
    "hidden": true
   },
   "outputs": [],
   "source": [
    "dfg = pd.DataFrame({'A': ['verdadeiro', 'falso', 'verdadeiro', 'falso', 'verdadeiro', 'falso', 'verdadeiro', 'falso'],\n",
    "                    \n",
    "                    'B': ['um', 'um', 'dois', 'tres', 'dois', ' dois', 'um ', 'tres'],\n",
    "                    \n",
    "                    'C': np.random.randn(8),\n",
    "                    \n",
    "                    'D': np.random.randn(8)})"
   ]
  },
  {
   "cell_type": "code",
   "execution_count": 405,
   "id": "4d573ed0",
   "metadata": {
    "hidden": true
   },
   "outputs": [
    {
     "data": {
      "text/html": [
       "<div>\n",
       "<style scoped>\n",
       "    .dataframe tbody tr th:only-of-type {\n",
       "        vertical-align: middle;\n",
       "    }\n",
       "\n",
       "    .dataframe tbody tr th {\n",
       "        vertical-align: top;\n",
       "    }\n",
       "\n",
       "    .dataframe thead th {\n",
       "        text-align: right;\n",
       "    }\n",
       "</style>\n",
       "<table border=\"1\" class=\"dataframe\">\n",
       "  <thead>\n",
       "    <tr style=\"text-align: right;\">\n",
       "      <th></th>\n",
       "      <th>A</th>\n",
       "      <th>B</th>\n",
       "      <th>C</th>\n",
       "      <th>D</th>\n",
       "    </tr>\n",
       "  </thead>\n",
       "  <tbody>\n",
       "    <tr>\n",
       "      <th>0</th>\n",
       "      <td>verdadeiro</td>\n",
       "      <td>um</td>\n",
       "      <td>1.702891</td>\n",
       "      <td>-1.644407</td>\n",
       "    </tr>\n",
       "    <tr>\n",
       "      <th>1</th>\n",
       "      <td>falso</td>\n",
       "      <td>um</td>\n",
       "      <td>-1.325091</td>\n",
       "      <td>-0.795486</td>\n",
       "    </tr>\n",
       "    <tr>\n",
       "      <th>2</th>\n",
       "      <td>verdadeiro</td>\n",
       "      <td>dois</td>\n",
       "      <td>1.274289</td>\n",
       "      <td>0.822244</td>\n",
       "    </tr>\n",
       "    <tr>\n",
       "      <th>3</th>\n",
       "      <td>falso</td>\n",
       "      <td>tres</td>\n",
       "      <td>0.429365</td>\n",
       "      <td>0.482464</td>\n",
       "    </tr>\n",
       "    <tr>\n",
       "      <th>4</th>\n",
       "      <td>verdadeiro</td>\n",
       "      <td>dois</td>\n",
       "      <td>-1.587241</td>\n",
       "      <td>2.802827</td>\n",
       "    </tr>\n",
       "    <tr>\n",
       "      <th>5</th>\n",
       "      <td>falso</td>\n",
       "      <td>dois</td>\n",
       "      <td>-1.377658</td>\n",
       "      <td>-1.588280</td>\n",
       "    </tr>\n",
       "    <tr>\n",
       "      <th>6</th>\n",
       "      <td>verdadeiro</td>\n",
       "      <td>um</td>\n",
       "      <td>-0.511941</td>\n",
       "      <td>-0.411800</td>\n",
       "    </tr>\n",
       "    <tr>\n",
       "      <th>7</th>\n",
       "      <td>falso</td>\n",
       "      <td>tres</td>\n",
       "      <td>0.345326</td>\n",
       "      <td>1.260844</td>\n",
       "    </tr>\n",
       "  </tbody>\n",
       "</table>\n",
       "</div>"
      ],
      "text/plain": [
       "            A      B         C         D\n",
       "0  verdadeiro     um  1.702891 -1.644407\n",
       "1       falso     um -1.325091 -0.795486\n",
       "2  verdadeiro   dois  1.274289  0.822244\n",
       "3       falso   tres  0.429365  0.482464\n",
       "4  verdadeiro   dois -1.587241  2.802827\n",
       "5       falso   dois -1.377658 -1.588280\n",
       "6  verdadeiro    um  -0.511941 -0.411800\n",
       "7       falso   tres  0.345326  1.260844"
      ]
     },
     "execution_count": 405,
     "metadata": {},
     "output_type": "execute_result"
    }
   ],
   "source": [
    "dfg"
   ]
  },
  {
   "cell_type": "markdown",
   "id": "fc3fba7f",
   "metadata": {
    "heading_collapsed": true,
    "hidden": true
   },
   "source": [
    "#### Soma dos valores das colunas baseada na coluna A"
   ]
  },
  {
   "cell_type": "code",
   "execution_count": 406,
   "id": "642ebe5d",
   "metadata": {
    "hidden": true,
    "scrolled": false
   },
   "outputs": [
    {
     "data": {
      "text/html": [
       "<div>\n",
       "<style scoped>\n",
       "    .dataframe tbody tr th:only-of-type {\n",
       "        vertical-align: middle;\n",
       "    }\n",
       "\n",
       "    .dataframe tbody tr th {\n",
       "        vertical-align: top;\n",
       "    }\n",
       "\n",
       "    .dataframe thead th {\n",
       "        text-align: right;\n",
       "    }\n",
       "</style>\n",
       "<table border=\"1\" class=\"dataframe\">\n",
       "  <thead>\n",
       "    <tr style=\"text-align: right;\">\n",
       "      <th></th>\n",
       "      <th>C</th>\n",
       "      <th>D</th>\n",
       "    </tr>\n",
       "    <tr>\n",
       "      <th>A</th>\n",
       "      <th></th>\n",
       "      <th></th>\n",
       "    </tr>\n",
       "  </thead>\n",
       "  <tbody>\n",
       "    <tr>\n",
       "      <th>falso</th>\n",
       "      <td>-1.928058</td>\n",
       "      <td>-0.640457</td>\n",
       "    </tr>\n",
       "    <tr>\n",
       "      <th>verdadeiro</th>\n",
       "      <td>0.877998</td>\n",
       "      <td>1.568865</td>\n",
       "    </tr>\n",
       "  </tbody>\n",
       "</table>\n",
       "</div>"
      ],
      "text/plain": [
       "                   C         D\n",
       "A                             \n",
       "falso      -1.928058 -0.640457\n",
       "verdadeiro  0.877998  1.568865"
      ]
     },
     "execution_count": 406,
     "metadata": {},
     "output_type": "execute_result"
    }
   ],
   "source": [
    "dfg.groupby(['A']).sum()"
   ]
  },
  {
   "cell_type": "markdown",
   "id": "233a711d",
   "metadata": {
    "heading_collapsed": true,
    "hidden": true
   },
   "source": [
    "#### Média dos valores das colunas baseada na coluna A"
   ]
  },
  {
   "cell_type": "code",
   "execution_count": 407,
   "id": "21da4e6d",
   "metadata": {
    "hidden": true
   },
   "outputs": [
    {
     "data": {
      "text/html": [
       "<div>\n",
       "<style scoped>\n",
       "    .dataframe tbody tr th:only-of-type {\n",
       "        vertical-align: middle;\n",
       "    }\n",
       "\n",
       "    .dataframe tbody tr th {\n",
       "        vertical-align: top;\n",
       "    }\n",
       "\n",
       "    .dataframe thead th {\n",
       "        text-align: right;\n",
       "    }\n",
       "</style>\n",
       "<table border=\"1\" class=\"dataframe\">\n",
       "  <thead>\n",
       "    <tr style=\"text-align: right;\">\n",
       "      <th></th>\n",
       "      <th>C</th>\n",
       "      <th>D</th>\n",
       "    </tr>\n",
       "    <tr>\n",
       "      <th>A</th>\n",
       "      <th></th>\n",
       "      <th></th>\n",
       "    </tr>\n",
       "  </thead>\n",
       "  <tbody>\n",
       "    <tr>\n",
       "      <th>falso</th>\n",
       "      <td>-0.482014</td>\n",
       "      <td>-0.160114</td>\n",
       "    </tr>\n",
       "    <tr>\n",
       "      <th>verdadeiro</th>\n",
       "      <td>0.219500</td>\n",
       "      <td>0.392216</td>\n",
       "    </tr>\n",
       "  </tbody>\n",
       "</table>\n",
       "</div>"
      ],
      "text/plain": [
       "                   C         D\n",
       "A                             \n",
       "falso      -0.482014 -0.160114\n",
       "verdadeiro  0.219500  0.392216"
      ]
     },
     "execution_count": 407,
     "metadata": {},
     "output_type": "execute_result"
    }
   ],
   "source": [
    "dfg.groupby(['A']).mean()"
   ]
  },
  {
   "cell_type": "markdown",
   "id": "ce76dd69",
   "metadata": {
    "heading_collapsed": true,
    "hidden": true
   },
   "source": [
    "#### Soma dos valores das colunas baseada na coluna B"
   ]
  },
  {
   "cell_type": "code",
   "execution_count": 408,
   "id": "9df408ce",
   "metadata": {
    "hidden": true
   },
   "outputs": [
    {
     "data": {
      "text/html": [
       "<div>\n",
       "<style scoped>\n",
       "    .dataframe tbody tr th:only-of-type {\n",
       "        vertical-align: middle;\n",
       "    }\n",
       "\n",
       "    .dataframe tbody tr th {\n",
       "        vertical-align: top;\n",
       "    }\n",
       "\n",
       "    .dataframe thead th {\n",
       "        text-align: right;\n",
       "    }\n",
       "</style>\n",
       "<table border=\"1\" class=\"dataframe\">\n",
       "  <thead>\n",
       "    <tr style=\"text-align: right;\">\n",
       "      <th></th>\n",
       "      <th>C</th>\n",
       "      <th>D</th>\n",
       "    </tr>\n",
       "    <tr>\n",
       "      <th>B</th>\n",
       "      <th></th>\n",
       "      <th></th>\n",
       "    </tr>\n",
       "  </thead>\n",
       "  <tbody>\n",
       "    <tr>\n",
       "      <th>dois</th>\n",
       "      <td>-1.377658</td>\n",
       "      <td>-1.588280</td>\n",
       "    </tr>\n",
       "    <tr>\n",
       "      <th>dois</th>\n",
       "      <td>-0.312952</td>\n",
       "      <td>3.625071</td>\n",
       "    </tr>\n",
       "    <tr>\n",
       "      <th>tres</th>\n",
       "      <td>0.774691</td>\n",
       "      <td>1.743308</td>\n",
       "    </tr>\n",
       "    <tr>\n",
       "      <th>um</th>\n",
       "      <td>0.377800</td>\n",
       "      <td>-2.439893</td>\n",
       "    </tr>\n",
       "    <tr>\n",
       "      <th>um</th>\n",
       "      <td>-0.511941</td>\n",
       "      <td>-0.411800</td>\n",
       "    </tr>\n",
       "  </tbody>\n",
       "</table>\n",
       "</div>"
      ],
      "text/plain": [
       "              C         D\n",
       "B                        \n",
       " dois -1.377658 -1.588280\n",
       "dois  -0.312952  3.625071\n",
       "tres   0.774691  1.743308\n",
       "um     0.377800 -2.439893\n",
       "um    -0.511941 -0.411800"
      ]
     },
     "execution_count": 408,
     "metadata": {},
     "output_type": "execute_result"
    }
   ],
   "source": [
    "dfg.groupby(['B']).sum()"
   ]
  },
  {
   "cell_type": "markdown",
   "id": "6c3116da",
   "metadata": {
    "heading_collapsed": true,
    "hidden": true
   },
   "source": [
    "#### Média dos valores das colunas baseada na coluna B"
   ]
  },
  {
   "cell_type": "code",
   "execution_count": 409,
   "id": "8bb914c1",
   "metadata": {
    "hidden": true,
    "scrolled": true
   },
   "outputs": [
    {
     "data": {
      "text/html": [
       "<div>\n",
       "<style scoped>\n",
       "    .dataframe tbody tr th:only-of-type {\n",
       "        vertical-align: middle;\n",
       "    }\n",
       "\n",
       "    .dataframe tbody tr th {\n",
       "        vertical-align: top;\n",
       "    }\n",
       "\n",
       "    .dataframe thead th {\n",
       "        text-align: right;\n",
       "    }\n",
       "</style>\n",
       "<table border=\"1\" class=\"dataframe\">\n",
       "  <thead>\n",
       "    <tr style=\"text-align: right;\">\n",
       "      <th></th>\n",
       "      <th>C</th>\n",
       "      <th>D</th>\n",
       "    </tr>\n",
       "    <tr>\n",
       "      <th>B</th>\n",
       "      <th></th>\n",
       "      <th></th>\n",
       "    </tr>\n",
       "  </thead>\n",
       "  <tbody>\n",
       "    <tr>\n",
       "      <th>dois</th>\n",
       "      <td>-1.377658</td>\n",
       "      <td>-1.588280</td>\n",
       "    </tr>\n",
       "    <tr>\n",
       "      <th>dois</th>\n",
       "      <td>-0.156476</td>\n",
       "      <td>1.812536</td>\n",
       "    </tr>\n",
       "    <tr>\n",
       "      <th>tres</th>\n",
       "      <td>0.387346</td>\n",
       "      <td>0.871654</td>\n",
       "    </tr>\n",
       "    <tr>\n",
       "      <th>um</th>\n",
       "      <td>0.188900</td>\n",
       "      <td>-1.219946</td>\n",
       "    </tr>\n",
       "    <tr>\n",
       "      <th>um</th>\n",
       "      <td>-0.511941</td>\n",
       "      <td>-0.411800</td>\n",
       "    </tr>\n",
       "  </tbody>\n",
       "</table>\n",
       "</div>"
      ],
      "text/plain": [
       "              C         D\n",
       "B                        \n",
       " dois -1.377658 -1.588280\n",
       "dois  -0.156476  1.812536\n",
       "tres   0.387346  0.871654\n",
       "um     0.188900 -1.219946\n",
       "um    -0.511941 -0.411800"
      ]
     },
     "execution_count": 409,
     "metadata": {},
     "output_type": "execute_result"
    }
   ],
   "source": [
    "dfg.groupby(['B']).mean()"
   ]
  },
  {
   "cell_type": "markdown",
   "id": "b66d02af",
   "metadata": {
    "heading_collapsed": true,
    "hidden": true
   },
   "source": [
    "#### Soma dos valores das colunas baseada nas colunas A e B"
   ]
  },
  {
   "cell_type": "code",
   "execution_count": 410,
   "id": "f8d1067d",
   "metadata": {
    "hidden": true,
    "scrolled": true
   },
   "outputs": [
    {
     "data": {
      "text/html": [
       "<div>\n",
       "<style scoped>\n",
       "    .dataframe tbody tr th:only-of-type {\n",
       "        vertical-align: middle;\n",
       "    }\n",
       "\n",
       "    .dataframe tbody tr th {\n",
       "        vertical-align: top;\n",
       "    }\n",
       "\n",
       "    .dataframe thead th {\n",
       "        text-align: right;\n",
       "    }\n",
       "</style>\n",
       "<table border=\"1\" class=\"dataframe\">\n",
       "  <thead>\n",
       "    <tr style=\"text-align: right;\">\n",
       "      <th></th>\n",
       "      <th></th>\n",
       "      <th>C</th>\n",
       "      <th>D</th>\n",
       "    </tr>\n",
       "    <tr>\n",
       "      <th>A</th>\n",
       "      <th>B</th>\n",
       "      <th></th>\n",
       "      <th></th>\n",
       "    </tr>\n",
       "  </thead>\n",
       "  <tbody>\n",
       "    <tr>\n",
       "      <th rowspan=\"3\" valign=\"top\">falso</th>\n",
       "      <th>dois</th>\n",
       "      <td>-1.377658</td>\n",
       "      <td>-1.588280</td>\n",
       "    </tr>\n",
       "    <tr>\n",
       "      <th>tres</th>\n",
       "      <td>0.774691</td>\n",
       "      <td>1.743308</td>\n",
       "    </tr>\n",
       "    <tr>\n",
       "      <th>um</th>\n",
       "      <td>-1.325091</td>\n",
       "      <td>-0.795486</td>\n",
       "    </tr>\n",
       "    <tr>\n",
       "      <th rowspan=\"3\" valign=\"top\">verdadeiro</th>\n",
       "      <th>dois</th>\n",
       "      <td>-0.312952</td>\n",
       "      <td>3.625071</td>\n",
       "    </tr>\n",
       "    <tr>\n",
       "      <th>um</th>\n",
       "      <td>1.702891</td>\n",
       "      <td>-1.644407</td>\n",
       "    </tr>\n",
       "    <tr>\n",
       "      <th>um</th>\n",
       "      <td>-0.511941</td>\n",
       "      <td>-0.411800</td>\n",
       "    </tr>\n",
       "  </tbody>\n",
       "</table>\n",
       "</div>"
      ],
      "text/plain": [
       "                         C         D\n",
       "A          B                        \n",
       "falso       dois -1.377658 -1.588280\n",
       "           tres   0.774691  1.743308\n",
       "           um    -1.325091 -0.795486\n",
       "verdadeiro dois  -0.312952  3.625071\n",
       "           um     1.702891 -1.644407\n",
       "           um    -0.511941 -0.411800"
      ]
     },
     "execution_count": 410,
     "metadata": {},
     "output_type": "execute_result"
    }
   ],
   "source": [
    "dfg.groupby(['A','B']).sum()"
   ]
  },
  {
   "cell_type": "markdown",
   "id": "231029fe",
   "metadata": {
    "heading_collapsed": true
   },
   "source": [
    "## 2.4. Indexação  "
   ]
  },
  {
   "cell_type": "markdown",
   "id": "ef673d36",
   "metadata": {
    "hidden": true
   },
   "source": [
    "Todo índice em pyhon inicia em 0.\n",
    "\n",
    "Sempre que quisermos selecionar algum objeto em uma lista, devemos considerar esse requisito."
   ]
  },
  {
   "cell_type": "code",
   "execution_count": 411,
   "id": "90fc3223",
   "metadata": {
    "hidden": true
   },
   "outputs": [],
   "source": [
    "lista = [ 32, 96, 11, 27]"
   ]
  },
  {
   "cell_type": "code",
   "execution_count": 412,
   "id": "a7575e5e",
   "metadata": {
    "hidden": true
   },
   "outputs": [
    {
     "data": {
      "text/plain": [
       "32"
      ]
     },
     "execution_count": 412,
     "metadata": {},
     "output_type": "execute_result"
    }
   ],
   "source": [
    "lista[0]"
   ]
  },
  {
   "cell_type": "markdown",
   "id": "88c109dd",
   "metadata": {
    "hidden": true,
    "hide_input": false
   },
   "source": [
    "Sempre que quisermos selecionar os números de trás pra frente, basta adicionar o sinal de subtração e ordenar a casa"
   ]
  },
  {
   "cell_type": "code",
   "execution_count": 413,
   "id": "07ca6108",
   "metadata": {
    "hidden": true
   },
   "outputs": [
    {
     "data": {
      "text/plain": [
       "27"
      ]
     },
     "execution_count": 413,
     "metadata": {},
     "output_type": "execute_result"
    }
   ],
   "source": [
    "lista [-1]"
   ]
  },
  {
   "cell_type": "markdown",
   "id": "2d2b1327",
   "metadata": {
    "hidden": true
   },
   "source": [
    "### Indexação múltlipla"
   ]
  },
  {
   "cell_type": "code",
   "execution_count": 414,
   "id": "8af65c9d",
   "metadata": {
    "hidden": true
   },
   "outputs": [],
   "source": [
    "arrays = [[1, 2, 5, 4], ['red', 'blue', 'green', 'blue']]"
   ]
  },
  {
   "cell_type": "code",
   "execution_count": 415,
   "id": "8f825208",
   "metadata": {
    "hidden": true
   },
   "outputs": [
    {
     "data": {
      "text/plain": [
       "MultiIndex([(1,   'red'),\n",
       "            (2,  'blue'),\n",
       "            (5, 'green'),\n",
       "            (4,  'blue')],\n",
       "           names=['number', 'color'])"
      ]
     },
     "execution_count": 415,
     "metadata": {},
     "output_type": "execute_result"
    }
   ],
   "source": [
    "pd.MultiIndex.from_arrays(arrays, names=('number', 'color'))"
   ]
  },
  {
   "cell_type": "code",
   "execution_count": 416,
   "id": "366edcd8",
   "metadata": {
    "hidden": true
   },
   "outputs": [],
   "source": [
    "numbers = [0, 1, 2]\n",
    "colors = ['green', 'purple']"
   ]
  },
  {
   "cell_type": "markdown",
   "id": "7afbc6af",
   "metadata": {
    "hidden": true
   },
   "source": [
    "**MultiIndex com produto cartesiano**"
   ]
  },
  {
   "cell_type": "code",
   "execution_count": 417,
   "id": "b6494d24",
   "metadata": {
    "hidden": true
   },
   "outputs": [
    {
     "data": {
      "text/plain": [
       "MultiIndex([(0,  'green'),\n",
       "            (0, 'purple'),\n",
       "            (1,  'green'),\n",
       "            (1, 'purple'),\n",
       "            (2,  'green'),\n",
       "            (2, 'purple')],\n",
       "           names=['number', 'color'])"
      ]
     },
     "execution_count": 417,
     "metadata": {},
     "output_type": "execute_result"
    }
   ],
   "source": [
    "pd.MultiIndex.from_product([numbers, colors], names = ['number', 'color'])"
   ]
  },
  {
   "cell_type": "markdown",
   "id": "f9c6f548",
   "metadata": {
    "heading_collapsed": true
   },
   "source": [
    "## 2.5. Reshping dados"
   ]
  },
  {
   "cell_type": "code",
   "execution_count": 418,
   "id": "831def85",
   "metadata": {
    "hidden": true
   },
   "outputs": [],
   "source": [
    "datas = pd.date_range('20220101', periods= 6 )\n",
    "\n",
    "df = pd.DataFrame(np.random.randn(6, 4), index = datas, columns = ['var_A', 'var_B', 'var_C', 'var_D'])"
   ]
  },
  {
   "cell_type": "code",
   "execution_count": 419,
   "id": "caa739d8",
   "metadata": {
    "hidden": true
   },
   "outputs": [
    {
     "data": {
      "text/html": [
       "<div>\n",
       "<style scoped>\n",
       "    .dataframe tbody tr th:only-of-type {\n",
       "        vertical-align: middle;\n",
       "    }\n",
       "\n",
       "    .dataframe tbody tr th {\n",
       "        vertical-align: top;\n",
       "    }\n",
       "\n",
       "    .dataframe thead th {\n",
       "        text-align: right;\n",
       "    }\n",
       "</style>\n",
       "<table border=\"1\" class=\"dataframe\">\n",
       "  <thead>\n",
       "    <tr style=\"text-align: right;\">\n",
       "      <th></th>\n",
       "      <th>var_A</th>\n",
       "      <th>var_B</th>\n",
       "      <th>var_C</th>\n",
       "      <th>var_D</th>\n",
       "    </tr>\n",
       "  </thead>\n",
       "  <tbody>\n",
       "    <tr>\n",
       "      <th>2022-01-01</th>\n",
       "      <td>-0.158656</td>\n",
       "      <td>0.478816</td>\n",
       "      <td>1.401692</td>\n",
       "      <td>0.661835</td>\n",
       "    </tr>\n",
       "    <tr>\n",
       "      <th>2022-01-02</th>\n",
       "      <td>0.165559</td>\n",
       "      <td>0.719722</td>\n",
       "      <td>0.350317</td>\n",
       "      <td>1.171678</td>\n",
       "    </tr>\n",
       "    <tr>\n",
       "      <th>2022-01-03</th>\n",
       "      <td>-0.195197</td>\n",
       "      <td>0.949699</td>\n",
       "      <td>-0.740420</td>\n",
       "      <td>0.597797</td>\n",
       "    </tr>\n",
       "    <tr>\n",
       "      <th>2022-01-04</th>\n",
       "      <td>-0.056274</td>\n",
       "      <td>0.784752</td>\n",
       "      <td>0.208651</td>\n",
       "      <td>-0.124675</td>\n",
       "    </tr>\n",
       "    <tr>\n",
       "      <th>2022-01-05</th>\n",
       "      <td>0.752890</td>\n",
       "      <td>1.006933</td>\n",
       "      <td>0.855658</td>\n",
       "      <td>-2.162493</td>\n",
       "    </tr>\n",
       "    <tr>\n",
       "      <th>2022-01-06</th>\n",
       "      <td>1.009205</td>\n",
       "      <td>0.181378</td>\n",
       "      <td>0.358558</td>\n",
       "      <td>0.735409</td>\n",
       "    </tr>\n",
       "  </tbody>\n",
       "</table>\n",
       "</div>"
      ],
      "text/plain": [
       "               var_A     var_B     var_C     var_D\n",
       "2022-01-01 -0.158656  0.478816  1.401692  0.661835\n",
       "2022-01-02  0.165559  0.719722  0.350317  1.171678\n",
       "2022-01-03 -0.195197  0.949699 -0.740420  0.597797\n",
       "2022-01-04 -0.056274  0.784752  0.208651 -0.124675\n",
       "2022-01-05  0.752890  1.006933  0.855658 -2.162493\n",
       "2022-01-06  1.009205  0.181378  0.358558  0.735409"
      ]
     },
     "execution_count": 419,
     "metadata": {},
     "output_type": "execute_result"
    }
   ],
   "source": [
    "df"
   ]
  },
  {
   "cell_type": "code",
   "execution_count": 420,
   "id": "a5786620",
   "metadata": {
    "hidden": true
   },
   "outputs": [],
   "source": [
    "dft = df.T"
   ]
  },
  {
   "cell_type": "code",
   "execution_count": 421,
   "id": "243fbc5b",
   "metadata": {
    "hidden": true
   },
   "outputs": [
    {
     "data": {
      "text/html": [
       "<div>\n",
       "<style scoped>\n",
       "    .dataframe tbody tr th:only-of-type {\n",
       "        vertical-align: middle;\n",
       "    }\n",
       "\n",
       "    .dataframe tbody tr th {\n",
       "        vertical-align: top;\n",
       "    }\n",
       "\n",
       "    .dataframe thead th {\n",
       "        text-align: right;\n",
       "    }\n",
       "</style>\n",
       "<table border=\"1\" class=\"dataframe\">\n",
       "  <thead>\n",
       "    <tr style=\"text-align: right;\">\n",
       "      <th></th>\n",
       "      <th>2022-01-01</th>\n",
       "      <th>2022-01-02</th>\n",
       "      <th>2022-01-03</th>\n",
       "      <th>2022-01-04</th>\n",
       "      <th>2022-01-05</th>\n",
       "      <th>2022-01-06</th>\n",
       "    </tr>\n",
       "  </thead>\n",
       "  <tbody>\n",
       "    <tr>\n",
       "      <th>var_A</th>\n",
       "      <td>-0.158656</td>\n",
       "      <td>0.165559</td>\n",
       "      <td>-0.195197</td>\n",
       "      <td>-0.056274</td>\n",
       "      <td>0.752890</td>\n",
       "      <td>1.009205</td>\n",
       "    </tr>\n",
       "    <tr>\n",
       "      <th>var_B</th>\n",
       "      <td>0.478816</td>\n",
       "      <td>0.719722</td>\n",
       "      <td>0.949699</td>\n",
       "      <td>0.784752</td>\n",
       "      <td>1.006933</td>\n",
       "      <td>0.181378</td>\n",
       "    </tr>\n",
       "    <tr>\n",
       "      <th>var_C</th>\n",
       "      <td>1.401692</td>\n",
       "      <td>0.350317</td>\n",
       "      <td>-0.740420</td>\n",
       "      <td>0.208651</td>\n",
       "      <td>0.855658</td>\n",
       "      <td>0.358558</td>\n",
       "    </tr>\n",
       "    <tr>\n",
       "      <th>var_D</th>\n",
       "      <td>0.661835</td>\n",
       "      <td>1.171678</td>\n",
       "      <td>0.597797</td>\n",
       "      <td>-0.124675</td>\n",
       "      <td>-2.162493</td>\n",
       "      <td>0.735409</td>\n",
       "    </tr>\n",
       "  </tbody>\n",
       "</table>\n",
       "</div>"
      ],
      "text/plain": [
       "       2022-01-01  2022-01-02  2022-01-03  2022-01-04  2022-01-05  2022-01-06\n",
       "var_A   -0.158656    0.165559   -0.195197   -0.056274    0.752890    1.009205\n",
       "var_B    0.478816    0.719722    0.949699    0.784752    1.006933    0.181378\n",
       "var_C    1.401692    0.350317   -0.740420    0.208651    0.855658    0.358558\n",
       "var_D    0.661835    1.171678    0.597797   -0.124675   -2.162493    0.735409"
      ]
     },
     "execution_count": 421,
     "metadata": {},
     "output_type": "execute_result"
    }
   ],
   "source": [
    "dft"
   ]
  },
  {
   "cell_type": "code",
   "execution_count": 422,
   "id": "ffc1ce41",
   "metadata": {
    "hidden": true
   },
   "outputs": [
    {
     "data": {
      "text/plain": [
       "(6, 4)"
      ]
     },
     "execution_count": 422,
     "metadata": {},
     "output_type": "execute_result"
    }
   ],
   "source": [
    "df.shape"
   ]
  },
  {
   "cell_type": "markdown",
   "id": "d505c8d6",
   "metadata": {
    "heading_collapsed": true,
    "hidden": true
   },
   "source": [
    "### 2.5.1. Função pivot"
   ]
  },
  {
   "cell_type": "code",
   "execution_count": 423,
   "id": "d8aa1ecb",
   "metadata": {
    "hidden": true
   },
   "outputs": [],
   "source": [
    "data = pd.date_range('20220101', periods= 12 )\n",
    "\n",
    "pessoa = ['George', 'Victor', 'Lucas']"
   ]
  },
  {
   "cell_type": "code",
   "execution_count": 424,
   "id": "444f5335",
   "metadata": {
    "hidden": true
   },
   "outputs": [
    {
     "data": {
      "text/plain": [
       "DatetimeIndex(['2022-01-01', '2022-01-02', '2022-01-03', '2022-01-04',\n",
       "               '2022-01-05', '2022-01-06', '2022-01-07', '2022-01-08',\n",
       "               '2022-01-09', '2022-01-10', '2022-01-11', '2022-01-12'],\n",
       "              dtype='datetime64[ns]', freq='D')"
      ]
     },
     "execution_count": 424,
     "metadata": {},
     "output_type": "execute_result"
    }
   ],
   "source": [
    "data"
   ]
  },
  {
   "cell_type": "code",
   "execution_count": 425,
   "id": "e638e435",
   "metadata": {
    "hidden": true
   },
   "outputs": [],
   "source": [
    "nome = []\n",
    "\n",
    "gasto = []\n",
    "\n",
    "for i in range(12):\n",
    "    nome.append(np.random.choice(pessoa))\n",
    "    gasto.append(np.round(np.random.randn()*100,2 ))\n",
    "    \n",
    "    nome"
   ]
  },
  {
   "cell_type": "code",
   "execution_count": 426,
   "id": "beeabc32",
   "metadata": {
    "hidden": true
   },
   "outputs": [],
   "source": [
    "df = pd.DataFrame({'Data': data, 'Nome': nome, 'Gasto': gasto})"
   ]
  },
  {
   "cell_type": "code",
   "execution_count": 427,
   "id": "19428fe8",
   "metadata": {
    "hidden": true
   },
   "outputs": [
    {
     "data": {
      "text/html": [
       "<div>\n",
       "<style scoped>\n",
       "    .dataframe tbody tr th:only-of-type {\n",
       "        vertical-align: middle;\n",
       "    }\n",
       "\n",
       "    .dataframe tbody tr th {\n",
       "        vertical-align: top;\n",
       "    }\n",
       "\n",
       "    .dataframe thead th {\n",
       "        text-align: right;\n",
       "    }\n",
       "</style>\n",
       "<table border=\"1\" class=\"dataframe\">\n",
       "  <thead>\n",
       "    <tr style=\"text-align: right;\">\n",
       "      <th></th>\n",
       "      <th>Data</th>\n",
       "      <th>Nome</th>\n",
       "      <th>Gasto</th>\n",
       "    </tr>\n",
       "  </thead>\n",
       "  <tbody>\n",
       "    <tr>\n",
       "      <th>0</th>\n",
       "      <td>2022-01-01</td>\n",
       "      <td>George</td>\n",
       "      <td>37.51</td>\n",
       "    </tr>\n",
       "    <tr>\n",
       "      <th>1</th>\n",
       "      <td>2022-01-02</td>\n",
       "      <td>George</td>\n",
       "      <td>-12.73</td>\n",
       "    </tr>\n",
       "    <tr>\n",
       "      <th>2</th>\n",
       "      <td>2022-01-03</td>\n",
       "      <td>Victor</td>\n",
       "      <td>71.21</td>\n",
       "    </tr>\n",
       "    <tr>\n",
       "      <th>3</th>\n",
       "      <td>2022-01-04</td>\n",
       "      <td>George</td>\n",
       "      <td>-94.79</td>\n",
       "    </tr>\n",
       "    <tr>\n",
       "      <th>4</th>\n",
       "      <td>2022-01-05</td>\n",
       "      <td>Lucas</td>\n",
       "      <td>-256.38</td>\n",
       "    </tr>\n",
       "    <tr>\n",
       "      <th>5</th>\n",
       "      <td>2022-01-06</td>\n",
       "      <td>George</td>\n",
       "      <td>28.21</td>\n",
       "    </tr>\n",
       "    <tr>\n",
       "      <th>6</th>\n",
       "      <td>2022-01-07</td>\n",
       "      <td>Lucas</td>\n",
       "      <td>206.61</td>\n",
       "    </tr>\n",
       "    <tr>\n",
       "      <th>7</th>\n",
       "      <td>2022-01-08</td>\n",
       "      <td>George</td>\n",
       "      <td>-24.84</td>\n",
       "    </tr>\n",
       "    <tr>\n",
       "      <th>8</th>\n",
       "      <td>2022-01-09</td>\n",
       "      <td>George</td>\n",
       "      <td>16.53</td>\n",
       "    </tr>\n",
       "    <tr>\n",
       "      <th>9</th>\n",
       "      <td>2022-01-10</td>\n",
       "      <td>George</td>\n",
       "      <td>220.87</td>\n",
       "    </tr>\n",
       "    <tr>\n",
       "      <th>10</th>\n",
       "      <td>2022-01-11</td>\n",
       "      <td>Victor</td>\n",
       "      <td>-165.13</td>\n",
       "    </tr>\n",
       "    <tr>\n",
       "      <th>11</th>\n",
       "      <td>2022-01-12</td>\n",
       "      <td>Lucas</td>\n",
       "      <td>282.64</td>\n",
       "    </tr>\n",
       "  </tbody>\n",
       "</table>\n",
       "</div>"
      ],
      "text/plain": [
       "         Data    Nome   Gasto\n",
       "0  2022-01-01  George   37.51\n",
       "1  2022-01-02  George  -12.73\n",
       "2  2022-01-03  Victor   71.21\n",
       "3  2022-01-04  George  -94.79\n",
       "4  2022-01-05   Lucas -256.38\n",
       "5  2022-01-06  George   28.21\n",
       "6  2022-01-07   Lucas  206.61\n",
       "7  2022-01-08  George  -24.84\n",
       "8  2022-01-09  George   16.53\n",
       "9  2022-01-10  George  220.87\n",
       "10 2022-01-11  Victor -165.13\n",
       "11 2022-01-12   Lucas  282.64"
      ]
     },
     "execution_count": 427,
     "metadata": {},
     "output_type": "execute_result"
    }
   ],
   "source": [
    "df"
   ]
  },
  {
   "cell_type": "code",
   "execution_count": 428,
   "id": "aa77c601",
   "metadata": {
    "hidden": true
   },
   "outputs": [
    {
     "data": {
      "text/html": [
       "<div>\n",
       "<style scoped>\n",
       "    .dataframe tbody tr th:only-of-type {\n",
       "        vertical-align: middle;\n",
       "    }\n",
       "\n",
       "    .dataframe tbody tr th {\n",
       "        vertical-align: top;\n",
       "    }\n",
       "\n",
       "    .dataframe thead th {\n",
       "        text-align: right;\n",
       "    }\n",
       "</style>\n",
       "<table border=\"1\" class=\"dataframe\">\n",
       "  <thead>\n",
       "    <tr style=\"text-align: right;\">\n",
       "      <th>Nome</th>\n",
       "      <th>George</th>\n",
       "      <th>Lucas</th>\n",
       "      <th>Victor</th>\n",
       "    </tr>\n",
       "    <tr>\n",
       "      <th>Data</th>\n",
       "      <th></th>\n",
       "      <th></th>\n",
       "      <th></th>\n",
       "    </tr>\n",
       "  </thead>\n",
       "  <tbody>\n",
       "    <tr>\n",
       "      <th>2022-01-01</th>\n",
       "      <td>37.51</td>\n",
       "      <td>NaN</td>\n",
       "      <td>NaN</td>\n",
       "    </tr>\n",
       "    <tr>\n",
       "      <th>2022-01-02</th>\n",
       "      <td>-12.73</td>\n",
       "      <td>NaN</td>\n",
       "      <td>NaN</td>\n",
       "    </tr>\n",
       "    <tr>\n",
       "      <th>2022-01-03</th>\n",
       "      <td>NaN</td>\n",
       "      <td>NaN</td>\n",
       "      <td>71.21</td>\n",
       "    </tr>\n",
       "    <tr>\n",
       "      <th>2022-01-04</th>\n",
       "      <td>-94.79</td>\n",
       "      <td>NaN</td>\n",
       "      <td>NaN</td>\n",
       "    </tr>\n",
       "    <tr>\n",
       "      <th>2022-01-05</th>\n",
       "      <td>NaN</td>\n",
       "      <td>-256.38</td>\n",
       "      <td>NaN</td>\n",
       "    </tr>\n",
       "    <tr>\n",
       "      <th>2022-01-06</th>\n",
       "      <td>28.21</td>\n",
       "      <td>NaN</td>\n",
       "      <td>NaN</td>\n",
       "    </tr>\n",
       "    <tr>\n",
       "      <th>2022-01-07</th>\n",
       "      <td>NaN</td>\n",
       "      <td>206.61</td>\n",
       "      <td>NaN</td>\n",
       "    </tr>\n",
       "    <tr>\n",
       "      <th>2022-01-08</th>\n",
       "      <td>-24.84</td>\n",
       "      <td>NaN</td>\n",
       "      <td>NaN</td>\n",
       "    </tr>\n",
       "    <tr>\n",
       "      <th>2022-01-09</th>\n",
       "      <td>16.53</td>\n",
       "      <td>NaN</td>\n",
       "      <td>NaN</td>\n",
       "    </tr>\n",
       "    <tr>\n",
       "      <th>2022-01-10</th>\n",
       "      <td>220.87</td>\n",
       "      <td>NaN</td>\n",
       "      <td>NaN</td>\n",
       "    </tr>\n",
       "    <tr>\n",
       "      <th>2022-01-11</th>\n",
       "      <td>NaN</td>\n",
       "      <td>NaN</td>\n",
       "      <td>-165.13</td>\n",
       "    </tr>\n",
       "    <tr>\n",
       "      <th>2022-01-12</th>\n",
       "      <td>NaN</td>\n",
       "      <td>282.64</td>\n",
       "      <td>NaN</td>\n",
       "    </tr>\n",
       "  </tbody>\n",
       "</table>\n",
       "</div>"
      ],
      "text/plain": [
       "Nome        George   Lucas  Victor\n",
       "Data                              \n",
       "2022-01-01   37.51     NaN     NaN\n",
       "2022-01-02  -12.73     NaN     NaN\n",
       "2022-01-03     NaN     NaN   71.21\n",
       "2022-01-04  -94.79     NaN     NaN\n",
       "2022-01-05     NaN -256.38     NaN\n",
       "2022-01-06   28.21     NaN     NaN\n",
       "2022-01-07     NaN  206.61     NaN\n",
       "2022-01-08  -24.84     NaN     NaN\n",
       "2022-01-09   16.53     NaN     NaN\n",
       "2022-01-10  220.87     NaN     NaN\n",
       "2022-01-11     NaN     NaN -165.13\n",
       "2022-01-12     NaN  282.64     NaN"
      ]
     },
     "execution_count": 428,
     "metadata": {},
     "output_type": "execute_result"
    }
   ],
   "source": [
    "pd.pivot(df, index= 'Data', columns= 'Nome', values= 'Gasto')"
   ]
  },
  {
   "cell_type": "markdown",
   "id": "955041ed",
   "metadata": {
    "heading_collapsed": true,
    "hidden": true
   },
   "source": [
    "### 2.5.2. Função pivot table"
   ]
  },
  {
   "cell_type": "code",
   "execution_count": 429,
   "id": "8c45760b",
   "metadata": {
    "hidden": true
   },
   "outputs": [],
   "source": [
    "carros = [7, 4, 3, 2, 8]\n",
    "\n",
    "data = pd.date_range('20220101','20220101', periods= 5 )\n",
    "\n",
    "vendedor = ['George', 'Vagner', 'Pedro', 'Vagner', 'George']"
   ]
  },
  {
   "cell_type": "code",
   "execution_count": 430,
   "id": "c7f60e6c",
   "metadata": {
    "hidden": true
   },
   "outputs": [],
   "source": [
    "df = pd.DataFrame({'Vendas': carros, 'Data': data, 'Vendedor': vendedor})"
   ]
  },
  {
   "cell_type": "code",
   "execution_count": 431,
   "id": "fcb8bd42",
   "metadata": {
    "hidden": true
   },
   "outputs": [
    {
     "data": {
      "text/html": [
       "<div>\n",
       "<style scoped>\n",
       "    .dataframe tbody tr th:only-of-type {\n",
       "        vertical-align: middle;\n",
       "    }\n",
       "\n",
       "    .dataframe tbody tr th {\n",
       "        vertical-align: top;\n",
       "    }\n",
       "\n",
       "    .dataframe thead th {\n",
       "        text-align: right;\n",
       "    }\n",
       "</style>\n",
       "<table border=\"1\" class=\"dataframe\">\n",
       "  <thead>\n",
       "    <tr style=\"text-align: right;\">\n",
       "      <th></th>\n",
       "      <th>Vendas</th>\n",
       "      <th>Data</th>\n",
       "      <th>Vendedor</th>\n",
       "    </tr>\n",
       "  </thead>\n",
       "  <tbody>\n",
       "    <tr>\n",
       "      <th>0</th>\n",
       "      <td>7</td>\n",
       "      <td>2022-01-01</td>\n",
       "      <td>George</td>\n",
       "    </tr>\n",
       "    <tr>\n",
       "      <th>1</th>\n",
       "      <td>4</td>\n",
       "      <td>2022-01-01</td>\n",
       "      <td>Vagner</td>\n",
       "    </tr>\n",
       "    <tr>\n",
       "      <th>2</th>\n",
       "      <td>3</td>\n",
       "      <td>2022-01-01</td>\n",
       "      <td>Pedro</td>\n",
       "    </tr>\n",
       "    <tr>\n",
       "      <th>3</th>\n",
       "      <td>2</td>\n",
       "      <td>2022-01-01</td>\n",
       "      <td>Vagner</td>\n",
       "    </tr>\n",
       "    <tr>\n",
       "      <th>4</th>\n",
       "      <td>8</td>\n",
       "      <td>2022-01-01</td>\n",
       "      <td>George</td>\n",
       "    </tr>\n",
       "  </tbody>\n",
       "</table>\n",
       "</div>"
      ],
      "text/plain": [
       "   Vendas       Data Vendedor\n",
       "0       7 2022-01-01   George\n",
       "1       4 2022-01-01   Vagner\n",
       "2       3 2022-01-01    Pedro\n",
       "3       2 2022-01-01   Vagner\n",
       "4       8 2022-01-01   George"
      ]
     },
     "execution_count": 431,
     "metadata": {},
     "output_type": "execute_result"
    }
   ],
   "source": [
    "df"
   ]
  },
  {
   "cell_type": "markdown",
   "id": "37f64216",
   "metadata": {
    "hidden": true
   },
   "source": [
    "A função **pivot table** não entrega valores de index duplicados"
   ]
  },
  {
   "cell_type": "code",
   "execution_count": 432,
   "id": "03120fab",
   "metadata": {
    "hidden": true,
    "scrolled": false
   },
   "outputs": [
    {
     "data": {
      "text/html": [
       "<div>\n",
       "<style scoped>\n",
       "    .dataframe tbody tr th:only-of-type {\n",
       "        vertical-align: middle;\n",
       "    }\n",
       "\n",
       "    .dataframe tbody tr th {\n",
       "        vertical-align: top;\n",
       "    }\n",
       "\n",
       "    .dataframe thead th {\n",
       "        text-align: right;\n",
       "    }\n",
       "</style>\n",
       "<table border=\"1\" class=\"dataframe\">\n",
       "  <thead>\n",
       "    <tr style=\"text-align: right;\">\n",
       "      <th>Vendedor</th>\n",
       "      <th>George</th>\n",
       "      <th>Pedro</th>\n",
       "      <th>Vagner</th>\n",
       "    </tr>\n",
       "    <tr>\n",
       "      <th>Data</th>\n",
       "      <th></th>\n",
       "      <th></th>\n",
       "      <th></th>\n",
       "    </tr>\n",
       "  </thead>\n",
       "  <tbody>\n",
       "    <tr>\n",
       "      <th>2022-01-01</th>\n",
       "      <td>15</td>\n",
       "      <td>3</td>\n",
       "      <td>6</td>\n",
       "    </tr>\n",
       "  </tbody>\n",
       "</table>\n",
       "</div>"
      ],
      "text/plain": [
       "Vendedor    George  Pedro  Vagner\n",
       "Data                             \n",
       "2022-01-01      15      3       6"
      ]
     },
     "execution_count": 432,
     "metadata": {},
     "output_type": "execute_result"
    }
   ],
   "source": [
    "pd.pivot_table(df, index= 'Data', columns= 'Vendedor', values= 'Vendas', aggfunc='sum')"
   ]
  },
  {
   "cell_type": "markdown",
   "id": "de29cf1e",
   "metadata": {
    "heading_collapsed": true,
    "hidden": true
   },
   "source": [
    "### 2.5.3. Stack e unstack de dados"
   ]
  },
  {
   "cell_type": "markdown",
   "id": "0be57ddc",
   "metadata": {
    "hidden": true
   },
   "source": [
    "coleta de dados da internet"
   ]
  },
  {
   "cell_type": "code",
   "execution_count": 433,
   "id": "eb56f479",
   "metadata": {
    "hidden": true
   },
   "outputs": [],
   "source": [
    "df = pd.read_csv('https://cdncontribute.geeksforgeeks.org/wp-content/uploads/nba.csv')"
   ]
  },
  {
   "cell_type": "code",
   "execution_count": 434,
   "id": "3620c925",
   "metadata": {
    "hidden": true
   },
   "outputs": [
    {
     "data": {
      "text/html": [
       "<div>\n",
       "<style scoped>\n",
       "    .dataframe tbody tr th:only-of-type {\n",
       "        vertical-align: middle;\n",
       "    }\n",
       "\n",
       "    .dataframe tbody tr th {\n",
       "        vertical-align: top;\n",
       "    }\n",
       "\n",
       "    .dataframe thead th {\n",
       "        text-align: right;\n",
       "    }\n",
       "</style>\n",
       "<table border=\"1\" class=\"dataframe\">\n",
       "  <thead>\n",
       "    <tr style=\"text-align: right;\">\n",
       "      <th></th>\n",
       "      <th>Name</th>\n",
       "      <th>Team</th>\n",
       "      <th>Number</th>\n",
       "      <th>Position</th>\n",
       "      <th>Age</th>\n",
       "      <th>Height</th>\n",
       "      <th>Weight</th>\n",
       "      <th>College</th>\n",
       "      <th>Salary</th>\n",
       "    </tr>\n",
       "  </thead>\n",
       "  <tbody>\n",
       "    <tr>\n",
       "      <th>0</th>\n",
       "      <td>Avery Bradley</td>\n",
       "      <td>Boston Celtics</td>\n",
       "      <td>0.0</td>\n",
       "      <td>PG</td>\n",
       "      <td>25.0</td>\n",
       "      <td>6-2</td>\n",
       "      <td>180.0</td>\n",
       "      <td>Texas</td>\n",
       "      <td>7730337.0</td>\n",
       "    </tr>\n",
       "    <tr>\n",
       "      <th>1</th>\n",
       "      <td>Jae Crowder</td>\n",
       "      <td>Boston Celtics</td>\n",
       "      <td>99.0</td>\n",
       "      <td>SF</td>\n",
       "      <td>25.0</td>\n",
       "      <td>6-6</td>\n",
       "      <td>235.0</td>\n",
       "      <td>Marquette</td>\n",
       "      <td>6796117.0</td>\n",
       "    </tr>\n",
       "    <tr>\n",
       "      <th>2</th>\n",
       "      <td>John Holland</td>\n",
       "      <td>Boston Celtics</td>\n",
       "      <td>30.0</td>\n",
       "      <td>SG</td>\n",
       "      <td>27.0</td>\n",
       "      <td>6-5</td>\n",
       "      <td>205.0</td>\n",
       "      <td>Boston University</td>\n",
       "      <td>NaN</td>\n",
       "    </tr>\n",
       "    <tr>\n",
       "      <th>3</th>\n",
       "      <td>R.J. Hunter</td>\n",
       "      <td>Boston Celtics</td>\n",
       "      <td>28.0</td>\n",
       "      <td>SG</td>\n",
       "      <td>22.0</td>\n",
       "      <td>6-5</td>\n",
       "      <td>185.0</td>\n",
       "      <td>Georgia State</td>\n",
       "      <td>1148640.0</td>\n",
       "    </tr>\n",
       "  </tbody>\n",
       "</table>\n",
       "</div>"
      ],
      "text/plain": [
       "            Name            Team  Number Position   Age Height  Weight  \\\n",
       "0  Avery Bradley  Boston Celtics     0.0       PG  25.0    6-2   180.0   \n",
       "1    Jae Crowder  Boston Celtics    99.0       SF  25.0    6-6   235.0   \n",
       "2   John Holland  Boston Celtics    30.0       SG  27.0    6-5   205.0   \n",
       "3    R.J. Hunter  Boston Celtics    28.0       SG  22.0    6-5   185.0   \n",
       "\n",
       "             College     Salary  \n",
       "0              Texas  7730337.0  \n",
       "1          Marquette  6796117.0  \n",
       "2  Boston University        NaN  \n",
       "3      Georgia State  1148640.0  "
      ]
     },
     "execution_count": 434,
     "metadata": {},
     "output_type": "execute_result"
    }
   ],
   "source": [
    "df.head(4)"
   ]
  },
  {
   "cell_type": "code",
   "execution_count": 435,
   "id": "c5460ecf",
   "metadata": {
    "hidden": true
   },
   "outputs": [
    {
     "data": {
      "text/plain": [
       "(458, 9)"
      ]
     },
     "execution_count": 435,
     "metadata": {},
     "output_type": "execute_result"
    }
   ],
   "source": [
    "df.shape"
   ]
  },
  {
   "cell_type": "code",
   "execution_count": 436,
   "id": "42e808b5",
   "metadata": {
    "hidden": true
   },
   "outputs": [],
   "source": [
    "#Essa função empilha os dados em uma coluna\n",
    "\n",
    "empilhamento = df.stack()"
   ]
  },
  {
   "cell_type": "code",
   "execution_count": 437,
   "id": "b0e5f1cb",
   "metadata": {
    "hidden": true
   },
   "outputs": [
    {
     "data": {
      "text/plain": [
       "0  Name         Avery Bradley\n",
       "   Team        Boston Celtics\n",
       "   Number                 0.0\n",
       "   Position                PG\n",
       "   Age                   25.0\n",
       "   Height                 6-2\n",
       "   Weight               180.0\n",
       "   College              Texas\n",
       "   Salary           7730337.0\n",
       "1  Name           Jae Crowder\n",
       "   Team        Boston Celtics\n",
       "   Number                99.0\n",
       "   Position                SF\n",
       "   Age                   25.0\n",
       "   Height                 6-6\n",
       "   Weight               235.0\n",
       "   College          Marquette\n",
       "   Salary           6796117.0\n",
       "2  Name          John Holland\n",
       "   Team        Boston Celtics\n",
       "dtype: object"
      ]
     },
     "execution_count": 437,
     "metadata": {},
     "output_type": "execute_result"
    }
   ],
   "source": [
    "empilhamento.head(20)"
   ]
  },
  {
   "cell_type": "code",
   "execution_count": 438,
   "id": "dd7fc543",
   "metadata": {
    "hidden": true
   },
   "outputs": [
    {
     "data": {
      "text/html": [
       "<div>\n",
       "<style scoped>\n",
       "    .dataframe tbody tr th:only-of-type {\n",
       "        vertical-align: middle;\n",
       "    }\n",
       "\n",
       "    .dataframe tbody tr th {\n",
       "        vertical-align: top;\n",
       "    }\n",
       "\n",
       "    .dataframe thead th {\n",
       "        text-align: right;\n",
       "    }\n",
       "</style>\n",
       "<table border=\"1\" class=\"dataframe\">\n",
       "  <thead>\n",
       "    <tr style=\"text-align: right;\">\n",
       "      <th></th>\n",
       "      <th>Name</th>\n",
       "      <th>Team</th>\n",
       "      <th>Number</th>\n",
       "      <th>Position</th>\n",
       "      <th>Age</th>\n",
       "      <th>Height</th>\n",
       "      <th>Weight</th>\n",
       "      <th>College</th>\n",
       "      <th>Salary</th>\n",
       "    </tr>\n",
       "  </thead>\n",
       "  <tbody>\n",
       "    <tr>\n",
       "      <th>0</th>\n",
       "      <td>Avery Bradley</td>\n",
       "      <td>Boston Celtics</td>\n",
       "      <td>0.0</td>\n",
       "      <td>PG</td>\n",
       "      <td>25.0</td>\n",
       "      <td>6-2</td>\n",
       "      <td>180.0</td>\n",
       "      <td>Texas</td>\n",
       "      <td>7730337.0</td>\n",
       "    </tr>\n",
       "    <tr>\n",
       "      <th>1</th>\n",
       "      <td>Jae Crowder</td>\n",
       "      <td>Boston Celtics</td>\n",
       "      <td>99.0</td>\n",
       "      <td>SF</td>\n",
       "      <td>25.0</td>\n",
       "      <td>6-6</td>\n",
       "      <td>235.0</td>\n",
       "      <td>Marquette</td>\n",
       "      <td>6796117.0</td>\n",
       "    </tr>\n",
       "    <tr>\n",
       "      <th>2</th>\n",
       "      <td>John Holland</td>\n",
       "      <td>Boston Celtics</td>\n",
       "      <td>30.0</td>\n",
       "      <td>SG</td>\n",
       "      <td>27.0</td>\n",
       "      <td>6-5</td>\n",
       "      <td>205.0</td>\n",
       "      <td>Boston University</td>\n",
       "      <td>NaN</td>\n",
       "    </tr>\n",
       "    <tr>\n",
       "      <th>3</th>\n",
       "      <td>R.J. Hunter</td>\n",
       "      <td>Boston Celtics</td>\n",
       "      <td>28.0</td>\n",
       "      <td>SG</td>\n",
       "      <td>22.0</td>\n",
       "      <td>6-5</td>\n",
       "      <td>185.0</td>\n",
       "      <td>Georgia State</td>\n",
       "      <td>1148640.0</td>\n",
       "    </tr>\n",
       "    <tr>\n",
       "      <th>4</th>\n",
       "      <td>Jonas Jerebko</td>\n",
       "      <td>Boston Celtics</td>\n",
       "      <td>8.0</td>\n",
       "      <td>PF</td>\n",
       "      <td>29.0</td>\n",
       "      <td>6-10</td>\n",
       "      <td>231.0</td>\n",
       "      <td>NaN</td>\n",
       "      <td>5000000.0</td>\n",
       "    </tr>\n",
       "    <tr>\n",
       "      <th>...</th>\n",
       "      <td>...</td>\n",
       "      <td>...</td>\n",
       "      <td>...</td>\n",
       "      <td>...</td>\n",
       "      <td>...</td>\n",
       "      <td>...</td>\n",
       "      <td>...</td>\n",
       "      <td>...</td>\n",
       "      <td>...</td>\n",
       "    </tr>\n",
       "    <tr>\n",
       "      <th>452</th>\n",
       "      <td>Trey Lyles</td>\n",
       "      <td>Utah Jazz</td>\n",
       "      <td>41.0</td>\n",
       "      <td>PF</td>\n",
       "      <td>20.0</td>\n",
       "      <td>6-10</td>\n",
       "      <td>234.0</td>\n",
       "      <td>Kentucky</td>\n",
       "      <td>2239800.0</td>\n",
       "    </tr>\n",
       "    <tr>\n",
       "      <th>453</th>\n",
       "      <td>Shelvin Mack</td>\n",
       "      <td>Utah Jazz</td>\n",
       "      <td>8.0</td>\n",
       "      <td>PG</td>\n",
       "      <td>26.0</td>\n",
       "      <td>6-3</td>\n",
       "      <td>203.0</td>\n",
       "      <td>Butler</td>\n",
       "      <td>2433333.0</td>\n",
       "    </tr>\n",
       "    <tr>\n",
       "      <th>454</th>\n",
       "      <td>Raul Neto</td>\n",
       "      <td>Utah Jazz</td>\n",
       "      <td>25.0</td>\n",
       "      <td>PG</td>\n",
       "      <td>24.0</td>\n",
       "      <td>6-1</td>\n",
       "      <td>179.0</td>\n",
       "      <td>NaN</td>\n",
       "      <td>900000.0</td>\n",
       "    </tr>\n",
       "    <tr>\n",
       "      <th>455</th>\n",
       "      <td>Tibor Pleiss</td>\n",
       "      <td>Utah Jazz</td>\n",
       "      <td>21.0</td>\n",
       "      <td>C</td>\n",
       "      <td>26.0</td>\n",
       "      <td>7-3</td>\n",
       "      <td>256.0</td>\n",
       "      <td>NaN</td>\n",
       "      <td>2900000.0</td>\n",
       "    </tr>\n",
       "    <tr>\n",
       "      <th>456</th>\n",
       "      <td>Jeff Withey</td>\n",
       "      <td>Utah Jazz</td>\n",
       "      <td>24.0</td>\n",
       "      <td>C</td>\n",
       "      <td>26.0</td>\n",
       "      <td>7-0</td>\n",
       "      <td>231.0</td>\n",
       "      <td>Kansas</td>\n",
       "      <td>947276.0</td>\n",
       "    </tr>\n",
       "  </tbody>\n",
       "</table>\n",
       "<p>457 rows × 9 columns</p>\n",
       "</div>"
      ],
      "text/plain": [
       "              Name            Team Number Position   Age Height Weight  \\\n",
       "0    Avery Bradley  Boston Celtics    0.0       PG  25.0    6-2  180.0   \n",
       "1      Jae Crowder  Boston Celtics   99.0       SF  25.0    6-6  235.0   \n",
       "2     John Holland  Boston Celtics   30.0       SG  27.0    6-5  205.0   \n",
       "3      R.J. Hunter  Boston Celtics   28.0       SG  22.0    6-5  185.0   \n",
       "4    Jonas Jerebko  Boston Celtics    8.0       PF  29.0   6-10  231.0   \n",
       "..             ...             ...    ...      ...   ...    ...    ...   \n",
       "452     Trey Lyles       Utah Jazz   41.0       PF  20.0   6-10  234.0   \n",
       "453   Shelvin Mack       Utah Jazz    8.0       PG  26.0    6-3  203.0   \n",
       "454      Raul Neto       Utah Jazz   25.0       PG  24.0    6-1  179.0   \n",
       "455   Tibor Pleiss       Utah Jazz   21.0        C  26.0    7-3  256.0   \n",
       "456    Jeff Withey       Utah Jazz   24.0        C  26.0    7-0  231.0   \n",
       "\n",
       "               College     Salary  \n",
       "0                Texas  7730337.0  \n",
       "1            Marquette  6796117.0  \n",
       "2    Boston University        NaN  \n",
       "3        Georgia State  1148640.0  \n",
       "4                  NaN  5000000.0  \n",
       "..                 ...        ...  \n",
       "452           Kentucky  2239800.0  \n",
       "453             Butler  2433333.0  \n",
       "454                NaN   900000.0  \n",
       "455                NaN  2900000.0  \n",
       "456             Kansas   947276.0  \n",
       "\n",
       "[457 rows x 9 columns]"
      ]
     },
     "execution_count": 438,
     "metadata": {},
     "output_type": "execute_result"
    }
   ],
   "source": [
    "# Essa função reverte o processo de empilhamento\n",
    "\n",
    "empilhamento.unstack()"
   ]
  },
  {
   "cell_type": "markdown",
   "id": "88669309",
   "metadata": {
    "heading_collapsed": true,
    "hidden": true
   },
   "source": [
    "### 2.5.4. Função melt"
   ]
  },
  {
   "cell_type": "code",
   "execution_count": 439,
   "id": "5dce22a9",
   "metadata": {
    "hidden": true
   },
   "outputs": [],
   "source": [
    "df = pd.DataFrame({ 'A': {0: 'a', 1: 'b', 2: 'c'},\n",
    "                    'B': {0: 1, 1: 3, 2: 5,},\n",
    "                    'C': {0: 2, 1: 4, 2: 6}})"
   ]
  },
  {
   "cell_type": "code",
   "execution_count": 440,
   "id": "19905468",
   "metadata": {
    "hidden": true
   },
   "outputs": [
    {
     "data": {
      "text/html": [
       "<div>\n",
       "<style scoped>\n",
       "    .dataframe tbody tr th:only-of-type {\n",
       "        vertical-align: middle;\n",
       "    }\n",
       "\n",
       "    .dataframe tbody tr th {\n",
       "        vertical-align: top;\n",
       "    }\n",
       "\n",
       "    .dataframe thead th {\n",
       "        text-align: right;\n",
       "    }\n",
       "</style>\n",
       "<table border=\"1\" class=\"dataframe\">\n",
       "  <thead>\n",
       "    <tr style=\"text-align: right;\">\n",
       "      <th></th>\n",
       "      <th>A</th>\n",
       "      <th>B</th>\n",
       "      <th>C</th>\n",
       "    </tr>\n",
       "  </thead>\n",
       "  <tbody>\n",
       "    <tr>\n",
       "      <th>0</th>\n",
       "      <td>a</td>\n",
       "      <td>1</td>\n",
       "      <td>2</td>\n",
       "    </tr>\n",
       "    <tr>\n",
       "      <th>1</th>\n",
       "      <td>b</td>\n",
       "      <td>3</td>\n",
       "      <td>4</td>\n",
       "    </tr>\n",
       "    <tr>\n",
       "      <th>2</th>\n",
       "      <td>c</td>\n",
       "      <td>5</td>\n",
       "      <td>6</td>\n",
       "    </tr>\n",
       "  </tbody>\n",
       "</table>\n",
       "</div>"
      ],
      "text/plain": [
       "   A  B  C\n",
       "0  a  1  2\n",
       "1  b  3  4\n",
       "2  c  5  6"
      ]
     },
     "execution_count": 440,
     "metadata": {},
     "output_type": "execute_result"
    }
   ],
   "source": [
    "df"
   ]
  },
  {
   "cell_type": "code",
   "execution_count": 441,
   "id": "3e2f47ed",
   "metadata": {
    "hidden": true
   },
   "outputs": [
    {
     "data": {
      "text/html": [
       "<div>\n",
       "<style scoped>\n",
       "    .dataframe tbody tr th:only-of-type {\n",
       "        vertical-align: middle;\n",
       "    }\n",
       "\n",
       "    .dataframe tbody tr th {\n",
       "        vertical-align: top;\n",
       "    }\n",
       "\n",
       "    .dataframe thead th {\n",
       "        text-align: right;\n",
       "    }\n",
       "</style>\n",
       "<table border=\"1\" class=\"dataframe\">\n",
       "  <thead>\n",
       "    <tr style=\"text-align: right;\">\n",
       "      <th></th>\n",
       "      <th>A</th>\n",
       "      <th>variable</th>\n",
       "      <th>value</th>\n",
       "    </tr>\n",
       "  </thead>\n",
       "  <tbody>\n",
       "    <tr>\n",
       "      <th>0</th>\n",
       "      <td>a</td>\n",
       "      <td>B</td>\n",
       "      <td>1</td>\n",
       "    </tr>\n",
       "    <tr>\n",
       "      <th>1</th>\n",
       "      <td>b</td>\n",
       "      <td>B</td>\n",
       "      <td>3</td>\n",
       "    </tr>\n",
       "    <tr>\n",
       "      <th>2</th>\n",
       "      <td>c</td>\n",
       "      <td>B</td>\n",
       "      <td>5</td>\n",
       "    </tr>\n",
       "  </tbody>\n",
       "</table>\n",
       "</div>"
      ],
      "text/plain": [
       "   A variable  value\n",
       "0  a        B      1\n",
       "1  b        B      3\n",
       "2  c        B      5"
      ]
     },
     "execution_count": 441,
     "metadata": {},
     "output_type": "execute_result"
    }
   ],
   "source": [
    "pd.melt(df, id_vars=['A'], value_vars=['B'])"
   ]
  },
  {
   "cell_type": "code",
   "execution_count": 442,
   "id": "7c458673",
   "metadata": {
    "hidden": true
   },
   "outputs": [
    {
     "data": {
      "text/html": [
       "<div>\n",
       "<style scoped>\n",
       "    .dataframe tbody tr th:only-of-type {\n",
       "        vertical-align: middle;\n",
       "    }\n",
       "\n",
       "    .dataframe tbody tr th {\n",
       "        vertical-align: top;\n",
       "    }\n",
       "\n",
       "    .dataframe thead th {\n",
       "        text-align: right;\n",
       "    }\n",
       "</style>\n",
       "<table border=\"1\" class=\"dataframe\">\n",
       "  <thead>\n",
       "    <tr style=\"text-align: right;\">\n",
       "      <th></th>\n",
       "      <th>A</th>\n",
       "      <th>variable</th>\n",
       "      <th>value</th>\n",
       "    </tr>\n",
       "  </thead>\n",
       "  <tbody>\n",
       "    <tr>\n",
       "      <th>0</th>\n",
       "      <td>a</td>\n",
       "      <td>B</td>\n",
       "      <td>1</td>\n",
       "    </tr>\n",
       "    <tr>\n",
       "      <th>1</th>\n",
       "      <td>b</td>\n",
       "      <td>B</td>\n",
       "      <td>3</td>\n",
       "    </tr>\n",
       "    <tr>\n",
       "      <th>2</th>\n",
       "      <td>c</td>\n",
       "      <td>B</td>\n",
       "      <td>5</td>\n",
       "    </tr>\n",
       "    <tr>\n",
       "      <th>3</th>\n",
       "      <td>a</td>\n",
       "      <td>C</td>\n",
       "      <td>2</td>\n",
       "    </tr>\n",
       "    <tr>\n",
       "      <th>4</th>\n",
       "      <td>b</td>\n",
       "      <td>C</td>\n",
       "      <td>4</td>\n",
       "    </tr>\n",
       "    <tr>\n",
       "      <th>5</th>\n",
       "      <td>c</td>\n",
       "      <td>C</td>\n",
       "      <td>6</td>\n",
       "    </tr>\n",
       "  </tbody>\n",
       "</table>\n",
       "</div>"
      ],
      "text/plain": [
       "   A variable  value\n",
       "0  a        B      1\n",
       "1  b        B      3\n",
       "2  c        B      5\n",
       "3  a        C      2\n",
       "4  b        C      4\n",
       "5  c        C      6"
      ]
     },
     "execution_count": 442,
     "metadata": {},
     "output_type": "execute_result"
    }
   ],
   "source": [
    "pd.melt(df, id_vars=['A'], value_vars=['B', 'C'])"
   ]
  },
  {
   "cell_type": "code",
   "execution_count": 443,
   "id": "e83f1f83",
   "metadata": {
    "hidden": true
   },
   "outputs": [
    {
     "data": {
      "text/html": [
       "<div>\n",
       "<style scoped>\n",
       "    .dataframe tbody tr th:only-of-type {\n",
       "        vertical-align: middle;\n",
       "    }\n",
       "\n",
       "    .dataframe tbody tr th {\n",
       "        vertical-align: top;\n",
       "    }\n",
       "\n",
       "    .dataframe thead th {\n",
       "        text-align: right;\n",
       "    }\n",
       "</style>\n",
       "<table border=\"1\" class=\"dataframe\">\n",
       "  <thead>\n",
       "    <tr style=\"text-align: right;\">\n",
       "      <th></th>\n",
       "      <th>A</th>\n",
       "      <th>nome da var</th>\n",
       "      <th>valor da var</th>\n",
       "    </tr>\n",
       "  </thead>\n",
       "  <tbody>\n",
       "    <tr>\n",
       "      <th>0</th>\n",
       "      <td>a</td>\n",
       "      <td>B</td>\n",
       "      <td>1</td>\n",
       "    </tr>\n",
       "    <tr>\n",
       "      <th>1</th>\n",
       "      <td>b</td>\n",
       "      <td>B</td>\n",
       "      <td>3</td>\n",
       "    </tr>\n",
       "    <tr>\n",
       "      <th>2</th>\n",
       "      <td>c</td>\n",
       "      <td>B</td>\n",
       "      <td>5</td>\n",
       "    </tr>\n",
       "    <tr>\n",
       "      <th>3</th>\n",
       "      <td>a</td>\n",
       "      <td>C</td>\n",
       "      <td>2</td>\n",
       "    </tr>\n",
       "    <tr>\n",
       "      <th>4</th>\n",
       "      <td>b</td>\n",
       "      <td>C</td>\n",
       "      <td>4</td>\n",
       "    </tr>\n",
       "    <tr>\n",
       "      <th>5</th>\n",
       "      <td>c</td>\n",
       "      <td>C</td>\n",
       "      <td>6</td>\n",
       "    </tr>\n",
       "  </tbody>\n",
       "</table>\n",
       "</div>"
      ],
      "text/plain": [
       "   A nome da var  valor da var\n",
       "0  a           B             1\n",
       "1  b           B             3\n",
       "2  c           B             5\n",
       "3  a           C             2\n",
       "4  b           C             4\n",
       "5  c           C             6"
      ]
     },
     "execution_count": 443,
     "metadata": {},
     "output_type": "execute_result"
    }
   ],
   "source": [
    "pd.melt(df, id_vars=['A'], value_vars=['B', 'C'], var_name='nome da var', value_name='valor da var')"
   ]
  },
  {
   "cell_type": "code",
   "execution_count": 444,
   "id": "f5a76a48",
   "metadata": {
    "hidden": true
   },
   "outputs": [
    {
     "name": "stdout",
     "output_type": "stream",
     "text": [
      "{'Localização': ['cidadeA', 'cidadeB'], 'Temperatura': ['prevista', 'atual'], 'Set-2021': [30, 32], 'Out-2021': [45, 43], 'Nov-2021': [24, 22]}\n"
     ]
    }
   ],
   "source": [
    "data = {\n",
    "    'Localização' : ['cidadeA', 'cidadeB'], \n",
    "    'Temperatura' : ['prevista', 'atual'],\n",
    "    'Set-2021':     [30, 32],\n",
    "    'Out-2021':     [45, 43],\n",
    "    'Nov-2021':     [24, 22]\n",
    "}\n",
    "\n",
    "print(data)"
   ]
  },
  {
   "cell_type": "code",
   "execution_count": 445,
   "id": "64007b46",
   "metadata": {
    "hidden": true
   },
   "outputs": [
    {
     "data": {
      "text/html": [
       "<div>\n",
       "<style scoped>\n",
       "    .dataframe tbody tr th:only-of-type {\n",
       "        vertical-align: middle;\n",
       "    }\n",
       "\n",
       "    .dataframe tbody tr th {\n",
       "        vertical-align: top;\n",
       "    }\n",
       "\n",
       "    .dataframe thead th {\n",
       "        text-align: right;\n",
       "    }\n",
       "</style>\n",
       "<table border=\"1\" class=\"dataframe\">\n",
       "  <thead>\n",
       "    <tr style=\"text-align: right;\">\n",
       "      <th></th>\n",
       "      <th>Localização</th>\n",
       "      <th>Temperatura</th>\n",
       "      <th>Set-2021</th>\n",
       "      <th>Out-2021</th>\n",
       "      <th>Nov-2021</th>\n",
       "    </tr>\n",
       "  </thead>\n",
       "  <tbody>\n",
       "    <tr>\n",
       "      <th>0</th>\n",
       "      <td>cidadeA</td>\n",
       "      <td>prevista</td>\n",
       "      <td>30</td>\n",
       "      <td>45</td>\n",
       "      <td>24</td>\n",
       "    </tr>\n",
       "    <tr>\n",
       "      <th>1</th>\n",
       "      <td>cidadeB</td>\n",
       "      <td>atual</td>\n",
       "      <td>32</td>\n",
       "      <td>43</td>\n",
       "      <td>22</td>\n",
       "    </tr>\n",
       "  </tbody>\n",
       "</table>\n",
       "</div>"
      ],
      "text/plain": [
       "  Localização Temperatura  Set-2021  Out-2021  Nov-2021\n",
       "0     cidadeA    prevista        30        45        24\n",
       "1     cidadeB       atual        32        43        22"
      ]
     },
     "execution_count": 445,
     "metadata": {},
     "output_type": "execute_result"
    }
   ],
   "source": [
    "df = pd.DataFrame(data, columns = ['Localização', 'Temperatura', 'Set-2021', 'Out-2021', 'Nov-2021'])\n",
    "df"
   ]
  },
  {
   "cell_type": "code",
   "execution_count": 446,
   "id": "04565261",
   "metadata": {
    "hidden": true
   },
   "outputs": [
    {
     "data": {
      "text/html": [
       "<div>\n",
       "<style scoped>\n",
       "    .dataframe tbody tr th:only-of-type {\n",
       "        vertical-align: middle;\n",
       "    }\n",
       "\n",
       "    .dataframe tbody tr th {\n",
       "        vertical-align: top;\n",
       "    }\n",
       "\n",
       "    .dataframe thead th {\n",
       "        text-align: right;\n",
       "    }\n",
       "</style>\n",
       "<table border=\"1\" class=\"dataframe\">\n",
       "  <thead>\n",
       "    <tr style=\"text-align: right;\">\n",
       "      <th></th>\n",
       "      <th>Localização</th>\n",
       "      <th>Temperatura</th>\n",
       "      <th>Data</th>\n",
       "      <th>Valor</th>\n",
       "    </tr>\n",
       "  </thead>\n",
       "  <tbody>\n",
       "    <tr>\n",
       "      <th>0</th>\n",
       "      <td>cidadeA</td>\n",
       "      <td>prevista</td>\n",
       "      <td>Set-2021</td>\n",
       "      <td>30</td>\n",
       "    </tr>\n",
       "    <tr>\n",
       "      <th>1</th>\n",
       "      <td>cidadeB</td>\n",
       "      <td>atual</td>\n",
       "      <td>Set-2021</td>\n",
       "      <td>32</td>\n",
       "    </tr>\n",
       "    <tr>\n",
       "      <th>2</th>\n",
       "      <td>cidadeA</td>\n",
       "      <td>prevista</td>\n",
       "      <td>Out-2021</td>\n",
       "      <td>45</td>\n",
       "    </tr>\n",
       "    <tr>\n",
       "      <th>3</th>\n",
       "      <td>cidadeB</td>\n",
       "      <td>atual</td>\n",
       "      <td>Out-2021</td>\n",
       "      <td>43</td>\n",
       "    </tr>\n",
       "    <tr>\n",
       "      <th>4</th>\n",
       "      <td>cidadeA</td>\n",
       "      <td>prevista</td>\n",
       "      <td>Nov-2021</td>\n",
       "      <td>24</td>\n",
       "    </tr>\n",
       "    <tr>\n",
       "      <th>5</th>\n",
       "      <td>cidadeB</td>\n",
       "      <td>atual</td>\n",
       "      <td>Nov-2021</td>\n",
       "      <td>22</td>\n",
       "    </tr>\n",
       "  </tbody>\n",
       "</table>\n",
       "</div>"
      ],
      "text/plain": [
       "  Localização Temperatura      Data  Valor\n",
       "0     cidadeA    prevista  Set-2021     30\n",
       "1     cidadeB       atual  Set-2021     32\n",
       "2     cidadeA    prevista  Out-2021     45\n",
       "3     cidadeB       atual  Out-2021     43\n",
       "4     cidadeA    prevista  Nov-2021     24\n",
       "5     cidadeB       atual  Nov-2021     22"
      ]
     },
     "execution_count": 446,
     "metadata": {},
     "output_type": "execute_result"
    }
   ],
   "source": [
    "df2 = pd.melt(df, id_vars=['Localização', 'Temperatura'], var_name='Data', value_name='Valor')\n",
    "\n",
    "df2"
   ]
  },
  {
   "cell_type": "markdown",
   "id": "590dd682",
   "metadata": {
    "heading_collapsed": true
   },
   "source": [
    "## 2.6. Seleção de linhas e colunas"
   ]
  },
  {
   "cell_type": "code",
   "execution_count": 447,
   "id": "50b6b747",
   "metadata": {
    "hidden": true
   },
   "outputs": [],
   "source": [
    "datas = pd.date_range('20210101', periods = 600)\n",
    "\n",
    "df = pd.DataFrame(np.random.rand(600, 5), index = datas, columns = list('ABCDE'))"
   ]
  },
  {
   "cell_type": "code",
   "execution_count": 448,
   "id": "fcc0c30a",
   "metadata": {
    "hidden": true
   },
   "outputs": [
    {
     "data": {
      "text/html": [
       "<div>\n",
       "<style scoped>\n",
       "    .dataframe tbody tr th:only-of-type {\n",
       "        vertical-align: middle;\n",
       "    }\n",
       "\n",
       "    .dataframe tbody tr th {\n",
       "        vertical-align: top;\n",
       "    }\n",
       "\n",
       "    .dataframe thead th {\n",
       "        text-align: right;\n",
       "    }\n",
       "</style>\n",
       "<table border=\"1\" class=\"dataframe\">\n",
       "  <thead>\n",
       "    <tr style=\"text-align: right;\">\n",
       "      <th></th>\n",
       "      <th>A</th>\n",
       "      <th>B</th>\n",
       "      <th>C</th>\n",
       "      <th>D</th>\n",
       "      <th>E</th>\n",
       "    </tr>\n",
       "  </thead>\n",
       "  <tbody>\n",
       "    <tr>\n",
       "      <th>2021-01-01</th>\n",
       "      <td>0.352651</td>\n",
       "      <td>0.898150</td>\n",
       "      <td>0.564599</td>\n",
       "      <td>0.288722</td>\n",
       "      <td>0.979851</td>\n",
       "    </tr>\n",
       "    <tr>\n",
       "      <th>2021-01-02</th>\n",
       "      <td>0.910355</td>\n",
       "      <td>0.718123</td>\n",
       "      <td>0.573570</td>\n",
       "      <td>0.976761</td>\n",
       "      <td>0.159610</td>\n",
       "    </tr>\n",
       "    <tr>\n",
       "      <th>2021-01-03</th>\n",
       "      <td>0.088129</td>\n",
       "      <td>0.932644</td>\n",
       "      <td>0.986273</td>\n",
       "      <td>0.197761</td>\n",
       "      <td>0.536170</td>\n",
       "    </tr>\n",
       "    <tr>\n",
       "      <th>2021-01-04</th>\n",
       "      <td>0.773962</td>\n",
       "      <td>0.494546</td>\n",
       "      <td>0.769361</td>\n",
       "      <td>0.240219</td>\n",
       "      <td>0.124083</td>\n",
       "    </tr>\n",
       "  </tbody>\n",
       "</table>\n",
       "</div>"
      ],
      "text/plain": [
       "                   A         B         C         D         E\n",
       "2021-01-01  0.352651  0.898150  0.564599  0.288722  0.979851\n",
       "2021-01-02  0.910355  0.718123  0.573570  0.976761  0.159610\n",
       "2021-01-03  0.088129  0.932644  0.986273  0.197761  0.536170\n",
       "2021-01-04  0.773962  0.494546  0.769361  0.240219  0.124083"
      ]
     },
     "execution_count": 448,
     "metadata": {},
     "output_type": "execute_result"
    }
   ],
   "source": [
    "df.head(4)"
   ]
  },
  {
   "cell_type": "code",
   "execution_count": 449,
   "id": "c8e76031",
   "metadata": {
    "hidden": true
   },
   "outputs": [
    {
     "data": {
      "text/plain": [
       "2022-08-19    0.090279\n",
       "2022-08-20    0.673873\n",
       "2022-08-21    0.980384\n",
       "2022-08-22    0.290099\n",
       "2022-08-23    0.321481\n",
       "Freq: D, Name: D, dtype: float64"
      ]
     },
     "execution_count": 449,
     "metadata": {},
     "output_type": "execute_result"
    }
   ],
   "source": [
    "df['D'].tail(5)"
   ]
  },
  {
   "cell_type": "code",
   "execution_count": 450,
   "id": "b48869e1",
   "metadata": {
    "hidden": true
   },
   "outputs": [
    {
     "data": {
      "text/html": [
       "<div>\n",
       "<style scoped>\n",
       "    .dataframe tbody tr th:only-of-type {\n",
       "        vertical-align: middle;\n",
       "    }\n",
       "\n",
       "    .dataframe tbody tr th {\n",
       "        vertical-align: top;\n",
       "    }\n",
       "\n",
       "    .dataframe thead th {\n",
       "        text-align: right;\n",
       "    }\n",
       "</style>\n",
       "<table border=\"1\" class=\"dataframe\">\n",
       "  <thead>\n",
       "    <tr style=\"text-align: right;\">\n",
       "      <th></th>\n",
       "      <th>A</th>\n",
       "      <th>B</th>\n",
       "      <th>C</th>\n",
       "      <th>D</th>\n",
       "      <th>E</th>\n",
       "    </tr>\n",
       "  </thead>\n",
       "  <tbody>\n",
       "    <tr>\n",
       "      <th>2021-01-02</th>\n",
       "      <td>0.910355</td>\n",
       "      <td>0.718123</td>\n",
       "      <td>0.573570</td>\n",
       "      <td>0.976761</td>\n",
       "      <td>0.159610</td>\n",
       "    </tr>\n",
       "    <tr>\n",
       "      <th>2021-01-03</th>\n",
       "      <td>0.088129</td>\n",
       "      <td>0.932644</td>\n",
       "      <td>0.986273</td>\n",
       "      <td>0.197761</td>\n",
       "      <td>0.536170</td>\n",
       "    </tr>\n",
       "    <tr>\n",
       "      <th>2021-01-04</th>\n",
       "      <td>0.773962</td>\n",
       "      <td>0.494546</td>\n",
       "      <td>0.769361</td>\n",
       "      <td>0.240219</td>\n",
       "      <td>0.124083</td>\n",
       "    </tr>\n",
       "    <tr>\n",
       "      <th>2021-01-05</th>\n",
       "      <td>0.445809</td>\n",
       "      <td>0.596361</td>\n",
       "      <td>0.456387</td>\n",
       "      <td>0.569813</td>\n",
       "      <td>0.761558</td>\n",
       "    </tr>\n",
       "  </tbody>\n",
       "</table>\n",
       "</div>"
      ],
      "text/plain": [
       "                   A         B         C         D         E\n",
       "2021-01-02  0.910355  0.718123  0.573570  0.976761  0.159610\n",
       "2021-01-03  0.088129  0.932644  0.986273  0.197761  0.536170\n",
       "2021-01-04  0.773962  0.494546  0.769361  0.240219  0.124083\n",
       "2021-01-05  0.445809  0.596361  0.456387  0.569813  0.761558"
      ]
     },
     "execution_count": 450,
     "metadata": {},
     "output_type": "execute_result"
    }
   ],
   "source": [
    "df[1 : 5]"
   ]
  },
  {
   "cell_type": "code",
   "execution_count": 451,
   "id": "bc8c2979",
   "metadata": {
    "hidden": true
   },
   "outputs": [
    {
     "data": {
      "text/html": [
       "<div>\n",
       "<style scoped>\n",
       "    .dataframe tbody tr th:only-of-type {\n",
       "        vertical-align: middle;\n",
       "    }\n",
       "\n",
       "    .dataframe tbody tr th {\n",
       "        vertical-align: top;\n",
       "    }\n",
       "\n",
       "    .dataframe thead th {\n",
       "        text-align: right;\n",
       "    }\n",
       "</style>\n",
       "<table border=\"1\" class=\"dataframe\">\n",
       "  <thead>\n",
       "    <tr style=\"text-align: right;\">\n",
       "      <th></th>\n",
       "      <th>B</th>\n",
       "      <th>C</th>\n",
       "      <th>D</th>\n",
       "    </tr>\n",
       "  </thead>\n",
       "  <tbody>\n",
       "    <tr>\n",
       "      <th>2021-01-01</th>\n",
       "      <td>0.898150</td>\n",
       "      <td>0.564599</td>\n",
       "      <td>0.288722</td>\n",
       "    </tr>\n",
       "    <tr>\n",
       "      <th>2021-01-02</th>\n",
       "      <td>0.718123</td>\n",
       "      <td>0.573570</td>\n",
       "      <td>0.976761</td>\n",
       "    </tr>\n",
       "    <tr>\n",
       "      <th>2021-01-03</th>\n",
       "      <td>0.932644</td>\n",
       "      <td>0.986273</td>\n",
       "      <td>0.197761</td>\n",
       "    </tr>\n",
       "    <tr>\n",
       "      <th>2021-01-04</th>\n",
       "      <td>0.494546</td>\n",
       "      <td>0.769361</td>\n",
       "      <td>0.240219</td>\n",
       "    </tr>\n",
       "    <tr>\n",
       "      <th>2021-01-05</th>\n",
       "      <td>0.596361</td>\n",
       "      <td>0.456387</td>\n",
       "      <td>0.569813</td>\n",
       "    </tr>\n",
       "    <tr>\n",
       "      <th>...</th>\n",
       "      <td>...</td>\n",
       "      <td>...</td>\n",
       "      <td>...</td>\n",
       "    </tr>\n",
       "    <tr>\n",
       "      <th>2022-08-19</th>\n",
       "      <td>0.094518</td>\n",
       "      <td>0.542092</td>\n",
       "      <td>0.090279</td>\n",
       "    </tr>\n",
       "    <tr>\n",
       "      <th>2022-08-20</th>\n",
       "      <td>0.235773</td>\n",
       "      <td>0.991298</td>\n",
       "      <td>0.673873</td>\n",
       "    </tr>\n",
       "    <tr>\n",
       "      <th>2022-08-21</th>\n",
       "      <td>0.657153</td>\n",
       "      <td>0.172594</td>\n",
       "      <td>0.980384</td>\n",
       "    </tr>\n",
       "    <tr>\n",
       "      <th>2022-08-22</th>\n",
       "      <td>0.947313</td>\n",
       "      <td>0.728176</td>\n",
       "      <td>0.290099</td>\n",
       "    </tr>\n",
       "    <tr>\n",
       "      <th>2022-08-23</th>\n",
       "      <td>0.476882</td>\n",
       "      <td>0.528800</td>\n",
       "      <td>0.321481</td>\n",
       "    </tr>\n",
       "  </tbody>\n",
       "</table>\n",
       "<p>600 rows × 3 columns</p>\n",
       "</div>"
      ],
      "text/plain": [
       "                   B         C         D\n",
       "2021-01-01  0.898150  0.564599  0.288722\n",
       "2021-01-02  0.718123  0.573570  0.976761\n",
       "2021-01-03  0.932644  0.986273  0.197761\n",
       "2021-01-04  0.494546  0.769361  0.240219\n",
       "2021-01-05  0.596361  0.456387  0.569813\n",
       "...              ...       ...       ...\n",
       "2022-08-19  0.094518  0.542092  0.090279\n",
       "2022-08-20  0.235773  0.991298  0.673873\n",
       "2022-08-21  0.657153  0.172594  0.980384\n",
       "2022-08-22  0.947313  0.728176  0.290099\n",
       "2022-08-23  0.476882  0.528800  0.321481\n",
       "\n",
       "[600 rows x 3 columns]"
      ]
     },
     "execution_count": 451,
     "metadata": {},
     "output_type": "execute_result"
    }
   ],
   "source": [
    "df.loc[:, ['B', 'C', 'D']]"
   ]
  },
  {
   "cell_type": "markdown",
   "id": "a45f4cb9",
   "metadata": {
    "hidden": true
   },
   "source": [
    "**Filtragem do intervalo entre as datas especificadas e das colunas A e C**"
   ]
  },
  {
   "cell_type": "code",
   "execution_count": 452,
   "id": "19f47715",
   "metadata": {
    "hidden": true,
    "scrolled": true
   },
   "outputs": [
    {
     "data": {
      "text/html": [
       "<div>\n",
       "<style scoped>\n",
       "    .dataframe tbody tr th:only-of-type {\n",
       "        vertical-align: middle;\n",
       "    }\n",
       "\n",
       "    .dataframe tbody tr th {\n",
       "        vertical-align: top;\n",
       "    }\n",
       "\n",
       "    .dataframe thead th {\n",
       "        text-align: right;\n",
       "    }\n",
       "</style>\n",
       "<table border=\"1\" class=\"dataframe\">\n",
       "  <thead>\n",
       "    <tr style=\"text-align: right;\">\n",
       "      <th></th>\n",
       "      <th>A</th>\n",
       "      <th>C</th>\n",
       "    </tr>\n",
       "  </thead>\n",
       "  <tbody>\n",
       "    <tr>\n",
       "      <th>2022-01-01</th>\n",
       "      <td>0.408671</td>\n",
       "      <td>0.055691</td>\n",
       "    </tr>\n",
       "    <tr>\n",
       "      <th>2022-01-02</th>\n",
       "      <td>0.847989</td>\n",
       "      <td>0.018251</td>\n",
       "    </tr>\n",
       "    <tr>\n",
       "      <th>2022-01-03</th>\n",
       "      <td>0.395713</td>\n",
       "      <td>0.209735</td>\n",
       "    </tr>\n",
       "    <tr>\n",
       "      <th>2022-01-04</th>\n",
       "      <td>0.400342</td>\n",
       "      <td>0.890596</td>\n",
       "    </tr>\n",
       "    <tr>\n",
       "      <th>2022-01-05</th>\n",
       "      <td>0.930228</td>\n",
       "      <td>0.545260</td>\n",
       "    </tr>\n",
       "  </tbody>\n",
       "</table>\n",
       "</div>"
      ],
      "text/plain": [
       "                   A         C\n",
       "2022-01-01  0.408671  0.055691\n",
       "2022-01-02  0.847989  0.018251\n",
       "2022-01-03  0.395713  0.209735\n",
       "2022-01-04  0.400342  0.890596\n",
       "2022-01-05  0.930228  0.545260"
      ]
     },
     "execution_count": 452,
     "metadata": {},
     "output_type": "execute_result"
    }
   ],
   "source": [
    "df.loc['20220101' : '20220323', ['A', 'C']].head(5)"
   ]
  },
  {
   "cell_type": "markdown",
   "id": "9450ad77",
   "metadata": {
    "hidden": true
   },
   "source": [
    "**Filtragem de todas as colunas da linha 1**"
   ]
  },
  {
   "cell_type": "code",
   "execution_count": 453,
   "id": "a66ff12e",
   "metadata": {
    "hidden": true,
    "scrolled": true
   },
   "outputs": [
    {
     "data": {
      "text/plain": [
       "A    0.910355\n",
       "B    0.718123\n",
       "C    0.573570\n",
       "D    0.976761\n",
       "E    0.159610\n",
       "Name: 2021-01-02 00:00:00, dtype: float64"
      ]
     },
     "execution_count": 453,
     "metadata": {},
     "output_type": "execute_result"
    }
   ],
   "source": [
    "df.iloc[1]"
   ]
  },
  {
   "cell_type": "markdown",
   "id": "51bf6816",
   "metadata": {
    "hidden": true
   },
   "source": [
    "**Filtragem de um intervalo específico entre linhas e colunas (1º intervalo linhas, 2º colunas)**"
   ]
  },
  {
   "cell_type": "code",
   "execution_count": 454,
   "id": "a32b4bfb",
   "metadata": {
    "hidden": true,
    "scrolled": true
   },
   "outputs": [
    {
     "data": {
      "text/html": [
       "<div>\n",
       "<style scoped>\n",
       "    .dataframe tbody tr th:only-of-type {\n",
       "        vertical-align: middle;\n",
       "    }\n",
       "\n",
       "    .dataframe tbody tr th {\n",
       "        vertical-align: top;\n",
       "    }\n",
       "\n",
       "    .dataframe thead th {\n",
       "        text-align: right;\n",
       "    }\n",
       "</style>\n",
       "<table border=\"1\" class=\"dataframe\">\n",
       "  <thead>\n",
       "    <tr style=\"text-align: right;\">\n",
       "      <th></th>\n",
       "      <th>B</th>\n",
       "      <th>C</th>\n",
       "      <th>D</th>\n",
       "      <th>E</th>\n",
       "    </tr>\n",
       "  </thead>\n",
       "  <tbody>\n",
       "    <tr>\n",
       "      <th>2021-01-02</th>\n",
       "      <td>0.718123</td>\n",
       "      <td>0.573570</td>\n",
       "      <td>0.976761</td>\n",
       "      <td>0.159610</td>\n",
       "    </tr>\n",
       "    <tr>\n",
       "      <th>2021-01-03</th>\n",
       "      <td>0.932644</td>\n",
       "      <td>0.986273</td>\n",
       "      <td>0.197761</td>\n",
       "      <td>0.536170</td>\n",
       "    </tr>\n",
       "    <tr>\n",
       "      <th>2021-01-04</th>\n",
       "      <td>0.494546</td>\n",
       "      <td>0.769361</td>\n",
       "      <td>0.240219</td>\n",
       "      <td>0.124083</td>\n",
       "    </tr>\n",
       "  </tbody>\n",
       "</table>\n",
       "</div>"
      ],
      "text/plain": [
       "                   B         C         D         E\n",
       "2021-01-02  0.718123  0.573570  0.976761  0.159610\n",
       "2021-01-03  0.932644  0.986273  0.197761  0.536170\n",
       "2021-01-04  0.494546  0.769361  0.240219  0.124083"
      ]
     },
     "execution_count": 454,
     "metadata": {},
     "output_type": "execute_result"
    }
   ],
   "source": [
    "df.iloc[1:4, 1: 6]"
   ]
  },
  {
   "cell_type": "markdown",
   "id": "8ff7dc80",
   "metadata": {
    "hidden": true
   },
   "source": [
    "**Filtragem de linhas e colunas escolhidas**"
   ]
  },
  {
   "cell_type": "code",
   "execution_count": 455,
   "id": "345428e3",
   "metadata": {
    "hidden": true
   },
   "outputs": [
    {
     "data": {
      "text/html": [
       "<div>\n",
       "<style scoped>\n",
       "    .dataframe tbody tr th:only-of-type {\n",
       "        vertical-align: middle;\n",
       "    }\n",
       "\n",
       "    .dataframe tbody tr th {\n",
       "        vertical-align: top;\n",
       "    }\n",
       "\n",
       "    .dataframe thead th {\n",
       "        text-align: right;\n",
       "    }\n",
       "</style>\n",
       "<table border=\"1\" class=\"dataframe\">\n",
       "  <thead>\n",
       "    <tr style=\"text-align: right;\">\n",
       "      <th></th>\n",
       "      <th>A</th>\n",
       "      <th>D</th>\n",
       "    </tr>\n",
       "  </thead>\n",
       "  <tbody>\n",
       "    <tr>\n",
       "      <th>2021-01-08</th>\n",
       "      <td>0.005503</td>\n",
       "      <td>0.102167</td>\n",
       "    </tr>\n",
       "    <tr>\n",
       "      <th>2021-01-05</th>\n",
       "      <td>0.445809</td>\n",
       "      <td>0.569813</td>\n",
       "    </tr>\n",
       "    <tr>\n",
       "      <th>2021-01-09</th>\n",
       "      <td>0.802038</td>\n",
       "      <td>0.388318</td>\n",
       "    </tr>\n",
       "  </tbody>\n",
       "</table>\n",
       "</div>"
      ],
      "text/plain": [
       "                   A         D\n",
       "2021-01-08  0.005503  0.102167\n",
       "2021-01-05  0.445809  0.569813\n",
       "2021-01-09  0.802038  0.388318"
      ]
     },
     "execution_count": 455,
     "metadata": {},
     "output_type": "execute_result"
    }
   ],
   "source": [
    "df.iloc[[7, 4, 8], [0, 3]]"
   ]
  },
  {
   "cell_type": "markdown",
   "id": "be9fb81b",
   "metadata": {
    "hidden": true
   },
   "source": [
    "**Filtros booleanos**"
   ]
  },
  {
   "cell_type": "code",
   "execution_count": 456,
   "id": "e2341712",
   "metadata": {
    "hidden": true
   },
   "outputs": [
    {
     "data": {
      "text/html": [
       "<div>\n",
       "<style scoped>\n",
       "    .dataframe tbody tr th:only-of-type {\n",
       "        vertical-align: middle;\n",
       "    }\n",
       "\n",
       "    .dataframe tbody tr th {\n",
       "        vertical-align: top;\n",
       "    }\n",
       "\n",
       "    .dataframe thead th {\n",
       "        text-align: right;\n",
       "    }\n",
       "</style>\n",
       "<table border=\"1\" class=\"dataframe\">\n",
       "  <thead>\n",
       "    <tr style=\"text-align: right;\">\n",
       "      <th></th>\n",
       "      <th>A</th>\n",
       "      <th>B</th>\n",
       "      <th>C</th>\n",
       "      <th>D</th>\n",
       "      <th>E</th>\n",
       "    </tr>\n",
       "  </thead>\n",
       "  <tbody>\n",
       "    <tr>\n",
       "      <th>2021-01-01</th>\n",
       "      <td>0.352651</td>\n",
       "      <td>0.898150</td>\n",
       "      <td>0.564599</td>\n",
       "      <td>0.288722</td>\n",
       "      <td>0.979851</td>\n",
       "    </tr>\n",
       "    <tr>\n",
       "      <th>2021-01-02</th>\n",
       "      <td>0.910355</td>\n",
       "      <td>0.718123</td>\n",
       "      <td>0.573570</td>\n",
       "      <td>0.976761</td>\n",
       "      <td>0.159610</td>\n",
       "    </tr>\n",
       "    <tr>\n",
       "      <th>2021-01-03</th>\n",
       "      <td>0.088129</td>\n",
       "      <td>0.932644</td>\n",
       "      <td>0.986273</td>\n",
       "      <td>0.197761</td>\n",
       "      <td>0.536170</td>\n",
       "    </tr>\n",
       "    <tr>\n",
       "      <th>2021-01-04</th>\n",
       "      <td>0.773962</td>\n",
       "      <td>0.494546</td>\n",
       "      <td>0.769361</td>\n",
       "      <td>0.240219</td>\n",
       "      <td>0.124083</td>\n",
       "    </tr>\n",
       "    <tr>\n",
       "      <th>2021-01-05</th>\n",
       "      <td>0.445809</td>\n",
       "      <td>0.596361</td>\n",
       "      <td>0.456387</td>\n",
       "      <td>0.569813</td>\n",
       "      <td>0.761558</td>\n",
       "    </tr>\n",
       "    <tr>\n",
       "      <th>...</th>\n",
       "      <td>...</td>\n",
       "      <td>...</td>\n",
       "      <td>...</td>\n",
       "      <td>...</td>\n",
       "      <td>...</td>\n",
       "    </tr>\n",
       "    <tr>\n",
       "      <th>2022-08-19</th>\n",
       "      <td>0.512019</td>\n",
       "      <td>0.094518</td>\n",
       "      <td>0.542092</td>\n",
       "      <td>0.090279</td>\n",
       "      <td>0.673846</td>\n",
       "    </tr>\n",
       "    <tr>\n",
       "      <th>2022-08-20</th>\n",
       "      <td>0.765809</td>\n",
       "      <td>0.235773</td>\n",
       "      <td>0.991298</td>\n",
       "      <td>0.673873</td>\n",
       "      <td>0.633129</td>\n",
       "    </tr>\n",
       "    <tr>\n",
       "      <th>2022-08-21</th>\n",
       "      <td>0.284893</td>\n",
       "      <td>0.657153</td>\n",
       "      <td>0.172594</td>\n",
       "      <td>0.980384</td>\n",
       "      <td>0.812061</td>\n",
       "    </tr>\n",
       "    <tr>\n",
       "      <th>2022-08-22</th>\n",
       "      <td>0.632548</td>\n",
       "      <td>0.947313</td>\n",
       "      <td>0.728176</td>\n",
       "      <td>0.290099</td>\n",
       "      <td>0.719946</td>\n",
       "    </tr>\n",
       "    <tr>\n",
       "      <th>2022-08-23</th>\n",
       "      <td>0.689757</td>\n",
       "      <td>0.476882</td>\n",
       "      <td>0.528800</td>\n",
       "      <td>0.321481</td>\n",
       "      <td>0.706119</td>\n",
       "    </tr>\n",
       "  </tbody>\n",
       "</table>\n",
       "<p>600 rows × 5 columns</p>\n",
       "</div>"
      ],
      "text/plain": [
       "                   A         B         C         D         E\n",
       "2021-01-01  0.352651  0.898150  0.564599  0.288722  0.979851\n",
       "2021-01-02  0.910355  0.718123  0.573570  0.976761  0.159610\n",
       "2021-01-03  0.088129  0.932644  0.986273  0.197761  0.536170\n",
       "2021-01-04  0.773962  0.494546  0.769361  0.240219  0.124083\n",
       "2021-01-05  0.445809  0.596361  0.456387  0.569813  0.761558\n",
       "...              ...       ...       ...       ...       ...\n",
       "2022-08-19  0.512019  0.094518  0.542092  0.090279  0.673846\n",
       "2022-08-20  0.765809  0.235773  0.991298  0.673873  0.633129\n",
       "2022-08-21  0.284893  0.657153  0.172594  0.980384  0.812061\n",
       "2022-08-22  0.632548  0.947313  0.728176  0.290099  0.719946\n",
       "2022-08-23  0.689757  0.476882  0.528800  0.321481  0.706119\n",
       "\n",
       "[600 rows x 5 columns]"
      ]
     },
     "execution_count": 456,
     "metadata": {},
     "output_type": "execute_result"
    }
   ],
   "source": [
    "df[df.A>0]"
   ]
  },
  {
   "cell_type": "code",
   "execution_count": 457,
   "id": "259289ac",
   "metadata": {
    "hidden": true
   },
   "outputs": [
    {
     "data": {
      "text/html": [
       "<div>\n",
       "<style scoped>\n",
       "    .dataframe tbody tr th:only-of-type {\n",
       "        vertical-align: middle;\n",
       "    }\n",
       "\n",
       "    .dataframe tbody tr th {\n",
       "        vertical-align: top;\n",
       "    }\n",
       "\n",
       "    .dataframe thead th {\n",
       "        text-align: right;\n",
       "    }\n",
       "</style>\n",
       "<table border=\"1\" class=\"dataframe\">\n",
       "  <thead>\n",
       "    <tr style=\"text-align: right;\">\n",
       "      <th></th>\n",
       "      <th>A</th>\n",
       "      <th>B</th>\n",
       "      <th>C</th>\n",
       "      <th>D</th>\n",
       "      <th>E</th>\n",
       "    </tr>\n",
       "  </thead>\n",
       "  <tbody>\n",
       "    <tr>\n",
       "      <th>2021-01-01</th>\n",
       "      <td>0.352651</td>\n",
       "      <td>0.898150</td>\n",
       "      <td>0.564599</td>\n",
       "      <td>0.288722</td>\n",
       "      <td>0.979851</td>\n",
       "    </tr>\n",
       "    <tr>\n",
       "      <th>2021-01-02</th>\n",
       "      <td>0.910355</td>\n",
       "      <td>0.718123</td>\n",
       "      <td>0.573570</td>\n",
       "      <td>0.976761</td>\n",
       "      <td>0.159610</td>\n",
       "    </tr>\n",
       "    <tr>\n",
       "      <th>2021-01-03</th>\n",
       "      <td>0.088129</td>\n",
       "      <td>0.932644</td>\n",
       "      <td>0.986273</td>\n",
       "      <td>0.197761</td>\n",
       "      <td>0.536170</td>\n",
       "    </tr>\n",
       "    <tr>\n",
       "      <th>2021-01-04</th>\n",
       "      <td>0.773962</td>\n",
       "      <td>0.494546</td>\n",
       "      <td>0.769361</td>\n",
       "      <td>0.240219</td>\n",
       "      <td>0.124083</td>\n",
       "    </tr>\n",
       "    <tr>\n",
       "      <th>2021-01-05</th>\n",
       "      <td>0.445809</td>\n",
       "      <td>0.596361</td>\n",
       "      <td>0.456387</td>\n",
       "      <td>0.569813</td>\n",
       "      <td>0.761558</td>\n",
       "    </tr>\n",
       "    <tr>\n",
       "      <th>...</th>\n",
       "      <td>...</td>\n",
       "      <td>...</td>\n",
       "      <td>...</td>\n",
       "      <td>...</td>\n",
       "      <td>...</td>\n",
       "    </tr>\n",
       "    <tr>\n",
       "      <th>2022-08-19</th>\n",
       "      <td>0.512019</td>\n",
       "      <td>0.094518</td>\n",
       "      <td>0.542092</td>\n",
       "      <td>0.090279</td>\n",
       "      <td>0.673846</td>\n",
       "    </tr>\n",
       "    <tr>\n",
       "      <th>2022-08-20</th>\n",
       "      <td>0.765809</td>\n",
       "      <td>0.235773</td>\n",
       "      <td>0.991298</td>\n",
       "      <td>0.673873</td>\n",
       "      <td>0.633129</td>\n",
       "    </tr>\n",
       "    <tr>\n",
       "      <th>2022-08-21</th>\n",
       "      <td>0.284893</td>\n",
       "      <td>0.657153</td>\n",
       "      <td>0.172594</td>\n",
       "      <td>0.980384</td>\n",
       "      <td>0.812061</td>\n",
       "    </tr>\n",
       "    <tr>\n",
       "      <th>2022-08-22</th>\n",
       "      <td>0.632548</td>\n",
       "      <td>0.947313</td>\n",
       "      <td>0.728176</td>\n",
       "      <td>0.290099</td>\n",
       "      <td>0.719946</td>\n",
       "    </tr>\n",
       "    <tr>\n",
       "      <th>2022-08-23</th>\n",
       "      <td>0.689757</td>\n",
       "      <td>0.476882</td>\n",
       "      <td>0.528800</td>\n",
       "      <td>0.321481</td>\n",
       "      <td>0.706119</td>\n",
       "    </tr>\n",
       "  </tbody>\n",
       "</table>\n",
       "<p>600 rows × 5 columns</p>\n",
       "</div>"
      ],
      "text/plain": [
       "                   A         B         C         D         E\n",
       "2021-01-01  0.352651  0.898150  0.564599  0.288722  0.979851\n",
       "2021-01-02  0.910355  0.718123  0.573570  0.976761  0.159610\n",
       "2021-01-03  0.088129  0.932644  0.986273  0.197761  0.536170\n",
       "2021-01-04  0.773962  0.494546  0.769361  0.240219  0.124083\n",
       "2021-01-05  0.445809  0.596361  0.456387  0.569813  0.761558\n",
       "...              ...       ...       ...       ...       ...\n",
       "2022-08-19  0.512019  0.094518  0.542092  0.090279  0.673846\n",
       "2022-08-20  0.765809  0.235773  0.991298  0.673873  0.633129\n",
       "2022-08-21  0.284893  0.657153  0.172594  0.980384  0.812061\n",
       "2022-08-22  0.632548  0.947313  0.728176  0.290099  0.719946\n",
       "2022-08-23  0.689757  0.476882  0.528800  0.321481  0.706119\n",
       "\n",
       "[600 rows x 5 columns]"
      ]
     },
     "execution_count": 457,
     "metadata": {},
     "output_type": "execute_result"
    }
   ],
   "source": [
    "df[df > 0]"
   ]
  },
  {
   "cell_type": "markdown",
   "id": "b481b5e5",
   "metadata": {},
   "source": [
    "## 2.7. Limpeza dos dados"
   ]
  },
  {
   "cell_type": "markdown",
   "id": "6b26f911",
   "metadata": {
    "heading_collapsed": true
   },
   "source": [
    "### 2.7.1 Sumarização dos dados"
   ]
  },
  {
   "cell_type": "code",
   "execution_count": 458,
   "id": "40c88cb4",
   "metadata": {
    "hidden": true
   },
   "outputs": [],
   "source": [
    "datas = pd.date_range('20180101', periods = 6)\n",
    "\n",
    "df = pd.DataFrame(np.random.randn(6,4), index = datas, columns = ['var_A', 'var_B', 'var_C', 'var_D'])"
   ]
  },
  {
   "cell_type": "code",
   "execution_count": 459,
   "id": "8b2cfae4",
   "metadata": {
    "hidden": true
   },
   "outputs": [],
   "source": [
    "df2 = pd.DataFrame({'A': pd.Timestamp('20130102'),\n",
    "                    'B': pd.Series(1, index = list(range(4)), dtype= 'float32'),\n",
    "                    'C': np.array([3] * 4, dtype = 'int32'),\n",
    "                    'D': pd.Categorical(['test', 'train', 'test', 'train']),\n",
    "                    'F': 'Python'\n",
    "    \n",
    "})"
   ]
  },
  {
   "cell_type": "code",
   "execution_count": 460,
   "id": "aacbff55",
   "metadata": {
    "hidden": true
   },
   "outputs": [
    {
     "data": {
      "text/html": [
       "<div>\n",
       "<style scoped>\n",
       "    .dataframe tbody tr th:only-of-type {\n",
       "        vertical-align: middle;\n",
       "    }\n",
       "\n",
       "    .dataframe tbody tr th {\n",
       "        vertical-align: top;\n",
       "    }\n",
       "\n",
       "    .dataframe thead th {\n",
       "        text-align: right;\n",
       "    }\n",
       "</style>\n",
       "<table border=\"1\" class=\"dataframe\">\n",
       "  <thead>\n",
       "    <tr style=\"text-align: right;\">\n",
       "      <th></th>\n",
       "      <th>var_A</th>\n",
       "      <th>var_B</th>\n",
       "      <th>var_C</th>\n",
       "      <th>var_D</th>\n",
       "    </tr>\n",
       "  </thead>\n",
       "  <tbody>\n",
       "    <tr>\n",
       "      <th>2018-01-01</th>\n",
       "      <td>0.272349</td>\n",
       "      <td>-2.422080</td>\n",
       "      <td>-0.775394</td>\n",
       "      <td>0.054546</td>\n",
       "    </tr>\n",
       "    <tr>\n",
       "      <th>2018-01-02</th>\n",
       "      <td>0.423027</td>\n",
       "      <td>0.880919</td>\n",
       "      <td>-0.103636</td>\n",
       "      <td>-1.026599</td>\n",
       "    </tr>\n",
       "    <tr>\n",
       "      <th>2018-01-03</th>\n",
       "      <td>0.769553</td>\n",
       "      <td>-2.167162</td>\n",
       "      <td>-1.406271</td>\n",
       "      <td>-0.254677</td>\n",
       "    </tr>\n",
       "    <tr>\n",
       "      <th>2018-01-04</th>\n",
       "      <td>1.717988</td>\n",
       "      <td>-0.619818</td>\n",
       "      <td>-1.845995</td>\n",
       "      <td>-0.474702</td>\n",
       "    </tr>\n",
       "    <tr>\n",
       "      <th>2018-01-05</th>\n",
       "      <td>-1.556300</td>\n",
       "      <td>-0.092958</td>\n",
       "      <td>-1.375232</td>\n",
       "      <td>0.080623</td>\n",
       "    </tr>\n",
       "    <tr>\n",
       "      <th>2018-01-06</th>\n",
       "      <td>-0.424508</td>\n",
       "      <td>-0.555368</td>\n",
       "      <td>0.890314</td>\n",
       "      <td>0.056659</td>\n",
       "    </tr>\n",
       "  </tbody>\n",
       "</table>\n",
       "</div>"
      ],
      "text/plain": [
       "               var_A     var_B     var_C     var_D\n",
       "2018-01-01  0.272349 -2.422080 -0.775394  0.054546\n",
       "2018-01-02  0.423027  0.880919 -0.103636 -1.026599\n",
       "2018-01-03  0.769553 -2.167162 -1.406271 -0.254677\n",
       "2018-01-04  1.717988 -0.619818 -1.845995 -0.474702\n",
       "2018-01-05 -1.556300 -0.092958 -1.375232  0.080623\n",
       "2018-01-06 -0.424508 -0.555368  0.890314  0.056659"
      ]
     },
     "execution_count": 460,
     "metadata": {},
     "output_type": "execute_result"
    }
   ],
   "source": [
    "df"
   ]
  },
  {
   "cell_type": "code",
   "execution_count": 461,
   "id": "08e53b60",
   "metadata": {
    "hidden": true,
    "scrolled": false
   },
   "outputs": [
    {
     "data": {
      "text/plain": [
       "(6, 4)"
      ]
     },
     "execution_count": 461,
     "metadata": {},
     "output_type": "execute_result"
    }
   ],
   "source": [
    "df.shape"
   ]
  },
  {
   "cell_type": "code",
   "execution_count": 462,
   "id": "43f9071e",
   "metadata": {
    "hidden": true,
    "scrolled": true
   },
   "outputs": [
    {
     "data": {
      "text/plain": [
       "var_A    float64\n",
       "var_B    float64\n",
       "var_C    float64\n",
       "var_D    float64\n",
       "dtype: object"
      ]
     },
     "execution_count": 462,
     "metadata": {},
     "output_type": "execute_result"
    }
   ],
   "source": [
    "df.dtypes"
   ]
  },
  {
   "cell_type": "code",
   "execution_count": 467,
   "id": "7d91ad5f",
   "metadata": {
    "hidden": true,
    "scrolled": true
   },
   "outputs": [
    {
     "data": {
      "text/html": [
       "<div>\n",
       "<style scoped>\n",
       "    .dataframe tbody tr th:only-of-type {\n",
       "        vertical-align: middle;\n",
       "    }\n",
       "\n",
       "    .dataframe tbody tr th {\n",
       "        vertical-align: top;\n",
       "    }\n",
       "\n",
       "    .dataframe thead th {\n",
       "        text-align: right;\n",
       "    }\n",
       "</style>\n",
       "<table border=\"1\" class=\"dataframe\">\n",
       "  <thead>\n",
       "    <tr style=\"text-align: right;\">\n",
       "      <th></th>\n",
       "      <th>var_A</th>\n",
       "      <th>var_B</th>\n",
       "      <th>var_C</th>\n",
       "      <th>var_D</th>\n",
       "    </tr>\n",
       "  </thead>\n",
       "  <tbody>\n",
       "    <tr>\n",
       "      <th>count</th>\n",
       "      <td>6.000000</td>\n",
       "      <td>6.000000</td>\n",
       "      <td>6.000000</td>\n",
       "      <td>6.000000</td>\n",
       "    </tr>\n",
       "    <tr>\n",
       "      <th>mean</th>\n",
       "      <td>0.200352</td>\n",
       "      <td>-0.829411</td>\n",
       "      <td>-0.769369</td>\n",
       "      <td>-0.260692</td>\n",
       "    </tr>\n",
       "    <tr>\n",
       "      <th>std</th>\n",
       "      <td>1.109797</td>\n",
       "      <td>1.257998</td>\n",
       "      <td>1.012879</td>\n",
       "      <td>0.435668</td>\n",
       "    </tr>\n",
       "    <tr>\n",
       "      <th>min</th>\n",
       "      <td>-1.556300</td>\n",
       "      <td>-2.422080</td>\n",
       "      <td>-1.845995</td>\n",
       "      <td>-1.026599</td>\n",
       "    </tr>\n",
       "    <tr>\n",
       "      <th>25%</th>\n",
       "      <td>-0.250293</td>\n",
       "      <td>-1.780326</td>\n",
       "      <td>-1.398511</td>\n",
       "      <td>-0.419695</td>\n",
       "    </tr>\n",
       "    <tr>\n",
       "      <th>50%</th>\n",
       "      <td>0.347688</td>\n",
       "      <td>-0.587593</td>\n",
       "      <td>-1.075313</td>\n",
       "      <td>-0.100066</td>\n",
       "    </tr>\n",
       "    <tr>\n",
       "      <th>75%</th>\n",
       "      <td>0.682921</td>\n",
       "      <td>-0.208560</td>\n",
       "      <td>-0.271575</td>\n",
       "      <td>0.056131</td>\n",
       "    </tr>\n",
       "    <tr>\n",
       "      <th>max</th>\n",
       "      <td>1.717988</td>\n",
       "      <td>0.880919</td>\n",
       "      <td>0.890314</td>\n",
       "      <td>0.080623</td>\n",
       "    </tr>\n",
       "  </tbody>\n",
       "</table>\n",
       "</div>"
      ],
      "text/plain": [
       "          var_A     var_B     var_C     var_D\n",
       "count  6.000000  6.000000  6.000000  6.000000\n",
       "mean   0.200352 -0.829411 -0.769369 -0.260692\n",
       "std    1.109797  1.257998  1.012879  0.435668\n",
       "min   -1.556300 -2.422080 -1.845995 -1.026599\n",
       "25%   -0.250293 -1.780326 -1.398511 -0.419695\n",
       "50%    0.347688 -0.587593 -1.075313 -0.100066\n",
       "75%    0.682921 -0.208560 -0.271575  0.056131\n",
       "max    1.717988  0.880919  0.890314  0.080623"
      ]
     },
     "execution_count": 467,
     "metadata": {},
     "output_type": "execute_result"
    }
   ],
   "source": [
    "df.describe()"
   ]
  },
  {
   "cell_type": "code",
   "execution_count": 463,
   "id": "7329ae7f",
   "metadata": {
    "hidden": true,
    "scrolled": true
   },
   "outputs": [
    {
     "data": {
      "text/html": [
       "<div>\n",
       "<style scoped>\n",
       "    .dataframe tbody tr th:only-of-type {\n",
       "        vertical-align: middle;\n",
       "    }\n",
       "\n",
       "    .dataframe tbody tr th {\n",
       "        vertical-align: top;\n",
       "    }\n",
       "\n",
       "    .dataframe thead th {\n",
       "        text-align: right;\n",
       "    }\n",
       "</style>\n",
       "<table border=\"1\" class=\"dataframe\">\n",
       "  <thead>\n",
       "    <tr style=\"text-align: right;\">\n",
       "      <th></th>\n",
       "      <th>A</th>\n",
       "      <th>B</th>\n",
       "      <th>C</th>\n",
       "      <th>D</th>\n",
       "      <th>F</th>\n",
       "    </tr>\n",
       "  </thead>\n",
       "  <tbody>\n",
       "    <tr>\n",
       "      <th>0</th>\n",
       "      <td>2013-01-02</td>\n",
       "      <td>1.0</td>\n",
       "      <td>3</td>\n",
       "      <td>test</td>\n",
       "      <td>Python</td>\n",
       "    </tr>\n",
       "    <tr>\n",
       "      <th>1</th>\n",
       "      <td>2013-01-02</td>\n",
       "      <td>1.0</td>\n",
       "      <td>3</td>\n",
       "      <td>train</td>\n",
       "      <td>Python</td>\n",
       "    </tr>\n",
       "    <tr>\n",
       "      <th>2</th>\n",
       "      <td>2013-01-02</td>\n",
       "      <td>1.0</td>\n",
       "      <td>3</td>\n",
       "      <td>test</td>\n",
       "      <td>Python</td>\n",
       "    </tr>\n",
       "    <tr>\n",
       "      <th>3</th>\n",
       "      <td>2013-01-02</td>\n",
       "      <td>1.0</td>\n",
       "      <td>3</td>\n",
       "      <td>train</td>\n",
       "      <td>Python</td>\n",
       "    </tr>\n",
       "  </tbody>\n",
       "</table>\n",
       "</div>"
      ],
      "text/plain": [
       "           A    B  C      D       F\n",
       "0 2013-01-02  1.0  3   test  Python\n",
       "1 2013-01-02  1.0  3  train  Python\n",
       "2 2013-01-02  1.0  3   test  Python\n",
       "3 2013-01-02  1.0  3  train  Python"
      ]
     },
     "execution_count": 463,
     "metadata": {},
     "output_type": "execute_result"
    }
   ],
   "source": [
    "df2"
   ]
  },
  {
   "cell_type": "code",
   "execution_count": 464,
   "id": "4ce87f71",
   "metadata": {
    "hidden": true
   },
   "outputs": [
    {
     "data": {
      "text/plain": [
       "(6, 4)"
      ]
     },
     "execution_count": 464,
     "metadata": {},
     "output_type": "execute_result"
    }
   ],
   "source": [
    "df.shape"
   ]
  },
  {
   "cell_type": "code",
   "execution_count": 465,
   "id": "40b4fd89",
   "metadata": {
    "hidden": true
   },
   "outputs": [
    {
     "data": {
      "text/plain": [
       "A    datetime64[ns]\n",
       "B           float32\n",
       "C             int32\n",
       "D          category\n",
       "F            object\n",
       "dtype: object"
      ]
     },
     "execution_count": 465,
     "metadata": {},
     "output_type": "execute_result"
    }
   ],
   "source": [
    "df2.dtypes"
   ]
  },
  {
   "cell_type": "code",
   "execution_count": 466,
   "id": "880daf73",
   "metadata": {
    "hidden": true,
    "scrolled": false
   },
   "outputs": [
    {
     "data": {
      "text/html": [
       "<div>\n",
       "<style scoped>\n",
       "    .dataframe tbody tr th:only-of-type {\n",
       "        vertical-align: middle;\n",
       "    }\n",
       "\n",
       "    .dataframe tbody tr th {\n",
       "        vertical-align: top;\n",
       "    }\n",
       "\n",
       "    .dataframe thead th {\n",
       "        text-align: right;\n",
       "    }\n",
       "</style>\n",
       "<table border=\"1\" class=\"dataframe\">\n",
       "  <thead>\n",
       "    <tr style=\"text-align: right;\">\n",
       "      <th></th>\n",
       "      <th>B</th>\n",
       "      <th>C</th>\n",
       "    </tr>\n",
       "  </thead>\n",
       "  <tbody>\n",
       "    <tr>\n",
       "      <th>count</th>\n",
       "      <td>4.0</td>\n",
       "      <td>4.0</td>\n",
       "    </tr>\n",
       "    <tr>\n",
       "      <th>mean</th>\n",
       "      <td>1.0</td>\n",
       "      <td>3.0</td>\n",
       "    </tr>\n",
       "    <tr>\n",
       "      <th>std</th>\n",
       "      <td>0.0</td>\n",
       "      <td>0.0</td>\n",
       "    </tr>\n",
       "    <tr>\n",
       "      <th>min</th>\n",
       "      <td>1.0</td>\n",
       "      <td>3.0</td>\n",
       "    </tr>\n",
       "    <tr>\n",
       "      <th>25%</th>\n",
       "      <td>1.0</td>\n",
       "      <td>3.0</td>\n",
       "    </tr>\n",
       "    <tr>\n",
       "      <th>50%</th>\n",
       "      <td>1.0</td>\n",
       "      <td>3.0</td>\n",
       "    </tr>\n",
       "    <tr>\n",
       "      <th>75%</th>\n",
       "      <td>1.0</td>\n",
       "      <td>3.0</td>\n",
       "    </tr>\n",
       "    <tr>\n",
       "      <th>max</th>\n",
       "      <td>1.0</td>\n",
       "      <td>3.0</td>\n",
       "    </tr>\n",
       "  </tbody>\n",
       "</table>\n",
       "</div>"
      ],
      "text/plain": [
       "         B    C\n",
       "count  4.0  4.0\n",
       "mean   1.0  3.0\n",
       "std    0.0  0.0\n",
       "min    1.0  3.0\n",
       "25%    1.0  3.0\n",
       "50%    1.0  3.0\n",
       "75%    1.0  3.0\n",
       "max    1.0  3.0"
      ]
     },
     "execution_count": 466,
     "metadata": {},
     "output_type": "execute_result"
    }
   ],
   "source": [
    "df2.describe()"
   ]
  },
  {
   "cell_type": "code",
   "execution_count": 469,
   "id": "4295bef3",
   "metadata": {
    "hidden": true
   },
   "outputs": [
    {
     "data": {
      "text/html": [
       "<div>\n",
       "<style scoped>\n",
       "    .dataframe tbody tr th:only-of-type {\n",
       "        vertical-align: middle;\n",
       "    }\n",
       "\n",
       "    .dataframe tbody tr th {\n",
       "        vertical-align: top;\n",
       "    }\n",
       "\n",
       "    .dataframe thead th {\n",
       "        text-align: right;\n",
       "    }\n",
       "</style>\n",
       "<table border=\"1\" class=\"dataframe\">\n",
       "  <thead>\n",
       "    <tr style=\"text-align: right;\">\n",
       "      <th></th>\n",
       "      <th>var_A</th>\n",
       "      <th>var_B</th>\n",
       "      <th>var_C</th>\n",
       "      <th>var_D</th>\n",
       "    </tr>\n",
       "  </thead>\n",
       "  <tbody>\n",
       "    <tr>\n",
       "      <th>2018-01-01</th>\n",
       "      <td>0.272349</td>\n",
       "      <td>-2.422080</td>\n",
       "      <td>-0.775394</td>\n",
       "      <td>0.054546</td>\n",
       "    </tr>\n",
       "    <tr>\n",
       "      <th>2018-01-02</th>\n",
       "      <td>0.423027</td>\n",
       "      <td>0.880919</td>\n",
       "      <td>-0.103636</td>\n",
       "      <td>-1.026599</td>\n",
       "    </tr>\n",
       "    <tr>\n",
       "      <th>2018-01-03</th>\n",
       "      <td>0.769553</td>\n",
       "      <td>-2.167162</td>\n",
       "      <td>-1.406271</td>\n",
       "      <td>-0.254677</td>\n",
       "    </tr>\n",
       "    <tr>\n",
       "      <th>2018-01-04</th>\n",
       "      <td>1.717988</td>\n",
       "      <td>-0.619818</td>\n",
       "      <td>-1.845995</td>\n",
       "      <td>-0.474702</td>\n",
       "    </tr>\n",
       "    <tr>\n",
       "      <th>2018-01-05</th>\n",
       "      <td>-1.556300</td>\n",
       "      <td>-0.092958</td>\n",
       "      <td>-1.375232</td>\n",
       "      <td>0.080623</td>\n",
       "    </tr>\n",
       "    <tr>\n",
       "      <th>2018-01-06</th>\n",
       "      <td>-0.424508</td>\n",
       "      <td>-0.555368</td>\n",
       "      <td>0.890314</td>\n",
       "      <td>0.056659</td>\n",
       "    </tr>\n",
       "  </tbody>\n",
       "</table>\n",
       "</div>"
      ],
      "text/plain": [
       "               var_A     var_B     var_C     var_D\n",
       "2018-01-01  0.272349 -2.422080 -0.775394  0.054546\n",
       "2018-01-02  0.423027  0.880919 -0.103636 -1.026599\n",
       "2018-01-03  0.769553 -2.167162 -1.406271 -0.254677\n",
       "2018-01-04  1.717988 -0.619818 -1.845995 -0.474702\n",
       "2018-01-05 -1.556300 -0.092958 -1.375232  0.080623\n",
       "2018-01-06 -0.424508 -0.555368  0.890314  0.056659"
      ]
     },
     "execution_count": 469,
     "metadata": {},
     "output_type": "execute_result"
    }
   ],
   "source": [
    "df"
   ]
  },
  {
   "cell_type": "code",
   "execution_count": 470,
   "id": "cbe733e4",
   "metadata": {
    "hidden": true
   },
   "outputs": [],
   "source": [
    "df1 = df.reindex(index = datas [ 0: 4 ], columns = list(df.columns) + ['var_E'])"
   ]
  },
  {
   "cell_type": "code",
   "execution_count": 471,
   "id": "42a78fd9",
   "metadata": {
    "hidden": true
   },
   "outputs": [
    {
     "data": {
      "text/html": [
       "<div>\n",
       "<style scoped>\n",
       "    .dataframe tbody tr th:only-of-type {\n",
       "        vertical-align: middle;\n",
       "    }\n",
       "\n",
       "    .dataframe tbody tr th {\n",
       "        vertical-align: top;\n",
       "    }\n",
       "\n",
       "    .dataframe thead th {\n",
       "        text-align: right;\n",
       "    }\n",
       "</style>\n",
       "<table border=\"1\" class=\"dataframe\">\n",
       "  <thead>\n",
       "    <tr style=\"text-align: right;\">\n",
       "      <th></th>\n",
       "      <th>var_A</th>\n",
       "      <th>var_B</th>\n",
       "      <th>var_C</th>\n",
       "      <th>var_D</th>\n",
       "      <th>var_E</th>\n",
       "    </tr>\n",
       "  </thead>\n",
       "  <tbody>\n",
       "    <tr>\n",
       "      <th>2018-01-01</th>\n",
       "      <td>0.272349</td>\n",
       "      <td>-2.422080</td>\n",
       "      <td>-0.775394</td>\n",
       "      <td>0.054546</td>\n",
       "      <td>NaN</td>\n",
       "    </tr>\n",
       "    <tr>\n",
       "      <th>2018-01-02</th>\n",
       "      <td>0.423027</td>\n",
       "      <td>0.880919</td>\n",
       "      <td>-0.103636</td>\n",
       "      <td>-1.026599</td>\n",
       "      <td>NaN</td>\n",
       "    </tr>\n",
       "    <tr>\n",
       "      <th>2018-01-03</th>\n",
       "      <td>0.769553</td>\n",
       "      <td>-2.167162</td>\n",
       "      <td>-1.406271</td>\n",
       "      <td>-0.254677</td>\n",
       "      <td>NaN</td>\n",
       "    </tr>\n",
       "    <tr>\n",
       "      <th>2018-01-04</th>\n",
       "      <td>1.717988</td>\n",
       "      <td>-0.619818</td>\n",
       "      <td>-1.845995</td>\n",
       "      <td>-0.474702</td>\n",
       "      <td>NaN</td>\n",
       "    </tr>\n",
       "  </tbody>\n",
       "</table>\n",
       "</div>"
      ],
      "text/plain": [
       "               var_A     var_B     var_C     var_D  var_E\n",
       "2018-01-01  0.272349 -2.422080 -0.775394  0.054546    NaN\n",
       "2018-01-02  0.423027  0.880919 -0.103636 -1.026599    NaN\n",
       "2018-01-03  0.769553 -2.167162 -1.406271 -0.254677    NaN\n",
       "2018-01-04  1.717988 -0.619818 -1.845995 -0.474702    NaN"
      ]
     },
     "execution_count": 471,
     "metadata": {},
     "output_type": "execute_result"
    }
   ],
   "source": [
    "df1"
   ]
  },
  {
   "cell_type": "code",
   "execution_count": 473,
   "id": "d43b379b",
   "metadata": {
    "hidden": true
   },
   "outputs": [],
   "source": [
    "df1.loc[datas[0]: datas [1], 'var_E'] = 77"
   ]
  },
  {
   "cell_type": "code",
   "execution_count": 474,
   "id": "82b21022",
   "metadata": {
    "hidden": true
   },
   "outputs": [
    {
     "data": {
      "text/html": [
       "<div>\n",
       "<style scoped>\n",
       "    .dataframe tbody tr th:only-of-type {\n",
       "        vertical-align: middle;\n",
       "    }\n",
       "\n",
       "    .dataframe tbody tr th {\n",
       "        vertical-align: top;\n",
       "    }\n",
       "\n",
       "    .dataframe thead th {\n",
       "        text-align: right;\n",
       "    }\n",
       "</style>\n",
       "<table border=\"1\" class=\"dataframe\">\n",
       "  <thead>\n",
       "    <tr style=\"text-align: right;\">\n",
       "      <th></th>\n",
       "      <th>var_A</th>\n",
       "      <th>var_B</th>\n",
       "      <th>var_C</th>\n",
       "      <th>var_D</th>\n",
       "      <th>var_E</th>\n",
       "    </tr>\n",
       "  </thead>\n",
       "  <tbody>\n",
       "    <tr>\n",
       "      <th>2018-01-01</th>\n",
       "      <td>0.272349</td>\n",
       "      <td>-2.422080</td>\n",
       "      <td>-0.775394</td>\n",
       "      <td>0.054546</td>\n",
       "      <td>77.0</td>\n",
       "    </tr>\n",
       "    <tr>\n",
       "      <th>2018-01-02</th>\n",
       "      <td>0.423027</td>\n",
       "      <td>0.880919</td>\n",
       "      <td>-0.103636</td>\n",
       "      <td>-1.026599</td>\n",
       "      <td>77.0</td>\n",
       "    </tr>\n",
       "    <tr>\n",
       "      <th>2018-01-03</th>\n",
       "      <td>0.769553</td>\n",
       "      <td>-2.167162</td>\n",
       "      <td>-1.406271</td>\n",
       "      <td>-0.254677</td>\n",
       "      <td>NaN</td>\n",
       "    </tr>\n",
       "    <tr>\n",
       "      <th>2018-01-04</th>\n",
       "      <td>1.717988</td>\n",
       "      <td>-0.619818</td>\n",
       "      <td>-1.845995</td>\n",
       "      <td>-0.474702</td>\n",
       "      <td>NaN</td>\n",
       "    </tr>\n",
       "  </tbody>\n",
       "</table>\n",
       "</div>"
      ],
      "text/plain": [
       "               var_A     var_B     var_C     var_D  var_E\n",
       "2018-01-01  0.272349 -2.422080 -0.775394  0.054546   77.0\n",
       "2018-01-02  0.423027  0.880919 -0.103636 -1.026599   77.0\n",
       "2018-01-03  0.769553 -2.167162 -1.406271 -0.254677    NaN\n",
       "2018-01-04  1.717988 -0.619818 -1.845995 -0.474702    NaN"
      ]
     },
     "execution_count": 474,
     "metadata": {},
     "output_type": "execute_result"
    }
   ],
   "source": [
    "df1"
   ]
  },
  {
   "cell_type": "code",
   "execution_count": 475,
   "id": "f657a1a1",
   "metadata": {
    "hidden": true
   },
   "outputs": [
    {
     "data": {
      "text/html": [
       "<div>\n",
       "<style scoped>\n",
       "    .dataframe tbody tr th:only-of-type {\n",
       "        vertical-align: middle;\n",
       "    }\n",
       "\n",
       "    .dataframe tbody tr th {\n",
       "        vertical-align: top;\n",
       "    }\n",
       "\n",
       "    .dataframe thead th {\n",
       "        text-align: right;\n",
       "    }\n",
       "</style>\n",
       "<table border=\"1\" class=\"dataframe\">\n",
       "  <thead>\n",
       "    <tr style=\"text-align: right;\">\n",
       "      <th></th>\n",
       "      <th>var_A</th>\n",
       "      <th>var_B</th>\n",
       "      <th>var_C</th>\n",
       "      <th>var_D</th>\n",
       "      <th>var_E</th>\n",
       "    </tr>\n",
       "  </thead>\n",
       "  <tbody>\n",
       "    <tr>\n",
       "      <th>count</th>\n",
       "      <td>4.000000</td>\n",
       "      <td>4.000000</td>\n",
       "      <td>4.000000</td>\n",
       "      <td>4.000000</td>\n",
       "      <td>2.0</td>\n",
       "    </tr>\n",
       "    <tr>\n",
       "      <th>mean</th>\n",
       "      <td>0.795729</td>\n",
       "      <td>-1.082035</td>\n",
       "      <td>-1.032824</td>\n",
       "      <td>-0.425358</td>\n",
       "      <td>77.0</td>\n",
       "    </tr>\n",
       "    <tr>\n",
       "      <th>std</th>\n",
       "      <td>0.649123</td>\n",
       "      <td>1.531889</td>\n",
       "      <td>0.759467</td>\n",
       "      <td>0.455838</td>\n",
       "      <td>0.0</td>\n",
       "    </tr>\n",
       "    <tr>\n",
       "      <th>min</th>\n",
       "      <td>0.272349</td>\n",
       "      <td>-2.422080</td>\n",
       "      <td>-1.845995</td>\n",
       "      <td>-1.026599</td>\n",
       "      <td>77.0</td>\n",
       "    </tr>\n",
       "    <tr>\n",
       "      <th>25%</th>\n",
       "      <td>0.385357</td>\n",
       "      <td>-2.230892</td>\n",
       "      <td>-1.516202</td>\n",
       "      <td>-0.612676</td>\n",
       "      <td>77.0</td>\n",
       "    </tr>\n",
       "    <tr>\n",
       "      <th>50%</th>\n",
       "      <td>0.596290</td>\n",
       "      <td>-1.393490</td>\n",
       "      <td>-1.090832</td>\n",
       "      <td>-0.364689</td>\n",
       "      <td>77.0</td>\n",
       "    </tr>\n",
       "    <tr>\n",
       "      <th>75%</th>\n",
       "      <td>1.006662</td>\n",
       "      <td>-0.244634</td>\n",
       "      <td>-0.607454</td>\n",
       "      <td>-0.177371</td>\n",
       "      <td>77.0</td>\n",
       "    </tr>\n",
       "    <tr>\n",
       "      <th>max</th>\n",
       "      <td>1.717988</td>\n",
       "      <td>0.880919</td>\n",
       "      <td>-0.103636</td>\n",
       "      <td>0.054546</td>\n",
       "      <td>77.0</td>\n",
       "    </tr>\n",
       "  </tbody>\n",
       "</table>\n",
       "</div>"
      ],
      "text/plain": [
       "          var_A     var_B     var_C     var_D  var_E\n",
       "count  4.000000  4.000000  4.000000  4.000000    2.0\n",
       "mean   0.795729 -1.082035 -1.032824 -0.425358   77.0\n",
       "std    0.649123  1.531889  0.759467  0.455838    0.0\n",
       "min    0.272349 -2.422080 -1.845995 -1.026599   77.0\n",
       "25%    0.385357 -2.230892 -1.516202 -0.612676   77.0\n",
       "50%    0.596290 -1.393490 -1.090832 -0.364689   77.0\n",
       "75%    1.006662 -0.244634 -0.607454 -0.177371   77.0\n",
       "max    1.717988  0.880919 -0.103636  0.054546   77.0"
      ]
     },
     "execution_count": 475,
     "metadata": {},
     "output_type": "execute_result"
    }
   ],
   "source": [
    "df1.describe()"
   ]
  },
  {
   "cell_type": "markdown",
   "id": "cfde67c2",
   "metadata": {
    "heading_collapsed": true
   },
   "source": [
    "### 2.7.2. Dados faltantes NaN"
   ]
  },
  {
   "cell_type": "code",
   "execution_count": 477,
   "id": "a68f863f",
   "metadata": {
    "hidden": true
   },
   "outputs": [],
   "source": [
    "datas = pd.date_range('20180101', periods = 60, freq=\"D\")\n",
    "\n",
    "df = pd.DataFrame(np.random.randn(60,5), index = datas, columns = list(\"ABCDE\")) "
   ]
  },
  {
   "cell_type": "code",
   "execution_count": 478,
   "id": "81d243c9",
   "metadata": {
    "hidden": true,
    "scrolled": true
   },
   "outputs": [
    {
     "data": {
      "text/html": [
       "<div>\n",
       "<style scoped>\n",
       "    .dataframe tbody tr th:only-of-type {\n",
       "        vertical-align: middle;\n",
       "    }\n",
       "\n",
       "    .dataframe tbody tr th {\n",
       "        vertical-align: top;\n",
       "    }\n",
       "\n",
       "    .dataframe thead th {\n",
       "        text-align: right;\n",
       "    }\n",
       "</style>\n",
       "<table border=\"1\" class=\"dataframe\">\n",
       "  <thead>\n",
       "    <tr style=\"text-align: right;\">\n",
       "      <th></th>\n",
       "      <th>A</th>\n",
       "      <th>B</th>\n",
       "      <th>C</th>\n",
       "      <th>D</th>\n",
       "      <th>E</th>\n",
       "    </tr>\n",
       "  </thead>\n",
       "  <tbody>\n",
       "    <tr>\n",
       "      <th>2018-01-01</th>\n",
       "      <td>-0.243275</td>\n",
       "      <td>1.023423</td>\n",
       "      <td>1.099945</td>\n",
       "      <td>0.641441</td>\n",
       "      <td>-0.078567</td>\n",
       "    </tr>\n",
       "    <tr>\n",
       "      <th>2018-01-02</th>\n",
       "      <td>1.165914</td>\n",
       "      <td>0.286831</td>\n",
       "      <td>0.112713</td>\n",
       "      <td>-0.437959</td>\n",
       "      <td>1.483211</td>\n",
       "    </tr>\n",
       "    <tr>\n",
       "      <th>2018-01-03</th>\n",
       "      <td>1.453961</td>\n",
       "      <td>-0.315734</td>\n",
       "      <td>-1.317983</td>\n",
       "      <td>-0.865978</td>\n",
       "      <td>0.504871</td>\n",
       "    </tr>\n",
       "  </tbody>\n",
       "</table>\n",
       "</div>"
      ],
      "text/plain": [
       "                   A         B         C         D         E\n",
       "2018-01-01 -0.243275  1.023423  1.099945  0.641441 -0.078567\n",
       "2018-01-02  1.165914  0.286831  0.112713 -0.437959  1.483211\n",
       "2018-01-03  1.453961 -0.315734 -1.317983 -0.865978  0.504871"
      ]
     },
     "execution_count": 478,
     "metadata": {},
     "output_type": "execute_result"
    }
   ],
   "source": [
    "df.head(3)"
   ]
  },
  {
   "cell_type": "code",
   "execution_count": 479,
   "id": "3c1ffd96",
   "metadata": {
    "hidden": true
   },
   "outputs": [],
   "source": [
    "df['F'] = df.A[df.A > 0]"
   ]
  },
  {
   "cell_type": "code",
   "execution_count": 492,
   "id": "182387c8",
   "metadata": {
    "hidden": true,
    "scrolled": true
   },
   "outputs": [
    {
     "data": {
      "text/html": [
       "<div>\n",
       "<style scoped>\n",
       "    .dataframe tbody tr th:only-of-type {\n",
       "        vertical-align: middle;\n",
       "    }\n",
       "\n",
       "    .dataframe tbody tr th {\n",
       "        vertical-align: top;\n",
       "    }\n",
       "\n",
       "    .dataframe thead th {\n",
       "        text-align: right;\n",
       "    }\n",
       "</style>\n",
       "<table border=\"1\" class=\"dataframe\">\n",
       "  <thead>\n",
       "    <tr style=\"text-align: right;\">\n",
       "      <th></th>\n",
       "      <th>A</th>\n",
       "      <th>B</th>\n",
       "      <th>C</th>\n",
       "      <th>D</th>\n",
       "      <th>E</th>\n",
       "      <th>F</th>\n",
       "    </tr>\n",
       "  </thead>\n",
       "  <tbody>\n",
       "    <tr>\n",
       "      <th>2018-01-01</th>\n",
       "      <td>-0.243275</td>\n",
       "      <td>1.023423</td>\n",
       "      <td>1.099945</td>\n",
       "      <td>0.641441</td>\n",
       "      <td>-0.078567</td>\n",
       "      <td>NaN</td>\n",
       "    </tr>\n",
       "    <tr>\n",
       "      <th>2018-01-02</th>\n",
       "      <td>1.165914</td>\n",
       "      <td>0.286831</td>\n",
       "      <td>0.112713</td>\n",
       "      <td>-0.437959</td>\n",
       "      <td>1.483211</td>\n",
       "      <td>1.165914</td>\n",
       "    </tr>\n",
       "    <tr>\n",
       "      <th>2018-01-03</th>\n",
       "      <td>1.453961</td>\n",
       "      <td>-0.315734</td>\n",
       "      <td>-1.317983</td>\n",
       "      <td>-0.865978</td>\n",
       "      <td>0.504871</td>\n",
       "      <td>1.453961</td>\n",
       "    </tr>\n",
       "  </tbody>\n",
       "</table>\n",
       "</div>"
      ],
      "text/plain": [
       "                   A         B         C         D         E         F\n",
       "2018-01-01 -0.243275  1.023423  1.099945  0.641441 -0.078567       NaN\n",
       "2018-01-02  1.165914  0.286831  0.112713 -0.437959  1.483211  1.165914\n",
       "2018-01-03  1.453961 -0.315734 -1.317983 -0.865978  0.504871  1.453961"
      ]
     },
     "execution_count": 492,
     "metadata": {},
     "output_type": "execute_result"
    }
   ],
   "source": [
    "df.head(3)"
   ]
  },
  {
   "cell_type": "code",
   "execution_count": 481,
   "id": "8de8d0d2",
   "metadata": {
    "hidden": true
   },
   "outputs": [],
   "source": [
    "df1 = df.copy()"
   ]
  },
  {
   "cell_type": "code",
   "execution_count": 482,
   "id": "e31134a0",
   "metadata": {
    "hidden": true
   },
   "outputs": [],
   "source": [
    "df2 = df.copy()"
   ]
  },
  {
   "cell_type": "markdown",
   "id": "f29a2134",
   "metadata": {
    "hidden": true
   },
   "source": [
    "**Extração dos valores NaN. Sempre que ultilizamos este comando, também perdemos os demais dados da linha.**"
   ]
  },
  {
   "cell_type": "code",
   "execution_count": 494,
   "id": "cda1690e",
   "metadata": {
    "hidden": true,
    "scrolled": true
   },
   "outputs": [
    {
     "data": {
      "text/plain": [
       "(29, 6)"
      ]
     },
     "execution_count": 494,
     "metadata": {},
     "output_type": "execute_result"
    }
   ],
   "source": [
    "df1.dropna().shape "
   ]
  },
  {
   "cell_type": "code",
   "execution_count": 496,
   "id": "ddf8e687",
   "metadata": {
    "hidden": true
   },
   "outputs": [
    {
     "data": {
      "text/plain": [
       "(60, 6)"
      ]
     },
     "execution_count": 496,
     "metadata": {},
     "output_type": "execute_result"
    }
   ],
   "source": [
    "df.shape"
   ]
  },
  {
   "cell_type": "code",
   "execution_count": 497,
   "id": "7217d682",
   "metadata": {
    "hidden": true
   },
   "outputs": [
    {
     "data": {
      "text/html": [
       "<div>\n",
       "<style scoped>\n",
       "    .dataframe tbody tr th:only-of-type {\n",
       "        vertical-align: middle;\n",
       "    }\n",
       "\n",
       "    .dataframe tbody tr th {\n",
       "        vertical-align: top;\n",
       "    }\n",
       "\n",
       "    .dataframe thead th {\n",
       "        text-align: right;\n",
       "    }\n",
       "</style>\n",
       "<table border=\"1\" class=\"dataframe\">\n",
       "  <thead>\n",
       "    <tr style=\"text-align: right;\">\n",
       "      <th></th>\n",
       "      <th>A</th>\n",
       "      <th>B</th>\n",
       "      <th>C</th>\n",
       "      <th>D</th>\n",
       "      <th>E</th>\n",
       "      <th>F</th>\n",
       "    </tr>\n",
       "  </thead>\n",
       "  <tbody>\n",
       "    <tr>\n",
       "      <th>2018-01-01</th>\n",
       "      <td>-0.243275</td>\n",
       "      <td>1.023423</td>\n",
       "      <td>1.099945</td>\n",
       "      <td>0.641441</td>\n",
       "      <td>-0.078567</td>\n",
       "      <td>NaN</td>\n",
       "    </tr>\n",
       "    <tr>\n",
       "      <th>2018-01-02</th>\n",
       "      <td>1.165914</td>\n",
       "      <td>0.286831</td>\n",
       "      <td>0.112713</td>\n",
       "      <td>-0.437959</td>\n",
       "      <td>1.483211</td>\n",
       "      <td>1.165914</td>\n",
       "    </tr>\n",
       "    <tr>\n",
       "      <th>2018-01-03</th>\n",
       "      <td>1.453961</td>\n",
       "      <td>-0.315734</td>\n",
       "      <td>-1.317983</td>\n",
       "      <td>-0.865978</td>\n",
       "      <td>0.504871</td>\n",
       "      <td>1.453961</td>\n",
       "    </tr>\n",
       "    <tr>\n",
       "      <th>2018-01-04</th>\n",
       "      <td>-1.219427</td>\n",
       "      <td>-0.097393</td>\n",
       "      <td>0.637528</td>\n",
       "      <td>-0.871633</td>\n",
       "      <td>-0.122791</td>\n",
       "      <td>NaN</td>\n",
       "    </tr>\n",
       "    <tr>\n",
       "      <th>2018-01-05</th>\n",
       "      <td>-0.295831</td>\n",
       "      <td>-1.133522</td>\n",
       "      <td>0.839137</td>\n",
       "      <td>-1.653002</td>\n",
       "      <td>-0.619852</td>\n",
       "      <td>NaN</td>\n",
       "    </tr>\n",
       "  </tbody>\n",
       "</table>\n",
       "</div>"
      ],
      "text/plain": [
       "                   A         B         C         D         E         F\n",
       "2018-01-01 -0.243275  1.023423  1.099945  0.641441 -0.078567       NaN\n",
       "2018-01-02  1.165914  0.286831  0.112713 -0.437959  1.483211  1.165914\n",
       "2018-01-03  1.453961 -0.315734 -1.317983 -0.865978  0.504871  1.453961\n",
       "2018-01-04 -1.219427 -0.097393  0.637528 -0.871633 -0.122791       NaN\n",
       "2018-01-05 -0.295831 -1.133522  0.839137 -1.653002 -0.619852       NaN"
      ]
     },
     "execution_count": 497,
     "metadata": {},
     "output_type": "execute_result"
    }
   ],
   "source": [
    "df2.head()"
   ]
  },
  {
   "cell_type": "markdown",
   "id": "fb786de3",
   "metadata": {
    "hidden": true
   },
   "source": [
    "**Substituição dos valores NaN pela média da coluna F**"
   ]
  },
  {
   "cell_type": "code",
   "execution_count": 501,
   "id": "48461972",
   "metadata": {
    "collapsed": true,
    "hidden": true
   },
   "outputs": [
    {
     "data": {
      "text/plain": [
       "2018-01-01    0.989681\n",
       "2018-01-02    1.165914\n",
       "2018-01-03    1.453961\n",
       "2018-01-04    0.989681\n",
       "2018-01-05    0.989681\n",
       "2018-01-06    0.514532\n",
       "2018-01-07    0.989681\n",
       "2018-01-08    1.189412\n",
       "2018-01-09    0.989681\n",
       "2018-01-10    0.989681\n",
       "2018-01-11    1.889811\n",
       "2018-01-12    0.989681\n",
       "2018-01-13    2.138762\n",
       "2018-01-14    0.989681\n",
       "2018-01-15    0.077687\n",
       "2018-01-16    0.989681\n",
       "2018-01-17    0.989681\n",
       "2018-01-18    0.989681\n",
       "2018-01-19    1.375396\n",
       "2018-01-20    0.989681\n",
       "2018-01-21    0.989681\n",
       "2018-01-22    1.128922\n",
       "2018-01-23    0.989681\n",
       "2018-01-24    0.989681\n",
       "2018-01-25    0.989681\n",
       "2018-01-26    0.449766\n",
       "2018-01-27    0.584395\n",
       "2018-01-28    0.989681\n",
       "2018-01-29    0.989681\n",
       "2018-01-30    0.989681\n",
       "2018-01-31    0.989681\n",
       "2018-02-01    0.989681\n",
       "2018-02-02    1.653703\n",
       "2018-02-03    0.989681\n",
       "2018-02-04    0.369417\n",
       "2018-02-05    0.989681\n",
       "2018-02-06    0.740469\n",
       "2018-02-07    1.476626\n",
       "2018-02-08    0.284185\n",
       "2018-02-09    0.386475\n",
       "2018-02-10    0.918979\n",
       "2018-02-11    0.199568\n",
       "2018-02-12    1.533476\n",
       "2018-02-13    0.644946\n",
       "2018-02-14    0.989681\n",
       "2018-02-15    0.989681\n",
       "2018-02-16    0.989681\n",
       "2018-02-17    0.989681\n",
       "2018-02-18    1.258097\n",
       "2018-02-19    1.422132\n",
       "2018-02-20    0.989681\n",
       "2018-02-21    2.495601\n",
       "2018-02-22    1.492576\n",
       "2018-02-23    0.226564\n",
       "2018-02-24    1.162309\n",
       "2018-02-25    0.989681\n",
       "2018-02-26    0.005890\n",
       "2018-02-27    0.989681\n",
       "2018-02-28    0.989681\n",
       "2018-03-01    0.461175\n",
       "Freq: D, Name: F, dtype: float64"
      ]
     },
     "execution_count": 501,
     "metadata": {},
     "output_type": "execute_result"
    }
   ],
   "source": [
    "df2.F.fillna(np.mean(df2.F))"
   ]
  },
  {
   "cell_type": "code",
   "execution_count": 502,
   "id": "32360300",
   "metadata": {
    "hidden": true
   },
   "outputs": [],
   "source": [
    "df3 = df.copy()"
   ]
  },
  {
   "cell_type": "markdown",
   "id": "3e1b3d7b",
   "metadata": {
    "hidden": true
   },
   "source": [
    "**Substituição de TODOS os valores NaN da tabela por 777**"
   ]
  },
  {
   "cell_type": "code",
   "execution_count": 503,
   "id": "0f50e5ac",
   "metadata": {
    "collapsed": true,
    "hidden": true
   },
   "outputs": [
    {
     "data": {
      "text/html": [
       "<div>\n",
       "<style scoped>\n",
       "    .dataframe tbody tr th:only-of-type {\n",
       "        vertical-align: middle;\n",
       "    }\n",
       "\n",
       "    .dataframe tbody tr th {\n",
       "        vertical-align: top;\n",
       "    }\n",
       "\n",
       "    .dataframe thead th {\n",
       "        text-align: right;\n",
       "    }\n",
       "</style>\n",
       "<table border=\"1\" class=\"dataframe\">\n",
       "  <thead>\n",
       "    <tr style=\"text-align: right;\">\n",
       "      <th></th>\n",
       "      <th>A</th>\n",
       "      <th>B</th>\n",
       "      <th>C</th>\n",
       "      <th>D</th>\n",
       "      <th>E</th>\n",
       "      <th>F</th>\n",
       "    </tr>\n",
       "  </thead>\n",
       "  <tbody>\n",
       "    <tr>\n",
       "      <th>2018-01-01</th>\n",
       "      <td>-0.243275</td>\n",
       "      <td>1.023423</td>\n",
       "      <td>1.099945</td>\n",
       "      <td>0.641441</td>\n",
       "      <td>-0.078567</td>\n",
       "      <td>777.000000</td>\n",
       "    </tr>\n",
       "    <tr>\n",
       "      <th>2018-01-02</th>\n",
       "      <td>1.165914</td>\n",
       "      <td>0.286831</td>\n",
       "      <td>0.112713</td>\n",
       "      <td>-0.437959</td>\n",
       "      <td>1.483211</td>\n",
       "      <td>1.165914</td>\n",
       "    </tr>\n",
       "    <tr>\n",
       "      <th>2018-01-03</th>\n",
       "      <td>1.453961</td>\n",
       "      <td>-0.315734</td>\n",
       "      <td>-1.317983</td>\n",
       "      <td>-0.865978</td>\n",
       "      <td>0.504871</td>\n",
       "      <td>1.453961</td>\n",
       "    </tr>\n",
       "    <tr>\n",
       "      <th>2018-01-04</th>\n",
       "      <td>-1.219427</td>\n",
       "      <td>-0.097393</td>\n",
       "      <td>0.637528</td>\n",
       "      <td>-0.871633</td>\n",
       "      <td>-0.122791</td>\n",
       "      <td>777.000000</td>\n",
       "    </tr>\n",
       "    <tr>\n",
       "      <th>2018-01-05</th>\n",
       "      <td>-0.295831</td>\n",
       "      <td>-1.133522</td>\n",
       "      <td>0.839137</td>\n",
       "      <td>-1.653002</td>\n",
       "      <td>-0.619852</td>\n",
       "      <td>777.000000</td>\n",
       "    </tr>\n",
       "    <tr>\n",
       "      <th>2018-01-06</th>\n",
       "      <td>0.514532</td>\n",
       "      <td>-0.639250</td>\n",
       "      <td>-0.905279</td>\n",
       "      <td>-1.031057</td>\n",
       "      <td>-0.963833</td>\n",
       "      <td>0.514532</td>\n",
       "    </tr>\n",
       "    <tr>\n",
       "      <th>2018-01-07</th>\n",
       "      <td>-0.492554</td>\n",
       "      <td>-1.731519</td>\n",
       "      <td>0.316311</td>\n",
       "      <td>-0.972007</td>\n",
       "      <td>0.535672</td>\n",
       "      <td>777.000000</td>\n",
       "    </tr>\n",
       "    <tr>\n",
       "      <th>2018-01-08</th>\n",
       "      <td>1.189412</td>\n",
       "      <td>-1.223022</td>\n",
       "      <td>2.410446</td>\n",
       "      <td>-1.215531</td>\n",
       "      <td>-0.244264</td>\n",
       "      <td>1.189412</td>\n",
       "    </tr>\n",
       "    <tr>\n",
       "      <th>2018-01-09</th>\n",
       "      <td>-0.430046</td>\n",
       "      <td>0.867390</td>\n",
       "      <td>-0.278120</td>\n",
       "      <td>0.142889</td>\n",
       "      <td>0.321740</td>\n",
       "      <td>777.000000</td>\n",
       "    </tr>\n",
       "    <tr>\n",
       "      <th>2018-01-10</th>\n",
       "      <td>-1.069312</td>\n",
       "      <td>-0.258149</td>\n",
       "      <td>0.537811</td>\n",
       "      <td>2.071838</td>\n",
       "      <td>-0.868362</td>\n",
       "      <td>777.000000</td>\n",
       "    </tr>\n",
       "    <tr>\n",
       "      <th>2018-01-11</th>\n",
       "      <td>1.889811</td>\n",
       "      <td>0.195986</td>\n",
       "      <td>-2.393781</td>\n",
       "      <td>-0.595883</td>\n",
       "      <td>0.195737</td>\n",
       "      <td>1.889811</td>\n",
       "    </tr>\n",
       "    <tr>\n",
       "      <th>2018-01-12</th>\n",
       "      <td>-2.126752</td>\n",
       "      <td>-2.570862</td>\n",
       "      <td>1.994686</td>\n",
       "      <td>1.482864</td>\n",
       "      <td>1.541486</td>\n",
       "      <td>777.000000</td>\n",
       "    </tr>\n",
       "    <tr>\n",
       "      <th>2018-01-13</th>\n",
       "      <td>2.138762</td>\n",
       "      <td>-0.713856</td>\n",
       "      <td>-1.287635</td>\n",
       "      <td>0.920930</td>\n",
       "      <td>0.339894</td>\n",
       "      <td>2.138762</td>\n",
       "    </tr>\n",
       "    <tr>\n",
       "      <th>2018-01-14</th>\n",
       "      <td>-1.771179</td>\n",
       "      <td>-0.408990</td>\n",
       "      <td>-1.954981</td>\n",
       "      <td>-0.656902</td>\n",
       "      <td>-0.689228</td>\n",
       "      <td>777.000000</td>\n",
       "    </tr>\n",
       "    <tr>\n",
       "      <th>2018-01-15</th>\n",
       "      <td>0.077687</td>\n",
       "      <td>1.326231</td>\n",
       "      <td>1.541098</td>\n",
       "      <td>-0.715466</td>\n",
       "      <td>-0.803941</td>\n",
       "      <td>0.077687</td>\n",
       "    </tr>\n",
       "    <tr>\n",
       "      <th>2018-01-16</th>\n",
       "      <td>-0.826072</td>\n",
       "      <td>-0.378462</td>\n",
       "      <td>-1.242613</td>\n",
       "      <td>0.047004</td>\n",
       "      <td>0.015180</td>\n",
       "      <td>777.000000</td>\n",
       "    </tr>\n",
       "    <tr>\n",
       "      <th>2018-01-17</th>\n",
       "      <td>-0.068147</td>\n",
       "      <td>-1.331626</td>\n",
       "      <td>-0.997072</td>\n",
       "      <td>-0.334471</td>\n",
       "      <td>-0.328547</td>\n",
       "      <td>777.000000</td>\n",
       "    </tr>\n",
       "    <tr>\n",
       "      <th>2018-01-18</th>\n",
       "      <td>-0.366564</td>\n",
       "      <td>-0.080127</td>\n",
       "      <td>0.359940</td>\n",
       "      <td>-2.769615</td>\n",
       "      <td>0.568383</td>\n",
       "      <td>777.000000</td>\n",
       "    </tr>\n",
       "    <tr>\n",
       "      <th>2018-01-19</th>\n",
       "      <td>1.375396</td>\n",
       "      <td>-0.229429</td>\n",
       "      <td>-1.202174</td>\n",
       "      <td>0.645407</td>\n",
       "      <td>-0.697031</td>\n",
       "      <td>1.375396</td>\n",
       "    </tr>\n",
       "    <tr>\n",
       "      <th>2018-01-20</th>\n",
       "      <td>-0.278737</td>\n",
       "      <td>0.142168</td>\n",
       "      <td>0.826357</td>\n",
       "      <td>0.670507</td>\n",
       "      <td>0.957789</td>\n",
       "      <td>777.000000</td>\n",
       "    </tr>\n",
       "    <tr>\n",
       "      <th>2018-01-21</th>\n",
       "      <td>-0.065288</td>\n",
       "      <td>1.309915</td>\n",
       "      <td>1.615753</td>\n",
       "      <td>0.344144</td>\n",
       "      <td>-0.290288</td>\n",
       "      <td>777.000000</td>\n",
       "    </tr>\n",
       "    <tr>\n",
       "      <th>2018-01-22</th>\n",
       "      <td>1.128922</td>\n",
       "      <td>-0.350688</td>\n",
       "      <td>-1.249620</td>\n",
       "      <td>-0.499215</td>\n",
       "      <td>-1.095385</td>\n",
       "      <td>1.128922</td>\n",
       "    </tr>\n",
       "    <tr>\n",
       "      <th>2018-01-23</th>\n",
       "      <td>-1.378218</td>\n",
       "      <td>-0.340986</td>\n",
       "      <td>-2.269798</td>\n",
       "      <td>0.238190</td>\n",
       "      <td>1.865634</td>\n",
       "      <td>777.000000</td>\n",
       "    </tr>\n",
       "    <tr>\n",
       "      <th>2018-01-24</th>\n",
       "      <td>-0.663825</td>\n",
       "      <td>-0.916559</td>\n",
       "      <td>0.438594</td>\n",
       "      <td>1.090096</td>\n",
       "      <td>-1.360447</td>\n",
       "      <td>777.000000</td>\n",
       "    </tr>\n",
       "    <tr>\n",
       "      <th>2018-01-25</th>\n",
       "      <td>-1.031092</td>\n",
       "      <td>0.894287</td>\n",
       "      <td>-0.499995</td>\n",
       "      <td>1.195302</td>\n",
       "      <td>-1.465248</td>\n",
       "      <td>777.000000</td>\n",
       "    </tr>\n",
       "    <tr>\n",
       "      <th>2018-01-26</th>\n",
       "      <td>0.449766</td>\n",
       "      <td>0.750124</td>\n",
       "      <td>0.687684</td>\n",
       "      <td>-0.537464</td>\n",
       "      <td>2.272422</td>\n",
       "      <td>0.449766</td>\n",
       "    </tr>\n",
       "    <tr>\n",
       "      <th>2018-01-27</th>\n",
       "      <td>0.584395</td>\n",
       "      <td>0.014630</td>\n",
       "      <td>0.726956</td>\n",
       "      <td>0.317921</td>\n",
       "      <td>-1.536554</td>\n",
       "      <td>0.584395</td>\n",
       "    </tr>\n",
       "    <tr>\n",
       "      <th>2018-01-28</th>\n",
       "      <td>-1.937058</td>\n",
       "      <td>0.362683</td>\n",
       "      <td>-1.646891</td>\n",
       "      <td>-0.217799</td>\n",
       "      <td>-0.104436</td>\n",
       "      <td>777.000000</td>\n",
       "    </tr>\n",
       "    <tr>\n",
       "      <th>2018-01-29</th>\n",
       "      <td>-0.681629</td>\n",
       "      <td>-1.023435</td>\n",
       "      <td>-0.863146</td>\n",
       "      <td>-0.860831</td>\n",
       "      <td>1.384267</td>\n",
       "      <td>777.000000</td>\n",
       "    </tr>\n",
       "    <tr>\n",
       "      <th>2018-01-30</th>\n",
       "      <td>-0.522082</td>\n",
       "      <td>-0.040951</td>\n",
       "      <td>-0.461775</td>\n",
       "      <td>-1.553476</td>\n",
       "      <td>-0.363574</td>\n",
       "      <td>777.000000</td>\n",
       "    </tr>\n",
       "    <tr>\n",
       "      <th>2018-01-31</th>\n",
       "      <td>-1.530968</td>\n",
       "      <td>-1.016334</td>\n",
       "      <td>-0.292733</td>\n",
       "      <td>0.089999</td>\n",
       "      <td>1.163200</td>\n",
       "      <td>777.000000</td>\n",
       "    </tr>\n",
       "    <tr>\n",
       "      <th>2018-02-01</th>\n",
       "      <td>-2.445072</td>\n",
       "      <td>1.503129</td>\n",
       "      <td>0.654391</td>\n",
       "      <td>0.936095</td>\n",
       "      <td>-0.918169</td>\n",
       "      <td>777.000000</td>\n",
       "    </tr>\n",
       "    <tr>\n",
       "      <th>2018-02-02</th>\n",
       "      <td>1.653703</td>\n",
       "      <td>-0.480537</td>\n",
       "      <td>-1.367424</td>\n",
       "      <td>0.055547</td>\n",
       "      <td>-1.249835</td>\n",
       "      <td>1.653703</td>\n",
       "    </tr>\n",
       "    <tr>\n",
       "      <th>2018-02-03</th>\n",
       "      <td>-0.449595</td>\n",
       "      <td>-0.614311</td>\n",
       "      <td>-1.370638</td>\n",
       "      <td>0.322324</td>\n",
       "      <td>0.629697</td>\n",
       "      <td>777.000000</td>\n",
       "    </tr>\n",
       "    <tr>\n",
       "      <th>2018-02-04</th>\n",
       "      <td>0.369417</td>\n",
       "      <td>0.058998</td>\n",
       "      <td>0.096490</td>\n",
       "      <td>1.536826</td>\n",
       "      <td>0.951632</td>\n",
       "      <td>0.369417</td>\n",
       "    </tr>\n",
       "    <tr>\n",
       "      <th>2018-02-05</th>\n",
       "      <td>-1.028599</td>\n",
       "      <td>1.091963</td>\n",
       "      <td>0.762481</td>\n",
       "      <td>-1.634211</td>\n",
       "      <td>0.068829</td>\n",
       "      <td>777.000000</td>\n",
       "    </tr>\n",
       "    <tr>\n",
       "      <th>2018-02-06</th>\n",
       "      <td>0.740469</td>\n",
       "      <td>-0.519450</td>\n",
       "      <td>-0.257231</td>\n",
       "      <td>-1.469172</td>\n",
       "      <td>0.913089</td>\n",
       "      <td>0.740469</td>\n",
       "    </tr>\n",
       "    <tr>\n",
       "      <th>2018-02-07</th>\n",
       "      <td>1.476626</td>\n",
       "      <td>-2.015347</td>\n",
       "      <td>1.100768</td>\n",
       "      <td>-0.678735</td>\n",
       "      <td>-0.795247</td>\n",
       "      <td>1.476626</td>\n",
       "    </tr>\n",
       "    <tr>\n",
       "      <th>2018-02-08</th>\n",
       "      <td>0.284185</td>\n",
       "      <td>-0.642581</td>\n",
       "      <td>-1.378474</td>\n",
       "      <td>0.476508</td>\n",
       "      <td>-0.423130</td>\n",
       "      <td>0.284185</td>\n",
       "    </tr>\n",
       "    <tr>\n",
       "      <th>2018-02-09</th>\n",
       "      <td>0.386475</td>\n",
       "      <td>0.290592</td>\n",
       "      <td>-1.128228</td>\n",
       "      <td>2.137339</td>\n",
       "      <td>-2.091565</td>\n",
       "      <td>0.386475</td>\n",
       "    </tr>\n",
       "    <tr>\n",
       "      <th>2018-02-10</th>\n",
       "      <td>0.918979</td>\n",
       "      <td>2.035231</td>\n",
       "      <td>0.399610</td>\n",
       "      <td>-0.639993</td>\n",
       "      <td>-3.125266</td>\n",
       "      <td>0.918979</td>\n",
       "    </tr>\n",
       "    <tr>\n",
       "      <th>2018-02-11</th>\n",
       "      <td>0.199568</td>\n",
       "      <td>0.193646</td>\n",
       "      <td>-2.048909</td>\n",
       "      <td>1.792119</td>\n",
       "      <td>-0.026167</td>\n",
       "      <td>0.199568</td>\n",
       "    </tr>\n",
       "    <tr>\n",
       "      <th>2018-02-12</th>\n",
       "      <td>1.533476</td>\n",
       "      <td>0.153282</td>\n",
       "      <td>0.206545</td>\n",
       "      <td>-1.705048</td>\n",
       "      <td>0.902248</td>\n",
       "      <td>1.533476</td>\n",
       "    </tr>\n",
       "    <tr>\n",
       "      <th>2018-02-13</th>\n",
       "      <td>0.644946</td>\n",
       "      <td>1.118433</td>\n",
       "      <td>-1.280884</td>\n",
       "      <td>-0.194192</td>\n",
       "      <td>-1.188405</td>\n",
       "      <td>0.644946</td>\n",
       "    </tr>\n",
       "    <tr>\n",
       "      <th>2018-02-14</th>\n",
       "      <td>-0.876035</td>\n",
       "      <td>-0.936199</td>\n",
       "      <td>0.650886</td>\n",
       "      <td>1.618296</td>\n",
       "      <td>-2.005351</td>\n",
       "      <td>777.000000</td>\n",
       "    </tr>\n",
       "    <tr>\n",
       "      <th>2018-02-15</th>\n",
       "      <td>-0.681884</td>\n",
       "      <td>-1.656915</td>\n",
       "      <td>1.180431</td>\n",
       "      <td>0.656743</td>\n",
       "      <td>-0.245139</td>\n",
       "      <td>777.000000</td>\n",
       "    </tr>\n",
       "    <tr>\n",
       "      <th>2018-02-16</th>\n",
       "      <td>-0.193685</td>\n",
       "      <td>0.299342</td>\n",
       "      <td>0.147617</td>\n",
       "      <td>-0.512613</td>\n",
       "      <td>-1.865015</td>\n",
       "      <td>777.000000</td>\n",
       "    </tr>\n",
       "    <tr>\n",
       "      <th>2018-02-17</th>\n",
       "      <td>-0.054394</td>\n",
       "      <td>0.186607</td>\n",
       "      <td>1.347089</td>\n",
       "      <td>-0.572204</td>\n",
       "      <td>-1.834945</td>\n",
       "      <td>777.000000</td>\n",
       "    </tr>\n",
       "    <tr>\n",
       "      <th>2018-02-18</th>\n",
       "      <td>1.258097</td>\n",
       "      <td>-1.181241</td>\n",
       "      <td>0.862308</td>\n",
       "      <td>0.482663</td>\n",
       "      <td>-1.597929</td>\n",
       "      <td>1.258097</td>\n",
       "    </tr>\n",
       "    <tr>\n",
       "      <th>2018-02-19</th>\n",
       "      <td>1.422132</td>\n",
       "      <td>-0.715571</td>\n",
       " "
      ],
      "text/plain": [
       "                   A         B         C         D         E           F\n",
       "2018-01-01 -0.243275  1.023423  1.099945  0.641441 -0.078567  777.000000\n",
       "2018-01-02  1.165914  0.286831  0.112713 -0.437959  1.483211    1.165914\n",
       "2018-01-03  1.453961 -0.315734 -1.317983 -0.865978  0.504871    1.453961\n",
       "2018-01-04 -1.219427 -0.097393  0.637528 -0.871633 -0.122791  777.000000\n",
       "2018-01-05 -0.295831 -1.133522  0.839137 -1.653002 -0.619852  777.000000\n",
       "2018-01-06  0.514532 -0.639250 -0.905279 -1.031057 -0.963833    0.514532\n",
       "2018-01-07 -0.492554 -1.731519  0.316311 -0.972007  0.535672  777.000000\n",
       "2018-01-08  1.189412 -1.223022  2.410446 -1.215531 -0.244264    1.189412\n",
       "2018-01-09 -0.430046  0.867390 -0.278120  0.142889  0.321740  777.000000\n",
       "2018-01-10 -1.069312 -0.258149  0.537811  2.071838 -0.868362  777.000000\n",
       "2018-01-11  1.889811  0.195986 -2.393781 -0.595883  0.195737    1.889811\n",
       "2018-01-12 -2.126752 -2.570862  1.994686  1.482864  1.541486  777.000000\n",
       "2018-01-13  2.138762 -0.713856 -1.287635  0.920930  0.339894    2.138762\n",
       "2018-01-14 -1.771179 -0.408990 -1.954981 -0.656902 -0.689228  777.000000\n",
       "2018-01-15  0.077687  1.326231  1.541098 -0.715466 -0.803941    0.077687\n",
       "2018-01-16 -0.826072 -0.378462 -1.242613  0.047004  0.015180  777.000000\n",
       "2018-01-17 -0.068147 -1.331626 -0.997072 -0.334471 -0.328547  777.000000\n",
       "2018-01-18 -0.366564 -0.080127  0.359940 -2.769615  0.568383  777.000000\n",
       "2018-01-19  1.375396 -0.229429 -1.202174  0.645407 -0.697031    1.375396\n",
       "2018-01-20 -0.278737  0.142168  0.826357  0.670507  0.957789  777.000000\n",
       "2018-01-21 -0.065288  1.309915  1.615753  0.344144 -0.290288  777.000000\n",
       "2018-01-22  1.128922 -0.350688 -1.249620 -0.499215 -1.095385    1.128922\n",
       "2018-01-23 -1.378218 -0.340986 -2.269798  0.238190  1.865634  777.000000\n",
       "2018-01-24 -0.663825 -0.916559  0.438594  1.090096 -1.360447  777.000000\n",
       "2018-01-25 -1.031092  0.894287 -0.499995  1.195302 -1.465248  777.000000\n",
       "2018-01-26  0.449766  0.750124  0.687684 -0.537464  2.272422    0.449766\n",
       "2018-01-27  0.584395  0.014630  0.726956  0.317921 -1.536554    0.584395\n",
       "2018-01-28 -1.937058  0.362683 -1.646891 -0.217799 -0.104436  777.000000\n",
       "2018-01-29 -0.681629 -1.023435 -0.863146 -0.860831  1.384267  777.000000\n",
       "2018-01-30 -0.522082 -0.040951 -0.461775 -1.553476 -0.363574  777.000000\n",
       "2018-01-31 -1.530968 -1.016334 -0.292733  0.089999  1.163200  777.000000\n",
       "2018-02-01 -2.445072  1.503129  0.654391  0.936095 -0.918169  777.000000\n",
       "2018-02-02  1.653703 -0.480537 -1.367424  0.055547 -1.249835    1.653703\n",
       "2018-02-03 -0.449595 -0.614311 -1.370638  0.322324  0.629697  777.000000\n",
       "2018-02-04  0.369417  0.058998  0.096490  1.536826  0.951632    0.369417\n",
       "2018-02-05 -1.028599  1.091963  0.762481 -1.634211  0.068829  777.000000\n",
       "2018-02-06  0.740469 -0.519450 -0.257231 -1.469172  0.913089    0.740469\n",
       "2018-02-07  1.476626 -2.015347  1.100768 -0.678735 -0.795247    1.476626\n",
       "2018-02-08  0.284185 -0.642581 -1.378474  0.476508 -0.423130    0.284185\n",
       "2018-02-09  0.386475  0.290592 -1.128228  2.137339 -2.091565    0.386475\n",
       "2018-02-10  0.918979  2.035231  0.399610 -0.639993 -3.125266    0.918979\n",
       "2018-02-11  0.199568  0.193646 -2.048909  1.792119 -0.026167    0.199568\n",
       "2018-02-12  1.533476  0.153282  0.206545 -1.705048  0.902248    1.533476\n",
       "2018-02-13  0.644946  1.118433 -1.280884 -0.194192 -1.188405    0.644946\n",
       "2018-02-14 -0.876035 -0.936199  0.650886  1.618296 -2.005351  777.000000\n",
       "2018-02-15 -0.681884 -1.656915  1.180431  0.656743 -0.245139  777.000000\n",
       "2018-02-16 -0.193685  0.299342  0.147617 -0.512613 -1.865015  777.000000\n",
       "2018-02-17 -0.054394  0.186607  1.347089 -0.572204 -1.834945  777.000000\n",
       "2018-02-18  1.258097 -1.181241  0.862308  0.482663 -1.597929    1.258097\n",
       "2018-02-19  1.422132 -0.715571  0.334874 -0.351590  0.400077    1.422132\n",
       "2018-02-20 -0.871651  0.094475  1.234217 -1.164276 -0.168905  777.000000\n",
       "2018-02-21  2.495601  1.359487  0.900387  2.121595  1.123492    2.495601\n",
       "2018-02-22  1.492576 -0.599646  2.063791 -0.253191 -0.181825    1.492576\n",
       "2018-02-23  0.226564  1.354138  1.809289 -0.147485  0.029990    0.226564\n",
       "2018-02-24  1.162309  1.161849 -1.959014  0.172918 -0.050078    1.162309\n",
       "2018-02-25 -1.737522  0.777248  0.184540  1.296411  2.085795  777.000000\n",
       "2018-02-26  0.005890 -0.371873 -2.600079  0.437064 -0.907263    0.005890\n",
       "2018-02-27 -0.145344  0.551780 -0.640607 -0.558058  0.682098  777.000000\n",
       "2018-02-28 -1.168728  0.758965 -0.015170  0.137205 -0.896786  777.000000\n",
       "2018-03-01  0.461175  1.145675  0.621599 -0.534473 -1.112760    0.461175"
      ]
     },
     "execution_count": 503,
     "metadata": {},
     "output_type": "execute_result"
    },
    {
     "data": {
      "text/html": [
       "<b>limit_output extension: Maximum message size of 10000 exceeded with 12051 characters</b>"
      ]
     },
     "metadata": {},
     "output_type": "display_data"
    }
   ],
   "source": [
    "df3.fillna(value = 777)"
   ]
  },
  {
   "cell_type": "markdown",
   "id": "41a6ed68",
   "metadata": {},
   "source": [
    "### 2.7.3. Dados únicos"
   ]
  },
  {
   "cell_type": "code",
   "execution_count": 510,
   "id": "668a58bc",
   "metadata": {},
   "outputs": [],
   "source": [
    "df2 = pd.DataFrame({'A': 1.,\n",
    "                    'B': pd.Timestamp('20130102'),\n",
    "                    'C': pd.Series(1, index = list(range(4)), dtype= 'float32'),\n",
    "                    'D': np.array([3] * 4, dtype = 'int32'),\n",
    "                    'E': pd.Categorical(['test', 'train', 'test', 'train']),\n",
    "                    'F': 'Python',\n",
    "                    'G': [2, 2, 4, 4],\n",
    "                    'H': [np.nan, 2, 4, np.nan]\n",
    "    \n",
    "})"
   ]
  },
  {
   "cell_type": "code",
   "execution_count": 511,
   "id": "22e1908f",
   "metadata": {},
   "outputs": [
    {
     "data": {
      "text/html": [
       "<div>\n",
       "<style scoped>\n",
       "    .dataframe tbody tr th:only-of-type {\n",
       "        vertical-align: middle;\n",
       "    }\n",
       "\n",
       "    .dataframe tbody tr th {\n",
       "        vertical-align: top;\n",
       "    }\n",
       "\n",
       "    .dataframe thead th {\n",
       "        text-align: right;\n",
       "    }\n",
       "</style>\n",
       "<table border=\"1\" class=\"dataframe\">\n",
       "  <thead>\n",
       "    <tr style=\"text-align: right;\">\n",
       "      <th></th>\n",
       "      <th>A</th>\n",
       "      <th>B</th>\n",
       "      <th>C</th>\n",
       "      <th>D</th>\n",
       "      <th>E</th>\n",
       "      <th>F</th>\n",
       "      <th>G</th>\n",
       "      <th>H</th>\n",
       "    </tr>\n",
       "  </thead>\n",
       "  <tbody>\n",
       "    <tr>\n",
       "      <th>0</th>\n",
       "      <td>1.0</td>\n",
       "      <td>2013-01-02</td>\n",
       "      <td>1.0</td>\n",
       "      <td>3</td>\n",
       "      <td>test</td>\n",
       "      <td>Python</td>\n",
       "      <td>2</td>\n",
       "      <td>NaN</td>\n",
       "    </tr>\n",
       "    <tr>\n",
       "      <th>1</th>\n",
       "      <td>1.0</td>\n",
       "      <td>2013-01-02</td>\n",
       "      <td>1.0</td>\n",
       "      <td>3</td>\n",
       "      <td>train</td>\n",
       "      <td>Python</td>\n",
       "      <td>2</td>\n",
       "      <td>2.0</td>\n",
       "    </tr>\n",
       "    <tr>\n",
       "      <th>2</th>\n",
       "      <td>1.0</td>\n",
       "      <td>2013-01-02</td>\n",
       "      <td>1.0</td>\n",
       "      <td>3</td>\n",
       "      <td>test</td>\n",
       "      <td>Python</td>\n",
       "      <td>4</td>\n",
       "      <td>4.0</td>\n",
       "    </tr>\n",
       "    <tr>\n",
       "      <th>3</th>\n",
       "      <td>1.0</td>\n",
       "      <td>2013-01-02</td>\n",
       "      <td>1.0</td>\n",
       "      <td>3</td>\n",
       "      <td>train</td>\n",
       "      <td>Python</td>\n",
       "      <td>4</td>\n",
       "      <td>NaN</td>\n",
       "    </tr>\n",
       "  </tbody>\n",
       "</table>\n",
       "</div>"
      ],
      "text/plain": [
       "     A          B    C  D      E       F  G    H\n",
       "0  1.0 2013-01-02  1.0  3   test  Python  2  NaN\n",
       "1  1.0 2013-01-02  1.0  3  train  Python  2  2.0\n",
       "2  1.0 2013-01-02  1.0  3   test  Python  4  4.0\n",
       "3  1.0 2013-01-02  1.0  3  train  Python  4  NaN"
      ]
     },
     "execution_count": 511,
     "metadata": {},
     "output_type": "execute_result"
    }
   ],
   "source": [
    "df2"
   ]
  },
  {
   "cell_type": "markdown",
   "id": "cfb1e912",
   "metadata": {},
   "source": [
    "Sempre que usar a função nunique ela aponta os dados ÚNICOS ( axis=0 está relacionado a linha e axis= 1 à coluna)"
   ]
  },
  {
   "cell_type": "code",
   "execution_count": 514,
   "id": "d86d3371",
   "metadata": {
    "scrolled": true
   },
   "outputs": [
    {
     "data": {
      "text/plain": [
       "0    6\n",
       "1    6\n",
       "2    6\n",
       "3    6\n",
       "dtype: int64"
      ]
     },
     "execution_count": 514,
     "metadata": {},
     "output_type": "execute_result"
    }
   ],
   "source": [
    "df2.nunique(axis = 1, dropna = True)"
   ]
  },
  {
   "cell_type": "code",
   "execution_count": null,
   "id": "750e2139",
   "metadata": {},
   "outputs": [],
   "source": []
  },
  {
   "cell_type": "code",
   "execution_count": null,
   "id": "366435a9",
   "metadata": {},
   "outputs": [],
   "source": []
  }
 ],
 "metadata": {
  "kernelspec": {
   "display_name": "Python 3 (ipykernel)",
   "language": "python",
   "name": "python3"
  },
  "language_info": {
   "codemirror_mode": {
    "name": "ipython",
    "version": 3
   },
   "file_extension": ".py",
   "mimetype": "text/x-python",
   "name": "python",
   "nbconvert_exporter": "python",
   "pygments_lexer": "ipython3",
   "version": "3.9.12"
  },
  "varInspector": {
   "cols": {
    "lenName": 16,
    "lenType": 16,
    "lenVar": 40
   },
   "kernels_config": {
    "python": {
     "delete_cmd_postfix": "",
     "delete_cmd_prefix": "del ",
     "library": "var_list.py",
     "varRefreshCmd": "print(var_dic_list())"
    },
    "r": {
     "delete_cmd_postfix": ") ",
     "delete_cmd_prefix": "rm(",
     "library": "var_list.r",
     "varRefreshCmd": "cat(var_dic_list()) "
    }
   },
   "types_to_exclude": [
    "module",
    "function",
    "builtin_function_or_method",
    "instance",
    "_Feature"
   ],
   "window_display": false
  }
 },
 "nbformat": 4,
 "nbformat_minor": 5
}
