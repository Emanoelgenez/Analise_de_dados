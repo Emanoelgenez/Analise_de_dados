{
 "cells": [
  {
   "cell_type": "markdown",
   "id": "4b15d2fc",
   "metadata": {},
   "source": [
    "<h1>\n",
    "   <font color = \"grey\">Fundamentos da linguagem Python</font>\n",
    "</h1>"
   ]
  },
  {
   "cell_type": "code",
   "execution_count": 1,
   "id": "4bc53e0d",
   "metadata": {
    "ExecuteTime": {
     "end_time": "2022-04-19T17:37:44.795130Z",
     "start_time": "2022-04-19T17:37:44.773144Z"
    },
    "scrolled": true
   },
   "outputs": [
    {
     "name": "stdout",
     "output_type": "stream",
     "text": [
      "olá mundo!\n"
     ]
    }
   ],
   "source": [
    "print('olá mundo!')"
   ]
  },
  {
   "cell_type": "markdown",
   "id": "6f12b49e",
   "metadata": {},
   "source": [
    "olá mundo!"
   ]
  },
  {
   "cell_type": "markdown",
   "id": "e3769676",
   "metadata": {},
   "source": [
    "<h4>olá mundo!</h4>"
   ]
  },
  {
   "cell_type": "markdown",
   "id": "dc976fe6",
   "metadata": {},
   "source": [
    "# MÓDULO 1"
   ]
  },
  {
   "cell_type": "markdown",
   "id": "e0a62a4d",
   "metadata": {
    "heading_collapsed": true
   },
   "source": [
    "## 1.1. Operadores matemáticos"
   ]
  },
  {
   "cell_type": "code",
   "execution_count": 2,
   "id": "db5f029d",
   "metadata": {
    "hidden": true
   },
   "outputs": [
    {
     "data": {
      "text/plain": [
       "12"
      ]
     },
     "execution_count": 2,
     "metadata": {},
     "output_type": "execute_result"
    }
   ],
   "source": [
    "# adição \n",
    "\n",
    "5 + 7"
   ]
  },
  {
   "cell_type": "code",
   "execution_count": 3,
   "id": "086754d5",
   "metadata": {
    "hidden": true
   },
   "outputs": [
    {
     "data": {
      "text/plain": [
       "12"
      ]
     },
     "execution_count": 3,
     "metadata": {},
     "output_type": "execute_result"
    }
   ],
   "source": [
    "# subtração \n",
    "\n",
    "21 - 9"
   ]
  },
  {
   "cell_type": "code",
   "execution_count": 4,
   "id": "73ad00a4",
   "metadata": {
    "hidden": true
   },
   "outputs": [
    {
     "data": {
      "text/plain": [
       "27"
      ]
     },
     "execution_count": 4,
     "metadata": {},
     "output_type": "execute_result"
    }
   ],
   "source": [
    "# multiplicação \n",
    "\n",
    "3 * 9"
   ]
  },
  {
   "cell_type": "code",
   "execution_count": 5,
   "id": "7edf81d3",
   "metadata": {
    "hidden": true
   },
   "outputs": [
    {
     "data": {
      "text/plain": [
       "19.666666666666668"
      ]
     },
     "execution_count": 5,
     "metadata": {},
     "output_type": "execute_result"
    }
   ],
   "source": [
    "# divisão\n",
    "\n",
    "59 / 3"
   ]
  },
  {
   "cell_type": "markdown",
   "id": "ccae3f61",
   "metadata": {
    "hidden": true
   },
   "source": [
    "### 1.1.1. Operação com variáveis"
   ]
  },
  {
   "cell_type": "code",
   "execution_count": 6,
   "id": "a4163fb5",
   "metadata": {
    "hidden": true
   },
   "outputs": [],
   "source": [
    "a = 39"
   ]
  },
  {
   "cell_type": "code",
   "execution_count": 7,
   "id": "1fa667db",
   "metadata": {
    "hidden": true,
    "scrolled": true
   },
   "outputs": [],
   "source": [
    "b = a + 1"
   ]
  },
  {
   "cell_type": "code",
   "execution_count": 8,
   "id": "8a48dfe1",
   "metadata": {
    "hidden": true
   },
   "outputs": [
    {
     "data": {
      "text/plain": [
       "40"
      ]
     },
     "execution_count": 8,
     "metadata": {},
     "output_type": "execute_result"
    }
   ],
   "source": [
    "b"
   ]
  },
  {
   "cell_type": "code",
   "execution_count": 9,
   "id": "068ca6e0",
   "metadata": {
    "hidden": true
   },
   "outputs": [
    {
     "data": {
      "text/plain": [
       "80"
      ]
     },
     "execution_count": 9,
     "metadata": {},
     "output_type": "execute_result"
    }
   ],
   "source": [
    "b * 2"
   ]
  },
  {
   "cell_type": "markdown",
   "id": "03ed7a7e",
   "metadata": {
    "hidden": true
   },
   "source": [
    "**Aquecimento operadores matemáticos**"
   ]
  },
  {
   "cell_type": "code",
   "execution_count": 10,
   "id": "2cc48ee6",
   "metadata": {
    "hidden": true
   },
   "outputs": [],
   "source": [
    "# compras \n",
    "\n",
    "\n",
    "arroz = 10\n",
    "leite = 11.50\n",
    "carne = 30.80\n",
    "sabonete = 9.56\n",
    "alvejante = 19.58"
   ]
  },
  {
   "cell_type": "code",
   "execution_count": 11,
   "id": "b849174d",
   "metadata": {
    "hidden": true
   },
   "outputs": [],
   "source": [
    "resultado = arroz + leite + carne + sabonete + alvejante "
   ]
  },
  {
   "cell_type": "code",
   "execution_count": 12,
   "id": "2c0582cd",
   "metadata": {
    "hidden": true
   },
   "outputs": [
    {
     "data": {
      "text/plain": [
       "81.44"
      ]
     },
     "execution_count": 12,
     "metadata": {},
     "output_type": "execute_result"
    }
   ],
   "source": [
    "resultado"
   ]
  },
  {
   "cell_type": "code",
   "execution_count": 13,
   "id": "2ed10c8b",
   "metadata": {
    "hidden": true
   },
   "outputs": [
    {
     "name": "stdout",
     "output_type": "stream",
     "text": [
      "O valor total das compras é: R$ 81.44\n"
     ]
    }
   ],
   "source": [
    "print('O valor total das compras é: R$', resultado)"
   ]
  },
  {
   "cell_type": "code",
   "execution_count": 14,
   "id": "d6934e22",
   "metadata": {
    "hidden": true
   },
   "outputs": [
    {
     "data": {
      "text/plain": [
       "4"
      ]
     },
     "execution_count": 14,
     "metadata": {},
     "output_type": "execute_result"
    }
   ],
   "source": [
    "# potenciação \n",
    "\n",
    "2 ** 2"
   ]
  },
  {
   "cell_type": "code",
   "execution_count": 15,
   "id": "45175d16",
   "metadata": {
    "hidden": true
   },
   "outputs": [
    {
     "data": {
      "text/plain": [
       "3"
      ]
     },
     "execution_count": 15,
     "metadata": {},
     "output_type": "execute_result"
    }
   ],
   "source": [
    "# módulo ou resto da divisão \n",
    "\n",
    "10 % 7"
   ]
  },
  {
   "cell_type": "markdown",
   "id": "897ad1f6",
   "metadata": {
    "heading_collapsed": true
   },
   "source": [
    "## 1.2. Operadores relacionais"
   ]
  },
  {
   "cell_type": "code",
   "execution_count": 16,
   "id": "a8a27945",
   "metadata": {
    "hidden": true
   },
   "outputs": [
    {
     "data": {
      "text/plain": [
       "False"
      ]
     },
     "execution_count": 16,
     "metadata": {},
     "output_type": "execute_result"
    }
   ],
   "source": [
    "# igualdade\n",
    "\n",
    "700 == 90"
   ]
  },
  {
   "cell_type": "code",
   "execution_count": 17,
   "id": "80c60896",
   "metadata": {
    "hidden": true
   },
   "outputs": [
    {
     "data": {
      "text/plain": [
       "True"
      ]
     },
     "execution_count": 17,
     "metadata": {},
     "output_type": "execute_result"
    }
   ],
   "source": [
    "100 == 100"
   ]
  },
  {
   "cell_type": "code",
   "execution_count": 18,
   "id": "305e00c2",
   "metadata": {
    "hidden": true
   },
   "outputs": [
    {
     "data": {
      "text/plain": [
       "True"
      ]
     },
     "execution_count": 18,
     "metadata": {},
     "output_type": "execute_result"
    }
   ],
   "source": [
    "80.0 == 80"
   ]
  },
  {
   "cell_type": "code",
   "execution_count": 19,
   "id": "a7fb955f",
   "metadata": {
    "hidden": true
   },
   "outputs": [
    {
     "data": {
      "text/plain": [
       "True"
      ]
     },
     "execution_count": 19,
     "metadata": {},
     "output_type": "execute_result"
    }
   ],
   "source": [
    "# desigualdade \n",
    "\n",
    "3 != 7"
   ]
  },
  {
   "cell_type": "code",
   "execution_count": 20,
   "id": "ca33c454",
   "metadata": {
    "hidden": true
   },
   "outputs": [
    {
     "data": {
      "text/plain": [
       "False"
      ]
     },
     "execution_count": 20,
     "metadata": {},
     "output_type": "execute_result"
    }
   ],
   "source": [
    "3 != 3"
   ]
  },
  {
   "cell_type": "code",
   "execution_count": 21,
   "id": "eceb6cf1",
   "metadata": {
    "hidden": true
   },
   "outputs": [
    {
     "data": {
      "text/plain": [
       "True"
      ]
     },
     "execution_count": 21,
     "metadata": {},
     "output_type": "execute_result"
    }
   ],
   "source": [
    "# maior que \n",
    "\n",
    "500 > 90"
   ]
  },
  {
   "cell_type": "code",
   "execution_count": 22,
   "id": "abf0b349",
   "metadata": {
    "hidden": true
   },
   "outputs": [
    {
     "data": {
      "text/plain": [
       "False"
      ]
     },
     "execution_count": 22,
     "metadata": {},
     "output_type": "execute_result"
    }
   ],
   "source": [
    "90 > 500"
   ]
  },
  {
   "cell_type": "code",
   "execution_count": 23,
   "id": "4704e0ff",
   "metadata": {
    "hidden": true
   },
   "outputs": [
    {
     "data": {
      "text/plain": [
       "False"
      ]
     },
     "execution_count": 23,
     "metadata": {},
     "output_type": "execute_result"
    }
   ],
   "source": [
    "# menor que \n",
    "\n",
    "500 < 90"
   ]
  },
  {
   "cell_type": "code",
   "execution_count": 24,
   "id": "49e66d6c",
   "metadata": {
    "hidden": true
   },
   "outputs": [
    {
     "data": {
      "text/plain": [
       "True"
      ]
     },
     "execution_count": 24,
     "metadata": {},
     "output_type": "execute_result"
    }
   ],
   "source": [
    "90 < 500"
   ]
  },
  {
   "cell_type": "code",
   "execution_count": 25,
   "id": "235c6773",
   "metadata": {
    "hidden": true
   },
   "outputs": [
    {
     "data": {
      "text/plain": [
       "True"
      ]
     },
     "execution_count": 25,
     "metadata": {},
     "output_type": "execute_result"
    }
   ],
   "source": [
    "# maior ou igual \n",
    "\n",
    "8 >= 8"
   ]
  },
  {
   "cell_type": "code",
   "execution_count": 26,
   "id": "84314f33",
   "metadata": {
    "hidden": true
   },
   "outputs": [
    {
     "data": {
      "text/plain": [
       "False"
      ]
     },
     "execution_count": 26,
     "metadata": {},
     "output_type": "execute_result"
    }
   ],
   "source": [
    "5 >= 10"
   ]
  },
  {
   "cell_type": "markdown",
   "id": "fb1ebd4f",
   "metadata": {
    "heading_collapsed": true
   },
   "source": [
    "## 1.3. Operadores lógicos"
   ]
  },
  {
   "cell_type": "markdown",
   "id": "d10cd288",
   "metadata": {
    "hidden": true
   },
   "source": [
    "**and** = e\n",
    "\n",
    "**or** = ou \n",
    "\n",
    "**not** = não"
   ]
  },
  {
   "cell_type": "markdown",
   "id": "87f0b209",
   "metadata": {
    "hidden": true
   },
   "source": [
    "**and** = se todas as alternativas forem verdadeiras\n",
    "\n",
    "**or** = se pelo menos uma das alternativas forem verdadeiras\n",
    "\n",
    "**not** = se for verdadeira será falso"
   ]
  },
  {
   "cell_type": "markdown",
   "id": "5a4f00fe",
   "metadata": {
    "hidden": true
   },
   "source": [
    "**1.Para estudar em uma universidade, o aluno deve:**\n",
    "\n",
    "\n",
    "Ter passado no vestibular\n",
    "\n",
    "e\n",
    "\n",
    "Estar com toda documentação necessária\n",
    "\n",
    "e \n",
    "\n",
    "Estar matriculado "
   ]
  },
  {
   "cell_type": "code",
   "execution_count": 27,
   "id": "aa9cd843",
   "metadata": {
    "hidden": true
   },
   "outputs": [
    {
     "data": {
      "text/plain": [
       "True"
      ]
     },
     "execution_count": 27,
     "metadata": {},
     "output_type": "execute_result"
    }
   ],
   "source": [
    "50 > 40 and 50 > 49"
   ]
  },
  {
   "cell_type": "markdown",
   "id": "b5d28ea0",
   "metadata": {
    "hidden": true
   },
   "source": [
    "**2. Para obter flexibilidade no período de provas, o aluno deve:**\n",
    "\n",
    "Ser militar e estar de serviço\n",
    "\n",
    "ou \n",
    "\n",
    "Estar de licença maternidade\n",
    "\n",
    "ou \n",
    "\n",
    "Estar de atestado médico "
   ]
  },
  {
   "cell_type": "code",
   "execution_count": 28,
   "id": "0b6d4f8d",
   "metadata": {
    "hidden": true
   },
   "outputs": [
    {
     "data": {
      "text/plain": [
       "True"
      ]
     },
     "execution_count": 28,
     "metadata": {},
     "output_type": "execute_result"
    }
   ],
   "source": [
    "80 > 3 or 15 < 20"
   ]
  },
  {
   "cell_type": "markdown",
   "id": "69061f15",
   "metadata": {
    "hidden": true
   },
   "source": [
    "**3. Para que o aluno seja aprovado no semestre ele deve:**\n",
    "\n",
    "Ter faltado o limite total permidito"
   ]
  },
  {
   "cell_type": "code",
   "execution_count": 29,
   "id": "6a6cd3d5",
   "metadata": {
    "hidden": true
   },
   "outputs": [
    {
     "data": {
      "text/plain": [
       "False"
      ]
     },
     "execution_count": 29,
     "metadata": {},
     "output_type": "execute_result"
    }
   ],
   "source": [
    "not (50 > 40 and 50 > 49)"
   ]
  },
  {
   "cell_type": "code",
   "execution_count": 30,
   "id": "19e11475",
   "metadata": {
    "hidden": true
   },
   "outputs": [
    {
     "data": {
      "text/plain": [
       "True"
      ]
     },
     "execution_count": 30,
     "metadata": {},
     "output_type": "execute_result"
    }
   ],
   "source": [
    "not (700 == 90)"
   ]
  },
  {
   "cell_type": "markdown",
   "id": "4fab971e",
   "metadata": {},
   "source": [
    "## 1.4. Declaração de variáveis"
   ]
  },
  {
   "cell_type": "markdown",
   "id": "e5832429",
   "metadata": {
    "heading_collapsed": true
   },
   "source": [
    "### 1.4.1. Funções Built-in"
   ]
  },
  {
   "cell_type": "markdown",
   "id": "c0ddaceb",
   "metadata": {
    "hidden": true
   },
   "source": [
    "Documentação oficial Built-in\n",
    "\n",
    "https://docs.python.org/pt-br/3/library/functions.html#type"
   ]
  },
  {
   "cell_type": "markdown",
   "id": "9970ef2d",
   "metadata": {},
   "source": [
    "### 1.4.2. Nomes das variáveis"
   ]
  },
  {
   "cell_type": "markdown",
   "id": "e4136166",
   "metadata": {},
   "source": [
    "**O que não deve ser feito**\n",
    "\n",
    "1. Utilizar palavras reservadas do Pyhton \n",
    "\n",
    "2. Iniciar nome das variáveis com números \n",
    "\n",
    "3. iniciar com caracteres, exeto o _\n",
    "\n",
    "4. Escrever nomes separados por espaços\n",
    "\n",
    "5. utilizar acentuação gráfica e cedilha"
   ]
  },
  {
   "cell_type": "markdown",
   "id": "9625de00",
   "metadata": {},
   "source": [
    "**Palavras reservadas do Python**\n",
    "\n",
    "https://docs.python.org/pt-br/3/reference/lexical_analysis.html#keywords"
   ]
  },
  {
   "cell_type": "markdown",
   "id": "84900a7f",
   "metadata": {},
   "source": [
    "**Padrões de escrita**"
   ]
  },
  {
   "cell_type": "raw",
   "id": "a3b53154",
   "metadata": {},
   "source": [
    "camelCase\n",
    "\n",
    "PascalCase\n",
    "\n",
    "snake_case"
   ]
  },
  {
   "cell_type": "markdown",
   "id": "ca82c740",
   "metadata": {},
   "source": [
    "**O que é aceitável no nome das variáveis**"
   ]
  },
  {
   "cell_type": "raw",
   "id": "5bba9a18",
   "metadata": {},
   "source": [
    "VARIAVEIS_PYTHON\n",
    "\n",
    "variaveis_python\n",
    "\n",
    "VARIAVEIS-PYTHON\n",
    "\n",
    "variaveis-python\n",
    "\n",
    "variaveisPyhton\n",
    "\n",
    "VariaveisPython\n",
    "\n",
    "_1variavel_python"
   ]
  },
  {
   "cell_type": "code",
   "execution_count": null,
   "id": "460d2461",
   "metadata": {},
   "outputs": [],
   "source": []
  },
  {
   "cell_type": "code",
   "execution_count": null,
   "id": "f96c884f",
   "metadata": {},
   "outputs": [],
   "source": []
  },
  {
   "cell_type": "code",
   "execution_count": null,
   "id": "ef437639",
   "metadata": {},
   "outputs": [],
   "source": []
  },
  {
   "cell_type": "code",
   "execution_count": null,
   "id": "bfd93664",
   "metadata": {},
   "outputs": [],
   "source": []
  },
  {
   "cell_type": "code",
   "execution_count": null,
   "id": "41f0f47f",
   "metadata": {},
   "outputs": [],
   "source": []
  },
  {
   "cell_type": "code",
   "execution_count": null,
   "id": "3fec42f4",
   "metadata": {},
   "outputs": [],
   "source": []
  },
  {
   "cell_type": "code",
   "execution_count": null,
   "id": "2a7c4492",
   "metadata": {},
   "outputs": [],
   "source": []
  }
 ],
 "metadata": {
  "kernelspec": {
   "display_name": "Python 3 (ipykernel)",
   "language": "python",
   "name": "python3"
  },
  "language_info": {
   "codemirror_mode": {
    "name": "ipython",
    "version": 3
   },
   "file_extension": ".py",
   "mimetype": "text/x-python",
   "name": "python",
   "nbconvert_exporter": "python",
   "pygments_lexer": "ipython3",
   "version": "3.9.12"
  },
  "varInspector": {
   "cols": {
    "lenName": 16,
    "lenType": 16,
    "lenVar": 40
   },
   "kernels_config": {
    "python": {
     "delete_cmd_postfix": "",
     "delete_cmd_prefix": "del ",
     "library": "var_list.py",
     "varRefreshCmd": "print(var_dic_list())"
    },
    "r": {
     "delete_cmd_postfix": ") ",
     "delete_cmd_prefix": "rm(",
     "library": "var_list.r",
     "varRefreshCmd": "cat(var_dic_list()) "
    }
   },
   "types_to_exclude": [
    "module",
    "function",
    "builtin_function_or_method",
    "instance",
    "_Feature"
   ],
   "window_display": false
  }
 },
 "nbformat": 4,
 "nbformat_minor": 5
}
