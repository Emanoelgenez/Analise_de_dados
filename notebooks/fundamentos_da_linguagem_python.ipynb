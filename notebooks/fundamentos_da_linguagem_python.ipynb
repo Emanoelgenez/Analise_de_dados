{
 "cells": [
  {
   "cell_type": "markdown",
   "id": "4b15d2fc",
   "metadata": {},
   "source": [
    "<h1>\n",
    "   <font color = \"grey\">Fundamentos da linguagem Python</font>\n",
    "</h1>"
   ]
  },
  {
   "cell_type": "markdown",
   "id": "dc976fe6",
   "metadata": {
    "heading_collapsed": true
   },
   "source": [
    "# MÓDULO 1"
   ]
  },
  {
   "cell_type": "markdown",
   "id": "e0a62a4d",
   "metadata": {
    "heading_collapsed": true,
    "hidden": true
   },
   "source": [
    "## 1.1. Operadores matemáticos"
   ]
  },
  {
   "cell_type": "code",
   "execution_count": 171,
   "id": "db5f029d",
   "metadata": {
    "ExecuteTime": {
     "end_time": "2022-05-19T12:10:44.811728Z",
     "start_time": "2022-05-19T12:10:44.799737Z"
    },
    "hidden": true
   },
   "outputs": [
    {
     "data": {
      "text/plain": [
       "12"
      ]
     },
     "execution_count": 171,
     "metadata": {},
     "output_type": "execute_result"
    }
   ],
   "source": [
    "# adição \n",
    "\n",
    "5 + 7"
   ]
  },
  {
   "cell_type": "code",
   "execution_count": 172,
   "id": "086754d5",
   "metadata": {
    "ExecuteTime": {
     "end_time": "2022-05-19T12:10:44.907667Z",
     "start_time": "2022-05-19T12:10:44.815723Z"
    },
    "hidden": true
   },
   "outputs": [
    {
     "data": {
      "text/plain": [
       "12"
      ]
     },
     "execution_count": 172,
     "metadata": {},
     "output_type": "execute_result"
    }
   ],
   "source": [
    "# subtração \n",
    "\n",
    "21 - 9"
   ]
  },
  {
   "cell_type": "code",
   "execution_count": 173,
   "id": "73ad00a4",
   "metadata": {
    "ExecuteTime": {
     "end_time": "2022-05-19T12:10:44.985620Z",
     "start_time": "2022-05-19T12:10:44.910667Z"
    },
    "hidden": true
   },
   "outputs": [
    {
     "data": {
      "text/plain": [
       "27"
      ]
     },
     "execution_count": 173,
     "metadata": {},
     "output_type": "execute_result"
    }
   ],
   "source": [
    "# multiplicação \n",
    "\n",
    "3 * 9"
   ]
  },
  {
   "cell_type": "code",
   "execution_count": 174,
   "id": "7edf81d3",
   "metadata": {
    "ExecuteTime": {
     "end_time": "2022-05-19T12:10:45.081562Z",
     "start_time": "2022-05-19T12:10:44.991615Z"
    },
    "hidden": true
   },
   "outputs": [
    {
     "data": {
      "text/plain": [
       "19.666666666666668"
      ]
     },
     "execution_count": 174,
     "metadata": {},
     "output_type": "execute_result"
    }
   ],
   "source": [
    "# divisão\n",
    "\n",
    "59 / 3"
   ]
  },
  {
   "cell_type": "markdown",
   "id": "ccae3f61",
   "metadata": {
    "hidden": true
   },
   "source": [
    "### 1.1.1. Operação com variáveis"
   ]
  },
  {
   "cell_type": "code",
   "execution_count": 175,
   "id": "a4163fb5",
   "metadata": {
    "ExecuteTime": {
     "end_time": "2022-05-19T12:10:45.159512Z",
     "start_time": "2022-05-19T12:10:45.084559Z"
    },
    "hidden": true
   },
   "outputs": [],
   "source": [
    "a = 39"
   ]
  },
  {
   "cell_type": "code",
   "execution_count": 176,
   "id": "1fa667db",
   "metadata": {
    "ExecuteTime": {
     "end_time": "2022-05-19T12:10:45.237466Z",
     "start_time": "2022-05-19T12:10:45.162510Z"
    },
    "hidden": true,
    "scrolled": true
   },
   "outputs": [],
   "source": [
    "b = a + 1"
   ]
  },
  {
   "cell_type": "code",
   "execution_count": 177,
   "id": "8a48dfe1",
   "metadata": {
    "ExecuteTime": {
     "end_time": "2022-05-19T12:10:45.317417Z",
     "start_time": "2022-05-19T12:10:45.240462Z"
    },
    "hidden": true
   },
   "outputs": [
    {
     "data": {
      "text/plain": [
       "40"
      ]
     },
     "execution_count": 177,
     "metadata": {},
     "output_type": "execute_result"
    }
   ],
   "source": [
    "b"
   ]
  },
  {
   "cell_type": "code",
   "execution_count": 178,
   "id": "068ca6e0",
   "metadata": {
    "ExecuteTime": {
     "end_time": "2022-05-19T12:10:45.397366Z",
     "start_time": "2022-05-19T12:10:45.321414Z"
    },
    "hidden": true
   },
   "outputs": [
    {
     "data": {
      "text/plain": [
       "80"
      ]
     },
     "execution_count": 178,
     "metadata": {},
     "output_type": "execute_result"
    }
   ],
   "source": [
    "b * 2"
   ]
  },
  {
   "cell_type": "markdown",
   "id": "03ed7a7e",
   "metadata": {
    "hidden": true
   },
   "source": [
    "**Aquecimento operadores matemáticos**"
   ]
  },
  {
   "cell_type": "code",
   "execution_count": 179,
   "id": "2cc48ee6",
   "metadata": {
    "ExecuteTime": {
     "end_time": "2022-05-19T12:10:45.491310Z",
     "start_time": "2022-05-19T12:10:45.402365Z"
    },
    "hidden": true
   },
   "outputs": [],
   "source": [
    "# compras \n",
    "\n",
    "\n",
    "arroz = 10\n",
    "leite = 11.50\n",
    "carne = 30.80\n",
    "sabonete = 9.56\n",
    "alvejante = 19.58"
   ]
  },
  {
   "cell_type": "code",
   "execution_count": 180,
   "id": "b849174d",
   "metadata": {
    "ExecuteTime": {
     "end_time": "2022-05-19T12:10:45.571261Z",
     "start_time": "2022-05-19T12:10:45.495306Z"
    },
    "hidden": true
   },
   "outputs": [],
   "source": [
    "resultado = arroz + leite + carne + sabonete + alvejante "
   ]
  },
  {
   "cell_type": "code",
   "execution_count": 181,
   "id": "2c0582cd",
   "metadata": {
    "ExecuteTime": {
     "end_time": "2022-05-19T12:10:45.666201Z",
     "start_time": "2022-05-19T12:10:45.575257Z"
    },
    "hidden": true
   },
   "outputs": [
    {
     "data": {
      "text/plain": [
       "81.44"
      ]
     },
     "execution_count": 181,
     "metadata": {},
     "output_type": "execute_result"
    }
   ],
   "source": [
    "resultado"
   ]
  },
  {
   "cell_type": "code",
   "execution_count": 182,
   "id": "2ed10c8b",
   "metadata": {
    "ExecuteTime": {
     "end_time": "2022-05-19T12:10:45.745151Z",
     "start_time": "2022-05-19T12:10:45.669200Z"
    },
    "hidden": true
   },
   "outputs": [
    {
     "name": "stdout",
     "output_type": "stream",
     "text": [
      "O valor total das compras é: R$ 81.44\n"
     ]
    }
   ],
   "source": [
    "print('O valor total das compras é: R$', resultado)"
   ]
  },
  {
   "cell_type": "code",
   "execution_count": 183,
   "id": "d6934e22",
   "metadata": {
    "ExecuteTime": {
     "end_time": "2022-05-19T12:10:45.824105Z",
     "start_time": "2022-05-19T12:10:45.748150Z"
    },
    "hidden": true
   },
   "outputs": [
    {
     "data": {
      "text/plain": [
       "4"
      ]
     },
     "execution_count": 183,
     "metadata": {},
     "output_type": "execute_result"
    }
   ],
   "source": [
    "# potenciação \n",
    "\n",
    "2 ** 2"
   ]
  },
  {
   "cell_type": "code",
   "execution_count": 184,
   "id": "45175d16",
   "metadata": {
    "ExecuteTime": {
     "end_time": "2022-05-19T12:10:45.917047Z",
     "start_time": "2022-05-19T12:10:45.830102Z"
    },
    "hidden": true
   },
   "outputs": [
    {
     "data": {
      "text/plain": [
       "3"
      ]
     },
     "execution_count": 184,
     "metadata": {},
     "output_type": "execute_result"
    }
   ],
   "source": [
    "# módulo ou resto da divisão \n",
    "\n",
    "10 % 7"
   ]
  },
  {
   "cell_type": "markdown",
   "id": "897ad1f6",
   "metadata": {
    "heading_collapsed": true,
    "hidden": true
   },
   "source": [
    "## 1.2. Operadores relacionais"
   ]
  },
  {
   "cell_type": "code",
   "execution_count": 185,
   "id": "a8a27945",
   "metadata": {
    "ExecuteTime": {
     "end_time": "2022-05-19T12:10:45.998059Z",
     "start_time": "2022-05-19T12:10:45.920045Z"
    },
    "hidden": true
   },
   "outputs": [
    {
     "data": {
      "text/plain": [
       "False"
      ]
     },
     "execution_count": 185,
     "metadata": {},
     "output_type": "execute_result"
    }
   ],
   "source": [
    "# igualdade\n",
    "\n",
    "700 == 90"
   ]
  },
  {
   "cell_type": "code",
   "execution_count": 186,
   "id": "80c60896",
   "metadata": {
    "ExecuteTime": {
     "end_time": "2022-05-19T12:10:46.092275Z",
     "start_time": "2022-05-19T12:10:46.001055Z"
    },
    "hidden": true
   },
   "outputs": [
    {
     "data": {
      "text/plain": [
       "True"
      ]
     },
     "execution_count": 186,
     "metadata": {},
     "output_type": "execute_result"
    }
   ],
   "source": [
    "100 == 100"
   ]
  },
  {
   "cell_type": "code",
   "execution_count": 187,
   "id": "305e00c2",
   "metadata": {
    "ExecuteTime": {
     "end_time": "2022-05-19T12:10:46.187400Z",
     "start_time": "2022-05-19T12:10:46.096271Z"
    },
    "hidden": true
   },
   "outputs": [
    {
     "data": {
      "text/plain": [
       "True"
      ]
     },
     "execution_count": 187,
     "metadata": {},
     "output_type": "execute_result"
    }
   ],
   "source": [
    "80.0 == 80"
   ]
  },
  {
   "cell_type": "code",
   "execution_count": 188,
   "id": "a7fb955f",
   "metadata": {
    "ExecuteTime": {
     "end_time": "2022-05-19T12:10:46.267333Z",
     "start_time": "2022-05-19T12:10:46.193399Z"
    },
    "hidden": true
   },
   "outputs": [
    {
     "data": {
      "text/plain": [
       "True"
      ]
     },
     "execution_count": 188,
     "metadata": {},
     "output_type": "execute_result"
    }
   ],
   "source": [
    "# desigualdade \n",
    "\n",
    "3 != 7"
   ]
  },
  {
   "cell_type": "code",
   "execution_count": 189,
   "id": "ca33c454",
   "metadata": {
    "ExecuteTime": {
     "end_time": "2022-05-19T12:10:46.363493Z",
     "start_time": "2022-05-19T12:10:46.270336Z"
    },
    "hidden": true
   },
   "outputs": [
    {
     "data": {
      "text/plain": [
       "False"
      ]
     },
     "execution_count": 189,
     "metadata": {},
     "output_type": "execute_result"
    }
   ],
   "source": [
    "3 != 3"
   ]
  },
  {
   "cell_type": "code",
   "execution_count": 190,
   "id": "eceb6cf1",
   "metadata": {
    "ExecuteTime": {
     "end_time": "2022-05-19T12:10:46.442373Z",
     "start_time": "2022-05-19T12:10:46.369485Z"
    },
    "hidden": true
   },
   "outputs": [
    {
     "data": {
      "text/plain": [
       "True"
      ]
     },
     "execution_count": 190,
     "metadata": {},
     "output_type": "execute_result"
    }
   ],
   "source": [
    "# maior que \n",
    "\n",
    "500 > 90"
   ]
  },
  {
   "cell_type": "code",
   "execution_count": 191,
   "id": "abf0b349",
   "metadata": {
    "ExecuteTime": {
     "end_time": "2022-05-19T12:10:46.538422Z",
     "start_time": "2022-05-19T12:10:46.456365Z"
    },
    "hidden": true
   },
   "outputs": [
    {
     "data": {
      "text/plain": [
       "False"
      ]
     },
     "execution_count": 191,
     "metadata": {},
     "output_type": "execute_result"
    }
   ],
   "source": [
    "90 > 500"
   ]
  },
  {
   "cell_type": "code",
   "execution_count": 192,
   "id": "4704e0ff",
   "metadata": {
    "ExecuteTime": {
     "end_time": "2022-05-19T12:10:46.630531Z",
     "start_time": "2022-05-19T12:10:46.547418Z"
    },
    "hidden": true
   },
   "outputs": [
    {
     "data": {
      "text/plain": [
       "False"
      ]
     },
     "execution_count": 192,
     "metadata": {},
     "output_type": "execute_result"
    }
   ],
   "source": [
    "# menor que \n",
    "\n",
    "500 < 90"
   ]
  },
  {
   "cell_type": "code",
   "execution_count": 193,
   "id": "49e66d6c",
   "metadata": {
    "ExecuteTime": {
     "end_time": "2022-05-19T12:10:46.708380Z",
     "start_time": "2022-05-19T12:10:46.637527Z"
    },
    "hidden": true
   },
   "outputs": [
    {
     "data": {
      "text/plain": [
       "True"
      ]
     },
     "execution_count": 193,
     "metadata": {},
     "output_type": "execute_result"
    }
   ],
   "source": [
    "90 < 500"
   ]
  },
  {
   "cell_type": "code",
   "execution_count": 194,
   "id": "235c6773",
   "metadata": {
    "ExecuteTime": {
     "end_time": "2022-05-19T12:10:46.800338Z",
     "start_time": "2022-05-19T12:10:46.720366Z"
    },
    "hidden": true
   },
   "outputs": [
    {
     "data": {
      "text/plain": [
       "True"
      ]
     },
     "execution_count": 194,
     "metadata": {},
     "output_type": "execute_result"
    }
   ],
   "source": [
    "# maior ou igual \n",
    "\n",
    "8 >= 8"
   ]
  },
  {
   "cell_type": "code",
   "execution_count": 195,
   "id": "84314f33",
   "metadata": {
    "ExecuteTime": {
     "end_time": "2022-05-19T12:10:46.895471Z",
     "start_time": "2022-05-19T12:10:46.803339Z"
    },
    "hidden": true
   },
   "outputs": [
    {
     "data": {
      "text/plain": [
       "False"
      ]
     },
     "execution_count": 195,
     "metadata": {},
     "output_type": "execute_result"
    }
   ],
   "source": [
    "5 >= 10"
   ]
  },
  {
   "cell_type": "markdown",
   "id": "fb1ebd4f",
   "metadata": {
    "heading_collapsed": true,
    "hidden": true
   },
   "source": [
    "## 1.3. Operadores lógicos"
   ]
  },
  {
   "cell_type": "markdown",
   "id": "d10cd288",
   "metadata": {
    "hidden": true
   },
   "source": [
    "**and** = e\n",
    "\n",
    "**or** = ou \n",
    "\n",
    "**not** = não"
   ]
  },
  {
   "cell_type": "markdown",
   "id": "87f0b209",
   "metadata": {
    "hidden": true
   },
   "source": [
    "**and** = se todas as alternativas forem verdadeiras\n",
    "\n",
    "**or** = se pelo menos uma das alternativas forem verdadeiras\n",
    "\n",
    "**not** = se for verdadeira será falso"
   ]
  },
  {
   "cell_type": "markdown",
   "id": "5a4f00fe",
   "metadata": {
    "hidden": true
   },
   "source": [
    "**1.Para estudar em uma universidade, o aluno deve:**\n",
    "\n",
    "\n",
    "Ter passado no vestibular\n",
    "\n",
    "e\n",
    "\n",
    "Estar com toda documentação necessária\n",
    "\n",
    "e \n",
    "\n",
    "Estar matriculado "
   ]
  },
  {
   "cell_type": "code",
   "execution_count": 196,
   "id": "aa9cd843",
   "metadata": {
    "ExecuteTime": {
     "end_time": "2022-05-19T12:10:46.974497Z",
     "start_time": "2022-05-19T12:10:46.899446Z"
    },
    "hidden": true
   },
   "outputs": [
    {
     "data": {
      "text/plain": [
       "True"
      ]
     },
     "execution_count": 196,
     "metadata": {},
     "output_type": "execute_result"
    }
   ],
   "source": [
    "50 > 40 and 50 > 49"
   ]
  },
  {
   "cell_type": "markdown",
   "id": "b5d28ea0",
   "metadata": {
    "hidden": true
   },
   "source": [
    "**2. Para obter flexibilidade no período de provas, o aluno deve:**\n",
    "\n",
    "Ser militar e estar de serviço\n",
    "\n",
    "ou \n",
    "\n",
    "Estar de licença maternidade\n",
    "\n",
    "ou \n",
    "\n",
    "Estar de atestado médico "
   ]
  },
  {
   "cell_type": "code",
   "execution_count": 197,
   "id": "bfd93664",
   "metadata": {
    "ExecuteTime": {
     "end_time": "2022-05-19T12:10:47.054003Z",
     "start_time": "2022-05-19T12:10:46.982487Z"
    },
    "hidden": true
   },
   "outputs": [
    {
     "data": {
      "text/plain": [
       "True"
      ]
     },
     "execution_count": 197,
     "metadata": {},
     "output_type": "execute_result"
    }
   ],
   "source": [
    "80 > 3 or 15 > 20"
   ]
  },
  {
   "cell_type": "markdown",
   "id": "25a3d5d2",
   "metadata": {
    "heading_collapsed": true,
    "hidden": true
   },
   "source": [
    "## 1.4. Laços de repetiçoes for"
   ]
  },
  {
   "cell_type": "code",
   "execution_count": 198,
   "id": "3fec42f4",
   "metadata": {
    "ExecuteTime": {
     "end_time": "2022-05-19T12:10:47.149655Z",
     "start_time": "2022-05-19T12:10:47.056578Z"
    },
    "hidden": true,
    "scrolled": true
   },
   "outputs": [
    {
     "name": "stdout",
     "output_type": "stream",
     "text": [
      "0\n",
      "3\n",
      "6\n",
      "9\n",
      "12\n",
      "15\n",
      "18\n"
     ]
    }
   ],
   "source": [
    "for i in range (0, 20, 3):\n",
    "    print(i)"
   ]
  },
  {
   "cell_type": "markdown",
   "id": "f69f5152",
   "metadata": {
    "hidden": true
   },
   "source": [
    "Essa função cria um loop de um range(sequencia numerica) \n",
    "\n",
    "for é função (i) é a variável in conecta ao range ( inicio da sequncia, fim da sequencia, intervalos) "
   ]
  },
  {
   "cell_type": "code",
   "execution_count": 199,
   "id": "74770f50",
   "metadata": {
    "ExecuteTime": {
     "end_time": "2022-05-19T12:10:47.227990Z",
     "start_time": "2022-05-19T12:10:47.161650Z"
    },
    "hidden": true
   },
   "outputs": [],
   "source": [
    "lista = [3, 8, 44, 100]"
   ]
  },
  {
   "cell_type": "code",
   "execution_count": 200,
   "id": "7e2a4ec6",
   "metadata": {
    "ExecuteTime": {
     "end_time": "2022-05-19T12:10:47.322950Z",
     "start_time": "2022-05-19T12:10:47.237960Z"
    },
    "hidden": true
   },
   "outputs": [
    {
     "name": "stdout",
     "output_type": "stream",
     "text": [
      "3\n",
      "8\n",
      "44\n",
      "100\n"
     ]
    }
   ],
   "source": [
    "for x in lista:\n",
    "    print(x)"
   ]
  },
  {
   "cell_type": "code",
   "execution_count": 201,
   "id": "977d6939",
   "metadata": {
    "ExecuteTime": {
     "end_time": "2022-05-19T12:10:47.404072Z",
     "start_time": "2022-05-19T12:10:47.326955Z"
    },
    "hidden": true
   },
   "outputs": [],
   "source": [
    "lista2 = [3, 8, 44, 100]"
   ]
  },
  {
   "cell_type": "code",
   "execution_count": 202,
   "id": "3c00918a",
   "metadata": {
    "ExecuteTime": {
     "end_time": "2022-05-19T12:10:47.484056Z",
     "start_time": "2022-05-19T12:10:47.412052Z"
    },
    "hidden": true
   },
   "outputs": [
    {
     "name": "stdout",
     "output_type": "stream",
     "text": [
      "8\n",
      "44\n",
      "100\n"
     ]
    }
   ],
   "source": [
    "for i in lista2:\n",
    "    \n",
    "    if i % 2 == 0:\n",
    "     print(i)"
   ]
  },
  {
   "cell_type": "code",
   "execution_count": 203,
   "id": "c02b0aa9",
   "metadata": {
    "ExecuteTime": {
     "end_time": "2022-05-19T12:10:47.576438Z",
     "start_time": "2022-05-19T12:10:47.490049Z"
    },
    "hidden": true
   },
   "outputs": [],
   "source": [
    "lista3 = [ [1,2,3], [2,3,5], [7,8,5,4,3,2] ]"
   ]
  },
  {
   "cell_type": "code",
   "execution_count": 204,
   "id": "b0ac09fa",
   "metadata": {
    "ExecuteTime": {
     "end_time": "2022-05-19T12:10:47.686530Z",
     "start_time": "2022-05-19T12:10:47.586433Z"
    },
    "hidden": true
   },
   "outputs": [
    {
     "name": "stdout",
     "output_type": "stream",
     "text": [
      "[1, 2, 3]\n",
      "[2, 3, 5]\n",
      "[7, 8, 5, 4, 3, 2]\n"
     ]
    }
   ],
   "source": [
    "for ii in lista3:\n",
    "    print(ii)"
   ]
  },
  {
   "cell_type": "code",
   "execution_count": 205,
   "id": "a0c9c5a5",
   "metadata": {
    "ExecuteTime": {
     "end_time": "2022-05-19T12:10:47.750689Z",
     "start_time": "2022-05-19T12:10:47.690036Z"
    },
    "hidden": true
   },
   "outputs": [],
   "source": [
    "di = {'d1': 10,'d2': 20,'d3': 30,'d4': 40,'d5': 50, };\n",
    "\n",
    "d2 = {'d2': 10,'d2': 20,'d2': 30,'d2': 40,'d2': 50};    "
   ]
  },
  {
   "cell_type": "code",
   "execution_count": 206,
   "id": "04ed3a81",
   "metadata": {
    "ExecuteTime": {
     "end_time": "2022-05-19T12:10:47.844442Z",
     "start_time": "2022-05-19T12:10:47.753677Z"
    },
    "hidden": true
   },
   "outputs": [
    {
     "data": {
      "text/plain": [
       "{'d1': 10, 'd2': 20, 'd3': 30, 'd4': 40, 'd5': 50}"
      ]
     },
     "execution_count": 206,
     "metadata": {},
     "output_type": "execute_result"
    }
   ],
   "source": [
    "di"
   ]
  },
  {
   "cell_type": "code",
   "execution_count": 207,
   "id": "4d8d1df3",
   "metadata": {
    "ExecuteTime": {
     "end_time": "2022-05-19T12:10:47.938610Z",
     "start_time": "2022-05-19T12:10:47.853435Z"
    },
    "hidden": true,
    "scrolled": true
   },
   "outputs": [
    {
     "name": "stdout",
     "output_type": "stream",
     "text": [
      "d1\n",
      "d2\n",
      "d3\n",
      "d4\n",
      "d5\n"
     ]
    }
   ],
   "source": [
    "for i in di:\n",
    "    print(i)"
   ]
  },
  {
   "cell_type": "code",
   "execution_count": 208,
   "id": "08be1eaa",
   "metadata": {
    "ExecuteTime": {
     "end_time": "2022-05-19T12:10:48.018456Z",
     "start_time": "2022-05-19T12:10:47.948598Z"
    },
    "hidden": true
   },
   "outputs": [
    {
     "data": {
      "text/plain": [
       "dict_items([('d1', 10), ('d2', 20), ('d3', 30), ('d4', 40), ('d5', 50)])"
      ]
     },
     "execution_count": 208,
     "metadata": {},
     "output_type": "execute_result"
    }
   ],
   "source": [
    "di.items()"
   ]
  },
  {
   "cell_type": "code",
   "execution_count": 209,
   "id": "6f26d53d",
   "metadata": {
    "ExecuteTime": {
     "end_time": "2022-05-19T12:10:48.142750Z",
     "start_time": "2022-05-19T12:10:48.024454Z"
    },
    "hidden": true
   },
   "outputs": [
    {
     "name": "stdout",
     "output_type": "stream",
     "text": [
      "d1 10\n",
      "d2 20\n",
      "d3 30\n",
      "d4 40\n",
      "d5 50\n"
     ]
    }
   ],
   "source": [
    "for c, v, in di.items():\n",
    "    print( c, v)"
   ]
  },
  {
   "cell_type": "code",
   "execution_count": null,
   "id": "7de2e5db",
   "metadata": {
    "hidden": true
   },
   "outputs": [],
   "source": []
  },
  {
   "cell_type": "markdown",
   "id": "0ae554d2",
   "metadata": {
    "heading_collapsed": true,
    "hidden": true
   },
   "source": [
    "## 1.5. Laços de repetiçoes whille(enquanto)"
   ]
  },
  {
   "cell_type": "code",
   "execution_count": 210,
   "id": "6a5352c7",
   "metadata": {
    "ExecuteTime": {
     "end_time": "2022-05-19T12:10:48.210712Z",
     "start_time": "2022-05-19T12:10:48.152744Z"
    },
    "hidden": true,
    "scrolled": true
   },
   "outputs": [
    {
     "name": "stdout",
     "output_type": "stream",
     "text": [
      "8\n",
      "9\n",
      "10\n"
     ]
    }
   ],
   "source": [
    "k = 8\n",
    "\n",
    "while k <= 10:\n",
    "    print(k)\n",
    "    \n",
    "    k += 1"
   ]
  },
  {
   "cell_type": "markdown",
   "id": "e550ad2b",
   "metadata": {
    "hidden": true
   },
   "source": [
    "**pass, break e continue**"
   ]
  },
  {
   "cell_type": "code",
   "execution_count": 211,
   "id": "889e25b2",
   "metadata": {
    "ExecuteTime": {
     "end_time": "2022-05-19T12:10:48.352076Z",
     "start_time": "2022-05-19T12:10:48.214399Z"
    },
    "hidden": true
   },
   "outputs": [
    {
     "name": "stdout",
     "output_type": "stream",
     "text": [
      "p\n",
      "r\n",
      "o\n",
      "g\n",
      "r\n",
      "a\n",
      "m\n",
      "a\n",
      "d\n",
      "o\n",
      "r\n"
     ]
    }
   ],
   "source": [
    "for letra in 'programador':\n",
    "    if letra == 'a':\n",
    "        pass\n",
    "    print(letra)"
   ]
  },
  {
   "cell_type": "code",
   "execution_count": 212,
   "id": "1941932b",
   "metadata": {
    "ExecuteTime": {
     "end_time": "2022-05-19T12:10:48.462177Z",
     "start_time": "2022-05-19T12:10:48.363061Z"
    },
    "hidden": true
   },
   "outputs": [
    {
     "name": "stdout",
     "output_type": "stream",
     "text": [
      "p\n",
      "r\n",
      "o\n",
      "g\n",
      "r\n",
      "m\n",
      "d\n",
      "o\n",
      "r\n"
     ]
    }
   ],
   "source": [
    "for letra in 'programador':\n",
    "    if letra == 'a':\n",
    "        continue\n",
    "    print(letra)"
   ]
  },
  {
   "cell_type": "code",
   "execution_count": 213,
   "id": "edf87000",
   "metadata": {
    "ExecuteTime": {
     "end_time": "2022-05-19T12:10:48.665334Z",
     "start_time": "2022-05-19T12:10:48.471174Z"
    },
    "hidden": true,
    "scrolled": true
   },
   "outputs": [
    {
     "name": "stdout",
     "output_type": "stream",
     "text": [
      "p\n",
      "r\n",
      "o\n",
      "g\n",
      "r\n"
     ]
    }
   ],
   "source": [
    "for letra in 'programador':\n",
    "    if letra == 'a':\n",
    "        break\n",
    "    print(letra)"
   ]
  },
  {
   "cell_type": "markdown",
   "id": "1bda9cf9",
   "metadata": {
    "heading_collapsed": true,
    "hidden": true
   },
   "source": [
    "## 1.6. Funções"
   ]
  },
  {
   "cell_type": "code",
   "execution_count": 214,
   "id": "72e597fd",
   "metadata": {
    "ExecuteTime": {
     "end_time": "2022-05-19T12:10:48.743096Z",
     "start_time": "2022-05-19T12:10:48.672054Z"
    },
    "hidden": true
   },
   "outputs": [],
   "source": [
    " def print_text():\n",
    "    print('Aqui é um texto qaulquer')"
   ]
  },
  {
   "cell_type": "code",
   "execution_count": 215,
   "id": "691a08e8",
   "metadata": {
    "ExecuteTime": {
     "end_time": "2022-05-19T12:10:48.811727Z",
     "start_time": "2022-05-19T12:10:48.749103Z"
    },
    "hidden": true
   },
   "outputs": [
    {
     "name": "stdout",
     "output_type": "stream",
     "text": [
      "Aqui é um texto qaulquer\n"
     ]
    }
   ],
   "source": [
    "print_text()"
   ]
  },
  {
   "cell_type": "code",
   "execution_count": 216,
   "id": "153df271",
   "metadata": {
    "ExecuteTime": {
     "end_time": "2022-05-19T12:10:48.955172Z",
     "start_time": "2022-05-19T12:10:48.814725Z"
    },
    "hidden": true
   },
   "outputs": [],
   "source": [
    "def print_isto(x):\n",
    "    print(x)"
   ]
  },
  {
   "cell_type": "code",
   "execution_count": 217,
   "id": "bc08ac58",
   "metadata": {
    "ExecuteTime": {
     "end_time": "2022-05-19T12:10:49.032466Z",
     "start_time": "2022-05-19T12:10:48.965424Z"
    },
    "hidden": true
   },
   "outputs": [
    {
     "name": "stdout",
     "output_type": "stream",
     "text": [
      "7958\n"
     ]
    }
   ],
   "source": [
    "print_isto(7958)"
   ]
  },
  {
   "cell_type": "code",
   "execution_count": 218,
   "id": "09fe70b4",
   "metadata": {
    "ExecuteTime": {
     "end_time": "2022-05-19T12:10:49.124864Z",
     "start_time": "2022-05-19T12:10:49.044450Z"
    },
    "hidden": true
   },
   "outputs": [],
   "source": [
    "def potencia(x):\n",
    "    p = x ** 2\n",
    "    return p"
   ]
  },
  {
   "cell_type": "code",
   "execution_count": 219,
   "id": "b165f8ce",
   "metadata": {
    "ExecuteTime": {
     "end_time": "2022-05-19T12:10:49.203112Z",
     "start_time": "2022-05-19T12:10:49.128051Z"
    },
    "hidden": true
   },
   "outputs": [
    {
     "data": {
      "text/plain": [
       "16"
      ]
     },
     "execution_count": 219,
     "metadata": {},
     "output_type": "execute_result"
    }
   ],
   "source": [
    "potencia(4)"
   ]
  },
  {
   "cell_type": "code",
   "execution_count": 220,
   "id": "d56ac161",
   "metadata": {
    "ExecuteTime": {
     "end_time": "2022-05-19T12:10:49.289322Z",
     "start_time": "2022-05-19T12:10:49.207121Z"
    },
    "hidden": true
   },
   "outputs": [],
   "source": [
    "def sub(x):\n",
    "    r = x + 4\n",
    "    return r"
   ]
  },
  {
   "cell_type": "code",
   "execution_count": 221,
   "id": "c3251bc3",
   "metadata": {
    "ExecuteTime": {
     "end_time": "2022-05-19T12:10:49.406592Z",
     "start_time": "2022-05-19T12:10:49.299328Z"
    },
    "hidden": true,
    "scrolled": true
   },
   "outputs": [
    {
     "data": {
      "text/plain": [
       "1004"
      ]
     },
     "execution_count": 221,
     "metadata": {},
     "output_type": "execute_result"
    }
   ],
   "source": [
    "sub (1000)"
   ]
  },
  {
   "cell_type": "code",
   "execution_count": 222,
   "id": "2e930be4",
   "metadata": {
    "ExecuteTime": {
     "end_time": "2022-05-19T12:10:49.485801Z",
     "start_time": "2022-05-19T12:10:49.418570Z"
    },
    "hidden": true
   },
   "outputs": [],
   "source": [
    "def potencia_n(x, n = 2 ):\n",
    "    p = x ** n\n",
    "    return p"
   ]
  },
  {
   "cell_type": "code",
   "execution_count": 223,
   "id": "34b78b69",
   "metadata": {
    "ExecuteTime": {
     "end_time": "2022-05-19T12:10:49.579486Z",
     "start_time": "2022-05-19T12:10:49.494791Z"
    },
    "hidden": true
   },
   "outputs": [
    {
     "data": {
      "text/plain": [
       "25"
      ]
     },
     "execution_count": 223,
     "metadata": {},
     "output_type": "execute_result"
    }
   ],
   "source": [
    "potencia_n(5)"
   ]
  },
  {
   "cell_type": "code",
   "execution_count": 224,
   "id": "7e04ccea",
   "metadata": {
    "ExecuteTime": {
     "end_time": "2022-05-19T12:10:49.658949Z",
     "start_time": "2022-05-19T12:10:49.585194Z"
    },
    "hidden": true,
    "scrolled": true
   },
   "outputs": [
    {
     "data": {
      "text/plain": [
       "125"
      ]
     },
     "execution_count": 224,
     "metadata": {},
     "output_type": "execute_result"
    }
   ],
   "source": [
    "potencia_n(5, 3)"
   ]
  },
  {
   "cell_type": "markdown",
   "id": "008a9cf4",
   "metadata": {},
   "source": [
    "# MÓDULO 2"
   ]
  },
  {
   "cell_type": "markdown",
   "id": "3af1ab15",
   "metadata": {
    "heading_collapsed": true
   },
   "source": [
    "### IMPORTS"
   ]
  },
  {
   "cell_type": "code",
   "execution_count": 225,
   "id": "2b252f97",
   "metadata": {
    "ExecuteTime": {
     "end_time": "2022-05-19T12:10:49.737546Z",
     "start_time": "2022-05-19T12:10:49.665940Z"
    },
    "hidden": true
   },
   "outputs": [],
   "source": [
    "import pandas as pd\n",
    "import numpy as np"
   ]
  },
  {
   "cell_type": "markdown",
   "id": "7a4257ad",
   "metadata": {
    "heading_collapsed": true
   },
   "source": [
    "## 2.1. Dataframes"
   ]
  },
  {
   "cell_type": "code",
   "execution_count": 226,
   "id": "153860d1",
   "metadata": {
    "ExecuteTime": {
     "end_time": "2022-05-19T12:10:49.832411Z",
     "start_time": "2022-05-19T12:10:49.747557Z"
    },
    "hidden": true
   },
   "outputs": [],
   "source": [
    "series = pd.Series([7, 4, 2, np.nan, 6, 9 ])"
   ]
  },
  {
   "cell_type": "code",
   "execution_count": 227,
   "id": "6c6d45b9",
   "metadata": {
    "ExecuteTime": {
     "end_time": "2022-05-19T12:10:49.904356Z",
     "start_time": "2022-05-19T12:10:49.836410Z"
    },
    "hidden": true
   },
   "outputs": [
    {
     "data": {
      "text/plain": [
       "0    7.0\n",
       "1    4.0\n",
       "2    2.0\n",
       "3    NaN\n",
       "4    6.0\n",
       "5    9.0\n",
       "dtype: float64"
      ]
     },
     "execution_count": 227,
     "metadata": {},
     "output_type": "execute_result"
    }
   ],
   "source": [
    "series"
   ]
  },
  {
   "cell_type": "code",
   "execution_count": 228,
   "id": "e6454771",
   "metadata": {
    "ExecuteTime": {
     "end_time": "2022-05-19T12:10:49.990301Z",
     "start_time": "2022-05-19T12:10:49.908352Z"
    },
    "hidden": true
   },
   "outputs": [
    {
     "data": {
      "text/plain": [
       "pandas.core.series.Series"
      ]
     },
     "execution_count": 228,
     "metadata": {},
     "output_type": "execute_result"
    }
   ],
   "source": [
    "type(series)"
   ]
  },
  {
   "cell_type": "code",
   "execution_count": 229,
   "id": "11009877",
   "metadata": {
    "ExecuteTime": {
     "end_time": "2022-05-19T12:10:50.085244Z",
     "start_time": "2022-05-19T12:10:49.994300Z"
    },
    "hidden": true
   },
   "outputs": [],
   "source": [
    "datas = pd.date_range('20220101', periods = 6 )"
   ]
  },
  {
   "cell_type": "code",
   "execution_count": 230,
   "id": "746f19e6",
   "metadata": {
    "ExecuteTime": {
     "end_time": "2022-05-19T12:10:50.165195Z",
     "start_time": "2022-05-19T12:10:50.088243Z"
    },
    "hidden": true
   },
   "outputs": [
    {
     "data": {
      "text/plain": [
       "DatetimeIndex(['2022-01-01', '2022-01-02', '2022-01-03', '2022-01-04',\n",
       "               '2022-01-05', '2022-01-06'],\n",
       "              dtype='datetime64[ns]', freq='D')"
      ]
     },
     "execution_count": 230,
     "metadata": {},
     "output_type": "execute_result"
    }
   ],
   "source": [
    "datas"
   ]
  },
  {
   "cell_type": "code",
   "execution_count": 231,
   "id": "b6f98800",
   "metadata": {
    "ExecuteTime": {
     "end_time": "2022-05-19T12:10:50.243147Z",
     "start_time": "2022-05-19T12:10:50.168192Z"
    },
    "hidden": true
   },
   "outputs": [
    {
     "data": {
      "text/plain": [
       "pandas.core.indexes.datetimes.DatetimeIndex"
      ]
     },
     "execution_count": 231,
     "metadata": {},
     "output_type": "execute_result"
    }
   ],
   "source": [
    "type(datas)"
   ]
  },
  {
   "cell_type": "code",
   "execution_count": 232,
   "id": "e97f7aca",
   "metadata": {
    "ExecuteTime": {
     "end_time": "2022-05-19T12:10:50.339172Z",
     "start_time": "2022-05-19T12:10:50.247144Z"
    },
    "hidden": true
   },
   "outputs": [],
   "source": [
    "df = pd.DataFrame(np.random.randn(6,4), index= datas, columns = list('ABCD'))"
   ]
  },
  {
   "cell_type": "code",
   "execution_count": 233,
   "id": "4a53a4f5",
   "metadata": {
    "ExecuteTime": {
     "end_time": "2022-05-19T12:10:50.433115Z",
     "start_time": "2022-05-19T12:10:50.342169Z"
    },
    "hidden": true
   },
   "outputs": [
    {
     "data": {
      "text/html": [
       "<div>\n",
       "<style scoped>\n",
       "    .dataframe tbody tr th:only-of-type {\n",
       "        vertical-align: middle;\n",
       "    }\n",
       "\n",
       "    .dataframe tbody tr th {\n",
       "        vertical-align: top;\n",
       "    }\n",
       "\n",
       "    .dataframe thead th {\n",
       "        text-align: right;\n",
       "    }\n",
       "</style>\n",
       "<table border=\"1\" class=\"dataframe\">\n",
       "  <thead>\n",
       "    <tr style=\"text-align: right;\">\n",
       "      <th></th>\n",
       "      <th>A</th>\n",
       "      <th>B</th>\n",
       "      <th>C</th>\n",
       "      <th>D</th>\n",
       "    </tr>\n",
       "  </thead>\n",
       "  <tbody>\n",
       "    <tr>\n",
       "      <th>2022-01-01</th>\n",
       "      <td>0.246774</td>\n",
       "      <td>-1.014448</td>\n",
       "      <td>-0.078191</td>\n",
       "      <td>-0.623714</td>\n",
       "    </tr>\n",
       "    <tr>\n",
       "      <th>2022-01-02</th>\n",
       "      <td>1.709451</td>\n",
       "      <td>-1.597928</td>\n",
       "      <td>-0.494110</td>\n",
       "      <td>1.254707</td>\n",
       "    </tr>\n",
       "    <tr>\n",
       "      <th>2022-01-03</th>\n",
       "      <td>1.558438</td>\n",
       "      <td>0.124915</td>\n",
       "      <td>0.981514</td>\n",
       "      <td>-0.045327</td>\n",
       "    </tr>\n",
       "    <tr>\n",
       "      <th>2022-01-04</th>\n",
       "      <td>-1.344115</td>\n",
       "      <td>0.027683</td>\n",
       "      <td>-0.615416</td>\n",
       "      <td>-0.082795</td>\n",
       "    </tr>\n",
       "    <tr>\n",
       "      <th>2022-01-05</th>\n",
       "      <td>0.786134</td>\n",
       "      <td>1.519695</td>\n",
       "      <td>-0.041235</td>\n",
       "      <td>-0.272728</td>\n",
       "    </tr>\n",
       "    <tr>\n",
       "      <th>2022-01-06</th>\n",
       "      <td>-2.154909</td>\n",
       "      <td>0.178014</td>\n",
       "      <td>-1.321484</td>\n",
       "      <td>1.124421</td>\n",
       "    </tr>\n",
       "  </tbody>\n",
       "</table>\n",
       "</div>"
      ],
      "text/plain": [
       "                   A         B         C         D\n",
       "2022-01-01  0.246774 -1.014448 -0.078191 -0.623714\n",
       "2022-01-02  1.709451 -1.597928 -0.494110  1.254707\n",
       "2022-01-03  1.558438  0.124915  0.981514 -0.045327\n",
       "2022-01-04 -1.344115  0.027683 -0.615416 -0.082795\n",
       "2022-01-05  0.786134  1.519695 -0.041235 -0.272728\n",
       "2022-01-06 -2.154909  0.178014 -1.321484  1.124421"
      ]
     },
     "execution_count": 233,
     "metadata": {},
     "output_type": "execute_result"
    }
   ],
   "source": [
    "df"
   ]
  },
  {
   "cell_type": "code",
   "execution_count": 234,
   "id": "2b9cfbf3",
   "metadata": {
    "ExecuteTime": {
     "end_time": "2022-05-19T12:10:50.513064Z",
     "start_time": "2022-05-19T12:10:50.436113Z"
    },
    "hidden": true
   },
   "outputs": [],
   "source": [
    "df2 = pd.DataFrame({'A': 7,\n",
    "                    'B': pd.Timestamp('20220101'),\n",
    "                    'C': pd.Series(1, index=list(range(4)), dtype = 'float32'),\n",
    "                    'D': np.array([3] * 4, dtype = 'int32'), \n",
    "                    'E': pd.Categorical(['test', 'train', 'test', 'train']),\n",
    "                    'F': 'Python'})"
   ]
  },
  {
   "cell_type": "code",
   "execution_count": 235,
   "id": "a0067612",
   "metadata": {
    "ExecuteTime": {
     "end_time": "2022-05-19T12:10:50.624995Z",
     "start_time": "2022-05-19T12:10:50.516063Z"
    },
    "hidden": true
   },
   "outputs": [
    {
     "data": {
      "text/html": [
       "<div>\n",
       "<style scoped>\n",
       "    .dataframe tbody tr th:only-of-type {\n",
       "        vertical-align: middle;\n",
       "    }\n",
       "\n",
       "    .dataframe tbody tr th {\n",
       "        vertical-align: top;\n",
       "    }\n",
       "\n",
       "    .dataframe thead th {\n",
       "        text-align: right;\n",
       "    }\n",
       "</style>\n",
       "<table border=\"1\" class=\"dataframe\">\n",
       "  <thead>\n",
       "    <tr style=\"text-align: right;\">\n",
       "      <th></th>\n",
       "      <th>A</th>\n",
       "      <th>B</th>\n",
       "      <th>C</th>\n",
       "      <th>D</th>\n",
       "      <th>E</th>\n",
       "      <th>F</th>\n",
       "    </tr>\n",
       "  </thead>\n",
       "  <tbody>\n",
       "    <tr>\n",
       "      <th>0</th>\n",
       "      <td>7</td>\n",
       "      <td>2022-01-01</td>\n",
       "      <td>1.0</td>\n",
       "      <td>3</td>\n",
       "      <td>test</td>\n",
       "      <td>Python</td>\n",
       "    </tr>\n",
       "    <tr>\n",
       "      <th>1</th>\n",
       "      <td>7</td>\n",
       "      <td>2022-01-01</td>\n",
       "      <td>1.0</td>\n",
       "      <td>3</td>\n",
       "      <td>train</td>\n",
       "      <td>Python</td>\n",
       "    </tr>\n",
       "    <tr>\n",
       "      <th>2</th>\n",
       "      <td>7</td>\n",
       "      <td>2022-01-01</td>\n",
       "      <td>1.0</td>\n",
       "      <td>3</td>\n",
       "      <td>test</td>\n",
       "      <td>Python</td>\n",
       "    </tr>\n",
       "    <tr>\n",
       "      <th>3</th>\n",
       "      <td>7</td>\n",
       "      <td>2022-01-01</td>\n",
       "      <td>1.0</td>\n",
       "      <td>3</td>\n",
       "      <td>train</td>\n",
       "      <td>Python</td>\n",
       "    </tr>\n",
       "  </tbody>\n",
       "</table>\n",
       "</div>"
      ],
      "text/plain": [
       "   A          B    C  D      E       F\n",
       "0  7 2022-01-01  1.0  3   test  Python\n",
       "1  7 2022-01-01  1.0  3  train  Python\n",
       "2  7 2022-01-01  1.0  3   test  Python\n",
       "3  7 2022-01-01  1.0  3  train  Python"
      ]
     },
     "execution_count": 235,
     "metadata": {},
     "output_type": "execute_result"
    }
   ],
   "source": [
    "df2"
   ]
  },
  {
   "cell_type": "code",
   "execution_count": 236,
   "id": "84f8cb20",
   "metadata": {
    "ExecuteTime": {
     "end_time": "2022-05-19T12:10:50.830338Z",
     "start_time": "2022-05-19T12:10:50.627994Z"
    },
    "hidden": true
   },
   "outputs": [
    {
     "data": {
      "text/plain": [
       "A             int64\n",
       "B    datetime64[ns]\n",
       "C           float32\n",
       "D             int32\n",
       "E          category\n",
       "F            object\n",
       "dtype: object"
      ]
     },
     "execution_count": 236,
     "metadata": {},
     "output_type": "execute_result"
    }
   ],
   "source": [
    "df2.dtypes"
   ]
  },
  {
   "cell_type": "markdown",
   "id": "80b65a37",
   "metadata": {
    "heading_collapsed": true
   },
   "source": [
    "## 2.2. Merge "
   ]
  },
  {
   "cell_type": "code",
   "execution_count": 237,
   "id": "f0389fba",
   "metadata": {
    "ExecuteTime": {
     "end_time": "2022-05-19T12:10:50.972636Z",
     "start_time": "2022-05-19T12:10:50.834336Z"
    },
    "hidden": true,
    "scrolled": true
   },
   "outputs": [
    {
     "data": {
      "text/html": [
       "<div>\n",
       "<style scoped>\n",
       "    .dataframe tbody tr th:only-of-type {\n",
       "        vertical-align: middle;\n",
       "    }\n",
       "\n",
       "    .dataframe tbody tr th {\n",
       "        vertical-align: top;\n",
       "    }\n",
       "\n",
       "    .dataframe thead th {\n",
       "        text-align: right;\n",
       "    }\n",
       "</style>\n",
       "<table border=\"1\" class=\"dataframe\">\n",
       "  <thead>\n",
       "    <tr style=\"text-align: right;\">\n",
       "      <th></th>\n",
       "      <th>Id</th>\n",
       "      <th>Nome</th>\n",
       "      <th>Idade</th>\n",
       "      <th>CEP</th>\n",
       "    </tr>\n",
       "  </thead>\n",
       "  <tbody>\n",
       "    <tr>\n",
       "      <th>0</th>\n",
       "      <td>AA2930</td>\n",
       "      <td>Victor</td>\n",
       "      <td>20</td>\n",
       "      <td>00092-029</td>\n",
       "    </tr>\n",
       "    <tr>\n",
       "      <th>1</th>\n",
       "      <td>BB4563</td>\n",
       "      <td>Amanda</td>\n",
       "      <td>35</td>\n",
       "      <td>11111-111</td>\n",
       "    </tr>\n",
       "    <tr>\n",
       "      <th>2</th>\n",
       "      <td>CC2139</td>\n",
       "      <td>Bruna</td>\n",
       "      <td>40</td>\n",
       "      <td>22222-888</td>\n",
       "    </tr>\n",
       "    <tr>\n",
       "      <th>3</th>\n",
       "      <td>DE2521</td>\n",
       "      <td>Carlos</td>\n",
       "      <td>54</td>\n",
       "      <td>00000-999</td>\n",
       "    </tr>\n",
       "    <tr>\n",
       "      <th>4</th>\n",
       "      <td>GT3462</td>\n",
       "      <td>Ricardo</td>\n",
       "      <td>30</td>\n",
       "      <td>88888-111</td>\n",
       "    </tr>\n",
       "    <tr>\n",
       "      <th>5</th>\n",
       "      <td>HH1158</td>\n",
       "      <td>Maria</td>\n",
       "      <td>27</td>\n",
       "      <td>77777-666</td>\n",
       "    </tr>\n",
       "  </tbody>\n",
       "</table>\n",
       "</div>"
      ],
      "text/plain": [
       "       Id     Nome  Idade        CEP\n",
       "0  AA2930   Victor     20  00092-029\n",
       "1  BB4563   Amanda     35  11111-111\n",
       "2  CC2139    Bruna     40  22222-888\n",
       "3  DE2521   Carlos     54  00000-999\n",
       "4  GT3462  Ricardo     30  88888-111\n",
       "5  HH1158    Maria     27  77777-666"
      ]
     },
     "execution_count": 237,
     "metadata": {},
     "output_type": "execute_result"
    }
   ],
   "source": [
    "# Cadastro da loja a\n",
    "cadastro_a = {'Id': ['AA2930','BB4563','CC2139','DE2521','GT3462','HH1158'],\n",
    "            'Nome':  ['Victor', 'Amanda', 'Bruna', 'Carlos', 'Ricardo', 'Maria'],\n",
    "            'Idade': [20,35,40,54,30,27],\n",
    "            'CEP': ['00092-029','11111-111','22222-888','00000-999','88888-111','77777-666']\n",
    "           }\n",
    "\n",
    "cadastro_a = pd.DataFrame(cadastro_a, columns = ['Id','Nome','Idade','CEP'])\n",
    "cadastro_a"
   ]
  },
  {
   "cell_type": "code",
   "execution_count": 238,
   "id": "6fb38b65",
   "metadata": {
    "ExecuteTime": {
     "end_time": "2022-05-19T12:10:51.147564Z",
     "start_time": "2022-05-19T12:10:50.975637Z"
    },
    "hidden": true,
    "scrolled": false
   },
   "outputs": [
    {
     "data": {
      "text/html": [
       "<div>\n",
       "<style scoped>\n",
       "    .dataframe tbody tr th:only-of-type {\n",
       "        vertical-align: middle;\n",
       "    }\n",
       "\n",
       "    .dataframe tbody tr th {\n",
       "        vertical-align: top;\n",
       "    }\n",
       "\n",
       "    .dataframe thead th {\n",
       "        text-align: right;\n",
       "    }\n",
       "</style>\n",
       "<table border=\"1\" class=\"dataframe\">\n",
       "  <thead>\n",
       "    <tr style=\"text-align: right;\">\n",
       "      <th></th>\n",
       "      <th>Id</th>\n",
       "      <th>Nome</th>\n",
       "      <th>Idade</th>\n",
       "      <th>CEP</th>\n",
       "    </tr>\n",
       "  </thead>\n",
       "  <tbody>\n",
       "    <tr>\n",
       "      <th>0</th>\n",
       "      <td>CC9999</td>\n",
       "      <td>Marcos</td>\n",
       "      <td>19</td>\n",
       "      <td>00092-029</td>\n",
       "    </tr>\n",
       "    <tr>\n",
       "      <th>1</th>\n",
       "      <td>EF4488</td>\n",
       "      <td>Patricia</td>\n",
       "      <td>30</td>\n",
       "      <td>11111-111</td>\n",
       "    </tr>\n",
       "    <tr>\n",
       "      <th>2</th>\n",
       "      <td>DD9999</td>\n",
       "      <td>Ericka</td>\n",
       "      <td>22</td>\n",
       "      <td>11111-888</td>\n",
       "    </tr>\n",
       "    <tr>\n",
       "      <th>3</th>\n",
       "      <td>GT3462</td>\n",
       "      <td>Ricardo</td>\n",
       "      <td>30</td>\n",
       "      <td>88888-111</td>\n",
       "    </tr>\n",
       "    <tr>\n",
       "      <th>4</th>\n",
       "      <td>HH1158</td>\n",
       "      <td>Maria</td>\n",
       "      <td>27</td>\n",
       "      <td>77777-666</td>\n",
       "    </tr>\n",
       "  </tbody>\n",
       "</table>\n",
       "</div>"
      ],
      "text/plain": [
       "       Id      Nome  Idade        CEP\n",
       "0  CC9999    Marcos     19  00092-029\n",
       "1  EF4488  Patricia     30  11111-111\n",
       "2  DD9999    Ericka     22  11111-888\n",
       "3  GT3462   Ricardo     30  88888-111\n",
       "4  HH1158     Maria     27  77777-666"
      ]
     },
     "execution_count": 238,
     "metadata": {},
     "output_type": "execute_result"
    }
   ],
   "source": [
    "# Cadastro da loja b\n",
    "cadastro_b = {'Id': ['CC9999','EF4488','DD9999','GT3462','HH1158'],\n",
    "            'Nome':  ['Marcos', 'Patricia', 'Ericka', 'Ricardo', 'Maria'],\n",
    "            'Idade': [19,30,22,30,27],\n",
    "            'CEP': ['00092-029','11111-111','11111-888','88888-111','77777-666']\n",
    "           }\n",
    " \n",
    "cadastro_b = pd.DataFrame(cadastro_b, columns = ['Id','Nome','Idade','CEP'])\n",
    "cadastro_b"
   ]
  },
  {
   "cell_type": "code",
   "execution_count": 239,
   "id": "ccbd6af6",
   "metadata": {
    "ExecuteTime": {
     "end_time": "2022-05-19T12:10:51.257225Z",
     "start_time": "2022-05-19T12:10:51.165553Z"
    },
    "hidden": true,
    "scrolled": false
   },
   "outputs": [
    {
     "data": {
      "text/html": [
       "<div>\n",
       "<style scoped>\n",
       "    .dataframe tbody tr th:only-of-type {\n",
       "        vertical-align: middle;\n",
       "    }\n",
       "\n",
       "    .dataframe tbody tr th {\n",
       "        vertical-align: top;\n",
       "    }\n",
       "\n",
       "    .dataframe thead th {\n",
       "        text-align: right;\n",
       "    }\n",
       "</style>\n",
       "<table border=\"1\" class=\"dataframe\">\n",
       "  <thead>\n",
       "    <tr style=\"text-align: right;\">\n",
       "      <th></th>\n",
       "      <th>Id</th>\n",
       "      <th>Data</th>\n",
       "      <th>Valor</th>\n",
       "    </tr>\n",
       "  </thead>\n",
       "  <tbody>\n",
       "    <tr>\n",
       "      <th>0</th>\n",
       "      <td>AA2930</td>\n",
       "      <td>2019-01-01</td>\n",
       "      <td>200</td>\n",
       "    </tr>\n",
       "    <tr>\n",
       "      <th>1</th>\n",
       "      <td>EF4488</td>\n",
       "      <td>2019-01-30</td>\n",
       "      <td>100</td>\n",
       "    </tr>\n",
       "    <tr>\n",
       "      <th>2</th>\n",
       "      <td>CC2139</td>\n",
       "      <td>2019-01-30</td>\n",
       "      <td>40</td>\n",
       "    </tr>\n",
       "    <tr>\n",
       "      <th>3</th>\n",
       "      <td>EF4488</td>\n",
       "      <td>2019-02-01</td>\n",
       "      <td>150</td>\n",
       "    </tr>\n",
       "    <tr>\n",
       "      <th>4</th>\n",
       "      <td>CC9999</td>\n",
       "      <td>2019-02-20</td>\n",
       "      <td>300</td>\n",
       "    </tr>\n",
       "    <tr>\n",
       "      <th>5</th>\n",
       "      <td>AA2930</td>\n",
       "      <td>2019-03-15</td>\n",
       "      <td>25</td>\n",
       "    </tr>\n",
       "    <tr>\n",
       "      <th>6</th>\n",
       "      <td>HH1158</td>\n",
       "      <td>2019-04-01</td>\n",
       "      <td>50</td>\n",
       "    </tr>\n",
       "    <tr>\n",
       "      <th>7</th>\n",
       "      <td>HH1158</td>\n",
       "      <td>2019-04-10</td>\n",
       "      <td>500</td>\n",
       "    </tr>\n",
       "  </tbody>\n",
       "</table>\n",
       "</div>"
      ],
      "text/plain": [
       "       Id        Data  Valor\n",
       "0  AA2930  2019-01-01    200\n",
       "1  EF4488  2019-01-30    100\n",
       "2  CC2139  2019-01-30     40\n",
       "3  EF4488  2019-02-01    150\n",
       "4  CC9999  2019-02-20    300\n",
       "5  AA2930  2019-03-15     25\n",
       "6  HH1158  2019-04-01     50\n",
       "7  HH1158  2019-04-10    500"
      ]
     },
     "execution_count": 239,
     "metadata": {},
     "output_type": "execute_result"
    }
   ],
   "source": [
    "# Registro de compras de todas unidades\n",
    "compras = {'Id': ['AA2930','EF4488','CC2139','EF4488','CC9999','AA2930','HH1158','HH1158'],\n",
    "            'Data':  ['2019-01-01','2019-01-30','2019-01-30','2019-02-01','2019-02-20','2019-03-15','2019-04-01','2019-04-10'],\n",
    "            'Valor': [200,100,40,150,300,25,50,500]\n",
    "           }\n",
    " \n",
    "compras = pd.DataFrame(compras, columns = ['Id','Data','Valor'])\n",
    "\n",
    "compras"
   ]
  },
  {
   "cell_type": "markdown",
   "id": "61ed0e01",
   "metadata": {
    "hidden": true
   },
   "source": [
    "* Merge **inner join** junta a interceção entre as tabelas"
   ]
  },
  {
   "cell_type": "code",
   "execution_count": 240,
   "id": "2021de31",
   "metadata": {
    "ExecuteTime": {
     "end_time": "2022-05-19T12:10:51.351502Z",
     "start_time": "2022-05-19T12:10:51.262192Z"
    },
    "hidden": true,
    "scrolled": true
   },
   "outputs": [
    {
     "data": {
      "text/html": [
       "<div>\n",
       "<style scoped>\n",
       "    .dataframe tbody tr th:only-of-type {\n",
       "        vertical-align: middle;\n",
       "    }\n",
       "\n",
       "    .dataframe tbody tr th {\n",
       "        vertical-align: top;\n",
       "    }\n",
       "\n",
       "    .dataframe thead th {\n",
       "        text-align: right;\n",
       "    }\n",
       "</style>\n",
       "<table border=\"1\" class=\"dataframe\">\n",
       "  <thead>\n",
       "    <tr style=\"text-align: right;\">\n",
       "      <th></th>\n",
       "      <th>Id</th>\n",
       "      <th>Nome</th>\n",
       "      <th>Idade_A</th>\n",
       "      <th>CEP_A</th>\n",
       "      <th>Idade_B</th>\n",
       "      <th>CEP_B</th>\n",
       "    </tr>\n",
       "  </thead>\n",
       "  <tbody>\n",
       "    <tr>\n",
       "      <th>0</th>\n",
       "      <td>GT3462</td>\n",
       "      <td>Ricardo</td>\n",
       "      <td>30</td>\n",
       "      <td>88888-111</td>\n",
       "      <td>30</td>\n",
       "      <td>88888-111</td>\n",
       "    </tr>\n",
       "    <tr>\n",
       "      <th>1</th>\n",
       "      <td>HH1158</td>\n",
       "      <td>Maria</td>\n",
       "      <td>27</td>\n",
       "      <td>77777-666</td>\n",
       "      <td>27</td>\n",
       "      <td>77777-666</td>\n",
       "    </tr>\n",
       "  </tbody>\n",
       "</table>\n",
       "</div>"
      ],
      "text/plain": [
       "       Id     Nome  Idade_A      CEP_A  Idade_B      CEP_B\n",
       "0  GT3462  Ricardo       30  88888-111       30  88888-111\n",
       "1  HH1158    Maria       27  77777-666       27  77777-666"
      ]
     },
     "execution_count": 240,
     "metadata": {},
     "output_type": "execute_result"
    }
   ],
   "source": [
    "pd.merge(cadastro_a, cadastro_b[['Id', 'Idade', 'CEP']], on= ['Id'], how='inner', suffixes= ('_A', '_B'))"
   ]
  },
  {
   "cell_type": "markdown",
   "id": "243df605",
   "metadata": {
    "hidden": true
   },
   "source": [
    "* Merge **full join** junta a todas as informações das tabelas"
   ]
  },
  {
   "cell_type": "code",
   "execution_count": 241,
   "id": "c52daa88",
   "metadata": {
    "ExecuteTime": {
     "end_time": "2022-05-19T12:10:51.446074Z",
     "start_time": "2022-05-19T12:10:51.358495Z"
    },
    "hidden": true
   },
   "outputs": [],
   "source": [
    "lojas = pd.concat([cadastro_a, cadastro_b], ignore_index= True)"
   ]
  },
  {
   "cell_type": "code",
   "execution_count": 242,
   "id": "2c4191e8",
   "metadata": {
    "ExecuteTime": {
     "end_time": "2022-05-19T12:10:51.523559Z",
     "start_time": "2022-05-19T12:10:51.455084Z"
    },
    "hidden": true
   },
   "outputs": [],
   "source": [
    "clientes_unicos = lojas.drop_duplicates(subset=['Id'])"
   ]
  },
  {
   "cell_type": "code",
   "execution_count": 243,
   "id": "a76b2d84",
   "metadata": {
    "ExecuteTime": {
     "end_time": "2022-05-19T12:10:51.633919Z",
     "start_time": "2022-05-19T12:10:51.527568Z"
    },
    "hidden": true,
    "scrolled": true
   },
   "outputs": [
    {
     "data": {
      "text/html": [
       "<div>\n",
       "<style scoped>\n",
       "    .dataframe tbody tr th:only-of-type {\n",
       "        vertical-align: middle;\n",
       "    }\n",
       "\n",
       "    .dataframe tbody tr th {\n",
       "        vertical-align: top;\n",
       "    }\n",
       "\n",
       "    .dataframe thead th {\n",
       "        text-align: right;\n",
       "    }\n",
       "</style>\n",
       "<table border=\"1\" class=\"dataframe\">\n",
       "  <thead>\n",
       "    <tr style=\"text-align: right;\">\n",
       "      <th></th>\n",
       "      <th>Id</th>\n",
       "      <th>Nome</th>\n",
       "      <th>Idade</th>\n",
       "      <th>CEP</th>\n",
       "    </tr>\n",
       "  </thead>\n",
       "  <tbody>\n",
       "    <tr>\n",
       "      <th>0</th>\n",
       "      <td>AA2930</td>\n",
       "      <td>Victor</td>\n",
       "      <td>20</td>\n",
       "      <td>00092-029</td>\n",
       "    </tr>\n",
       "    <tr>\n",
       "      <th>1</th>\n",
       "      <td>BB4563</td>\n",
       "      <td>Amanda</td>\n",
       "      <td>35</td>\n",
       "      <td>11111-111</td>\n",
       "    </tr>\n",
       "    <tr>\n",
       "      <th>2</th>\n",
       "      <td>CC2139</td>\n",
       "      <td>Bruna</td>\n",
       "      <td>40</td>\n",
       "      <td>22222-888</td>\n",
       "    </tr>\n",
       "    <tr>\n",
       "      <th>3</th>\n",
       "      <td>DE2521</td>\n",
       "      <td>Carlos</td>\n",
       "      <td>54</td>\n",
       "      <td>00000-999</td>\n",
       "    </tr>\n",
       "    <tr>\n",
       "      <th>4</th>\n",
       "      <td>GT3462</td>\n",
       "      <td>Ricardo</td>\n",
       "      <td>30</td>\n",
       "      <td>88888-111</td>\n",
       "    </tr>\n",
       "    <tr>\n",
       "      <th>5</th>\n",
       "      <td>HH1158</td>\n",
       "      <td>Maria</td>\n",
       "      <td>27</td>\n",
       "      <td>77777-666</td>\n",
       "    </tr>\n",
       "    <tr>\n",
       "      <th>6</th>\n",
       "      <td>CC9999</td>\n",
       "      <td>Marcos</td>\n",
       "      <td>19</td>\n",
       "      <td>00092-029</td>\n",
       "    </tr>\n",
       "    <tr>\n",
       "      <th>7</th>\n",
       "      <td>EF4488</td>\n",
       "      <td>Patricia</td>\n",
       "      <td>30</td>\n",
       "      <td>11111-111</td>\n",
       "    </tr>\n",
       "    <tr>\n",
       "      <th>8</th>\n",
       "      <td>DD9999</td>\n",
       "      <td>Ericka</td>\n",
       "      <td>22</td>\n",
       "      <td>11111-888</td>\n",
       "    </tr>\n",
       "  </tbody>\n",
       "</table>\n",
       "</div>"
      ],
      "text/plain": [
       "       Id      Nome  Idade        CEP\n",
       "0  AA2930    Victor     20  00092-029\n",
       "1  BB4563    Amanda     35  11111-111\n",
       "2  CC2139     Bruna     40  22222-888\n",
       "3  DE2521    Carlos     54  00000-999\n",
       "4  GT3462   Ricardo     30  88888-111\n",
       "5  HH1158     Maria     27  77777-666\n",
       "6  CC9999    Marcos     19  00092-029\n",
       "7  EF4488  Patricia     30  11111-111\n",
       "8  DD9999    Ericka     22  11111-888"
      ]
     },
     "execution_count": 243,
     "metadata": {},
     "output_type": "execute_result"
    }
   ],
   "source": [
    "clientes_unicos"
   ]
  },
  {
   "cell_type": "markdown",
   "id": "56bf2238",
   "metadata": {
    "hidden": true
   },
   "source": [
    "* Merge **left join** junta informações do lado esquerdo da tabela "
   ]
  },
  {
   "cell_type": "code",
   "execution_count": 244,
   "id": "81fe873d",
   "metadata": {
    "ExecuteTime": {
     "end_time": "2022-05-19T12:10:51.729048Z",
     "start_time": "2022-05-19T12:10:51.642908Z"
    },
    "hidden": true,
    "scrolled": true
   },
   "outputs": [],
   "source": [
    "esquerda = pd.merge(cadastro_a, compras, how='left', on=['Id'])"
   ]
  },
  {
   "cell_type": "code",
   "execution_count": 245,
   "id": "a83b8568",
   "metadata": {
    "ExecuteTime": {
     "end_time": "2022-05-19T12:10:51.854848Z",
     "start_time": "2022-05-19T12:10:51.739056Z"
    },
    "hidden": true,
    "scrolled": true
   },
   "outputs": [
    {
     "data": {
      "text/html": [
       "<div>\n",
       "<style scoped>\n",
       "    .dataframe tbody tr th:only-of-type {\n",
       "        vertical-align: middle;\n",
       "    }\n",
       "\n",
       "    .dataframe tbody tr th {\n",
       "        vertical-align: top;\n",
       "    }\n",
       "\n",
       "    .dataframe thead th {\n",
       "        text-align: right;\n",
       "    }\n",
       "</style>\n",
       "<table border=\"1\" class=\"dataframe\">\n",
       "  <thead>\n",
       "    <tr style=\"text-align: right;\">\n",
       "      <th></th>\n",
       "      <th>Id</th>\n",
       "      <th>Data</th>\n",
       "      <th>Valor</th>\n",
       "    </tr>\n",
       "  </thead>\n",
       "  <tbody>\n",
       "    <tr>\n",
       "      <th>0</th>\n",
       "      <td>AA2930</td>\n",
       "      <td>2019-01-01</td>\n",
       "      <td>200</td>\n",
       "    </tr>\n",
       "    <tr>\n",
       "      <th>1</th>\n",
       "      <td>EF4488</td>\n",
       "      <td>2019-01-30</td>\n",
       "      <td>100</td>\n",
       "    </tr>\n",
       "    <tr>\n",
       "      <th>2</th>\n",
       "      <td>CC2139</td>\n",
       "      <td>2019-01-30</td>\n",
       "      <td>40</td>\n",
       "    </tr>\n",
       "    <tr>\n",
       "      <th>3</th>\n",
       "      <td>EF4488</td>\n",
       "      <td>2019-02-01</td>\n",
       "      <td>150</td>\n",
       "    </tr>\n",
       "    <tr>\n",
       "      <th>4</th>\n",
       "      <td>CC9999</td>\n",
       "      <td>2019-02-20</td>\n",
       "      <td>300</td>\n",
       "    </tr>\n",
       "    <tr>\n",
       "      <th>5</th>\n",
       "      <td>AA2930</td>\n",
       "      <td>2019-03-15</td>\n",
       "      <td>25</td>\n",
       "    </tr>\n",
       "    <tr>\n",
       "      <th>6</th>\n",
       "      <td>HH1158</td>\n",
       "      <td>2019-04-01</td>\n",
       "      <td>50</td>\n",
       "    </tr>\n",
       "    <tr>\n",
       "      <th>7</th>\n",
       "      <td>HH1158</td>\n",
       "      <td>2019-04-10</td>\n",
       "      <td>500</td>\n",
       "    </tr>\n",
       "  </tbody>\n",
       "</table>\n",
       "</div>"
      ],
      "text/plain": [
       "       Id        Data  Valor\n",
       "0  AA2930  2019-01-01    200\n",
       "1  EF4488  2019-01-30    100\n",
       "2  CC2139  2019-01-30     40\n",
       "3  EF4488  2019-02-01    150\n",
       "4  CC9999  2019-02-20    300\n",
       "5  AA2930  2019-03-15     25\n",
       "6  HH1158  2019-04-01     50\n",
       "7  HH1158  2019-04-10    500"
      ]
     },
     "execution_count": 245,
     "metadata": {},
     "output_type": "execute_result"
    }
   ],
   "source": [
    "compras"
   ]
  },
  {
   "cell_type": "code",
   "execution_count": 246,
   "id": "751107f5",
   "metadata": {
    "ExecuteTime": {
     "end_time": "2022-05-19T12:10:51.934796Z",
     "start_time": "2022-05-19T12:10:51.860845Z"
    },
    "hidden": true
   },
   "outputs": [
    {
     "data": {
      "text/html": [
       "<div>\n",
       "<style scoped>\n",
       "    .dataframe tbody tr th:only-of-type {\n",
       "        vertical-align: middle;\n",
       "    }\n",
       "\n",
       "    .dataframe tbody tr th {\n",
       "        vertical-align: top;\n",
       "    }\n",
       "\n",
       "    .dataframe thead th {\n",
       "        text-align: right;\n",
       "    }\n",
       "</style>\n",
       "<table border=\"1\" class=\"dataframe\">\n",
       "  <thead>\n",
       "    <tr style=\"text-align: right;\">\n",
       "      <th></th>\n",
       "      <th>Id</th>\n",
       "      <th>Nome</th>\n",
       "      <th>Idade</th>\n",
       "      <th>CEP</th>\n",
       "    </tr>\n",
       "  </thead>\n",
       "  <tbody>\n",
       "    <tr>\n",
       "      <th>0</th>\n",
       "      <td>AA2930</td>\n",
       "      <td>Victor</td>\n",
       "      <td>20</td>\n",
       "      <td>00092-029</td>\n",
       "    </tr>\n",
       "    <tr>\n",
       "      <th>1</th>\n",
       "      <td>BB4563</td>\n",
       "      <td>Amanda</td>\n",
       "      <td>35</td>\n",
       "      <td>11111-111</td>\n",
       "    </tr>\n",
       "    <tr>\n",
       "      <th>2</th>\n",
       "      <td>CC2139</td>\n",
       "      <td>Bruna</td>\n",
       "      <td>40</td>\n",
       "      <td>22222-888</td>\n",
       "    </tr>\n",
       "    <tr>\n",
       "      <th>3</th>\n",
       "      <td>DE2521</td>\n",
       "      <td>Carlos</td>\n",
       "      <td>54</td>\n",
       "      <td>00000-999</td>\n",
       "    </tr>\n",
       "    <tr>\n",
       "      <th>4</th>\n",
       "      <td>GT3462</td>\n",
       "      <td>Ricardo</td>\n",
       "      <td>30</td>\n",
       "      <td>88888-111</td>\n",
       "    </tr>\n",
       "    <tr>\n",
       "      <th>5</th>\n",
       "      <td>HH1158</td>\n",
       "      <td>Maria</td>\n",
       "      <td>27</td>\n",
       "      <td>77777-666</td>\n",
       "    </tr>\n",
       "  </tbody>\n",
       "</table>\n",
       "</div>"
      ],
      "text/plain": [
       "       Id     Nome  Idade        CEP\n",
       "0  AA2930   Victor     20  00092-029\n",
       "1  BB4563   Amanda     35  11111-111\n",
       "2  CC2139    Bruna     40  22222-888\n",
       "3  DE2521   Carlos     54  00000-999\n",
       "4  GT3462  Ricardo     30  88888-111\n",
       "5  HH1158    Maria     27  77777-666"
      ]
     },
     "execution_count": 246,
     "metadata": {},
     "output_type": "execute_result"
    }
   ],
   "source": [
    "cadastro_a"
   ]
  },
  {
   "cell_type": "code",
   "execution_count": 247,
   "id": "94bded05",
   "metadata": {
    "ExecuteTime": {
     "end_time": "2022-05-19T12:10:52.061718Z",
     "start_time": "2022-05-19T12:10:51.938794Z"
    },
    "hidden": true,
    "scrolled": false
   },
   "outputs": [
    {
     "data": {
      "text/html": [
       "<div>\n",
       "<style scoped>\n",
       "    .dataframe tbody tr th:only-of-type {\n",
       "        vertical-align: middle;\n",
       "    }\n",
       "\n",
       "    .dataframe tbody tr th {\n",
       "        vertical-align: top;\n",
       "    }\n",
       "\n",
       "    .dataframe thead th {\n",
       "        text-align: right;\n",
       "    }\n",
       "</style>\n",
       "<table border=\"1\" class=\"dataframe\">\n",
       "  <thead>\n",
       "    <tr style=\"text-align: right;\">\n",
       "      <th></th>\n",
       "      <th>Id</th>\n",
       "      <th>Nome</th>\n",
       "      <th>Idade</th>\n",
       "      <th>CEP</th>\n",
       "      <th>Data</th>\n",
       "      <th>Valor</th>\n",
       "    </tr>\n",
       "  </thead>\n",
       "  <tbody>\n",
       "    <tr>\n",
       "      <th>0</th>\n",
       "      <td>AA2930</td>\n",
       "      <td>Victor</td>\n",
       "      <td>20</td>\n",
       "      <td>00092-029</td>\n",
       "      <td>2019-01-01</td>\n",
       "      <td>200.0</td>\n",
       "    </tr>\n",
       "    <tr>\n",
       "      <th>1</th>\n",
       "      <td>AA2930</td>\n",
       "      <td>Victor</td>\n",
       "      <td>20</td>\n",
       "      <td>00092-029</td>\n",
       "      <td>2019-03-15</td>\n",
       "      <td>25.0</td>\n",
       "    </tr>\n",
       "    <tr>\n",
       "      <th>2</th>\n",
       "      <td>BB4563</td>\n",
       "      <td>Amanda</td>\n",
       "      <td>35</td>\n",
       "      <td>11111-111</td>\n",
       "      <td>NaN</td>\n",
       "      <td>NaN</td>\n",
       "    </tr>\n",
       "    <tr>\n",
       "      <th>3</th>\n",
       "      <td>CC2139</td>\n",
       "      <td>Bruna</td>\n",
       "      <td>40</td>\n",
       "      <td>22222-888</td>\n",
       "      <td>2019-01-30</td>\n",
       "      <td>40.0</td>\n",
       "    </tr>\n",
       "    <tr>\n",
       "      <th>4</th>\n",
       "      <td>DE2521</td>\n",
       "      <td>Carlos</td>\n",
       "      <td>54</td>\n",
       "      <td>00000-999</td>\n",
       "      <td>NaN</td>\n",
       "      <td>NaN</td>\n",
       "    </tr>\n",
       "    <tr>\n",
       "      <th>5</th>\n",
       "      <td>GT3462</td>\n",
       "      <td>Ricardo</td>\n",
       "      <td>30</td>\n",
       "      <td>88888-111</td>\n",
       "      <td>NaN</td>\n",
       "      <td>NaN</td>\n",
       "    </tr>\n",
       "    <tr>\n",
       "      <th>6</th>\n",
       "      <td>HH1158</td>\n",
       "      <td>Maria</td>\n",
       "      <td>27</td>\n",
       "      <td>77777-666</td>\n",
       "      <td>2019-04-01</td>\n",
       "      <td>50.0</td>\n",
       "    </tr>\n",
       "    <tr>\n",
       "      <th>7</th>\n",
       "      <td>HH1158</td>\n",
       "      <td>Maria</td>\n",
       "      <td>27</td>\n",
       "      <td>77777-666</td>\n",
       "      <td>2019-04-10</td>\n",
       "      <td>500.0</td>\n",
       "    </tr>\n",
       "  </tbody>\n",
       "</table>\n",
       "</div>"
      ],
      "text/plain": [
       "       Id     Nome  Idade        CEP        Data  Valor\n",
       "0  AA2930   Victor     20  00092-029  2019-01-01  200.0\n",
       "1  AA2930   Victor     20  00092-029  2019-03-15   25.0\n",
       "2  BB4563   Amanda     35  11111-111         NaN    NaN\n",
       "3  CC2139    Bruna     40  22222-888  2019-01-30   40.0\n",
       "4  DE2521   Carlos     54  00000-999         NaN    NaN\n",
       "5  GT3462  Ricardo     30  88888-111         NaN    NaN\n",
       "6  HH1158    Maria     27  77777-666  2019-04-01   50.0\n",
       "7  HH1158    Maria     27  77777-666  2019-04-10  500.0"
      ]
     },
     "execution_count": 247,
     "metadata": {},
     "output_type": "execute_result"
    }
   ],
   "source": [
    "esquerda"
   ]
  },
  {
   "cell_type": "code",
   "execution_count": 248,
   "id": "7921212c",
   "metadata": {
    "ExecuteTime": {
     "end_time": "2022-05-19T12:10:52.155759Z",
     "start_time": "2022-05-19T12:10:52.064716Z"
    },
    "hidden": true,
    "scrolled": true
   },
   "outputs": [
    {
     "data": {
      "text/plain": [
       "Id      Nome   \n",
       "AA2930  Victor     225.0\n",
       "BB4563  Amanda       0.0\n",
       "CC2139  Bruna       40.0\n",
       "DE2521  Carlos       0.0\n",
       "GT3462  Ricardo      0.0\n",
       "HH1158  Maria      550.0\n",
       "Name: Valor, dtype: float64"
      ]
     },
     "execution_count": 248,
     "metadata": {},
     "output_type": "execute_result"
    }
   ],
   "source": [
    "esquerda.groupby(['Id', 'Nome'])['Valor'].sum()"
   ]
  },
  {
   "cell_type": "markdown",
   "id": "72c07ba4",
   "metadata": {
    "heading_collapsed": true
   },
   "source": [
    "## 2.3. Groupby "
   ]
  },
  {
   "cell_type": "code",
   "execution_count": 249,
   "id": "2914940d",
   "metadata": {
    "ExecuteTime": {
     "end_time": "2022-05-19T12:10:52.235934Z",
     "start_time": "2022-05-19T12:10:52.157930Z"
    },
    "hidden": true
   },
   "outputs": [],
   "source": [
    "dfg = pd.DataFrame({'A': ['verdadeiro', 'falso', 'verdadeiro', 'falso', 'verdadeiro', 'falso', 'verdadeiro', 'falso'],\n",
    "                    \n",
    "                    'B': ['um', 'um', 'dois', 'tres', 'dois', ' dois', 'um ', 'tres'],\n",
    "                    \n",
    "                    'C': np.random.randn(8),\n",
    "                    \n",
    "                    'D': np.random.randn(8)})"
   ]
  },
  {
   "cell_type": "code",
   "execution_count": 250,
   "id": "4d573ed0",
   "metadata": {
    "ExecuteTime": {
     "end_time": "2022-05-19T12:10:52.329889Z",
     "start_time": "2022-05-19T12:10:52.244927Z"
    },
    "hidden": true
   },
   "outputs": [
    {
     "data": {
      "text/html": [
       "<div>\n",
       "<style scoped>\n",
       "    .dataframe tbody tr th:only-of-type {\n",
       "        vertical-align: middle;\n",
       "    }\n",
       "\n",
       "    .dataframe tbody tr th {\n",
       "        vertical-align: top;\n",
       "    }\n",
       "\n",
       "    .dataframe thead th {\n",
       "        text-align: right;\n",
       "    }\n",
       "</style>\n",
       "<table border=\"1\" class=\"dataframe\">\n",
       "  <thead>\n",
       "    <tr style=\"text-align: right;\">\n",
       "      <th></th>\n",
       "      <th>A</th>\n",
       "      <th>B</th>\n",
       "      <th>C</th>\n",
       "      <th>D</th>\n",
       "    </tr>\n",
       "  </thead>\n",
       "  <tbody>\n",
       "    <tr>\n",
       "      <th>0</th>\n",
       "      <td>verdadeiro</td>\n",
       "      <td>um</td>\n",
       "      <td>1.285782</td>\n",
       "      <td>-0.459486</td>\n",
       "    </tr>\n",
       "    <tr>\n",
       "      <th>1</th>\n",
       "      <td>falso</td>\n",
       "      <td>um</td>\n",
       "      <td>0.502358</td>\n",
       "      <td>0.409724</td>\n",
       "    </tr>\n",
       "    <tr>\n",
       "      <th>2</th>\n",
       "      <td>verdadeiro</td>\n",
       "      <td>dois</td>\n",
       "      <td>-0.579152</td>\n",
       "      <td>-1.391487</td>\n",
       "    </tr>\n",
       "    <tr>\n",
       "      <th>3</th>\n",
       "      <td>falso</td>\n",
       "      <td>tres</td>\n",
       "      <td>0.048868</td>\n",
       "      <td>-0.148534</td>\n",
       "    </tr>\n",
       "    <tr>\n",
       "      <th>4</th>\n",
       "      <td>verdadeiro</td>\n",
       "      <td>dois</td>\n",
       "      <td>-0.456754</td>\n",
       "      <td>1.141293</td>\n",
       "    </tr>\n",
       "    <tr>\n",
       "      <th>5</th>\n",
       "      <td>falso</td>\n",
       "      <td>dois</td>\n",
       "      <td>-0.840864</td>\n",
       "      <td>-1.070805</td>\n",
       "    </tr>\n",
       "    <tr>\n",
       "      <th>6</th>\n",
       "      <td>verdadeiro</td>\n",
       "      <td>um</td>\n",
       "      <td>-0.956363</td>\n",
       "      <td>-2.000714</td>\n",
       "    </tr>\n",
       "    <tr>\n",
       "      <th>7</th>\n",
       "      <td>falso</td>\n",
       "      <td>tres</td>\n",
       "      <td>-0.307972</td>\n",
       "      <td>-0.047708</td>\n",
       "    </tr>\n",
       "  </tbody>\n",
       "</table>\n",
       "</div>"
      ],
      "text/plain": [
       "            A      B         C         D\n",
       "0  verdadeiro     um  1.285782 -0.459486\n",
       "1       falso     um  0.502358  0.409724\n",
       "2  verdadeiro   dois -0.579152 -1.391487\n",
       "3       falso   tres  0.048868 -0.148534\n",
       "4  verdadeiro   dois -0.456754  1.141293\n",
       "5       falso   dois -0.840864 -1.070805\n",
       "6  verdadeiro    um  -0.956363 -2.000714\n",
       "7       falso   tres -0.307972 -0.047708"
      ]
     },
     "execution_count": 250,
     "metadata": {},
     "output_type": "execute_result"
    }
   ],
   "source": [
    "dfg"
   ]
  },
  {
   "cell_type": "markdown",
   "id": "fc3fba7f",
   "metadata": {
    "heading_collapsed": true,
    "hidden": true
   },
   "source": [
    "#### Soma dos valores das colunas baseada na coluna A"
   ]
  },
  {
   "cell_type": "code",
   "execution_count": 251,
   "id": "642ebe5d",
   "metadata": {
    "ExecuteTime": {
     "end_time": "2022-05-19T12:10:52.425106Z",
     "start_time": "2022-05-19T12:10:52.334868Z"
    },
    "hidden": true,
    "scrolled": false
   },
   "outputs": [
    {
     "data": {
      "text/html": [
       "<div>\n",
       "<style scoped>\n",
       "    .dataframe tbody tr th:only-of-type {\n",
       "        vertical-align: middle;\n",
       "    }\n",
       "\n",
       "    .dataframe tbody tr th {\n",
       "        vertical-align: top;\n",
       "    }\n",
       "\n",
       "    .dataframe thead th {\n",
       "        text-align: right;\n",
       "    }\n",
       "</style>\n",
       "<table border=\"1\" class=\"dataframe\">\n",
       "  <thead>\n",
       "    <tr style=\"text-align: right;\">\n",
       "      <th></th>\n",
       "      <th>C</th>\n",
       "      <th>D</th>\n",
       "    </tr>\n",
       "    <tr>\n",
       "      <th>A</th>\n",
       "      <th></th>\n",
       "      <th></th>\n",
       "    </tr>\n",
       "  </thead>\n",
       "  <tbody>\n",
       "    <tr>\n",
       "      <th>falso</th>\n",
       "      <td>-0.597610</td>\n",
       "      <td>-0.857323</td>\n",
       "    </tr>\n",
       "    <tr>\n",
       "      <th>verdadeiro</th>\n",
       "      <td>-0.706487</td>\n",
       "      <td>-2.710394</td>\n",
       "    </tr>\n",
       "  </tbody>\n",
       "</table>\n",
       "</div>"
      ],
      "text/plain": [
       "                   C         D\n",
       "A                             \n",
       "falso      -0.597610 -0.857323\n",
       "verdadeiro -0.706487 -2.710394"
      ]
     },
     "execution_count": 251,
     "metadata": {},
     "output_type": "execute_result"
    }
   ],
   "source": [
    "dfg.groupby(['A']).sum()"
   ]
  },
  {
   "cell_type": "markdown",
   "id": "233a711d",
   "metadata": {
    "heading_collapsed": true,
    "hidden": true
   },
   "source": [
    "#### Média dos valores das colunas baseada na coluna A"
   ]
  },
  {
   "cell_type": "code",
   "execution_count": 252,
   "id": "21da4e6d",
   "metadata": {
    "ExecuteTime": {
     "end_time": "2022-05-19T12:10:52.535073Z",
     "start_time": "2022-05-19T12:10:52.430104Z"
    },
    "hidden": true
   },
   "outputs": [
    {
     "data": {
      "text/html": [
       "<div>\n",
       "<style scoped>\n",
       "    .dataframe tbody tr th:only-of-type {\n",
       "        vertical-align: middle;\n",
       "    }\n",
       "\n",
       "    .dataframe tbody tr th {\n",
       "        vertical-align: top;\n",
       "    }\n",
       "\n",
       "    .dataframe thead th {\n",
       "        text-align: right;\n",
       "    }\n",
       "</style>\n",
       "<table border=\"1\" class=\"dataframe\">\n",
       "  <thead>\n",
       "    <tr style=\"text-align: right;\">\n",
       "      <th></th>\n",
       "      <th>C</th>\n",
       "      <th>D</th>\n",
       "    </tr>\n",
       "    <tr>\n",
       "      <th>A</th>\n",
       "      <th></th>\n",
       "      <th></th>\n",
       "    </tr>\n",
       "  </thead>\n",
       "  <tbody>\n",
       "    <tr>\n",
       "      <th>falso</th>\n",
       "      <td>-0.149403</td>\n",
       "      <td>-0.214331</td>\n",
       "    </tr>\n",
       "    <tr>\n",
       "      <th>verdadeiro</th>\n",
       "      <td>-0.176622</td>\n",
       "      <td>-0.677598</td>\n",
       "    </tr>\n",
       "  </tbody>\n",
       "</table>\n",
       "</div>"
      ],
      "text/plain": [
       "                   C         D\n",
       "A                             \n",
       "falso      -0.149403 -0.214331\n",
       "verdadeiro -0.176622 -0.677598"
      ]
     },
     "execution_count": 252,
     "metadata": {},
     "output_type": "execute_result"
    }
   ],
   "source": [
    "dfg.groupby(['A']).mean()"
   ]
  },
  {
   "cell_type": "markdown",
   "id": "ce76dd69",
   "metadata": {
    "heading_collapsed": true,
    "hidden": true
   },
   "source": [
    "#### Soma dos valores das colunas baseada na coluna B"
   ]
  },
  {
   "cell_type": "code",
   "execution_count": 253,
   "id": "9df408ce",
   "metadata": {
    "ExecuteTime": {
     "end_time": "2022-05-19T12:10:52.628719Z",
     "start_time": "2022-05-19T12:10:52.543064Z"
    },
    "hidden": true
   },
   "outputs": [
    {
     "data": {
      "text/html": [
       "<div>\n",
       "<style scoped>\n",
       "    .dataframe tbody tr th:only-of-type {\n",
       "        vertical-align: middle;\n",
       "    }\n",
       "\n",
       "    .dataframe tbody tr th {\n",
       "        vertical-align: top;\n",
       "    }\n",
       "\n",
       "    .dataframe thead th {\n",
       "        text-align: right;\n",
       "    }\n",
       "</style>\n",
       "<table border=\"1\" class=\"dataframe\">\n",
       "  <thead>\n",
       "    <tr style=\"text-align: right;\">\n",
       "      <th></th>\n",
       "      <th>C</th>\n",
       "      <th>D</th>\n",
       "    </tr>\n",
       "    <tr>\n",
       "      <th>B</th>\n",
       "      <th></th>\n",
       "      <th></th>\n",
       "    </tr>\n",
       "  </thead>\n",
       "  <tbody>\n",
       "    <tr>\n",
       "      <th>dois</th>\n",
       "      <td>-0.840864</td>\n",
       "      <td>-1.070805</td>\n",
       "    </tr>\n",
       "    <tr>\n",
       "      <th>dois</th>\n",
       "      <td>-1.035906</td>\n",
       "      <td>-0.250194</td>\n",
       "    </tr>\n",
       "    <tr>\n",
       "      <th>tres</th>\n",
       "      <td>-0.259104</td>\n",
       "      <td>-0.196242</td>\n",
       "    </tr>\n",
       "    <tr>\n",
       "      <th>um</th>\n",
       "      <td>1.788140</td>\n",
       "      <td>-0.049762</td>\n",
       "    </tr>\n",
       "    <tr>\n",
       "      <th>um</th>\n",
       "      <td>-0.956363</td>\n",
       "      <td>-2.000714</td>\n",
       "    </tr>\n",
       "  </tbody>\n",
       "</table>\n",
       "</div>"
      ],
      "text/plain": [
       "              C         D\n",
       "B                        \n",
       " dois -0.840864 -1.070805\n",
       "dois  -1.035906 -0.250194\n",
       "tres  -0.259104 -0.196242\n",
       "um     1.788140 -0.049762\n",
       "um    -0.956363 -2.000714"
      ]
     },
     "execution_count": 253,
     "metadata": {},
     "output_type": "execute_result"
    }
   ],
   "source": [
    "dfg.groupby(['B']).sum()"
   ]
  },
  {
   "cell_type": "markdown",
   "id": "6c3116da",
   "metadata": {
    "heading_collapsed": true,
    "hidden": true
   },
   "source": [
    "#### Média dos valores das colunas baseada na coluna B"
   ]
  },
  {
   "cell_type": "code",
   "execution_count": 254,
   "id": "8bb914c1",
   "metadata": {
    "ExecuteTime": {
     "end_time": "2022-05-19T12:10:52.722178Z",
     "start_time": "2022-05-19T12:10:52.631729Z"
    },
    "hidden": true,
    "scrolled": true
   },
   "outputs": [
    {
     "data": {
      "text/html": [
       "<div>\n",
       "<style scoped>\n",
       "    .dataframe tbody tr th:only-of-type {\n",
       "        vertical-align: middle;\n",
       "    }\n",
       "\n",
       "    .dataframe tbody tr th {\n",
       "        vertical-align: top;\n",
       "    }\n",
       "\n",
       "    .dataframe thead th {\n",
       "        text-align: right;\n",
       "    }\n",
       "</style>\n",
       "<table border=\"1\" class=\"dataframe\">\n",
       "  <thead>\n",
       "    <tr style=\"text-align: right;\">\n",
       "      <th></th>\n",
       "      <th>C</th>\n",
       "      <th>D</th>\n",
       "    </tr>\n",
       "    <tr>\n",
       "      <th>B</th>\n",
       "      <th></th>\n",
       "      <th></th>\n",
       "    </tr>\n",
       "  </thead>\n",
       "  <tbody>\n",
       "    <tr>\n",
       "      <th>dois</th>\n",
       "      <td>-0.840864</td>\n",
       "      <td>-1.070805</td>\n",
       "    </tr>\n",
       "    <tr>\n",
       "      <th>dois</th>\n",
       "      <td>-0.517953</td>\n",
       "      <td>-0.125097</td>\n",
       "    </tr>\n",
       "    <tr>\n",
       "      <th>tres</th>\n",
       "      <td>-0.129552</td>\n",
       "      <td>-0.098121</td>\n",
       "    </tr>\n",
       "    <tr>\n",
       "      <th>um</th>\n",
       "      <td>0.894070</td>\n",
       "      <td>-0.024881</td>\n",
       "    </tr>\n",
       "    <tr>\n",
       "      <th>um</th>\n",
       "      <td>-0.956363</td>\n",
       "      <td>-2.000714</td>\n",
       "    </tr>\n",
       "  </tbody>\n",
       "</table>\n",
       "</div>"
      ],
      "text/plain": [
       "              C         D\n",
       "B                        \n",
       " dois -0.840864 -1.070805\n",
       "dois  -0.517953 -0.125097\n",
       "tres  -0.129552 -0.098121\n",
       "um     0.894070 -0.024881\n",
       "um    -0.956363 -2.000714"
      ]
     },
     "execution_count": 254,
     "metadata": {},
     "output_type": "execute_result"
    }
   ],
   "source": [
    "dfg.groupby(['B']).mean()"
   ]
  },
  {
   "cell_type": "markdown",
   "id": "b66d02af",
   "metadata": {
    "heading_collapsed": true,
    "hidden": true
   },
   "source": [
    "#### Soma dos valores das colunas baseada nas colunas A e B"
   ]
  },
  {
   "cell_type": "code",
   "execution_count": 255,
   "id": "f8d1067d",
   "metadata": {
    "ExecuteTime": {
     "end_time": "2022-05-19T12:10:52.847761Z",
     "start_time": "2022-05-19T12:10:52.727177Z"
    },
    "hidden": true,
    "scrolled": true
   },
   "outputs": [
    {
     "data": {
      "text/html": [
       "<div>\n",
       "<style scoped>\n",
       "    .dataframe tbody tr th:only-of-type {\n",
       "        vertical-align: middle;\n",
       "    }\n",
       "\n",
       "    .dataframe tbody tr th {\n",
       "        vertical-align: top;\n",
       "    }\n",
       "\n",
       "    .dataframe thead th {\n",
       "        text-align: right;\n",
       "    }\n",
       "</style>\n",
       "<table border=\"1\" class=\"dataframe\">\n",
       "  <thead>\n",
       "    <tr style=\"text-align: right;\">\n",
       "      <th></th>\n",
       "      <th></th>\n",
       "      <th>C</th>\n",
       "      <th>D</th>\n",
       "    </tr>\n",
       "    <tr>\n",
       "      <th>A</th>\n",
       "      <th>B</th>\n",
       "      <th></th>\n",
       "      <th></th>\n",
       "    </tr>\n",
       "  </thead>\n",
       "  <tbody>\n",
       "    <tr>\n",
       "      <th rowspan=\"3\" valign=\"top\">falso</th>\n",
       "      <th>dois</th>\n",
       "      <td>-0.840864</td>\n",
       "      <td>-1.070805</td>\n",
       "    </tr>\n",
       "    <tr>\n",
       "      <th>tres</th>\n",
       "      <td>-0.259104</td>\n",
       "      <td>-0.196242</td>\n",
       "    </tr>\n",
       "    <tr>\n",
       "      <th>um</th>\n",
       "      <td>0.502358</td>\n",
       "      <td>0.409724</td>\n",
       "    </tr>\n",
       "    <tr>\n",
       "      <th rowspan=\"3\" valign=\"top\">verdadeiro</th>\n",
       "      <th>dois</th>\n",
       "      <td>-1.035906</td>\n",
       "      <td>-0.250194</td>\n",
       "    </tr>\n",
       "    <tr>\n",
       "      <th>um</th>\n",
       "      <td>1.285782</td>\n",
       "      <td>-0.459486</td>\n",
       "    </tr>\n",
       "    <tr>\n",
       "      <th>um</th>\n",
       "      <td>-0.956363</td>\n",
       "      <td>-2.000714</td>\n",
       "    </tr>\n",
       "  </tbody>\n",
       "</table>\n",
       "</div>"
      ],
      "text/plain": [
       "                         C         D\n",
       "A          B                        \n",
       "falso       dois -0.840864 -1.070805\n",
       "           tres  -0.259104 -0.196242\n",
       "           um     0.502358  0.409724\n",
       "verdadeiro dois  -1.035906 -0.250194\n",
       "           um     1.285782 -0.459486\n",
       "           um    -0.956363 -2.000714"
      ]
     },
     "execution_count": 255,
     "metadata": {},
     "output_type": "execute_result"
    }
   ],
   "source": [
    "dfg.groupby(['A','B']).sum()"
   ]
  },
  {
   "cell_type": "markdown",
   "id": "231029fe",
   "metadata": {
    "heading_collapsed": true
   },
   "source": [
    "## 2.4. Indexação  "
   ]
  },
  {
   "cell_type": "markdown",
   "id": "ef673d36",
   "metadata": {
    "hidden": true
   },
   "source": [
    "Todo índice em pyhon inicia em 0.\n",
    "\n",
    "Sempre que quisermos selecionar algum objeto em uma lista, devemos considerar esse requisito."
   ]
  },
  {
   "cell_type": "code",
   "execution_count": 256,
   "id": "90fc3223",
   "metadata": {
    "ExecuteTime": {
     "end_time": "2022-05-19T12:10:52.926046Z",
     "start_time": "2022-05-19T12:10:52.850767Z"
    },
    "hidden": true
   },
   "outputs": [],
   "source": [
    "lista = [ 32, 96, 11, 27]"
   ]
  },
  {
   "cell_type": "code",
   "execution_count": 257,
   "id": "a7575e5e",
   "metadata": {
    "ExecuteTime": {
     "end_time": "2022-05-19T12:10:53.003445Z",
     "start_time": "2022-05-19T12:10:52.934052Z"
    },
    "hidden": true
   },
   "outputs": [
    {
     "data": {
      "text/plain": [
       "32"
      ]
     },
     "execution_count": 257,
     "metadata": {},
     "output_type": "execute_result"
    }
   ],
   "source": [
    "lista[0]"
   ]
  },
  {
   "cell_type": "markdown",
   "id": "88c109dd",
   "metadata": {
    "hidden": true,
    "hide_input": false
   },
   "source": [
    "Sempre que quisermos selecionar os números de trás pra frente, basta adicionar o sinal de subtração e ordenar a casa"
   ]
  },
  {
   "cell_type": "code",
   "execution_count": 258,
   "id": "07ca6108",
   "metadata": {
    "ExecuteTime": {
     "end_time": "2022-05-19T12:10:53.095662Z",
     "start_time": "2022-05-19T12:10:53.011439Z"
    },
    "hidden": true
   },
   "outputs": [
    {
     "data": {
      "text/plain": [
       "27"
      ]
     },
     "execution_count": 258,
     "metadata": {},
     "output_type": "execute_result"
    }
   ],
   "source": [
    "lista [-1]"
   ]
  },
  {
   "cell_type": "markdown",
   "id": "2d2b1327",
   "metadata": {
    "hidden": true
   },
   "source": [
    "### Indexação múltlipla"
   ]
  },
  {
   "cell_type": "code",
   "execution_count": 259,
   "id": "8af65c9d",
   "metadata": {
    "ExecuteTime": {
     "end_time": "2022-05-19T12:10:53.173607Z",
     "start_time": "2022-05-19T12:10:53.102652Z"
    },
    "hidden": true
   },
   "outputs": [],
   "source": [
    "arrays = [[1, 2, 5, 4], ['red', 'blue', 'green', 'blue']]"
   ]
  },
  {
   "cell_type": "code",
   "execution_count": 260,
   "id": "8f825208",
   "metadata": {
    "ExecuteTime": {
     "end_time": "2022-05-19T12:10:53.252565Z",
     "start_time": "2022-05-19T12:10:53.182596Z"
    },
    "hidden": true
   },
   "outputs": [
    {
     "data": {
      "text/plain": [
       "MultiIndex([(1,   'red'),\n",
       "            (2,  'blue'),\n",
       "            (5, 'green'),\n",
       "            (4,  'blue')],\n",
       "           names=['number', 'color'])"
      ]
     },
     "execution_count": 260,
     "metadata": {},
     "output_type": "execute_result"
    }
   ],
   "source": [
    "pd.MultiIndex.from_arrays(arrays, names=('number', 'color'))"
   ]
  },
  {
   "cell_type": "code",
   "execution_count": 261,
   "id": "366edcd8",
   "metadata": {
    "ExecuteTime": {
     "end_time": "2022-05-19T12:10:53.431090Z",
     "start_time": "2022-05-19T12:10:53.258559Z"
    },
    "hidden": true
   },
   "outputs": [],
   "source": [
    "numbers = [0, 1, 2]\n",
    "colors = ['green', 'purple']"
   ]
  },
  {
   "cell_type": "markdown",
   "id": "7afbc6af",
   "metadata": {
    "hidden": true
   },
   "source": [
    "**MultiIndex com produto cartesiano**"
   ]
  },
  {
   "cell_type": "code",
   "execution_count": 262,
   "id": "b6494d24",
   "metadata": {
    "ExecuteTime": {
     "end_time": "2022-05-19T12:10:53.536402Z",
     "start_time": "2022-05-19T12:10:53.440101Z"
    },
    "hidden": true
   },
   "outputs": [
    {
     "data": {
      "text/plain": [
       "MultiIndex([(0,  'green'),\n",
       "            (0, 'purple'),\n",
       "            (1,  'green'),\n",
       "            (1, 'purple'),\n",
       "            (2,  'green'),\n",
       "            (2, 'purple')],\n",
       "           names=['number', 'color'])"
      ]
     },
     "execution_count": 262,
     "metadata": {},
     "output_type": "execute_result"
    }
   ],
   "source": [
    "pd.MultiIndex.from_product([numbers, colors], names = ['number', 'color'])"
   ]
  },
  {
   "cell_type": "markdown",
   "id": "f9c6f548",
   "metadata": {
    "heading_collapsed": true
   },
   "source": [
    "## 2.5. Reshping dados"
   ]
  },
  {
   "cell_type": "code",
   "execution_count": 263,
   "id": "831def85",
   "metadata": {
    "ExecuteTime": {
     "end_time": "2022-05-19T12:10:53.631997Z",
     "start_time": "2022-05-19T12:10:53.548389Z"
    },
    "hidden": true
   },
   "outputs": [],
   "source": [
    "datas = pd.date_range('20220101', periods= 6 )\n",
    "\n",
    "df = pd.DataFrame(np.random.randn(6, 4), index = datas, columns = ['var_A', 'var_B', 'var_C', 'var_D'])"
   ]
  },
  {
   "cell_type": "code",
   "execution_count": 264,
   "id": "caa739d8",
   "metadata": {
    "ExecuteTime": {
     "end_time": "2022-05-19T12:10:53.726183Z",
     "start_time": "2022-05-19T12:10:53.641004Z"
    },
    "hidden": true
   },
   "outputs": [
    {
     "data": {
      "text/html": [
       "<div>\n",
       "<style scoped>\n",
       "    .dataframe tbody tr th:only-of-type {\n",
       "        vertical-align: middle;\n",
       "    }\n",
       "\n",
       "    .dataframe tbody tr th {\n",
       "        vertical-align: top;\n",
       "    }\n",
       "\n",
       "    .dataframe thead th {\n",
       "        text-align: right;\n",
       "    }\n",
       "</style>\n",
       "<table border=\"1\" class=\"dataframe\">\n",
       "  <thead>\n",
       "    <tr style=\"text-align: right;\">\n",
       "      <th></th>\n",
       "      <th>var_A</th>\n",
       "      <th>var_B</th>\n",
       "      <th>var_C</th>\n",
       "      <th>var_D</th>\n",
       "    </tr>\n",
       "  </thead>\n",
       "  <tbody>\n",
       "    <tr>\n",
       "      <th>2022-01-01</th>\n",
       "      <td>-0.048731</td>\n",
       "      <td>-0.408251</td>\n",
       "      <td>-0.688786</td>\n",
       "      <td>-1.763551</td>\n",
       "    </tr>\n",
       "    <tr>\n",
       "      <th>2022-01-02</th>\n",
       "      <td>-0.407730</td>\n",
       "      <td>1.422654</td>\n",
       "      <td>0.781474</td>\n",
       "      <td>0.015885</td>\n",
       "    </tr>\n",
       "    <tr>\n",
       "      <th>2022-01-03</th>\n",
       "      <td>-0.980008</td>\n",
       "      <td>0.390809</td>\n",
       "      <td>0.069762</td>\n",
       "      <td>0.225809</td>\n",
       "    </tr>\n",
       "    <tr>\n",
       "      <th>2022-01-04</th>\n",
       "      <td>0.826762</td>\n",
       "      <td>-0.015806</td>\n",
       "      <td>-0.216536</td>\n",
       "      <td>0.471743</td>\n",
       "    </tr>\n",
       "    <tr>\n",
       "      <th>2022-01-05</th>\n",
       "      <td>0.132330</td>\n",
       "      <td>1.254676</td>\n",
       "      <td>0.960206</td>\n",
       "      <td>-1.088915</td>\n",
       "    </tr>\n",
       "    <tr>\n",
       "      <th>2022-01-06</th>\n",
       "      <td>0.161142</td>\n",
       "      <td>0.529999</td>\n",
       "      <td>-1.058007</td>\n",
       "      <td>1.622612</td>\n",
       "    </tr>\n",
       "  </tbody>\n",
       "</table>\n",
       "</div>"
      ],
      "text/plain": [
       "               var_A     var_B     var_C     var_D\n",
       "2022-01-01 -0.048731 -0.408251 -0.688786 -1.763551\n",
       "2022-01-02 -0.407730  1.422654  0.781474  0.015885\n",
       "2022-01-03 -0.980008  0.390809  0.069762  0.225809\n",
       "2022-01-04  0.826762 -0.015806 -0.216536  0.471743\n",
       "2022-01-05  0.132330  1.254676  0.960206 -1.088915\n",
       "2022-01-06  0.161142  0.529999 -1.058007  1.622612"
      ]
     },
     "execution_count": 264,
     "metadata": {},
     "output_type": "execute_result"
    }
   ],
   "source": [
    "df"
   ]
  },
  {
   "cell_type": "code",
   "execution_count": 265,
   "id": "a5786620",
   "metadata": {
    "ExecuteTime": {
     "end_time": "2022-05-19T12:10:53.821760Z",
     "start_time": "2022-05-19T12:10:53.733173Z"
    },
    "hidden": true
   },
   "outputs": [],
   "source": [
    "dft = df.T"
   ]
  },
  {
   "cell_type": "code",
   "execution_count": 266,
   "id": "243fbc5b",
   "metadata": {
    "ExecuteTime": {
     "end_time": "2022-05-19T12:10:53.930401Z",
     "start_time": "2022-05-19T12:10:53.831768Z"
    },
    "hidden": true
   },
   "outputs": [
    {
     "data": {
      "text/html": [
       "<div>\n",
       "<style scoped>\n",
       "    .dataframe tbody tr th:only-of-type {\n",
       "        vertical-align: middle;\n",
       "    }\n",
       "\n",
       "    .dataframe tbody tr th {\n",
       "        vertical-align: top;\n",
       "    }\n",
       "\n",
       "    .dataframe thead th {\n",
       "        text-align: right;\n",
       "    }\n",
       "</style>\n",
       "<table border=\"1\" class=\"dataframe\">\n",
       "  <thead>\n",
       "    <tr style=\"text-align: right;\">\n",
       "      <th></th>\n",
       "      <th>2022-01-01</th>\n",
       "      <th>2022-01-02</th>\n",
       "      <th>2022-01-03</th>\n",
       "      <th>2022-01-04</th>\n",
       "      <th>2022-01-05</th>\n",
       "      <th>2022-01-06</th>\n",
       "    </tr>\n",
       "  </thead>\n",
       "  <tbody>\n",
       "    <tr>\n",
       "      <th>var_A</th>\n",
       "      <td>-0.048731</td>\n",
       "      <td>-0.407730</td>\n",
       "      <td>-0.980008</td>\n",
       "      <td>0.826762</td>\n",
       "      <td>0.132330</td>\n",
       "      <td>0.161142</td>\n",
       "    </tr>\n",
       "    <tr>\n",
       "      <th>var_B</th>\n",
       "      <td>-0.408251</td>\n",
       "      <td>1.422654</td>\n",
       "      <td>0.390809</td>\n",
       "      <td>-0.015806</td>\n",
       "      <td>1.254676</td>\n",
       "      <td>0.529999</td>\n",
       "    </tr>\n",
       "    <tr>\n",
       "      <th>var_C</th>\n",
       "      <td>-0.688786</td>\n",
       "      <td>0.781474</td>\n",
       "      <td>0.069762</td>\n",
       "      <td>-0.216536</td>\n",
       "      <td>0.960206</td>\n",
       "      <td>-1.058007</td>\n",
       "    </tr>\n",
       "    <tr>\n",
       "      <th>var_D</th>\n",
       "      <td>-1.763551</td>\n",
       "      <td>0.015885</td>\n",
       "      <td>0.225809</td>\n",
       "      <td>0.471743</td>\n",
       "      <td>-1.088915</td>\n",
       "      <td>1.622612</td>\n",
       "    </tr>\n",
       "  </tbody>\n",
       "</table>\n",
       "</div>"
      ],
      "text/plain": [
       "       2022-01-01  2022-01-02  2022-01-03  2022-01-04  2022-01-05  2022-01-06\n",
       "var_A   -0.048731   -0.407730   -0.980008    0.826762    0.132330    0.161142\n",
       "var_B   -0.408251    1.422654    0.390809   -0.015806    1.254676    0.529999\n",
       "var_C   -0.688786    0.781474    0.069762   -0.216536    0.960206   -1.058007\n",
       "var_D   -1.763551    0.015885    0.225809    0.471743   -1.088915    1.622612"
      ]
     },
     "execution_count": 266,
     "metadata": {},
     "output_type": "execute_result"
    }
   ],
   "source": [
    "dft"
   ]
  },
  {
   "cell_type": "code",
   "execution_count": 267,
   "id": "ffc1ce41",
   "metadata": {
    "ExecuteTime": {
     "end_time": "2022-05-19T12:10:54.009554Z",
     "start_time": "2022-05-19T12:10:53.934381Z"
    },
    "hidden": true
   },
   "outputs": [
    {
     "data": {
      "text/plain": [
       "(6, 4)"
      ]
     },
     "execution_count": 267,
     "metadata": {},
     "output_type": "execute_result"
    }
   ],
   "source": [
    "df.shape"
   ]
  },
  {
   "cell_type": "markdown",
   "id": "d505c8d6",
   "metadata": {
    "heading_collapsed": true,
    "hidden": true
   },
   "source": [
    "### 2.5.1. Função pivot"
   ]
  },
  {
   "cell_type": "code",
   "execution_count": 268,
   "id": "d8aa1ecb",
   "metadata": {
    "ExecuteTime": {
     "end_time": "2022-05-19T12:10:54.087921Z",
     "start_time": "2022-05-19T12:10:54.017544Z"
    },
    "hidden": true
   },
   "outputs": [],
   "source": [
    "data = pd.date_range('20220101', periods= 12 )\n",
    "\n",
    "pessoa = ['George', 'Victor', 'Lucas']"
   ]
  },
  {
   "cell_type": "code",
   "execution_count": 269,
   "id": "444f5335",
   "metadata": {
    "ExecuteTime": {
     "end_time": "2022-05-19T12:10:54.214071Z",
     "start_time": "2022-05-19T12:10:54.090930Z"
    },
    "hidden": true
   },
   "outputs": [
    {
     "data": {
      "text/plain": [
       "DatetimeIndex(['2022-01-01', '2022-01-02', '2022-01-03', '2022-01-04',\n",
       "               '2022-01-05', '2022-01-06', '2022-01-07', '2022-01-08',\n",
       "               '2022-01-09', '2022-01-10', '2022-01-11', '2022-01-12'],\n",
       "              dtype='datetime64[ns]', freq='D')"
      ]
     },
     "execution_count": 269,
     "metadata": {},
     "output_type": "execute_result"
    }
   ],
   "source": [
    "data"
   ]
  },
  {
   "cell_type": "code",
   "execution_count": 270,
   "id": "e638e435",
   "metadata": {
    "ExecuteTime": {
     "end_time": "2022-05-19T12:10:54.383011Z",
     "start_time": "2022-05-19T12:10:54.224060Z"
    },
    "hidden": true
   },
   "outputs": [],
   "source": [
    "nome = []\n",
    "\n",
    "gasto = []\n",
    "\n",
    "for i in range(12):\n",
    "    nome.append(np.random.choice(pessoa))\n",
    "    gasto.append(np.round(np.random.randn()*100,2 ))\n",
    "    \n",
    "    nome"
   ]
  },
  {
   "cell_type": "code",
   "execution_count": 271,
   "id": "beeabc32",
   "metadata": {
    "ExecuteTime": {
     "end_time": "2022-05-19T12:10:54.462104Z",
     "start_time": "2022-05-19T12:10:54.391974Z"
    },
    "hidden": true
   },
   "outputs": [],
   "source": [
    "df = pd.DataFrame({'Data': data, 'Nome': nome, 'Gasto': gasto})"
   ]
  },
  {
   "cell_type": "code",
   "execution_count": 272,
   "id": "19428fe8",
   "metadata": {
    "ExecuteTime": {
     "end_time": "2022-05-19T12:10:54.586831Z",
     "start_time": "2022-05-19T12:10:54.467098Z"
    },
    "hidden": true
   },
   "outputs": [
    {
     "data": {
      "text/html": [
       "<div>\n",
       "<style scoped>\n",
       "    .dataframe tbody tr th:only-of-type {\n",
       "        vertical-align: middle;\n",
       "    }\n",
       "\n",
       "    .dataframe tbody tr th {\n",
       "        vertical-align: top;\n",
       "    }\n",
       "\n",
       "    .dataframe thead th {\n",
       "        text-align: right;\n",
       "    }\n",
       "</style>\n",
       "<table border=\"1\" class=\"dataframe\">\n",
       "  <thead>\n",
       "    <tr style=\"text-align: right;\">\n",
       "      <th></th>\n",
       "      <th>Data</th>\n",
       "      <th>Nome</th>\n",
       "      <th>Gasto</th>\n",
       "    </tr>\n",
       "  </thead>\n",
       "  <tbody>\n",
       "    <tr>\n",
       "      <th>0</th>\n",
       "      <td>2022-01-01</td>\n",
       "      <td>Lucas</td>\n",
       "      <td>7.32</td>\n",
       "    </tr>\n",
       "    <tr>\n",
       "      <th>1</th>\n",
       "      <td>2022-01-02</td>\n",
       "      <td>Lucas</td>\n",
       "      <td>-7.19</td>\n",
       "    </tr>\n",
       "    <tr>\n",
       "      <th>2</th>\n",
       "      <td>2022-01-03</td>\n",
       "      <td>Victor</td>\n",
       "      <td>183.57</td>\n",
       "    </tr>\n",
       "    <tr>\n",
       "      <th>3</th>\n",
       "      <td>2022-01-04</td>\n",
       "      <td>George</td>\n",
       "      <td>10.04</td>\n",
       "    </tr>\n",
       "    <tr>\n",
       "      <th>4</th>\n",
       "      <td>2022-01-05</td>\n",
       "      <td>George</td>\n",
       "      <td>25.59</td>\n",
       "    </tr>\n",
       "    <tr>\n",
       "      <th>5</th>\n",
       "      <td>2022-01-06</td>\n",
       "      <td>George</td>\n",
       "      <td>-123.86</td>\n",
       "    </tr>\n",
       "    <tr>\n",
       "      <th>6</th>\n",
       "      <td>2022-01-07</td>\n",
       "      <td>Victor</td>\n",
       "      <td>64.46</td>\n",
       "    </tr>\n",
       "    <tr>\n",
       "      <th>7</th>\n",
       "      <td>2022-01-08</td>\n",
       "      <td>Victor</td>\n",
       "      <td>-97.44</td>\n",
       "    </tr>\n",
       "    <tr>\n",
       "      <th>8</th>\n",
       "      <td>2022-01-09</td>\n",
       "      <td>Victor</td>\n",
       "      <td>108.12</td>\n",
       "    </tr>\n",
       "    <tr>\n",
       "      <th>9</th>\n",
       "      <td>2022-01-10</td>\n",
       "      <td>George</td>\n",
       "      <td>-19.01</td>\n",
       "    </tr>\n",
       "    <tr>\n",
       "      <th>10</th>\n",
       "      <td>2022-01-11</td>\n",
       "      <td>Victor</td>\n",
       "      <td>-14.26</td>\n",
       "    </tr>\n",
       "    <tr>\n",
       "      <th>11</th>\n",
       "      <td>2022-01-12</td>\n",
       "      <td>George</td>\n",
       "      <td>34.51</td>\n",
       "    </tr>\n",
       "  </tbody>\n",
       "</table>\n",
       "</div>"
      ],
      "text/plain": [
       "         Data    Nome   Gasto\n",
       "0  2022-01-01   Lucas    7.32\n",
       "1  2022-01-02   Lucas   -7.19\n",
       "2  2022-01-03  Victor  183.57\n",
       "3  2022-01-04  George   10.04\n",
       "4  2022-01-05  George   25.59\n",
       "5  2022-01-06  George -123.86\n",
       "6  2022-01-07  Victor   64.46\n",
       "7  2022-01-08  Victor  -97.44\n",
       "8  2022-01-09  Victor  108.12\n",
       "9  2022-01-10  George  -19.01\n",
       "10 2022-01-11  Victor  -14.26\n",
       "11 2022-01-12  George   34.51"
      ]
     },
     "execution_count": 272,
     "metadata": {},
     "output_type": "execute_result"
    }
   ],
   "source": [
    "df"
   ]
  },
  {
   "cell_type": "code",
   "execution_count": 273,
   "id": "aa77c601",
   "metadata": {
    "ExecuteTime": {
     "end_time": "2022-05-19T12:10:54.688710Z",
     "start_time": "2022-05-19T12:10:54.591837Z"
    },
    "hidden": true
   },
   "outputs": [
    {
     "data": {
      "text/html": [
       "<div>\n",
       "<style scoped>\n",
       "    .dataframe tbody tr th:only-of-type {\n",
       "        vertical-align: middle;\n",
       "    }\n",
       "\n",
       "    .dataframe tbody tr th {\n",
       "        vertical-align: top;\n",
       "    }\n",
       "\n",
       "    .dataframe thead th {\n",
       "        text-align: right;\n",
       "    }\n",
       "</style>\n",
       "<table border=\"1\" class=\"dataframe\">\n",
       "  <thead>\n",
       "    <tr style=\"text-align: right;\">\n",
       "      <th>Nome</th>\n",
       "      <th>George</th>\n",
       "      <th>Lucas</th>\n",
       "      <th>Victor</th>\n",
       "    </tr>\n",
       "    <tr>\n",
       "      <th>Data</th>\n",
       "      <th></th>\n",
       "      <th></th>\n",
       "      <th></th>\n",
       "    </tr>\n",
       "  </thead>\n",
       "  <tbody>\n",
       "    <tr>\n",
       "      <th>2022-01-01</th>\n",
       "      <td>NaN</td>\n",
       "      <td>7.32</td>\n",
       "      <td>NaN</td>\n",
       "    </tr>\n",
       "    <tr>\n",
       "      <th>2022-01-02</th>\n",
       "      <td>NaN</td>\n",
       "      <td>-7.19</td>\n",
       "      <td>NaN</td>\n",
       "    </tr>\n",
       "    <tr>\n",
       "      <th>2022-01-03</th>\n",
       "      <td>NaN</td>\n",
       "      <td>NaN</td>\n",
       "      <td>183.57</td>\n",
       "    </tr>\n",
       "    <tr>\n",
       "      <th>2022-01-04</th>\n",
       "      <td>10.04</td>\n",
       "      <td>NaN</td>\n",
       "      <td>NaN</td>\n",
       "    </tr>\n",
       "    <tr>\n",
       "      <th>2022-01-05</th>\n",
       "      <td>25.59</td>\n",
       "      <td>NaN</td>\n",
       "      <td>NaN</td>\n",
       "    </tr>\n",
       "    <tr>\n",
       "      <th>2022-01-06</th>\n",
       "      <td>-123.86</td>\n",
       "      <td>NaN</td>\n",
       "      <td>NaN</td>\n",
       "    </tr>\n",
       "    <tr>\n",
       "      <th>2022-01-07</th>\n",
       "      <td>NaN</td>\n",
       "      <td>NaN</td>\n",
       "      <td>64.46</td>\n",
       "    </tr>\n",
       "    <tr>\n",
       "      <th>2022-01-08</th>\n",
       "      <td>NaN</td>\n",
       "      <td>NaN</td>\n",
       "      <td>-97.44</td>\n",
       "    </tr>\n",
       "    <tr>\n",
       "      <th>2022-01-09</th>\n",
       "      <td>NaN</td>\n",
       "      <td>NaN</td>\n",
       "      <td>108.12</td>\n",
       "    </tr>\n",
       "    <tr>\n",
       "      <th>2022-01-10</th>\n",
       "      <td>-19.01</td>\n",
       "      <td>NaN</td>\n",
       "      <td>NaN</td>\n",
       "    </tr>\n",
       "    <tr>\n",
       "      <th>2022-01-11</th>\n",
       "      <td>NaN</td>\n",
       "      <td>NaN</td>\n",
       "      <td>-14.26</td>\n",
       "    </tr>\n",
       "    <tr>\n",
       "      <th>2022-01-12</th>\n",
       "      <td>34.51</td>\n",
       "      <td>NaN</td>\n",
       "      <td>NaN</td>\n",
       "    </tr>\n",
       "  </tbody>\n",
       "</table>\n",
       "</div>"
      ],
      "text/plain": [
       "Nome        George  Lucas  Victor\n",
       "Data                             \n",
       "2022-01-01     NaN   7.32     NaN\n",
       "2022-01-02     NaN  -7.19     NaN\n",
       "2022-01-03     NaN    NaN  183.57\n",
       "2022-01-04   10.04    NaN     NaN\n",
       "2022-01-05   25.59    NaN     NaN\n",
       "2022-01-06 -123.86    NaN     NaN\n",
       "2022-01-07     NaN    NaN   64.46\n",
       "2022-01-08     NaN    NaN  -97.44\n",
       "2022-01-09     NaN    NaN  108.12\n",
       "2022-01-10  -19.01    NaN     NaN\n",
       "2022-01-11     NaN    NaN  -14.26\n",
       "2022-01-12   34.51    NaN     NaN"
      ]
     },
     "execution_count": 273,
     "metadata": {},
     "output_type": "execute_result"
    }
   ],
   "source": [
    "pd.pivot(df, index= 'Data', columns= 'Nome', values= 'Gasto')"
   ]
  },
  {
   "cell_type": "markdown",
   "id": "955041ed",
   "metadata": {
    "heading_collapsed": true,
    "hidden": true
   },
   "source": [
    "### 2.5.2. Função pivot table"
   ]
  },
  {
   "cell_type": "code",
   "execution_count": 274,
   "id": "8c45760b",
   "metadata": {
    "ExecuteTime": {
     "end_time": "2022-05-19T12:10:54.782597Z",
     "start_time": "2022-05-19T12:10:54.692714Z"
    },
    "hidden": true
   },
   "outputs": [],
   "source": [
    "carros = [7, 4, 3, 2, 8]\n",
    "\n",
    "data = pd.date_range('20220101','20220101', periods= 5 )\n",
    "\n",
    "vendedor = ['George', 'Vagner', 'Pedro', 'Vagner', 'George']"
   ]
  },
  {
   "cell_type": "code",
   "execution_count": 275,
   "id": "c7f60e6c",
   "metadata": {
    "ExecuteTime": {
     "end_time": "2022-05-19T12:10:54.859693Z",
     "start_time": "2022-05-19T12:10:54.792571Z"
    },
    "hidden": true
   },
   "outputs": [],
   "source": [
    "df = pd.DataFrame({'Vendas': carros, 'Data': data, 'Vendedor': vendedor})"
   ]
  },
  {
   "cell_type": "code",
   "execution_count": 276,
   "id": "fcb8bd42",
   "metadata": {
    "ExecuteTime": {
     "end_time": "2022-05-19T12:10:54.960229Z",
     "start_time": "2022-05-19T12:10:54.864699Z"
    },
    "hidden": true
   },
   "outputs": [
    {
     "data": {
      "text/html": [
       "<div>\n",
       "<style scoped>\n",
       "    .dataframe tbody tr th:only-of-type {\n",
       "        vertical-align: middle;\n",
       "    }\n",
       "\n",
       "    .dataframe tbody tr th {\n",
       "        vertical-align: top;\n",
       "    }\n",
       "\n",
       "    .dataframe thead th {\n",
       "        text-align: right;\n",
       "    }\n",
       "</style>\n",
       "<table border=\"1\" class=\"dataframe\">\n",
       "  <thead>\n",
       "    <tr style=\"text-align: right;\">\n",
       "      <th></th>\n",
       "      <th>Vendas</th>\n",
       "      <th>Data</th>\n",
       "      <th>Vendedor</th>\n",
       "    </tr>\n",
       "  </thead>\n",
       "  <tbody>\n",
       "    <tr>\n",
       "      <th>0</th>\n",
       "      <td>7</td>\n",
       "      <td>2022-01-01</td>\n",
       "      <td>George</td>\n",
       "    </tr>\n",
       "    <tr>\n",
       "      <th>1</th>\n",
       "      <td>4</td>\n",
       "      <td>2022-01-01</td>\n",
       "      <td>Vagner</td>\n",
       "    </tr>\n",
       "    <tr>\n",
       "      <th>2</th>\n",
       "      <td>3</td>\n",
       "      <td>2022-01-01</td>\n",
       "      <td>Pedro</td>\n",
       "    </tr>\n",
       "    <tr>\n",
       "      <th>3</th>\n",
       "      <td>2</td>\n",
       "      <td>2022-01-01</td>\n",
       "      <td>Vagner</td>\n",
       "    </tr>\n",
       "    <tr>\n",
       "      <th>4</th>\n",
       "      <td>8</td>\n",
       "      <td>2022-01-01</td>\n",
       "      <td>George</td>\n",
       "    </tr>\n",
       "  </tbody>\n",
       "</table>\n",
       "</div>"
      ],
      "text/plain": [
       "   Vendas       Data Vendedor\n",
       "0       7 2022-01-01   George\n",
       "1       4 2022-01-01   Vagner\n",
       "2       3 2022-01-01    Pedro\n",
       "3       2 2022-01-01   Vagner\n",
       "4       8 2022-01-01   George"
      ]
     },
     "execution_count": 276,
     "metadata": {},
     "output_type": "execute_result"
    }
   ],
   "source": [
    "df"
   ]
  },
  {
   "cell_type": "markdown",
   "id": "37f64216",
   "metadata": {
    "hidden": true
   },
   "source": [
    "A função **pivot table** não entrega valores de index duplicados"
   ]
  },
  {
   "cell_type": "code",
   "execution_count": 277,
   "id": "03120fab",
   "metadata": {
    "ExecuteTime": {
     "end_time": "2022-05-19T12:10:55.070751Z",
     "start_time": "2022-05-19T12:10:54.967234Z"
    },
    "hidden": true,
    "scrolled": false
   },
   "outputs": [
    {
     "data": {
      "text/html": [
       "<div>\n",
       "<style scoped>\n",
       "    .dataframe tbody tr th:only-of-type {\n",
       "        vertical-align: middle;\n",
       "    }\n",
       "\n",
       "    .dataframe tbody tr th {\n",
       "        vertical-align: top;\n",
       "    }\n",
       "\n",
       "    .dataframe thead th {\n",
       "        text-align: right;\n",
       "    }\n",
       "</style>\n",
       "<table border=\"1\" class=\"dataframe\">\n",
       "  <thead>\n",
       "    <tr style=\"text-align: right;\">\n",
       "      <th>Vendedor</th>\n",
       "      <th>George</th>\n",
       "      <th>Pedro</th>\n",
       "      <th>Vagner</th>\n",
       "    </tr>\n",
       "    <tr>\n",
       "      <th>Data</th>\n",
       "      <th></th>\n",
       "      <th></th>\n",
       "      <th></th>\n",
       "    </tr>\n",
       "  </thead>\n",
       "  <tbody>\n",
       "    <tr>\n",
       "      <th>2022-01-01</th>\n",
       "      <td>15</td>\n",
       "      <td>3</td>\n",
       "      <td>6</td>\n",
       "    </tr>\n",
       "  </tbody>\n",
       "</table>\n",
       "</div>"
      ],
      "text/plain": [
       "Vendedor    George  Pedro  Vagner\n",
       "Data                             \n",
       "2022-01-01      15      3       6"
      ]
     },
     "execution_count": 277,
     "metadata": {},
     "output_type": "execute_result"
    }
   ],
   "source": [
    "pd.pivot_table(df, index= 'Data', columns= 'Vendedor', values= 'Vendas', aggfunc='sum')"
   ]
  },
  {
   "cell_type": "markdown",
   "id": "de29cf1e",
   "metadata": {
    "heading_collapsed": true,
    "hidden": true
   },
   "source": [
    "### 2.5.3. Stack e unstack de dados"
   ]
  },
  {
   "cell_type": "markdown",
   "id": "0be57ddc",
   "metadata": {
    "hidden": true
   },
   "source": [
    "coleta de dados da internet"
   ]
  },
  {
   "cell_type": "code",
   "execution_count": 278,
   "id": "eb56f479",
   "metadata": {
    "ExecuteTime": {
     "end_time": "2022-05-19T12:10:55.478185Z",
     "start_time": "2022-05-19T12:10:55.073760Z"
    },
    "hidden": true
   },
   "outputs": [],
   "source": [
    "df = pd.read_csv('https://cdncontribute.geeksforgeeks.org/wp-content/uploads/nba.csv')"
   ]
  },
  {
   "cell_type": "code",
   "execution_count": 279,
   "id": "3620c925",
   "metadata": {
    "ExecuteTime": {
     "end_time": "2022-05-19T12:10:55.526168Z",
     "start_time": "2022-05-19T12:10:55.484190Z"
    },
    "hidden": true
   },
   "outputs": [
    {
     "data": {
      "text/html": [
       "<div>\n",
       "<style scoped>\n",
       "    .dataframe tbody tr th:only-of-type {\n",
       "        vertical-align: middle;\n",
       "    }\n",
       "\n",
       "    .dataframe tbody tr th {\n",
       "        vertical-align: top;\n",
       "    }\n",
       "\n",
       "    .dataframe thead th {\n",
       "        text-align: right;\n",
       "    }\n",
       "</style>\n",
       "<table border=\"1\" class=\"dataframe\">\n",
       "  <thead>\n",
       "    <tr style=\"text-align: right;\">\n",
       "      <th></th>\n",
       "      <th>Name</th>\n",
       "      <th>Team</th>\n",
       "      <th>Number</th>\n",
       "      <th>Position</th>\n",
       "      <th>Age</th>\n",
       "      <th>Height</th>\n",
       "      <th>Weight</th>\n",
       "      <th>College</th>\n",
       "      <th>Salary</th>\n",
       "    </tr>\n",
       "  </thead>\n",
       "  <tbody>\n",
       "    <tr>\n",
       "      <th>0</th>\n",
       "      <td>Avery Bradley</td>\n",
       "      <td>Boston Celtics</td>\n",
       "      <td>0.0</td>\n",
       "      <td>PG</td>\n",
       "      <td>25.0</td>\n",
       "      <td>6-2</td>\n",
       "      <td>180.0</td>\n",
       "      <td>Texas</td>\n",
       "      <td>7730337.0</td>\n",
       "    </tr>\n",
       "    <tr>\n",
       "      <th>1</th>\n",
       "      <td>Jae Crowder</td>\n",
       "      <td>Boston Celtics</td>\n",
       "      <td>99.0</td>\n",
       "      <td>SF</td>\n",
       "      <td>25.0</td>\n",
       "      <td>6-6</td>\n",
       "      <td>235.0</td>\n",
       "      <td>Marquette</td>\n",
       "      <td>6796117.0</td>\n",
       "    </tr>\n",
       "    <tr>\n",
       "      <th>2</th>\n",
       "      <td>John Holland</td>\n",
       "      <td>Boston Celtics</td>\n",
       "      <td>30.0</td>\n",
       "      <td>SG</td>\n",
       "      <td>27.0</td>\n",
       "      <td>6-5</td>\n",
       "      <td>205.0</td>\n",
       "      <td>Boston University</td>\n",
       "      <td>NaN</td>\n",
       "    </tr>\n",
       "    <tr>\n",
       "      <th>3</th>\n",
       "      <td>R.J. Hunter</td>\n",
       "      <td>Boston Celtics</td>\n",
       "      <td>28.0</td>\n",
       "      <td>SG</td>\n",
       "      <td>22.0</td>\n",
       "      <td>6-5</td>\n",
       "      <td>185.0</td>\n",
       "      <td>Georgia State</td>\n",
       "      <td>1148640.0</td>\n",
       "    </tr>\n",
       "  </tbody>\n",
       "</table>\n",
       "</div>"
      ],
      "text/plain": [
       "            Name            Team  Number Position   Age Height  Weight  \\\n",
       "0  Avery Bradley  Boston Celtics     0.0       PG  25.0    6-2   180.0   \n",
       "1    Jae Crowder  Boston Celtics    99.0       SF  25.0    6-6   235.0   \n",
       "2   John Holland  Boston Celtics    30.0       SG  27.0    6-5   205.0   \n",
       "3    R.J. Hunter  Boston Celtics    28.0       SG  22.0    6-5   185.0   \n",
       "\n",
       "             College     Salary  \n",
       "0              Texas  7730337.0  \n",
       "1          Marquette  6796117.0  \n",
       "2  Boston University        NaN  \n",
       "3      Georgia State  1148640.0  "
      ]
     },
     "execution_count": 279,
     "metadata": {},
     "output_type": "execute_result"
    }
   ],
   "source": [
    "df.head(4)"
   ]
  },
  {
   "cell_type": "code",
   "execution_count": 280,
   "id": "c5460ecf",
   "metadata": {
    "ExecuteTime": {
     "end_time": "2022-05-19T12:10:55.637242Z",
     "start_time": "2022-05-19T12:10:55.532160Z"
    },
    "hidden": true
   },
   "outputs": [
    {
     "data": {
      "text/plain": [
       "(458, 9)"
      ]
     },
     "execution_count": 280,
     "metadata": {},
     "output_type": "execute_result"
    }
   ],
   "source": [
    "df.shape"
   ]
  },
  {
   "cell_type": "code",
   "execution_count": 281,
   "id": "42e808b5",
   "metadata": {
    "ExecuteTime": {
     "end_time": "2022-05-19T12:10:55.710470Z",
     "start_time": "2022-05-19T12:10:55.650223Z"
    },
    "hidden": true
   },
   "outputs": [],
   "source": [
    "#Essa função empilha os dados em uma coluna\n",
    "\n",
    "empilhamento = df.stack()"
   ]
  },
  {
   "cell_type": "code",
   "execution_count": 282,
   "id": "b0e5f1cb",
   "metadata": {
    "ExecuteTime": {
     "end_time": "2022-05-19T12:10:55.820044Z",
     "start_time": "2022-05-19T12:10:55.716420Z"
    },
    "hidden": true
   },
   "outputs": [
    {
     "data": {
      "text/plain": [
       "0  Name         Avery Bradley\n",
       "   Team        Boston Celtics\n",
       "   Number                 0.0\n",
       "   Position                PG\n",
       "   Age                   25.0\n",
       "   Height                 6-2\n",
       "   Weight               180.0\n",
       "   College              Texas\n",
       "   Salary           7730337.0\n",
       "1  Name           Jae Crowder\n",
       "   Team        Boston Celtics\n",
       "   Number                99.0\n",
       "   Position                SF\n",
       "   Age                   25.0\n",
       "   Height                 6-6\n",
       "   Weight               235.0\n",
       "   College          Marquette\n",
       "   Salary           6796117.0\n",
       "2  Name          John Holland\n",
       "   Team        Boston Celtics\n",
       "dtype: object"
      ]
     },
     "execution_count": 282,
     "metadata": {},
     "output_type": "execute_result"
    }
   ],
   "source": [
    "empilhamento.head(20)"
   ]
  },
  {
   "cell_type": "code",
   "execution_count": 283,
   "id": "dd7fc543",
   "metadata": {
    "ExecuteTime": {
     "end_time": "2022-05-19T12:10:55.945776Z",
     "start_time": "2022-05-19T12:10:55.826037Z"
    },
    "hidden": true
   },
   "outputs": [
    {
     "data": {
      "text/html": [
       "<div>\n",
       "<style scoped>\n",
       "    .dataframe tbody tr th:only-of-type {\n",
       "        vertical-align: middle;\n",
       "    }\n",
       "\n",
       "    .dataframe tbody tr th {\n",
       "        vertical-align: top;\n",
       "    }\n",
       "\n",
       "    .dataframe thead th {\n",
       "        text-align: right;\n",
       "    }\n",
       "</style>\n",
       "<table border=\"1\" class=\"dataframe\">\n",
       "  <thead>\n",
       "    <tr style=\"text-align: right;\">\n",
       "      <th></th>\n",
       "      <th>Name</th>\n",
       "      <th>Team</th>\n",
       "      <th>Number</th>\n",
       "      <th>Position</th>\n",
       "      <th>Age</th>\n",
       "      <th>Height</th>\n",
       "      <th>Weight</th>\n",
       "      <th>College</th>\n",
       "      <th>Salary</th>\n",
       "    </tr>\n",
       "  </thead>\n",
       "  <tbody>\n",
       "    <tr>\n",
       "      <th>0</th>\n",
       "      <td>Avery Bradley</td>\n",
       "      <td>Boston Celtics</td>\n",
       "      <td>0.0</td>\n",
       "      <td>PG</td>\n",
       "      <td>25.0</td>\n",
       "      <td>6-2</td>\n",
       "      <td>180.0</td>\n",
       "      <td>Texas</td>\n",
       "      <td>7730337.0</td>\n",
       "    </tr>\n",
       "    <tr>\n",
       "      <th>1</th>\n",
       "      <td>Jae Crowder</td>\n",
       "      <td>Boston Celtics</td>\n",
       "      <td>99.0</td>\n",
       "      <td>SF</td>\n",
       "      <td>25.0</td>\n",
       "      <td>6-6</td>\n",
       "      <td>235.0</td>\n",
       "      <td>Marquette</td>\n",
       "      <td>6796117.0</td>\n",
       "    </tr>\n",
       "    <tr>\n",
       "      <th>2</th>\n",
       "      <td>John Holland</td>\n",
       "      <td>Boston Celtics</td>\n",
       "      <td>30.0</td>\n",
       "      <td>SG</td>\n",
       "      <td>27.0</td>\n",
       "      <td>6-5</td>\n",
       "      <td>205.0</td>\n",
       "      <td>Boston University</td>\n",
       "      <td>NaN</td>\n",
       "    </tr>\n",
       "    <tr>\n",
       "      <th>3</th>\n",
       "      <td>R.J. Hunter</td>\n",
       "      <td>Boston Celtics</td>\n",
       "      <td>28.0</td>\n",
       "      <td>SG</td>\n",
       "      <td>22.0</td>\n",
       "      <td>6-5</td>\n",
       "      <td>185.0</td>\n",
       "      <td>Georgia State</td>\n",
       "      <td>1148640.0</td>\n",
       "    </tr>\n",
       "    <tr>\n",
       "      <th>4</th>\n",
       "      <td>Jonas Jerebko</td>\n",
       "      <td>Boston Celtics</td>\n",
       "      <td>8.0</td>\n",
       "      <td>PF</td>\n",
       "      <td>29.0</td>\n",
       "      <td>6-10</td>\n",
       "      <td>231.0</td>\n",
       "      <td>NaN</td>\n",
       "      <td>5000000.0</td>\n",
       "    </tr>\n",
       "    <tr>\n",
       "      <th>...</th>\n",
       "      <td>...</td>\n",
       "      <td>...</td>\n",
       "      <td>...</td>\n",
       "      <td>...</td>\n",
       "      <td>...</td>\n",
       "      <td>...</td>\n",
       "      <td>...</td>\n",
       "      <td>...</td>\n",
       "      <td>...</td>\n",
       "    </tr>\n",
       "    <tr>\n",
       "      <th>452</th>\n",
       "      <td>Trey Lyles</td>\n",
       "      <td>Utah Jazz</td>\n",
       "      <td>41.0</td>\n",
       "      <td>PF</td>\n",
       "      <td>20.0</td>\n",
       "      <td>6-10</td>\n",
       "      <td>234.0</td>\n",
       "      <td>Kentucky</td>\n",
       "      <td>2239800.0</td>\n",
       "    </tr>\n",
       "    <tr>\n",
       "      <th>453</th>\n",
       "      <td>Shelvin Mack</td>\n",
       "      <td>Utah Jazz</td>\n",
       "      <td>8.0</td>\n",
       "      <td>PG</td>\n",
       "      <td>26.0</td>\n",
       "      <td>6-3</td>\n",
       "      <td>203.0</td>\n",
       "      <td>Butler</td>\n",
       "      <td>2433333.0</td>\n",
       "    </tr>\n",
       "    <tr>\n",
       "      <th>454</th>\n",
       "      <td>Raul Neto</td>\n",
       "      <td>Utah Jazz</td>\n",
       "      <td>25.0</td>\n",
       "      <td>PG</td>\n",
       "      <td>24.0</td>\n",
       "      <td>6-1</td>\n",
       "      <td>179.0</td>\n",
       "      <td>NaN</td>\n",
       "      <td>900000.0</td>\n",
       "    </tr>\n",
       "    <tr>\n",
       "      <th>455</th>\n",
       "      <td>Tibor Pleiss</td>\n",
       "      <td>Utah Jazz</td>\n",
       "      <td>21.0</td>\n",
       "      <td>C</td>\n",
       "      <td>26.0</td>\n",
       "      <td>7-3</td>\n",
       "      <td>256.0</td>\n",
       "      <td>NaN</td>\n",
       "      <td>2900000.0</td>\n",
       "    </tr>\n",
       "    <tr>\n",
       "      <th>456</th>\n",
       "      <td>Jeff Withey</td>\n",
       "      <td>Utah Jazz</td>\n",
       "      <td>24.0</td>\n",
       "      <td>C</td>\n",
       "      <td>26.0</td>\n",
       "      <td>7-0</td>\n",
       "      <td>231.0</td>\n",
       "      <td>Kansas</td>\n",
       "      <td>947276.0</td>\n",
       "    </tr>\n",
       "  </tbody>\n",
       "</table>\n",
       "<p>457 rows × 9 columns</p>\n",
       "</div>"
      ],
      "text/plain": [
       "              Name            Team Number Position   Age Height Weight  \\\n",
       "0    Avery Bradley  Boston Celtics    0.0       PG  25.0    6-2  180.0   \n",
       "1      Jae Crowder  Boston Celtics   99.0       SF  25.0    6-6  235.0   \n",
       "2     John Holland  Boston Celtics   30.0       SG  27.0    6-5  205.0   \n",
       "3      R.J. Hunter  Boston Celtics   28.0       SG  22.0    6-5  185.0   \n",
       "4    Jonas Jerebko  Boston Celtics    8.0       PF  29.0   6-10  231.0   \n",
       "..             ...             ...    ...      ...   ...    ...    ...   \n",
       "452     Trey Lyles       Utah Jazz   41.0       PF  20.0   6-10  234.0   \n",
       "453   Shelvin Mack       Utah Jazz    8.0       PG  26.0    6-3  203.0   \n",
       "454      Raul Neto       Utah Jazz   25.0       PG  24.0    6-1  179.0   \n",
       "455   Tibor Pleiss       Utah Jazz   21.0        C  26.0    7-3  256.0   \n",
       "456    Jeff Withey       Utah Jazz   24.0        C  26.0    7-0  231.0   \n",
       "\n",
       "               College     Salary  \n",
       "0                Texas  7730337.0  \n",
       "1            Marquette  6796117.0  \n",
       "2    Boston University        NaN  \n",
       "3        Georgia State  1148640.0  \n",
       "4                  NaN  5000000.0  \n",
       "..                 ...        ...  \n",
       "452           Kentucky  2239800.0  \n",
       "453             Butler  2433333.0  \n",
       "454                NaN   900000.0  \n",
       "455                NaN  2900000.0  \n",
       "456             Kansas   947276.0  \n",
       "\n",
       "[457 rows x 9 columns]"
      ]
     },
     "execution_count": 283,
     "metadata": {},
     "output_type": "execute_result"
    }
   ],
   "source": [
    "# Essa função reverte o processo de empilhamento\n",
    "\n",
    "empilhamento.unstack()"
   ]
  },
  {
   "cell_type": "markdown",
   "id": "88669309",
   "metadata": {
    "heading_collapsed": true,
    "hidden": true
   },
   "source": [
    "### 2.5.4. Função melt"
   ]
  },
  {
   "cell_type": "code",
   "execution_count": 284,
   "id": "5dce22a9",
   "metadata": {
    "ExecuteTime": {
     "end_time": "2022-05-19T12:10:55.992691Z",
     "start_time": "2022-05-19T12:10:55.950771Z"
    },
    "hidden": true
   },
   "outputs": [],
   "source": [
    "df = pd.DataFrame({ 'A': {0: 'a', 1: 'b', 2: 'c'},\n",
    "                    'B': {0: 1, 1: 3, 2: 5,},\n",
    "                    'C': {0: 2, 1: 4, 2: 6}})"
   ]
  },
  {
   "cell_type": "code",
   "execution_count": 285,
   "id": "19905468",
   "metadata": {
    "ExecuteTime": {
     "end_time": "2022-05-19T12:10:56.133301Z",
     "start_time": "2022-05-19T12:10:55.995725Z"
    },
    "hidden": true
   },
   "outputs": [
    {
     "data": {
      "text/html": [
       "<div>\n",
       "<style scoped>\n",
       "    .dataframe tbody tr th:only-of-type {\n",
       "        vertical-align: middle;\n",
       "    }\n",
       "\n",
       "    .dataframe tbody tr th {\n",
       "        vertical-align: top;\n",
       "    }\n",
       "\n",
       "    .dataframe thead th {\n",
       "        text-align: right;\n",
       "    }\n",
       "</style>\n",
       "<table border=\"1\" class=\"dataframe\">\n",
       "  <thead>\n",
       "    <tr style=\"text-align: right;\">\n",
       "      <th></th>\n",
       "      <th>A</th>\n",
       "      <th>B</th>\n",
       "      <th>C</th>\n",
       "    </tr>\n",
       "  </thead>\n",
       "  <tbody>\n",
       "    <tr>\n",
       "      <th>0</th>\n",
       "      <td>a</td>\n",
       "      <td>1</td>\n",
       "      <td>2</td>\n",
       "    </tr>\n",
       "    <tr>\n",
       "      <th>1</th>\n",
       "      <td>b</td>\n",
       "      <td>3</td>\n",
       "      <td>4</td>\n",
       "    </tr>\n",
       "    <tr>\n",
       "      <th>2</th>\n",
       "      <td>c</td>\n",
       "      <td>5</td>\n",
       "      <td>6</td>\n",
       "    </tr>\n",
       "  </tbody>\n",
       "</table>\n",
       "</div>"
      ],
      "text/plain": [
       "   A  B  C\n",
       "0  a  1  2\n",
       "1  b  3  4\n",
       "2  c  5  6"
      ]
     },
     "execution_count": 285,
     "metadata": {},
     "output_type": "execute_result"
    }
   ],
   "source": [
    "df"
   ]
  },
  {
   "cell_type": "code",
   "execution_count": 286,
   "id": "3e2f47ed",
   "metadata": {
    "ExecuteTime": {
     "end_time": "2022-05-19T12:10:56.263653Z",
     "start_time": "2022-05-19T12:10:56.136295Z"
    },
    "hidden": true
   },
   "outputs": [
    {
     "data": {
      "text/html": [
       "<div>\n",
       "<style scoped>\n",
       "    .dataframe tbody tr th:only-of-type {\n",
       "        vertical-align: middle;\n",
       "    }\n",
       "\n",
       "    .dataframe tbody tr th {\n",
       "        vertical-align: top;\n",
       "    }\n",
       "\n",
       "    .dataframe thead th {\n",
       "        text-align: right;\n",
       "    }\n",
       "</style>\n",
       "<table border=\"1\" class=\"dataframe\">\n",
       "  <thead>\n",
       "    <tr style=\"text-align: right;\">\n",
       "      <th></th>\n",
       "      <th>A</th>\n",
       "      <th>variable</th>\n",
       "      <th>value</th>\n",
       "    </tr>\n",
       "  </thead>\n",
       "  <tbody>\n",
       "    <tr>\n",
       "      <th>0</th>\n",
       "      <td>a</td>\n",
       "      <td>B</td>\n",
       "      <td>1</td>\n",
       "    </tr>\n",
       "    <tr>\n",
       "      <th>1</th>\n",
       "      <td>b</td>\n",
       "      <td>B</td>\n",
       "      <td>3</td>\n",
       "    </tr>\n",
       "    <tr>\n",
       "      <th>2</th>\n",
       "      <td>c</td>\n",
       "      <td>B</td>\n",
       "      <td>5</td>\n",
       "    </tr>\n",
       "  </tbody>\n",
       "</table>\n",
       "</div>"
      ],
      "text/plain": [
       "   A variable  value\n",
       "0  a        B      1\n",
       "1  b        B      3\n",
       "2  c        B      5"
      ]
     },
     "execution_count": 286,
     "metadata": {},
     "output_type": "execute_result"
    }
   ],
   "source": [
    "pd.melt(df, id_vars=['A'], value_vars=['B'])"
   ]
  },
  {
   "cell_type": "code",
   "execution_count": 287,
   "id": "7c458673",
   "metadata": {
    "ExecuteTime": {
     "end_time": "2022-05-19T12:10:56.354599Z",
     "start_time": "2022-05-19T12:10:56.281640Z"
    },
    "hidden": true
   },
   "outputs": [
    {
     "data": {
      "text/html": [
       "<div>\n",
       "<style scoped>\n",
       "    .dataframe tbody tr th:only-of-type {\n",
       "        vertical-align: middle;\n",
       "    }\n",
       "\n",
       "    .dataframe tbody tr th {\n",
       "        vertical-align: top;\n",
       "    }\n",
       "\n",
       "    .dataframe thead th {\n",
       "        text-align: right;\n",
       "    }\n",
       "</style>\n",
       "<table border=\"1\" class=\"dataframe\">\n",
       "  <thead>\n",
       "    <tr style=\"text-align: right;\">\n",
       "      <th></th>\n",
       "      <th>A</th>\n",
       "      <th>variable</th>\n",
       "      <th>value</th>\n",
       "    </tr>\n",
       "  </thead>\n",
       "  <tbody>\n",
       "    <tr>\n",
       "      <th>0</th>\n",
       "      <td>a</td>\n",
       "      <td>B</td>\n",
       "      <td>1</td>\n",
       "    </tr>\n",
       "    <tr>\n",
       "      <th>1</th>\n",
       "      <td>b</td>\n",
       "      <td>B</td>\n",
       "      <td>3</td>\n",
       "    </tr>\n",
       "    <tr>\n",
       "      <th>2</th>\n",
       "      <td>c</td>\n",
       "      <td>B</td>\n",
       "      <td>5</td>\n",
       "    </tr>\n",
       "    <tr>\n",
       "      <th>3</th>\n",
       "      <td>a</td>\n",
       "      <td>C</td>\n",
       "      <td>2</td>\n",
       "    </tr>\n",
       "    <tr>\n",
       "      <th>4</th>\n",
       "      <td>b</td>\n",
       "      <td>C</td>\n",
       "      <td>4</td>\n",
       "    </tr>\n",
       "    <tr>\n",
       "      <th>5</th>\n",
       "      <td>c</td>\n",
       "      <td>C</td>\n",
       "      <td>6</td>\n",
       "    </tr>\n",
       "  </tbody>\n",
       "</table>\n",
       "</div>"
      ],
      "text/plain": [
       "   A variable  value\n",
       "0  a        B      1\n",
       "1  b        B      3\n",
       "2  c        B      5\n",
       "3  a        C      2\n",
       "4  b        C      4\n",
       "5  c        C      6"
      ]
     },
     "execution_count": 287,
     "metadata": {},
     "output_type": "execute_result"
    }
   ],
   "source": [
    "pd.melt(df, id_vars=['A'], value_vars=['B', 'C'])"
   ]
  },
  {
   "cell_type": "code",
   "execution_count": 288,
   "id": "e83f1f83",
   "metadata": {
    "ExecuteTime": {
     "end_time": "2022-05-19T12:10:56.466155Z",
     "start_time": "2022-05-19T12:10:56.358594Z"
    },
    "hidden": true
   },
   "outputs": [
    {
     "data": {
      "text/html": [
       "<div>\n",
       "<style scoped>\n",
       "    .dataframe tbody tr th:only-of-type {\n",
       "        vertical-align: middle;\n",
       "    }\n",
       "\n",
       "    .dataframe tbody tr th {\n",
       "        vertical-align: top;\n",
       "    }\n",
       "\n",
       "    .dataframe thead th {\n",
       "        text-align: right;\n",
       "    }\n",
       "</style>\n",
       "<table border=\"1\" class=\"dataframe\">\n",
       "  <thead>\n",
       "    <tr style=\"text-align: right;\">\n",
       "      <th></th>\n",
       "      <th>A</th>\n",
       "      <th>nome da var</th>\n",
       "      <th>valor da var</th>\n",
       "    </tr>\n",
       "  </thead>\n",
       "  <tbody>\n",
       "    <tr>\n",
       "      <th>0</th>\n",
       "      <td>a</td>\n",
       "      <td>B</td>\n",
       "      <td>1</td>\n",
       "    </tr>\n",
       "    <tr>\n",
       "      <th>1</th>\n",
       "      <td>b</td>\n",
       "      <td>B</td>\n",
       "      <td>3</td>\n",
       "    </tr>\n",
       "    <tr>\n",
       "      <th>2</th>\n",
       "      <td>c</td>\n",
       "      <td>B</td>\n",
       "      <td>5</td>\n",
       "    </tr>\n",
       "    <tr>\n",
       "      <th>3</th>\n",
       "      <td>a</td>\n",
       "      <td>C</td>\n",
       "      <td>2</td>\n",
       "    </tr>\n",
       "    <tr>\n",
       "      <th>4</th>\n",
       "      <td>b</td>\n",
       "      <td>C</td>\n",
       "      <td>4</td>\n",
       "    </tr>\n",
       "    <tr>\n",
       "      <th>5</th>\n",
       "      <td>c</td>\n",
       "      <td>C</td>\n",
       "      <td>6</td>\n",
       "    </tr>\n",
       "  </tbody>\n",
       "</table>\n",
       "</div>"
      ],
      "text/plain": [
       "   A nome da var  valor da var\n",
       "0  a           B             1\n",
       "1  b           B             3\n",
       "2  c           B             5\n",
       "3  a           C             2\n",
       "4  b           C             4\n",
       "5  c           C             6"
      ]
     },
     "execution_count": 288,
     "metadata": {},
     "output_type": "execute_result"
    }
   ],
   "source": [
    "pd.melt(df, id_vars=['A'], value_vars=['B', 'C'], var_name='nome da var', value_name='valor da var')"
   ]
  },
  {
   "cell_type": "code",
   "execution_count": 289,
   "id": "f5a76a48",
   "metadata": {
    "ExecuteTime": {
     "end_time": "2022-05-19T12:10:56.550132Z",
     "start_time": "2022-05-19T12:10:56.470138Z"
    },
    "hidden": true
   },
   "outputs": [
    {
     "name": "stdout",
     "output_type": "stream",
     "text": [
      "{'Localização': ['cidadeA', 'cidadeB'], 'Temperatura': ['prevista', 'atual'], 'Set-2021': [30, 32], 'Out-2021': [45, 43], 'Nov-2021': [24, 22]}\n"
     ]
    }
   ],
   "source": [
    "data = {\n",
    "    'Localização' : ['cidadeA', 'cidadeB'], \n",
    "    'Temperatura' : ['prevista', 'atual'],\n",
    "    'Set-2021':     [30, 32],\n",
    "    'Out-2021':     [45, 43],\n",
    "    'Nov-2021':     [24, 22]\n",
    "}\n",
    "\n",
    "print(data)"
   ]
  },
  {
   "cell_type": "code",
   "execution_count": 290,
   "id": "64007b46",
   "metadata": {
    "ExecuteTime": {
     "end_time": "2022-05-19T12:10:56.659987Z",
     "start_time": "2022-05-19T12:10:56.555125Z"
    },
    "hidden": true
   },
   "outputs": [
    {
     "data": {
      "text/html": [
       "<div>\n",
       "<style scoped>\n",
       "    .dataframe tbody tr th:only-of-type {\n",
       "        vertical-align: middle;\n",
       "    }\n",
       "\n",
       "    .dataframe tbody tr th {\n",
       "        vertical-align: top;\n",
       "    }\n",
       "\n",
       "    .dataframe thead th {\n",
       "        text-align: right;\n",
       "    }\n",
       "</style>\n",
       "<table border=\"1\" class=\"dataframe\">\n",
       "  <thead>\n",
       "    <tr style=\"text-align: right;\">\n",
       "      <th></th>\n",
       "      <th>Localização</th>\n",
       "      <th>Temperatura</th>\n",
       "      <th>Set-2021</th>\n",
       "      <th>Out-2021</th>\n",
       "      <th>Nov-2021</th>\n",
       "    </tr>\n",
       "  </thead>\n",
       "  <tbody>\n",
       "    <tr>\n",
       "      <th>0</th>\n",
       "      <td>cidadeA</td>\n",
       "      <td>prevista</td>\n",
       "      <td>30</td>\n",
       "      <td>45</td>\n",
       "      <td>24</td>\n",
       "    </tr>\n",
       "    <tr>\n",
       "      <th>1</th>\n",
       "      <td>cidadeB</td>\n",
       "      <td>atual</td>\n",
       "      <td>32</td>\n",
       "      <td>43</td>\n",
       "      <td>22</td>\n",
       "    </tr>\n",
       "  </tbody>\n",
       "</table>\n",
       "</div>"
      ],
      "text/plain": [
       "  Localização Temperatura  Set-2021  Out-2021  Nov-2021\n",
       "0     cidadeA    prevista        30        45        24\n",
       "1     cidadeB       atual        32        43        22"
      ]
     },
     "execution_count": 290,
     "metadata": {},
     "output_type": "execute_result"
    }
   ],
   "source": [
    "df = pd.DataFrame(data, columns = ['Localização', 'Temperatura', 'Set-2021', 'Out-2021', 'Nov-2021'])\n",
    "df"
   ]
  },
  {
   "cell_type": "code",
   "execution_count": 291,
   "id": "04565261",
   "metadata": {
    "ExecuteTime": {
     "end_time": "2022-05-19T12:10:56.786698Z",
     "start_time": "2022-05-19T12:10:56.664979Z"
    },
    "hidden": true
   },
   "outputs": [
    {
     "data": {
      "text/html": [
       "<div>\n",
       "<style scoped>\n",
       "    .dataframe tbody tr th:only-of-type {\n",
       "        vertical-align: middle;\n",
       "    }\n",
       "\n",
       "    .dataframe tbody tr th {\n",
       "        vertical-align: top;\n",
       "    }\n",
       "\n",
       "    .dataframe thead th {\n",
       "        text-align: right;\n",
       "    }\n",
       "</style>\n",
       "<table border=\"1\" class=\"dataframe\">\n",
       "  <thead>\n",
       "    <tr style=\"text-align: right;\">\n",
       "      <th></th>\n",
       "      <th>Localização</th>\n",
       "      <th>Temperatura</th>\n",
       "      <th>Data</th>\n",
       "      <th>Valor</th>\n",
       "    </tr>\n",
       "  </thead>\n",
       "  <tbody>\n",
       "    <tr>\n",
       "      <th>0</th>\n",
       "      <td>cidadeA</td>\n",
       "      <td>prevista</td>\n",
       "      <td>Set-2021</td>\n",
       "      <td>30</td>\n",
       "    </tr>\n",
       "    <tr>\n",
       "      <th>1</th>\n",
       "      <td>cidadeB</td>\n",
       "      <td>atual</td>\n",
       "      <td>Set-2021</td>\n",
       "      <td>32</td>\n",
       "    </tr>\n",
       "    <tr>\n",
       "      <th>2</th>\n",
       "      <td>cidadeA</td>\n",
       "      <td>prevista</td>\n",
       "      <td>Out-2021</td>\n",
       "      <td>45</td>\n",
       "    </tr>\n",
       "    <tr>\n",
       "      <th>3</th>\n",
       "      <td>cidadeB</td>\n",
       "      <td>atual</td>\n",
       "      <td>Out-2021</td>\n",
       "      <td>43</td>\n",
       "    </tr>\n",
       "    <tr>\n",
       "      <th>4</th>\n",
       "      <td>cidadeA</td>\n",
       "      <td>prevista</td>\n",
       "      <td>Nov-2021</td>\n",
       "      <td>24</td>\n",
       "    </tr>\n",
       "    <tr>\n",
       "      <th>5</th>\n",
       "      <td>cidadeB</td>\n",
       "      <td>atual</td>\n",
       "      <td>Nov-2021</td>\n",
       "      <td>22</td>\n",
       "    </tr>\n",
       "  </tbody>\n",
       "</table>\n",
       "</div>"
      ],
      "text/plain": [
       "  Localização Temperatura      Data  Valor\n",
       "0     cidadeA    prevista  Set-2021     30\n",
       "1     cidadeB       atual  Set-2021     32\n",
       "2     cidadeA    prevista  Out-2021     45\n",
       "3     cidadeB       atual  Out-2021     43\n",
       "4     cidadeA    prevista  Nov-2021     24\n",
       "5     cidadeB       atual  Nov-2021     22"
      ]
     },
     "execution_count": 291,
     "metadata": {},
     "output_type": "execute_result"
    }
   ],
   "source": [
    "df2 = pd.melt(df, id_vars=['Localização', 'Temperatura'], var_name='Data', value_name='Valor')\n",
    "\n",
    "df2"
   ]
  },
  {
   "cell_type": "markdown",
   "id": "590dd682",
   "metadata": {
    "heading_collapsed": true
   },
   "source": [
    "## 2.6. Seleção de linhas e colunas"
   ]
  },
  {
   "cell_type": "code",
   "execution_count": 292,
   "id": "50b6b747",
   "metadata": {
    "ExecuteTime": {
     "end_time": "2022-05-19T12:10:56.881365Z",
     "start_time": "2022-05-19T12:10:56.794688Z"
    },
    "hidden": true
   },
   "outputs": [],
   "source": [
    "datas = pd.date_range('20210101', periods = 600)\n",
    "\n",
    "df = pd.DataFrame(np.random.rand(600, 5), index = datas, columns = list('ABCDE'))"
   ]
  },
  {
   "cell_type": "code",
   "execution_count": 293,
   "id": "fcc0c30a",
   "metadata": {
    "ExecuteTime": {
     "end_time": "2022-05-19T12:10:56.990865Z",
     "start_time": "2022-05-19T12:10:56.893319Z"
    },
    "hidden": true
   },
   "outputs": [
    {
     "data": {
      "text/html": [
       "<div>\n",
       "<style scoped>\n",
       "    .dataframe tbody tr th:only-of-type {\n",
       "        vertical-align: middle;\n",
       "    }\n",
       "\n",
       "    .dataframe tbody tr th {\n",
       "        vertical-align: top;\n",
       "    }\n",
       "\n",
       "    .dataframe thead th {\n",
       "        text-align: right;\n",
       "    }\n",
       "</style>\n",
       "<table border=\"1\" class=\"dataframe\">\n",
       "  <thead>\n",
       "    <tr style=\"text-align: right;\">\n",
       "      <th></th>\n",
       "      <th>A</th>\n",
       "      <th>B</th>\n",
       "      <th>C</th>\n",
       "      <th>D</th>\n",
       "      <th>E</th>\n",
       "    </tr>\n",
       "  </thead>\n",
       "  <tbody>\n",
       "    <tr>\n",
       "      <th>2021-01-01</th>\n",
       "      <td>0.813059</td>\n",
       "      <td>0.391156</td>\n",
       "      <td>0.141290</td>\n",
       "      <td>0.823228</td>\n",
       "      <td>0.426837</td>\n",
       "    </tr>\n",
       "    <tr>\n",
       "      <th>2021-01-02</th>\n",
       "      <td>0.004433</td>\n",
       "      <td>0.586118</td>\n",
       "      <td>0.584225</td>\n",
       "      <td>0.881970</td>\n",
       "      <td>0.243047</td>\n",
       "    </tr>\n",
       "    <tr>\n",
       "      <th>2021-01-03</th>\n",
       "      <td>0.755781</td>\n",
       "      <td>0.355975</td>\n",
       "      <td>0.713554</td>\n",
       "      <td>0.223132</td>\n",
       "      <td>0.203117</td>\n",
       "    </tr>\n",
       "    <tr>\n",
       "      <th>2021-01-04</th>\n",
       "      <td>0.189245</td>\n",
       "      <td>0.479020</td>\n",
       "      <td>0.461784</td>\n",
       "      <td>0.774179</td>\n",
       "      <td>0.181790</td>\n",
       "    </tr>\n",
       "  </tbody>\n",
       "</table>\n",
       "</div>"
      ],
      "text/plain": [
       "                   A         B         C         D         E\n",
       "2021-01-01  0.813059  0.391156  0.141290  0.823228  0.426837\n",
       "2021-01-02  0.004433  0.586118  0.584225  0.881970  0.243047\n",
       "2021-01-03  0.755781  0.355975  0.713554  0.223132  0.203117\n",
       "2021-01-04  0.189245  0.479020  0.461784  0.774179  0.181790"
      ]
     },
     "execution_count": 293,
     "metadata": {},
     "output_type": "execute_result"
    }
   ],
   "source": [
    "df.head(4)"
   ]
  },
  {
   "cell_type": "code",
   "execution_count": 294,
   "id": "c8e76031",
   "metadata": {
    "ExecuteTime": {
     "end_time": "2022-05-19T12:10:57.085126Z",
     "start_time": "2022-05-19T12:10:56.995858Z"
    },
    "hidden": true
   },
   "outputs": [
    {
     "data": {
      "text/plain": [
       "2022-08-19    0.550409\n",
       "2022-08-20    0.485610\n",
       "2022-08-21    0.058390\n",
       "2022-08-22    0.771874\n",
       "2022-08-23    0.605517\n",
       "Freq: D, Name: D, dtype: float64"
      ]
     },
     "execution_count": 294,
     "metadata": {},
     "output_type": "execute_result"
    }
   ],
   "source": [
    "df['D'].tail(5)"
   ]
  },
  {
   "cell_type": "code",
   "execution_count": 295,
   "id": "b48869e1",
   "metadata": {
    "ExecuteTime": {
     "end_time": "2022-05-19T12:10:57.194898Z",
     "start_time": "2022-05-19T12:10:57.098091Z"
    },
    "hidden": true
   },
   "outputs": [
    {
     "data": {
      "text/html": [
       "<div>\n",
       "<style scoped>\n",
       "    .dataframe tbody tr th:only-of-type {\n",
       "        vertical-align: middle;\n",
       "    }\n",
       "\n",
       "    .dataframe tbody tr th {\n",
       "        vertical-align: top;\n",
       "    }\n",
       "\n",
       "    .dataframe thead th {\n",
       "        text-align: right;\n",
       "    }\n",
       "</style>\n",
       "<table border=\"1\" class=\"dataframe\">\n",
       "  <thead>\n",
       "    <tr style=\"text-align: right;\">\n",
       "      <th></th>\n",
       "      <th>A</th>\n",
       "      <th>B</th>\n",
       "      <th>C</th>\n",
       "      <th>D</th>\n",
       "      <th>E</th>\n",
       "    </tr>\n",
       "  </thead>\n",
       "  <tbody>\n",
       "    <tr>\n",
       "      <th>2021-01-02</th>\n",
       "      <td>0.004433</td>\n",
       "      <td>0.586118</td>\n",
       "      <td>0.584225</td>\n",
       "      <td>0.881970</td>\n",
       "      <td>0.243047</td>\n",
       "    </tr>\n",
       "    <tr>\n",
       "      <th>2021-01-03</th>\n",
       "      <td>0.755781</td>\n",
       "      <td>0.355975</td>\n",
       "      <td>0.713554</td>\n",
       "      <td>0.223132</td>\n",
       "      <td>0.203117</td>\n",
       "    </tr>\n",
       "    <tr>\n",
       "      <th>2021-01-04</th>\n",
       "      <td>0.189245</td>\n",
       "      <td>0.479020</td>\n",
       "      <td>0.461784</td>\n",
       "      <td>0.774179</td>\n",
       "      <td>0.181790</td>\n",
       "    </tr>\n",
       "    <tr>\n",
       "      <th>2021-01-05</th>\n",
       "      <td>0.961061</td>\n",
       "      <td>0.749511</td>\n",
       "      <td>0.348490</td>\n",
       "      <td>0.577686</td>\n",
       "      <td>0.442742</td>\n",
       "    </tr>\n",
       "  </tbody>\n",
       "</table>\n",
       "</div>"
      ],
      "text/plain": [
       "                   A         B         C         D         E\n",
       "2021-01-02  0.004433  0.586118  0.584225  0.881970  0.243047\n",
       "2021-01-03  0.755781  0.355975  0.713554  0.223132  0.203117\n",
       "2021-01-04  0.189245  0.479020  0.461784  0.774179  0.181790\n",
       "2021-01-05  0.961061  0.749511  0.348490  0.577686  0.442742"
      ]
     },
     "execution_count": 295,
     "metadata": {},
     "output_type": "execute_result"
    }
   ],
   "source": [
    "df[1 : 5]"
   ]
  },
  {
   "cell_type": "code",
   "execution_count": 296,
   "id": "bc8c2979",
   "metadata": {
    "ExecuteTime": {
     "end_time": "2022-05-19T12:10:57.288366Z",
     "start_time": "2022-05-19T12:10:57.201859Z"
    },
    "hidden": true
   },
   "outputs": [
    {
     "data": {
      "text/html": [
       "<div>\n",
       "<style scoped>\n",
       "    .dataframe tbody tr th:only-of-type {\n",
       "        vertical-align: middle;\n",
       "    }\n",
       "\n",
       "    .dataframe tbody tr th {\n",
       "        vertical-align: top;\n",
       "    }\n",
       "\n",
       "    .dataframe thead th {\n",
       "        text-align: right;\n",
       "    }\n",
       "</style>\n",
       "<table border=\"1\" class=\"dataframe\">\n",
       "  <thead>\n",
       "    <tr style=\"text-align: right;\">\n",
       "      <th></th>\n",
       "      <th>B</th>\n",
       "      <th>C</th>\n",
       "      <th>D</th>\n",
       "    </tr>\n",
       "  </thead>\n",
       "  <tbody>\n",
       "    <tr>\n",
       "      <th>2021-01-01</th>\n",
       "      <td>0.391156</td>\n",
       "      <td>0.141290</td>\n",
       "      <td>0.823228</td>\n",
       "    </tr>\n",
       "    <tr>\n",
       "      <th>2021-01-02</th>\n",
       "      <td>0.586118</td>\n",
       "      <td>0.584225</td>\n",
       "      <td>0.881970</td>\n",
       "    </tr>\n",
       "    <tr>\n",
       "      <th>2021-01-03</th>\n",
       "      <td>0.355975</td>\n",
       "      <td>0.713554</td>\n",
       "      <td>0.223132</td>\n",
       "    </tr>\n",
       "    <tr>\n",
       "      <th>2021-01-04</th>\n",
       "      <td>0.479020</td>\n",
       "      <td>0.461784</td>\n",
       "      <td>0.774179</td>\n",
       "    </tr>\n",
       "    <tr>\n",
       "      <th>2021-01-05</th>\n",
       "      <td>0.749511</td>\n",
       "      <td>0.348490</td>\n",
       "      <td>0.577686</td>\n",
       "    </tr>\n",
       "    <tr>\n",
       "      <th>...</th>\n",
       "      <td>...</td>\n",
       "      <td>...</td>\n",
       "      <td>...</td>\n",
       "    </tr>\n",
       "    <tr>\n",
       "      <th>2022-08-19</th>\n",
       "      <td>0.338349</td>\n",
       "      <td>0.630637</td>\n",
       "      <td>0.550409</td>\n",
       "    </tr>\n",
       "    <tr>\n",
       "      <th>2022-08-20</th>\n",
       "      <td>0.526239</td>\n",
       "      <td>0.865074</td>\n",
       "      <td>0.485610</td>\n",
       "    </tr>\n",
       "    <tr>\n",
       "      <th>2022-08-21</th>\n",
       "      <td>0.227856</td>\n",
       "      <td>0.443159</td>\n",
       "      <td>0.058390</td>\n",
       "    </tr>\n",
       "    <tr>\n",
       "      <th>2022-08-22</th>\n",
       "      <td>0.554607</td>\n",
       "      <td>0.814672</td>\n",
       "      <td>0.771874</td>\n",
       "    </tr>\n",
       "    <tr>\n",
       "      <th>2022-08-23</th>\n",
       "      <td>0.734841</td>\n",
       "      <td>0.453818</td>\n",
       "      <td>0.605517</td>\n",
       "    </tr>\n",
       "  </tbody>\n",
       "</table>\n",
       "<p>600 rows × 3 columns</p>\n",
       "</div>"
      ],
      "text/plain": [
       "                   B         C         D\n",
       "2021-01-01  0.391156  0.141290  0.823228\n",
       "2021-01-02  0.586118  0.584225  0.881970\n",
       "2021-01-03  0.355975  0.713554  0.223132\n",
       "2021-01-04  0.479020  0.461784  0.774179\n",
       "2021-01-05  0.749511  0.348490  0.577686\n",
       "...              ...       ...       ...\n",
       "2022-08-19  0.338349  0.630637  0.550409\n",
       "2022-08-20  0.526239  0.865074  0.485610\n",
       "2022-08-21  0.227856  0.443159  0.058390\n",
       "2022-08-22  0.554607  0.814672  0.771874\n",
       "2022-08-23  0.734841  0.453818  0.605517\n",
       "\n",
       "[600 rows x 3 columns]"
      ]
     },
     "execution_count": 296,
     "metadata": {},
     "output_type": "execute_result"
    }
   ],
   "source": [
    "df.loc[:, ['B', 'C', 'D']]"
   ]
  },
  {
   "cell_type": "markdown",
   "id": "a45f4cb9",
   "metadata": {
    "hidden": true
   },
   "source": [
    "**Filtragem do intervalo entre as datas especificadas e das colunas A e C**"
   ]
  },
  {
   "cell_type": "code",
   "execution_count": 297,
   "id": "19f47715",
   "metadata": {
    "ExecuteTime": {
     "end_time": "2022-05-19T12:10:57.385641Z",
     "start_time": "2022-05-19T12:10:57.298352Z"
    },
    "hidden": true,
    "scrolled": true
   },
   "outputs": [
    {
     "data": {
      "text/html": [
       "<div>\n",
       "<style scoped>\n",
       "    .dataframe tbody tr th:only-of-type {\n",
       "        vertical-align: middle;\n",
       "    }\n",
       "\n",
       "    .dataframe tbody tr th {\n",
       "        vertical-align: top;\n",
       "    }\n",
       "\n",
       "    .dataframe thead th {\n",
       "        text-align: right;\n",
       "    }\n",
       "</style>\n",
       "<table border=\"1\" class=\"dataframe\">\n",
       "  <thead>\n",
       "    <tr style=\"text-align: right;\">\n",
       "      <th></th>\n",
       "      <th>A</th>\n",
       "      <th>C</th>\n",
       "    </tr>\n",
       "  </thead>\n",
       "  <tbody>\n",
       "    <tr>\n",
       "      <th>2022-01-01</th>\n",
       "      <td>0.606206</td>\n",
       "      <td>0.464097</td>\n",
       "    </tr>\n",
       "    <tr>\n",
       "      <th>2022-01-02</th>\n",
       "      <td>0.732715</td>\n",
       "      <td>0.525209</td>\n",
       "    </tr>\n",
       "    <tr>\n",
       "      <th>2022-01-03</th>\n",
       "      <td>0.323550</td>\n",
       "      <td>0.870497</td>\n",
       "    </tr>\n",
       "    <tr>\n",
       "      <th>2022-01-04</th>\n",
       "      <td>0.924413</td>\n",
       "      <td>0.115062</td>\n",
       "    </tr>\n",
       "    <tr>\n",
       "      <th>2022-01-05</th>\n",
       "      <td>0.064782</td>\n",
       "      <td>0.585811</td>\n",
       "    </tr>\n",
       "  </tbody>\n",
       "</table>\n",
       "</div>"
      ],
      "text/plain": [
       "                   A         C\n",
       "2022-01-01  0.606206  0.464097\n",
       "2022-01-02  0.732715  0.525209\n",
       "2022-01-03  0.323550  0.870497\n",
       "2022-01-04  0.924413  0.115062\n",
       "2022-01-05  0.064782  0.585811"
      ]
     },
     "execution_count": 297,
     "metadata": {},
     "output_type": "execute_result"
    }
   ],
   "source": [
    "df.loc['20220101' : '20220323', ['A', 'C']].head(5)"
   ]
  },
  {
   "cell_type": "markdown",
   "id": "9450ad77",
   "metadata": {
    "hidden": true
   },
   "source": [
    "**Filtragem de todas as colunas da linha 1**"
   ]
  },
  {
   "cell_type": "code",
   "execution_count": 298,
   "id": "a66ff12e",
   "metadata": {
    "ExecuteTime": {
     "end_time": "2022-05-19T12:10:57.495021Z",
     "start_time": "2022-05-19T12:10:57.392637Z"
    },
    "hidden": true,
    "scrolled": true
   },
   "outputs": [
    {
     "data": {
      "text/plain": [
       "A    0.004433\n",
       "B    0.586118\n",
       "C    0.584225\n",
       "D    0.881970\n",
       "E    0.243047\n",
       "Name: 2021-01-02 00:00:00, dtype: float64"
      ]
     },
     "execution_count": 298,
     "metadata": {},
     "output_type": "execute_result"
    }
   ],
   "source": [
    "df.iloc[1]"
   ]
  },
  {
   "cell_type": "markdown",
   "id": "51bf6816",
   "metadata": {
    "hidden": true
   },
   "source": [
    "**Filtragem de um intervalo específico entre linhas e colunas (1º intervalo linhas, 2º colunas)**"
   ]
  },
  {
   "cell_type": "code",
   "execution_count": 299,
   "id": "a32b4bfb",
   "metadata": {
    "ExecuteTime": {
     "end_time": "2022-05-19T12:10:57.590026Z",
     "start_time": "2022-05-19T12:10:57.508007Z"
    },
    "hidden": true,
    "scrolled": true
   },
   "outputs": [
    {
     "data": {
      "text/html": [
       "<div>\n",
       "<style scoped>\n",
       "    .dataframe tbody tr th:only-of-type {\n",
       "        vertical-align: middle;\n",
       "    }\n",
       "\n",
       "    .dataframe tbody tr th {\n",
       "        vertical-align: top;\n",
       "    }\n",
       "\n",
       "    .dataframe thead th {\n",
       "        text-align: right;\n",
       "    }\n",
       "</style>\n",
       "<table border=\"1\" class=\"dataframe\">\n",
       "  <thead>\n",
       "    <tr style=\"text-align: right;\">\n",
       "      <th></th>\n",
       "      <th>B</th>\n",
       "      <th>C</th>\n",
       "      <th>D</th>\n",
       "      <th>E</th>\n",
       "    </tr>\n",
       "  </thead>\n",
       "  <tbody>\n",
       "    <tr>\n",
       "      <th>2021-01-02</th>\n",
       "      <td>0.586118</td>\n",
       "      <td>0.584225</td>\n",
       "      <td>0.881970</td>\n",
       "      <td>0.243047</td>\n",
       "    </tr>\n",
       "    <tr>\n",
       "      <th>2021-01-03</th>\n",
       "      <td>0.355975</td>\n",
       "      <td>0.713554</td>\n",
       "      <td>0.223132</td>\n",
       "      <td>0.203117</td>\n",
       "    </tr>\n",
       "    <tr>\n",
       "      <th>2021-01-04</th>\n",
       "      <td>0.479020</td>\n",
       "      <td>0.461784</td>\n",
       "      <td>0.774179</td>\n",
       "      <td>0.181790</td>\n",
       "    </tr>\n",
       "  </tbody>\n",
       "</table>\n",
       "</div>"
      ],
      "text/plain": [
       "                   B         C         D         E\n",
       "2021-01-02  0.586118  0.584225  0.881970  0.243047\n",
       "2021-01-03  0.355975  0.713554  0.223132  0.203117\n",
       "2021-01-04  0.479020  0.461784  0.774179  0.181790"
      ]
     },
     "execution_count": 299,
     "metadata": {},
     "output_type": "execute_result"
    }
   ],
   "source": [
    "df.iloc[1:4, 1: 6]"
   ]
  },
  {
   "cell_type": "markdown",
   "id": "8ff7dc80",
   "metadata": {
    "hidden": true
   },
   "source": [
    "**Filtragem de linhas e colunas escolhidas**"
   ]
  },
  {
   "cell_type": "code",
   "execution_count": 300,
   "id": "345428e3",
   "metadata": {
    "ExecuteTime": {
     "end_time": "2022-05-19T12:10:57.687213Z",
     "start_time": "2022-05-19T12:10:57.596998Z"
    },
    "hidden": true
   },
   "outputs": [
    {
     "data": {
      "text/html": [
       "<div>\n",
       "<style scoped>\n",
       "    .dataframe tbody tr th:only-of-type {\n",
       "        vertical-align: middle;\n",
       "    }\n",
       "\n",
       "    .dataframe tbody tr th {\n",
       "        vertical-align: top;\n",
       "    }\n",
       "\n",
       "    .dataframe thead th {\n",
       "        text-align: right;\n",
       "    }\n",
       "</style>\n",
       "<table border=\"1\" class=\"dataframe\">\n",
       "  <thead>\n",
       "    <tr style=\"text-align: right;\">\n",
       "      <th></th>\n",
       "      <th>A</th>\n",
       "      <th>D</th>\n",
       "    </tr>\n",
       "  </thead>\n",
       "  <tbody>\n",
       "    <tr>\n",
       "      <th>2021-01-08</th>\n",
       "      <td>0.002197</td>\n",
       "      <td>0.963444</td>\n",
       "    </tr>\n",
       "    <tr>\n",
       "      <th>2021-01-05</th>\n",
       "      <td>0.961061</td>\n",
       "      <td>0.577686</td>\n",
       "    </tr>\n",
       "    <tr>\n",
       "      <th>2021-01-09</th>\n",
       "      <td>0.298741</td>\n",
       "      <td>0.279614</td>\n",
       "    </tr>\n",
       "  </tbody>\n",
       "</table>\n",
       "</div>"
      ],
      "text/plain": [
       "                   A         D\n",
       "2021-01-08  0.002197  0.963444\n",
       "2021-01-05  0.961061  0.577686\n",
       "2021-01-09  0.298741  0.279614"
      ]
     },
     "execution_count": 300,
     "metadata": {},
     "output_type": "execute_result"
    }
   ],
   "source": [
    "df.iloc[[7, 4, 8], [0, 3]]"
   ]
  },
  {
   "cell_type": "markdown",
   "id": "be9fb81b",
   "metadata": {
    "hidden": true
   },
   "source": [
    "**Filtros booleanos**"
   ]
  },
  {
   "cell_type": "code",
   "execution_count": 301,
   "id": "e2341712",
   "metadata": {
    "ExecuteTime": {
     "end_time": "2022-05-19T12:10:57.812336Z",
     "start_time": "2022-05-19T12:10:57.694209Z"
    },
    "hidden": true
   },
   "outputs": [
    {
     "data": {
      "text/html": [
       "<div>\n",
       "<style scoped>\n",
       "    .dataframe tbody tr th:only-of-type {\n",
       "        vertical-align: middle;\n",
       "    }\n",
       "\n",
       "    .dataframe tbody tr th {\n",
       "        vertical-align: top;\n",
       "    }\n",
       "\n",
       "    .dataframe thead th {\n",
       "        text-align: right;\n",
       "    }\n",
       "</style>\n",
       "<table border=\"1\" class=\"dataframe\">\n",
       "  <thead>\n",
       "    <tr style=\"text-align: right;\">\n",
       "      <th></th>\n",
       "      <th>A</th>\n",
       "      <th>B</th>\n",
       "      <th>C</th>\n",
       "      <th>D</th>\n",
       "      <th>E</th>\n",
       "    </tr>\n",
       "  </thead>\n",
       "  <tbody>\n",
       "    <tr>\n",
       "      <th>2021-01-01</th>\n",
       "      <td>0.813059</td>\n",
       "      <td>0.391156</td>\n",
       "      <td>0.141290</td>\n",
       "      <td>0.823228</td>\n",
       "      <td>0.426837</td>\n",
       "    </tr>\n",
       "    <tr>\n",
       "      <th>2021-01-02</th>\n",
       "      <td>0.004433</td>\n",
       "      <td>0.586118</td>\n",
       "      <td>0.584225</td>\n",
       "      <td>0.881970</td>\n",
       "      <td>0.243047</td>\n",
       "    </tr>\n",
       "    <tr>\n",
       "      <th>2021-01-03</th>\n",
       "      <td>0.755781</td>\n",
       "      <td>0.355975</td>\n",
       "      <td>0.713554</td>\n",
       "      <td>0.223132</td>\n",
       "      <td>0.203117</td>\n",
       "    </tr>\n",
       "    <tr>\n",
       "      <th>2021-01-04</th>\n",
       "      <td>0.189245</td>\n",
       "      <td>0.479020</td>\n",
       "      <td>0.461784</td>\n",
       "      <td>0.774179</td>\n",
       "      <td>0.181790</td>\n",
       "    </tr>\n",
       "    <tr>\n",
       "      <th>2021-01-05</th>\n",
       "      <td>0.961061</td>\n",
       "      <td>0.749511</td>\n",
       "      <td>0.348490</td>\n",
       "      <td>0.577686</td>\n",
       "      <td>0.442742</td>\n",
       "    </tr>\n",
       "    <tr>\n",
       "      <th>...</th>\n",
       "      <td>...</td>\n",
       "      <td>...</td>\n",
       "      <td>...</td>\n",
       "      <td>...</td>\n",
       "      <td>...</td>\n",
       "    </tr>\n",
       "    <tr>\n",
       "      <th>2022-08-19</th>\n",
       "      <td>0.676450</td>\n",
       "      <td>0.338349</td>\n",
       "      <td>0.630637</td>\n",
       "      <td>0.550409</td>\n",
       "      <td>0.619414</td>\n",
       "    </tr>\n",
       "    <tr>\n",
       "      <th>2022-08-20</th>\n",
       "      <td>0.891263</td>\n",
       "      <td>0.526239</td>\n",
       "      <td>0.865074</td>\n",
       "      <td>0.485610</td>\n",
       "      <td>0.150982</td>\n",
       "    </tr>\n",
       "    <tr>\n",
       "      <th>2022-08-21</th>\n",
       "      <td>0.097334</td>\n",
       "      <td>0.227856</td>\n",
       "      <td>0.443159</td>\n",
       "      <td>0.058390</td>\n",
       "      <td>0.033472</td>\n",
       "    </tr>\n",
       "    <tr>\n",
       "      <th>2022-08-22</th>\n",
       "      <td>0.382592</td>\n",
       "      <td>0.554607</td>\n",
       "      <td>0.814672</td>\n",
       "      <td>0.771874</td>\n",
       "      <td>0.321336</td>\n",
       "    </tr>\n",
       "    <tr>\n",
       "      <th>2022-08-23</th>\n",
       "      <td>0.675938</td>\n",
       "      <td>0.734841</td>\n",
       "      <td>0.453818</td>\n",
       "      <td>0.605517</td>\n",
       "      <td>0.255481</td>\n",
       "    </tr>\n",
       "  </tbody>\n",
       "</table>\n",
       "<p>600 rows × 5 columns</p>\n",
       "</div>"
      ],
      "text/plain": [
       "                   A         B         C         D         E\n",
       "2021-01-01  0.813059  0.391156  0.141290  0.823228  0.426837\n",
       "2021-01-02  0.004433  0.586118  0.584225  0.881970  0.243047\n",
       "2021-01-03  0.755781  0.355975  0.713554  0.223132  0.203117\n",
       "2021-01-04  0.189245  0.479020  0.461784  0.774179  0.181790\n",
       "2021-01-05  0.961061  0.749511  0.348490  0.577686  0.442742\n",
       "...              ...       ...       ...       ...       ...\n",
       "2022-08-19  0.676450  0.338349  0.630637  0.550409  0.619414\n",
       "2022-08-20  0.891263  0.526239  0.865074  0.485610  0.150982\n",
       "2022-08-21  0.097334  0.227856  0.443159  0.058390  0.033472\n",
       "2022-08-22  0.382592  0.554607  0.814672  0.771874  0.321336\n",
       "2022-08-23  0.675938  0.734841  0.453818  0.605517  0.255481\n",
       "\n",
       "[600 rows x 5 columns]"
      ]
     },
     "execution_count": 301,
     "metadata": {},
     "output_type": "execute_result"
    }
   ],
   "source": [
    "df[df.A>0]"
   ]
  },
  {
   "cell_type": "code",
   "execution_count": 302,
   "id": "259289ac",
   "metadata": {
    "ExecuteTime": {
     "end_time": "2022-05-19T12:10:57.918914Z",
     "start_time": "2022-05-19T12:10:57.818334Z"
    },
    "hidden": true
   },
   "outputs": [
    {
     "data": {
      "text/html": [
       "<div>\n",
       "<style scoped>\n",
       "    .dataframe tbody tr th:only-of-type {\n",
       "        vertical-align: middle;\n",
       "    }\n",
       "\n",
       "    .dataframe tbody tr th {\n",
       "        vertical-align: top;\n",
       "    }\n",
       "\n",
       "    .dataframe thead th {\n",
       "        text-align: right;\n",
       "    }\n",
       "</style>\n",
       "<table border=\"1\" class=\"dataframe\">\n",
       "  <thead>\n",
       "    <tr style=\"text-align: right;\">\n",
       "      <th></th>\n",
       "      <th>A</th>\n",
       "      <th>B</th>\n",
       "      <th>C</th>\n",
       "      <th>D</th>\n",
       "      <th>E</th>\n",
       "    </tr>\n",
       "  </thead>\n",
       "  <tbody>\n",
       "    <tr>\n",
       "      <th>2021-01-01</th>\n",
       "      <td>0.813059</td>\n",
       "      <td>0.391156</td>\n",
       "      <td>0.141290</td>\n",
       "      <td>0.823228</td>\n",
       "      <td>0.426837</td>\n",
       "    </tr>\n",
       "    <tr>\n",
       "      <th>2021-01-02</th>\n",
       "      <td>0.004433</td>\n",
       "      <td>0.586118</td>\n",
       "      <td>0.584225</td>\n",
       "      <td>0.881970</td>\n",
       "      <td>0.243047</td>\n",
       "    </tr>\n",
       "    <tr>\n",
       "      <th>2021-01-03</th>\n",
       "      <td>0.755781</td>\n",
       "      <td>0.355975</td>\n",
       "      <td>0.713554</td>\n",
       "      <td>0.223132</td>\n",
       "      <td>0.203117</td>\n",
       "    </tr>\n",
       "    <tr>\n",
       "      <th>2021-01-04</th>\n",
       "      <td>0.189245</td>\n",
       "      <td>0.479020</td>\n",
       "      <td>0.461784</td>\n",
       "      <td>0.774179</td>\n",
       "      <td>0.181790</td>\n",
       "    </tr>\n",
       "    <tr>\n",
       "      <th>2021-01-05</th>\n",
       "      <td>0.961061</td>\n",
       "      <td>0.749511</td>\n",
       "      <td>0.348490</td>\n",
       "      <td>0.577686</td>\n",
       "      <td>0.442742</td>\n",
       "    </tr>\n",
       "    <tr>\n",
       "      <th>...</th>\n",
       "      <td>...</td>\n",
       "      <td>...</td>\n",
       "      <td>...</td>\n",
       "      <td>...</td>\n",
       "      <td>...</td>\n",
       "    </tr>\n",
       "    <tr>\n",
       "      <th>2022-08-19</th>\n",
       "      <td>0.676450</td>\n",
       "      <td>0.338349</td>\n",
       "      <td>0.630637</td>\n",
       "      <td>0.550409</td>\n",
       "      <td>0.619414</td>\n",
       "    </tr>\n",
       "    <tr>\n",
       "      <th>2022-08-20</th>\n",
       "      <td>0.891263</td>\n",
       "      <td>0.526239</td>\n",
       "      <td>0.865074</td>\n",
       "      <td>0.485610</td>\n",
       "      <td>0.150982</td>\n",
       "    </tr>\n",
       "    <tr>\n",
       "      <th>2022-08-21</th>\n",
       "      <td>0.097334</td>\n",
       "      <td>0.227856</td>\n",
       "      <td>0.443159</td>\n",
       "      <td>0.058390</td>\n",
       "      <td>0.033472</td>\n",
       "    </tr>\n",
       "    <tr>\n",
       "      <th>2022-08-22</th>\n",
       "      <td>0.382592</td>\n",
       "      <td>0.554607</td>\n",
       "      <td>0.814672</td>\n",
       "      <td>0.771874</td>\n",
       "      <td>0.321336</td>\n",
       "    </tr>\n",
       "    <tr>\n",
       "      <th>2022-08-23</th>\n",
       "      <td>0.675938</td>\n",
       "      <td>0.734841</td>\n",
       "      <td>0.453818</td>\n",
       "      <td>0.605517</td>\n",
       "      <td>0.255481</td>\n",
       "    </tr>\n",
       "  </tbody>\n",
       "</table>\n",
       "<p>600 rows × 5 columns</p>\n",
       "</div>"
      ],
      "text/plain": [
       "                   A         B         C         D         E\n",
       "2021-01-01  0.813059  0.391156  0.141290  0.823228  0.426837\n",
       "2021-01-02  0.004433  0.586118  0.584225  0.881970  0.243047\n",
       "2021-01-03  0.755781  0.355975  0.713554  0.223132  0.203117\n",
       "2021-01-04  0.189245  0.479020  0.461784  0.774179  0.181790\n",
       "2021-01-05  0.961061  0.749511  0.348490  0.577686  0.442742\n",
       "...              ...       ...       ...       ...       ...\n",
       "2022-08-19  0.676450  0.338349  0.630637  0.550409  0.619414\n",
       "2022-08-20  0.891263  0.526239  0.865074  0.485610  0.150982\n",
       "2022-08-21  0.097334  0.227856  0.443159  0.058390  0.033472\n",
       "2022-08-22  0.382592  0.554607  0.814672  0.771874  0.321336\n",
       "2022-08-23  0.675938  0.734841  0.453818  0.605517  0.255481\n",
       "\n",
       "[600 rows x 5 columns]"
      ]
     },
     "execution_count": 302,
     "metadata": {},
     "output_type": "execute_result"
    }
   ],
   "source": [
    "df[df > 0]"
   ]
  },
  {
   "cell_type": "markdown",
   "id": "b481b5e5",
   "metadata": {},
   "source": [
    "## 2.7. Limpeza dos dados"
   ]
  },
  {
   "cell_type": "markdown",
   "id": "6b26f911",
   "metadata": {
    "heading_collapsed": true
   },
   "source": [
    "### 2.7.1 Sumarização dos dados"
   ]
  },
  {
   "cell_type": "code",
   "execution_count": 303,
   "id": "40c88cb4",
   "metadata": {
    "ExecuteTime": {
     "end_time": "2022-05-19T12:10:57.995869Z",
     "start_time": "2022-05-19T12:10:57.921923Z"
    },
    "hidden": true
   },
   "outputs": [],
   "source": [
    "datas = pd.date_range('20180101', periods = 6)\n",
    "\n",
    "df = pd.DataFrame(np.random.randn(6,4), index = datas, columns = ['var_A', 'var_B', 'var_C', 'var_D'])"
   ]
  },
  {
   "cell_type": "code",
   "execution_count": 304,
   "id": "8b2cfae4",
   "metadata": {
    "ExecuteTime": {
     "end_time": "2022-05-19T12:10:58.092047Z",
     "start_time": "2022-05-19T12:10:58.002835Z"
    },
    "hidden": true
   },
   "outputs": [],
   "source": [
    "df2 = pd.DataFrame({'A': pd.Timestamp('20130102'),\n",
    "                    'B': pd.Series(1, index = list(range(4)), dtype= 'float32'),\n",
    "                    'C': np.array([3] * 4, dtype = 'int32'),\n",
    "                    'D': pd.Categorical(['test', 'train', 'test', 'train']),\n",
    "                    'F': 'Python'\n",
    "    \n",
    "})"
   ]
  },
  {
   "cell_type": "code",
   "execution_count": 305,
   "id": "aacbff55",
   "metadata": {
    "ExecuteTime": {
     "end_time": "2022-05-19T12:10:58.201618Z",
     "start_time": "2022-05-19T12:10:58.098044Z"
    },
    "hidden": true
   },
   "outputs": [
    {
     "data": {
      "text/html": [
       "<div>\n",
       "<style scoped>\n",
       "    .dataframe tbody tr th:only-of-type {\n",
       "        vertical-align: middle;\n",
       "    }\n",
       "\n",
       "    .dataframe tbody tr th {\n",
       "        vertical-align: top;\n",
       "    }\n",
       "\n",
       "    .dataframe thead th {\n",
       "        text-align: right;\n",
       "    }\n",
       "</style>\n",
       "<table border=\"1\" class=\"dataframe\">\n",
       "  <thead>\n",
       "    <tr style=\"text-align: right;\">\n",
       "      <th></th>\n",
       "      <th>var_A</th>\n",
       "      <th>var_B</th>\n",
       "      <th>var_C</th>\n",
       "      <th>var_D</th>\n",
       "    </tr>\n",
       "  </thead>\n",
       "  <tbody>\n",
       "    <tr>\n",
       "      <th>2018-01-01</th>\n",
       "      <td>-0.471392</td>\n",
       "      <td>0.068402</td>\n",
       "      <td>-0.679938</td>\n",
       "      <td>1.096307</td>\n",
       "    </tr>\n",
       "    <tr>\n",
       "      <th>2018-01-02</th>\n",
       "      <td>-0.095738</td>\n",
       "      <td>0.773085</td>\n",
       "      <td>-0.868765</td>\n",
       "      <td>-0.037464</td>\n",
       "    </tr>\n",
       "    <tr>\n",
       "      <th>2018-01-03</th>\n",
       "      <td>0.875679</td>\n",
       "      <td>-0.138049</td>\n",
       "      <td>0.220422</td>\n",
       "      <td>1.223324</td>\n",
       "    </tr>\n",
       "    <tr>\n",
       "      <th>2018-01-04</th>\n",
       "      <td>-0.386053</td>\n",
       "      <td>-0.549051</td>\n",
       "      <td>-0.079045</td>\n",
       "      <td>-0.079417</td>\n",
       "    </tr>\n",
       "    <tr>\n",
       "      <th>2018-01-05</th>\n",
       "      <td>-1.184860</td>\n",
       "      <td>-0.197114</td>\n",
       "      <td>1.483613</td>\n",
       "      <td>0.012264</td>\n",
       "    </tr>\n",
       "    <tr>\n",
       "      <th>2018-01-06</th>\n",
       "      <td>-0.168599</td>\n",
       "      <td>-0.724444</td>\n",
       "      <td>0.439475</td>\n",
       "      <td>0.175396</td>\n",
       "    </tr>\n",
       "  </tbody>\n",
       "</table>\n",
       "</div>"
      ],
      "text/plain": [
       "               var_A     var_B     var_C     var_D\n",
       "2018-01-01 -0.471392  0.068402 -0.679938  1.096307\n",
       "2018-01-02 -0.095738  0.773085 -0.868765 -0.037464\n",
       "2018-01-03  0.875679 -0.138049  0.220422  1.223324\n",
       "2018-01-04 -0.386053 -0.549051 -0.079045 -0.079417\n",
       "2018-01-05 -1.184860 -0.197114  1.483613  0.012264\n",
       "2018-01-06 -0.168599 -0.724444  0.439475  0.175396"
      ]
     },
     "execution_count": 305,
     "metadata": {},
     "output_type": "execute_result"
    }
   ],
   "source": [
    "df"
   ]
  },
  {
   "cell_type": "code",
   "execution_count": 306,
   "id": "08e53b60",
   "metadata": {
    "ExecuteTime": {
     "end_time": "2022-05-19T12:10:58.295449Z",
     "start_time": "2022-05-19T12:10:58.206612Z"
    },
    "hidden": true,
    "scrolled": false
   },
   "outputs": [
    {
     "data": {
      "text/plain": [
       "(6, 4)"
      ]
     },
     "execution_count": 306,
     "metadata": {},
     "output_type": "execute_result"
    }
   ],
   "source": [
    "df.shape"
   ]
  },
  {
   "cell_type": "code",
   "execution_count": 307,
   "id": "43f9071e",
   "metadata": {
    "ExecuteTime": {
     "end_time": "2022-05-19T12:10:58.371571Z",
     "start_time": "2022-05-19T12:10:58.306442Z"
    },
    "hidden": true,
    "scrolled": true
   },
   "outputs": [
    {
     "data": {
      "text/plain": [
       "var_A    float64\n",
       "var_B    float64\n",
       "var_C    float64\n",
       "var_D    float64\n",
       "dtype: object"
      ]
     },
     "execution_count": 307,
     "metadata": {},
     "output_type": "execute_result"
    }
   ],
   "source": [
    "df.dtypes"
   ]
  },
  {
   "cell_type": "code",
   "execution_count": 308,
   "id": "7d91ad5f",
   "metadata": {
    "ExecuteTime": {
     "end_time": "2022-05-19T12:10:58.495838Z",
     "start_time": "2022-05-19T12:10:58.375575Z"
    },
    "hidden": true,
    "scrolled": true
   },
   "outputs": [
    {
     "data": {
      "text/html": [
       "<div>\n",
       "<style scoped>\n",
       "    .dataframe tbody tr th:only-of-type {\n",
       "        vertical-align: middle;\n",
       "    }\n",
       "\n",
       "    .dataframe tbody tr th {\n",
       "        vertical-align: top;\n",
       "    }\n",
       "\n",
       "    .dataframe thead th {\n",
       "        text-align: right;\n",
       "    }\n",
       "</style>\n",
       "<table border=\"1\" class=\"dataframe\">\n",
       "  <thead>\n",
       "    <tr style=\"text-align: right;\">\n",
       "      <th></th>\n",
       "      <th>var_A</th>\n",
       "      <th>var_B</th>\n",
       "      <th>var_C</th>\n",
       "      <th>var_D</th>\n",
       "    </tr>\n",
       "  </thead>\n",
       "  <tbody>\n",
       "    <tr>\n",
       "      <th>count</th>\n",
       "      <td>6.000000</td>\n",
       "      <td>6.000000</td>\n",
       "      <td>6.000000</td>\n",
       "      <td>6.000000</td>\n",
       "    </tr>\n",
       "    <tr>\n",
       "      <th>mean</th>\n",
       "      <td>-0.238494</td>\n",
       "      <td>-0.127862</td>\n",
       "      <td>0.085960</td>\n",
       "      <td>0.398402</td>\n",
       "    </tr>\n",
       "    <tr>\n",
       "      <th>std</th>\n",
       "      <td>0.669069</td>\n",
       "      <td>0.526960</td>\n",
       "      <td>0.851095</td>\n",
       "      <td>0.597443</td>\n",
       "    </tr>\n",
       "    <tr>\n",
       "      <th>min</th>\n",
       "      <td>-1.184860</td>\n",
       "      <td>-0.724444</td>\n",
       "      <td>-0.868765</td>\n",
       "      <td>-0.079417</td>\n",
       "    </tr>\n",
       "    <tr>\n",
       "      <th>25%</th>\n",
       "      <td>-0.450057</td>\n",
       "      <td>-0.461067</td>\n",
       "      <td>-0.529715</td>\n",
       "      <td>-0.025032</td>\n",
       "    </tr>\n",
       "    <tr>\n",
       "      <th>50%</th>\n",
       "      <td>-0.277326</td>\n",
       "      <td>-0.167581</td>\n",
       "      <td>0.070689</td>\n",
       "      <td>0.093830</td>\n",
       "    </tr>\n",
       "    <tr>\n",
       "      <th>75%</th>\n",
       "      <td>-0.113953</td>\n",
       "      <td>0.016789</td>\n",
       "      <td>0.384712</td>\n",
       "      <td>0.866079</td>\n",
       "    </tr>\n",
       "    <tr>\n",
       "      <th>max</th>\n",
       "      <td>0.875679</td>\n",
       "      <td>0.773085</td>\n",
       "      <td>1.483613</td>\n",
       "      <td>1.223324</td>\n",
       "    </tr>\n",
       "  </tbody>\n",
       "</table>\n",
       "</div>"
      ],
      "text/plain": [
       "          var_A     var_B     var_C     var_D\n",
       "count  6.000000  6.000000  6.000000  6.000000\n",
       "mean  -0.238494 -0.127862  0.085960  0.398402\n",
       "std    0.669069  0.526960  0.851095  0.597443\n",
       "min   -1.184860 -0.724444 -0.868765 -0.079417\n",
       "25%   -0.450057 -0.461067 -0.529715 -0.025032\n",
       "50%   -0.277326 -0.167581  0.070689  0.093830\n",
       "75%   -0.113953  0.016789  0.384712  0.866079\n",
       "max    0.875679  0.773085  1.483613  1.223324"
      ]
     },
     "execution_count": 308,
     "metadata": {},
     "output_type": "execute_result"
    }
   ],
   "source": [
    "df.describe()"
   ]
  },
  {
   "cell_type": "code",
   "execution_count": 309,
   "id": "7329ae7f",
   "metadata": {
    "ExecuteTime": {
     "end_time": "2022-05-19T12:10:58.558568Z",
     "start_time": "2022-05-19T12:10:58.497833Z"
    },
    "hidden": true,
    "scrolled": true
   },
   "outputs": [
    {
     "data": {
      "text/html": [
       "<div>\n",
       "<style scoped>\n",
       "    .dataframe tbody tr th:only-of-type {\n",
       "        vertical-align: middle;\n",
       "    }\n",
       "\n",
       "    .dataframe tbody tr th {\n",
       "        vertical-align: top;\n",
       "    }\n",
       "\n",
       "    .dataframe thead th {\n",
       "        text-align: right;\n",
       "    }\n",
       "</style>\n",
       "<table border=\"1\" class=\"dataframe\">\n",
       "  <thead>\n",
       "    <tr style=\"text-align: right;\">\n",
       "      <th></th>\n",
       "      <th>A</th>\n",
       "      <th>B</th>\n",
       "      <th>C</th>\n",
       "      <th>D</th>\n",
       "      <th>F</th>\n",
       "    </tr>\n",
       "  </thead>\n",
       "  <tbody>\n",
       "    <tr>\n",
       "      <th>0</th>\n",
       "      <td>2013-01-02</td>\n",
       "      <td>1.0</td>\n",
       "      <td>3</td>\n",
       "      <td>test</td>\n",
       "      <td>Python</td>\n",
       "    </tr>\n",
       "    <tr>\n",
       "      <th>1</th>\n",
       "      <td>2013-01-02</td>\n",
       "      <td>1.0</td>\n",
       "      <td>3</td>\n",
       "      <td>train</td>\n",
       "      <td>Python</td>\n",
       "    </tr>\n",
       "    <tr>\n",
       "      <th>2</th>\n",
       "      <td>2013-01-02</td>\n",
       "      <td>1.0</td>\n",
       "      <td>3</td>\n",
       "      <td>test</td>\n",
       "      <td>Python</td>\n",
       "    </tr>\n",
       "    <tr>\n",
       "      <th>3</th>\n",
       "      <td>2013-01-02</td>\n",
       "      <td>1.0</td>\n",
       "      <td>3</td>\n",
       "      <td>train</td>\n",
       "      <td>Python</td>\n",
       "    </tr>\n",
       "  </tbody>\n",
       "</table>\n",
       "</div>"
      ],
      "text/plain": [
       "           A    B  C      D       F\n",
       "0 2013-01-02  1.0  3   test  Python\n",
       "1 2013-01-02  1.0  3  train  Python\n",
       "2 2013-01-02  1.0  3   test  Python\n",
       "3 2013-01-02  1.0  3  train  Python"
      ]
     },
     "execution_count": 309,
     "metadata": {},
     "output_type": "execute_result"
    }
   ],
   "source": [
    "df2"
   ]
  },
  {
   "cell_type": "code",
   "execution_count": 310,
   "id": "4ce87f71",
   "metadata": {
    "ExecuteTime": {
     "end_time": "2022-05-19T12:10:58.652602Z",
     "start_time": "2022-05-19T12:10:58.563562Z"
    },
    "hidden": true
   },
   "outputs": [
    {
     "data": {
      "text/plain": [
       "(6, 4)"
      ]
     },
     "execution_count": 310,
     "metadata": {},
     "output_type": "execute_result"
    }
   ],
   "source": [
    "df.shape"
   ]
  },
  {
   "cell_type": "code",
   "execution_count": 311,
   "id": "40b4fd89",
   "metadata": {
    "ExecuteTime": {
     "end_time": "2022-05-19T12:10:58.729598Z",
     "start_time": "2022-05-19T12:10:58.661591Z"
    },
    "hidden": true
   },
   "outputs": [
    {
     "data": {
      "text/plain": [
       "A    datetime64[ns]\n",
       "B           float32\n",
       "C             int32\n",
       "D          category\n",
       "F            object\n",
       "dtype: object"
      ]
     },
     "execution_count": 311,
     "metadata": {},
     "output_type": "execute_result"
    }
   ],
   "source": [
    "df2.dtypes"
   ]
  },
  {
   "cell_type": "code",
   "execution_count": 312,
   "id": "880daf73",
   "metadata": {
    "ExecuteTime": {
     "end_time": "2022-05-19T12:10:58.869966Z",
     "start_time": "2022-05-19T12:10:58.735594Z"
    },
    "hidden": true,
    "scrolled": false
   },
   "outputs": [
    {
     "data": {
      "text/html": [
       "<div>\n",
       "<style scoped>\n",
       "    .dataframe tbody tr th:only-of-type {\n",
       "        vertical-align: middle;\n",
       "    }\n",
       "\n",
       "    .dataframe tbody tr th {\n",
       "        vertical-align: top;\n",
       "    }\n",
       "\n",
       "    .dataframe thead th {\n",
       "        text-align: right;\n",
       "    }\n",
       "</style>\n",
       "<table border=\"1\" class=\"dataframe\">\n",
       "  <thead>\n",
       "    <tr style=\"text-align: right;\">\n",
       "      <th></th>\n",
       "      <th>B</th>\n",
       "      <th>C</th>\n",
       "    </tr>\n",
       "  </thead>\n",
       "  <tbody>\n",
       "    <tr>\n",
       "      <th>count</th>\n",
       "      <td>4.0</td>\n",
       "      <td>4.0</td>\n",
       "    </tr>\n",
       "    <tr>\n",
       "      <th>mean</th>\n",
       "      <td>1.0</td>\n",
       "      <td>3.0</td>\n",
       "    </tr>\n",
       "    <tr>\n",
       "      <th>std</th>\n",
       "      <td>0.0</td>\n",
       "      <td>0.0</td>\n",
       "    </tr>\n",
       "    <tr>\n",
       "      <th>min</th>\n",
       "      <td>1.0</td>\n",
       "      <td>3.0</td>\n",
       "    </tr>\n",
       "    <tr>\n",
       "      <th>25%</th>\n",
       "      <td>1.0</td>\n",
       "      <td>3.0</td>\n",
       "    </tr>\n",
       "    <tr>\n",
       "      <th>50%</th>\n",
       "      <td>1.0</td>\n",
       "      <td>3.0</td>\n",
       "    </tr>\n",
       "    <tr>\n",
       "      <th>75%</th>\n",
       "      <td>1.0</td>\n",
       "      <td>3.0</td>\n",
       "    </tr>\n",
       "    <tr>\n",
       "      <th>max</th>\n",
       "      <td>1.0</td>\n",
       "      <td>3.0</td>\n",
       "    </tr>\n",
       "  </tbody>\n",
       "</table>\n",
       "</div>"
      ],
      "text/plain": [
       "         B    C\n",
       "count  4.0  4.0\n",
       "mean   1.0  3.0\n",
       "std    0.0  0.0\n",
       "min    1.0  3.0\n",
       "25%    1.0  3.0\n",
       "50%    1.0  3.0\n",
       "75%    1.0  3.0\n",
       "max    1.0  3.0"
      ]
     },
     "execution_count": 312,
     "metadata": {},
     "output_type": "execute_result"
    }
   ],
   "source": [
    "df2.describe()"
   ]
  },
  {
   "cell_type": "code",
   "execution_count": 313,
   "id": "4295bef3",
   "metadata": {
    "ExecuteTime": {
     "end_time": "2022-05-19T12:10:59.057026Z",
     "start_time": "2022-05-19T12:10:58.872962Z"
    },
    "hidden": true
   },
   "outputs": [
    {
     "data": {
      "text/html": [
       "<div>\n",
       "<style scoped>\n",
       "    .dataframe tbody tr th:only-of-type {\n",
       "        vertical-align: middle;\n",
       "    }\n",
       "\n",
       "    .dataframe tbody tr th {\n",
       "        vertical-align: top;\n",
       "    }\n",
       "\n",
       "    .dataframe thead th {\n",
       "        text-align: right;\n",
       "    }\n",
       "</style>\n",
       "<table border=\"1\" class=\"dataframe\">\n",
       "  <thead>\n",
       "    <tr style=\"text-align: right;\">\n",
       "      <th></th>\n",
       "      <th>var_A</th>\n",
       "      <th>var_B</th>\n",
       "      <th>var_C</th>\n",
       "      <th>var_D</th>\n",
       "    </tr>\n",
       "  </thead>\n",
       "  <tbody>\n",
       "    <tr>\n",
       "      <th>2018-01-01</th>\n",
       "      <td>-0.471392</td>\n",
       "      <td>0.068402</td>\n",
       "      <td>-0.679938</td>\n",
       "      <td>1.096307</td>\n",
       "    </tr>\n",
       "    <tr>\n",
       "      <th>2018-01-02</th>\n",
       "      <td>-0.095738</td>\n",
       "      <td>0.773085</td>\n",
       "      <td>-0.868765</td>\n",
       "      <td>-0.037464</td>\n",
       "    </tr>\n",
       "    <tr>\n",
       "      <th>2018-01-03</th>\n",
       "      <td>0.875679</td>\n",
       "      <td>-0.138049</td>\n",
       "      <td>0.220422</td>\n",
       "      <td>1.223324</td>\n",
       "    </tr>\n",
       "    <tr>\n",
       "      <th>2018-01-04</th>\n",
       "      <td>-0.386053</td>\n",
       "      <td>-0.549051</td>\n",
       "      <td>-0.079045</td>\n",
       "      <td>-0.079417</td>\n",
       "    </tr>\n",
       "    <tr>\n",
       "      <th>2018-01-05</th>\n",
       "      <td>-1.184860</td>\n",
       "      <td>-0.197114</td>\n",
       "      <td>1.483613</td>\n",
       "      <td>0.012264</td>\n",
       "    </tr>\n",
       "    <tr>\n",
       "      <th>2018-01-06</th>\n",
       "      <td>-0.168599</td>\n",
       "      <td>-0.724444</td>\n",
       "      <td>0.439475</td>\n",
       "      <td>0.175396</td>\n",
       "    </tr>\n",
       "  </tbody>\n",
       "</table>\n",
       "</div>"
      ],
      "text/plain": [
       "               var_A     var_B     var_C     var_D\n",
       "2018-01-01 -0.471392  0.068402 -0.679938  1.096307\n",
       "2018-01-02 -0.095738  0.773085 -0.868765 -0.037464\n",
       "2018-01-03  0.875679 -0.138049  0.220422  1.223324\n",
       "2018-01-04 -0.386053 -0.549051 -0.079045 -0.079417\n",
       "2018-01-05 -1.184860 -0.197114  1.483613  0.012264\n",
       "2018-01-06 -0.168599 -0.724444  0.439475  0.175396"
      ]
     },
     "execution_count": 313,
     "metadata": {},
     "output_type": "execute_result"
    }
   ],
   "source": [
    "df"
   ]
  },
  {
   "cell_type": "code",
   "execution_count": 314,
   "id": "cbe733e4",
   "metadata": {
    "ExecuteTime": {
     "end_time": "2022-05-19T12:10:59.142540Z",
     "start_time": "2022-05-19T12:10:59.062998Z"
    },
    "hidden": true
   },
   "outputs": [],
   "source": [
    "df1 = df.reindex(index = datas [ 0: 4 ], columns = list(df.columns) + ['var_E'])"
   ]
  },
  {
   "cell_type": "code",
   "execution_count": 315,
   "id": "42a78fd9",
   "metadata": {
    "ExecuteTime": {
     "end_time": "2022-05-19T12:10:59.236654Z",
     "start_time": "2022-05-19T12:10:59.151555Z"
    },
    "hidden": true
   },
   "outputs": [
    {
     "data": {
      "text/html": [
       "<div>\n",
       "<style scoped>\n",
       "    .dataframe tbody tr th:only-of-type {\n",
       "        vertical-align: middle;\n",
       "    }\n",
       "\n",
       "    .dataframe tbody tr th {\n",
       "        vertical-align: top;\n",
       "    }\n",
       "\n",
       "    .dataframe thead th {\n",
       "        text-align: right;\n",
       "    }\n",
       "</style>\n",
       "<table border=\"1\" class=\"dataframe\">\n",
       "  <thead>\n",
       "    <tr style=\"text-align: right;\">\n",
       "      <th></th>\n",
       "      <th>var_A</th>\n",
       "      <th>var_B</th>\n",
       "      <th>var_C</th>\n",
       "      <th>var_D</th>\n",
       "      <th>var_E</th>\n",
       "    </tr>\n",
       "  </thead>\n",
       "  <tbody>\n",
       "    <tr>\n",
       "      <th>2018-01-01</th>\n",
       "      <td>-0.471392</td>\n",
       "      <td>0.068402</td>\n",
       "      <td>-0.679938</td>\n",
       "      <td>1.096307</td>\n",
       "      <td>NaN</td>\n",
       "    </tr>\n",
       "    <tr>\n",
       "      <th>2018-01-02</th>\n",
       "      <td>-0.095738</td>\n",
       "      <td>0.773085</td>\n",
       "      <td>-0.868765</td>\n",
       "      <td>-0.037464</td>\n",
       "      <td>NaN</td>\n",
       "    </tr>\n",
       "    <tr>\n",
       "      <th>2018-01-03</th>\n",
       "      <td>0.875679</td>\n",
       "      <td>-0.138049</td>\n",
       "      <td>0.220422</td>\n",
       "      <td>1.223324</td>\n",
       "      <td>NaN</td>\n",
       "    </tr>\n",
       "    <tr>\n",
       "      <th>2018-01-04</th>\n",
       "      <td>-0.386053</td>\n",
       "      <td>-0.549051</td>\n",
       "      <td>-0.079045</td>\n",
       "      <td>-0.079417</td>\n",
       "      <td>NaN</td>\n",
       "    </tr>\n",
       "  </tbody>\n",
       "</table>\n",
       "</div>"
      ],
      "text/plain": [
       "               var_A     var_B     var_C     var_D  var_E\n",
       "2018-01-01 -0.471392  0.068402 -0.679938  1.096307    NaN\n",
       "2018-01-02 -0.095738  0.773085 -0.868765 -0.037464    NaN\n",
       "2018-01-03  0.875679 -0.138049  0.220422  1.223324    NaN\n",
       "2018-01-04 -0.386053 -0.549051 -0.079045 -0.079417    NaN"
      ]
     },
     "execution_count": 315,
     "metadata": {},
     "output_type": "execute_result"
    }
   ],
   "source": [
    "df1"
   ]
  },
  {
   "cell_type": "code",
   "execution_count": 316,
   "id": "d43b379b",
   "metadata": {
    "ExecuteTime": {
     "end_time": "2022-05-19T12:10:59.396050Z",
     "start_time": "2022-05-19T12:10:59.241646Z"
    },
    "hidden": true
   },
   "outputs": [],
   "source": [
    "df1.loc[datas[0]: datas [1], 'var_E'] = 77"
   ]
  },
  {
   "cell_type": "code",
   "execution_count": 317,
   "id": "82b21022",
   "metadata": {
    "ExecuteTime": {
     "end_time": "2022-05-19T12:10:59.489929Z",
     "start_time": "2022-05-19T12:10:59.405058Z"
    },
    "hidden": true
   },
   "outputs": [
    {
     "data": {
      "text/html": [
       "<div>\n",
       "<style scoped>\n",
       "    .dataframe tbody tr th:only-of-type {\n",
       "        vertical-align: middle;\n",
       "    }\n",
       "\n",
       "    .dataframe tbody tr th {\n",
       "        vertical-align: top;\n",
       "    }\n",
       "\n",
       "    .dataframe thead th {\n",
       "        text-align: right;\n",
       "    }\n",
       "</style>\n",
       "<table border=\"1\" class=\"dataframe\">\n",
       "  <thead>\n",
       "    <tr style=\"text-align: right;\">\n",
       "      <th></th>\n",
       "      <th>var_A</th>\n",
       "      <th>var_B</th>\n",
       "      <th>var_C</th>\n",
       "      <th>var_D</th>\n",
       "      <th>var_E</th>\n",
       "    </tr>\n",
       "  </thead>\n",
       "  <tbody>\n",
       "    <tr>\n",
       "      <th>2018-01-01</th>\n",
       "      <td>-0.471392</td>\n",
       "      <td>0.068402</td>\n",
       "      <td>-0.679938</td>\n",
       "      <td>1.096307</td>\n",
       "      <td>77.0</td>\n",
       "    </tr>\n",
       "    <tr>\n",
       "      <th>2018-01-02</th>\n",
       "      <td>-0.095738</td>\n",
       "      <td>0.773085</td>\n",
       "      <td>-0.868765</td>\n",
       "      <td>-0.037464</td>\n",
       "      <td>77.0</td>\n",
       "    </tr>\n",
       "    <tr>\n",
       "      <th>2018-01-03</th>\n",
       "      <td>0.875679</td>\n",
       "      <td>-0.138049</td>\n",
       "      <td>0.220422</td>\n",
       "      <td>1.223324</td>\n",
       "      <td>NaN</td>\n",
       "    </tr>\n",
       "    <tr>\n",
       "      <th>2018-01-04</th>\n",
       "      <td>-0.386053</td>\n",
       "      <td>-0.549051</td>\n",
       "      <td>-0.079045</td>\n",
       "      <td>-0.079417</td>\n",
       "      <td>NaN</td>\n",
       "    </tr>\n",
       "  </tbody>\n",
       "</table>\n",
       "</div>"
      ],
      "text/plain": [
       "               var_A     var_B     var_C     var_D  var_E\n",
       "2018-01-01 -0.471392  0.068402 -0.679938  1.096307   77.0\n",
       "2018-01-02 -0.095738  0.773085 -0.868765 -0.037464   77.0\n",
       "2018-01-03  0.875679 -0.138049  0.220422  1.223324    NaN\n",
       "2018-01-04 -0.386053 -0.549051 -0.079045 -0.079417    NaN"
      ]
     },
     "execution_count": 317,
     "metadata": {},
     "output_type": "execute_result"
    }
   ],
   "source": [
    "df1"
   ]
  },
  {
   "cell_type": "code",
   "execution_count": 318,
   "id": "f657a1a1",
   "metadata": {
    "ExecuteTime": {
     "end_time": "2022-05-19T12:10:59.603034Z",
     "start_time": "2022-05-19T12:10:59.493920Z"
    },
    "hidden": true
   },
   "outputs": [
    {
     "data": {
      "text/html": [
       "<div>\n",
       "<style scoped>\n",
       "    .dataframe tbody tr th:only-of-type {\n",
       "        vertical-align: middle;\n",
       "    }\n",
       "\n",
       "    .dataframe tbody tr th {\n",
       "        vertical-align: top;\n",
       "    }\n",
       "\n",
       "    .dataframe thead th {\n",
       "        text-align: right;\n",
       "    }\n",
       "</style>\n",
       "<table border=\"1\" class=\"dataframe\">\n",
       "  <thead>\n",
       "    <tr style=\"text-align: right;\">\n",
       "      <th></th>\n",
       "      <th>var_A</th>\n",
       "      <th>var_B</th>\n",
       "      <th>var_C</th>\n",
       "      <th>var_D</th>\n",
       "      <th>var_E</th>\n",
       "    </tr>\n",
       "  </thead>\n",
       "  <tbody>\n",
       "    <tr>\n",
       "      <th>count</th>\n",
       "      <td>4.000000</td>\n",
       "      <td>4.000000</td>\n",
       "      <td>4.000000</td>\n",
       "      <td>4.000000</td>\n",
       "      <td>2.0</td>\n",
       "    </tr>\n",
       "    <tr>\n",
       "      <th>mean</th>\n",
       "      <td>-0.019376</td>\n",
       "      <td>0.038597</td>\n",
       "      <td>-0.351831</td>\n",
       "      <td>0.550687</td>\n",
       "      <td>77.0</td>\n",
       "    </tr>\n",
       "    <tr>\n",
       "      <th>std</th>\n",
       "      <td>0.617987</td>\n",
       "      <td>0.552840</td>\n",
       "      <td>0.508842</td>\n",
       "      <td>0.705477</td>\n",
       "      <td>0.0</td>\n",
       "    </tr>\n",
       "    <tr>\n",
       "      <th>min</th>\n",
       "      <td>-0.471392</td>\n",
       "      <td>-0.549051</td>\n",
       "      <td>-0.868765</td>\n",
       "      <td>-0.079417</td>\n",
       "      <td>77.0</td>\n",
       "    </tr>\n",
       "    <tr>\n",
       "      <th>25%</th>\n",
       "      <td>-0.407388</td>\n",
       "      <td>-0.240800</td>\n",
       "      <td>-0.727145</td>\n",
       "      <td>-0.047952</td>\n",
       "      <td>77.0</td>\n",
       "    </tr>\n",
       "    <tr>\n",
       "      <th>50%</th>\n",
       "      <td>-0.240896</td>\n",
       "      <td>-0.034824</td>\n",
       "      <td>-0.379491</td>\n",
       "      <td>0.529421</td>\n",
       "      <td>77.0</td>\n",
       "    </tr>\n",
       "    <tr>\n",
       "      <th>75%</th>\n",
       "      <td>0.147116</td>\n",
       "      <td>0.244573</td>\n",
       "      <td>-0.004178</td>\n",
       "      <td>1.128061</td>\n",
       "      <td>77.0</td>\n",
       "    </tr>\n",
       "    <tr>\n",
       "      <th>max</th>\n",
       "      <td>0.875679</td>\n",
       "      <td>0.773085</td>\n",
       "      <td>0.220422</td>\n",
       "      <td>1.223324</td>\n",
       "      <td>77.0</td>\n",
       "    </tr>\n",
       "  </tbody>\n",
       "</table>\n",
       "</div>"
      ],
      "text/plain": [
       "          var_A     var_B     var_C     var_D  var_E\n",
       "count  4.000000  4.000000  4.000000  4.000000    2.0\n",
       "mean  -0.019376  0.038597 -0.351831  0.550687   77.0\n",
       "std    0.617987  0.552840  0.508842  0.705477    0.0\n",
       "min   -0.471392 -0.549051 -0.868765 -0.079417   77.0\n",
       "25%   -0.407388 -0.240800 -0.727145 -0.047952   77.0\n",
       "50%   -0.240896 -0.034824 -0.379491  0.529421   77.0\n",
       "75%    0.147116  0.244573 -0.004178  1.128061   77.0\n",
       "max    0.875679  0.773085  0.220422  1.223324   77.0"
      ]
     },
     "execution_count": 318,
     "metadata": {},
     "output_type": "execute_result"
    }
   ],
   "source": [
    "df1.describe()"
   ]
  },
  {
   "cell_type": "markdown",
   "id": "cfde67c2",
   "metadata": {
    "heading_collapsed": true
   },
   "source": [
    "### 2.7.2. Dados faltantes NaN"
   ]
  },
  {
   "cell_type": "code",
   "execution_count": 319,
   "id": "a68f863f",
   "metadata": {
    "ExecuteTime": {
     "end_time": "2022-05-19T12:10:59.679795Z",
     "start_time": "2022-05-19T12:10:59.606006Z"
    },
    "hidden": true
   },
   "outputs": [],
   "source": [
    "datas = pd.date_range('20180101', periods = 60, freq=\"D\")\n",
    "\n",
    "df = pd.DataFrame(np.random.randn(60,5), index = datas, columns = list(\"ABCDE\")) "
   ]
  },
  {
   "cell_type": "code",
   "execution_count": 320,
   "id": "81d243c9",
   "metadata": {
    "ExecuteTime": {
     "end_time": "2022-05-19T12:10:59.789118Z",
     "start_time": "2022-05-19T12:10:59.684807Z"
    },
    "hidden": true,
    "scrolled": true
   },
   "outputs": [
    {
     "data": {
      "text/html": [
       "<div>\n",
       "<style scoped>\n",
       "    .dataframe tbody tr th:only-of-type {\n",
       "        vertical-align: middle;\n",
       "    }\n",
       "\n",
       "    .dataframe tbody tr th {\n",
       "        vertical-align: top;\n",
       "    }\n",
       "\n",
       "    .dataframe thead th {\n",
       "        text-align: right;\n",
       "    }\n",
       "</style>\n",
       "<table border=\"1\" class=\"dataframe\">\n",
       "  <thead>\n",
       "    <tr style=\"text-align: right;\">\n",
       "      <th></th>\n",
       "      <th>A</th>\n",
       "      <th>B</th>\n",
       "      <th>C</th>\n",
       "      <th>D</th>\n",
       "      <th>E</th>\n",
       "    </tr>\n",
       "  </thead>\n",
       "  <tbody>\n",
       "    <tr>\n",
       "      <th>2018-01-01</th>\n",
       "      <td>-1.122778</td>\n",
       "      <td>1.496506</td>\n",
       "      <td>1.376349</td>\n",
       "      <td>-0.925309</td>\n",
       "      <td>0.687414</td>\n",
       "    </tr>\n",
       "    <tr>\n",
       "      <th>2018-01-02</th>\n",
       "      <td>1.259287</td>\n",
       "      <td>1.073847</td>\n",
       "      <td>0.186905</td>\n",
       "      <td>1.068530</td>\n",
       "      <td>0.290716</td>\n",
       "    </tr>\n",
       "    <tr>\n",
       "      <th>2018-01-03</th>\n",
       "      <td>-1.079297</td>\n",
       "      <td>0.803675</td>\n",
       "      <td>0.876798</td>\n",
       "      <td>0.135208</td>\n",
       "      <td>1.548936</td>\n",
       "    </tr>\n",
       "  </tbody>\n",
       "</table>\n",
       "</div>"
      ],
      "text/plain": [
       "                   A         B         C         D         E\n",
       "2018-01-01 -1.122778  1.496506  1.376349 -0.925309  0.687414\n",
       "2018-01-02  1.259287  1.073847  0.186905  1.068530  0.290716\n",
       "2018-01-03 -1.079297  0.803675  0.876798  0.135208  1.548936"
      ]
     },
     "execution_count": 320,
     "metadata": {},
     "output_type": "execute_result"
    }
   ],
   "source": [
    "df.head(3)"
   ]
  },
  {
   "cell_type": "code",
   "execution_count": 321,
   "id": "3c1ffd96",
   "metadata": {
    "ExecuteTime": {
     "end_time": "2022-05-19T12:10:59.976897Z",
     "start_time": "2022-05-19T12:10:59.794105Z"
    },
    "hidden": true
   },
   "outputs": [],
   "source": [
    "df['F'] = df.A[df.A > 0]"
   ]
  },
  {
   "cell_type": "code",
   "execution_count": 322,
   "id": "182387c8",
   "metadata": {
    "ExecuteTime": {
     "end_time": "2022-05-19T12:11:00.068324Z",
     "start_time": "2022-05-19T12:10:59.987905Z"
    },
    "hidden": true,
    "scrolled": true
   },
   "outputs": [
    {
     "data": {
      "text/html": [
       "<div>\n",
       "<style scoped>\n",
       "    .dataframe tbody tr th:only-of-type {\n",
       "        vertical-align: middle;\n",
       "    }\n",
       "\n",
       "    .dataframe tbody tr th {\n",
       "        vertical-align: top;\n",
       "    }\n",
       "\n",
       "    .dataframe thead th {\n",
       "        text-align: right;\n",
       "    }\n",
       "</style>\n",
       "<table border=\"1\" class=\"dataframe\">\n",
       "  <thead>\n",
       "    <tr style=\"text-align: right;\">\n",
       "      <th></th>\n",
       "      <th>A</th>\n",
       "      <th>B</th>\n",
       "      <th>C</th>\n",
       "      <th>D</th>\n",
       "      <th>E</th>\n",
       "      <th>F</th>\n",
       "    </tr>\n",
       "  </thead>\n",
       "  <tbody>\n",
       "    <tr>\n",
       "      <th>2018-01-01</th>\n",
       "      <td>-1.122778</td>\n",
       "      <td>1.496506</td>\n",
       "      <td>1.376349</td>\n",
       "      <td>-0.925309</td>\n",
       "      <td>0.687414</td>\n",
       "      <td>NaN</td>\n",
       "    </tr>\n",
       "    <tr>\n",
       "      <th>2018-01-02</th>\n",
       "      <td>1.259287</td>\n",
       "      <td>1.073847</td>\n",
       "      <td>0.186905</td>\n",
       "      <td>1.068530</td>\n",
       "      <td>0.290716</td>\n",
       "      <td>1.259287</td>\n",
       "    </tr>\n",
       "    <tr>\n",
       "      <th>2018-01-03</th>\n",
       "      <td>-1.079297</td>\n",
       "      <td>0.803675</td>\n",
       "      <td>0.876798</td>\n",
       "      <td>0.135208</td>\n",
       "      <td>1.548936</td>\n",
       "      <td>NaN</td>\n",
       "    </tr>\n",
       "  </tbody>\n",
       "</table>\n",
       "</div>"
      ],
      "text/plain": [
       "                   A         B         C         D         E         F\n",
       "2018-01-01 -1.122778  1.496506  1.376349 -0.925309  0.687414       NaN\n",
       "2018-01-02  1.259287  1.073847  0.186905  1.068530  0.290716  1.259287\n",
       "2018-01-03 -1.079297  0.803675  0.876798  0.135208  1.548936       NaN"
      ]
     },
     "execution_count": 322,
     "metadata": {},
     "output_type": "execute_result"
    }
   ],
   "source": [
    "df.head(3)"
   ]
  },
  {
   "cell_type": "code",
   "execution_count": 323,
   "id": "8de8d0d2",
   "metadata": {
    "ExecuteTime": {
     "end_time": "2022-05-19T12:11:00.146228Z",
     "start_time": "2022-05-19T12:11:00.071321Z"
    },
    "hidden": true
   },
   "outputs": [],
   "source": [
    "df1 = df.copy()"
   ]
  },
  {
   "cell_type": "code",
   "execution_count": 324,
   "id": "e31134a0",
   "metadata": {
    "ExecuteTime": {
     "end_time": "2022-05-19T12:11:00.254007Z",
     "start_time": "2022-05-19T12:11:00.153215Z"
    },
    "hidden": true
   },
   "outputs": [],
   "source": [
    "df2 = df.copy()"
   ]
  },
  {
   "cell_type": "markdown",
   "id": "f29a2134",
   "metadata": {
    "hidden": true
   },
   "source": [
    "**Extração dos valores NaN. Sempre que ultilizamos este comando, também perdemos os demais dados da linha.**"
   ]
  },
  {
   "cell_type": "code",
   "execution_count": 325,
   "id": "cda1690e",
   "metadata": {
    "ExecuteTime": {
     "end_time": "2022-05-19T12:11:00.332042Z",
     "start_time": "2022-05-19T12:11:00.264974Z"
    },
    "hidden": true,
    "scrolled": true
   },
   "outputs": [
    {
     "data": {
      "text/plain": [
       "(26, 6)"
      ]
     },
     "execution_count": 325,
     "metadata": {},
     "output_type": "execute_result"
    }
   ],
   "source": [
    "df1.dropna().shape "
   ]
  },
  {
   "cell_type": "code",
   "execution_count": 326,
   "id": "ddf8e687",
   "metadata": {
    "ExecuteTime": {
     "end_time": "2022-05-19T12:11:00.426226Z",
     "start_time": "2022-05-19T12:11:00.338033Z"
    },
    "hidden": true
   },
   "outputs": [
    {
     "data": {
      "text/plain": [
       "(60, 6)"
      ]
     },
     "execution_count": 326,
     "metadata": {},
     "output_type": "execute_result"
    }
   ],
   "source": [
    "df.shape"
   ]
  },
  {
   "cell_type": "code",
   "execution_count": 327,
   "id": "7217d682",
   "metadata": {
    "ExecuteTime": {
     "end_time": "2022-05-19T12:11:00.520364Z",
     "start_time": "2022-05-19T12:11:00.431181Z"
    },
    "hidden": true
   },
   "outputs": [
    {
     "data": {
      "text/html": [
       "<div>\n",
       "<style scoped>\n",
       "    .dataframe tbody tr th:only-of-type {\n",
       "        vertical-align: middle;\n",
       "    }\n",
       "\n",
       "    .dataframe tbody tr th {\n",
       "        vertical-align: top;\n",
       "    }\n",
       "\n",
       "    .dataframe thead th {\n",
       "        text-align: right;\n",
       "    }\n",
       "</style>\n",
       "<table border=\"1\" class=\"dataframe\">\n",
       "  <thead>\n",
       "    <tr style=\"text-align: right;\">\n",
       "      <th></th>\n",
       "      <th>A</th>\n",
       "      <th>B</th>\n",
       "      <th>C</th>\n",
       "      <th>D</th>\n",
       "      <th>E</th>\n",
       "      <th>F</th>\n",
       "    </tr>\n",
       "  </thead>\n",
       "  <tbody>\n",
       "    <tr>\n",
       "      <th>2018-01-01</th>\n",
       "      <td>-1.122778</td>\n",
       "      <td>1.496506</td>\n",
       "      <td>1.376349</td>\n",
       "      <td>-0.925309</td>\n",
       "      <td>0.687414</td>\n",
       "      <td>NaN</td>\n",
       "    </tr>\n",
       "    <tr>\n",
       "      <th>2018-01-02</th>\n",
       "      <td>1.259287</td>\n",
       "      <td>1.073847</td>\n",
       "      <td>0.186905</td>\n",
       "      <td>1.068530</td>\n",
       "      <td>0.290716</td>\n",
       "      <td>1.259287</td>\n",
       "    </tr>\n",
       "    <tr>\n",
       "      <th>2018-01-03</th>\n",
       "      <td>-1.079297</td>\n",
       "      <td>0.803675</td>\n",
       "      <td>0.876798</td>\n",
       "      <td>0.135208</td>\n",
       "      <td>1.548936</td>\n",
       "      <td>NaN</td>\n",
       "    </tr>\n",
       "    <tr>\n",
       "      <th>2018-01-04</th>\n",
       "      <td>1.245209</td>\n",
       "      <td>0.736272</td>\n",
       "      <td>1.075055</td>\n",
       "      <td>-3.332044</td>\n",
       "      <td>-0.609395</td>\n",
       "      <td>1.245209</td>\n",
       "    </tr>\n",
       "    <tr>\n",
       "      <th>2018-01-05</th>\n",
       "      <td>0.784776</td>\n",
       "      <td>-0.080956</td>\n",
       "      <td>0.447954</td>\n",
       "      <td>-1.005841</td>\n",
       "      <td>-0.631863</td>\n",
       "      <td>0.784776</td>\n",
       "    </tr>\n",
       "  </tbody>\n",
       "</table>\n",
       "</div>"
      ],
      "text/plain": [
       "                   A         B         C         D         E         F\n",
       "2018-01-01 -1.122778  1.496506  1.376349 -0.925309  0.687414       NaN\n",
       "2018-01-02  1.259287  1.073847  0.186905  1.068530  0.290716  1.259287\n",
       "2018-01-03 -1.079297  0.803675  0.876798  0.135208  1.548936       NaN\n",
       "2018-01-04  1.245209  0.736272  1.075055 -3.332044 -0.609395  1.245209\n",
       "2018-01-05  0.784776 -0.080956  0.447954 -1.005841 -0.631863  0.784776"
      ]
     },
     "execution_count": 327,
     "metadata": {},
     "output_type": "execute_result"
    }
   ],
   "source": [
    "df2.head()"
   ]
  },
  {
   "cell_type": "markdown",
   "id": "fb786de3",
   "metadata": {
    "hidden": true
   },
   "source": [
    "**Substituição dos valores NaN pela média da coluna F**"
   ]
  },
  {
   "cell_type": "code",
   "execution_count": 328,
   "id": "48461972",
   "metadata": {
    "ExecuteTime": {
     "end_time": "2022-05-19T12:11:00.631774Z",
     "start_time": "2022-05-19T12:11:00.524362Z"
    },
    "hidden": true
   },
   "outputs": [
    {
     "data": {
      "text/plain": [
       "2018-01-01    0.984417\n",
       "2018-01-02    1.259287\n",
       "2018-01-03    0.984417\n",
       "2018-01-04    1.245209\n",
       "2018-01-05    0.784776\n",
       "2018-01-06    0.984417\n",
       "2018-01-07    0.984417\n",
       "2018-01-08    0.984417\n",
       "2018-01-09    0.386988\n",
       "2018-01-10    0.984417\n",
       "2018-01-11    0.984417\n",
       "2018-01-12    0.644965\n",
       "2018-01-13    0.818904\n",
       "2018-01-14    0.984417\n",
       "2018-01-15    0.417939\n",
       "2018-01-16    0.984417\n",
       "2018-01-17    0.984417\n",
       "2018-01-18    0.984417\n",
       "2018-01-19    0.984417\n",
       "2018-01-20    0.984417\n",
       "2018-01-21    0.984417\n",
       "2018-01-22    0.704694\n",
       "2018-01-23    0.984417\n",
       "2018-01-24    0.762826\n",
       "2018-01-25    0.984417\n",
       "2018-01-26    0.984417\n",
       "2018-01-27    0.984417\n",
       "2018-01-28    0.984417\n",
       "2018-01-29    0.984417\n",
       "2018-01-30    0.984417\n",
       "2018-01-31    0.984417\n",
       "2018-02-01    1.012828\n",
       "2018-02-02    2.030337\n",
       "2018-02-03    0.984417\n",
       "2018-02-04    0.854664\n",
       "2018-02-05    0.325858\n",
       "2018-02-06    2.085741\n",
       "2018-02-07    0.984417\n",
       "2018-02-08    0.984417\n",
       "2018-02-09    0.984417\n",
       "2018-02-10    0.233587\n",
       "2018-02-11    0.342744\n",
       "2018-02-12    0.984417\n",
       "2018-02-13    0.993462\n",
       "2018-02-14    0.682318\n",
       "2018-02-15    1.149719\n",
       "2018-02-16    0.984417\n",
       "2018-02-17    0.984417\n",
       "2018-02-18    0.654448\n",
       "2018-02-19    0.429980\n",
       "2018-02-20    0.984417\n",
       "2018-02-21    0.984417\n",
       "2018-02-22    1.088041\n",
       "2018-02-23    1.246003\n",
       "2018-02-24    1.255665\n",
       "2018-02-25    2.152257\n",
       "2018-02-26    0.984417\n",
       "2018-02-27    0.984417\n",
       "2018-02-28    0.984417\n",
       "2018-03-01    2.031596\n",
       "Freq: D, Name: F, dtype: float64"
      ]
     },
     "execution_count": 328,
     "metadata": {},
     "output_type": "execute_result"
    }
   ],
   "source": [
    "df2.F.fillna(np.mean(df2.F))"
   ]
  },
  {
   "cell_type": "code",
   "execution_count": 329,
   "id": "32360300",
   "metadata": {
    "ExecuteTime": {
     "end_time": "2022-05-19T12:11:00.726757Z",
     "start_time": "2022-05-19T12:11:00.636774Z"
    },
    "hidden": true
   },
   "outputs": [],
   "source": [
    "df3 = df.copy()"
   ]
  },
  {
   "cell_type": "markdown",
   "id": "3e1b3d7b",
   "metadata": {
    "hidden": true
   },
   "source": [
    "**Substituição de TODOS os valores NaN da tabela por 777**"
   ]
  },
  {
   "cell_type": "code",
   "execution_count": 330,
   "id": "0f50e5ac",
   "metadata": {
    "ExecuteTime": {
     "end_time": "2022-05-19T12:11:00.853831Z",
     "start_time": "2022-05-19T12:11:00.737765Z"
    },
    "hidden": true
   },
   "outputs": [
    {
     "data": {
      "text/html": [
       "<div>\n",
       "<style scoped>\n",
       "    .dataframe tbody tr th:only-of-type {\n",
       "        vertical-align: middle;\n",
       "    }\n",
       "\n",
       "    .dataframe tbody tr th {\n",
       "        vertical-align: top;\n",
       "    }\n",
       "\n",
       "    .dataframe thead th {\n",
       "        text-align: right;\n",
       "    }\n",
       "</style>\n",
       "<table border=\"1\" class=\"dataframe\">\n",
       "  <thead>\n",
       "    <tr style=\"text-align: right;\">\n",
       "      <th></th>\n",
       "      <th>A</th>\n",
       "      <th>B</th>\n",
       "      <th>C</th>\n",
       "      <th>D</th>\n",
       "      <th>E</th>\n",
       "      <th>F</th>\n",
       "    </tr>\n",
       "  </thead>\n",
       "  <tbody>\n",
       "    <tr>\n",
       "      <th>2018-01-01</th>\n",
       "      <td>-1.122778</td>\n",
       "      <td>1.496506</td>\n",
       "      <td>1.376349</td>\n",
       "      <td>-0.925309</td>\n",
       "      <td>0.687414</td>\n",
       "      <td>777.000000</td>\n",
       "    </tr>\n",
       "    <tr>\n",
       "      <th>2018-01-02</th>\n",
       "      <td>1.259287</td>\n",
       "      <td>1.073847</td>\n",
       "      <td>0.186905</td>\n",
       "      <td>1.068530</td>\n",
       "      <td>0.290716</td>\n",
       "      <td>1.259287</td>\n",
       "    </tr>\n",
       "    <tr>\n",
       "      <th>2018-01-03</th>\n",
       "      <td>-1.079297</td>\n",
       "      <td>0.803675</td>\n",
       "      <td>0.876798</td>\n",
       "      <td>0.135208</td>\n",
       "      <td>1.548936</td>\n",
       "      <td>777.000000</td>\n",
       "    </tr>\n",
       "    <tr>\n",
       "      <th>2018-01-04</th>\n",
       "      <td>1.245209</td>\n",
       "      <td>0.736272</td>\n",
       "      <td>1.075055</td>\n",
       "      <td>-3.332044</td>\n",
       "      <td>-0.609395</td>\n",
       "      <td>1.245209</td>\n",
       "    </tr>\n",
       "    <tr>\n",
       "      <th>2018-01-05</th>\n",
       "      <td>0.784776</td>\n",
       "      <td>-0.080956</td>\n",
       "      <td>0.447954</td>\n",
       "      <td>-1.005841</td>\n",
       "      <td>-0.631863</td>\n",
       "      <td>0.784776</td>\n",
       "    </tr>\n",
       "    <tr>\n",
       "      <th>2018-01-06</th>\n",
       "      <td>-0.347378</td>\n",
       "      <td>-0.576654</td>\n",
       "      <td>0.383794</td>\n",
       "      <td>1.108066</td>\n",
       "      <td>0.360986</td>\n",
       "      <td>777.000000</td>\n",
       "    </tr>\n",
       "    <tr>\n",
       "      <th>2018-01-07</th>\n",
       "      <td>-0.892278</td>\n",
       "      <td>-0.046028</td>\n",
       "      <td>0.016883</td>\n",
       "      <td>-0.523276</td>\n",
       "      <td>-2.087596</td>\n",
       "      <td>777.000000</td>\n",
       "    </tr>\n",
       "    <tr>\n",
       "      <th>2018-01-08</th>\n",
       "      <td>-0.766383</td>\n",
       "      <td>-0.643804</td>\n",
       "      <td>-1.666478</td>\n",
       "      <td>0.123175</td>\n",
       "      <td>0.829797</td>\n",
       "      <td>777.000000</td>\n",
       "    </tr>\n",
       "    <tr>\n",
       "      <th>2018-01-09</th>\n",
       "      <td>0.386988</td>\n",
       "      <td>-0.210389</td>\n",
       "      <td>0.535649</td>\n",
       "      <td>-0.723457</td>\n",
       "      <td>-1.044794</td>\n",
       "      <td>0.386988</td>\n",
       "    </tr>\n",
       "    <tr>\n",
       "      <th>2018-01-10</th>\n",
       "      <td>-0.512577</td>\n",
       "      <td>-0.315684</td>\n",
       "      <td>-0.478851</td>\n",
       "      <td>0.309799</td>\n",
       "      <td>1.417146</td>\n",
       "      <td>777.000000</td>\n",
       "    </tr>\n",
       "    <tr>\n",
       "      <th>2018-01-11</th>\n",
       "      <td>-0.429350</td>\n",
       "      <td>-1.247811</td>\n",
       "      <td>1.776123</td>\n",
       "      <td>0.869190</td>\n",
       "      <td>0.297354</td>\n",
       "      <td>777.000000</td>\n",
       "    </tr>\n",
       "    <tr>\n",
       "      <th>2018-01-12</th>\n",
       "      <td>0.644965</td>\n",
       "      <td>-1.592951</td>\n",
       "      <td>0.153128</td>\n",
       "      <td>-1.787307</td>\n",
       "      <td>-0.251625</td>\n",
       "      <td>0.644965</td>\n",
       "    </tr>\n",
       "    <tr>\n",
       "      <th>2018-01-13</th>\n",
       "      <td>0.818904</td>\n",
       "      <td>0.481946</td>\n",
       "      <td>0.019999</td>\n",
       "      <td>-1.091138</td>\n",
       "      <td>-0.745217</td>\n",
       "      <td>0.818904</td>\n",
       "    </tr>\n",
       "    <tr>\n",
       "      <th>2018-01-14</th>\n",
       "      <td>-1.315440</td>\n",
       "      <td>-0.935859</td>\n",
       "      <td>-0.186171</td>\n",
       "      <td>0.583647</td>\n",
       "      <td>-1.157519</td>\n",
       "      <td>777.000000</td>\n",
       "    </tr>\n",
       "    <tr>\n",
       "      <th>2018-01-15</th>\n",
       "      <td>0.417939</td>\n",
       "      <td>0.943503</td>\n",
       "      <td>-0.698439</td>\n",
       "      <td>0.770907</td>\n",
       "      <td>-0.384125</td>\n",
       "      <td>0.417939</td>\n",
       "    </tr>\n",
       "    <tr>\n",
       "      <th>2018-01-16</th>\n",
       "      <td>-1.845085</td>\n",
       "      <td>-1.260948</td>\n",
       "      <td>-0.941284</td>\n",
       "      <td>0.782770</td>\n",
       "      <td>-0.658090</td>\n",
       "      <td>777.000000</td>\n",
       "    </tr>\n",
       "    <tr>\n",
       "      <th>2018-01-17</th>\n",
       "      <td>-1.204068</td>\n",
       "      <td>-0.232993</td>\n",
       "      <td>1.311236</td>\n",
       "      <td>-0.917550</td>\n",
       "      <td>0.007039</td>\n",
       "      <td>777.000000</td>\n",
       "    </tr>\n",
       "    <tr>\n",
       "      <th>2018-01-18</th>\n",
       "      <td>-0.300642</td>\n",
       "      <td>0.281422</td>\n",
       "      <td>-1.352467</td>\n",
       "      <td>-0.331746</td>\n",
       "      <td>-0.605602</td>\n",
       "      <td>777.000000</td>\n",
       "    </tr>\n",
       "    <tr>\n",
       "      <th>2018-01-19</th>\n",
       "      <td>-0.006603</td>\n",
       "      <td>1.541483</td>\n",
       "      <td>-0.231396</td>\n",
       "      <td>-0.355813</td>\n",
       "      <td>0.058147</td>\n",
       "      <td>777.000000</td>\n",
       "    </tr>\n",
       "    <tr>\n",
       "      <th>2018-01-20</th>\n",
       "      <td>-0.250886</td>\n",
       "      <td>-0.468009</td>\n",
       "      <td>-0.776829</td>\n",
       "      <td>-0.865026</td>\n",
       "      <td>0.819810</td>\n",
       "      <td>777.000000</td>\n",
       "    </tr>\n",
       "    <tr>\n",
       "      <th>2018-01-21</th>\n",
       "      <td>-2.024543</td>\n",
       "      <td>-0.980313</td>\n",
       "      <td>1.112777</td>\n",
       "      <td>-0.447068</td>\n",
       "      <td>-1.833654</td>\n",
       "      <td>777.000000</td>\n",
       "    </tr>\n",
       "    <tr>\n",
       "      <th>2018-01-22</th>\n",
       "      <td>0.704694</td>\n",
       "      <td>0.040498</td>\n",
       "      <td>0.241372</td>\n",
       "      <td>-1.076092</td>\n",
       "      <td>1.523059</td>\n",
       "      <td>0.704694</td>\n",
       "    </tr>\n",
       "    <tr>\n",
       "      <th>2018-01-23</th>\n",
       "      <td>-0.921490</td>\n",
       "      <td>0.064937</td>\n",
       "      <td>1.452934</td>\n",
       "      <td>-0.373856</td>\n",
       "      <td>-1.173932</td>\n",
       "      <td>777.000000</td>\n",
       "    </tr>\n",
       "    <tr>\n",
       "      <th>2018-01-24</th>\n",
       "      <td>0.762826</td>\n",
       "      <td>-1.053250</td>\n",
       "      <td>0.939124</td>\n",
       "      <td>1.483456</td>\n",
       "      <td>0.994727</td>\n",
       "      <td>0.762826</td>\n",
       "    </tr>\n",
       "    <tr>\n",
       "      <th>2018-01-25</th>\n",
       "      <td>-2.142900</td>\n",
       "      <td>0.759637</td>\n",
       "      <td>0.060824</td>\n",
       "      <td>-0.485041</td>\n",
       "      <td>0.158743</td>\n",
       "      <td>777.000000</td>\n",
       "    </tr>\n",
       "    <tr>\n",
       "      <th>2018-01-26</th>\n",
       "      <td>-0.234892</td>\n",
       "      <td>1.003033</td>\n",
       "      <td>0.791332</td>\n",
       "      <td>0.621835</td>\n",
       "      <td>1.619076</td>\n",
       "      <td>777.000000</td>\n",
       "    </tr>\n",
       "    <tr>\n",
       "      <th>2018-01-27</th>\n",
       "      <td>-1.211249</td>\n",
       "      <td>-0.212276</td>\n",
       "      <td>0.115875</td>\n",
       "      <td>1.710685</td>\n",
       "      <td>0.552724</td>\n",
       "      <td>777.000000</td>\n",
       "    </tr>\n",
       "    <tr>\n",
       "      <th>2018-01-28</th>\n",
       "      <td>-0.048375</td>\n",
       "      <td>0.183992</td>\n",
       "      <td>-0.986368</td>\n",
       "      <td>0.793817</td>\n",
       "      <td>0.142912</td>\n",
       "      <td>777.000000</td>\n",
       "    </tr>\n",
       "    <tr>\n",
       "      <th>2018-01-29</th>\n",
       "      <td>-1.832057</td>\n",
       "      <td>0.744986</td>\n",
       "      <td>0.517366</td>\n",
       "      <td>-0.024108</td>\n",
       "      <td>0.249193</td>\n",
       "      <td>777.000000</td>\n",
       "    </tr>\n",
       "    <tr>\n",
       "      <th>2018-01-30</th>\n",
       "      <td>-0.146344</td>\n",
       "      <td>0.006193</td>\n",
       "      <td>1.155677</td>\n",
       "      <td>-1.451599</td>\n",
       "      <td>-0.820473</td>\n",
       "      <td>777.000000</td>\n",
       "    </tr>\n",
       "    <tr>\n",
       "      <th>2018-01-31</th>\n",
       "      <td>-1.613310</td>\n",
       "      <td>0.845467</td>\n",
       "      <td>-0.147810</td>\n",
       "      <td>0.257635</td>\n",
       "      <td>-0.647754</td>\n",
       "      <td>777.000000</td>\n",
       "    </tr>\n",
       "    <tr>\n",
       "      <th>2018-02-01</th>\n",
       "      <td>1.012828</td>\n",
       "      <td>0.732809</td>\n",
       "      <td>1.079496</td>\n",
       "      <td>-1.122462</td>\n",
       "      <td>-0.337591</td>\n",
       "      <td>1.012828</td>\n",
       "    </tr>\n",
       "    <tr>\n",
       "      <th>2018-02-02</th>\n",
       "      <td>2.030337</td>\n",
       "      <td>1.024203</td>\n",
       "      <td>0.770975</td>\n",
       "      <td>0.982594</td>\n",
       "      <td>2.008981</td>\n",
       "      <td>2.030337</td>\n",
       "    </tr>\n",
       "    <tr>\n",
       "      <th>2018-02-03</th>\n",
       "      <td>-0.594647</td>\n",
       "      <td>-0.390286</td>\n",
       "      <td>-0.167343</td>\n",
       "      <td>-0.938955</td>\n",
       "      <td>0.967445</td>\n",
       "      <td>777.000000</td>\n",
       "    </tr>\n",
       "    <tr>\n",
       "      <th>2018-02-04</th>\n",
       "      <td>0.854664</td>\n",
       "      <td>0.206504</td>\n",
       "      <td>0.423238</td>\n",
       "      <td>-0.128525</td>\n",
       "      <td>-0.181160</td>\n",
       "      <td>0.854664</td>\n",
       "    </tr>\n",
       "    <tr>\n",
       "      <th>2018-02-05</th>\n",
       "      <td>0.325858</td>\n",
       "      <td>0.479418</td>\n",
       "      <td>1.206131</td>\n",
       "      <td>-0.639500</td>\n",
       "      <td>1.325878</td>\n",
       "      <td>0.325858</td>\n",
       "    </tr>\n",
       "    <tr>\n",
       "      <th>2018-02-06</th>\n",
       "      <td>2.085741</td>\n",
       "      <td>-0.307787</td>\n",
       "      <td>-0.333581</td>\n",
       "      <td>0.224071</td>\n",
       "      <td>-2.403694</td>\n",
       "      <td>2.085741</td>\n",
       "    </tr>\n",
       "    <tr>\n",
       "      <th>2018-02-07</th>\n",
       "      <td>-0.463883</td>\n",
       "      <td>-0.579673</td>\n",
       "      <td>0.051287</td>\n",
       "      <td>-0.294935</td>\n",
       "      <td>-0.181219</td>\n",
       "      <td>777.000000</td>\n",
       "    </tr>\n",
       "    <tr>\n",
       "      <th>2018-02-08</th>\n",
       "      <td>-0.653658</td>\n",
       "      <td>-1.836723</td>\n",
       "      <td>-1.338357</td>\n",
       "      <td>0.307125</td>\n",
       "      <td>0.260978</td>\n",
       "      <td>777.000000</td>\n",
       "    </tr>\n",
       "    <tr>\n",
       "      <th>2018-02-09</th>\n",
       "      <td>-0.651391</td>\n",
       "      <td>0.303703</td>\n",
       "      <td>1.285264</td>\n",
       "      <td>-1.991335</td>\n",
       "      <td>0.095505</td>\n",
       "      <td>777.000000</td>\n",
       "    </tr>\n",
       "    <tr>\n",
       "      <th>2018-02-10</th>\n",
       "      <td>0.233587</td>\n",
       "      <td>-1.010795</td>\n",
       "      <td>-0.293020</td>\n",
       "      <td>-0.706929</td>\n",
       "      <td>-0.404187</td>\n",
       "      <td>0.233587</td>\n",
       "    </tr>\n",
       "    <tr>\n",
       "      <th>2018-02-11</th>\n",
       "      <td>0.342744</td>\n",
       "      <td>0.832532</td>\n",
       "      <td>-1.042438</td>\n",
       "      <td>-1.196622</td>\n",
       "      <td>0.334268</td>\n",
       "      <td>0.342744</td>\n",
       "    </tr>\n",
       "    <tr>\n",
       "      <th>2018-02-12</th>\n",
       "      <td>-0.159613</td>\n",
       "      <td>-1.112006</td>\n",
       "      <td>-1.666763</td>\n",
       "      <td>0.317835</td>\n",
       "      <td>0.790312</td>\n",
       "      <td>777.000000</td>\n",
       "    </tr>\n",
       "    <tr>\n",
       "      <th>2018-02-13</th>\n",
       "      <td>0.993462</td>\n",
       "      <td>-0.405821</td>\n",
       "      <td>-1.572253</td>\n",
       "      <td>0.560230</td>\n",
       "      <td>-3.064815</td>\n",
       "      <td>0.993462</td>\n",
       "    </tr>\n",
       "    <tr>\n",
       "      <th>2018-02-14</th>\n",
       "      <td>0.682318</td>\n",
       "      <td>-0.845069</td>\n",
       "      <td>1.153727</td>\n",
       "      <td>-0.378098</td>\n",
       "      <td>-0.409732</td>\n",
       "      <td>0.682318</td>\n",
       "    </tr>\n",
       "    <tr>\n",
       "      <th>2018-02-15</th>\n",
       "      <td>1.149719</td>\n",
       "      <td>0.425296</td>\n",
       "      <td>1.548663</td>\n",
       "      <td>0.988586</td>\n",
       "      <td>-0.790315</td>\n",
       "      <td>1.149719</td>\n",
       "    </tr>\n",
       "    <tr>\n",
       "      <th>2018-02-16</th>\n",
       "      <td>-0.048409</td>\n",
       "      <td>-1.718671</td>\n",
       "      <td>-0.966581</td>\n",
       "      <td>-0.911894</td>\n",
       "      <td>0.553467</td>\n",
       "      <td>777.000000</td>\n",
       "    </tr>\n",
       "    <tr>\n",
       "      <th>2018-02-17</th>\n",
       "      <td>-1.428281</td>\n",
       "      <td>0.963084</td>\n",
       "      <td>-1.549658</td>\n",
       "      <td>-0.104183</td>\n",
       "      <td>0.071244</td>\n",
       "      <td>777.000000</td>\n",
       "    </tr>\n",
       "    <tr>\n",
       "      <th>2018-02-18</th>\n",
       "      <td>0.654448</td>\n",
       "      <td>1.116655</td>\n",
       "      <td>-0.173019</td>\n",
       "      <td>-0.363281</td>\n",
       "      <td>-0.398746</td>\n",
       "      <td>0.654448</td>\n",
       "    </tr>\n",
       "    <tr>\n",
       "      <th>2018-02-19</th>\n",
       "      <td>0.429980</td>\n",
       "      <td>-1.482905</td>\n",
       "     "
      ],
      "text/plain": [
       "                   A         B         C         D         E           F\n",
       "2018-01-01 -1.122778  1.496506  1.376349 -0.925309  0.687414  777.000000\n",
       "2018-01-02  1.259287  1.073847  0.186905  1.068530  0.290716    1.259287\n",
       "2018-01-03 -1.079297  0.803675  0.876798  0.135208  1.548936  777.000000\n",
       "2018-01-04  1.245209  0.736272  1.075055 -3.332044 -0.609395    1.245209\n",
       "2018-01-05  0.784776 -0.080956  0.447954 -1.005841 -0.631863    0.784776\n",
       "2018-01-06 -0.347378 -0.576654  0.383794  1.108066  0.360986  777.000000\n",
       "2018-01-07 -0.892278 -0.046028  0.016883 -0.523276 -2.087596  777.000000\n",
       "2018-01-08 -0.766383 -0.643804 -1.666478  0.123175  0.829797  777.000000\n",
       "2018-01-09  0.386988 -0.210389  0.535649 -0.723457 -1.044794    0.386988\n",
       "2018-01-10 -0.512577 -0.315684 -0.478851  0.309799  1.417146  777.000000\n",
       "2018-01-11 -0.429350 -1.247811  1.776123  0.869190  0.297354  777.000000\n",
       "2018-01-12  0.644965 -1.592951  0.153128 -1.787307 -0.251625    0.644965\n",
       "2018-01-13  0.818904  0.481946  0.019999 -1.091138 -0.745217    0.818904\n",
       "2018-01-14 -1.315440 -0.935859 -0.186171  0.583647 -1.157519  777.000000\n",
       "2018-01-15  0.417939  0.943503 -0.698439  0.770907 -0.384125    0.417939\n",
       "2018-01-16 -1.845085 -1.260948 -0.941284  0.782770 -0.658090  777.000000\n",
       "2018-01-17 -1.204068 -0.232993  1.311236 -0.917550  0.007039  777.000000\n",
       "2018-01-18 -0.300642  0.281422 -1.352467 -0.331746 -0.605602  777.000000\n",
       "2018-01-19 -0.006603  1.541483 -0.231396 -0.355813  0.058147  777.000000\n",
       "2018-01-20 -0.250886 -0.468009 -0.776829 -0.865026  0.819810  777.000000\n",
       "2018-01-21 -2.024543 -0.980313  1.112777 -0.447068 -1.833654  777.000000\n",
       "2018-01-22  0.704694  0.040498  0.241372 -1.076092  1.523059    0.704694\n",
       "2018-01-23 -0.921490  0.064937  1.452934 -0.373856 -1.173932  777.000000\n",
       "2018-01-24  0.762826 -1.053250  0.939124  1.483456  0.994727    0.762826\n",
       "2018-01-25 -2.142900  0.759637  0.060824 -0.485041  0.158743  777.000000\n",
       "2018-01-26 -0.234892  1.003033  0.791332  0.621835  1.619076  777.000000\n",
       "2018-01-27 -1.211249 -0.212276  0.115875  1.710685  0.552724  777.000000\n",
       "2018-01-28 -0.048375  0.183992 -0.986368  0.793817  0.142912  777.000000\n",
       "2018-01-29 -1.832057  0.744986  0.517366 -0.024108  0.249193  777.000000\n",
       "2018-01-30 -0.146344  0.006193  1.155677 -1.451599 -0.820473  777.000000\n",
       "2018-01-31 -1.613310  0.845467 -0.147810  0.257635 -0.647754  777.000000\n",
       "2018-02-01  1.012828  0.732809  1.079496 -1.122462 -0.337591    1.012828\n",
       "2018-02-02  2.030337  1.024203  0.770975  0.982594  2.008981    2.030337\n",
       "2018-02-03 -0.594647 -0.390286 -0.167343 -0.938955  0.967445  777.000000\n",
       "2018-02-04  0.854664  0.206504  0.423238 -0.128525 -0.181160    0.854664\n",
       "2018-02-05  0.325858  0.479418  1.206131 -0.639500  1.325878    0.325858\n",
       "2018-02-06  2.085741 -0.307787 -0.333581  0.224071 -2.403694    2.085741\n",
       "2018-02-07 -0.463883 -0.579673  0.051287 -0.294935 -0.181219  777.000000\n",
       "2018-02-08 -0.653658 -1.836723 -1.338357  0.307125  0.260978  777.000000\n",
       "2018-02-09 -0.651391  0.303703  1.285264 -1.991335  0.095505  777.000000\n",
       "2018-02-10  0.233587 -1.010795 -0.293020 -0.706929 -0.404187    0.233587\n",
       "2018-02-11  0.342744  0.832532 -1.042438 -1.196622  0.334268    0.342744\n",
       "2018-02-12 -0.159613 -1.112006 -1.666763  0.317835  0.790312  777.000000\n",
       "2018-02-13  0.993462 -0.405821 -1.572253  0.560230 -3.064815    0.993462\n",
       "2018-02-14  0.682318 -0.845069  1.153727 -0.378098 -0.409732    0.682318\n",
       "2018-02-15  1.149719  0.425296  1.548663  0.988586 -0.790315    1.149719\n",
       "2018-02-16 -0.048409 -1.718671 -0.966581 -0.911894  0.553467  777.000000\n",
       "2018-02-17 -1.428281  0.963084 -1.549658 -0.104183  0.071244  777.000000\n",
       "2018-02-18  0.654448  1.116655 -0.173019 -0.363281 -0.398746    0.654448\n",
       "2018-02-19  0.429980 -1.482905 -0.400742 -1.913236 -0.968202    0.429980\n",
       "2018-02-20 -0.884732  1.858194  2.742309  0.803058 -0.113533  777.000000\n",
       "2018-02-21 -0.893889 -0.767493 -0.270004  0.765575 -0.557323  777.000000\n",
       "2018-02-22  1.088041  0.283221 -1.115450  1.138023 -0.508576    1.088041\n",
       "2018-02-23  1.246003 -0.925379  0.392859 -1.055264  0.423717    1.246003\n",
       "2018-02-24  1.255665 -0.963214 -0.248010  0.404877  0.427357    1.255665\n",
       "2018-02-25  2.152257 -1.945630  0.595597  0.937639 -1.285223    2.152257\n",
       "2018-02-26 -0.408319  1.059850  1.967860  0.767390  1.098931  777.000000\n",
       "2018-02-27 -1.092143  0.272335  0.594089 -0.400421 -0.497983  777.000000\n",
       "2018-02-28 -0.138751  1.825725 -1.390104  0.310734  0.125784  777.000000\n",
       "2018-03-01  2.031596 -0.467719 -0.543571  2.327489 -1.132953    2.031596"
      ]
     },
     "execution_count": 330,
     "metadata": {},
     "output_type": "execute_result"
    },
    {
     "data": {
      "text/html": [
       "<b>limit_output extension: Maximum message size of 10000 exceeded with 12053 characters</b>"
      ]
     },
     "metadata": {},
     "output_type": "display_data"
    }
   ],
   "source": [
    "df3.fillna(value = 777)"
   ]
  },
  {
   "cell_type": "markdown",
   "id": "41a6ed68",
   "metadata": {
    "heading_collapsed": true
   },
   "source": [
    "### 2.7.3. Dados únicos"
   ]
  },
  {
   "cell_type": "code",
   "execution_count": 331,
   "id": "668a58bc",
   "metadata": {
    "ExecuteTime": {
     "end_time": "2022-05-19T12:11:00.916853Z",
     "start_time": "2022-05-19T12:11:00.858825Z"
    },
    "hidden": true
   },
   "outputs": [
    {
     "ename": "SyntaxError",
     "evalue": "invalid syntax (1595429303.py, line 7)",
     "output_type": "error",
     "traceback": [
      "\u001b[1;36m  Input \u001b[1;32mIn [331]\u001b[1;36m\u001b[0m\n\u001b[1;33m    'G': [2, 2, 4, 4],http://localhost:8888/notebooks/Desktop/ad/analise_de_dados/notebooks/fundamentos_da_linguagem_python.ipynb#2.7.3.-Dados-%C3%BAnicos\u001b[0m\n\u001b[1;37m                           ^\u001b[0m\n\u001b[1;31mSyntaxError\u001b[0m\u001b[1;31m:\u001b[0m invalid syntax\n"
     ]
    }
   ],
   "source": [
    "df2 = pd.DataFrame({'A': 1.,\n",
    "                    'B': pd.Timestamp('20130102'),\n",
    "                    'C': pd.Series(1, index = list(range(4)), dtype= 'float32'),\n",
    "                    'D': np.array([3] * 4, dtype = 'int32'),\n",
    "                    'E': pd.Categorical(['test', 'train', 'test', 'train']),\n",
    "                    'F': 'Python',\n",
    "                    'G': [2, 2, 4, 4],http://localhost:8888/notebooks/Desktop/ad/analise_de_dados/notebooks/fundamentos_da_linguagem_python.ipynb#2.7.3.-Dados-%C3%BAnicos\n",
    "                    'H': [np.nan, 2, 4, np.nan]\n",
    "    \n",
    "})"
   ]
  },
  {
   "cell_type": "code",
   "execution_count": null,
   "id": "22e1908f",
   "metadata": {
    "ExecuteTime": {
     "end_time": "2022-05-19T12:11:00.923848Z",
     "start_time": "2022-05-19T12:11:00.923848Z"
    },
    "hidden": true
   },
   "outputs": [],
   "source": [
    "df2"
   ]
  },
  {
   "cell_type": "markdown",
   "id": "cfb1e912",
   "metadata": {
    "hidden": true
   },
   "source": [
    "Sempre que usar a função nunique ela aponta os dados ÚNICOS ( axis=0 está relacionado a linha e axis= 1 à coluna)"
   ]
  },
  {
   "cell_type": "code",
   "execution_count": null,
   "id": "d86d3371",
   "metadata": {
    "ExecuteTime": {
     "end_time": "2022-05-19T12:11:00.929844Z",
     "start_time": "2022-05-19T12:11:00.929844Z"
    },
    "hidden": true,
    "scrolled": true
   },
   "outputs": [],
   "source": [
    "df2.nunique(axis = 1, dropna = True)"
   ]
  },
  {
   "cell_type": "markdown",
   "id": "3c7bb66d",
   "metadata": {
    "heading_collapsed": true
   },
   "source": [
    "### 2.7.4. Dados duplicados"
   ]
  },
  {
   "cell_type": "markdown",
   "id": "99e4429d",
   "metadata": {
    "hidden": true
   },
   "source": [
    "**Essa função mostra valores duplicados em todas as linhas**"
   ]
  },
  {
   "cell_type": "code",
   "execution_count": null,
   "id": "de84aabe",
   "metadata": {
    "ExecuteTime": {
     "end_time": "2022-05-19T12:11:00.932839Z",
     "start_time": "2022-05-19T12:11:00.932839Z"
    },
    "hidden": true,
    "scrolled": true
   },
   "outputs": [],
   "source": [
    "df2.drop_duplicates()"
   ]
  },
  {
   "cell_type": "markdown",
   "id": "5b1b0ee8",
   "metadata": {
    "hidden": true
   },
   "source": [
    "**Essa função mantém o 1° valor e exclui os valores duplicados na coluna especificada**"
   ]
  },
  {
   "cell_type": "code",
   "execution_count": null,
   "id": "d11769d3",
   "metadata": {
    "ExecuteTime": {
     "end_time": "2022-05-19T12:11:00.934841Z",
     "start_time": "2022-05-19T12:11:00.934841Z"
    },
    "hidden": true
   },
   "outputs": [],
   "source": [
    "df2.drop_duplicates(subset= 'G')"
   ]
  },
  {
   "cell_type": "markdown",
   "id": "f06c713f",
   "metadata": {},
   "source": [
    "### 2.7.5. Ordenação dos dados"
   ]
  },
  {
   "cell_type": "code",
   "execution_count": null,
   "id": "b63169d7",
   "metadata": {
    "ExecuteTime": {
     "end_time": "2022-05-19T12:11:00.937837Z",
     "start_time": "2022-05-19T12:11:00.937837Z"
    }
   },
   "outputs": [],
   "source": [
    "df = pd.DataFrame({\n",
    "                    'col1' : [ 'A', 'A', 'B', np.nan, 'D', 'C' ],  \n",
    "                    'col2' : [ 2, 1, 9, 8, 7, 4 ],\n",
    "                    'col3' : [ 0, 1, 9, 4, 2, 3 ],\n",
    "                })"
   ]
  },
  {
   "cell_type": "code",
   "execution_count": null,
   "id": "d9a1ea0e",
   "metadata": {
    "ExecuteTime": {
     "end_time": "2022-05-19T12:11:00.940835Z",
     "start_time": "2022-05-19T12:11:00.940835Z"
    }
   },
   "outputs": [],
   "source": [
    "df"
   ]
  },
  {
   "cell_type": "markdown",
   "id": "fdaae071",
   "metadata": {},
   "source": [
    "**Ordenação de valores pela coluna 1**"
   ]
  },
  {
   "cell_type": "code",
   "execution_count": null,
   "id": "7e7b038d",
   "metadata": {
    "ExecuteTime": {
     "end_time": "2022-05-19T12:11:00.943834Z",
     "start_time": "2022-05-19T12:11:00.943834Z"
    },
    "scrolled": true
   },
   "outputs": [],
   "source": [
    "df.sort_values(by='col1')"
   ]
  },
  {
   "cell_type": "markdown",
   "id": "c70521c5",
   "metadata": {},
   "source": [
    "**Ordenação de valores pelas colunas 1 e 2**"
   ]
  },
  {
   "cell_type": "code",
   "execution_count": null,
   "id": "a86f4da9",
   "metadata": {
    "ExecuteTime": {
     "end_time": "2022-05-19T12:11:00.946833Z",
     "start_time": "2022-05-19T12:11:00.946833Z"
    },
    "scrolled": true
   },
   "outputs": [],
   "source": [
    "df.sort_values(by=['col1', 'col2'])"
   ]
  },
  {
   "cell_type": "markdown",
   "id": "619c6ff0",
   "metadata": {},
   "source": [
    "**Ordenação de valores pelas colunas 1 e 2 de forma decrescente**"
   ]
  },
  {
   "cell_type": "code",
   "execution_count": null,
   "id": "d6c02823",
   "metadata": {
    "ExecuteTime": {
     "end_time": "2022-05-19T12:11:00.949832Z",
     "start_time": "2022-05-19T12:11:00.949832Z"
    }
   },
   "outputs": [],
   "source": [
    "df.sort_values(by=['col1', 'col2'], ascending= False)"
   ]
  }
 ],
 "metadata": {
  "kernelspec": {
   "display_name": "Python 3 (ipykernel)",
   "language": "python",
   "name": "python3"
  },
  "language_info": {
   "codemirror_mode": {
    "name": "ipython",
    "version": 3
   },
   "file_extension": ".py",
   "mimetype": "text/x-python",
   "name": "python",
   "nbconvert_exporter": "python",
   "pygments_lexer": "ipython3",
   "version": "3.9.12"
  },
  "varInspector": {
   "cols": {
    "lenName": 16,
    "lenType": 16,
    "lenVar": 40
   },
   "kernels_config": {
    "python": {
     "delete_cmd_postfix": "",
     "delete_cmd_prefix": "del ",
     "library": "var_list.py",
     "varRefreshCmd": "print(var_dic_list())"
    },
    "r": {
     "delete_cmd_postfix": ") ",
     "delete_cmd_prefix": "rm(",
     "library": "var_list.r",
     "varRefreshCmd": "cat(var_dic_list()) "
    }
   },
   "types_to_exclude": [
    "module",
    "function",
    "builtin_function_or_method",
    "instance",
    "_Feature"
   ],
   "window_display": false
  }
 },
 "nbformat": 4,
 "nbformat_minor": 5
}
