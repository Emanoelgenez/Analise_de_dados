{
 "cells": [
  {
   "cell_type": "markdown",
   "id": "4b15d2fc",
   "metadata": {},
   "source": [
    "<h1>\n",
    "   <font color = \"grey\">Fundamentos da linguagem Python</font>\n",
    "</h1>"
   ]
  },
  {
   "cell_type": "code",
   "execution_count": 1,
   "id": "4bc53e0d",
   "metadata": {
    "ExecuteTime": {
     "end_time": "2022-04-19T17:37:44.795130Z",
     "start_time": "2022-04-19T17:37:44.773144Z"
    },
    "scrolled": true
   },
   "outputs": [
    {
     "name": "stdout",
     "output_type": "stream",
     "text": [
      "olá mundo!\n"
     ]
    }
   ],
   "source": [
    "print('olá mundo!')"
   ]
  },
  {
   "cell_type": "markdown",
   "id": "6f12b49e",
   "metadata": {},
   "source": [
    "olá mundo!"
   ]
  },
  {
   "cell_type": "markdown",
   "id": "e3769676",
   "metadata": {},
   "source": [
    "<h4>olá mundo!</h4>"
   ]
  },
  {
   "cell_type": "markdown",
   "id": "dc976fe6",
   "metadata": {},
   "source": [
    "# MÓDULO 1"
   ]
  },
  {
   "cell_type": "markdown",
   "id": "e0a62a4d",
   "metadata": {},
   "source": [
    "## 1.1. Operadores matemáticos"
   ]
  },
  {
   "cell_type": "code",
   "execution_count": 2,
   "id": "db5f029d",
   "metadata": {},
   "outputs": [
    {
     "data": {
      "text/plain": [
       "12"
      ]
     },
     "execution_count": 2,
     "metadata": {},
     "output_type": "execute_result"
    }
   ],
   "source": [
    "# adição \n",
    "\n",
    "5 + 7"
   ]
  },
  {
   "cell_type": "code",
   "execution_count": 3,
   "id": "086754d5",
   "metadata": {},
   "outputs": [
    {
     "data": {
      "text/plain": [
       "12"
      ]
     },
     "execution_count": 3,
     "metadata": {},
     "output_type": "execute_result"
    }
   ],
   "source": [
    "# subtração \n",
    "\n",
    "21 - 9"
   ]
  },
  {
   "cell_type": "code",
   "execution_count": 4,
   "id": "73ad00a4",
   "metadata": {},
   "outputs": [
    {
     "data": {
      "text/plain": [
       "27"
      ]
     },
     "execution_count": 4,
     "metadata": {},
     "output_type": "execute_result"
    }
   ],
   "source": [
    "# multiplicação \n",
    "\n",
    "3 * 9"
   ]
  },
  {
   "cell_type": "code",
   "execution_count": 5,
   "id": "7edf81d3",
   "metadata": {},
   "outputs": [
    {
     "data": {
      "text/plain": [
       "19.666666666666668"
      ]
     },
     "execution_count": 5,
     "metadata": {},
     "output_type": "execute_result"
    }
   ],
   "source": [
    "# divisão\n",
    "\n",
    "59 / 3"
   ]
  },
  {
   "cell_type": "markdown",
   "id": "ccae3f61",
   "metadata": {},
   "source": [
    "### 1.1.1. Operação com variáveis"
   ]
  },
  {
   "cell_type": "code",
   "execution_count": 6,
   "id": "a4163fb5",
   "metadata": {},
   "outputs": [],
   "source": [
    "a = 39"
   ]
  },
  {
   "cell_type": "code",
   "execution_count": 7,
   "id": "1fa667db",
   "metadata": {
    "scrolled": true
   },
   "outputs": [],
   "source": [
    "b = a + 1"
   ]
  },
  {
   "cell_type": "code",
   "execution_count": 8,
   "id": "8a48dfe1",
   "metadata": {},
   "outputs": [
    {
     "data": {
      "text/plain": [
       "40"
      ]
     },
     "execution_count": 8,
     "metadata": {},
     "output_type": "execute_result"
    }
   ],
   "source": [
    "b"
   ]
  },
  {
   "cell_type": "code",
   "execution_count": 9,
   "id": "068ca6e0",
   "metadata": {},
   "outputs": [
    {
     "data": {
      "text/plain": [
       "80"
      ]
     },
     "execution_count": 9,
     "metadata": {},
     "output_type": "execute_result"
    }
   ],
   "source": [
    "b * 2"
   ]
  },
  {
   "cell_type": "markdown",
   "id": "03ed7a7e",
   "metadata": {},
   "source": [
    "**Aquecimento operadores matemáticos**"
   ]
  },
  {
   "cell_type": "code",
   "execution_count": 10,
   "id": "2cc48ee6",
   "metadata": {},
   "outputs": [],
   "source": [
    "# compras \n",
    "\n",
    "\n",
    "arroz = 10\n",
    "leite = 11.50\n",
    "carne = 30.80\n",
    "sabonete = 9.56\n",
    "alvejante = 19.58"
   ]
  },
  {
   "cell_type": "code",
   "execution_count": 11,
   "id": "b849174d",
   "metadata": {},
   "outputs": [],
   "source": [
    "resultado = arroz + leite + carne + sabonete + alvejante "
   ]
  },
  {
   "cell_type": "code",
   "execution_count": 12,
   "id": "2c0582cd",
   "metadata": {},
   "outputs": [
    {
     "data": {
      "text/plain": [
       "81.44"
      ]
     },
     "execution_count": 12,
     "metadata": {},
     "output_type": "execute_result"
    }
   ],
   "source": [
    "resultado"
   ]
  },
  {
   "cell_type": "code",
   "execution_count": 13,
   "id": "2ed10c8b",
   "metadata": {},
   "outputs": [
    {
     "name": "stdout",
     "output_type": "stream",
     "text": [
      "O valor total das compras é: R$ 81.44\n"
     ]
    }
   ],
   "source": [
    "print('O valor total das compras é: R$', resultado)"
   ]
  },
  {
   "cell_type": "code",
   "execution_count": 14,
   "id": "d6934e22",
   "metadata": {},
   "outputs": [
    {
     "data": {
      "text/plain": [
       "4"
      ]
     },
     "execution_count": 14,
     "metadata": {},
     "output_type": "execute_result"
    }
   ],
   "source": [
    "# potenciação \n",
    "\n",
    "2 ** 2"
   ]
  },
  {
   "cell_type": "code",
   "execution_count": 15,
   "id": "45175d16",
   "metadata": {},
   "outputs": [
    {
     "data": {
      "text/plain": [
       "3"
      ]
     },
     "execution_count": 15,
     "metadata": {},
     "output_type": "execute_result"
    }
   ],
   "source": [
    "# módulo ou resto da divisão \n",
    "\n",
    "10 % 7"
   ]
  },
  {
   "cell_type": "code",
   "execution_count": null,
   "id": "1747e6b9",
   "metadata": {},
   "outputs": [],
   "source": []
  },
  {
   "cell_type": "code",
   "execution_count": null,
   "id": "a8a27945",
   "metadata": {},
   "outputs": [],
   "source": []
  },
  {
   "cell_type": "code",
   "execution_count": null,
   "id": "77d5b6fa",
   "metadata": {},
   "outputs": [],
   "source": []
  },
  {
   "cell_type": "code",
   "execution_count": null,
   "id": "d6c1eb20",
   "metadata": {},
   "outputs": [],
   "source": []
  },
  {
   "cell_type": "code",
   "execution_count": null,
   "id": "b31d46f3",
   "metadata": {},
   "outputs": [],
   "source": []
  },
  {
   "cell_type": "code",
   "execution_count": null,
   "id": "e662f5aa",
   "metadata": {},
   "outputs": [],
   "source": []
  },
  {
   "cell_type": "code",
   "execution_count": null,
   "id": "c1bfe4f0",
   "metadata": {},
   "outputs": [],
   "source": []
  },
  {
   "cell_type": "code",
   "execution_count": null,
   "id": "36cc999d",
   "metadata": {},
   "outputs": [],
   "source": []
  },
  {
   "cell_type": "code",
   "execution_count": null,
   "id": "2a7c4492",
   "metadata": {},
   "outputs": [],
   "source": []
  }
 ],
 "metadata": {
  "kernelspec": {
   "display_name": "Python 3 (ipykernel)",
   "language": "python",
   "name": "python3"
  },
  "language_info": {
   "codemirror_mode": {
    "name": "ipython",
    "version": 3
   },
   "file_extension": ".py",
   "mimetype": "text/x-python",
   "name": "python",
   "nbconvert_exporter": "python",
   "pygments_lexer": "ipython3",
   "version": "3.9.12"
  },
  "varInspector": {
   "cols": {
    "lenName": 16,
    "lenType": 16,
    "lenVar": 40
   },
   "kernels_config": {
    "python": {
     "delete_cmd_postfix": "",
     "delete_cmd_prefix": "del ",
     "library": "var_list.py",
     "varRefreshCmd": "print(var_dic_list())"
    },
    "r": {
     "delete_cmd_postfix": ") ",
     "delete_cmd_prefix": "rm(",
     "library": "var_list.r",
     "varRefreshCmd": "cat(var_dic_list()) "
    }
   },
   "types_to_exclude": [
    "module",
    "function",
    "builtin_function_or_method",
    "instance",
    "_Feature"
   ],
   "window_display": false
  }
 },
 "nbformat": 4,
 "nbformat_minor": 5
}
