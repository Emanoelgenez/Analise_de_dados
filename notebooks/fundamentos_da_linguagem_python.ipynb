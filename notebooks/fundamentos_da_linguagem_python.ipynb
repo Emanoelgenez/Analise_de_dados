{
 "cells": [
  {
   "cell_type": "markdown",
   "id": "4b15d2fc",
   "metadata": {},
   "source": [
    "<h1>\n",
    "   <font color = \"grey\">Fundamentos da linguagem Python</font>\n",
    "</h1>"
   ]
  },
  {
   "cell_type": "markdown",
   "id": "dc976fe6",
   "metadata": {
    "heading_collapsed": true
   },
   "source": [
    "# MÓDULO 1"
   ]
  },
  {
   "cell_type": "markdown",
   "id": "e0a62a4d",
   "metadata": {
    "heading_collapsed": true,
    "hidden": true
   },
   "source": [
    "## 1.1. Operadores matemáticos"
   ]
  },
  {
   "cell_type": "code",
   "execution_count": 168,
   "id": "db5f029d",
   "metadata": {
    "ExecuteTime": {
     "end_time": "2022-05-20T20:17:57.587354Z",
     "start_time": "2022-05-20T20:17:57.574359Z"
    },
    "hidden": true
   },
   "outputs": [
    {
     "data": {
      "text/plain": [
       "12"
      ]
     },
     "execution_count": 168,
     "metadata": {},
     "output_type": "execute_result"
    }
   ],
   "source": [
    "# adição \n",
    "\n",
    "5 + 7"
   ]
  },
  {
   "cell_type": "code",
   "execution_count": 169,
   "id": "086754d5",
   "metadata": {
    "ExecuteTime": {
     "end_time": "2022-05-20T20:17:57.762242Z",
     "start_time": "2022-05-20T20:17:57.590349Z"
    },
    "hidden": true
   },
   "outputs": [
    {
     "data": {
      "text/plain": [
       "12"
      ]
     },
     "execution_count": 169,
     "metadata": {},
     "output_type": "execute_result"
    }
   ],
   "source": [
    "# subtração \n",
    "\n",
    "21 - 9"
   ]
  },
  {
   "cell_type": "code",
   "execution_count": 170,
   "id": "73ad00a4",
   "metadata": {
    "ExecuteTime": {
     "end_time": "2022-05-20T20:17:57.858190Z",
     "start_time": "2022-05-20T20:17:57.766241Z"
    },
    "hidden": true
   },
   "outputs": [
    {
     "data": {
      "text/plain": [
       "27"
      ]
     },
     "execution_count": 170,
     "metadata": {},
     "output_type": "execute_result"
    }
   ],
   "source": [
    "# multiplicação \n",
    "\n",
    "3 * 9"
   ]
  },
  {
   "cell_type": "code",
   "execution_count": 171,
   "id": "7edf81d3",
   "metadata": {
    "ExecuteTime": {
     "end_time": "2022-05-20T20:17:57.952129Z",
     "start_time": "2022-05-20T20:17:57.862184Z"
    },
    "hidden": true
   },
   "outputs": [
    {
     "data": {
      "text/plain": [
       "19.666666666666668"
      ]
     },
     "execution_count": 171,
     "metadata": {},
     "output_type": "execute_result"
    }
   ],
   "source": [
    "# divisão\n",
    "\n",
    "59 / 3"
   ]
  },
  {
   "cell_type": "markdown",
   "id": "ccae3f61",
   "metadata": {
    "hidden": true
   },
   "source": [
    "### 1.1.1. Operação com variáveis"
   ]
  },
  {
   "cell_type": "code",
   "execution_count": 172,
   "id": "a4163fb5",
   "metadata": {
    "ExecuteTime": {
     "end_time": "2022-05-20T20:17:58.016086Z",
     "start_time": "2022-05-20T20:17:57.955124Z"
    },
    "hidden": true
   },
   "outputs": [],
   "source": [
    "a = 39"
   ]
  },
  {
   "cell_type": "code",
   "execution_count": 173,
   "id": "1fa667db",
   "metadata": {
    "ExecuteTime": {
     "end_time": "2022-05-20T20:17:58.096040Z",
     "start_time": "2022-05-20T20:17:58.019086Z"
    },
    "hidden": true,
    "scrolled": true
   },
   "outputs": [],
   "source": [
    "b = a + 1"
   ]
  },
  {
   "cell_type": "code",
   "execution_count": 174,
   "id": "8a48dfe1",
   "metadata": {
    "ExecuteTime": {
     "end_time": "2022-05-20T20:17:58.175991Z",
     "start_time": "2022-05-20T20:17:58.099038Z"
    },
    "hidden": true
   },
   "outputs": [
    {
     "data": {
      "text/plain": [
       "40"
      ]
     },
     "execution_count": 174,
     "metadata": {},
     "output_type": "execute_result"
    }
   ],
   "source": [
    "b"
   ]
  },
  {
   "cell_type": "code",
   "execution_count": 175,
   "id": "068ca6e0",
   "metadata": {
    "ExecuteTime": {
     "end_time": "2022-05-20T20:17:58.269933Z",
     "start_time": "2022-05-20T20:17:58.180987Z"
    },
    "hidden": true
   },
   "outputs": [
    {
     "data": {
      "text/plain": [
       "80"
      ]
     },
     "execution_count": 175,
     "metadata": {},
     "output_type": "execute_result"
    }
   ],
   "source": [
    "b * 2"
   ]
  },
  {
   "cell_type": "markdown",
   "id": "03ed7a7e",
   "metadata": {
    "hidden": true
   },
   "source": [
    "**Aquecimento operadores matemáticos**"
   ]
  },
  {
   "cell_type": "code",
   "execution_count": 176,
   "id": "2cc48ee6",
   "metadata": {
    "ExecuteTime": {
     "end_time": "2022-05-20T20:17:58.349882Z",
     "start_time": "2022-05-20T20:17:58.276928Z"
    },
    "hidden": true
   },
   "outputs": [],
   "source": [
    "# compras \n",
    "\n",
    "\n",
    "arroz = 10\n",
    "leite = 11.50\n",
    "carne = 30.80\n",
    "sabonete = 9.56\n",
    "alvejante = 19.58"
   ]
  },
  {
   "cell_type": "code",
   "execution_count": 177,
   "id": "b849174d",
   "metadata": {
    "ExecuteTime": {
     "end_time": "2022-05-20T20:17:58.429834Z",
     "start_time": "2022-05-20T20:17:58.352883Z"
    },
    "hidden": true
   },
   "outputs": [],
   "source": [
    "resultado = arroz + leite + carne + sabonete + alvejante "
   ]
  },
  {
   "cell_type": "code",
   "execution_count": 178,
   "id": "2c0582cd",
   "metadata": {
    "ExecuteTime": {
     "end_time": "2022-05-20T20:17:58.555757Z",
     "start_time": "2022-05-20T20:17:58.432831Z"
    },
    "hidden": true
   },
   "outputs": [
    {
     "data": {
      "text/plain": [
       "81.44"
      ]
     },
     "execution_count": 178,
     "metadata": {},
     "output_type": "execute_result"
    }
   ],
   "source": [
    "resultado"
   ]
  },
  {
   "cell_type": "code",
   "execution_count": 179,
   "id": "2ed10c8b",
   "metadata": {
    "ExecuteTime": {
     "end_time": "2022-05-20T20:17:58.635708Z",
     "start_time": "2022-05-20T20:17:58.558756Z"
    },
    "hidden": true
   },
   "outputs": [
    {
     "name": "stdout",
     "output_type": "stream",
     "text": [
      "O valor total das compras é: R$ 81.44\n"
     ]
    }
   ],
   "source": [
    "print('O valor total das compras é: R$', resultado)"
   ]
  },
  {
   "cell_type": "code",
   "execution_count": 180,
   "id": "d6934e22",
   "metadata": {
    "ExecuteTime": {
     "end_time": "2022-05-20T20:17:58.717657Z",
     "start_time": "2022-05-20T20:17:58.640704Z"
    },
    "hidden": true
   },
   "outputs": [
    {
     "data": {
      "text/plain": [
       "4"
      ]
     },
     "execution_count": 180,
     "metadata": {},
     "output_type": "execute_result"
    }
   ],
   "source": [
    "# potenciação \n",
    "\n",
    "2 ** 2"
   ]
  },
  {
   "cell_type": "code",
   "execution_count": 181,
   "id": "45175d16",
   "metadata": {
    "ExecuteTime": {
     "end_time": "2022-05-20T20:17:58.803162Z",
     "start_time": "2022-05-20T20:17:58.720655Z"
    },
    "hidden": true
   },
   "outputs": [
    {
     "data": {
      "text/plain": [
       "3"
      ]
     },
     "execution_count": 181,
     "metadata": {},
     "output_type": "execute_result"
    }
   ],
   "source": [
    "# módulo ou resto da divisão \n",
    "\n",
    "10 % 7"
   ]
  },
  {
   "cell_type": "markdown",
   "id": "897ad1f6",
   "metadata": {
    "heading_collapsed": true,
    "hidden": true
   },
   "source": [
    "## 1.2. Operadores relacionais"
   ]
  },
  {
   "cell_type": "code",
   "execution_count": 182,
   "id": "a8a27945",
   "metadata": {
    "ExecuteTime": {
     "end_time": "2022-05-20T20:17:58.895584Z",
     "start_time": "2022-05-20T20:17:58.807160Z"
    },
    "hidden": true
   },
   "outputs": [
    {
     "data": {
      "text/plain": [
       "False"
      ]
     },
     "execution_count": 182,
     "metadata": {},
     "output_type": "execute_result"
    }
   ],
   "source": [
    "# igualdade\n",
    "\n",
    "700 == 90"
   ]
  },
  {
   "cell_type": "code",
   "execution_count": 183,
   "id": "80c60896",
   "metadata": {
    "ExecuteTime": {
     "end_time": "2022-05-20T20:17:59.022157Z",
     "start_time": "2022-05-20T20:17:58.898637Z"
    },
    "hidden": true
   },
   "outputs": [
    {
     "data": {
      "text/plain": [
       "True"
      ]
     },
     "execution_count": 183,
     "metadata": {},
     "output_type": "execute_result"
    }
   ],
   "source": [
    "100 == 100"
   ]
  },
  {
   "cell_type": "code",
   "execution_count": 184,
   "id": "305e00c2",
   "metadata": {
    "ExecuteTime": {
     "end_time": "2022-05-20T20:17:59.103137Z",
     "start_time": "2022-05-20T20:17:59.031149Z"
    },
    "hidden": true
   },
   "outputs": [
    {
     "data": {
      "text/plain": [
       "True"
      ]
     },
     "execution_count": 184,
     "metadata": {},
     "output_type": "execute_result"
    }
   ],
   "source": [
    "80.0 == 80"
   ]
  },
  {
   "cell_type": "code",
   "execution_count": 185,
   "id": "a7fb955f",
   "metadata": {
    "ExecuteTime": {
     "end_time": "2022-05-20T20:17:59.182130Z",
     "start_time": "2022-05-20T20:17:59.111132Z"
    },
    "hidden": true
   },
   "outputs": [
    {
     "data": {
      "text/plain": [
       "True"
      ]
     },
     "execution_count": 185,
     "metadata": {},
     "output_type": "execute_result"
    }
   ],
   "source": [
    "# desigualdade \n",
    "\n",
    "3 != 7"
   ]
  },
  {
   "cell_type": "code",
   "execution_count": 186,
   "id": "ca33c454",
   "metadata": {
    "ExecuteTime": {
     "end_time": "2022-05-20T20:17:59.284321Z",
     "start_time": "2022-05-20T20:17:59.184127Z"
    },
    "hidden": true
   },
   "outputs": [
    {
     "data": {
      "text/plain": [
       "False"
      ]
     },
     "execution_count": 186,
     "metadata": {},
     "output_type": "execute_result"
    }
   ],
   "source": [
    "3 != 3"
   ]
  },
  {
   "cell_type": "code",
   "execution_count": 187,
   "id": "eceb6cf1",
   "metadata": {
    "ExecuteTime": {
     "end_time": "2022-05-20T20:17:59.362306Z",
     "start_time": "2022-05-20T20:17:59.297313Z"
    },
    "hidden": true
   },
   "outputs": [
    {
     "data": {
      "text/plain": [
       "True"
      ]
     },
     "execution_count": 187,
     "metadata": {},
     "output_type": "execute_result"
    }
   ],
   "source": [
    "# maior que \n",
    "\n",
    "500 > 90"
   ]
  },
  {
   "cell_type": "code",
   "execution_count": 188,
   "id": "abf0b349",
   "metadata": {
    "ExecuteTime": {
     "end_time": "2022-05-20T20:17:59.434149Z",
     "start_time": "2022-05-20T20:17:59.366101Z"
    },
    "hidden": true
   },
   "outputs": [
    {
     "data": {
      "text/plain": [
       "False"
      ]
     },
     "execution_count": 188,
     "metadata": {},
     "output_type": "execute_result"
    }
   ],
   "source": [
    "90 > 500"
   ]
  },
  {
   "cell_type": "code",
   "execution_count": 189,
   "id": "4704e0ff",
   "metadata": {
    "ExecuteTime": {
     "end_time": "2022-05-20T20:17:59.564522Z",
     "start_time": "2022-05-20T20:17:59.437149Z"
    },
    "hidden": true
   },
   "outputs": [
    {
     "data": {
      "text/plain": [
       "False"
      ]
     },
     "execution_count": 189,
     "metadata": {},
     "output_type": "execute_result"
    }
   ],
   "source": [
    "# menor que \n",
    "\n",
    "500 < 90"
   ]
  },
  {
   "cell_type": "code",
   "execution_count": 190,
   "id": "49e66d6c",
   "metadata": {
    "ExecuteTime": {
     "end_time": "2022-05-20T20:17:59.709488Z",
     "start_time": "2022-05-20T20:17:59.571508Z"
    },
    "hidden": true
   },
   "outputs": [
    {
     "data": {
      "text/plain": [
       "True"
      ]
     },
     "execution_count": 190,
     "metadata": {},
     "output_type": "execute_result"
    }
   ],
   "source": [
    "90 < 500"
   ]
  },
  {
   "cell_type": "code",
   "execution_count": 191,
   "id": "235c6773",
   "metadata": {
    "ExecuteTime": {
     "end_time": "2022-05-20T20:17:59.790671Z",
     "start_time": "2022-05-20T20:17:59.724473Z"
    },
    "hidden": true
   },
   "outputs": [
    {
     "data": {
      "text/plain": [
       "True"
      ]
     },
     "execution_count": 191,
     "metadata": {},
     "output_type": "execute_result"
    }
   ],
   "source": [
    "# maior ou igual \n",
    "\n",
    "8 >= 8"
   ]
  },
  {
   "cell_type": "code",
   "execution_count": 192,
   "id": "84314f33",
   "metadata": {
    "ExecuteTime": {
     "end_time": "2022-05-20T20:17:59.867882Z",
     "start_time": "2022-05-20T20:17:59.796679Z"
    },
    "hidden": true
   },
   "outputs": [
    {
     "data": {
      "text/plain": [
       "False"
      ]
     },
     "execution_count": 192,
     "metadata": {},
     "output_type": "execute_result"
    }
   ],
   "source": [
    "5 >= 10"
   ]
  },
  {
   "cell_type": "markdown",
   "id": "fb1ebd4f",
   "metadata": {
    "heading_collapsed": true,
    "hidden": true
   },
   "source": [
    "## 1.3. Operadores lógicos"
   ]
  },
  {
   "cell_type": "markdown",
   "id": "d10cd288",
   "metadata": {
    "hidden": true
   },
   "source": [
    "**and** = e\n",
    "\n",
    "**or** = ou \n",
    "\n",
    "**not** = não"
   ]
  },
  {
   "cell_type": "markdown",
   "id": "87f0b209",
   "metadata": {
    "hidden": true
   },
   "source": [
    "**and** = se todas as alternativas forem verdadeiras\n",
    "\n",
    "**or** = se pelo menos uma das alternativas forem verdadeiras\n",
    "\n",
    "**not** = se for verdadeira será falso"
   ]
  },
  {
   "cell_type": "markdown",
   "id": "5a4f00fe",
   "metadata": {
    "hidden": true
   },
   "source": [
    "**1.Para estudar em uma universidade, o aluno deve:**\n",
    "\n",
    "\n",
    "Ter passado no vestibular\n",
    "\n",
    "e\n",
    "\n",
    "Estar com toda documentação necessária\n",
    "\n",
    "e \n",
    "\n",
    "Estar matriculado "
   ]
  },
  {
   "cell_type": "code",
   "execution_count": 193,
   "id": "aa9cd843",
   "metadata": {
    "ExecuteTime": {
     "end_time": "2022-05-20T20:17:59.962231Z",
     "start_time": "2022-05-20T20:17:59.870871Z"
    },
    "hidden": true
   },
   "outputs": [
    {
     "data": {
      "text/plain": [
       "True"
      ]
     },
     "execution_count": 193,
     "metadata": {},
     "output_type": "execute_result"
    }
   ],
   "source": [
    "50 > 40 and 50 > 49"
   ]
  },
  {
   "cell_type": "markdown",
   "id": "b5d28ea0",
   "metadata": {
    "hidden": true
   },
   "source": [
    "**2. Para obter flexibilidade no período de provas, o aluno deve:**\n",
    "\n",
    "Ser militar e estar de serviço\n",
    "\n",
    "ou \n",
    "\n",
    "Estar de licença maternidade\n",
    "\n",
    "ou \n",
    "\n",
    "Estar de atestado médico "
   ]
  },
  {
   "cell_type": "code",
   "execution_count": 194,
   "id": "bfd93664",
   "metadata": {
    "ExecuteTime": {
     "end_time": "2022-05-20T20:18:00.040895Z",
     "start_time": "2022-05-20T20:17:59.972228Z"
    },
    "hidden": true
   },
   "outputs": [
    {
     "data": {
      "text/plain": [
       "True"
      ]
     },
     "execution_count": 194,
     "metadata": {},
     "output_type": "execute_result"
    }
   ],
   "source": [
    "80 > 3 or 15 > 20"
   ]
  },
  {
   "cell_type": "markdown",
   "id": "25a3d5d2",
   "metadata": {
    "heading_collapsed": true,
    "hidden": true
   },
   "source": [
    "## 1.4. Laços de repetiçoes for"
   ]
  },
  {
   "cell_type": "code",
   "execution_count": 195,
   "id": "3fec42f4",
   "metadata": {
    "ExecuteTime": {
     "end_time": "2022-05-20T20:18:00.140823Z",
     "start_time": "2022-05-20T20:18:00.043900Z"
    },
    "hidden": true,
    "scrolled": true
   },
   "outputs": [
    {
     "name": "stdout",
     "output_type": "stream",
     "text": [
      "0\n",
      "3\n",
      "6\n",
      "9\n",
      "12\n",
      "15\n",
      "18\n"
     ]
    }
   ],
   "source": [
    "for i in range (0, 20, 3):\n",
    "    print(i)"
   ]
  },
  {
   "cell_type": "markdown",
   "id": "f69f5152",
   "metadata": {
    "hidden": true
   },
   "source": [
    "Essa função cria um loop de um range(sequencia numerica) \n",
    "\n",
    "for é função (i) é a variável in conecta ao range ( inicio da sequncia, fim da sequencia, intervalos) "
   ]
  },
  {
   "cell_type": "code",
   "execution_count": 196,
   "id": "74770f50",
   "metadata": {
    "ExecuteTime": {
     "end_time": "2022-05-20T20:18:00.218815Z",
     "start_time": "2022-05-20T20:18:00.147788Z"
    },
    "hidden": true
   },
   "outputs": [],
   "source": [
    "lista = [3, 8, 44, 100]"
   ]
  },
  {
   "cell_type": "code",
   "execution_count": 197,
   "id": "7e2a4ec6",
   "metadata": {
    "ExecuteTime": {
     "end_time": "2022-05-20T20:18:00.300503Z",
     "start_time": "2022-05-20T20:18:00.225807Z"
    },
    "hidden": true
   },
   "outputs": [
    {
     "name": "stdout",
     "output_type": "stream",
     "text": [
      "3\n",
      "8\n",
      "44\n",
      "100\n"
     ]
    }
   ],
   "source": [
    "for x in lista:\n",
    "    print(x)"
   ]
  },
  {
   "cell_type": "code",
   "execution_count": 198,
   "id": "977d6939",
   "metadata": {
    "ExecuteTime": {
     "end_time": "2022-05-20T20:18:00.380187Z",
     "start_time": "2022-05-20T20:18:00.303883Z"
    },
    "hidden": true
   },
   "outputs": [],
   "source": [
    "lista2 = [3, 8, 44, 100]"
   ]
  },
  {
   "cell_type": "code",
   "execution_count": 199,
   "id": "3c00918a",
   "metadata": {
    "ExecuteTime": {
     "end_time": "2022-05-20T20:18:00.475898Z",
     "start_time": "2022-05-20T20:18:00.388170Z"
    },
    "hidden": true
   },
   "outputs": [
    {
     "name": "stdout",
     "output_type": "stream",
     "text": [
      "8\n",
      "44\n",
      "100\n"
     ]
    }
   ],
   "source": [
    "for i in lista2:\n",
    "    \n",
    "    if i % 2 == 0:\n",
    "     print(i)"
   ]
  },
  {
   "cell_type": "code",
   "execution_count": 200,
   "id": "c02b0aa9",
   "metadata": {
    "ExecuteTime": {
     "end_time": "2022-05-20T20:18:00.552826Z",
     "start_time": "2022-05-20T20:18:00.481890Z"
    },
    "hidden": true
   },
   "outputs": [],
   "source": [
    "lista3 = [ [1,2,3], [2,3,5], [7,8,5,4,3,2] ]"
   ]
  },
  {
   "cell_type": "code",
   "execution_count": 201,
   "id": "b0ac09fa",
   "metadata": {
    "ExecuteTime": {
     "end_time": "2022-05-20T20:18:00.630983Z",
     "start_time": "2022-05-20T20:18:00.558373Z"
    },
    "hidden": true
   },
   "outputs": [
    {
     "name": "stdout",
     "output_type": "stream",
     "text": [
      "[1, 2, 3]\n",
      "[2, 3, 5]\n",
      "[7, 8, 5, 4, 3, 2]\n"
     ]
    }
   ],
   "source": [
    "for ii in lista3:\n",
    "    print(ii)"
   ]
  },
  {
   "cell_type": "code",
   "execution_count": 202,
   "id": "a0c9c5a5",
   "metadata": {
    "ExecuteTime": {
     "end_time": "2022-05-20T20:18:00.759059Z",
     "start_time": "2022-05-20T20:18:00.633982Z"
    },
    "hidden": true
   },
   "outputs": [],
   "source": [
    "di = {'d1': 10,'d2': 20,'d3': 30,'d4': 40,'d5': 50, };\n",
    "\n",
    "d2 = {'d2': 10,'d2': 20,'d2': 30,'d2': 40,'d2': 50};    "
   ]
  },
  {
   "cell_type": "code",
   "execution_count": 203,
   "id": "04ed3a81",
   "metadata": {
    "ExecuteTime": {
     "end_time": "2022-05-20T20:18:00.857044Z",
     "start_time": "2022-05-20T20:18:00.769068Z"
    },
    "hidden": true
   },
   "outputs": [
    {
     "data": {
      "text/plain": [
       "{'d1': 10, 'd2': 20, 'd3': 30, 'd4': 40, 'd5': 50}"
      ]
     },
     "execution_count": 203,
     "metadata": {},
     "output_type": "execute_result"
    }
   ],
   "source": [
    "di"
   ]
  },
  {
   "cell_type": "code",
   "execution_count": 204,
   "id": "4d8d1df3",
   "metadata": {
    "ExecuteTime": {
     "end_time": "2022-05-20T20:18:00.994589Z",
     "start_time": "2022-05-20T20:18:00.868030Z"
    },
    "hidden": true,
    "scrolled": true
   },
   "outputs": [
    {
     "name": "stdout",
     "output_type": "stream",
     "text": [
      "d1\n",
      "d2\n",
      "d3\n",
      "d4\n",
      "d5\n"
     ]
    }
   ],
   "source": [
    "for i in di:\n",
    "    print(i)"
   ]
  },
  {
   "cell_type": "code",
   "execution_count": 205,
   "id": "08be1eaa",
   "metadata": {
    "ExecuteTime": {
     "end_time": "2022-05-20T20:18:01.078494Z",
     "start_time": "2022-05-20T20:18:01.008580Z"
    },
    "hidden": true
   },
   "outputs": [
    {
     "data": {
      "text/plain": [
       "dict_items([('d1', 10), ('d2', 20), ('d3', 30), ('d4', 40), ('d5', 50)])"
      ]
     },
     "execution_count": 205,
     "metadata": {},
     "output_type": "execute_result"
    }
   ],
   "source": [
    "di.items()"
   ]
  },
  {
   "cell_type": "code",
   "execution_count": 206,
   "id": "6f26d53d",
   "metadata": {
    "ExecuteTime": {
     "end_time": "2022-05-20T20:18:01.162885Z",
     "start_time": "2022-05-20T20:18:01.081503Z"
    },
    "hidden": true
   },
   "outputs": [
    {
     "name": "stdout",
     "output_type": "stream",
     "text": [
      "d1 10\n",
      "d2 20\n",
      "d3 30\n",
      "d4 40\n",
      "d5 50\n"
     ]
    }
   ],
   "source": [
    "for c, v, in di.items():\n",
    "    print( c, v)"
   ]
  },
  {
   "cell_type": "code",
   "execution_count": null,
   "id": "7de2e5db",
   "metadata": {
    "hidden": true
   },
   "outputs": [],
   "source": []
  },
  {
   "cell_type": "markdown",
   "id": "0ae554d2",
   "metadata": {
    "heading_collapsed": true,
    "hidden": true
   },
   "source": [
    "## 1.5. Laços de repetiçoes whille(enquanto)"
   ]
  },
  {
   "cell_type": "code",
   "execution_count": 207,
   "id": "6a5352c7",
   "metadata": {
    "ExecuteTime": {
     "end_time": "2022-05-20T20:18:01.257056Z",
     "start_time": "2022-05-20T20:18:01.169844Z"
    },
    "hidden": true,
    "scrolled": true
   },
   "outputs": [
    {
     "name": "stdout",
     "output_type": "stream",
     "text": [
      "8\n",
      "9\n",
      "10\n"
     ]
    }
   ],
   "source": [
    "k = 8\n",
    "\n",
    "while k <= 10:\n",
    "    print(k)\n",
    "    \n",
    "    k += 1"
   ]
  },
  {
   "cell_type": "markdown",
   "id": "e550ad2b",
   "metadata": {
    "hidden": true
   },
   "source": [
    "**pass, break e continue**"
   ]
  },
  {
   "cell_type": "code",
   "execution_count": 208,
   "id": "889e25b2",
   "metadata": {
    "ExecuteTime": {
     "end_time": "2022-05-20T20:18:01.334220Z",
     "start_time": "2022-05-20T20:18:01.270049Z"
    },
    "hidden": true
   },
   "outputs": [
    {
     "name": "stdout",
     "output_type": "stream",
     "text": [
      "p\n",
      "r\n",
      "o\n",
      "g\n",
      "r\n",
      "a\n",
      "m\n",
      "a\n",
      "d\n",
      "o\n",
      "r\n"
     ]
    }
   ],
   "source": [
    "for letra in 'programador':\n",
    "    if letra == 'a':\n",
    "        pass\n",
    "    print(letra)"
   ]
  },
  {
   "cell_type": "code",
   "execution_count": 209,
   "id": "1941932b",
   "metadata": {
    "ExecuteTime": {
     "end_time": "2022-05-20T20:18:01.412611Z",
     "start_time": "2022-05-20T20:18:01.339217Z"
    },
    "hidden": true
   },
   "outputs": [
    {
     "name": "stdout",
     "output_type": "stream",
     "text": [
      "p\n",
      "r\n",
      "o\n",
      "g\n",
      "r\n",
      "m\n",
      "d\n",
      "o\n",
      "r\n"
     ]
    }
   ],
   "source": [
    "for letra in 'programador':\n",
    "    if letra == 'a':\n",
    "        continue\n",
    "    print(letra)"
   ]
  },
  {
   "cell_type": "code",
   "execution_count": 210,
   "id": "edf87000",
   "metadata": {
    "ExecuteTime": {
     "end_time": "2022-05-20T20:18:01.512670Z",
     "start_time": "2022-05-20T20:18:01.416588Z"
    },
    "hidden": true,
    "scrolled": true
   },
   "outputs": [
    {
     "name": "stdout",
     "output_type": "stream",
     "text": [
      "p\n",
      "r\n",
      "o\n",
      "g\n",
      "r\n"
     ]
    }
   ],
   "source": [
    "for letra in 'programador':\n",
    "    if letra == 'a':\n",
    "        break\n",
    "    print(letra)"
   ]
  },
  {
   "cell_type": "markdown",
   "id": "1bda9cf9",
   "metadata": {
    "heading_collapsed": true,
    "hidden": true
   },
   "source": [
    "## 1.6. Funções"
   ]
  },
  {
   "cell_type": "code",
   "execution_count": 211,
   "id": "72e597fd",
   "metadata": {
    "ExecuteTime": {
     "end_time": "2022-05-20T20:18:01.594304Z",
     "start_time": "2022-05-20T20:18:01.522648Z"
    },
    "hidden": true
   },
   "outputs": [],
   "source": [
    " def print_text():\n",
    "    print('Aqui é um texto qaulquer')"
   ]
  },
  {
   "cell_type": "code",
   "execution_count": 212,
   "id": "691a08e8",
   "metadata": {
    "ExecuteTime": {
     "end_time": "2022-05-20T20:18:01.680683Z",
     "start_time": "2022-05-20T20:18:01.600309Z"
    },
    "hidden": true
   },
   "outputs": [
    {
     "name": "stdout",
     "output_type": "stream",
     "text": [
      "Aqui é um texto qaulquer\n"
     ]
    }
   ],
   "source": [
    "print_text()"
   ]
  },
  {
   "cell_type": "code",
   "execution_count": 213,
   "id": "153df271",
   "metadata": {
    "ExecuteTime": {
     "end_time": "2022-05-20T20:18:01.764659Z",
     "start_time": "2022-05-20T20:18:01.683692Z"
    },
    "hidden": true
   },
   "outputs": [],
   "source": [
    "def print_isto(x):\n",
    "    print(x)"
   ]
  },
  {
   "cell_type": "code",
   "execution_count": 214,
   "id": "bc08ac58",
   "metadata": {
    "ExecuteTime": {
     "end_time": "2022-05-20T20:18:01.848709Z",
     "start_time": "2022-05-20T20:18:01.773648Z"
    },
    "hidden": true
   },
   "outputs": [
    {
     "name": "stdout",
     "output_type": "stream",
     "text": [
      "7958\n"
     ]
    }
   ],
   "source": [
    "print_isto(7958)"
   ]
  },
  {
   "cell_type": "code",
   "execution_count": 215,
   "id": "09fe70b4",
   "metadata": {
    "ExecuteTime": {
     "end_time": "2022-05-20T20:18:01.942026Z",
     "start_time": "2022-05-20T20:18:01.852685Z"
    },
    "hidden": true
   },
   "outputs": [],
   "source": [
    "def potencia(x):\n",
    "    p = x ** 2\n",
    "    return p"
   ]
  },
  {
   "cell_type": "code",
   "execution_count": 216,
   "id": "b165f8ce",
   "metadata": {
    "ExecuteTime": {
     "end_time": "2022-05-20T20:18:02.020285Z",
     "start_time": "2022-05-20T20:18:01.945157Z"
    },
    "hidden": true
   },
   "outputs": [
    {
     "data": {
      "text/plain": [
       "16"
      ]
     },
     "execution_count": 216,
     "metadata": {},
     "output_type": "execute_result"
    }
   ],
   "source": [
    "potencia(4)"
   ]
  },
  {
   "cell_type": "code",
   "execution_count": 217,
   "id": "d56ac161",
   "metadata": {
    "ExecuteTime": {
     "end_time": "2022-05-20T20:18:02.116529Z",
     "start_time": "2022-05-20T20:18:02.024279Z"
    },
    "hidden": true
   },
   "outputs": [],
   "source": [
    "def sub(x):\n",
    "    r = x + 4\n",
    "    return r"
   ]
  },
  {
   "cell_type": "code",
   "execution_count": 218,
   "id": "c3251bc3",
   "metadata": {
    "ExecuteTime": {
     "end_time": "2022-05-20T20:18:02.195657Z",
     "start_time": "2022-05-20T20:18:02.127536Z"
    },
    "hidden": true,
    "scrolled": true
   },
   "outputs": [
    {
     "data": {
      "text/plain": [
       "1004"
      ]
     },
     "execution_count": 218,
     "metadata": {},
     "output_type": "execute_result"
    }
   ],
   "source": [
    "sub (1000)"
   ]
  },
  {
   "cell_type": "code",
   "execution_count": 219,
   "id": "2e930be4",
   "metadata": {
    "ExecuteTime": {
     "end_time": "2022-05-20T20:18:02.273803Z",
     "start_time": "2022-05-20T20:18:02.199853Z"
    },
    "hidden": true
   },
   "outputs": [],
   "source": [
    "def potencia_n(x, n = 2 ):\n",
    "    p = x ** n\n",
    "    return p"
   ]
  },
  {
   "cell_type": "code",
   "execution_count": 220,
   "id": "34b78b69",
   "metadata": {
    "ExecuteTime": {
     "end_time": "2022-05-20T20:18:02.368092Z",
     "start_time": "2022-05-20T20:18:02.276811Z"
    },
    "hidden": true
   },
   "outputs": [
    {
     "data": {
      "text/plain": [
       "25"
      ]
     },
     "execution_count": 220,
     "metadata": {},
     "output_type": "execute_result"
    }
   ],
   "source": [
    "potencia_n(5)"
   ]
  },
  {
   "cell_type": "code",
   "execution_count": 221,
   "id": "7e04ccea",
   "metadata": {
    "ExecuteTime": {
     "end_time": "2022-05-20T20:18:02.449874Z",
     "start_time": "2022-05-20T20:18:02.378050Z"
    },
    "hidden": true,
    "scrolled": true
   },
   "outputs": [
    {
     "data": {
      "text/plain": [
       "125"
      ]
     },
     "execution_count": 221,
     "metadata": {},
     "output_type": "execute_result"
    }
   ],
   "source": [
    "potencia_n(5, 3)"
   ]
  },
  {
   "cell_type": "markdown",
   "id": "008a9cf4",
   "metadata": {},
   "source": [
    "# MÓDULO 2"
   ]
  },
  {
   "cell_type": "markdown",
   "id": "3af1ab15",
   "metadata": {
    "heading_collapsed": true
   },
   "source": [
    "### IMPORTS"
   ]
  },
  {
   "cell_type": "code",
   "execution_count": 222,
   "id": "2b252f97",
   "metadata": {
    "ExecuteTime": {
     "end_time": "2022-05-20T20:18:02.531460Z",
     "start_time": "2022-05-20T20:18:02.453841Z"
    },
    "hidden": true
   },
   "outputs": [],
   "source": [
    "import pandas as pd\n",
    "import numpy as np"
   ]
  },
  {
   "cell_type": "markdown",
   "id": "7a4257ad",
   "metadata": {
    "heading_collapsed": true
   },
   "source": [
    "## 2.1. Dataframes"
   ]
  },
  {
   "cell_type": "code",
   "execution_count": 223,
   "id": "153860d1",
   "metadata": {
    "ExecuteTime": {
     "end_time": "2022-05-20T20:18:02.618252Z",
     "start_time": "2022-05-20T20:18:02.536157Z"
    },
    "hidden": true
   },
   "outputs": [],
   "source": [
    "series = pd.Series([7, 4, 2, np.nan, 6, 9 ])"
   ]
  },
  {
   "cell_type": "code",
   "execution_count": 224,
   "id": "6c6d45b9",
   "metadata": {
    "ExecuteTime": {
     "end_time": "2022-05-20T20:18:02.715586Z",
     "start_time": "2022-05-20T20:18:02.627268Z"
    },
    "hidden": true
   },
   "outputs": [
    {
     "data": {
      "text/plain": [
       "0    7.0\n",
       "1    4.0\n",
       "2    2.0\n",
       "3    NaN\n",
       "4    6.0\n",
       "5    9.0\n",
       "dtype: float64"
      ]
     },
     "execution_count": 224,
     "metadata": {},
     "output_type": "execute_result"
    }
   ],
   "source": [
    "series"
   ]
  },
  {
   "cell_type": "code",
   "execution_count": 225,
   "id": "e6454771",
   "metadata": {
    "ExecuteTime": {
     "end_time": "2022-05-20T20:18:02.792704Z",
     "start_time": "2022-05-20T20:18:02.721636Z"
    },
    "hidden": true
   },
   "outputs": [
    {
     "data": {
      "text/plain": [
       "pandas.core.series.Series"
      ]
     },
     "execution_count": 225,
     "metadata": {},
     "output_type": "execute_result"
    }
   ],
   "source": [
    "type(series)"
   ]
  },
  {
   "cell_type": "code",
   "execution_count": 226,
   "id": "11009877",
   "metadata": {
    "ExecuteTime": {
     "end_time": "2022-05-20T20:18:02.869779Z",
     "start_time": "2022-05-20T20:18:02.797700Z"
    },
    "hidden": true
   },
   "outputs": [],
   "source": [
    "datas = pd.date_range('20220101', periods = 6 )"
   ]
  },
  {
   "cell_type": "code",
   "execution_count": 227,
   "id": "746f19e6",
   "metadata": {
    "ExecuteTime": {
     "end_time": "2022-05-20T20:18:02.970462Z",
     "start_time": "2022-05-20T20:18:02.874790Z"
    },
    "hidden": true
   },
   "outputs": [
    {
     "data": {
      "text/plain": [
       "DatetimeIndex(['2022-01-01', '2022-01-02', '2022-01-03', '2022-01-04',\n",
       "               '2022-01-05', '2022-01-06'],\n",
       "              dtype='datetime64[ns]', freq='D')"
      ]
     },
     "execution_count": 227,
     "metadata": {},
     "output_type": "execute_result"
    }
   ],
   "source": [
    "datas"
   ]
  },
  {
   "cell_type": "code",
   "execution_count": 228,
   "id": "b6f98800",
   "metadata": {
    "ExecuteTime": {
     "end_time": "2022-05-20T20:18:03.048575Z",
     "start_time": "2022-05-20T20:18:02.984431Z"
    },
    "hidden": true
   },
   "outputs": [
    {
     "data": {
      "text/plain": [
       "pandas.core.indexes.datetimes.DatetimeIndex"
      ]
     },
     "execution_count": 228,
     "metadata": {},
     "output_type": "execute_result"
    }
   ],
   "source": [
    "type(datas)"
   ]
  },
  {
   "cell_type": "code",
   "execution_count": 229,
   "id": "e97f7aca",
   "metadata": {
    "ExecuteTime": {
     "end_time": "2022-05-20T20:18:03.126752Z",
     "start_time": "2022-05-20T20:18:03.052568Z"
    },
    "hidden": true
   },
   "outputs": [],
   "source": [
    "df = pd.DataFrame(np.random.randn(6,4), index= datas, columns = list('ABCD'))"
   ]
  },
  {
   "cell_type": "code",
   "execution_count": 230,
   "id": "4a53a4f5",
   "metadata": {
    "ExecuteTime": {
     "end_time": "2022-05-20T20:18:03.220277Z",
     "start_time": "2022-05-20T20:18:03.130757Z"
    },
    "hidden": true
   },
   "outputs": [
    {
     "data": {
      "text/html": [
       "<div>\n",
       "<style scoped>\n",
       "    .dataframe tbody tr th:only-of-type {\n",
       "        vertical-align: middle;\n",
       "    }\n",
       "\n",
       "    .dataframe tbody tr th {\n",
       "        vertical-align: top;\n",
       "    }\n",
       "\n",
       "    .dataframe thead th {\n",
       "        text-align: right;\n",
       "    }\n",
       "</style>\n",
       "<table border=\"1\" class=\"dataframe\">\n",
       "  <thead>\n",
       "    <tr style=\"text-align: right;\">\n",
       "      <th></th>\n",
       "      <th>A</th>\n",
       "      <th>B</th>\n",
       "      <th>C</th>\n",
       "      <th>D</th>\n",
       "    </tr>\n",
       "  </thead>\n",
       "  <tbody>\n",
       "    <tr>\n",
       "      <th>2022-01-01</th>\n",
       "      <td>-0.364742</td>\n",
       "      <td>-0.965460</td>\n",
       "      <td>0.967211</td>\n",
       "      <td>1.367736</td>\n",
       "    </tr>\n",
       "    <tr>\n",
       "      <th>2022-01-02</th>\n",
       "      <td>0.129466</td>\n",
       "      <td>0.398523</td>\n",
       "      <td>0.825035</td>\n",
       "      <td>-0.032516</td>\n",
       "    </tr>\n",
       "    <tr>\n",
       "      <th>2022-01-03</th>\n",
       "      <td>-1.428146</td>\n",
       "      <td>0.048625</td>\n",
       "      <td>0.538318</td>\n",
       "      <td>-1.343516</td>\n",
       "    </tr>\n",
       "    <tr>\n",
       "      <th>2022-01-04</th>\n",
       "      <td>-0.506792</td>\n",
       "      <td>1.448722</td>\n",
       "      <td>-2.359350</td>\n",
       "      <td>0.163689</td>\n",
       "    </tr>\n",
       "    <tr>\n",
       "      <th>2022-01-05</th>\n",
       "      <td>-0.573279</td>\n",
       "      <td>0.649137</td>\n",
       "      <td>1.894245</td>\n",
       "      <td>-0.781912</td>\n",
       "    </tr>\n",
       "    <tr>\n",
       "      <th>2022-01-06</th>\n",
       "      <td>1.957465</td>\n",
       "      <td>1.390969</td>\n",
       "      <td>-0.221324</td>\n",
       "      <td>-0.420001</td>\n",
       "    </tr>\n",
       "  </tbody>\n",
       "</table>\n",
       "</div>"
      ],
      "text/plain": [
       "                   A         B         C         D\n",
       "2022-01-01 -0.364742 -0.965460  0.967211  1.367736\n",
       "2022-01-02  0.129466  0.398523  0.825035 -0.032516\n",
       "2022-01-03 -1.428146  0.048625  0.538318 -1.343516\n",
       "2022-01-04 -0.506792  1.448722 -2.359350  0.163689\n",
       "2022-01-05 -0.573279  0.649137  1.894245 -0.781912\n",
       "2022-01-06  1.957465  1.390969 -0.221324 -0.420001"
      ]
     },
     "execution_count": 230,
     "metadata": {},
     "output_type": "execute_result"
    }
   ],
   "source": [
    "df"
   ]
  },
  {
   "cell_type": "code",
   "execution_count": 231,
   "id": "2b9cfbf3",
   "metadata": {
    "ExecuteTime": {
     "end_time": "2022-05-20T20:18:03.303567Z",
     "start_time": "2022-05-20T20:18:03.225270Z"
    },
    "hidden": true
   },
   "outputs": [],
   "source": [
    "df2 = pd.DataFrame({'A': 7,\n",
    "                    'B': pd.Timestamp('20220101'),\n",
    "                    'C': pd.Series(1, index=list(range(4)), dtype = 'float32'),\n",
    "                    'D': np.array([3] * 4, dtype = 'int32'), \n",
    "                    'E': pd.Categorical(['test', 'train', 'test', 'train']),\n",
    "                    'F': 'Python'})"
   ]
  },
  {
   "cell_type": "code",
   "execution_count": 232,
   "id": "a0067612",
   "metadata": {
    "ExecuteTime": {
     "end_time": "2022-05-20T20:18:03.403278Z",
     "start_time": "2022-05-20T20:18:03.306573Z"
    },
    "hidden": true
   },
   "outputs": [
    {
     "data": {
      "text/html": [
       "<div>\n",
       "<style scoped>\n",
       "    .dataframe tbody tr th:only-of-type {\n",
       "        vertical-align: middle;\n",
       "    }\n",
       "\n",
       "    .dataframe tbody tr th {\n",
       "        vertical-align: top;\n",
       "    }\n",
       "\n",
       "    .dataframe thead th {\n",
       "        text-align: right;\n",
       "    }\n",
       "</style>\n",
       "<table border=\"1\" class=\"dataframe\">\n",
       "  <thead>\n",
       "    <tr style=\"text-align: right;\">\n",
       "      <th></th>\n",
       "      <th>A</th>\n",
       "      <th>B</th>\n",
       "      <th>C</th>\n",
       "      <th>D</th>\n",
       "      <th>E</th>\n",
       "      <th>F</th>\n",
       "    </tr>\n",
       "  </thead>\n",
       "  <tbody>\n",
       "    <tr>\n",
       "      <th>0</th>\n",
       "      <td>7</td>\n",
       "      <td>2022-01-01</td>\n",
       "      <td>1.0</td>\n",
       "      <td>3</td>\n",
       "      <td>test</td>\n",
       "      <td>Python</td>\n",
       "    </tr>\n",
       "    <tr>\n",
       "      <th>1</th>\n",
       "      <td>7</td>\n",
       "      <td>2022-01-01</td>\n",
       "      <td>1.0</td>\n",
       "      <td>3</td>\n",
       "      <td>train</td>\n",
       "      <td>Python</td>\n",
       "    </tr>\n",
       "    <tr>\n",
       "      <th>2</th>\n",
       "      <td>7</td>\n",
       "      <td>2022-01-01</td>\n",
       "      <td>1.0</td>\n",
       "      <td>3</td>\n",
       "      <td>test</td>\n",
       "      <td>Python</td>\n",
       "    </tr>\n",
       "    <tr>\n",
       "      <th>3</th>\n",
       "      <td>7</td>\n",
       "      <td>2022-01-01</td>\n",
       "      <td>1.0</td>\n",
       "      <td>3</td>\n",
       "      <td>train</td>\n",
       "      <td>Python</td>\n",
       "    </tr>\n",
       "  </tbody>\n",
       "</table>\n",
       "</div>"
      ],
      "text/plain": [
       "   A          B    C  D      E       F\n",
       "0  7 2022-01-01  1.0  3   test  Python\n",
       "1  7 2022-01-01  1.0  3  train  Python\n",
       "2  7 2022-01-01  1.0  3   test  Python\n",
       "3  7 2022-01-01  1.0  3  train  Python"
      ]
     },
     "execution_count": 232,
     "metadata": {},
     "output_type": "execute_result"
    }
   ],
   "source": [
    "df2"
   ]
  },
  {
   "cell_type": "code",
   "execution_count": 233,
   "id": "84f8cb20",
   "metadata": {
    "ExecuteTime": {
     "end_time": "2022-05-20T20:18:03.503476Z",
     "start_time": "2022-05-20T20:18:03.406283Z"
    },
    "hidden": true
   },
   "outputs": [
    {
     "data": {
      "text/plain": [
       "A             int64\n",
       "B    datetime64[ns]\n",
       "C           float32\n",
       "D             int32\n",
       "E          category\n",
       "F            object\n",
       "dtype: object"
      ]
     },
     "execution_count": 233,
     "metadata": {},
     "output_type": "execute_result"
    }
   ],
   "source": [
    "df2.dtypes"
   ]
  },
  {
   "cell_type": "markdown",
   "id": "80b65a37",
   "metadata": {
    "heading_collapsed": true
   },
   "source": [
    "## 2.2. Merge "
   ]
  },
  {
   "cell_type": "code",
   "execution_count": 234,
   "id": "f0389fba",
   "metadata": {
    "ExecuteTime": {
     "end_time": "2022-05-20T20:18:03.598161Z",
     "start_time": "2022-05-20T20:18:03.510467Z"
    },
    "hidden": true,
    "scrolled": true
   },
   "outputs": [
    {
     "data": {
      "text/html": [
       "<div>\n",
       "<style scoped>\n",
       "    .dataframe tbody tr th:only-of-type {\n",
       "        vertical-align: middle;\n",
       "    }\n",
       "\n",
       "    .dataframe tbody tr th {\n",
       "        vertical-align: top;\n",
       "    }\n",
       "\n",
       "    .dataframe thead th {\n",
       "        text-align: right;\n",
       "    }\n",
       "</style>\n",
       "<table border=\"1\" class=\"dataframe\">\n",
       "  <thead>\n",
       "    <tr style=\"text-align: right;\">\n",
       "      <th></th>\n",
       "      <th>Id</th>\n",
       "      <th>Nome</th>\n",
       "      <th>Idade</th>\n",
       "      <th>CEP</th>\n",
       "    </tr>\n",
       "  </thead>\n",
       "  <tbody>\n",
       "    <tr>\n",
       "      <th>0</th>\n",
       "      <td>AA2930</td>\n",
       "      <td>Victor</td>\n",
       "      <td>20</td>\n",
       "      <td>00092-029</td>\n",
       "    </tr>\n",
       "    <tr>\n",
       "      <th>1</th>\n",
       "      <td>BB4563</td>\n",
       "      <td>Amanda</td>\n",
       "      <td>35</td>\n",
       "      <td>11111-111</td>\n",
       "    </tr>\n",
       "    <tr>\n",
       "      <th>2</th>\n",
       "      <td>CC2139</td>\n",
       "      <td>Bruna</td>\n",
       "      <td>40</td>\n",
       "      <td>22222-888</td>\n",
       "    </tr>\n",
       "    <tr>\n",
       "      <th>3</th>\n",
       "      <td>DE2521</td>\n",
       "      <td>Carlos</td>\n",
       "      <td>54</td>\n",
       "      <td>00000-999</td>\n",
       "    </tr>\n",
       "    <tr>\n",
       "      <th>4</th>\n",
       "      <td>GT3462</td>\n",
       "      <td>Ricardo</td>\n",
       "      <td>30</td>\n",
       "      <td>88888-111</td>\n",
       "    </tr>\n",
       "    <tr>\n",
       "      <th>5</th>\n",
       "      <td>HH1158</td>\n",
       "      <td>Maria</td>\n",
       "      <td>27</td>\n",
       "      <td>77777-666</td>\n",
       "    </tr>\n",
       "  </tbody>\n",
       "</table>\n",
       "</div>"
      ],
      "text/plain": [
       "       Id     Nome  Idade        CEP\n",
       "0  AA2930   Victor     20  00092-029\n",
       "1  BB4563   Amanda     35  11111-111\n",
       "2  CC2139    Bruna     40  22222-888\n",
       "3  DE2521   Carlos     54  00000-999\n",
       "4  GT3462  Ricardo     30  88888-111\n",
       "5  HH1158    Maria     27  77777-666"
      ]
     },
     "execution_count": 234,
     "metadata": {},
     "output_type": "execute_result"
    }
   ],
   "source": [
    "# Cadastro da loja a\n",
    "cadastro_a = {'Id': ['AA2930','BB4563','CC2139','DE2521','GT3462','HH1158'],\n",
    "            'Nome':  ['Victor', 'Amanda', 'Bruna', 'Carlos', 'Ricardo', 'Maria'],\n",
    "            'Idade': [20,35,40,54,30,27],\n",
    "            'CEP': ['00092-029','11111-111','22222-888','00000-999','88888-111','77777-666']\n",
    "           }\n",
    "\n",
    "cadastro_a = pd.DataFrame(cadastro_a, columns = ['Id','Nome','Idade','CEP'])\n",
    "cadastro_a"
   ]
  },
  {
   "cell_type": "code",
   "execution_count": 235,
   "id": "6fb38b65",
   "metadata": {
    "ExecuteTime": {
     "end_time": "2022-05-20T20:18:03.697712Z",
     "start_time": "2022-05-20T20:18:03.601547Z"
    },
    "hidden": true,
    "scrolled": false
   },
   "outputs": [
    {
     "data": {
      "text/html": [
       "<div>\n",
       "<style scoped>\n",
       "    .dataframe tbody tr th:only-of-type {\n",
       "        vertical-align: middle;\n",
       "    }\n",
       "\n",
       "    .dataframe tbody tr th {\n",
       "        vertical-align: top;\n",
       "    }\n",
       "\n",
       "    .dataframe thead th {\n",
       "        text-align: right;\n",
       "    }\n",
       "</style>\n",
       "<table border=\"1\" class=\"dataframe\">\n",
       "  <thead>\n",
       "    <tr style=\"text-align: right;\">\n",
       "      <th></th>\n",
       "      <th>Id</th>\n",
       "      <th>Nome</th>\n",
       "      <th>Idade</th>\n",
       "      <th>CEP</th>\n",
       "    </tr>\n",
       "  </thead>\n",
       "  <tbody>\n",
       "    <tr>\n",
       "      <th>0</th>\n",
       "      <td>CC9999</td>\n",
       "      <td>Marcos</td>\n",
       "      <td>19</td>\n",
       "      <td>00092-029</td>\n",
       "    </tr>\n",
       "    <tr>\n",
       "      <th>1</th>\n",
       "      <td>EF4488</td>\n",
       "      <td>Patricia</td>\n",
       "      <td>30</td>\n",
       "      <td>11111-111</td>\n",
       "    </tr>\n",
       "    <tr>\n",
       "      <th>2</th>\n",
       "      <td>DD9999</td>\n",
       "      <td>Ericka</td>\n",
       "      <td>22</td>\n",
       "      <td>11111-888</td>\n",
       "    </tr>\n",
       "    <tr>\n",
       "      <th>3</th>\n",
       "      <td>GT3462</td>\n",
       "      <td>Ricardo</td>\n",
       "      <td>30</td>\n",
       "      <td>88888-111</td>\n",
       "    </tr>\n",
       "    <tr>\n",
       "      <th>4</th>\n",
       "      <td>HH1158</td>\n",
       "      <td>Maria</td>\n",
       "      <td>27</td>\n",
       "      <td>77777-666</td>\n",
       "    </tr>\n",
       "  </tbody>\n",
       "</table>\n",
       "</div>"
      ],
      "text/plain": [
       "       Id      Nome  Idade        CEP\n",
       "0  CC9999    Marcos     19  00092-029\n",
       "1  EF4488  Patricia     30  11111-111\n",
       "2  DD9999    Ericka     22  11111-888\n",
       "3  GT3462   Ricardo     30  88888-111\n",
       "4  HH1158     Maria     27  77777-666"
      ]
     },
     "execution_count": 235,
     "metadata": {},
     "output_type": "execute_result"
    }
   ],
   "source": [
    "# Cadastro da loja b\n",
    "cadastro_b = {'Id': ['CC9999','EF4488','DD9999','GT3462','HH1158'],\n",
    "            'Nome':  ['Marcos', 'Patricia', 'Ericka', 'Ricardo', 'Maria'],\n",
    "            'Idade': [19,30,22,30,27],\n",
    "            'CEP': ['00092-029','11111-111','11111-888','88888-111','77777-666']\n",
    "           }\n",
    " \n",
    "cadastro_b = pd.DataFrame(cadastro_b, columns = ['Id','Nome','Idade','CEP'])\n",
    "cadastro_b"
   ]
  },
  {
   "cell_type": "code",
   "execution_count": 236,
   "id": "ccbd6af6",
   "metadata": {
    "ExecuteTime": {
     "end_time": "2022-05-20T20:18:03.782708Z",
     "start_time": "2022-05-20T20:18:03.722689Z"
    },
    "hidden": true,
    "scrolled": false
   },
   "outputs": [
    {
     "data": {
      "text/html": [
       "<div>\n",
       "<style scoped>\n",
       "    .dataframe tbody tr th:only-of-type {\n",
       "        vertical-align: middle;\n",
       "    }\n",
       "\n",
       "    .dataframe tbody tr th {\n",
       "        vertical-align: top;\n",
       "    }\n",
       "\n",
       "    .dataframe thead th {\n",
       "        text-align: right;\n",
       "    }\n",
       "</style>\n",
       "<table border=\"1\" class=\"dataframe\">\n",
       "  <thead>\n",
       "    <tr style=\"text-align: right;\">\n",
       "      <th></th>\n",
       "      <th>Id</th>\n",
       "      <th>Data</th>\n",
       "      <th>Valor</th>\n",
       "    </tr>\n",
       "  </thead>\n",
       "  <tbody>\n",
       "    <tr>\n",
       "      <th>0</th>\n",
       "      <td>AA2930</td>\n",
       "      <td>2019-01-01</td>\n",
       "      <td>200</td>\n",
       "    </tr>\n",
       "    <tr>\n",
       "      <th>1</th>\n",
       "      <td>EF4488</td>\n",
       "      <td>2019-01-30</td>\n",
       "      <td>100</td>\n",
       "    </tr>\n",
       "    <tr>\n",
       "      <th>2</th>\n",
       "      <td>CC2139</td>\n",
       "      <td>2019-01-30</td>\n",
       "      <td>40</td>\n",
       "    </tr>\n",
       "    <tr>\n",
       "      <th>3</th>\n",
       "      <td>EF4488</td>\n",
       "      <td>2019-02-01</td>\n",
       "      <td>150</td>\n",
       "    </tr>\n",
       "    <tr>\n",
       "      <th>4</th>\n",
       "      <td>CC9999</td>\n",
       "      <td>2019-02-20</td>\n",
       "      <td>300</td>\n",
       "    </tr>\n",
       "    <tr>\n",
       "      <th>5</th>\n",
       "      <td>AA2930</td>\n",
       "      <td>2019-03-15</td>\n",
       "      <td>25</td>\n",
       "    </tr>\n",
       "    <tr>\n",
       "      <th>6</th>\n",
       "      <td>HH1158</td>\n",
       "      <td>2019-04-01</td>\n",
       "      <td>50</td>\n",
       "    </tr>\n",
       "    <tr>\n",
       "      <th>7</th>\n",
       "      <td>HH1158</td>\n",
       "      <td>2019-04-10</td>\n",
       "      <td>500</td>\n",
       "    </tr>\n",
       "  </tbody>\n",
       "</table>\n",
       "</div>"
      ],
      "text/plain": [
       "       Id        Data  Valor\n",
       "0  AA2930  2019-01-01    200\n",
       "1  EF4488  2019-01-30    100\n",
       "2  CC2139  2019-01-30     40\n",
       "3  EF4488  2019-02-01    150\n",
       "4  CC9999  2019-02-20    300\n",
       "5  AA2930  2019-03-15     25\n",
       "6  HH1158  2019-04-01     50\n",
       "7  HH1158  2019-04-10    500"
      ]
     },
     "execution_count": 236,
     "metadata": {},
     "output_type": "execute_result"
    }
   ],
   "source": [
    "# Registro de compras de todas unidades\n",
    "compras = {'Id': ['AA2930','EF4488','CC2139','EF4488','CC9999','AA2930','HH1158','HH1158'],\n",
    "            'Data':  ['2019-01-01','2019-01-30','2019-01-30','2019-02-01','2019-02-20','2019-03-15','2019-04-01','2019-04-10'],\n",
    "            'Valor': [200,100,40,150,300,25,50,500]\n",
    "           }\n",
    " \n",
    "compras = pd.DataFrame(compras, columns = ['Id','Data','Valor'])\n",
    "\n",
    "compras"
   ]
  },
  {
   "cell_type": "markdown",
   "id": "61ed0e01",
   "metadata": {
    "hidden": true
   },
   "source": [
    "* Merge **inner join** junta a interceção entre as tabelas"
   ]
  },
  {
   "cell_type": "code",
   "execution_count": 237,
   "id": "2021de31",
   "metadata": {
    "ExecuteTime": {
     "end_time": "2022-05-20T20:18:03.907967Z",
     "start_time": "2022-05-20T20:18:03.784709Z"
    },
    "hidden": true,
    "scrolled": true
   },
   "outputs": [
    {
     "data": {
      "text/html": [
       "<div>\n",
       "<style scoped>\n",
       "    .dataframe tbody tr th:only-of-type {\n",
       "        vertical-align: middle;\n",
       "    }\n",
       "\n",
       "    .dataframe tbody tr th {\n",
       "        vertical-align: top;\n",
       "    }\n",
       "\n",
       "    .dataframe thead th {\n",
       "        text-align: right;\n",
       "    }\n",
       "</style>\n",
       "<table border=\"1\" class=\"dataframe\">\n",
       "  <thead>\n",
       "    <tr style=\"text-align: right;\">\n",
       "      <th></th>\n",
       "      <th>Id</th>\n",
       "      <th>Nome</th>\n",
       "      <th>Idade_A</th>\n",
       "      <th>CEP_A</th>\n",
       "      <th>Idade_B</th>\n",
       "      <th>CEP_B</th>\n",
       "    </tr>\n",
       "  </thead>\n",
       "  <tbody>\n",
       "    <tr>\n",
       "      <th>0</th>\n",
       "      <td>GT3462</td>\n",
       "      <td>Ricardo</td>\n",
       "      <td>30</td>\n",
       "      <td>88888-111</td>\n",
       "      <td>30</td>\n",
       "      <td>88888-111</td>\n",
       "    </tr>\n",
       "    <tr>\n",
       "      <th>1</th>\n",
       "      <td>HH1158</td>\n",
       "      <td>Maria</td>\n",
       "      <td>27</td>\n",
       "      <td>77777-666</td>\n",
       "      <td>27</td>\n",
       "      <td>77777-666</td>\n",
       "    </tr>\n",
       "  </tbody>\n",
       "</table>\n",
       "</div>"
      ],
      "text/plain": [
       "       Id     Nome  Idade_A      CEP_A  Idade_B      CEP_B\n",
       "0  GT3462  Ricardo       30  88888-111       30  88888-111\n",
       "1  HH1158    Maria       27  77777-666       27  77777-666"
      ]
     },
     "execution_count": 237,
     "metadata": {},
     "output_type": "execute_result"
    }
   ],
   "source": [
    "pd.merge(cadastro_a, cadastro_b[['Id', 'Idade', 'CEP']], on= ['Id'], how='inner', suffixes= ('_A', '_B'))"
   ]
  },
  {
   "cell_type": "markdown",
   "id": "243df605",
   "metadata": {
    "hidden": true
   },
   "source": [
    "* Merge **full join** junta a todas as informações das tabelas"
   ]
  },
  {
   "cell_type": "code",
   "execution_count": 238,
   "id": "c52daa88",
   "metadata": {
    "ExecuteTime": {
     "end_time": "2022-05-20T20:18:04.082691Z",
     "start_time": "2022-05-20T20:18:03.913928Z"
    },
    "hidden": true
   },
   "outputs": [],
   "source": [
    "lojas = pd.concat([cadastro_a, cadastro_b], ignore_index= True)"
   ]
  },
  {
   "cell_type": "code",
   "execution_count": 239,
   "id": "2c4191e8",
   "metadata": {
    "ExecuteTime": {
     "end_time": "2022-05-20T20:18:04.168302Z",
     "start_time": "2022-05-20T20:18:04.092699Z"
    },
    "hidden": true
   },
   "outputs": [],
   "source": [
    "clientes_unicos = lojas.drop_duplicates(subset=['Id'])"
   ]
  },
  {
   "cell_type": "code",
   "execution_count": 240,
   "id": "a76b2d84",
   "metadata": {
    "ExecuteTime": {
     "end_time": "2022-05-20T20:18:04.375116Z",
     "start_time": "2022-05-20T20:18:04.174308Z"
    },
    "hidden": true,
    "scrolled": true
   },
   "outputs": [
    {
     "data": {
      "text/html": [
       "<div>\n",
       "<style scoped>\n",
       "    .dataframe tbody tr th:only-of-type {\n",
       "        vertical-align: middle;\n",
       "    }\n",
       "\n",
       "    .dataframe tbody tr th {\n",
       "        vertical-align: top;\n",
       "    }\n",
       "\n",
       "    .dataframe thead th {\n",
       "        text-align: right;\n",
       "    }\n",
       "</style>\n",
       "<table border=\"1\" class=\"dataframe\">\n",
       "  <thead>\n",
       "    <tr style=\"text-align: right;\">\n",
       "      <th></th>\n",
       "      <th>Id</th>\n",
       "      <th>Nome</th>\n",
       "      <th>Idade</th>\n",
       "      <th>CEP</th>\n",
       "    </tr>\n",
       "  </thead>\n",
       "  <tbody>\n",
       "    <tr>\n",
       "      <th>0</th>\n",
       "      <td>AA2930</td>\n",
       "      <td>Victor</td>\n",
       "      <td>20</td>\n",
       "      <td>00092-029</td>\n",
       "    </tr>\n",
       "    <tr>\n",
       "      <th>1</th>\n",
       "      <td>BB4563</td>\n",
       "      <td>Amanda</td>\n",
       "      <td>35</td>\n",
       "      <td>11111-111</td>\n",
       "    </tr>\n",
       "    <tr>\n",
       "      <th>2</th>\n",
       "      <td>CC2139</td>\n",
       "      <td>Bruna</td>\n",
       "      <td>40</td>\n",
       "      <td>22222-888</td>\n",
       "    </tr>\n",
       "    <tr>\n",
       "      <th>3</th>\n",
       "      <td>DE2521</td>\n",
       "      <td>Carlos</td>\n",
       "      <td>54</td>\n",
       "      <td>00000-999</td>\n",
       "    </tr>\n",
       "    <tr>\n",
       "      <th>4</th>\n",
       "      <td>GT3462</td>\n",
       "      <td>Ricardo</td>\n",
       "      <td>30</td>\n",
       "      <td>88888-111</td>\n",
       "    </tr>\n",
       "    <tr>\n",
       "      <th>5</th>\n",
       "      <td>HH1158</td>\n",
       "      <td>Maria</td>\n",
       "      <td>27</td>\n",
       "      <td>77777-666</td>\n",
       "    </tr>\n",
       "    <tr>\n",
       "      <th>6</th>\n",
       "      <td>CC9999</td>\n",
       "      <td>Marcos</td>\n",
       "      <td>19</td>\n",
       "      <td>00092-029</td>\n",
       "    </tr>\n",
       "    <tr>\n",
       "      <th>7</th>\n",
       "      <td>EF4488</td>\n",
       "      <td>Patricia</td>\n",
       "      <td>30</td>\n",
       "      <td>11111-111</td>\n",
       "    </tr>\n",
       "    <tr>\n",
       "      <th>8</th>\n",
       "      <td>DD9999</td>\n",
       "      <td>Ericka</td>\n",
       "      <td>22</td>\n",
       "      <td>11111-888</td>\n",
       "    </tr>\n",
       "  </tbody>\n",
       "</table>\n",
       "</div>"
      ],
      "text/plain": [
       "       Id      Nome  Idade        CEP\n",
       "0  AA2930    Victor     20  00092-029\n",
       "1  BB4563    Amanda     35  11111-111\n",
       "2  CC2139     Bruna     40  22222-888\n",
       "3  DE2521    Carlos     54  00000-999\n",
       "4  GT3462   Ricardo     30  88888-111\n",
       "5  HH1158     Maria     27  77777-666\n",
       "6  CC9999    Marcos     19  00092-029\n",
       "7  EF4488  Patricia     30  11111-111\n",
       "8  DD9999    Ericka     22  11111-888"
      ]
     },
     "execution_count": 240,
     "metadata": {},
     "output_type": "execute_result"
    }
   ],
   "source": [
    "clientes_unicos"
   ]
  },
  {
   "cell_type": "markdown",
   "id": "56bf2238",
   "metadata": {
    "hidden": true
   },
   "source": [
    "* Merge **left join** junta informações do lado esquerdo da tabela "
   ]
  },
  {
   "cell_type": "code",
   "execution_count": 241,
   "id": "81fe873d",
   "metadata": {
    "ExecuteTime": {
     "end_time": "2022-05-20T20:18:04.456924Z",
     "start_time": "2022-05-20T20:18:04.380113Z"
    },
    "hidden": true,
    "scrolled": true
   },
   "outputs": [],
   "source": [
    "esquerda = pd.merge(cadastro_a, compras, how='left', on=['Id'])"
   ]
  },
  {
   "cell_type": "code",
   "execution_count": 242,
   "id": "a83b8568",
   "metadata": {
    "ExecuteTime": {
     "end_time": "2022-05-20T20:18:04.551176Z",
     "start_time": "2022-05-20T20:18:04.459769Z"
    },
    "hidden": true,
    "scrolled": true
   },
   "outputs": [
    {
     "data": {
      "text/html": [
       "<div>\n",
       "<style scoped>\n",
       "    .dataframe tbody tr th:only-of-type {\n",
       "        vertical-align: middle;\n",
       "    }\n",
       "\n",
       "    .dataframe tbody tr th {\n",
       "        vertical-align: top;\n",
       "    }\n",
       "\n",
       "    .dataframe thead th {\n",
       "        text-align: right;\n",
       "    }\n",
       "</style>\n",
       "<table border=\"1\" class=\"dataframe\">\n",
       "  <thead>\n",
       "    <tr style=\"text-align: right;\">\n",
       "      <th></th>\n",
       "      <th>Id</th>\n",
       "      <th>Data</th>\n",
       "      <th>Valor</th>\n",
       "    </tr>\n",
       "  </thead>\n",
       "  <tbody>\n",
       "    <tr>\n",
       "      <th>0</th>\n",
       "      <td>AA2930</td>\n",
       "      <td>2019-01-01</td>\n",
       "      <td>200</td>\n",
       "    </tr>\n",
       "    <tr>\n",
       "      <th>1</th>\n",
       "      <td>EF4488</td>\n",
       "      <td>2019-01-30</td>\n",
       "      <td>100</td>\n",
       "    </tr>\n",
       "    <tr>\n",
       "      <th>2</th>\n",
       "      <td>CC2139</td>\n",
       "      <td>2019-01-30</td>\n",
       "      <td>40</td>\n",
       "    </tr>\n",
       "    <tr>\n",
       "      <th>3</th>\n",
       "      <td>EF4488</td>\n",
       "      <td>2019-02-01</td>\n",
       "      <td>150</td>\n",
       "    </tr>\n",
       "    <tr>\n",
       "      <th>4</th>\n",
       "      <td>CC9999</td>\n",
       "      <td>2019-02-20</td>\n",
       "      <td>300</td>\n",
       "    </tr>\n",
       "    <tr>\n",
       "      <th>5</th>\n",
       "      <td>AA2930</td>\n",
       "      <td>2019-03-15</td>\n",
       "      <td>25</td>\n",
       "    </tr>\n",
       "    <tr>\n",
       "      <th>6</th>\n",
       "      <td>HH1158</td>\n",
       "      <td>2019-04-01</td>\n",
       "      <td>50</td>\n",
       "    </tr>\n",
       "    <tr>\n",
       "      <th>7</th>\n",
       "      <td>HH1158</td>\n",
       "      <td>2019-04-10</td>\n",
       "      <td>500</td>\n",
       "    </tr>\n",
       "  </tbody>\n",
       "</table>\n",
       "</div>"
      ],
      "text/plain": [
       "       Id        Data  Valor\n",
       "0  AA2930  2019-01-01    200\n",
       "1  EF4488  2019-01-30    100\n",
       "2  CC2139  2019-01-30     40\n",
       "3  EF4488  2019-02-01    150\n",
       "4  CC9999  2019-02-20    300\n",
       "5  AA2930  2019-03-15     25\n",
       "6  HH1158  2019-04-01     50\n",
       "7  HH1158  2019-04-10    500"
      ]
     },
     "execution_count": 242,
     "metadata": {},
     "output_type": "execute_result"
    }
   ],
   "source": [
    "compras"
   ]
  },
  {
   "cell_type": "code",
   "execution_count": 243,
   "id": "751107f5",
   "metadata": {
    "ExecuteTime": {
     "end_time": "2022-05-20T20:18:04.706746Z",
     "start_time": "2022-05-20T20:18:04.553377Z"
    },
    "hidden": true
   },
   "outputs": [
    {
     "data": {
      "text/html": [
       "<div>\n",
       "<style scoped>\n",
       "    .dataframe tbody tr th:only-of-type {\n",
       "        vertical-align: middle;\n",
       "    }\n",
       "\n",
       "    .dataframe tbody tr th {\n",
       "        vertical-align: top;\n",
       "    }\n",
       "\n",
       "    .dataframe thead th {\n",
       "        text-align: right;\n",
       "    }\n",
       "</style>\n",
       "<table border=\"1\" class=\"dataframe\">\n",
       "  <thead>\n",
       "    <tr style=\"text-align: right;\">\n",
       "      <th></th>\n",
       "      <th>Id</th>\n",
       "      <th>Nome</th>\n",
       "      <th>Idade</th>\n",
       "      <th>CEP</th>\n",
       "    </tr>\n",
       "  </thead>\n",
       "  <tbody>\n",
       "    <tr>\n",
       "      <th>0</th>\n",
       "      <td>AA2930</td>\n",
       "      <td>Victor</td>\n",
       "      <td>20</td>\n",
       "      <td>00092-029</td>\n",
       "    </tr>\n",
       "    <tr>\n",
       "      <th>1</th>\n",
       "      <td>BB4563</td>\n",
       "      <td>Amanda</td>\n",
       "      <td>35</td>\n",
       "      <td>11111-111</td>\n",
       "    </tr>\n",
       "    <tr>\n",
       "      <th>2</th>\n",
       "      <td>CC2139</td>\n",
       "      <td>Bruna</td>\n",
       "      <td>40</td>\n",
       "      <td>22222-888</td>\n",
       "    </tr>\n",
       "    <tr>\n",
       "      <th>3</th>\n",
       "      <td>DE2521</td>\n",
       "      <td>Carlos</td>\n",
       "      <td>54</td>\n",
       "      <td>00000-999</td>\n",
       "    </tr>\n",
       "    <tr>\n",
       "      <th>4</th>\n",
       "      <td>GT3462</td>\n",
       "      <td>Ricardo</td>\n",
       "      <td>30</td>\n",
       "      <td>88888-111</td>\n",
       "    </tr>\n",
       "    <tr>\n",
       "      <th>5</th>\n",
       "      <td>HH1158</td>\n",
       "      <td>Maria</td>\n",
       "      <td>27</td>\n",
       "      <td>77777-666</td>\n",
       "    </tr>\n",
       "  </tbody>\n",
       "</table>\n",
       "</div>"
      ],
      "text/plain": [
       "       Id     Nome  Idade        CEP\n",
       "0  AA2930   Victor     20  00092-029\n",
       "1  BB4563   Amanda     35  11111-111\n",
       "2  CC2139    Bruna     40  22222-888\n",
       "3  DE2521   Carlos     54  00000-999\n",
       "4  GT3462  Ricardo     30  88888-111\n",
       "5  HH1158    Maria     27  77777-666"
      ]
     },
     "execution_count": 243,
     "metadata": {},
     "output_type": "execute_result"
    }
   ],
   "source": [
    "cadastro_a"
   ]
  },
  {
   "cell_type": "code",
   "execution_count": 244,
   "id": "94bded05",
   "metadata": {
    "ExecuteTime": {
     "end_time": "2022-05-20T20:18:04.824235Z",
     "start_time": "2022-05-20T20:18:04.709744Z"
    },
    "hidden": true,
    "scrolled": false
   },
   "outputs": [
    {
     "data": {
      "text/html": [
       "<div>\n",
       "<style scoped>\n",
       "    .dataframe tbody tr th:only-of-type {\n",
       "        vertical-align: middle;\n",
       "    }\n",
       "\n",
       "    .dataframe tbody tr th {\n",
       "        vertical-align: top;\n",
       "    }\n",
       "\n",
       "    .dataframe thead th {\n",
       "        text-align: right;\n",
       "    }\n",
       "</style>\n",
       "<table border=\"1\" class=\"dataframe\">\n",
       "  <thead>\n",
       "    <tr style=\"text-align: right;\">\n",
       "      <th></th>\n",
       "      <th>Id</th>\n",
       "      <th>Nome</th>\n",
       "      <th>Idade</th>\n",
       "      <th>CEP</th>\n",
       "      <th>Data</th>\n",
       "      <th>Valor</th>\n",
       "    </tr>\n",
       "  </thead>\n",
       "  <tbody>\n",
       "    <tr>\n",
       "      <th>0</th>\n",
       "      <td>AA2930</td>\n",
       "      <td>Victor</td>\n",
       "      <td>20</td>\n",
       "      <td>00092-029</td>\n",
       "      <td>2019-01-01</td>\n",
       "      <td>200.0</td>\n",
       "    </tr>\n",
       "    <tr>\n",
       "      <th>1</th>\n",
       "      <td>AA2930</td>\n",
       "      <td>Victor</td>\n",
       "      <td>20</td>\n",
       "      <td>00092-029</td>\n",
       "      <td>2019-03-15</td>\n",
       "      <td>25.0</td>\n",
       "    </tr>\n",
       "    <tr>\n",
       "      <th>2</th>\n",
       "      <td>BB4563</td>\n",
       "      <td>Amanda</td>\n",
       "      <td>35</td>\n",
       "      <td>11111-111</td>\n",
       "      <td>NaN</td>\n",
       "      <td>NaN</td>\n",
       "    </tr>\n",
       "    <tr>\n",
       "      <th>3</th>\n",
       "      <td>CC2139</td>\n",
       "      <td>Bruna</td>\n",
       "      <td>40</td>\n",
       "      <td>22222-888</td>\n",
       "      <td>2019-01-30</td>\n",
       "      <td>40.0</td>\n",
       "    </tr>\n",
       "    <tr>\n",
       "      <th>4</th>\n",
       "      <td>DE2521</td>\n",
       "      <td>Carlos</td>\n",
       "      <td>54</td>\n",
       "      <td>00000-999</td>\n",
       "      <td>NaN</td>\n",
       "      <td>NaN</td>\n",
       "    </tr>\n",
       "    <tr>\n",
       "      <th>5</th>\n",
       "      <td>GT3462</td>\n",
       "      <td>Ricardo</td>\n",
       "      <td>30</td>\n",
       "      <td>88888-111</td>\n",
       "      <td>NaN</td>\n",
       "      <td>NaN</td>\n",
       "    </tr>\n",
       "    <tr>\n",
       "      <th>6</th>\n",
       "      <td>HH1158</td>\n",
       "      <td>Maria</td>\n",
       "      <td>27</td>\n",
       "      <td>77777-666</td>\n",
       "      <td>2019-04-01</td>\n",
       "      <td>50.0</td>\n",
       "    </tr>\n",
       "    <tr>\n",
       "      <th>7</th>\n",
       "      <td>HH1158</td>\n",
       "      <td>Maria</td>\n",
       "      <td>27</td>\n",
       "      <td>77777-666</td>\n",
       "      <td>2019-04-10</td>\n",
       "      <td>500.0</td>\n",
       "    </tr>\n",
       "  </tbody>\n",
       "</table>\n",
       "</div>"
      ],
      "text/plain": [
       "       Id     Nome  Idade        CEP        Data  Valor\n",
       "0  AA2930   Victor     20  00092-029  2019-01-01  200.0\n",
       "1  AA2930   Victor     20  00092-029  2019-03-15   25.0\n",
       "2  BB4563   Amanda     35  11111-111         NaN    NaN\n",
       "3  CC2139    Bruna     40  22222-888  2019-01-30   40.0\n",
       "4  DE2521   Carlos     54  00000-999         NaN    NaN\n",
       "5  GT3462  Ricardo     30  88888-111         NaN    NaN\n",
       "6  HH1158    Maria     27  77777-666  2019-04-01   50.0\n",
       "7  HH1158    Maria     27  77777-666  2019-04-10  500.0"
      ]
     },
     "execution_count": 244,
     "metadata": {},
     "output_type": "execute_result"
    }
   ],
   "source": [
    "esquerda"
   ]
  },
  {
   "cell_type": "code",
   "execution_count": 245,
   "id": "7921212c",
   "metadata": {
    "ExecuteTime": {
     "end_time": "2022-05-20T20:18:04.923396Z",
     "start_time": "2022-05-20T20:18:04.827245Z"
    },
    "hidden": true,
    "scrolled": true
   },
   "outputs": [
    {
     "data": {
      "text/plain": [
       "Id      Nome   \n",
       "AA2930  Victor     225.0\n",
       "BB4563  Amanda       0.0\n",
       "CC2139  Bruna       40.0\n",
       "DE2521  Carlos       0.0\n",
       "GT3462  Ricardo      0.0\n",
       "HH1158  Maria      550.0\n",
       "Name: Valor, dtype: float64"
      ]
     },
     "execution_count": 245,
     "metadata": {},
     "output_type": "execute_result"
    }
   ],
   "source": [
    "esquerda.groupby(['Id', 'Nome'])['Valor'].sum()"
   ]
  },
  {
   "cell_type": "markdown",
   "id": "72c07ba4",
   "metadata": {
    "heading_collapsed": true
   },
   "source": [
    "## 2.3. Groupby "
   ]
  },
  {
   "cell_type": "code",
   "execution_count": 246,
   "id": "2914940d",
   "metadata": {
    "ExecuteTime": {
     "end_time": "2022-05-20T20:18:05.021811Z",
     "start_time": "2022-05-20T20:18:04.928388Z"
    },
    "hidden": true
   },
   "outputs": [],
   "source": [
    "dfg = pd.DataFrame({'A': ['verdadeiro', 'falso', 'verdadeiro', 'falso', 'verdadeiro', 'falso', 'verdadeiro', 'falso'],\n",
    "                    \n",
    "                    'B': ['um', 'um', 'dois', 'tres', 'dois', ' dois', 'um ', 'tres'],\n",
    "                    \n",
    "                    'C': np.random.randn(8),\n",
    "                    \n",
    "                    'D': np.random.randn(8)})"
   ]
  },
  {
   "cell_type": "code",
   "execution_count": 247,
   "id": "4d573ed0",
   "metadata": {
    "ExecuteTime": {
     "end_time": "2022-05-20T20:18:05.116572Z",
     "start_time": "2022-05-20T20:18:05.027816Z"
    },
    "hidden": true
   },
   "outputs": [
    {
     "data": {
      "text/html": [
       "<div>\n",
       "<style scoped>\n",
       "    .dataframe tbody tr th:only-of-type {\n",
       "        vertical-align: middle;\n",
       "    }\n",
       "\n",
       "    .dataframe tbody tr th {\n",
       "        vertical-align: top;\n",
       "    }\n",
       "\n",
       "    .dataframe thead th {\n",
       "        text-align: right;\n",
       "    }\n",
       "</style>\n",
       "<table border=\"1\" class=\"dataframe\">\n",
       "  <thead>\n",
       "    <tr style=\"text-align: right;\">\n",
       "      <th></th>\n",
       "      <th>A</th>\n",
       "      <th>B</th>\n",
       "      <th>C</th>\n",
       "      <th>D</th>\n",
       "    </tr>\n",
       "  </thead>\n",
       "  <tbody>\n",
       "    <tr>\n",
       "      <th>0</th>\n",
       "      <td>verdadeiro</td>\n",
       "      <td>um</td>\n",
       "      <td>-0.127952</td>\n",
       "      <td>-0.121413</td>\n",
       "    </tr>\n",
       "    <tr>\n",
       "      <th>1</th>\n",
       "      <td>falso</td>\n",
       "      <td>um</td>\n",
       "      <td>0.976458</td>\n",
       "      <td>1.768174</td>\n",
       "    </tr>\n",
       "    <tr>\n",
       "      <th>2</th>\n",
       "      <td>verdadeiro</td>\n",
       "      <td>dois</td>\n",
       "      <td>0.940065</td>\n",
       "      <td>0.582561</td>\n",
       "    </tr>\n",
       "    <tr>\n",
       "      <th>3</th>\n",
       "      <td>falso</td>\n",
       "      <td>tres</td>\n",
       "      <td>-1.244947</td>\n",
       "      <td>-1.712147</td>\n",
       "    </tr>\n",
       "    <tr>\n",
       "      <th>4</th>\n",
       "      <td>verdadeiro</td>\n",
       "      <td>dois</td>\n",
       "      <td>-1.308158</td>\n",
       "      <td>-1.809697</td>\n",
       "    </tr>\n",
       "    <tr>\n",
       "      <th>5</th>\n",
       "      <td>falso</td>\n",
       "      <td>dois</td>\n",
       "      <td>-1.615104</td>\n",
       "      <td>1.132487</td>\n",
       "    </tr>\n",
       "    <tr>\n",
       "      <th>6</th>\n",
       "      <td>verdadeiro</td>\n",
       "      <td>um</td>\n",
       "      <td>0.292023</td>\n",
       "      <td>0.488565</td>\n",
       "    </tr>\n",
       "    <tr>\n",
       "      <th>7</th>\n",
       "      <td>falso</td>\n",
       "      <td>tres</td>\n",
       "      <td>-0.184746</td>\n",
       "      <td>1.264423</td>\n",
       "    </tr>\n",
       "  </tbody>\n",
       "</table>\n",
       "</div>"
      ],
      "text/plain": [
       "            A      B         C         D\n",
       "0  verdadeiro     um -0.127952 -0.121413\n",
       "1       falso     um  0.976458  1.768174\n",
       "2  verdadeiro   dois  0.940065  0.582561\n",
       "3       falso   tres -1.244947 -1.712147\n",
       "4  verdadeiro   dois -1.308158 -1.809697\n",
       "5       falso   dois -1.615104  1.132487\n",
       "6  verdadeiro    um   0.292023  0.488565\n",
       "7       falso   tres -0.184746  1.264423"
      ]
     },
     "execution_count": 247,
     "metadata": {},
     "output_type": "execute_result"
    }
   ],
   "source": [
    "dfg"
   ]
  },
  {
   "cell_type": "markdown",
   "id": "fc3fba7f",
   "metadata": {
    "heading_collapsed": true,
    "hidden": true
   },
   "source": [
    "#### Soma dos valores das colunas baseada na coluna A"
   ]
  },
  {
   "cell_type": "code",
   "execution_count": 248,
   "id": "642ebe5d",
   "metadata": {
    "ExecuteTime": {
     "end_time": "2022-05-20T20:18:05.211863Z",
     "start_time": "2022-05-20T20:18:05.122562Z"
    },
    "hidden": true,
    "scrolled": false
   },
   "outputs": [
    {
     "data": {
      "text/html": [
       "<div>\n",
       "<style scoped>\n",
       "    .dataframe tbody tr th:only-of-type {\n",
       "        vertical-align: middle;\n",
       "    }\n",
       "\n",
       "    .dataframe tbody tr th {\n",
       "        vertical-align: top;\n",
       "    }\n",
       "\n",
       "    .dataframe thead th {\n",
       "        text-align: right;\n",
       "    }\n",
       "</style>\n",
       "<table border=\"1\" class=\"dataframe\">\n",
       "  <thead>\n",
       "    <tr style=\"text-align: right;\">\n",
       "      <th></th>\n",
       "      <th>C</th>\n",
       "      <th>D</th>\n",
       "    </tr>\n",
       "    <tr>\n",
       "      <th>A</th>\n",
       "      <th></th>\n",
       "      <th></th>\n",
       "    </tr>\n",
       "  </thead>\n",
       "  <tbody>\n",
       "    <tr>\n",
       "      <th>falso</th>\n",
       "      <td>-2.068339</td>\n",
       "      <td>2.452938</td>\n",
       "    </tr>\n",
       "    <tr>\n",
       "      <th>verdadeiro</th>\n",
       "      <td>-0.204022</td>\n",
       "      <td>-0.859984</td>\n",
       "    </tr>\n",
       "  </tbody>\n",
       "</table>\n",
       "</div>"
      ],
      "text/plain": [
       "                   C         D\n",
       "A                             \n",
       "falso      -2.068339  2.452938\n",
       "verdadeiro -0.204022 -0.859984"
      ]
     },
     "execution_count": 248,
     "metadata": {},
     "output_type": "execute_result"
    }
   ],
   "source": [
    "dfg.groupby(['A']).sum()"
   ]
  },
  {
   "cell_type": "markdown",
   "id": "233a711d",
   "metadata": {
    "heading_collapsed": true,
    "hidden": true
   },
   "source": [
    "#### Média dos valores das colunas baseada na coluna A"
   ]
  },
  {
   "cell_type": "code",
   "execution_count": 249,
   "id": "21da4e6d",
   "metadata": {
    "ExecuteTime": {
     "end_time": "2022-05-20T20:18:05.324498Z",
     "start_time": "2022-05-20T20:18:05.216857Z"
    },
    "hidden": true
   },
   "outputs": [
    {
     "data": {
      "text/html": [
       "<div>\n",
       "<style scoped>\n",
       "    .dataframe tbody tr th:only-of-type {\n",
       "        vertical-align: middle;\n",
       "    }\n",
       "\n",
       "    .dataframe tbody tr th {\n",
       "        vertical-align: top;\n",
       "    }\n",
       "\n",
       "    .dataframe thead th {\n",
       "        text-align: right;\n",
       "    }\n",
       "</style>\n",
       "<table border=\"1\" class=\"dataframe\">\n",
       "  <thead>\n",
       "    <tr style=\"text-align: right;\">\n",
       "      <th></th>\n",
       "      <th>C</th>\n",
       "      <th>D</th>\n",
       "    </tr>\n",
       "    <tr>\n",
       "      <th>A</th>\n",
       "      <th></th>\n",
       "      <th></th>\n",
       "    </tr>\n",
       "  </thead>\n",
       "  <tbody>\n",
       "    <tr>\n",
       "      <th>falso</th>\n",
       "      <td>-0.517085</td>\n",
       "      <td>0.613235</td>\n",
       "    </tr>\n",
       "    <tr>\n",
       "      <th>verdadeiro</th>\n",
       "      <td>-0.051005</td>\n",
       "      <td>-0.214996</td>\n",
       "    </tr>\n",
       "  </tbody>\n",
       "</table>\n",
       "</div>"
      ],
      "text/plain": [
       "                   C         D\n",
       "A                             \n",
       "falso      -0.517085  0.613235\n",
       "verdadeiro -0.051005 -0.214996"
      ]
     },
     "execution_count": 249,
     "metadata": {},
     "output_type": "execute_result"
    }
   ],
   "source": [
    "dfg.groupby(['A']).mean()"
   ]
  },
  {
   "cell_type": "markdown",
   "id": "ce76dd69",
   "metadata": {
    "heading_collapsed": true,
    "hidden": true
   },
   "source": [
    "#### Soma dos valores das colunas baseada na coluna B"
   ]
  },
  {
   "cell_type": "code",
   "execution_count": 250,
   "id": "9df408ce",
   "metadata": {
    "ExecuteTime": {
     "end_time": "2022-05-20T20:18:05.427058Z",
     "start_time": "2022-05-20T20:18:05.328502Z"
    },
    "hidden": true
   },
   "outputs": [
    {
     "data": {
      "text/html": [
       "<div>\n",
       "<style scoped>\n",
       "    .dataframe tbody tr th:only-of-type {\n",
       "        vertical-align: middle;\n",
       "    }\n",
       "\n",
       "    .dataframe tbody tr th {\n",
       "        vertical-align: top;\n",
       "    }\n",
       "\n",
       "    .dataframe thead th {\n",
       "        text-align: right;\n",
       "    }\n",
       "</style>\n",
       "<table border=\"1\" class=\"dataframe\">\n",
       "  <thead>\n",
       "    <tr style=\"text-align: right;\">\n",
       "      <th></th>\n",
       "      <th>C</th>\n",
       "      <th>D</th>\n",
       "    </tr>\n",
       "    <tr>\n",
       "      <th>B</th>\n",
       "      <th></th>\n",
       "      <th></th>\n",
       "    </tr>\n",
       "  </thead>\n",
       "  <tbody>\n",
       "    <tr>\n",
       "      <th>dois</th>\n",
       "      <td>-1.615104</td>\n",
       "      <td>1.132487</td>\n",
       "    </tr>\n",
       "    <tr>\n",
       "      <th>dois</th>\n",
       "      <td>-0.368093</td>\n",
       "      <td>-1.227136</td>\n",
       "    </tr>\n",
       "    <tr>\n",
       "      <th>tres</th>\n",
       "      <td>-1.429693</td>\n",
       "      <td>-0.447724</td>\n",
       "    </tr>\n",
       "    <tr>\n",
       "      <th>um</th>\n",
       "      <td>0.848505</td>\n",
       "      <td>1.646761</td>\n",
       "    </tr>\n",
       "    <tr>\n",
       "      <th>um</th>\n",
       "      <td>0.292023</td>\n",
       "      <td>0.488565</td>\n",
       "    </tr>\n",
       "  </tbody>\n",
       "</table>\n",
       "</div>"
      ],
      "text/plain": [
       "              C         D\n",
       "B                        \n",
       " dois -1.615104  1.132487\n",
       "dois  -0.368093 -1.227136\n",
       "tres  -1.429693 -0.447724\n",
       "um     0.848505  1.646761\n",
       "um     0.292023  0.488565"
      ]
     },
     "execution_count": 250,
     "metadata": {},
     "output_type": "execute_result"
    }
   ],
   "source": [
    "dfg.groupby(['B']).sum()"
   ]
  },
  {
   "cell_type": "markdown",
   "id": "6c3116da",
   "metadata": {
    "heading_collapsed": true,
    "hidden": true
   },
   "source": [
    "#### Média dos valores das colunas baseada na coluna B"
   ]
  },
  {
   "cell_type": "code",
   "execution_count": 251,
   "id": "8bb914c1",
   "metadata": {
    "ExecuteTime": {
     "end_time": "2022-05-20T20:18:05.504158Z",
     "start_time": "2022-05-20T20:18:05.432063Z"
    },
    "hidden": true,
    "scrolled": true
   },
   "outputs": [
    {
     "data": {
      "text/html": [
       "<div>\n",
       "<style scoped>\n",
       "    .dataframe tbody tr th:only-of-type {\n",
       "        vertical-align: middle;\n",
       "    }\n",
       "\n",
       "    .dataframe tbody tr th {\n",
       "        vertical-align: top;\n",
       "    }\n",
       "\n",
       "    .dataframe thead th {\n",
       "        text-align: right;\n",
       "    }\n",
       "</style>\n",
       "<table border=\"1\" class=\"dataframe\">\n",
       "  <thead>\n",
       "    <tr style=\"text-align: right;\">\n",
       "      <th></th>\n",
       "      <th>C</th>\n",
       "      <th>D</th>\n",
       "    </tr>\n",
       "    <tr>\n",
       "      <th>B</th>\n",
       "      <th></th>\n",
       "      <th></th>\n",
       "    </tr>\n",
       "  </thead>\n",
       "  <tbody>\n",
       "    <tr>\n",
       "      <th>dois</th>\n",
       "      <td>-1.615104</td>\n",
       "      <td>1.132487</td>\n",
       "    </tr>\n",
       "    <tr>\n",
       "      <th>dois</th>\n",
       "      <td>-0.184046</td>\n",
       "      <td>-0.613568</td>\n",
       "    </tr>\n",
       "    <tr>\n",
       "      <th>tres</th>\n",
       "      <td>-0.714846</td>\n",
       "      <td>-0.223862</td>\n",
       "    </tr>\n",
       "    <tr>\n",
       "      <th>um</th>\n",
       "      <td>0.424253</td>\n",
       "      <td>0.823381</td>\n",
       "    </tr>\n",
       "    <tr>\n",
       "      <th>um</th>\n",
       "      <td>0.292023</td>\n",
       "      <td>0.488565</td>\n",
       "    </tr>\n",
       "  </tbody>\n",
       "</table>\n",
       "</div>"
      ],
      "text/plain": [
       "              C         D\n",
       "B                        \n",
       " dois -1.615104  1.132487\n",
       "dois  -0.184046 -0.613568\n",
       "tres  -0.714846 -0.223862\n",
       "um     0.424253  0.823381\n",
       "um     0.292023  0.488565"
      ]
     },
     "execution_count": 251,
     "metadata": {},
     "output_type": "execute_result"
    }
   ],
   "source": [
    "dfg.groupby(['B']).mean()"
   ]
  },
  {
   "cell_type": "markdown",
   "id": "b66d02af",
   "metadata": {
    "heading_collapsed": true,
    "hidden": true
   },
   "source": [
    "#### Soma dos valores das colunas baseada nas colunas A e B"
   ]
  },
  {
   "cell_type": "code",
   "execution_count": 252,
   "id": "f8d1067d",
   "metadata": {
    "ExecuteTime": {
     "end_time": "2022-05-20T20:18:05.608321Z",
     "start_time": "2022-05-20T20:18:05.508159Z"
    },
    "hidden": true,
    "scrolled": true
   },
   "outputs": [
    {
     "data": {
      "text/html": [
       "<div>\n",
       "<style scoped>\n",
       "    .dataframe tbody tr th:only-of-type {\n",
       "        vertical-align: middle;\n",
       "    }\n",
       "\n",
       "    .dataframe tbody tr th {\n",
       "        vertical-align: top;\n",
       "    }\n",
       "\n",
       "    .dataframe thead th {\n",
       "        text-align: right;\n",
       "    }\n",
       "</style>\n",
       "<table border=\"1\" class=\"dataframe\">\n",
       "  <thead>\n",
       "    <tr style=\"text-align: right;\">\n",
       "      <th></th>\n",
       "      <th></th>\n",
       "      <th>C</th>\n",
       "      <th>D</th>\n",
       "    </tr>\n",
       "    <tr>\n",
       "      <th>A</th>\n",
       "      <th>B</th>\n",
       "      <th></th>\n",
       "      <th></th>\n",
       "    </tr>\n",
       "  </thead>\n",
       "  <tbody>\n",
       "    <tr>\n",
       "      <th rowspan=\"3\" valign=\"top\">falso</th>\n",
       "      <th>dois</th>\n",
       "      <td>-1.615104</td>\n",
       "      <td>1.132487</td>\n",
       "    </tr>\n",
       "    <tr>\n",
       "      <th>tres</th>\n",
       "      <td>-1.429693</td>\n",
       "      <td>-0.447724</td>\n",
       "    </tr>\n",
       "    <tr>\n",
       "      <th>um</th>\n",
       "      <td>0.976458</td>\n",
       "      <td>1.768174</td>\n",
       "    </tr>\n",
       "    <tr>\n",
       "      <th rowspan=\"3\" valign=\"top\">verdadeiro</th>\n",
       "      <th>dois</th>\n",
       "      <td>-0.368093</td>\n",
       "      <td>-1.227136</td>\n",
       "    </tr>\n",
       "    <tr>\n",
       "      <th>um</th>\n",
       "      <td>-0.127952</td>\n",
       "      <td>-0.121413</td>\n",
       "    </tr>\n",
       "    <tr>\n",
       "      <th>um</th>\n",
       "      <td>0.292023</td>\n",
       "      <td>0.488565</td>\n",
       "    </tr>\n",
       "  </tbody>\n",
       "</table>\n",
       "</div>"
      ],
      "text/plain": [
       "                         C         D\n",
       "A          B                        \n",
       "falso       dois -1.615104  1.132487\n",
       "           tres  -1.429693 -0.447724\n",
       "           um     0.976458  1.768174\n",
       "verdadeiro dois  -0.368093 -1.227136\n",
       "           um    -0.127952 -0.121413\n",
       "           um     0.292023  0.488565"
      ]
     },
     "execution_count": 252,
     "metadata": {},
     "output_type": "execute_result"
    }
   ],
   "source": [
    "dfg.groupby(['A','B']).sum()"
   ]
  },
  {
   "cell_type": "markdown",
   "id": "231029fe",
   "metadata": {
    "heading_collapsed": true
   },
   "source": [
    "## 2.4. Indexação  "
   ]
  },
  {
   "cell_type": "markdown",
   "id": "ef673d36",
   "metadata": {
    "hidden": true
   },
   "source": [
    "Todo índice em pyhon inicia em 0.\n",
    "\n",
    "Sempre que quisermos selecionar algum objeto em uma lista, devemos considerar esse requisito."
   ]
  },
  {
   "cell_type": "code",
   "execution_count": 253,
   "id": "90fc3223",
   "metadata": {
    "ExecuteTime": {
     "end_time": "2022-05-20T20:18:05.709976Z",
     "start_time": "2022-05-20T20:18:05.611320Z"
    },
    "hidden": true
   },
   "outputs": [],
   "source": [
    "lista = [ 32, 96, 11, 27]"
   ]
  },
  {
   "cell_type": "code",
   "execution_count": 254,
   "id": "a7575e5e",
   "metadata": {
    "ExecuteTime": {
     "end_time": "2022-05-20T20:18:05.793347Z",
     "start_time": "2022-05-20T20:18:05.717984Z"
    },
    "hidden": true
   },
   "outputs": [
    {
     "data": {
      "text/plain": [
       "32"
      ]
     },
     "execution_count": 254,
     "metadata": {},
     "output_type": "execute_result"
    }
   ],
   "source": [
    "lista[0]"
   ]
  },
  {
   "cell_type": "markdown",
   "id": "88c109dd",
   "metadata": {
    "hidden": true,
    "hide_input": false
   },
   "source": [
    "Sempre que quisermos selecionar os números de trás pra frente, basta adicionar o sinal de subtração e ordenar a casa"
   ]
  },
  {
   "cell_type": "code",
   "execution_count": 255,
   "id": "07ca6108",
   "metadata": {
    "ExecuteTime": {
     "end_time": "2022-05-20T20:18:05.879507Z",
     "start_time": "2022-05-20T20:18:05.800343Z"
    },
    "hidden": true
   },
   "outputs": [
    {
     "data": {
      "text/plain": [
       "27"
      ]
     },
     "execution_count": 255,
     "metadata": {},
     "output_type": "execute_result"
    }
   ],
   "source": [
    "lista [-1]"
   ]
  },
  {
   "cell_type": "markdown",
   "id": "2d2b1327",
   "metadata": {
    "hidden": true
   },
   "source": [
    "### Indexação múltlipla"
   ]
  },
  {
   "cell_type": "code",
   "execution_count": 256,
   "id": "8af65c9d",
   "metadata": {
    "ExecuteTime": {
     "end_time": "2022-05-20T20:18:05.962132Z",
     "start_time": "2022-05-20T20:18:05.885502Z"
    },
    "hidden": true
   },
   "outputs": [],
   "source": [
    "arrays = [[1, 2, 5, 4], ['red', 'blue', 'green', 'blue']]"
   ]
  },
  {
   "cell_type": "code",
   "execution_count": 257,
   "id": "8f825208",
   "metadata": {
    "ExecuteTime": {
     "end_time": "2022-05-20T20:18:06.055954Z",
     "start_time": "2022-05-20T20:18:05.965051Z"
    },
    "hidden": true
   },
   "outputs": [
    {
     "data": {
      "text/plain": [
       "MultiIndex([(1,   'red'),\n",
       "            (2,  'blue'),\n",
       "            (5, 'green'),\n",
       "            (4,  'blue')],\n",
       "           names=['number', 'color'])"
      ]
     },
     "execution_count": 257,
     "metadata": {},
     "output_type": "execute_result"
    }
   ],
   "source": [
    "pd.MultiIndex.from_arrays(arrays, names=('number', 'color'))"
   ]
  },
  {
   "cell_type": "code",
   "execution_count": 258,
   "id": "366edcd8",
   "metadata": {
    "ExecuteTime": {
     "end_time": "2022-05-20T20:18:06.135096Z",
     "start_time": "2022-05-20T20:18:06.058903Z"
    },
    "hidden": true
   },
   "outputs": [],
   "source": [
    "numbers = [0, 1, 2]\n",
    "colors = ['green', 'purple']"
   ]
  },
  {
   "cell_type": "markdown",
   "id": "7afbc6af",
   "metadata": {
    "hidden": true
   },
   "source": [
    "**MultiIndex com produto cartesiano**"
   ]
  },
  {
   "cell_type": "code",
   "execution_count": 259,
   "id": "b6494d24",
   "metadata": {
    "ExecuteTime": {
     "end_time": "2022-05-20T20:18:06.213567Z",
     "start_time": "2022-05-20T20:18:06.142081Z"
    },
    "hidden": true
   },
   "outputs": [
    {
     "data": {
      "text/plain": [
       "MultiIndex([(0,  'green'),\n",
       "            (0, 'purple'),\n",
       "            (1,  'green'),\n",
       "            (1, 'purple'),\n",
       "            (2,  'green'),\n",
       "            (2, 'purple')],\n",
       "           names=['number', 'color'])"
      ]
     },
     "execution_count": 259,
     "metadata": {},
     "output_type": "execute_result"
    }
   ],
   "source": [
    "pd.MultiIndex.from_product([numbers, colors], names = ['number', 'color'])"
   ]
  },
  {
   "cell_type": "markdown",
   "id": "f9c6f548",
   "metadata": {
    "heading_collapsed": true
   },
   "source": [
    "## 2.5. Reshping dados"
   ]
  },
  {
   "cell_type": "code",
   "execution_count": 260,
   "id": "831def85",
   "metadata": {
    "ExecuteTime": {
     "end_time": "2022-05-20T20:18:06.322754Z",
     "start_time": "2022-05-20T20:18:06.216566Z"
    },
    "hidden": true
   },
   "outputs": [],
   "source": [
    "datas = pd.date_range('20220101', periods= 6 )\n",
    "\n",
    "df = pd.DataFrame(np.random.randn(6, 4), index = datas, columns = ['var_A', 'var_B', 'var_C', 'var_D'])"
   ]
  },
  {
   "cell_type": "code",
   "execution_count": 261,
   "id": "caa739d8",
   "metadata": {
    "ExecuteTime": {
     "end_time": "2022-05-20T20:18:06.402279Z",
     "start_time": "2022-05-20T20:18:06.329766Z"
    },
    "hidden": true
   },
   "outputs": [
    {
     "data": {
      "text/html": [
       "<div>\n",
       "<style scoped>\n",
       "    .dataframe tbody tr th:only-of-type {\n",
       "        vertical-align: middle;\n",
       "    }\n",
       "\n",
       "    .dataframe tbody tr th {\n",
       "        vertical-align: top;\n",
       "    }\n",
       "\n",
       "    .dataframe thead th {\n",
       "        text-align: right;\n",
       "    }\n",
       "</style>\n",
       "<table border=\"1\" class=\"dataframe\">\n",
       "  <thead>\n",
       "    <tr style=\"text-align: right;\">\n",
       "      <th></th>\n",
       "      <th>var_A</th>\n",
       "      <th>var_B</th>\n",
       "      <th>var_C</th>\n",
       "      <th>var_D</th>\n",
       "    </tr>\n",
       "  </thead>\n",
       "  <tbody>\n",
       "    <tr>\n",
       "      <th>2022-01-01</th>\n",
       "      <td>-0.353595</td>\n",
       "      <td>-1.525632</td>\n",
       "      <td>2.015866</td>\n",
       "      <td>-0.696812</td>\n",
       "    </tr>\n",
       "    <tr>\n",
       "      <th>2022-01-02</th>\n",
       "      <td>-0.707115</td>\n",
       "      <td>-0.873840</td>\n",
       "      <td>0.971495</td>\n",
       "      <td>-0.384661</td>\n",
       "    </tr>\n",
       "    <tr>\n",
       "      <th>2022-01-03</th>\n",
       "      <td>1.162702</td>\n",
       "      <td>0.403945</td>\n",
       "      <td>0.733008</td>\n",
       "      <td>-0.164952</td>\n",
       "    </tr>\n",
       "    <tr>\n",
       "      <th>2022-01-04</th>\n",
       "      <td>-1.162548</td>\n",
       "      <td>-1.674537</td>\n",
       "      <td>-1.015645</td>\n",
       "      <td>-0.394601</td>\n",
       "    </tr>\n",
       "    <tr>\n",
       "      <th>2022-01-05</th>\n",
       "      <td>-0.327809</td>\n",
       "      <td>-0.529225</td>\n",
       "      <td>0.148101</td>\n",
       "      <td>0.774116</td>\n",
       "    </tr>\n",
       "    <tr>\n",
       "      <th>2022-01-06</th>\n",
       "      <td>2.040410</td>\n",
       "      <td>0.152930</td>\n",
       "      <td>0.818258</td>\n",
       "      <td>-0.345705</td>\n",
       "    </tr>\n",
       "  </tbody>\n",
       "</table>\n",
       "</div>"
      ],
      "text/plain": [
       "               var_A     var_B     var_C     var_D\n",
       "2022-01-01 -0.353595 -1.525632  2.015866 -0.696812\n",
       "2022-01-02 -0.707115 -0.873840  0.971495 -0.384661\n",
       "2022-01-03  1.162702  0.403945  0.733008 -0.164952\n",
       "2022-01-04 -1.162548 -1.674537 -1.015645 -0.394601\n",
       "2022-01-05 -0.327809 -0.529225  0.148101  0.774116\n",
       "2022-01-06  2.040410  0.152930  0.818258 -0.345705"
      ]
     },
     "execution_count": 261,
     "metadata": {},
     "output_type": "execute_result"
    }
   ],
   "source": [
    "df"
   ]
  },
  {
   "cell_type": "code",
   "execution_count": 262,
   "id": "a5786620",
   "metadata": {
    "ExecuteTime": {
     "end_time": "2022-05-20T20:18:06.497938Z",
     "start_time": "2022-05-20T20:18:06.406275Z"
    },
    "hidden": true
   },
   "outputs": [],
   "source": [
    "dft = df.T"
   ]
  },
  {
   "cell_type": "code",
   "execution_count": 263,
   "id": "243fbc5b",
   "metadata": {
    "ExecuteTime": {
     "end_time": "2022-05-20T20:18:06.591503Z",
     "start_time": "2022-05-20T20:18:06.503948Z"
    },
    "hidden": true
   },
   "outputs": [
    {
     "data": {
      "text/html": [
       "<div>\n",
       "<style scoped>\n",
       "    .dataframe tbody tr th:only-of-type {\n",
       "        vertical-align: middle;\n",
       "    }\n",
       "\n",
       "    .dataframe tbody tr th {\n",
       "        vertical-align: top;\n",
       "    }\n",
       "\n",
       "    .dataframe thead th {\n",
       "        text-align: right;\n",
       "    }\n",
       "</style>\n",
       "<table border=\"1\" class=\"dataframe\">\n",
       "  <thead>\n",
       "    <tr style=\"text-align: right;\">\n",
       "      <th></th>\n",
       "      <th>2022-01-01</th>\n",
       "      <th>2022-01-02</th>\n",
       "      <th>2022-01-03</th>\n",
       "      <th>2022-01-04</th>\n",
       "      <th>2022-01-05</th>\n",
       "      <th>2022-01-06</th>\n",
       "    </tr>\n",
       "  </thead>\n",
       "  <tbody>\n",
       "    <tr>\n",
       "      <th>var_A</th>\n",
       "      <td>-0.353595</td>\n",
       "      <td>-0.707115</td>\n",
       "      <td>1.162702</td>\n",
       "      <td>-1.162548</td>\n",
       "      <td>-0.327809</td>\n",
       "      <td>2.040410</td>\n",
       "    </tr>\n",
       "    <tr>\n",
       "      <th>var_B</th>\n",
       "      <td>-1.525632</td>\n",
       "      <td>-0.873840</td>\n",
       "      <td>0.403945</td>\n",
       "      <td>-1.674537</td>\n",
       "      <td>-0.529225</td>\n",
       "      <td>0.152930</td>\n",
       "    </tr>\n",
       "    <tr>\n",
       "      <th>var_C</th>\n",
       "      <td>2.015866</td>\n",
       "      <td>0.971495</td>\n",
       "      <td>0.733008</td>\n",
       "      <td>-1.015645</td>\n",
       "      <td>0.148101</td>\n",
       "      <td>0.818258</td>\n",
       "    </tr>\n",
       "    <tr>\n",
       "      <th>var_D</th>\n",
       "      <td>-0.696812</td>\n",
       "      <td>-0.384661</td>\n",
       "      <td>-0.164952</td>\n",
       "      <td>-0.394601</td>\n",
       "      <td>0.774116</td>\n",
       "      <td>-0.345705</td>\n",
       "    </tr>\n",
       "  </tbody>\n",
       "</table>\n",
       "</div>"
      ],
      "text/plain": [
       "       2022-01-01  2022-01-02  2022-01-03  2022-01-04  2022-01-05  2022-01-06\n",
       "var_A   -0.353595   -0.707115    1.162702   -1.162548   -0.327809    2.040410\n",
       "var_B   -1.525632   -0.873840    0.403945   -1.674537   -0.529225    0.152930\n",
       "var_C    2.015866    0.971495    0.733008   -1.015645    0.148101    0.818258\n",
       "var_D   -0.696812   -0.384661   -0.164952   -0.394601    0.774116   -0.345705"
      ]
     },
     "execution_count": 263,
     "metadata": {},
     "output_type": "execute_result"
    }
   ],
   "source": [
    "dft"
   ]
  },
  {
   "cell_type": "code",
   "execution_count": 264,
   "id": "ffc1ce41",
   "metadata": {
    "ExecuteTime": {
     "end_time": "2022-05-20T20:18:06.685137Z",
     "start_time": "2022-05-20T20:18:06.594508Z"
    },
    "hidden": true
   },
   "outputs": [
    {
     "data": {
      "text/plain": [
       "(6, 4)"
      ]
     },
     "execution_count": 264,
     "metadata": {},
     "output_type": "execute_result"
    }
   ],
   "source": [
    "df.shape"
   ]
  },
  {
   "cell_type": "markdown",
   "id": "d505c8d6",
   "metadata": {
    "heading_collapsed": true,
    "hidden": true
   },
   "source": [
    "### 2.5.1. Função pivot"
   ]
  },
  {
   "cell_type": "code",
   "execution_count": 265,
   "id": "d8aa1ecb",
   "metadata": {
    "ExecuteTime": {
     "end_time": "2022-05-20T20:18:06.751539Z",
     "start_time": "2022-05-20T20:18:06.698117Z"
    },
    "hidden": true
   },
   "outputs": [],
   "source": [
    "data = pd.date_range('20220101', periods= 12 )\n",
    "\n",
    "pessoa = ['George', 'Victor', 'Lucas']"
   ]
  },
  {
   "cell_type": "code",
   "execution_count": 266,
   "id": "444f5335",
   "metadata": {
    "ExecuteTime": {
     "end_time": "2022-05-20T20:18:06.857588Z",
     "start_time": "2022-05-20T20:18:06.754535Z"
    },
    "hidden": true
   },
   "outputs": [
    {
     "data": {
      "text/plain": [
       "DatetimeIndex(['2022-01-01', '2022-01-02', '2022-01-03', '2022-01-04',\n",
       "               '2022-01-05', '2022-01-06', '2022-01-07', '2022-01-08',\n",
       "               '2022-01-09', '2022-01-10', '2022-01-11', '2022-01-12'],\n",
       "              dtype='datetime64[ns]', freq='D')"
      ]
     },
     "execution_count": 266,
     "metadata": {},
     "output_type": "execute_result"
    }
   ],
   "source": [
    "data"
   ]
  },
  {
   "cell_type": "code",
   "execution_count": 267,
   "id": "e638e435",
   "metadata": {
    "ExecuteTime": {
     "end_time": "2022-05-20T20:18:06.933963Z",
     "start_time": "2022-05-20T20:18:06.863580Z"
    },
    "hidden": true
   },
   "outputs": [],
   "source": [
    "nome = []\n",
    "\n",
    "gasto = []\n",
    "\n",
    "for i in range(12):\n",
    "    nome.append(np.random.choice(pessoa))\n",
    "    gasto.append(np.round(np.random.randn()*100,2 ))\n",
    "    \n",
    "    nome"
   ]
  },
  {
   "cell_type": "code",
   "execution_count": 268,
   "id": "beeabc32",
   "metadata": {
    "ExecuteTime": {
     "end_time": "2022-05-20T20:18:07.016275Z",
     "start_time": "2022-05-20T20:18:06.936971Z"
    },
    "hidden": true
   },
   "outputs": [],
   "source": [
    "df = pd.DataFrame({'Data': data, 'Nome': nome, 'Gasto': gasto})"
   ]
  },
  {
   "cell_type": "code",
   "execution_count": 269,
   "id": "19428fe8",
   "metadata": {
    "ExecuteTime": {
     "end_time": "2022-05-20T20:18:07.109643Z",
     "start_time": "2022-05-20T20:18:07.027282Z"
    },
    "hidden": true
   },
   "outputs": [
    {
     "data": {
      "text/html": [
       "<div>\n",
       "<style scoped>\n",
       "    .dataframe tbody tr th:only-of-type {\n",
       "        vertical-align: middle;\n",
       "    }\n",
       "\n",
       "    .dataframe tbody tr th {\n",
       "        vertical-align: top;\n",
       "    }\n",
       "\n",
       "    .dataframe thead th {\n",
       "        text-align: right;\n",
       "    }\n",
       "</style>\n",
       "<table border=\"1\" class=\"dataframe\">\n",
       "  <thead>\n",
       "    <tr style=\"text-align: right;\">\n",
       "      <th></th>\n",
       "      <th>Data</th>\n",
       "      <th>Nome</th>\n",
       "      <th>Gasto</th>\n",
       "    </tr>\n",
       "  </thead>\n",
       "  <tbody>\n",
       "    <tr>\n",
       "      <th>0</th>\n",
       "      <td>2022-01-01</td>\n",
       "      <td>George</td>\n",
       "      <td>25.84</td>\n",
       "    </tr>\n",
       "    <tr>\n",
       "      <th>1</th>\n",
       "      <td>2022-01-02</td>\n",
       "      <td>Victor</td>\n",
       "      <td>85.65</td>\n",
       "    </tr>\n",
       "    <tr>\n",
       "      <th>2</th>\n",
       "      <td>2022-01-03</td>\n",
       "      <td>George</td>\n",
       "      <td>-15.11</td>\n",
       "    </tr>\n",
       "    <tr>\n",
       "      <th>3</th>\n",
       "      <td>2022-01-04</td>\n",
       "      <td>Lucas</td>\n",
       "      <td>82.33</td>\n",
       "    </tr>\n",
       "    <tr>\n",
       "      <th>4</th>\n",
       "      <td>2022-01-05</td>\n",
       "      <td>Victor</td>\n",
       "      <td>-120.64</td>\n",
       "    </tr>\n",
       "    <tr>\n",
       "      <th>5</th>\n",
       "      <td>2022-01-06</td>\n",
       "      <td>George</td>\n",
       "      <td>167.49</td>\n",
       "    </tr>\n",
       "    <tr>\n",
       "      <th>6</th>\n",
       "      <td>2022-01-07</td>\n",
       "      <td>Victor</td>\n",
       "      <td>57.40</td>\n",
       "    </tr>\n",
       "    <tr>\n",
       "      <th>7</th>\n",
       "      <td>2022-01-08</td>\n",
       "      <td>George</td>\n",
       "      <td>46.00</td>\n",
       "    </tr>\n",
       "    <tr>\n",
       "      <th>8</th>\n",
       "      <td>2022-01-09</td>\n",
       "      <td>Lucas</td>\n",
       "      <td>-3.91</td>\n",
       "    </tr>\n",
       "    <tr>\n",
       "      <th>9</th>\n",
       "      <td>2022-01-10</td>\n",
       "      <td>George</td>\n",
       "      <td>-6.96</td>\n",
       "    </tr>\n",
       "    <tr>\n",
       "      <th>10</th>\n",
       "      <td>2022-01-11</td>\n",
       "      <td>George</td>\n",
       "      <td>-49.16</td>\n",
       "    </tr>\n",
       "    <tr>\n",
       "      <th>11</th>\n",
       "      <td>2022-01-12</td>\n",
       "      <td>George</td>\n",
       "      <td>69.37</td>\n",
       "    </tr>\n",
       "  </tbody>\n",
       "</table>\n",
       "</div>"
      ],
      "text/plain": [
       "         Data    Nome   Gasto\n",
       "0  2022-01-01  George   25.84\n",
       "1  2022-01-02  Victor   85.65\n",
       "2  2022-01-03  George  -15.11\n",
       "3  2022-01-04   Lucas   82.33\n",
       "4  2022-01-05  Victor -120.64\n",
       "5  2022-01-06  George  167.49\n",
       "6  2022-01-07  Victor   57.40\n",
       "7  2022-01-08  George   46.00\n",
       "8  2022-01-09   Lucas   -3.91\n",
       "9  2022-01-10  George   -6.96\n",
       "10 2022-01-11  George  -49.16\n",
       "11 2022-01-12  George   69.37"
      ]
     },
     "execution_count": 269,
     "metadata": {},
     "output_type": "execute_result"
    }
   ],
   "source": [
    "df"
   ]
  },
  {
   "cell_type": "code",
   "execution_count": 270,
   "id": "aa77c601",
   "metadata": {
    "ExecuteTime": {
     "end_time": "2022-05-20T20:18:07.203742Z",
     "start_time": "2022-05-20T20:18:07.114641Z"
    },
    "hidden": true
   },
   "outputs": [
    {
     "data": {
      "text/html": [
       "<div>\n",
       "<style scoped>\n",
       "    .dataframe tbody tr th:only-of-type {\n",
       "        vertical-align: middle;\n",
       "    }\n",
       "\n",
       "    .dataframe tbody tr th {\n",
       "        vertical-align: top;\n",
       "    }\n",
       "\n",
       "    .dataframe thead th {\n",
       "        text-align: right;\n",
       "    }\n",
       "</style>\n",
       "<table border=\"1\" class=\"dataframe\">\n",
       "  <thead>\n",
       "    <tr style=\"text-align: right;\">\n",
       "      <th>Nome</th>\n",
       "      <th>George</th>\n",
       "      <th>Lucas</th>\n",
       "      <th>Victor</th>\n",
       "    </tr>\n",
       "    <tr>\n",
       "      <th>Data</th>\n",
       "      <th></th>\n",
       "      <th></th>\n",
       "      <th></th>\n",
       "    </tr>\n",
       "  </thead>\n",
       "  <tbody>\n",
       "    <tr>\n",
       "      <th>2022-01-01</th>\n",
       "      <td>25.84</td>\n",
       "      <td>NaN</td>\n",
       "      <td>NaN</td>\n",
       "    </tr>\n",
       "    <tr>\n",
       "      <th>2022-01-02</th>\n",
       "      <td>NaN</td>\n",
       "      <td>NaN</td>\n",
       "      <td>85.65</td>\n",
       "    </tr>\n",
       "    <tr>\n",
       "      <th>2022-01-03</th>\n",
       "      <td>-15.11</td>\n",
       "      <td>NaN</td>\n",
       "      <td>NaN</td>\n",
       "    </tr>\n",
       "    <tr>\n",
       "      <th>2022-01-04</th>\n",
       "      <td>NaN</td>\n",
       "      <td>82.33</td>\n",
       "      <td>NaN</td>\n",
       "    </tr>\n",
       "    <tr>\n",
       "      <th>2022-01-05</th>\n",
       "      <td>NaN</td>\n",
       "      <td>NaN</td>\n",
       "      <td>-120.64</td>\n",
       "    </tr>\n",
       "    <tr>\n",
       "      <th>2022-01-06</th>\n",
       "      <td>167.49</td>\n",
       "      <td>NaN</td>\n",
       "      <td>NaN</td>\n",
       "    </tr>\n",
       "    <tr>\n",
       "      <th>2022-01-07</th>\n",
       "      <td>NaN</td>\n",
       "      <td>NaN</td>\n",
       "      <td>57.40</td>\n",
       "    </tr>\n",
       "    <tr>\n",
       "      <th>2022-01-08</th>\n",
       "      <td>46.00</td>\n",
       "      <td>NaN</td>\n",
       "      <td>NaN</td>\n",
       "    </tr>\n",
       "    <tr>\n",
       "      <th>2022-01-09</th>\n",
       "      <td>NaN</td>\n",
       "      <td>-3.91</td>\n",
       "      <td>NaN</td>\n",
       "    </tr>\n",
       "    <tr>\n",
       "      <th>2022-01-10</th>\n",
       "      <td>-6.96</td>\n",
       "      <td>NaN</td>\n",
       "      <td>NaN</td>\n",
       "    </tr>\n",
       "    <tr>\n",
       "      <th>2022-01-11</th>\n",
       "      <td>-49.16</td>\n",
       "      <td>NaN</td>\n",
       "      <td>NaN</td>\n",
       "    </tr>\n",
       "    <tr>\n",
       "      <th>2022-01-12</th>\n",
       "      <td>69.37</td>\n",
       "      <td>NaN</td>\n",
       "      <td>NaN</td>\n",
       "    </tr>\n",
       "  </tbody>\n",
       "</table>\n",
       "</div>"
      ],
      "text/plain": [
       "Nome        George  Lucas  Victor\n",
       "Data                             \n",
       "2022-01-01   25.84    NaN     NaN\n",
       "2022-01-02     NaN    NaN   85.65\n",
       "2022-01-03  -15.11    NaN     NaN\n",
       "2022-01-04     NaN  82.33     NaN\n",
       "2022-01-05     NaN    NaN -120.64\n",
       "2022-01-06  167.49    NaN     NaN\n",
       "2022-01-07     NaN    NaN   57.40\n",
       "2022-01-08   46.00    NaN     NaN\n",
       "2022-01-09     NaN  -3.91     NaN\n",
       "2022-01-10   -6.96    NaN     NaN\n",
       "2022-01-11  -49.16    NaN     NaN\n",
       "2022-01-12   69.37    NaN     NaN"
      ]
     },
     "execution_count": 270,
     "metadata": {},
     "output_type": "execute_result"
    }
   ],
   "source": [
    "pd.pivot(df, index= 'Data', columns= 'Nome', values= 'Gasto')"
   ]
  },
  {
   "cell_type": "markdown",
   "id": "955041ed",
   "metadata": {
    "heading_collapsed": true,
    "hidden": true
   },
   "source": [
    "### 2.5.2. Função pivot table"
   ]
  },
  {
   "cell_type": "code",
   "execution_count": 271,
   "id": "8c45760b",
   "metadata": {
    "ExecuteTime": {
     "end_time": "2022-05-20T20:18:07.300807Z",
     "start_time": "2022-05-20T20:18:07.206742Z"
    },
    "hidden": true
   },
   "outputs": [],
   "source": [
    "carros = [7, 4, 3, 2, 8]\n",
    "\n",
    "data = pd.date_range('20220101','20220101', periods= 5 )\n",
    "\n",
    "vendedor = ['George', 'Vagner', 'Pedro', 'Vagner', 'George']"
   ]
  },
  {
   "cell_type": "code",
   "execution_count": 272,
   "id": "c7f60e6c",
   "metadata": {
    "ExecuteTime": {
     "end_time": "2022-05-20T20:18:07.380724Z",
     "start_time": "2022-05-20T20:18:07.309768Z"
    },
    "hidden": true
   },
   "outputs": [],
   "source": [
    "df = pd.DataFrame({'Vendas': carros, 'Data': data, 'Vendedor': vendedor})"
   ]
  },
  {
   "cell_type": "code",
   "execution_count": 273,
   "id": "fcb8bd42",
   "metadata": {
    "ExecuteTime": {
     "end_time": "2022-05-20T20:18:07.459679Z",
     "start_time": "2022-05-20T20:18:07.387719Z"
    },
    "hidden": true
   },
   "outputs": [
    {
     "data": {
      "text/html": [
       "<div>\n",
       "<style scoped>\n",
       "    .dataframe tbody tr th:only-of-type {\n",
       "        vertical-align: middle;\n",
       "    }\n",
       "\n",
       "    .dataframe tbody tr th {\n",
       "        vertical-align: top;\n",
       "    }\n",
       "\n",
       "    .dataframe thead th {\n",
       "        text-align: right;\n",
       "    }\n",
       "</style>\n",
       "<table border=\"1\" class=\"dataframe\">\n",
       "  <thead>\n",
       "    <tr style=\"text-align: right;\">\n",
       "      <th></th>\n",
       "      <th>Vendas</th>\n",
       "      <th>Data</th>\n",
       "      <th>Vendedor</th>\n",
       "    </tr>\n",
       "  </thead>\n",
       "  <tbody>\n",
       "    <tr>\n",
       "      <th>0</th>\n",
       "      <td>7</td>\n",
       "      <td>2022-01-01</td>\n",
       "      <td>George</td>\n",
       "    </tr>\n",
       "    <tr>\n",
       "      <th>1</th>\n",
       "      <td>4</td>\n",
       "      <td>2022-01-01</td>\n",
       "      <td>Vagner</td>\n",
       "    </tr>\n",
       "    <tr>\n",
       "      <th>2</th>\n",
       "      <td>3</td>\n",
       "      <td>2022-01-01</td>\n",
       "      <td>Pedro</td>\n",
       "    </tr>\n",
       "    <tr>\n",
       "      <th>3</th>\n",
       "      <td>2</td>\n",
       "      <td>2022-01-01</td>\n",
       "      <td>Vagner</td>\n",
       "    </tr>\n",
       "    <tr>\n",
       "      <th>4</th>\n",
       "      <td>8</td>\n",
       "      <td>2022-01-01</td>\n",
       "      <td>George</td>\n",
       "    </tr>\n",
       "  </tbody>\n",
       "</table>\n",
       "</div>"
      ],
      "text/plain": [
       "   Vendas       Data Vendedor\n",
       "0       7 2022-01-01   George\n",
       "1       4 2022-01-01   Vagner\n",
       "2       3 2022-01-01    Pedro\n",
       "3       2 2022-01-01   Vagner\n",
       "4       8 2022-01-01   George"
      ]
     },
     "execution_count": 273,
     "metadata": {},
     "output_type": "execute_result"
    }
   ],
   "source": [
    "df"
   ]
  },
  {
   "cell_type": "markdown",
   "id": "37f64216",
   "metadata": {
    "hidden": true
   },
   "source": [
    "A função **pivot table** não entrega valores de index duplicados"
   ]
  },
  {
   "cell_type": "code",
   "execution_count": 274,
   "id": "03120fab",
   "metadata": {
    "ExecuteTime": {
     "end_time": "2022-05-20T20:18:07.600039Z",
     "start_time": "2022-05-20T20:18:07.462665Z"
    },
    "hidden": true,
    "scrolled": false
   },
   "outputs": [
    {
     "data": {
      "text/html": [
       "<div>\n",
       "<style scoped>\n",
       "    .dataframe tbody tr th:only-of-type {\n",
       "        vertical-align: middle;\n",
       "    }\n",
       "\n",
       "    .dataframe tbody tr th {\n",
       "        vertical-align: top;\n",
       "    }\n",
       "\n",
       "    .dataframe thead th {\n",
       "        text-align: right;\n",
       "    }\n",
       "</style>\n",
       "<table border=\"1\" class=\"dataframe\">\n",
       "  <thead>\n",
       "    <tr style=\"text-align: right;\">\n",
       "      <th>Vendedor</th>\n",
       "      <th>George</th>\n",
       "      <th>Pedro</th>\n",
       "      <th>Vagner</th>\n",
       "    </tr>\n",
       "    <tr>\n",
       "      <th>Data</th>\n",
       "      <th></th>\n",
       "      <th></th>\n",
       "      <th></th>\n",
       "    </tr>\n",
       "  </thead>\n",
       "  <tbody>\n",
       "    <tr>\n",
       "      <th>2022-01-01</th>\n",
       "      <td>15</td>\n",
       "      <td>3</td>\n",
       "      <td>6</td>\n",
       "    </tr>\n",
       "  </tbody>\n",
       "</table>\n",
       "</div>"
      ],
      "text/plain": [
       "Vendedor    George  Pedro  Vagner\n",
       "Data                             \n",
       "2022-01-01      15      3       6"
      ]
     },
     "execution_count": 274,
     "metadata": {},
     "output_type": "execute_result"
    }
   ],
   "source": [
    "pd.pivot_table(df, index= 'Data', columns= 'Vendedor', values= 'Vendas', aggfunc='sum')"
   ]
  },
  {
   "cell_type": "markdown",
   "id": "de29cf1e",
   "metadata": {
    "heading_collapsed": true,
    "hidden": true
   },
   "source": [
    "### 2.5.3. Stack e unstack de dados"
   ]
  },
  {
   "cell_type": "markdown",
   "id": "0be57ddc",
   "metadata": {
    "hidden": true
   },
   "source": [
    "coleta de dados da internet"
   ]
  },
  {
   "cell_type": "code",
   "execution_count": 275,
   "id": "eb56f479",
   "metadata": {
    "ExecuteTime": {
     "end_time": "2022-05-20T20:18:08.089460Z",
     "start_time": "2022-05-20T20:18:07.602038Z"
    },
    "hidden": true
   },
   "outputs": [],
   "source": [
    "df = pd.read_csv('https://cdncontribute.geeksforgeeks.org/wp-content/uploads/nba.csv')"
   ]
  },
  {
   "cell_type": "code",
   "execution_count": 276,
   "id": "3620c925",
   "metadata": {
    "ExecuteTime": {
     "end_time": "2022-05-20T20:18:08.140438Z",
     "start_time": "2022-05-20T20:18:08.094466Z"
    },
    "hidden": true
   },
   "outputs": [
    {
     "data": {
      "text/html": [
       "<div>\n",
       "<style scoped>\n",
       "    .dataframe tbody tr th:only-of-type {\n",
       "        vertical-align: middle;\n",
       "    }\n",
       "\n",
       "    .dataframe tbody tr th {\n",
       "        vertical-align: top;\n",
       "    }\n",
       "\n",
       "    .dataframe thead th {\n",
       "        text-align: right;\n",
       "    }\n",
       "</style>\n",
       "<table border=\"1\" class=\"dataframe\">\n",
       "  <thead>\n",
       "    <tr style=\"text-align: right;\">\n",
       "      <th></th>\n",
       "      <th>Name</th>\n",
       "      <th>Team</th>\n",
       "      <th>Number</th>\n",
       "      <th>Position</th>\n",
       "      <th>Age</th>\n",
       "      <th>Height</th>\n",
       "      <th>Weight</th>\n",
       "      <th>College</th>\n",
       "      <th>Salary</th>\n",
       "    </tr>\n",
       "  </thead>\n",
       "  <tbody>\n",
       "    <tr>\n",
       "      <th>0</th>\n",
       "      <td>Avery Bradley</td>\n",
       "      <td>Boston Celtics</td>\n",
       "      <td>0.0</td>\n",
       "      <td>PG</td>\n",
       "      <td>25.0</td>\n",
       "      <td>6-2</td>\n",
       "      <td>180.0</td>\n",
       "      <td>Texas</td>\n",
       "      <td>7730337.0</td>\n",
       "    </tr>\n",
       "    <tr>\n",
       "      <th>1</th>\n",
       "      <td>Jae Crowder</td>\n",
       "      <td>Boston Celtics</td>\n",
       "      <td>99.0</td>\n",
       "      <td>SF</td>\n",
       "      <td>25.0</td>\n",
       "      <td>6-6</td>\n",
       "      <td>235.0</td>\n",
       "      <td>Marquette</td>\n",
       "      <td>6796117.0</td>\n",
       "    </tr>\n",
       "    <tr>\n",
       "      <th>2</th>\n",
       "      <td>John Holland</td>\n",
       "      <td>Boston Celtics</td>\n",
       "      <td>30.0</td>\n",
       "      <td>SG</td>\n",
       "      <td>27.0</td>\n",
       "      <td>6-5</td>\n",
       "      <td>205.0</td>\n",
       "      <td>Boston University</td>\n",
       "      <td>NaN</td>\n",
       "    </tr>\n",
       "    <tr>\n",
       "      <th>3</th>\n",
       "      <td>R.J. Hunter</td>\n",
       "      <td>Boston Celtics</td>\n",
       "      <td>28.0</td>\n",
       "      <td>SG</td>\n",
       "      <td>22.0</td>\n",
       "      <td>6-5</td>\n",
       "      <td>185.0</td>\n",
       "      <td>Georgia State</td>\n",
       "      <td>1148640.0</td>\n",
       "    </tr>\n",
       "  </tbody>\n",
       "</table>\n",
       "</div>"
      ],
      "text/plain": [
       "            Name            Team  Number Position   Age Height  Weight  \\\n",
       "0  Avery Bradley  Boston Celtics     0.0       PG  25.0    6-2   180.0   \n",
       "1    Jae Crowder  Boston Celtics    99.0       SF  25.0    6-6   235.0   \n",
       "2   John Holland  Boston Celtics    30.0       SG  27.0    6-5   205.0   \n",
       "3    R.J. Hunter  Boston Celtics    28.0       SG  22.0    6-5   185.0   \n",
       "\n",
       "             College     Salary  \n",
       "0              Texas  7730337.0  \n",
       "1          Marquette  6796117.0  \n",
       "2  Boston University        NaN  \n",
       "3      Georgia State  1148640.0  "
      ]
     },
     "execution_count": 276,
     "metadata": {},
     "output_type": "execute_result"
    }
   ],
   "source": [
    "df.head(4)"
   ]
  },
  {
   "cell_type": "code",
   "execution_count": 277,
   "id": "c5460ecf",
   "metadata": {
    "ExecuteTime": {
     "end_time": "2022-05-20T20:18:08.217229Z",
     "start_time": "2022-05-20T20:18:08.157427Z"
    },
    "hidden": true
   },
   "outputs": [
    {
     "data": {
      "text/plain": [
       "(458, 9)"
      ]
     },
     "execution_count": 277,
     "metadata": {},
     "output_type": "execute_result"
    }
   ],
   "source": [
    "df.shape"
   ]
  },
  {
   "cell_type": "code",
   "execution_count": 278,
   "id": "42e808b5",
   "metadata": {
    "ExecuteTime": {
     "end_time": "2022-05-20T20:18:08.304019Z",
     "start_time": "2022-05-20T20:18:08.220229Z"
    },
    "hidden": true
   },
   "outputs": [],
   "source": [
    "#Essa função empilha os dados em uma coluna\n",
    "\n",
    "empilhamento = df.stack()"
   ]
  },
  {
   "cell_type": "code",
   "execution_count": 279,
   "id": "b0e5f1cb",
   "metadata": {
    "ExecuteTime": {
     "end_time": "2022-05-20T20:18:08.389879Z",
     "start_time": "2022-05-20T20:18:08.313026Z"
    },
    "hidden": true
   },
   "outputs": [
    {
     "data": {
      "text/plain": [
       "0  Name         Avery Bradley\n",
       "   Team        Boston Celtics\n",
       "   Number                 0.0\n",
       "   Position                PG\n",
       "   Age                   25.0\n",
       "   Height                 6-2\n",
       "   Weight               180.0\n",
       "   College              Texas\n",
       "   Salary           7730337.0\n",
       "1  Name           Jae Crowder\n",
       "   Team        Boston Celtics\n",
       "   Number                99.0\n",
       "   Position                SF\n",
       "   Age                   25.0\n",
       "   Height                 6-6\n",
       "   Weight               235.0\n",
       "   College          Marquette\n",
       "   Salary           6796117.0\n",
       "2  Name          John Holland\n",
       "   Team        Boston Celtics\n",
       "dtype: object"
      ]
     },
     "execution_count": 279,
     "metadata": {},
     "output_type": "execute_result"
    }
   ],
   "source": [
    "empilhamento.head(20)"
   ]
  },
  {
   "cell_type": "code",
   "execution_count": 280,
   "id": "dd7fc543",
   "metadata": {
    "ExecuteTime": {
     "end_time": "2022-05-20T20:18:08.500196Z",
     "start_time": "2022-05-20T20:18:08.395893Z"
    },
    "hidden": true
   },
   "outputs": [
    {
     "data": {
      "text/html": [
       "<div>\n",
       "<style scoped>\n",
       "    .dataframe tbody tr th:only-of-type {\n",
       "        vertical-align: middle;\n",
       "    }\n",
       "\n",
       "    .dataframe tbody tr th {\n",
       "        vertical-align: top;\n",
       "    }\n",
       "\n",
       "    .dataframe thead th {\n",
       "        text-align: right;\n",
       "    }\n",
       "</style>\n",
       "<table border=\"1\" class=\"dataframe\">\n",
       "  <thead>\n",
       "    <tr style=\"text-align: right;\">\n",
       "      <th></th>\n",
       "      <th>Name</th>\n",
       "      <th>Team</th>\n",
       "      <th>Number</th>\n",
       "      <th>Position</th>\n",
       "      <th>Age</th>\n",
       "      <th>Height</th>\n",
       "      <th>Weight</th>\n",
       "      <th>College</th>\n",
       "      <th>Salary</th>\n",
       "    </tr>\n",
       "  </thead>\n",
       "  <tbody>\n",
       "    <tr>\n",
       "      <th>0</th>\n",
       "      <td>Avery Bradley</td>\n",
       "      <td>Boston Celtics</td>\n",
       "      <td>0.0</td>\n",
       "      <td>PG</td>\n",
       "      <td>25.0</td>\n",
       "      <td>6-2</td>\n",
       "      <td>180.0</td>\n",
       "      <td>Texas</td>\n",
       "      <td>7730337.0</td>\n",
       "    </tr>\n",
       "    <tr>\n",
       "      <th>1</th>\n",
       "      <td>Jae Crowder</td>\n",
       "      <td>Boston Celtics</td>\n",
       "      <td>99.0</td>\n",
       "      <td>SF</td>\n",
       "      <td>25.0</td>\n",
       "      <td>6-6</td>\n",
       "      <td>235.0</td>\n",
       "      <td>Marquette</td>\n",
       "      <td>6796117.0</td>\n",
       "    </tr>\n",
       "    <tr>\n",
       "      <th>2</th>\n",
       "      <td>John Holland</td>\n",
       "      <td>Boston Celtics</td>\n",
       "      <td>30.0</td>\n",
       "      <td>SG</td>\n",
       "      <td>27.0</td>\n",
       "      <td>6-5</td>\n",
       "      <td>205.0</td>\n",
       "      <td>Boston University</td>\n",
       "      <td>NaN</td>\n",
       "    </tr>\n",
       "    <tr>\n",
       "      <th>3</th>\n",
       "      <td>R.J. Hunter</td>\n",
       "      <td>Boston Celtics</td>\n",
       "      <td>28.0</td>\n",
       "      <td>SG</td>\n",
       "      <td>22.0</td>\n",
       "      <td>6-5</td>\n",
       "      <td>185.0</td>\n",
       "      <td>Georgia State</td>\n",
       "      <td>1148640.0</td>\n",
       "    </tr>\n",
       "    <tr>\n",
       "      <th>4</th>\n",
       "      <td>Jonas Jerebko</td>\n",
       "      <td>Boston Celtics</td>\n",
       "      <td>8.0</td>\n",
       "      <td>PF</td>\n",
       "      <td>29.0</td>\n",
       "      <td>6-10</td>\n",
       "      <td>231.0</td>\n",
       "      <td>NaN</td>\n",
       "      <td>5000000.0</td>\n",
       "    </tr>\n",
       "    <tr>\n",
       "      <th>...</th>\n",
       "      <td>...</td>\n",
       "      <td>...</td>\n",
       "      <td>...</td>\n",
       "      <td>...</td>\n",
       "      <td>...</td>\n",
       "      <td>...</td>\n",
       "      <td>...</td>\n",
       "      <td>...</td>\n",
       "      <td>...</td>\n",
       "    </tr>\n",
       "    <tr>\n",
       "      <th>452</th>\n",
       "      <td>Trey Lyles</td>\n",
       "      <td>Utah Jazz</td>\n",
       "      <td>41.0</td>\n",
       "      <td>PF</td>\n",
       "      <td>20.0</td>\n",
       "      <td>6-10</td>\n",
       "      <td>234.0</td>\n",
       "      <td>Kentucky</td>\n",
       "      <td>2239800.0</td>\n",
       "    </tr>\n",
       "    <tr>\n",
       "      <th>453</th>\n",
       "      <td>Shelvin Mack</td>\n",
       "      <td>Utah Jazz</td>\n",
       "      <td>8.0</td>\n",
       "      <td>PG</td>\n",
       "      <td>26.0</td>\n",
       "      <td>6-3</td>\n",
       "      <td>203.0</td>\n",
       "      <td>Butler</td>\n",
       "      <td>2433333.0</td>\n",
       "    </tr>\n",
       "    <tr>\n",
       "      <th>454</th>\n",
       "      <td>Raul Neto</td>\n",
       "      <td>Utah Jazz</td>\n",
       "      <td>25.0</td>\n",
       "      <td>PG</td>\n",
       "      <td>24.0</td>\n",
       "      <td>6-1</td>\n",
       "      <td>179.0</td>\n",
       "      <td>NaN</td>\n",
       "      <td>900000.0</td>\n",
       "    </tr>\n",
       "    <tr>\n",
       "      <th>455</th>\n",
       "      <td>Tibor Pleiss</td>\n",
       "      <td>Utah Jazz</td>\n",
       "      <td>21.0</td>\n",
       "      <td>C</td>\n",
       "      <td>26.0</td>\n",
       "      <td>7-3</td>\n",
       "      <td>256.0</td>\n",
       "      <td>NaN</td>\n",
       "      <td>2900000.0</td>\n",
       "    </tr>\n",
       "    <tr>\n",
       "      <th>456</th>\n",
       "      <td>Jeff Withey</td>\n",
       "      <td>Utah Jazz</td>\n",
       "      <td>24.0</td>\n",
       "      <td>C</td>\n",
       "      <td>26.0</td>\n",
       "      <td>7-0</td>\n",
       "      <td>231.0</td>\n",
       "      <td>Kansas</td>\n",
       "      <td>947276.0</td>\n",
       "    </tr>\n",
       "  </tbody>\n",
       "</table>\n",
       "<p>457 rows × 9 columns</p>\n",
       "</div>"
      ],
      "text/plain": [
       "              Name            Team Number Position   Age Height Weight  \\\n",
       "0    Avery Bradley  Boston Celtics    0.0       PG  25.0    6-2  180.0   \n",
       "1      Jae Crowder  Boston Celtics   99.0       SF  25.0    6-6  235.0   \n",
       "2     John Holland  Boston Celtics   30.0       SG  27.0    6-5  205.0   \n",
       "3      R.J. Hunter  Boston Celtics   28.0       SG  22.0    6-5  185.0   \n",
       "4    Jonas Jerebko  Boston Celtics    8.0       PF  29.0   6-10  231.0   \n",
       "..             ...             ...    ...      ...   ...    ...    ...   \n",
       "452     Trey Lyles       Utah Jazz   41.0       PF  20.0   6-10  234.0   \n",
       "453   Shelvin Mack       Utah Jazz    8.0       PG  26.0    6-3  203.0   \n",
       "454      Raul Neto       Utah Jazz   25.0       PG  24.0    6-1  179.0   \n",
       "455   Tibor Pleiss       Utah Jazz   21.0        C  26.0    7-3  256.0   \n",
       "456    Jeff Withey       Utah Jazz   24.0        C  26.0    7-0  231.0   \n",
       "\n",
       "               College     Salary  \n",
       "0                Texas  7730337.0  \n",
       "1            Marquette  6796117.0  \n",
       "2    Boston University        NaN  \n",
       "3        Georgia State  1148640.0  \n",
       "4                  NaN  5000000.0  \n",
       "..                 ...        ...  \n",
       "452           Kentucky  2239800.0  \n",
       "453             Butler  2433333.0  \n",
       "454                NaN   900000.0  \n",
       "455                NaN  2900000.0  \n",
       "456             Kansas   947276.0  \n",
       "\n",
       "[457 rows x 9 columns]"
      ]
     },
     "execution_count": 280,
     "metadata": {},
     "output_type": "execute_result"
    }
   ],
   "source": [
    "# Essa função reverte o processo de empilhamento\n",
    "\n",
    "empilhamento.unstack()"
   ]
  },
  {
   "cell_type": "markdown",
   "id": "88669309",
   "metadata": {
    "heading_collapsed": true,
    "hidden": true
   },
   "source": [
    "### 2.5.4. Função melt"
   ]
  },
  {
   "cell_type": "code",
   "execution_count": 281,
   "id": "5dce22a9",
   "metadata": {
    "ExecuteTime": {
     "end_time": "2022-05-20T20:18:08.551042Z",
     "start_time": "2022-05-20T20:18:08.503162Z"
    },
    "hidden": true
   },
   "outputs": [],
   "source": [
    "df = pd.DataFrame({ 'A': {0: 'a', 1: 'b', 2: 'c'},\n",
    "                    'B': {0: 1, 1: 3, 2: 5,},\n",
    "                    'C': {0: 2, 1: 4, 2: 6}})"
   ]
  },
  {
   "cell_type": "code",
   "execution_count": 282,
   "id": "19905468",
   "metadata": {
    "ExecuteTime": {
     "end_time": "2022-05-20T20:18:08.644415Z",
     "start_time": "2022-05-20T20:18:08.554050Z"
    },
    "hidden": true
   },
   "outputs": [
    {
     "data": {
      "text/html": [
       "<div>\n",
       "<style scoped>\n",
       "    .dataframe tbody tr th:only-of-type {\n",
       "        vertical-align: middle;\n",
       "    }\n",
       "\n",
       "    .dataframe tbody tr th {\n",
       "        vertical-align: top;\n",
       "    }\n",
       "\n",
       "    .dataframe thead th {\n",
       "        text-align: right;\n",
       "    }\n",
       "</style>\n",
       "<table border=\"1\" class=\"dataframe\">\n",
       "  <thead>\n",
       "    <tr style=\"text-align: right;\">\n",
       "      <th></th>\n",
       "      <th>A</th>\n",
       "      <th>B</th>\n",
       "      <th>C</th>\n",
       "    </tr>\n",
       "  </thead>\n",
       "  <tbody>\n",
       "    <tr>\n",
       "      <th>0</th>\n",
       "      <td>a</td>\n",
       "      <td>1</td>\n",
       "      <td>2</td>\n",
       "    </tr>\n",
       "    <tr>\n",
       "      <th>1</th>\n",
       "      <td>b</td>\n",
       "      <td>3</td>\n",
       "      <td>4</td>\n",
       "    </tr>\n",
       "    <tr>\n",
       "      <th>2</th>\n",
       "      <td>c</td>\n",
       "      <td>5</td>\n",
       "      <td>6</td>\n",
       "    </tr>\n",
       "  </tbody>\n",
       "</table>\n",
       "</div>"
      ],
      "text/plain": [
       "   A  B  C\n",
       "0  a  1  2\n",
       "1  b  3  4\n",
       "2  c  5  6"
      ]
     },
     "execution_count": 282,
     "metadata": {},
     "output_type": "execute_result"
    }
   ],
   "source": [
    "df"
   ]
  },
  {
   "cell_type": "code",
   "execution_count": 283,
   "id": "3e2f47ed",
   "metadata": {
    "ExecuteTime": {
     "end_time": "2022-05-20T20:18:08.769762Z",
     "start_time": "2022-05-20T20:18:08.651418Z"
    },
    "hidden": true
   },
   "outputs": [
    {
     "data": {
      "text/html": [
       "<div>\n",
       "<style scoped>\n",
       "    .dataframe tbody tr th:only-of-type {\n",
       "        vertical-align: middle;\n",
       "    }\n",
       "\n",
       "    .dataframe tbody tr th {\n",
       "        vertical-align: top;\n",
       "    }\n",
       "\n",
       "    .dataframe thead th {\n",
       "        text-align: right;\n",
       "    }\n",
       "</style>\n",
       "<table border=\"1\" class=\"dataframe\">\n",
       "  <thead>\n",
       "    <tr style=\"text-align: right;\">\n",
       "      <th></th>\n",
       "      <th>A</th>\n",
       "      <th>variable</th>\n",
       "      <th>value</th>\n",
       "    </tr>\n",
       "  </thead>\n",
       "  <tbody>\n",
       "    <tr>\n",
       "      <th>0</th>\n",
       "      <td>a</td>\n",
       "      <td>B</td>\n",
       "      <td>1</td>\n",
       "    </tr>\n",
       "    <tr>\n",
       "      <th>1</th>\n",
       "      <td>b</td>\n",
       "      <td>B</td>\n",
       "      <td>3</td>\n",
       "    </tr>\n",
       "    <tr>\n",
       "      <th>2</th>\n",
       "      <td>c</td>\n",
       "      <td>B</td>\n",
       "      <td>5</td>\n",
       "    </tr>\n",
       "  </tbody>\n",
       "</table>\n",
       "</div>"
      ],
      "text/plain": [
       "   A variable  value\n",
       "0  a        B      1\n",
       "1  b        B      3\n",
       "2  c        B      5"
      ]
     },
     "execution_count": 283,
     "metadata": {},
     "output_type": "execute_result"
    }
   ],
   "source": [
    "pd.melt(df, id_vars=['A'], value_vars=['B'])"
   ]
  },
  {
   "cell_type": "code",
   "execution_count": 284,
   "id": "7c458673",
   "metadata": {
    "ExecuteTime": {
     "end_time": "2022-05-20T20:18:08.862621Z",
     "start_time": "2022-05-20T20:18:08.774963Z"
    },
    "hidden": true
   },
   "outputs": [
    {
     "data": {
      "text/html": [
       "<div>\n",
       "<style scoped>\n",
       "    .dataframe tbody tr th:only-of-type {\n",
       "        vertical-align: middle;\n",
       "    }\n",
       "\n",
       "    .dataframe tbody tr th {\n",
       "        vertical-align: top;\n",
       "    }\n",
       "\n",
       "    .dataframe thead th {\n",
       "        text-align: right;\n",
       "    }\n",
       "</style>\n",
       "<table border=\"1\" class=\"dataframe\">\n",
       "  <thead>\n",
       "    <tr style=\"text-align: right;\">\n",
       "      <th></th>\n",
       "      <th>A</th>\n",
       "      <th>variable</th>\n",
       "      <th>value</th>\n",
       "    </tr>\n",
       "  </thead>\n",
       "  <tbody>\n",
       "    <tr>\n",
       "      <th>0</th>\n",
       "      <td>a</td>\n",
       "      <td>B</td>\n",
       "      <td>1</td>\n",
       "    </tr>\n",
       "    <tr>\n",
       "      <th>1</th>\n",
       "      <td>b</td>\n",
       "      <td>B</td>\n",
       "      <td>3</td>\n",
       "    </tr>\n",
       "    <tr>\n",
       "      <th>2</th>\n",
       "      <td>c</td>\n",
       "      <td>B</td>\n",
       "      <td>5</td>\n",
       "    </tr>\n",
       "    <tr>\n",
       "      <th>3</th>\n",
       "      <td>a</td>\n",
       "      <td>C</td>\n",
       "      <td>2</td>\n",
       "    </tr>\n",
       "    <tr>\n",
       "      <th>4</th>\n",
       "      <td>b</td>\n",
       "      <td>C</td>\n",
       "      <td>4</td>\n",
       "    </tr>\n",
       "    <tr>\n",
       "      <th>5</th>\n",
       "      <td>c</td>\n",
       "      <td>C</td>\n",
       "      <td>6</td>\n",
       "    </tr>\n",
       "  </tbody>\n",
       "</table>\n",
       "</div>"
      ],
      "text/plain": [
       "   A variable  value\n",
       "0  a        B      1\n",
       "1  b        B      3\n",
       "2  c        B      5\n",
       "3  a        C      2\n",
       "4  b        C      4\n",
       "5  c        C      6"
      ]
     },
     "execution_count": 284,
     "metadata": {},
     "output_type": "execute_result"
    }
   ],
   "source": [
    "pd.melt(df, id_vars=['A'], value_vars=['B', 'C'])"
   ]
  },
  {
   "cell_type": "code",
   "execution_count": 285,
   "id": "e83f1f83",
   "metadata": {
    "ExecuteTime": {
     "end_time": "2022-05-20T20:18:08.958352Z",
     "start_time": "2022-05-20T20:18:08.865622Z"
    },
    "hidden": true
   },
   "outputs": [
    {
     "data": {
      "text/html": [
       "<div>\n",
       "<style scoped>\n",
       "    .dataframe tbody tr th:only-of-type {\n",
       "        vertical-align: middle;\n",
       "    }\n",
       "\n",
       "    .dataframe tbody tr th {\n",
       "        vertical-align: top;\n",
       "    }\n",
       "\n",
       "    .dataframe thead th {\n",
       "        text-align: right;\n",
       "    }\n",
       "</style>\n",
       "<table border=\"1\" class=\"dataframe\">\n",
       "  <thead>\n",
       "    <tr style=\"text-align: right;\">\n",
       "      <th></th>\n",
       "      <th>A</th>\n",
       "      <th>nome da var</th>\n",
       "      <th>valor da var</th>\n",
       "    </tr>\n",
       "  </thead>\n",
       "  <tbody>\n",
       "    <tr>\n",
       "      <th>0</th>\n",
       "      <td>a</td>\n",
       "      <td>B</td>\n",
       "      <td>1</td>\n",
       "    </tr>\n",
       "    <tr>\n",
       "      <th>1</th>\n",
       "      <td>b</td>\n",
       "      <td>B</td>\n",
       "      <td>3</td>\n",
       "    </tr>\n",
       "    <tr>\n",
       "      <th>2</th>\n",
       "      <td>c</td>\n",
       "      <td>B</td>\n",
       "      <td>5</td>\n",
       "    </tr>\n",
       "    <tr>\n",
       "      <th>3</th>\n",
       "      <td>a</td>\n",
       "      <td>C</td>\n",
       "      <td>2</td>\n",
       "    </tr>\n",
       "    <tr>\n",
       "      <th>4</th>\n",
       "      <td>b</td>\n",
       "      <td>C</td>\n",
       "      <td>4</td>\n",
       "    </tr>\n",
       "    <tr>\n",
       "      <th>5</th>\n",
       "      <td>c</td>\n",
       "      <td>C</td>\n",
       "      <td>6</td>\n",
       "    </tr>\n",
       "  </tbody>\n",
       "</table>\n",
       "</div>"
      ],
      "text/plain": [
       "   A nome da var  valor da var\n",
       "0  a           B             1\n",
       "1  b           B             3\n",
       "2  c           B             5\n",
       "3  a           C             2\n",
       "4  b           C             4\n",
       "5  c           C             6"
      ]
     },
     "execution_count": 285,
     "metadata": {},
     "output_type": "execute_result"
    }
   ],
   "source": [
    "pd.melt(df, id_vars=['A'], value_vars=['B', 'C'], var_name='nome da var', value_name='valor da var')"
   ]
  },
  {
   "cell_type": "code",
   "execution_count": 286,
   "id": "f5a76a48",
   "metadata": {
    "ExecuteTime": {
     "end_time": "2022-05-20T20:18:09.038202Z",
     "start_time": "2022-05-20T20:18:08.961348Z"
    },
    "hidden": true
   },
   "outputs": [
    {
     "name": "stdout",
     "output_type": "stream",
     "text": [
      "{'Localização': ['cidadeA', 'cidadeB'], 'Temperatura': ['prevista', 'atual'], 'Set-2021': [30, 32], 'Out-2021': [45, 43], 'Nov-2021': [24, 22]}\n"
     ]
    }
   ],
   "source": [
    "data = {\n",
    "    'Localização' : ['cidadeA', 'cidadeB'], \n",
    "    'Temperatura' : ['prevista', 'atual'],\n",
    "    'Set-2021':     [30, 32],\n",
    "    'Out-2021':     [45, 43],\n",
    "    'Nov-2021':     [24, 22]\n",
    "}\n",
    "\n",
    "print(data)"
   ]
  },
  {
   "cell_type": "code",
   "execution_count": 287,
   "id": "64007b46",
   "metadata": {
    "ExecuteTime": {
     "end_time": "2022-05-20T20:18:09.132822Z",
     "start_time": "2022-05-20T20:18:09.041201Z"
    },
    "hidden": true
   },
   "outputs": [
    {
     "data": {
      "text/html": [
       "<div>\n",
       "<style scoped>\n",
       "    .dataframe tbody tr th:only-of-type {\n",
       "        vertical-align: middle;\n",
       "    }\n",
       "\n",
       "    .dataframe tbody tr th {\n",
       "        vertical-align: top;\n",
       "    }\n",
       "\n",
       "    .dataframe thead th {\n",
       "        text-align: right;\n",
       "    }\n",
       "</style>\n",
       "<table border=\"1\" class=\"dataframe\">\n",
       "  <thead>\n",
       "    <tr style=\"text-align: right;\">\n",
       "      <th></th>\n",
       "      <th>Localização</th>\n",
       "      <th>Temperatura</th>\n",
       "      <th>Set-2021</th>\n",
       "      <th>Out-2021</th>\n",
       "      <th>Nov-2021</th>\n",
       "    </tr>\n",
       "  </thead>\n",
       "  <tbody>\n",
       "    <tr>\n",
       "      <th>0</th>\n",
       "      <td>cidadeA</td>\n",
       "      <td>prevista</td>\n",
       "      <td>30</td>\n",
       "      <td>45</td>\n",
       "      <td>24</td>\n",
       "    </tr>\n",
       "    <tr>\n",
       "      <th>1</th>\n",
       "      <td>cidadeB</td>\n",
       "      <td>atual</td>\n",
       "      <td>32</td>\n",
       "      <td>43</td>\n",
       "      <td>22</td>\n",
       "    </tr>\n",
       "  </tbody>\n",
       "</table>\n",
       "</div>"
      ],
      "text/plain": [
       "  Localização Temperatura  Set-2021  Out-2021  Nov-2021\n",
       "0     cidadeA    prevista        30        45        24\n",
       "1     cidadeB       atual        32        43        22"
      ]
     },
     "execution_count": 287,
     "metadata": {},
     "output_type": "execute_result"
    }
   ],
   "source": [
    "df = pd.DataFrame(data, columns = ['Localização', 'Temperatura', 'Set-2021', 'Out-2021', 'Nov-2021'])\n",
    "df"
   ]
  },
  {
   "cell_type": "code",
   "execution_count": 288,
   "id": "04565261",
   "metadata": {
    "ExecuteTime": {
     "end_time": "2022-05-20T20:18:09.228762Z",
     "start_time": "2022-05-20T20:18:09.136822Z"
    },
    "hidden": true
   },
   "outputs": [
    {
     "data": {
      "text/html": [
       "<div>\n",
       "<style scoped>\n",
       "    .dataframe tbody tr th:only-of-type {\n",
       "        vertical-align: middle;\n",
       "    }\n",
       "\n",
       "    .dataframe tbody tr th {\n",
       "        vertical-align: top;\n",
       "    }\n",
       "\n",
       "    .dataframe thead th {\n",
       "        text-align: right;\n",
       "    }\n",
       "</style>\n",
       "<table border=\"1\" class=\"dataframe\">\n",
       "  <thead>\n",
       "    <tr style=\"text-align: right;\">\n",
       "      <th></th>\n",
       "      <th>Localização</th>\n",
       "      <th>Temperatura</th>\n",
       "      <th>Data</th>\n",
       "      <th>Valor</th>\n",
       "    </tr>\n",
       "  </thead>\n",
       "  <tbody>\n",
       "    <tr>\n",
       "      <th>0</th>\n",
       "      <td>cidadeA</td>\n",
       "      <td>prevista</td>\n",
       "      <td>Set-2021</td>\n",
       "      <td>30</td>\n",
       "    </tr>\n",
       "    <tr>\n",
       "      <th>1</th>\n",
       "      <td>cidadeB</td>\n",
       "      <td>atual</td>\n",
       "      <td>Set-2021</td>\n",
       "      <td>32</td>\n",
       "    </tr>\n",
       "    <tr>\n",
       "      <th>2</th>\n",
       "      <td>cidadeA</td>\n",
       "      <td>prevista</td>\n",
       "      <td>Out-2021</td>\n",
       "      <td>45</td>\n",
       "    </tr>\n",
       "    <tr>\n",
       "      <th>3</th>\n",
       "      <td>cidadeB</td>\n",
       "      <td>atual</td>\n",
       "      <td>Out-2021</td>\n",
       "      <td>43</td>\n",
       "    </tr>\n",
       "    <tr>\n",
       "      <th>4</th>\n",
       "      <td>cidadeA</td>\n",
       "      <td>prevista</td>\n",
       "      <td>Nov-2021</td>\n",
       "      <td>24</td>\n",
       "    </tr>\n",
       "    <tr>\n",
       "      <th>5</th>\n",
       "      <td>cidadeB</td>\n",
       "      <td>atual</td>\n",
       "      <td>Nov-2021</td>\n",
       "      <td>22</td>\n",
       "    </tr>\n",
       "  </tbody>\n",
       "</table>\n",
       "</div>"
      ],
      "text/plain": [
       "  Localização Temperatura      Data  Valor\n",
       "0     cidadeA    prevista  Set-2021     30\n",
       "1     cidadeB       atual  Set-2021     32\n",
       "2     cidadeA    prevista  Out-2021     45\n",
       "3     cidadeB       atual  Out-2021     43\n",
       "4     cidadeA    prevista  Nov-2021     24\n",
       "5     cidadeB       atual  Nov-2021     22"
      ]
     },
     "execution_count": 288,
     "metadata": {},
     "output_type": "execute_result"
    }
   ],
   "source": [
    "df2 = pd.melt(df, id_vars=['Localização', 'Temperatura'], var_name='Data', value_name='Valor')\n",
    "\n",
    "df2"
   ]
  },
  {
   "cell_type": "markdown",
   "id": "590dd682",
   "metadata": {
    "heading_collapsed": true
   },
   "source": [
    "## 2.6. Seleção de linhas e colunas"
   ]
  },
  {
   "cell_type": "code",
   "execution_count": 289,
   "id": "50b6b747",
   "metadata": {
    "ExecuteTime": {
     "end_time": "2022-05-20T20:18:09.324387Z",
     "start_time": "2022-05-20T20:18:09.232762Z"
    },
    "hidden": true
   },
   "outputs": [],
   "source": [
    "datas = pd.date_range('20210101', periods = 600)\n",
    "\n",
    "df = pd.DataFrame(np.random.rand(600, 5), index = datas, columns = list('ABCDE'))"
   ]
  },
  {
   "cell_type": "code",
   "execution_count": 290,
   "id": "fcc0c30a",
   "metadata": {
    "ExecuteTime": {
     "end_time": "2022-05-20T20:18:09.483095Z",
     "start_time": "2022-05-20T20:18:09.328385Z"
    },
    "hidden": true
   },
   "outputs": [
    {
     "data": {
      "text/html": [
       "<div>\n",
       "<style scoped>\n",
       "    .dataframe tbody tr th:only-of-type {\n",
       "        vertical-align: middle;\n",
       "    }\n",
       "\n",
       "    .dataframe tbody tr th {\n",
       "        vertical-align: top;\n",
       "    }\n",
       "\n",
       "    .dataframe thead th {\n",
       "        text-align: right;\n",
       "    }\n",
       "</style>\n",
       "<table border=\"1\" class=\"dataframe\">\n",
       "  <thead>\n",
       "    <tr style=\"text-align: right;\">\n",
       "      <th></th>\n",
       "      <th>A</th>\n",
       "      <th>B</th>\n",
       "      <th>C</th>\n",
       "      <th>D</th>\n",
       "      <th>E</th>\n",
       "    </tr>\n",
       "  </thead>\n",
       "  <tbody>\n",
       "    <tr>\n",
       "      <th>2021-01-01</th>\n",
       "      <td>0.046667</td>\n",
       "      <td>0.594095</td>\n",
       "      <td>0.064589</td>\n",
       "      <td>0.738062</td>\n",
       "      <td>0.398274</td>\n",
       "    </tr>\n",
       "    <tr>\n",
       "      <th>2021-01-02</th>\n",
       "      <td>0.071947</td>\n",
       "      <td>0.796256</td>\n",
       "      <td>0.839928</td>\n",
       "      <td>0.471393</td>\n",
       "      <td>0.298414</td>\n",
       "    </tr>\n",
       "    <tr>\n",
       "      <th>2021-01-03</th>\n",
       "      <td>0.731517</td>\n",
       "      <td>0.779360</td>\n",
       "      <td>0.911050</td>\n",
       "      <td>0.365705</td>\n",
       "      <td>0.144078</td>\n",
       "    </tr>\n",
       "    <tr>\n",
       "      <th>2021-01-04</th>\n",
       "      <td>0.772460</td>\n",
       "      <td>0.925788</td>\n",
       "      <td>0.449741</td>\n",
       "      <td>0.094791</td>\n",
       "      <td>0.692518</td>\n",
       "    </tr>\n",
       "  </tbody>\n",
       "</table>\n",
       "</div>"
      ],
      "text/plain": [
       "                   A         B         C         D         E\n",
       "2021-01-01  0.046667  0.594095  0.064589  0.738062  0.398274\n",
       "2021-01-02  0.071947  0.796256  0.839928  0.471393  0.298414\n",
       "2021-01-03  0.731517  0.779360  0.911050  0.365705  0.144078\n",
       "2021-01-04  0.772460  0.925788  0.449741  0.094791  0.692518"
      ]
     },
     "execution_count": 290,
     "metadata": {},
     "output_type": "execute_result"
    }
   ],
   "source": [
    "df.head(4)"
   ]
  },
  {
   "cell_type": "code",
   "execution_count": 291,
   "id": "c8e76031",
   "metadata": {
    "ExecuteTime": {
     "end_time": "2022-05-20T20:18:09.562049Z",
     "start_time": "2022-05-20T20:18:09.486094Z"
    },
    "hidden": true
   },
   "outputs": [
    {
     "data": {
      "text/plain": [
       "2022-08-19    0.542808\n",
       "2022-08-20    0.520612\n",
       "2022-08-21    0.268926\n",
       "2022-08-22    0.732717\n",
       "2022-08-23    0.816822\n",
       "Freq: D, Name: D, dtype: float64"
      ]
     },
     "execution_count": 291,
     "metadata": {},
     "output_type": "execute_result"
    }
   ],
   "source": [
    "df['D'].tail(5)"
   ]
  },
  {
   "cell_type": "code",
   "execution_count": 292,
   "id": "b48869e1",
   "metadata": {
    "ExecuteTime": {
     "end_time": "2022-05-20T20:18:09.656982Z",
     "start_time": "2022-05-20T20:18:09.566046Z"
    },
    "hidden": true
   },
   "outputs": [
    {
     "data": {
      "text/html": [
       "<div>\n",
       "<style scoped>\n",
       "    .dataframe tbody tr th:only-of-type {\n",
       "        vertical-align: middle;\n",
       "    }\n",
       "\n",
       "    .dataframe tbody tr th {\n",
       "        vertical-align: top;\n",
       "    }\n",
       "\n",
       "    .dataframe thead th {\n",
       "        text-align: right;\n",
       "    }\n",
       "</style>\n",
       "<table border=\"1\" class=\"dataframe\">\n",
       "  <thead>\n",
       "    <tr style=\"text-align: right;\">\n",
       "      <th></th>\n",
       "      <th>A</th>\n",
       "      <th>B</th>\n",
       "      <th>C</th>\n",
       "      <th>D</th>\n",
       "      <th>E</th>\n",
       "    </tr>\n",
       "  </thead>\n",
       "  <tbody>\n",
       "    <tr>\n",
       "      <th>2021-01-02</th>\n",
       "      <td>0.071947</td>\n",
       "      <td>0.796256</td>\n",
       "      <td>0.839928</td>\n",
       "      <td>0.471393</td>\n",
       "      <td>0.298414</td>\n",
       "    </tr>\n",
       "    <tr>\n",
       "      <th>2021-01-03</th>\n",
       "      <td>0.731517</td>\n",
       "      <td>0.779360</td>\n",
       "      <td>0.911050</td>\n",
       "      <td>0.365705</td>\n",
       "      <td>0.144078</td>\n",
       "    </tr>\n",
       "    <tr>\n",
       "      <th>2021-01-04</th>\n",
       "      <td>0.772460</td>\n",
       "      <td>0.925788</td>\n",
       "      <td>0.449741</td>\n",
       "      <td>0.094791</td>\n",
       "      <td>0.692518</td>\n",
       "    </tr>\n",
       "    <tr>\n",
       "      <th>2021-01-05</th>\n",
       "      <td>0.430439</td>\n",
       "      <td>0.756153</td>\n",
       "      <td>0.572376</td>\n",
       "      <td>0.060731</td>\n",
       "      <td>0.204682</td>\n",
       "    </tr>\n",
       "  </tbody>\n",
       "</table>\n",
       "</div>"
      ],
      "text/plain": [
       "                   A         B         C         D         E\n",
       "2021-01-02  0.071947  0.796256  0.839928  0.471393  0.298414\n",
       "2021-01-03  0.731517  0.779360  0.911050  0.365705  0.144078\n",
       "2021-01-04  0.772460  0.925788  0.449741  0.094791  0.692518\n",
       "2021-01-05  0.430439  0.756153  0.572376  0.060731  0.204682"
      ]
     },
     "execution_count": 292,
     "metadata": {},
     "output_type": "execute_result"
    }
   ],
   "source": [
    "df[1 : 5]"
   ]
  },
  {
   "cell_type": "code",
   "execution_count": 293,
   "id": "bc8c2979",
   "metadata": {
    "ExecuteTime": {
     "end_time": "2022-05-20T20:18:09.752921Z",
     "start_time": "2022-05-20T20:18:09.660978Z"
    },
    "hidden": true
   },
   "outputs": [
    {
     "data": {
      "text/html": [
       "<div>\n",
       "<style scoped>\n",
       "    .dataframe tbody tr th:only-of-type {\n",
       "        vertical-align: middle;\n",
       "    }\n",
       "\n",
       "    .dataframe tbody tr th {\n",
       "        vertical-align: top;\n",
       "    }\n",
       "\n",
       "    .dataframe thead th {\n",
       "        text-align: right;\n",
       "    }\n",
       "</style>\n",
       "<table border=\"1\" class=\"dataframe\">\n",
       "  <thead>\n",
       "    <tr style=\"text-align: right;\">\n",
       "      <th></th>\n",
       "      <th>B</th>\n",
       "      <th>C</th>\n",
       "      <th>D</th>\n",
       "    </tr>\n",
       "  </thead>\n",
       "  <tbody>\n",
       "    <tr>\n",
       "      <th>2021-01-01</th>\n",
       "      <td>0.594095</td>\n",
       "      <td>0.064589</td>\n",
       "      <td>0.738062</td>\n",
       "    </tr>\n",
       "    <tr>\n",
       "      <th>2021-01-02</th>\n",
       "      <td>0.796256</td>\n",
       "      <td>0.839928</td>\n",
       "      <td>0.471393</td>\n",
       "    </tr>\n",
       "    <tr>\n",
       "      <th>2021-01-03</th>\n",
       "      <td>0.779360</td>\n",
       "      <td>0.911050</td>\n",
       "      <td>0.365705</td>\n",
       "    </tr>\n",
       "    <tr>\n",
       "      <th>2021-01-04</th>\n",
       "      <td>0.925788</td>\n",
       "      <td>0.449741</td>\n",
       "      <td>0.094791</td>\n",
       "    </tr>\n",
       "    <tr>\n",
       "      <th>2021-01-05</th>\n",
       "      <td>0.756153</td>\n",
       "      <td>0.572376</td>\n",
       "      <td>0.060731</td>\n",
       "    </tr>\n",
       "    <tr>\n",
       "      <th>...</th>\n",
       "      <td>...</td>\n",
       "      <td>...</td>\n",
       "      <td>...</td>\n",
       "    </tr>\n",
       "    <tr>\n",
       "      <th>2022-08-19</th>\n",
       "      <td>0.311259</td>\n",
       "      <td>0.562005</td>\n",
       "      <td>0.542808</td>\n",
       "    </tr>\n",
       "    <tr>\n",
       "      <th>2022-08-20</th>\n",
       "      <td>0.556420</td>\n",
       "      <td>0.037192</td>\n",
       "      <td>0.520612</td>\n",
       "    </tr>\n",
       "    <tr>\n",
       "      <th>2022-08-21</th>\n",
       "      <td>0.224290</td>\n",
       "      <td>0.677840</td>\n",
       "      <td>0.268926</td>\n",
       "    </tr>\n",
       "    <tr>\n",
       "      <th>2022-08-22</th>\n",
       "      <td>0.001397</td>\n",
       "      <td>0.695852</td>\n",
       "      <td>0.732717</td>\n",
       "    </tr>\n",
       "    <tr>\n",
       "      <th>2022-08-23</th>\n",
       "      <td>0.747748</td>\n",
       "      <td>0.932232</td>\n",
       "      <td>0.816822</td>\n",
       "    </tr>\n",
       "  </tbody>\n",
       "</table>\n",
       "<p>600 rows × 3 columns</p>\n",
       "</div>"
      ],
      "text/plain": [
       "                   B         C         D\n",
       "2021-01-01  0.594095  0.064589  0.738062\n",
       "2021-01-02  0.796256  0.839928  0.471393\n",
       "2021-01-03  0.779360  0.911050  0.365705\n",
       "2021-01-04  0.925788  0.449741  0.094791\n",
       "2021-01-05  0.756153  0.572376  0.060731\n",
       "...              ...       ...       ...\n",
       "2022-08-19  0.311259  0.562005  0.542808\n",
       "2022-08-20  0.556420  0.037192  0.520612\n",
       "2022-08-21  0.224290  0.677840  0.268926\n",
       "2022-08-22  0.001397  0.695852  0.732717\n",
       "2022-08-23  0.747748  0.932232  0.816822\n",
       "\n",
       "[600 rows x 3 columns]"
      ]
     },
     "execution_count": 293,
     "metadata": {},
     "output_type": "execute_result"
    }
   ],
   "source": [
    "df.loc[:, ['B', 'C', 'D']]"
   ]
  },
  {
   "cell_type": "markdown",
   "id": "a45f4cb9",
   "metadata": {
    "hidden": true
   },
   "source": [
    "**Filtragem do intervalo entre as datas especificadas e das colunas A e C**"
   ]
  },
  {
   "cell_type": "code",
   "execution_count": 294,
   "id": "19f47715",
   "metadata": {
    "ExecuteTime": {
     "end_time": "2022-05-20T20:18:09.848864Z",
     "start_time": "2022-05-20T20:18:09.756920Z"
    },
    "hidden": true,
    "scrolled": true
   },
   "outputs": [
    {
     "data": {
      "text/html": [
       "<div>\n",
       "<style scoped>\n",
       "    .dataframe tbody tr th:only-of-type {\n",
       "        vertical-align: middle;\n",
       "    }\n",
       "\n",
       "    .dataframe tbody tr th {\n",
       "        vertical-align: top;\n",
       "    }\n",
       "\n",
       "    .dataframe thead th {\n",
       "        text-align: right;\n",
       "    }\n",
       "</style>\n",
       "<table border=\"1\" class=\"dataframe\">\n",
       "  <thead>\n",
       "    <tr style=\"text-align: right;\">\n",
       "      <th></th>\n",
       "      <th>A</th>\n",
       "      <th>C</th>\n",
       "    </tr>\n",
       "  </thead>\n",
       "  <tbody>\n",
       "    <tr>\n",
       "      <th>2022-01-01</th>\n",
       "      <td>0.356507</td>\n",
       "      <td>0.701750</td>\n",
       "    </tr>\n",
       "    <tr>\n",
       "      <th>2022-01-02</th>\n",
       "      <td>0.628530</td>\n",
       "      <td>0.852656</td>\n",
       "    </tr>\n",
       "    <tr>\n",
       "      <th>2022-01-03</th>\n",
       "      <td>0.095935</td>\n",
       "      <td>0.861283</td>\n",
       "    </tr>\n",
       "    <tr>\n",
       "      <th>2022-01-04</th>\n",
       "      <td>0.282830</td>\n",
       "      <td>0.223149</td>\n",
       "    </tr>\n",
       "    <tr>\n",
       "      <th>2022-01-05</th>\n",
       "      <td>0.263469</td>\n",
       "      <td>0.792895</td>\n",
       "    </tr>\n",
       "  </tbody>\n",
       "</table>\n",
       "</div>"
      ],
      "text/plain": [
       "                   A         C\n",
       "2022-01-01  0.356507  0.701750\n",
       "2022-01-02  0.628530  0.852656\n",
       "2022-01-03  0.095935  0.861283\n",
       "2022-01-04  0.282830  0.223149\n",
       "2022-01-05  0.263469  0.792895"
      ]
     },
     "execution_count": 294,
     "metadata": {},
     "output_type": "execute_result"
    }
   ],
   "source": [
    "df.loc['20220101' : '20220323', ['A', 'C']].head(5)"
   ]
  },
  {
   "cell_type": "markdown",
   "id": "9450ad77",
   "metadata": {
    "hidden": true
   },
   "source": [
    "**Filtragem de todas as colunas da linha 1**"
   ]
  },
  {
   "cell_type": "code",
   "execution_count": 295,
   "id": "a66ff12e",
   "metadata": {
    "ExecuteTime": {
     "end_time": "2022-05-20T20:18:09.931812Z",
     "start_time": "2022-05-20T20:18:09.852860Z"
    },
    "hidden": true,
    "scrolled": true
   },
   "outputs": [
    {
     "data": {
      "text/plain": [
       "A    0.071947\n",
       "B    0.796256\n",
       "C    0.839928\n",
       "D    0.471393\n",
       "E    0.298414\n",
       "Name: 2021-01-02 00:00:00, dtype: float64"
      ]
     },
     "execution_count": 295,
     "metadata": {},
     "output_type": "execute_result"
    }
   ],
   "source": [
    "df.iloc[1]"
   ]
  },
  {
   "cell_type": "markdown",
   "id": "51bf6816",
   "metadata": {
    "hidden": true
   },
   "source": [
    "**Filtragem de um intervalo específico entre linhas e colunas (1º intervalo linhas, 2º colunas)**"
   ]
  },
  {
   "cell_type": "code",
   "execution_count": 296,
   "id": "a32b4bfb",
   "metadata": {
    "ExecuteTime": {
     "end_time": "2022-05-20T20:18:10.024191Z",
     "start_time": "2022-05-20T20:18:09.935809Z"
    },
    "hidden": true,
    "scrolled": true
   },
   "outputs": [
    {
     "data": {
      "text/html": [
       "<div>\n",
       "<style scoped>\n",
       "    .dataframe tbody tr th:only-of-type {\n",
       "        vertical-align: middle;\n",
       "    }\n",
       "\n",
       "    .dataframe tbody tr th {\n",
       "        vertical-align: top;\n",
       "    }\n",
       "\n",
       "    .dataframe thead th {\n",
       "        text-align: right;\n",
       "    }\n",
       "</style>\n",
       "<table border=\"1\" class=\"dataframe\">\n",
       "  <thead>\n",
       "    <tr style=\"text-align: right;\">\n",
       "      <th></th>\n",
       "      <th>B</th>\n",
       "      <th>C</th>\n",
       "      <th>D</th>\n",
       "      <th>E</th>\n",
       "    </tr>\n",
       "  </thead>\n",
       "  <tbody>\n",
       "    <tr>\n",
       "      <th>2021-01-02</th>\n",
       "      <td>0.796256</td>\n",
       "      <td>0.839928</td>\n",
       "      <td>0.471393</td>\n",
       "      <td>0.298414</td>\n",
       "    </tr>\n",
       "    <tr>\n",
       "      <th>2021-01-03</th>\n",
       "      <td>0.779360</td>\n",
       "      <td>0.911050</td>\n",
       "      <td>0.365705</td>\n",
       "      <td>0.144078</td>\n",
       "    </tr>\n",
       "    <tr>\n",
       "      <th>2021-01-04</th>\n",
       "      <td>0.925788</td>\n",
       "      <td>0.449741</td>\n",
       "      <td>0.094791</td>\n",
       "      <td>0.692518</td>\n",
       "    </tr>\n",
       "  </tbody>\n",
       "</table>\n",
       "</div>"
      ],
      "text/plain": [
       "                   B         C         D         E\n",
       "2021-01-02  0.796256  0.839928  0.471393  0.298414\n",
       "2021-01-03  0.779360  0.911050  0.365705  0.144078\n",
       "2021-01-04  0.925788  0.449741  0.094791  0.692518"
      ]
     },
     "execution_count": 296,
     "metadata": {},
     "output_type": "execute_result"
    }
   ],
   "source": [
    "df.iloc[1:4, 1: 6]"
   ]
  },
  {
   "cell_type": "markdown",
   "id": "8ff7dc80",
   "metadata": {
    "hidden": true
   },
   "source": [
    "**Filtragem de linhas e colunas escolhidas**"
   ]
  },
  {
   "cell_type": "code",
   "execution_count": 297,
   "id": "345428e3",
   "metadata": {
    "ExecuteTime": {
     "end_time": "2022-05-20T20:18:10.120136Z",
     "start_time": "2022-05-20T20:18:10.028185Z"
    },
    "hidden": true
   },
   "outputs": [
    {
     "data": {
      "text/html": [
       "<div>\n",
       "<style scoped>\n",
       "    .dataframe tbody tr th:only-of-type {\n",
       "        vertical-align: middle;\n",
       "    }\n",
       "\n",
       "    .dataframe tbody tr th {\n",
       "        vertical-align: top;\n",
       "    }\n",
       "\n",
       "    .dataframe thead th {\n",
       "        text-align: right;\n",
       "    }\n",
       "</style>\n",
       "<table border=\"1\" class=\"dataframe\">\n",
       "  <thead>\n",
       "    <tr style=\"text-align: right;\">\n",
       "      <th></th>\n",
       "      <th>A</th>\n",
       "      <th>D</th>\n",
       "    </tr>\n",
       "  </thead>\n",
       "  <tbody>\n",
       "    <tr>\n",
       "      <th>2021-01-08</th>\n",
       "      <td>0.514049</td>\n",
       "      <td>0.505350</td>\n",
       "    </tr>\n",
       "    <tr>\n",
       "      <th>2021-01-05</th>\n",
       "      <td>0.430439</td>\n",
       "      <td>0.060731</td>\n",
       "    </tr>\n",
       "    <tr>\n",
       "      <th>2021-01-09</th>\n",
       "      <td>0.740976</td>\n",
       "      <td>0.896994</td>\n",
       "    </tr>\n",
       "  </tbody>\n",
       "</table>\n",
       "</div>"
      ],
      "text/plain": [
       "                   A         D\n",
       "2021-01-08  0.514049  0.505350\n",
       "2021-01-05  0.430439  0.060731\n",
       "2021-01-09  0.740976  0.896994"
      ]
     },
     "execution_count": 297,
     "metadata": {},
     "output_type": "execute_result"
    }
   ],
   "source": [
    "df.iloc[[7, 4, 8], [0, 3]]"
   ]
  },
  {
   "cell_type": "markdown",
   "id": "be9fb81b",
   "metadata": {
    "hidden": true
   },
   "source": [
    "**Filtros booleanos**"
   ]
  },
  {
   "cell_type": "code",
   "execution_count": 298,
   "id": "e2341712",
   "metadata": {
    "ExecuteTime": {
     "end_time": "2022-05-20T20:18:10.392839Z",
     "start_time": "2022-05-20T20:18:10.123127Z"
    },
    "hidden": true
   },
   "outputs": [
    {
     "data": {
      "text/html": [
       "<div>\n",
       "<style scoped>\n",
       "    .dataframe tbody tr th:only-of-type {\n",
       "        vertical-align: middle;\n",
       "    }\n",
       "\n",
       "    .dataframe tbody tr th {\n",
       "        vertical-align: top;\n",
       "    }\n",
       "\n",
       "    .dataframe thead th {\n",
       "        text-align: right;\n",
       "    }\n",
       "</style>\n",
       "<table border=\"1\" class=\"dataframe\">\n",
       "  <thead>\n",
       "    <tr style=\"text-align: right;\">\n",
       "      <th></th>\n",
       "      <th>A</th>\n",
       "      <th>B</th>\n",
       "      <th>C</th>\n",
       "      <th>D</th>\n",
       "      <th>E</th>\n",
       "    </tr>\n",
       "  </thead>\n",
       "  <tbody>\n",
       "    <tr>\n",
       "      <th>2021-01-01</th>\n",
       "      <td>0.046667</td>\n",
       "      <td>0.594095</td>\n",
       "      <td>0.064589</td>\n",
       "      <td>0.738062</td>\n",
       "      <td>0.398274</td>\n",
       "    </tr>\n",
       "    <tr>\n",
       "      <th>2021-01-02</th>\n",
       "      <td>0.071947</td>\n",
       "      <td>0.796256</td>\n",
       "      <td>0.839928</td>\n",
       "      <td>0.471393</td>\n",
       "      <td>0.298414</td>\n",
       "    </tr>\n",
       "    <tr>\n",
       "      <th>2021-01-03</th>\n",
       "      <td>0.731517</td>\n",
       "      <td>0.779360</td>\n",
       "      <td>0.911050</td>\n",
       "      <td>0.365705</td>\n",
       "      <td>0.144078</td>\n",
       "    </tr>\n",
       "    <tr>\n",
       "      <th>2021-01-04</th>\n",
       "      <td>0.772460</td>\n",
       "      <td>0.925788</td>\n",
       "      <td>0.449741</td>\n",
       "      <td>0.094791</td>\n",
       "      <td>0.692518</td>\n",
       "    </tr>\n",
       "    <tr>\n",
       "      <th>2021-01-05</th>\n",
       "      <td>0.430439</td>\n",
       "      <td>0.756153</td>\n",
       "      <td>0.572376</td>\n",
       "      <td>0.060731</td>\n",
       "      <td>0.204682</td>\n",
       "    </tr>\n",
       "    <tr>\n",
       "      <th>...</th>\n",
       "      <td>...</td>\n",
       "      <td>...</td>\n",
       "      <td>...</td>\n",
       "      <td>...</td>\n",
       "      <td>...</td>\n",
       "    </tr>\n",
       "    <tr>\n",
       "      <th>2022-08-19</th>\n",
       "      <td>0.968469</td>\n",
       "      <td>0.311259</td>\n",
       "      <td>0.562005</td>\n",
       "      <td>0.542808</td>\n",
       "      <td>0.244064</td>\n",
       "    </tr>\n",
       "    <tr>\n",
       "      <th>2022-08-20</th>\n",
       "      <td>0.386239</td>\n",
       "      <td>0.556420</td>\n",
       "      <td>0.037192</td>\n",
       "      <td>0.520612</td>\n",
       "      <td>0.134407</td>\n",
       "    </tr>\n",
       "    <tr>\n",
       "      <th>2022-08-21</th>\n",
       "      <td>0.600563</td>\n",
       "      <td>0.224290</td>\n",
       "      <td>0.677840</td>\n",
       "      <td>0.268926</td>\n",
       "      <td>0.314033</td>\n",
       "    </tr>\n",
       "    <tr>\n",
       "      <th>2022-08-22</th>\n",
       "      <td>0.120529</td>\n",
       "      <td>0.001397</td>\n",
       "      <td>0.695852</td>\n",
       "      <td>0.732717</td>\n",
       "      <td>0.544513</td>\n",
       "    </tr>\n",
       "    <tr>\n",
       "      <th>2022-08-23</th>\n",
       "      <td>0.067690</td>\n",
       "      <td>0.747748</td>\n",
       "      <td>0.932232</td>\n",
       "      <td>0.816822</td>\n",
       "      <td>0.311348</td>\n",
       "    </tr>\n",
       "  </tbody>\n",
       "</table>\n",
       "<p>600 rows × 5 columns</p>\n",
       "</div>"
      ],
      "text/plain": [
       "                   A         B         C         D         E\n",
       "2021-01-01  0.046667  0.594095  0.064589  0.738062  0.398274\n",
       "2021-01-02  0.071947  0.796256  0.839928  0.471393  0.298414\n",
       "2021-01-03  0.731517  0.779360  0.911050  0.365705  0.144078\n",
       "2021-01-04  0.772460  0.925788  0.449741  0.094791  0.692518\n",
       "2021-01-05  0.430439  0.756153  0.572376  0.060731  0.204682\n",
       "...              ...       ...       ...       ...       ...\n",
       "2022-08-19  0.968469  0.311259  0.562005  0.542808  0.244064\n",
       "2022-08-20  0.386239  0.556420  0.037192  0.520612  0.134407\n",
       "2022-08-21  0.600563  0.224290  0.677840  0.268926  0.314033\n",
       "2022-08-22  0.120529  0.001397  0.695852  0.732717  0.544513\n",
       "2022-08-23  0.067690  0.747748  0.932232  0.816822  0.311348\n",
       "\n",
       "[600 rows x 5 columns]"
      ]
     },
     "execution_count": 298,
     "metadata": {},
     "output_type": "execute_result"
    }
   ],
   "source": [
    "df[df.A>0]"
   ]
  },
  {
   "cell_type": "code",
   "execution_count": 299,
   "id": "259289ac",
   "metadata": {
    "ExecuteTime": {
     "end_time": "2022-05-20T20:18:10.502225Z",
     "start_time": "2022-05-20T20:18:10.397833Z"
    },
    "hidden": true
   },
   "outputs": [
    {
     "data": {
      "text/html": [
       "<div>\n",
       "<style scoped>\n",
       "    .dataframe tbody tr th:only-of-type {\n",
       "        vertical-align: middle;\n",
       "    }\n",
       "\n",
       "    .dataframe tbody tr th {\n",
       "        vertical-align: top;\n",
       "    }\n",
       "\n",
       "    .dataframe thead th {\n",
       "        text-align: right;\n",
       "    }\n",
       "</style>\n",
       "<table border=\"1\" class=\"dataframe\">\n",
       "  <thead>\n",
       "    <tr style=\"text-align: right;\">\n",
       "      <th></th>\n",
       "      <th>A</th>\n",
       "      <th>B</th>\n",
       "      <th>C</th>\n",
       "      <th>D</th>\n",
       "      <th>E</th>\n",
       "    </tr>\n",
       "  </thead>\n",
       "  <tbody>\n",
       "    <tr>\n",
       "      <th>2021-01-01</th>\n",
       "      <td>0.046667</td>\n",
       "      <td>0.594095</td>\n",
       "      <td>0.064589</td>\n",
       "      <td>0.738062</td>\n",
       "      <td>0.398274</td>\n",
       "    </tr>\n",
       "    <tr>\n",
       "      <th>2021-01-02</th>\n",
       "      <td>0.071947</td>\n",
       "      <td>0.796256</td>\n",
       "      <td>0.839928</td>\n",
       "      <td>0.471393</td>\n",
       "      <td>0.298414</td>\n",
       "    </tr>\n",
       "    <tr>\n",
       "      <th>2021-01-03</th>\n",
       "      <td>0.731517</td>\n",
       "      <td>0.779360</td>\n",
       "      <td>0.911050</td>\n",
       "      <td>0.365705</td>\n",
       "      <td>0.144078</td>\n",
       "    </tr>\n",
       "    <tr>\n",
       "      <th>2021-01-04</th>\n",
       "      <td>0.772460</td>\n",
       "      <td>0.925788</td>\n",
       "      <td>0.449741</td>\n",
       "      <td>0.094791</td>\n",
       "      <td>0.692518</td>\n",
       "    </tr>\n",
       "    <tr>\n",
       "      <th>2021-01-05</th>\n",
       "      <td>0.430439</td>\n",
       "      <td>0.756153</td>\n",
       "      <td>0.572376</td>\n",
       "      <td>0.060731</td>\n",
       "      <td>0.204682</td>\n",
       "    </tr>\n",
       "    <tr>\n",
       "      <th>...</th>\n",
       "      <td>...</td>\n",
       "      <td>...</td>\n",
       "      <td>...</td>\n",
       "      <td>...</td>\n",
       "      <td>...</td>\n",
       "    </tr>\n",
       "    <tr>\n",
       "      <th>2022-08-19</th>\n",
       "      <td>0.968469</td>\n",
       "      <td>0.311259</td>\n",
       "      <td>0.562005</td>\n",
       "      <td>0.542808</td>\n",
       "      <td>0.244064</td>\n",
       "    </tr>\n",
       "    <tr>\n",
       "      <th>2022-08-20</th>\n",
       "      <td>0.386239</td>\n",
       "      <td>0.556420</td>\n",
       "      <td>0.037192</td>\n",
       "      <td>0.520612</td>\n",
       "      <td>0.134407</td>\n",
       "    </tr>\n",
       "    <tr>\n",
       "      <th>2022-08-21</th>\n",
       "      <td>0.600563</td>\n",
       "      <td>0.224290</td>\n",
       "      <td>0.677840</td>\n",
       "      <td>0.268926</td>\n",
       "      <td>0.314033</td>\n",
       "    </tr>\n",
       "    <tr>\n",
       "      <th>2022-08-22</th>\n",
       "      <td>0.120529</td>\n",
       "      <td>0.001397</td>\n",
       "      <td>0.695852</td>\n",
       "      <td>0.732717</td>\n",
       "      <td>0.544513</td>\n",
       "    </tr>\n",
       "    <tr>\n",
       "      <th>2022-08-23</th>\n",
       "      <td>0.067690</td>\n",
       "      <td>0.747748</td>\n",
       "      <td>0.932232</td>\n",
       "      <td>0.816822</td>\n",
       "      <td>0.311348</td>\n",
       "    </tr>\n",
       "  </tbody>\n",
       "</table>\n",
       "<p>600 rows × 5 columns</p>\n",
       "</div>"
      ],
      "text/plain": [
       "                   A         B         C         D         E\n",
       "2021-01-01  0.046667  0.594095  0.064589  0.738062  0.398274\n",
       "2021-01-02  0.071947  0.796256  0.839928  0.471393  0.298414\n",
       "2021-01-03  0.731517  0.779360  0.911050  0.365705  0.144078\n",
       "2021-01-04  0.772460  0.925788  0.449741  0.094791  0.692518\n",
       "2021-01-05  0.430439  0.756153  0.572376  0.060731  0.204682\n",
       "...              ...       ...       ...       ...       ...\n",
       "2022-08-19  0.968469  0.311259  0.562005  0.542808  0.244064\n",
       "2022-08-20  0.386239  0.556420  0.037192  0.520612  0.134407\n",
       "2022-08-21  0.600563  0.224290  0.677840  0.268926  0.314033\n",
       "2022-08-22  0.120529  0.001397  0.695852  0.732717  0.544513\n",
       "2022-08-23  0.067690  0.747748  0.932232  0.816822  0.311348\n",
       "\n",
       "[600 rows x 5 columns]"
      ]
     },
     "execution_count": 299,
     "metadata": {},
     "output_type": "execute_result"
    }
   ],
   "source": [
    "df[df > 0]"
   ]
  },
  {
   "cell_type": "markdown",
   "id": "b481b5e5",
   "metadata": {},
   "source": [
    "## 2.7. Limpeza dos dados"
   ]
  },
  {
   "cell_type": "markdown",
   "id": "6b26f911",
   "metadata": {
    "heading_collapsed": true
   },
   "source": [
    "### 2.7.1 Sumarização dos dados"
   ]
  },
  {
   "cell_type": "code",
   "execution_count": 300,
   "id": "40c88cb4",
   "metadata": {
    "ExecuteTime": {
     "end_time": "2022-05-20T20:18:10.565923Z",
     "start_time": "2022-05-20T20:18:10.506224Z"
    },
    "hidden": true
   },
   "outputs": [],
   "source": [
    "datas = pd.date_range('20180101', periods = 6)\n",
    "\n",
    "df = pd.DataFrame(np.random.randn(6,4), index = datas, columns = ['var_A', 'var_B', 'var_C', 'var_D'])"
   ]
  },
  {
   "cell_type": "code",
   "execution_count": 301,
   "id": "8b2cfae4",
   "metadata": {
    "ExecuteTime": {
     "end_time": "2022-05-20T20:18:10.646536Z",
     "start_time": "2022-05-20T20:18:10.568824Z"
    },
    "hidden": true
   },
   "outputs": [],
   "source": [
    "df2 = pd.DataFrame({'A': pd.Timestamp('20130102'),\n",
    "                    'B': pd.Series(1, index = list(range(4)), dtype= 'float32'),\n",
    "                    'C': np.array([3] * 4, dtype = 'int32'),\n",
    "                    'D': pd.Categorical(['test', 'train', 'test', 'train']),\n",
    "                    'F': 'Python'\n",
    "    \n",
    "})"
   ]
  },
  {
   "cell_type": "code",
   "execution_count": 302,
   "id": "aacbff55",
   "metadata": {
    "ExecuteTime": {
     "end_time": "2022-05-20T20:18:10.757596Z",
     "start_time": "2022-05-20T20:18:10.650551Z"
    },
    "hidden": true
   },
   "outputs": [
    {
     "data": {
      "text/html": [
       "<div>\n",
       "<style scoped>\n",
       "    .dataframe tbody tr th:only-of-type {\n",
       "        vertical-align: middle;\n",
       "    }\n",
       "\n",
       "    .dataframe tbody tr th {\n",
       "        vertical-align: top;\n",
       "    }\n",
       "\n",
       "    .dataframe thead th {\n",
       "        text-align: right;\n",
       "    }\n",
       "</style>\n",
       "<table border=\"1\" class=\"dataframe\">\n",
       "  <thead>\n",
       "    <tr style=\"text-align: right;\">\n",
       "      <th></th>\n",
       "      <th>var_A</th>\n",
       "      <th>var_B</th>\n",
       "      <th>var_C</th>\n",
       "      <th>var_D</th>\n",
       "    </tr>\n",
       "  </thead>\n",
       "  <tbody>\n",
       "    <tr>\n",
       "      <th>2018-01-01</th>\n",
       "      <td>-1.066732</td>\n",
       "      <td>0.520149</td>\n",
       "      <td>1.566308</td>\n",
       "      <td>0.224808</td>\n",
       "    </tr>\n",
       "    <tr>\n",
       "      <th>2018-01-02</th>\n",
       "      <td>1.367745</td>\n",
       "      <td>-1.796581</td>\n",
       "      <td>1.248066</td>\n",
       "      <td>-0.788747</td>\n",
       "    </tr>\n",
       "    <tr>\n",
       "      <th>2018-01-03</th>\n",
       "      <td>-0.740111</td>\n",
       "      <td>0.944649</td>\n",
       "      <td>-0.024702</td>\n",
       "      <td>1.166624</td>\n",
       "    </tr>\n",
       "    <tr>\n",
       "      <th>2018-01-04</th>\n",
       "      <td>0.689837</td>\n",
       "      <td>-1.045093</td>\n",
       "      <td>0.099687</td>\n",
       "      <td>0.659116</td>\n",
       "    </tr>\n",
       "    <tr>\n",
       "      <th>2018-01-05</th>\n",
       "      <td>-0.513988</td>\n",
       "      <td>0.935222</td>\n",
       "      <td>1.262412</td>\n",
       "      <td>-1.374424</td>\n",
       "    </tr>\n",
       "    <tr>\n",
       "      <th>2018-01-06</th>\n",
       "      <td>1.524611</td>\n",
       "      <td>-0.409084</td>\n",
       "      <td>0.293908</td>\n",
       "      <td>-1.333953</td>\n",
       "    </tr>\n",
       "  </tbody>\n",
       "</table>\n",
       "</div>"
      ],
      "text/plain": [
       "               var_A     var_B     var_C     var_D\n",
       "2018-01-01 -1.066732  0.520149  1.566308  0.224808\n",
       "2018-01-02  1.367745 -1.796581  1.248066 -0.788747\n",
       "2018-01-03 -0.740111  0.944649 -0.024702  1.166624\n",
       "2018-01-04  0.689837 -1.045093  0.099687  0.659116\n",
       "2018-01-05 -0.513988  0.935222  1.262412 -1.374424\n",
       "2018-01-06  1.524611 -0.409084  0.293908 -1.333953"
      ]
     },
     "execution_count": 302,
     "metadata": {},
     "output_type": "execute_result"
    }
   ],
   "source": [
    "df"
   ]
  },
  {
   "cell_type": "code",
   "execution_count": 303,
   "id": "08e53b60",
   "metadata": {
    "ExecuteTime": {
     "end_time": "2022-05-20T20:18:10.873965Z",
     "start_time": "2022-05-20T20:18:10.768583Z"
    },
    "hidden": true,
    "scrolled": false
   },
   "outputs": [
    {
     "data": {
      "text/plain": [
       "(6, 4)"
      ]
     },
     "execution_count": 303,
     "metadata": {},
     "output_type": "execute_result"
    }
   ],
   "source": [
    "df.shape"
   ]
  },
  {
   "cell_type": "code",
   "execution_count": 304,
   "id": "43f9071e",
   "metadata": {
    "ExecuteTime": {
     "end_time": "2022-05-20T20:18:10.968765Z",
     "start_time": "2022-05-20T20:18:10.877964Z"
    },
    "hidden": true,
    "scrolled": true
   },
   "outputs": [
    {
     "data": {
      "text/plain": [
       "var_A    float64\n",
       "var_B    float64\n",
       "var_C    float64\n",
       "var_D    float64\n",
       "dtype: object"
      ]
     },
     "execution_count": 304,
     "metadata": {},
     "output_type": "execute_result"
    }
   ],
   "source": [
    "df.dtypes"
   ]
  },
  {
   "cell_type": "code",
   "execution_count": 305,
   "id": "7d91ad5f",
   "metadata": {
    "ExecuteTime": {
     "end_time": "2022-05-20T20:18:11.078872Z",
     "start_time": "2022-05-20T20:18:10.980772Z"
    },
    "hidden": true,
    "scrolled": true
   },
   "outputs": [
    {
     "data": {
      "text/html": [
       "<div>\n",
       "<style scoped>\n",
       "    .dataframe tbody tr th:only-of-type {\n",
       "        vertical-align: middle;\n",
       "    }\n",
       "\n",
       "    .dataframe tbody tr th {\n",
       "        vertical-align: top;\n",
       "    }\n",
       "\n",
       "    .dataframe thead th {\n",
       "        text-align: right;\n",
       "    }\n",
       "</style>\n",
       "<table border=\"1\" class=\"dataframe\">\n",
       "  <thead>\n",
       "    <tr style=\"text-align: right;\">\n",
       "      <th></th>\n",
       "      <th>var_A</th>\n",
       "      <th>var_B</th>\n",
       "      <th>var_C</th>\n",
       "      <th>var_D</th>\n",
       "    </tr>\n",
       "  </thead>\n",
       "  <tbody>\n",
       "    <tr>\n",
       "      <th>count</th>\n",
       "      <td>6.000000</td>\n",
       "      <td>6.000000</td>\n",
       "      <td>6.000000</td>\n",
       "      <td>6.000000</td>\n",
       "    </tr>\n",
       "    <tr>\n",
       "      <th>mean</th>\n",
       "      <td>0.210227</td>\n",
       "      <td>-0.141789</td>\n",
       "      <td>0.740946</td>\n",
       "      <td>-0.241096</td>\n",
       "    </tr>\n",
       "    <tr>\n",
       "      <th>std</th>\n",
       "      <td>1.127452</td>\n",
       "      <td>1.131742</td>\n",
       "      <td>0.693915</td>\n",
       "      <td>1.075901</td>\n",
       "    </tr>\n",
       "    <tr>\n",
       "      <th>min</th>\n",
       "      <td>-1.066732</td>\n",
       "      <td>-1.796581</td>\n",
       "      <td>-0.024702</td>\n",
       "      <td>-1.374424</td>\n",
       "    </tr>\n",
       "    <tr>\n",
       "      <th>25%</th>\n",
       "      <td>-0.683580</td>\n",
       "      <td>-0.886090</td>\n",
       "      <td>0.148242</td>\n",
       "      <td>-1.197652</td>\n",
       "    </tr>\n",
       "    <tr>\n",
       "      <th>50%</th>\n",
       "      <td>0.087925</td>\n",
       "      <td>0.055533</td>\n",
       "      <td>0.770987</td>\n",
       "      <td>-0.281970</td>\n",
       "    </tr>\n",
       "    <tr>\n",
       "      <th>75%</th>\n",
       "      <td>1.198268</td>\n",
       "      <td>0.831454</td>\n",
       "      <td>1.258825</td>\n",
       "      <td>0.550539</td>\n",
       "    </tr>\n",
       "    <tr>\n",
       "      <th>max</th>\n",
       "      <td>1.524611</td>\n",
       "      <td>0.944649</td>\n",
       "      <td>1.566308</td>\n",
       "      <td>1.166624</td>\n",
       "    </tr>\n",
       "  </tbody>\n",
       "</table>\n",
       "</div>"
      ],
      "text/plain": [
       "          var_A     var_B     var_C     var_D\n",
       "count  6.000000  6.000000  6.000000  6.000000\n",
       "mean   0.210227 -0.141789  0.740946 -0.241096\n",
       "std    1.127452  1.131742  0.693915  1.075901\n",
       "min   -1.066732 -1.796581 -0.024702 -1.374424\n",
       "25%   -0.683580 -0.886090  0.148242 -1.197652\n",
       "50%    0.087925  0.055533  0.770987 -0.281970\n",
       "75%    1.198268  0.831454  1.258825  0.550539\n",
       "max    1.524611  0.944649  1.566308  1.166624"
      ]
     },
     "execution_count": 305,
     "metadata": {},
     "output_type": "execute_result"
    }
   ],
   "source": [
    "df.describe()"
   ]
  },
  {
   "cell_type": "code",
   "execution_count": 306,
   "id": "7329ae7f",
   "metadata": {
    "ExecuteTime": {
     "end_time": "2022-05-20T20:18:11.141064Z",
     "start_time": "2022-05-20T20:18:11.081323Z"
    },
    "hidden": true,
    "scrolled": true
   },
   "outputs": [
    {
     "data": {
      "text/html": [
       "<div>\n",
       "<style scoped>\n",
       "    .dataframe tbody tr th:only-of-type {\n",
       "        vertical-align: middle;\n",
       "    }\n",
       "\n",
       "    .dataframe tbody tr th {\n",
       "        vertical-align: top;\n",
       "    }\n",
       "\n",
       "    .dataframe thead th {\n",
       "        text-align: right;\n",
       "    }\n",
       "</style>\n",
       "<table border=\"1\" class=\"dataframe\">\n",
       "  <thead>\n",
       "    <tr style=\"text-align: right;\">\n",
       "      <th></th>\n",
       "      <th>A</th>\n",
       "      <th>B</th>\n",
       "      <th>C</th>\n",
       "      <th>D</th>\n",
       "      <th>F</th>\n",
       "    </tr>\n",
       "  </thead>\n",
       "  <tbody>\n",
       "    <tr>\n",
       "      <th>0</th>\n",
       "      <td>2013-01-02</td>\n",
       "      <td>1.0</td>\n",
       "      <td>3</td>\n",
       "      <td>test</td>\n",
       "      <td>Python</td>\n",
       "    </tr>\n",
       "    <tr>\n",
       "      <th>1</th>\n",
       "      <td>2013-01-02</td>\n",
       "      <td>1.0</td>\n",
       "      <td>3</td>\n",
       "      <td>train</td>\n",
       "      <td>Python</td>\n",
       "    </tr>\n",
       "    <tr>\n",
       "      <th>2</th>\n",
       "      <td>2013-01-02</td>\n",
       "      <td>1.0</td>\n",
       "      <td>3</td>\n",
       "      <td>test</td>\n",
       "      <td>Python</td>\n",
       "    </tr>\n",
       "    <tr>\n",
       "      <th>3</th>\n",
       "      <td>2013-01-02</td>\n",
       "      <td>1.0</td>\n",
       "      <td>3</td>\n",
       "      <td>train</td>\n",
       "      <td>Python</td>\n",
       "    </tr>\n",
       "  </tbody>\n",
       "</table>\n",
       "</div>"
      ],
      "text/plain": [
       "           A    B  C      D       F\n",
       "0 2013-01-02  1.0  3   test  Python\n",
       "1 2013-01-02  1.0  3  train  Python\n",
       "2 2013-01-02  1.0  3   test  Python\n",
       "3 2013-01-02  1.0  3  train  Python"
      ]
     },
     "execution_count": 306,
     "metadata": {},
     "output_type": "execute_result"
    }
   ],
   "source": [
    "df2"
   ]
  },
  {
   "cell_type": "code",
   "execution_count": 307,
   "id": "4ce87f71",
   "metadata": {
    "ExecuteTime": {
     "end_time": "2022-05-20T20:18:11.235517Z",
     "start_time": "2022-05-20T20:18:11.144062Z"
    },
    "hidden": true
   },
   "outputs": [
    {
     "data": {
      "text/plain": [
       "(6, 4)"
      ]
     },
     "execution_count": 307,
     "metadata": {},
     "output_type": "execute_result"
    }
   ],
   "source": [
    "df.shape"
   ]
  },
  {
   "cell_type": "code",
   "execution_count": 308,
   "id": "40b4fd89",
   "metadata": {
    "ExecuteTime": {
     "end_time": "2022-05-20T20:18:11.316631Z",
     "start_time": "2022-05-20T20:18:11.241523Z"
    },
    "hidden": true
   },
   "outputs": [
    {
     "data": {
      "text/plain": [
       "A    datetime64[ns]\n",
       "B           float32\n",
       "C             int32\n",
       "D          category\n",
       "F            object\n",
       "dtype: object"
      ]
     },
     "execution_count": 308,
     "metadata": {},
     "output_type": "execute_result"
    }
   ],
   "source": [
    "df2.dtypes"
   ]
  },
  {
   "cell_type": "code",
   "execution_count": 309,
   "id": "880daf73",
   "metadata": {
    "ExecuteTime": {
     "end_time": "2022-05-20T20:18:11.424830Z",
     "start_time": "2022-05-20T20:18:11.321551Z"
    },
    "hidden": true,
    "scrolled": false
   },
   "outputs": [
    {
     "data": {
      "text/html": [
       "<div>\n",
       "<style scoped>\n",
       "    .dataframe tbody tr th:only-of-type {\n",
       "        vertical-align: middle;\n",
       "    }\n",
       "\n",
       "    .dataframe tbody tr th {\n",
       "        vertical-align: top;\n",
       "    }\n",
       "\n",
       "    .dataframe thead th {\n",
       "        text-align: right;\n",
       "    }\n",
       "</style>\n",
       "<table border=\"1\" class=\"dataframe\">\n",
       "  <thead>\n",
       "    <tr style=\"text-align: right;\">\n",
       "      <th></th>\n",
       "      <th>B</th>\n",
       "      <th>C</th>\n",
       "    </tr>\n",
       "  </thead>\n",
       "  <tbody>\n",
       "    <tr>\n",
       "      <th>count</th>\n",
       "      <td>4.0</td>\n",
       "      <td>4.0</td>\n",
       "    </tr>\n",
       "    <tr>\n",
       "      <th>mean</th>\n",
       "      <td>1.0</td>\n",
       "      <td>3.0</td>\n",
       "    </tr>\n",
       "    <tr>\n",
       "      <th>std</th>\n",
       "      <td>0.0</td>\n",
       "      <td>0.0</td>\n",
       "    </tr>\n",
       "    <tr>\n",
       "      <th>min</th>\n",
       "      <td>1.0</td>\n",
       "      <td>3.0</td>\n",
       "    </tr>\n",
       "    <tr>\n",
       "      <th>25%</th>\n",
       "      <td>1.0</td>\n",
       "      <td>3.0</td>\n",
       "    </tr>\n",
       "    <tr>\n",
       "      <th>50%</th>\n",
       "      <td>1.0</td>\n",
       "      <td>3.0</td>\n",
       "    </tr>\n",
       "    <tr>\n",
       "      <th>75%</th>\n",
       "      <td>1.0</td>\n",
       "      <td>3.0</td>\n",
       "    </tr>\n",
       "    <tr>\n",
       "      <th>max</th>\n",
       "      <td>1.0</td>\n",
       "      <td>3.0</td>\n",
       "    </tr>\n",
       "  </tbody>\n",
       "</table>\n",
       "</div>"
      ],
      "text/plain": [
       "         B    C\n",
       "count  4.0  4.0\n",
       "mean   1.0  3.0\n",
       "std    0.0  0.0\n",
       "min    1.0  3.0\n",
       "25%    1.0  3.0\n",
       "50%    1.0  3.0\n",
       "75%    1.0  3.0\n",
       "max    1.0  3.0"
      ]
     },
     "execution_count": 309,
     "metadata": {},
     "output_type": "execute_result"
    }
   ],
   "source": [
    "df2.describe()"
   ]
  },
  {
   "cell_type": "code",
   "execution_count": 310,
   "id": "4295bef3",
   "metadata": {
    "ExecuteTime": {
     "end_time": "2022-05-20T20:18:11.489129Z",
     "start_time": "2022-05-20T20:18:11.428827Z"
    },
    "hidden": true
   },
   "outputs": [
    {
     "data": {
      "text/html": [
       "<div>\n",
       "<style scoped>\n",
       "    .dataframe tbody tr th:only-of-type {\n",
       "        vertical-align: middle;\n",
       "    }\n",
       "\n",
       "    .dataframe tbody tr th {\n",
       "        vertical-align: top;\n",
       "    }\n",
       "\n",
       "    .dataframe thead th {\n",
       "        text-align: right;\n",
       "    }\n",
       "</style>\n",
       "<table border=\"1\" class=\"dataframe\">\n",
       "  <thead>\n",
       "    <tr style=\"text-align: right;\">\n",
       "      <th></th>\n",
       "      <th>var_A</th>\n",
       "      <th>var_B</th>\n",
       "      <th>var_C</th>\n",
       "      <th>var_D</th>\n",
       "    </tr>\n",
       "  </thead>\n",
       "  <tbody>\n",
       "    <tr>\n",
       "      <th>2018-01-01</th>\n",
       "      <td>-1.066732</td>\n",
       "      <td>0.520149</td>\n",
       "      <td>1.566308</td>\n",
       "      <td>0.224808</td>\n",
       "    </tr>\n",
       "    <tr>\n",
       "      <th>2018-01-02</th>\n",
       "      <td>1.367745</td>\n",
       "      <td>-1.796581</td>\n",
       "      <td>1.248066</td>\n",
       "      <td>-0.788747</td>\n",
       "    </tr>\n",
       "    <tr>\n",
       "      <th>2018-01-03</th>\n",
       "      <td>-0.740111</td>\n",
       "      <td>0.944649</td>\n",
       "      <td>-0.024702</td>\n",
       "      <td>1.166624</td>\n",
       "    </tr>\n",
       "    <tr>\n",
       "      <th>2018-01-04</th>\n",
       "      <td>0.689837</td>\n",
       "      <td>-1.045093</td>\n",
       "      <td>0.099687</td>\n",
       "      <td>0.659116</td>\n",
       "    </tr>\n",
       "    <tr>\n",
       "      <th>2018-01-05</th>\n",
       "      <td>-0.513988</td>\n",
       "      <td>0.935222</td>\n",
       "      <td>1.262412</td>\n",
       "      <td>-1.374424</td>\n",
       "    </tr>\n",
       "    <tr>\n",
       "      <th>2018-01-06</th>\n",
       "      <td>1.524611</td>\n",
       "      <td>-0.409084</td>\n",
       "      <td>0.293908</td>\n",
       "      <td>-1.333953</td>\n",
       "    </tr>\n",
       "  </tbody>\n",
       "</table>\n",
       "</div>"
      ],
      "text/plain": [
       "               var_A     var_B     var_C     var_D\n",
       "2018-01-01 -1.066732  0.520149  1.566308  0.224808\n",
       "2018-01-02  1.367745 -1.796581  1.248066 -0.788747\n",
       "2018-01-03 -0.740111  0.944649 -0.024702  1.166624\n",
       "2018-01-04  0.689837 -1.045093  0.099687  0.659116\n",
       "2018-01-05 -0.513988  0.935222  1.262412 -1.374424\n",
       "2018-01-06  1.524611 -0.409084  0.293908 -1.333953"
      ]
     },
     "execution_count": 310,
     "metadata": {},
     "output_type": "execute_result"
    }
   ],
   "source": [
    "df"
   ]
  },
  {
   "cell_type": "code",
   "execution_count": 311,
   "id": "cbe733e4",
   "metadata": {
    "ExecuteTime": {
     "end_time": "2022-05-20T20:18:11.568511Z",
     "start_time": "2022-05-20T20:18:11.493128Z"
    },
    "hidden": true
   },
   "outputs": [],
   "source": [
    "df1 = df.reindex(index = datas [ 0: 4 ], columns = list(df.columns) + ['var_E'])"
   ]
  },
  {
   "cell_type": "code",
   "execution_count": 312,
   "id": "42a78fd9",
   "metadata": {
    "ExecuteTime": {
     "end_time": "2022-05-20T20:18:11.661397Z",
     "start_time": "2022-05-20T20:18:11.573454Z"
    },
    "hidden": true
   },
   "outputs": [
    {
     "data": {
      "text/html": [
       "<div>\n",
       "<style scoped>\n",
       "    .dataframe tbody tr th:only-of-type {\n",
       "        vertical-align: middle;\n",
       "    }\n",
       "\n",
       "    .dataframe tbody tr th {\n",
       "        vertical-align: top;\n",
       "    }\n",
       "\n",
       "    .dataframe thead th {\n",
       "        text-align: right;\n",
       "    }\n",
       "</style>\n",
       "<table border=\"1\" class=\"dataframe\">\n",
       "  <thead>\n",
       "    <tr style=\"text-align: right;\">\n",
       "      <th></th>\n",
       "      <th>var_A</th>\n",
       "      <th>var_B</th>\n",
       "      <th>var_C</th>\n",
       "      <th>var_D</th>\n",
       "      <th>var_E</th>\n",
       "    </tr>\n",
       "  </thead>\n",
       "  <tbody>\n",
       "    <tr>\n",
       "      <th>2018-01-01</th>\n",
       "      <td>-1.066732</td>\n",
       "      <td>0.520149</td>\n",
       "      <td>1.566308</td>\n",
       "      <td>0.224808</td>\n",
       "      <td>NaN</td>\n",
       "    </tr>\n",
       "    <tr>\n",
       "      <th>2018-01-02</th>\n",
       "      <td>1.367745</td>\n",
       "      <td>-1.796581</td>\n",
       "      <td>1.248066</td>\n",
       "      <td>-0.788747</td>\n",
       "      <td>NaN</td>\n",
       "    </tr>\n",
       "    <tr>\n",
       "      <th>2018-01-03</th>\n",
       "      <td>-0.740111</td>\n",
       "      <td>0.944649</td>\n",
       "      <td>-0.024702</td>\n",
       "      <td>1.166624</td>\n",
       "      <td>NaN</td>\n",
       "    </tr>\n",
       "    <tr>\n",
       "      <th>2018-01-04</th>\n",
       "      <td>0.689837</td>\n",
       "      <td>-1.045093</td>\n",
       "      <td>0.099687</td>\n",
       "      <td>0.659116</td>\n",
       "      <td>NaN</td>\n",
       "    </tr>\n",
       "  </tbody>\n",
       "</table>\n",
       "</div>"
      ],
      "text/plain": [
       "               var_A     var_B     var_C     var_D  var_E\n",
       "2018-01-01 -1.066732  0.520149  1.566308  0.224808    NaN\n",
       "2018-01-02  1.367745 -1.796581  1.248066 -0.788747    NaN\n",
       "2018-01-03 -0.740111  0.944649 -0.024702  1.166624    NaN\n",
       "2018-01-04  0.689837 -1.045093  0.099687  0.659116    NaN"
      ]
     },
     "execution_count": 312,
     "metadata": {},
     "output_type": "execute_result"
    }
   ],
   "source": [
    "df1"
   ]
  },
  {
   "cell_type": "code",
   "execution_count": 313,
   "id": "d43b379b",
   "metadata": {
    "ExecuteTime": {
     "end_time": "2022-05-20T20:18:11.740047Z",
     "start_time": "2022-05-20T20:18:11.664205Z"
    },
    "hidden": true
   },
   "outputs": [],
   "source": [
    "df1.loc[datas[0]: datas [1], 'var_E'] = 77"
   ]
  },
  {
   "cell_type": "code",
   "execution_count": 314,
   "id": "82b21022",
   "metadata": {
    "ExecuteTime": {
     "end_time": "2022-05-20T20:18:11.852321Z",
     "start_time": "2022-05-20T20:18:11.750036Z"
    },
    "hidden": true
   },
   "outputs": [
    {
     "data": {
      "text/html": [
       "<div>\n",
       "<style scoped>\n",
       "    .dataframe tbody tr th:only-of-type {\n",
       "        vertical-align: middle;\n",
       "    }\n",
       "\n",
       "    .dataframe tbody tr th {\n",
       "        vertical-align: top;\n",
       "    }\n",
       "\n",
       "    .dataframe thead th {\n",
       "        text-align: right;\n",
       "    }\n",
       "</style>\n",
       "<table border=\"1\" class=\"dataframe\">\n",
       "  <thead>\n",
       "    <tr style=\"text-align: right;\">\n",
       "      <th></th>\n",
       "      <th>var_A</th>\n",
       "      <th>var_B</th>\n",
       "      <th>var_C</th>\n",
       "      <th>var_D</th>\n",
       "      <th>var_E</th>\n",
       "    </tr>\n",
       "  </thead>\n",
       "  <tbody>\n",
       "    <tr>\n",
       "      <th>2018-01-01</th>\n",
       "      <td>-1.066732</td>\n",
       "      <td>0.520149</td>\n",
       "      <td>1.566308</td>\n",
       "      <td>0.224808</td>\n",
       "      <td>77.0</td>\n",
       "    </tr>\n",
       "    <tr>\n",
       "      <th>2018-01-02</th>\n",
       "      <td>1.367745</td>\n",
       "      <td>-1.796581</td>\n",
       "      <td>1.248066</td>\n",
       "      <td>-0.788747</td>\n",
       "      <td>77.0</td>\n",
       "    </tr>\n",
       "    <tr>\n",
       "      <th>2018-01-03</th>\n",
       "      <td>-0.740111</td>\n",
       "      <td>0.944649</td>\n",
       "      <td>-0.024702</td>\n",
       "      <td>1.166624</td>\n",
       "      <td>NaN</td>\n",
       "    </tr>\n",
       "    <tr>\n",
       "      <th>2018-01-04</th>\n",
       "      <td>0.689837</td>\n",
       "      <td>-1.045093</td>\n",
       "      <td>0.099687</td>\n",
       "      <td>0.659116</td>\n",
       "      <td>NaN</td>\n",
       "    </tr>\n",
       "  </tbody>\n",
       "</table>\n",
       "</div>"
      ],
      "text/plain": [
       "               var_A     var_B     var_C     var_D  var_E\n",
       "2018-01-01 -1.066732  0.520149  1.566308  0.224808   77.0\n",
       "2018-01-02  1.367745 -1.796581  1.248066 -0.788747   77.0\n",
       "2018-01-03 -0.740111  0.944649 -0.024702  1.166624    NaN\n",
       "2018-01-04  0.689837 -1.045093  0.099687  0.659116    NaN"
      ]
     },
     "execution_count": 314,
     "metadata": {},
     "output_type": "execute_result"
    }
   ],
   "source": [
    "df1"
   ]
  },
  {
   "cell_type": "code",
   "execution_count": 315,
   "id": "f657a1a1",
   "metadata": {
    "ExecuteTime": {
     "end_time": "2022-05-20T20:18:11.945120Z",
     "start_time": "2022-05-20T20:18:11.855321Z"
    },
    "hidden": true
   },
   "outputs": [
    {
     "data": {
      "text/html": [
       "<div>\n",
       "<style scoped>\n",
       "    .dataframe tbody tr th:only-of-type {\n",
       "        vertical-align: middle;\n",
       "    }\n",
       "\n",
       "    .dataframe tbody tr th {\n",
       "        vertical-align: top;\n",
       "    }\n",
       "\n",
       "    .dataframe thead th {\n",
       "        text-align: right;\n",
       "    }\n",
       "</style>\n",
       "<table border=\"1\" class=\"dataframe\">\n",
       "  <thead>\n",
       "    <tr style=\"text-align: right;\">\n",
       "      <th></th>\n",
       "      <th>var_A</th>\n",
       "      <th>var_B</th>\n",
       "      <th>var_C</th>\n",
       "      <th>var_D</th>\n",
       "      <th>var_E</th>\n",
       "    </tr>\n",
       "  </thead>\n",
       "  <tbody>\n",
       "    <tr>\n",
       "      <th>count</th>\n",
       "      <td>4.000000</td>\n",
       "      <td>4.000000</td>\n",
       "      <td>4.000000</td>\n",
       "      <td>4.000000</td>\n",
       "      <td>2.0</td>\n",
       "    </tr>\n",
       "    <tr>\n",
       "      <th>mean</th>\n",
       "      <td>0.062685</td>\n",
       "      <td>-0.344219</td>\n",
       "      <td>0.722340</td>\n",
       "      <td>0.315450</td>\n",
       "      <td>77.0</td>\n",
       "    </tr>\n",
       "    <tr>\n",
       "      <th>std</th>\n",
       "      <td>1.157089</td>\n",
       "      <td>1.292142</td>\n",
       "      <td>0.803002</td>\n",
       "      <td>0.830677</td>\n",
       "      <td>0.0</td>\n",
       "    </tr>\n",
       "    <tr>\n",
       "      <th>min</th>\n",
       "      <td>-1.066732</td>\n",
       "      <td>-1.796581</td>\n",
       "      <td>-0.024702</td>\n",
       "      <td>-0.788747</td>\n",
       "      <td>77.0</td>\n",
       "    </tr>\n",
       "    <tr>\n",
       "      <th>25%</th>\n",
       "      <td>-0.821766</td>\n",
       "      <td>-1.232965</td>\n",
       "      <td>0.068590</td>\n",
       "      <td>-0.028581</td>\n",
       "      <td>77.0</td>\n",
       "    </tr>\n",
       "    <tr>\n",
       "      <th>50%</th>\n",
       "      <td>-0.025137</td>\n",
       "      <td>-0.262472</td>\n",
       "      <td>0.673877</td>\n",
       "      <td>0.441962</td>\n",
       "      <td>77.0</td>\n",
       "    </tr>\n",
       "    <tr>\n",
       "      <th>75%</th>\n",
       "      <td>0.859314</td>\n",
       "      <td>0.626274</td>\n",
       "      <td>1.327626</td>\n",
       "      <td>0.785993</td>\n",
       "      <td>77.0</td>\n",
       "    </tr>\n",
       "    <tr>\n",
       "      <th>max</th>\n",
       "      <td>1.367745</td>\n",
       "      <td>0.944649</td>\n",
       "      <td>1.566308</td>\n",
       "      <td>1.166624</td>\n",
       "      <td>77.0</td>\n",
       "    </tr>\n",
       "  </tbody>\n",
       "</table>\n",
       "</div>"
      ],
      "text/plain": [
       "          var_A     var_B     var_C     var_D  var_E\n",
       "count  4.000000  4.000000  4.000000  4.000000    2.0\n",
       "mean   0.062685 -0.344219  0.722340  0.315450   77.0\n",
       "std    1.157089  1.292142  0.803002  0.830677    0.0\n",
       "min   -1.066732 -1.796581 -0.024702 -0.788747   77.0\n",
       "25%   -0.821766 -1.232965  0.068590 -0.028581   77.0\n",
       "50%   -0.025137 -0.262472  0.673877  0.441962   77.0\n",
       "75%    0.859314  0.626274  1.327626  0.785993   77.0\n",
       "max    1.367745  0.944649  1.566308  1.166624   77.0"
      ]
     },
     "execution_count": 315,
     "metadata": {},
     "output_type": "execute_result"
    }
   ],
   "source": [
    "df1.describe()"
   ]
  },
  {
   "cell_type": "markdown",
   "id": "cfde67c2",
   "metadata": {
    "heading_collapsed": true
   },
   "source": [
    "### 2.7.2. Dados faltantes NaN"
   ]
  },
  {
   "cell_type": "code",
   "execution_count": 316,
   "id": "a68f863f",
   "metadata": {
    "ExecuteTime": {
     "end_time": "2022-05-20T20:18:12.039255Z",
     "start_time": "2022-05-20T20:18:11.948118Z"
    },
    "hidden": true
   },
   "outputs": [],
   "source": [
    "datas = pd.date_range('20180101', periods = 60, freq=\"D\")\n",
    "\n",
    "df = pd.DataFrame(np.random.randn(60,5), index = datas, columns = list(\"ABCDE\")) "
   ]
  },
  {
   "cell_type": "code",
   "execution_count": 317,
   "id": "81d243c9",
   "metadata": {
    "ExecuteTime": {
     "end_time": "2022-05-20T20:18:12.138605Z",
     "start_time": "2022-05-20T20:18:12.042233Z"
    },
    "hidden": true,
    "scrolled": true
   },
   "outputs": [
    {
     "data": {
      "text/html": [
       "<div>\n",
       "<style scoped>\n",
       "    .dataframe tbody tr th:only-of-type {\n",
       "        vertical-align: middle;\n",
       "    }\n",
       "\n",
       "    .dataframe tbody tr th {\n",
       "        vertical-align: top;\n",
       "    }\n",
       "\n",
       "    .dataframe thead th {\n",
       "        text-align: right;\n",
       "    }\n",
       "</style>\n",
       "<table border=\"1\" class=\"dataframe\">\n",
       "  <thead>\n",
       "    <tr style=\"text-align: right;\">\n",
       "      <th></th>\n",
       "      <th>A</th>\n",
       "      <th>B</th>\n",
       "      <th>C</th>\n",
       "      <th>D</th>\n",
       "      <th>E</th>\n",
       "    </tr>\n",
       "  </thead>\n",
       "  <tbody>\n",
       "    <tr>\n",
       "      <th>2018-01-01</th>\n",
       "      <td>-0.654168</td>\n",
       "      <td>-0.309652</td>\n",
       "      <td>-0.273603</td>\n",
       "      <td>0.875092</td>\n",
       "      <td>0.016525</td>\n",
       "    </tr>\n",
       "    <tr>\n",
       "      <th>2018-01-02</th>\n",
       "      <td>-0.481874</td>\n",
       "      <td>-0.621593</td>\n",
       "      <td>0.222529</td>\n",
       "      <td>-1.115039</td>\n",
       "      <td>0.707981</td>\n",
       "    </tr>\n",
       "    <tr>\n",
       "      <th>2018-01-03</th>\n",
       "      <td>-0.267020</td>\n",
       "      <td>-0.881275</td>\n",
       "      <td>1.465679</td>\n",
       "      <td>-0.286260</td>\n",
       "      <td>0.120808</td>\n",
       "    </tr>\n",
       "  </tbody>\n",
       "</table>\n",
       "</div>"
      ],
      "text/plain": [
       "                   A         B         C         D         E\n",
       "2018-01-01 -0.654168 -0.309652 -0.273603  0.875092  0.016525\n",
       "2018-01-02 -0.481874 -0.621593  0.222529 -1.115039  0.707981\n",
       "2018-01-03 -0.267020 -0.881275  1.465679 -0.286260  0.120808"
      ]
     },
     "execution_count": 317,
     "metadata": {},
     "output_type": "execute_result"
    }
   ],
   "source": [
    "df.head(3)"
   ]
  },
  {
   "cell_type": "code",
   "execution_count": 318,
   "id": "3c1ffd96",
   "metadata": {
    "ExecuteTime": {
     "end_time": "2022-05-20T20:18:12.216568Z",
     "start_time": "2022-05-20T20:18:12.142598Z"
    },
    "hidden": true
   },
   "outputs": [],
   "source": [
    "df['F'] = df.A[df.A > 0]"
   ]
  },
  {
   "cell_type": "code",
   "execution_count": 319,
   "id": "182387c8",
   "metadata": {
    "ExecuteTime": {
     "end_time": "2022-05-20T20:18:12.320429Z",
     "start_time": "2022-05-20T20:18:12.222562Z"
    },
    "hidden": true,
    "scrolled": true
   },
   "outputs": [
    {
     "data": {
      "text/html": [
       "<div>\n",
       "<style scoped>\n",
       "    .dataframe tbody tr th:only-of-type {\n",
       "        vertical-align: middle;\n",
       "    }\n",
       "\n",
       "    .dataframe tbody tr th {\n",
       "        vertical-align: top;\n",
       "    }\n",
       "\n",
       "    .dataframe thead th {\n",
       "        text-align: right;\n",
       "    }\n",
       "</style>\n",
       "<table border=\"1\" class=\"dataframe\">\n",
       "  <thead>\n",
       "    <tr style=\"text-align: right;\">\n",
       "      <th></th>\n",
       "      <th>A</th>\n",
       "      <th>B</th>\n",
       "      <th>C</th>\n",
       "      <th>D</th>\n",
       "      <th>E</th>\n",
       "      <th>F</th>\n",
       "    </tr>\n",
       "  </thead>\n",
       "  <tbody>\n",
       "    <tr>\n",
       "      <th>2018-01-01</th>\n",
       "      <td>-0.654168</td>\n",
       "      <td>-0.309652</td>\n",
       "      <td>-0.273603</td>\n",
       "      <td>0.875092</td>\n",
       "      <td>0.016525</td>\n",
       "      <td>NaN</td>\n",
       "    </tr>\n",
       "    <tr>\n",
       "      <th>2018-01-02</th>\n",
       "      <td>-0.481874</td>\n",
       "      <td>-0.621593</td>\n",
       "      <td>0.222529</td>\n",
       "      <td>-1.115039</td>\n",
       "      <td>0.707981</td>\n",
       "      <td>NaN</td>\n",
       "    </tr>\n",
       "    <tr>\n",
       "      <th>2018-01-03</th>\n",
       "      <td>-0.267020</td>\n",
       "      <td>-0.881275</td>\n",
       "      <td>1.465679</td>\n",
       "      <td>-0.286260</td>\n",
       "      <td>0.120808</td>\n",
       "      <td>NaN</td>\n",
       "    </tr>\n",
       "  </tbody>\n",
       "</table>\n",
       "</div>"
      ],
      "text/plain": [
       "                   A         B         C         D         E   F\n",
       "2018-01-01 -0.654168 -0.309652 -0.273603  0.875092  0.016525 NaN\n",
       "2018-01-02 -0.481874 -0.621593  0.222529 -1.115039  0.707981 NaN\n",
       "2018-01-03 -0.267020 -0.881275  1.465679 -0.286260  0.120808 NaN"
      ]
     },
     "execution_count": 319,
     "metadata": {},
     "output_type": "execute_result"
    }
   ],
   "source": [
    "df.head(3)"
   ]
  },
  {
   "cell_type": "code",
   "execution_count": 320,
   "id": "8de8d0d2",
   "metadata": {
    "ExecuteTime": {
     "end_time": "2022-05-20T20:18:12.414544Z",
     "start_time": "2022-05-20T20:18:12.324425Z"
    },
    "hidden": true
   },
   "outputs": [],
   "source": [
    "df1 = df.copy()"
   ]
  },
  {
   "cell_type": "code",
   "execution_count": 321,
   "id": "e31134a0",
   "metadata": {
    "ExecuteTime": {
     "end_time": "2022-05-20T20:18:12.494456Z",
     "start_time": "2022-05-20T20:18:12.421551Z"
    },
    "hidden": true
   },
   "outputs": [],
   "source": [
    "df2 = df.copy()"
   ]
  },
  {
   "cell_type": "markdown",
   "id": "f29a2134",
   "metadata": {
    "hidden": true
   },
   "source": [
    "**Extração dos valores NaN. Sempre que ultilizamos este comando, também perdemos os demais dados da linha.**"
   ]
  },
  {
   "cell_type": "code",
   "execution_count": 322,
   "id": "cda1690e",
   "metadata": {
    "ExecuteTime": {
     "end_time": "2022-05-20T20:18:12.574622Z",
     "start_time": "2022-05-20T20:18:12.498775Z"
    },
    "hidden": true,
    "scrolled": true
   },
   "outputs": [
    {
     "data": {
      "text/plain": [
       "(26, 6)"
      ]
     },
     "execution_count": 322,
     "metadata": {},
     "output_type": "execute_result"
    }
   ],
   "source": [
    "df1.dropna().shape "
   ]
  },
  {
   "cell_type": "code",
   "execution_count": 323,
   "id": "ddf8e687",
   "metadata": {
    "ExecuteTime": {
     "end_time": "2022-05-20T20:18:12.671559Z",
     "start_time": "2022-05-20T20:18:12.579617Z"
    },
    "hidden": true
   },
   "outputs": [
    {
     "data": {
      "text/plain": [
       "(60, 6)"
      ]
     },
     "execution_count": 323,
     "metadata": {},
     "output_type": "execute_result"
    }
   ],
   "source": [
    "df.shape"
   ]
  },
  {
   "cell_type": "code",
   "execution_count": 324,
   "id": "7217d682",
   "metadata": {
    "ExecuteTime": {
     "end_time": "2022-05-20T20:18:12.781734Z",
     "start_time": "2022-05-20T20:18:12.681552Z"
    },
    "hidden": true
   },
   "outputs": [
    {
     "data": {
      "text/html": [
       "<div>\n",
       "<style scoped>\n",
       "    .dataframe tbody tr th:only-of-type {\n",
       "        vertical-align: middle;\n",
       "    }\n",
       "\n",
       "    .dataframe tbody tr th {\n",
       "        vertical-align: top;\n",
       "    }\n",
       "\n",
       "    .dataframe thead th {\n",
       "        text-align: right;\n",
       "    }\n",
       "</style>\n",
       "<table border=\"1\" class=\"dataframe\">\n",
       "  <thead>\n",
       "    <tr style=\"text-align: right;\">\n",
       "      <th></th>\n",
       "      <th>A</th>\n",
       "      <th>B</th>\n",
       "      <th>C</th>\n",
       "      <th>D</th>\n",
       "      <th>E</th>\n",
       "      <th>F</th>\n",
       "    </tr>\n",
       "  </thead>\n",
       "  <tbody>\n",
       "    <tr>\n",
       "      <th>2018-01-01</th>\n",
       "      <td>-0.654168</td>\n",
       "      <td>-0.309652</td>\n",
       "      <td>-0.273603</td>\n",
       "      <td>0.875092</td>\n",
       "      <td>0.016525</td>\n",
       "      <td>NaN</td>\n",
       "    </tr>\n",
       "    <tr>\n",
       "      <th>2018-01-02</th>\n",
       "      <td>-0.481874</td>\n",
       "      <td>-0.621593</td>\n",
       "      <td>0.222529</td>\n",
       "      <td>-1.115039</td>\n",
       "      <td>0.707981</td>\n",
       "      <td>NaN</td>\n",
       "    </tr>\n",
       "    <tr>\n",
       "      <th>2018-01-03</th>\n",
       "      <td>-0.267020</td>\n",
       "      <td>-0.881275</td>\n",
       "      <td>1.465679</td>\n",
       "      <td>-0.286260</td>\n",
       "      <td>0.120808</td>\n",
       "      <td>NaN</td>\n",
       "    </tr>\n",
       "    <tr>\n",
       "      <th>2018-01-04</th>\n",
       "      <td>0.319681</td>\n",
       "      <td>-0.391481</td>\n",
       "      <td>1.315878</td>\n",
       "      <td>0.549417</td>\n",
       "      <td>0.784087</td>\n",
       "      <td>0.319681</td>\n",
       "    </tr>\n",
       "    <tr>\n",
       "      <th>2018-01-05</th>\n",
       "      <td>-2.262988</td>\n",
       "      <td>0.470642</td>\n",
       "      <td>-0.476137</td>\n",
       "      <td>0.897366</td>\n",
       "      <td>-0.009013</td>\n",
       "      <td>NaN</td>\n",
       "    </tr>\n",
       "  </tbody>\n",
       "</table>\n",
       "</div>"
      ],
      "text/plain": [
       "                   A         B         C         D         E         F\n",
       "2018-01-01 -0.654168 -0.309652 -0.273603  0.875092  0.016525       NaN\n",
       "2018-01-02 -0.481874 -0.621593  0.222529 -1.115039  0.707981       NaN\n",
       "2018-01-03 -0.267020 -0.881275  1.465679 -0.286260  0.120808       NaN\n",
       "2018-01-04  0.319681 -0.391481  1.315878  0.549417  0.784087  0.319681\n",
       "2018-01-05 -2.262988  0.470642 -0.476137  0.897366 -0.009013       NaN"
      ]
     },
     "execution_count": 324,
     "metadata": {},
     "output_type": "execute_result"
    }
   ],
   "source": [
    "df2.head()"
   ]
  },
  {
   "cell_type": "markdown",
   "id": "fb786de3",
   "metadata": {
    "hidden": true
   },
   "source": [
    "**Substituição dos valores NaN pela média da coluna F**"
   ]
  },
  {
   "cell_type": "code",
   "execution_count": 325,
   "id": "48461972",
   "metadata": {
    "ExecuteTime": {
     "end_time": "2022-05-20T20:18:12.860558Z",
     "start_time": "2022-05-20T20:18:12.784731Z"
    },
    "hidden": true
   },
   "outputs": [
    {
     "data": {
      "text/plain": [
       "2018-01-01    0.706365\n",
       "2018-01-02    0.706365\n",
       "2018-01-03    0.706365\n",
       "2018-01-04    0.319681\n",
       "2018-01-05    0.706365\n",
       "2018-01-06    0.706365\n",
       "2018-01-07    0.706365\n",
       "2018-01-08    0.225591\n",
       "2018-01-09    0.706365\n",
       "2018-01-10    2.434624\n",
       "2018-01-11    0.706365\n",
       "2018-01-12    0.706365\n",
       "2018-01-13    0.222382\n",
       "2018-01-14    0.706365\n",
       "2018-01-15    1.028701\n",
       "2018-01-16    0.341193\n",
       "2018-01-17    0.706365\n",
       "2018-01-18    0.706365\n",
       "2018-01-19    0.706365\n",
       "2018-01-20    0.706365\n",
       "2018-01-21    0.706365\n",
       "2018-01-22    0.706365\n",
       "2018-01-23    0.706365\n",
       "2018-01-24    0.858166\n",
       "2018-01-25    0.706365\n",
       "2018-01-26    0.706365\n",
       "2018-01-27    0.646722\n",
       "2018-01-28    0.466837\n",
       "2018-01-29    1.846664\n",
       "2018-01-30    0.918048\n",
       "2018-01-31    0.478440\n",
       "2018-02-01    0.706365\n",
       "2018-02-02    1.203912\n",
       "2018-02-03    0.095262\n",
       "2018-02-04    0.706365\n",
       "2018-02-05    0.706365\n",
       "2018-02-06    0.706365\n",
       "2018-02-07    0.706365\n",
       "2018-02-08    0.152589\n",
       "2018-02-09    1.039839\n",
       "2018-02-10    1.083531\n",
       "2018-02-11    0.009406\n",
       "2018-02-12    0.706365\n",
       "2018-02-13    0.412053\n",
       "2018-02-14    0.706365\n",
       "2018-02-15    1.595038\n",
       "2018-02-16    0.706365\n",
       "2018-02-17    0.706365\n",
       "2018-02-18    0.706365\n",
       "2018-02-19    0.264955\n",
       "2018-02-20    0.706365\n",
       "2018-02-21    0.706365\n",
       "2018-02-22    0.748759\n",
       "2018-02-23    0.822987\n",
       "2018-02-24    0.706365\n",
       "2018-02-25    0.454718\n",
       "2018-02-26    0.446176\n",
       "2018-02-27    0.249223\n",
       "2018-02-28    0.706365\n",
       "2018-03-01    0.706365\n",
       "Freq: D, Name: F, dtype: float64"
      ]
     },
     "execution_count": 325,
     "metadata": {},
     "output_type": "execute_result"
    }
   ],
   "source": [
    "df2.F.fillna(np.mean(df2.F))"
   ]
  },
  {
   "cell_type": "code",
   "execution_count": 326,
   "id": "32360300",
   "metadata": {
    "ExecuteTime": {
     "end_time": "2022-05-20T20:18:12.955840Z",
     "start_time": "2022-05-20T20:18:12.864556Z"
    },
    "hidden": true
   },
   "outputs": [],
   "source": [
    "df3 = df.copy()"
   ]
  },
  {
   "cell_type": "markdown",
   "id": "3e1b3d7b",
   "metadata": {
    "hidden": true
   },
   "source": [
    "**Substituição de TODOS os valores NaN da tabela por 777**"
   ]
  },
  {
   "cell_type": "code",
   "execution_count": 327,
   "id": "0f50e5ac",
   "metadata": {
    "ExecuteTime": {
     "end_time": "2022-05-20T20:18:13.071179Z",
     "start_time": "2022-05-20T20:18:12.962846Z"
    },
    "hidden": true
   },
   "outputs": [
    {
     "data": {
      "text/html": [
       "<div>\n",
       "<style scoped>\n",
       "    .dataframe tbody tr th:only-of-type {\n",
       "        vertical-align: middle;\n",
       "    }\n",
       "\n",
       "    .dataframe tbody tr th {\n",
       "        vertical-align: top;\n",
       "    }\n",
       "\n",
       "    .dataframe thead th {\n",
       "        text-align: right;\n",
       "    }\n",
       "</style>\n",
       "<table border=\"1\" class=\"dataframe\">\n",
       "  <thead>\n",
       "    <tr style=\"text-align: right;\">\n",
       "      <th></th>\n",
       "      <th>A</th>\n",
       "      <th>B</th>\n",
       "      <th>C</th>\n",
       "      <th>D</th>\n",
       "      <th>E</th>\n",
       "      <th>F</th>\n",
       "    </tr>\n",
       "  </thead>\n",
       "  <tbody>\n",
       "    <tr>\n",
       "      <th>2018-01-01</th>\n",
       "      <td>-0.654168</td>\n",
       "      <td>-0.309652</td>\n",
       "      <td>-0.273603</td>\n",
       "      <td>0.875092</td>\n",
       "      <td>0.016525</td>\n",
       "      <td>777.000000</td>\n",
       "    </tr>\n",
       "    <tr>\n",
       "      <th>2018-01-02</th>\n",
       "      <td>-0.481874</td>\n",
       "      <td>-0.621593</td>\n",
       "      <td>0.222529</td>\n",
       "      <td>-1.115039</td>\n",
       "      <td>0.707981</td>\n",
       "      <td>777.000000</td>\n",
       "    </tr>\n",
       "    <tr>\n",
       "      <th>2018-01-03</th>\n",
       "      <td>-0.267020</td>\n",
       "      <td>-0.881275</td>\n",
       "      <td>1.465679</td>\n",
       "      <td>-0.286260</td>\n",
       "      <td>0.120808</td>\n",
       "      <td>777.000000</td>\n",
       "    </tr>\n",
       "    <tr>\n",
       "      <th>2018-01-04</th>\n",
       "      <td>0.319681</td>\n",
       "      <td>-0.391481</td>\n",
       "      <td>1.315878</td>\n",
       "      <td>0.549417</td>\n",
       "      <td>0.784087</td>\n",
       "      <td>0.319681</td>\n",
       "    </tr>\n",
       "    <tr>\n",
       "      <th>2018-01-05</th>\n",
       "      <td>-2.262988</td>\n",
       "      <td>0.470642</td>\n",
       "      <td>-0.476137</td>\n",
       "      <td>0.897366</td>\n",
       "      <td>-0.009013</td>\n",
       "      <td>777.000000</td>\n",
       "    </tr>\n",
       "    <tr>\n",
       "      <th>2018-01-06</th>\n",
       "      <td>-1.032781</td>\n",
       "      <td>0.345392</td>\n",
       "      <td>0.145501</td>\n",
       "      <td>0.034347</td>\n",
       "      <td>-0.406285</td>\n",
       "      <td>777.000000</td>\n",
       "    </tr>\n",
       "    <tr>\n",
       "      <th>2018-01-07</th>\n",
       "      <td>-2.351212</td>\n",
       "      <td>-0.736602</td>\n",
       "      <td>0.225027</td>\n",
       "      <td>0.839227</td>\n",
       "      <td>1.453429</td>\n",
       "      <td>777.000000</td>\n",
       "    </tr>\n",
       "    <tr>\n",
       "      <th>2018-01-08</th>\n",
       "      <td>0.225591</td>\n",
       "      <td>0.730369</td>\n",
       "      <td>-0.633768</td>\n",
       "      <td>-0.989039</td>\n",
       "      <td>1.212694</td>\n",
       "      <td>0.225591</td>\n",
       "    </tr>\n",
       "    <tr>\n",
       "      <th>2018-01-09</th>\n",
       "      <td>-1.536912</td>\n",
       "      <td>-0.101722</td>\n",
       "      <td>0.511987</td>\n",
       "      <td>-0.757053</td>\n",
       "      <td>0.859589</td>\n",
       "      <td>777.000000</td>\n",
       "    </tr>\n",
       "    <tr>\n",
       "      <th>2018-01-10</th>\n",
       "      <td>2.434624</td>\n",
       "      <td>-0.047553</td>\n",
       "      <td>0.247911</td>\n",
       "      <td>0.666573</td>\n",
       "      <td>1.595213</td>\n",
       "      <td>2.434624</td>\n",
       "    </tr>\n",
       "    <tr>\n",
       "      <th>2018-01-11</th>\n",
       "      <td>-0.771024</td>\n",
       "      <td>-0.815115</td>\n",
       "      <td>0.448965</td>\n",
       "      <td>0.809814</td>\n",
       "      <td>0.959054</td>\n",
       "      <td>777.000000</td>\n",
       "    </tr>\n",
       "    <tr>\n",
       "      <th>2018-01-12</th>\n",
       "      <td>-0.198636</td>\n",
       "      <td>1.645647</td>\n",
       "      <td>-0.412002</td>\n",
       "      <td>-0.967870</td>\n",
       "      <td>-0.190514</td>\n",
       "      <td>777.000000</td>\n",
       "    </tr>\n",
       "    <tr>\n",
       "      <th>2018-01-13</th>\n",
       "      <td>0.222382</td>\n",
       "      <td>-0.157396</td>\n",
       "      <td>-0.228453</td>\n",
       "      <td>-0.182279</td>\n",
       "      <td>1.455363</td>\n",
       "      <td>0.222382</td>\n",
       "    </tr>\n",
       "    <tr>\n",
       "      <th>2018-01-14</th>\n",
       "      <td>-1.000099</td>\n",
       "      <td>-0.312010</td>\n",
       "      <td>-0.052634</td>\n",
       "      <td>0.768971</td>\n",
       "      <td>-0.673613</td>\n",
       "      <td>777.000000</td>\n",
       "    </tr>\n",
       "    <tr>\n",
       "      <th>2018-01-15</th>\n",
       "      <td>1.028701</td>\n",
       "      <td>0.464831</td>\n",
       "      <td>-1.004583</td>\n",
       "      <td>-1.304811</td>\n",
       "      <td>-0.194518</td>\n",
       "      <td>1.028701</td>\n",
       "    </tr>\n",
       "    <tr>\n",
       "      <th>2018-01-16</th>\n",
       "      <td>0.341193</td>\n",
       "      <td>0.706689</td>\n",
       "      <td>-1.262760</td>\n",
       "      <td>0.132469</td>\n",
       "      <td>1.666854</td>\n",
       "      <td>0.341193</td>\n",
       "    </tr>\n",
       "    <tr>\n",
       "      <th>2018-01-17</th>\n",
       "      <td>-0.691304</td>\n",
       "      <td>1.595394</td>\n",
       "      <td>0.939389</td>\n",
       "      <td>-0.721583</td>\n",
       "      <td>0.494411</td>\n",
       "      <td>777.000000</td>\n",
       "    </tr>\n",
       "    <tr>\n",
       "      <th>2018-01-18</th>\n",
       "      <td>-1.211211</td>\n",
       "      <td>-1.169636</td>\n",
       "      <td>0.941930</td>\n",
       "      <td>-0.547647</td>\n",
       "      <td>-0.406913</td>\n",
       "      <td>777.000000</td>\n",
       "    </tr>\n",
       "    <tr>\n",
       "      <th>2018-01-19</th>\n",
       "      <td>-0.462116</td>\n",
       "      <td>0.340920</td>\n",
       "      <td>-2.765089</td>\n",
       "      <td>-0.235047</td>\n",
       "      <td>-0.150916</td>\n",
       "      <td>777.000000</td>\n",
       "    </tr>\n",
       "    <tr>\n",
       "      <th>2018-01-20</th>\n",
       "      <td>-0.117101</td>\n",
       "      <td>-0.171972</td>\n",
       "      <td>-1.163685</td>\n",
       "      <td>-0.214855</td>\n",
       "      <td>-0.095028</td>\n",
       "      <td>777.000000</td>\n",
       "    </tr>\n",
       "    <tr>\n",
       "      <th>2018-01-21</th>\n",
       "      <td>-0.977322</td>\n",
       "      <td>-2.025066</td>\n",
       "      <td>1.208158</td>\n",
       "      <td>-0.783335</td>\n",
       "      <td>3.561379</td>\n",
       "      <td>777.000000</td>\n",
       "    </tr>\n",
       "    <tr>\n",
       "      <th>2018-01-22</th>\n",
       "      <td>-0.902193</td>\n",
       "      <td>-0.150797</td>\n",
       "      <td>-1.273229</td>\n",
       "      <td>0.780569</td>\n",
       "      <td>-0.302795</td>\n",
       "      <td>777.000000</td>\n",
       "    </tr>\n",
       "    <tr>\n",
       "      <th>2018-01-23</th>\n",
       "      <td>-0.187491</td>\n",
       "      <td>-1.481337</td>\n",
       "      <td>-1.509552</td>\n",
       "      <td>0.447742</td>\n",
       "      <td>0.655698</td>\n",
       "      <td>777.000000</td>\n",
       "    </tr>\n",
       "    <tr>\n",
       "      <th>2018-01-24</th>\n",
       "      <td>0.858166</td>\n",
       "      <td>0.390577</td>\n",
       "      <td>-0.484964</td>\n",
       "      <td>1.276252</td>\n",
       "      <td>0.180753</td>\n",
       "      <td>0.858166</td>\n",
       "    </tr>\n",
       "    <tr>\n",
       "      <th>2018-01-25</th>\n",
       "      <td>-0.057747</td>\n",
       "      <td>0.349367</td>\n",
       "      <td>1.622185</td>\n",
       "      <td>-0.322285</td>\n",
       "      <td>0.012223</td>\n",
       "      <td>777.000000</td>\n",
       "    </tr>\n",
       "    <tr>\n",
       "      <th>2018-01-26</th>\n",
       "      <td>-0.947469</td>\n",
       "      <td>-1.648788</td>\n",
       "      <td>0.048520</td>\n",
       "      <td>0.665299</td>\n",
       "      <td>-0.367170</td>\n",
       "      <td>777.000000</td>\n",
       "    </tr>\n",
       "    <tr>\n",
       "      <th>2018-01-27</th>\n",
       "      <td>0.646722</td>\n",
       "      <td>0.574849</td>\n",
       "      <td>-0.120046</td>\n",
       "      <td>0.938630</td>\n",
       "      <td>-0.620383</td>\n",
       "      <td>0.646722</td>\n",
       "    </tr>\n",
       "    <tr>\n",
       "      <th>2018-01-28</th>\n",
       "      <td>0.466837</td>\n",
       "      <td>0.327087</td>\n",
       "      <td>-1.085567</td>\n",
       "      <td>-0.066749</td>\n",
       "      <td>1.143209</td>\n",
       "      <td>0.466837</td>\n",
       "    </tr>\n",
       "    <tr>\n",
       "      <th>2018-01-29</th>\n",
       "      <td>1.846664</td>\n",
       "      <td>-1.469723</td>\n",
       "      <td>-0.935677</td>\n",
       "      <td>-0.268591</td>\n",
       "      <td>-0.201271</td>\n",
       "      <td>1.846664</td>\n",
       "    </tr>\n",
       "    <tr>\n",
       "      <th>2018-01-30</th>\n",
       "      <td>0.918048</td>\n",
       "      <td>-0.333929</td>\n",
       "      <td>-0.779129</td>\n",
       "      <td>-0.884331</td>\n",
       "      <td>0.898084</td>\n",
       "      <td>0.918048</td>\n",
       "    </tr>\n",
       "    <tr>\n",
       "      <th>2018-01-31</th>\n",
       "      <td>0.478440</td>\n",
       "      <td>-0.463070</td>\n",
       "      <td>0.358938</td>\n",
       "      <td>-0.765723</td>\n",
       "      <td>-0.428200</td>\n",
       "      <td>0.478440</td>\n",
       "    </tr>\n",
       "    <tr>\n",
       "      <th>2018-02-01</th>\n",
       "      <td>-1.162195</td>\n",
       "      <td>-0.562062</td>\n",
       "      <td>-0.190977</td>\n",
       "      <td>0.932488</td>\n",
       "      <td>-0.976753</td>\n",
       "      <td>777.000000</td>\n",
       "    </tr>\n",
       "    <tr>\n",
       "      <th>2018-02-02</th>\n",
       "      <td>1.203912</td>\n",
       "      <td>0.511769</td>\n",
       "      <td>-0.105001</td>\n",
       "      <td>0.519819</td>\n",
       "      <td>0.361239</td>\n",
       "      <td>1.203912</td>\n",
       "    </tr>\n",
       "    <tr>\n",
       "      <th>2018-02-03</th>\n",
       "      <td>0.095262</td>\n",
       "      <td>0.877769</td>\n",
       "      <td>-0.189101</td>\n",
       "      <td>0.108995</td>\n",
       "      <td>0.155730</td>\n",
       "      <td>0.095262</td>\n",
       "    </tr>\n",
       "    <tr>\n",
       "      <th>2018-02-04</th>\n",
       "      <td>-0.092293</td>\n",
       "      <td>0.364076</td>\n",
       "      <td>-0.700815</td>\n",
       "      <td>0.659846</td>\n",
       "      <td>0.931126</td>\n",
       "      <td>777.000000</td>\n",
       "    </tr>\n",
       "    <tr>\n",
       "      <th>2018-02-05</th>\n",
       "      <td>-0.212261</td>\n",
       "      <td>-0.627503</td>\n",
       "      <td>0.017108</td>\n",
       "      <td>0.901387</td>\n",
       "      <td>0.959630</td>\n",
       "      <td>777.000000</td>\n",
       "    </tr>\n",
       "    <tr>\n",
       "      <th>2018-02-06</th>\n",
       "      <td>-0.006326</td>\n",
       "      <td>-1.064396</td>\n",
       "      <td>0.366982</td>\n",
       "      <td>0.194963</td>\n",
       "      <td>0.102410</td>\n",
       "      <td>777.000000</td>\n",
       "    </tr>\n",
       "    <tr>\n",
       "      <th>2018-02-07</th>\n",
       "      <td>-0.804815</td>\n",
       "      <td>-0.563766</td>\n",
       "      <td>0.304609</td>\n",
       "      <td>-0.012320</td>\n",
       "      <td>-2.823359</td>\n",
       "      <td>777.000000</td>\n",
       "    </tr>\n",
       "    <tr>\n",
       "      <th>2018-02-08</th>\n",
       "      <td>0.152589</td>\n",
       "      <td>-0.513723</td>\n",
       "      <td>0.451043</td>\n",
       "      <td>0.710556</td>\n",
       "      <td>-0.640952</td>\n",
       "      <td>0.152589</td>\n",
       "    </tr>\n",
       "    <tr>\n",
       "      <th>2018-02-09</th>\n",
       "      <td>1.039839</td>\n",
       "      <td>-0.014448</td>\n",
       "      <td>1.712398</td>\n",
       "      <td>1.177330</td>\n",
       "      <td>-0.799132</td>\n",
       "      <td>1.039839</td>\n",
       "    </tr>\n",
       "    <tr>\n",
       "      <th>2018-02-10</th>\n",
       "      <td>1.083531</td>\n",
       "      <td>2.355896</td>\n",
       "      <td>-1.246669</td>\n",
       "      <td>1.360141</td>\n",
       "      <td>1.103300</td>\n",
       "      <td>1.083531</td>\n",
       "    </tr>\n",
       "    <tr>\n",
       "      <th>2018-02-11</th>\n",
       "      <td>0.009406</td>\n",
       "      <td>1.578299</td>\n",
       "      <td>-0.236008</td>\n",
       "      <td>-1.675771</td>\n",
       "      <td>1.357240</td>\n",
       "      <td>0.009406</td>\n",
       "    </tr>\n",
       "    <tr>\n",
       "      <th>2018-02-12</th>\n",
       "      <td>-0.229113</td>\n",
       "      <td>0.125181</td>\n",
       "      <td>1.363481</td>\n",
       "      <td>0.211727</td>\n",
       "      <td>0.294889</td>\n",
       "      <td>777.000000</td>\n",
       "    </tr>\n",
       "    <tr>\n",
       "      <th>2018-02-13</th>\n",
       "      <td>0.412053</td>\n",
       "      <td>-1.438267</td>\n",
       "      <td>0.539276</td>\n",
       "      <td>-1.158040</td>\n",
       "      <td>-0.586932</td>\n",
       "      <td>0.412053</td>\n",
       "    </tr>\n",
       "    <tr>\n",
       "      <th>2018-02-14</th>\n",
       "      <td>-0.768928</td>\n",
       "      <td>0.041366</td>\n",
       "      <td>-0.372377</td>\n",
       "      <td>1.621008</td>\n",
       "      <td>-0.156846</td>\n",
       "      <td>777.000000</td>\n",
       "    </tr>\n",
       "    <tr>\n",
       "      <th>2018-02-15</th>\n",
       "      <td>1.595038</td>\n",
       "      <td>-0.058841</td>\n",
       "      <td>-2.214809</td>\n",
       "      <td>0.833587</td>\n",
       "      <td>0.926062</td>\n",
       "      <td>1.595038</td>\n",
       "    </tr>\n",
       "    <tr>\n",
       "      <th>2018-02-16</th>\n",
       "      <td>-0.654484</td>\n",
       "      <td>0.420184</td>\n",
       "      <td>-0.933764</td>\n",
       "      <td>-0.398478</td>\n",
       "      <td>-0.073862</td>\n",
       "      <td>777.000000</td>\n",
       "    </tr>\n",
       "    <tr>\n",
       "      <th>2018-02-17</th>\n",
       "      <td>-0.109607</td>\n",
       "      <td>-0.417544</td>\n",
       "      <td>-0.672775</td>\n",
       "      <td>0.030527</td>\n",
       "      <td>0.385877</td>\n",
       "      <td>777.000000</td>\n",
       "    </tr>\n",
       "    <tr>\n",
       "      <th>2018-02-18</th>\n",
       "      <td>-0.430183</td>\n",
       "      <td>0.115473</td>\n",
       "      <td>-0.095961</td>\n",
       "      <td>-0.486916</td>\n",
       "      <td>0.108653</td>\n",
       "      <td>777.000000</td>\n",
       "    </tr>\n",
       "    <tr>\n",
       "      <th>2018-02-19</th>\n",
       "      <td>0.264955</td>\n",
       "      <td>0.291354</td>\n",
       "    "
      ],
      "text/plain": [
       "                   A         B         C         D         E           F\n",
       "2018-01-01 -0.654168 -0.309652 -0.273603  0.875092  0.016525  777.000000\n",
       "2018-01-02 -0.481874 -0.621593  0.222529 -1.115039  0.707981  777.000000\n",
       "2018-01-03 -0.267020 -0.881275  1.465679 -0.286260  0.120808  777.000000\n",
       "2018-01-04  0.319681 -0.391481  1.315878  0.549417  0.784087    0.319681\n",
       "2018-01-05 -2.262988  0.470642 -0.476137  0.897366 -0.009013  777.000000\n",
       "2018-01-06 -1.032781  0.345392  0.145501  0.034347 -0.406285  777.000000\n",
       "2018-01-07 -2.351212 -0.736602  0.225027  0.839227  1.453429  777.000000\n",
       "2018-01-08  0.225591  0.730369 -0.633768 -0.989039  1.212694    0.225591\n",
       "2018-01-09 -1.536912 -0.101722  0.511987 -0.757053  0.859589  777.000000\n",
       "2018-01-10  2.434624 -0.047553  0.247911  0.666573  1.595213    2.434624\n",
       "2018-01-11 -0.771024 -0.815115  0.448965  0.809814  0.959054  777.000000\n",
       "2018-01-12 -0.198636  1.645647 -0.412002 -0.967870 -0.190514  777.000000\n",
       "2018-01-13  0.222382 -0.157396 -0.228453 -0.182279  1.455363    0.222382\n",
       "2018-01-14 -1.000099 -0.312010 -0.052634  0.768971 -0.673613  777.000000\n",
       "2018-01-15  1.028701  0.464831 -1.004583 -1.304811 -0.194518    1.028701\n",
       "2018-01-16  0.341193  0.706689 -1.262760  0.132469  1.666854    0.341193\n",
       "2018-01-17 -0.691304  1.595394  0.939389 -0.721583  0.494411  777.000000\n",
       "2018-01-18 -1.211211 -1.169636  0.941930 -0.547647 -0.406913  777.000000\n",
       "2018-01-19 -0.462116  0.340920 -2.765089 -0.235047 -0.150916  777.000000\n",
       "2018-01-20 -0.117101 -0.171972 -1.163685 -0.214855 -0.095028  777.000000\n",
       "2018-01-21 -0.977322 -2.025066  1.208158 -0.783335  3.561379  777.000000\n",
       "2018-01-22 -0.902193 -0.150797 -1.273229  0.780569 -0.302795  777.000000\n",
       "2018-01-23 -0.187491 -1.481337 -1.509552  0.447742  0.655698  777.000000\n",
       "2018-01-24  0.858166  0.390577 -0.484964  1.276252  0.180753    0.858166\n",
       "2018-01-25 -0.057747  0.349367  1.622185 -0.322285  0.012223  777.000000\n",
       "2018-01-26 -0.947469 -1.648788  0.048520  0.665299 -0.367170  777.000000\n",
       "2018-01-27  0.646722  0.574849 -0.120046  0.938630 -0.620383    0.646722\n",
       "2018-01-28  0.466837  0.327087 -1.085567 -0.066749  1.143209    0.466837\n",
       "2018-01-29  1.846664 -1.469723 -0.935677 -0.268591 -0.201271    1.846664\n",
       "2018-01-30  0.918048 -0.333929 -0.779129 -0.884331  0.898084    0.918048\n",
       "2018-01-31  0.478440 -0.463070  0.358938 -0.765723 -0.428200    0.478440\n",
       "2018-02-01 -1.162195 -0.562062 -0.190977  0.932488 -0.976753  777.000000\n",
       "2018-02-02  1.203912  0.511769 -0.105001  0.519819  0.361239    1.203912\n",
       "2018-02-03  0.095262  0.877769 -0.189101  0.108995  0.155730    0.095262\n",
       "2018-02-04 -0.092293  0.364076 -0.700815  0.659846  0.931126  777.000000\n",
       "2018-02-05 -0.212261 -0.627503  0.017108  0.901387  0.959630  777.000000\n",
       "2018-02-06 -0.006326 -1.064396  0.366982  0.194963  0.102410  777.000000\n",
       "2018-02-07 -0.804815 -0.563766  0.304609 -0.012320 -2.823359  777.000000\n",
       "2018-02-08  0.152589 -0.513723  0.451043  0.710556 -0.640952    0.152589\n",
       "2018-02-09  1.039839 -0.014448  1.712398  1.177330 -0.799132    1.039839\n",
       "2018-02-10  1.083531  2.355896 -1.246669  1.360141  1.103300    1.083531\n",
       "2018-02-11  0.009406  1.578299 -0.236008 -1.675771  1.357240    0.009406\n",
       "2018-02-12 -0.229113  0.125181  1.363481  0.211727  0.294889  777.000000\n",
       "2018-02-13  0.412053 -1.438267  0.539276 -1.158040 -0.586932    0.412053\n",
       "2018-02-14 -0.768928  0.041366 -0.372377  1.621008 -0.156846  777.000000\n",
       "2018-02-15  1.595038 -0.058841 -2.214809  0.833587  0.926062    1.595038\n",
       "2018-02-16 -0.654484  0.420184 -0.933764 -0.398478 -0.073862  777.000000\n",
       "2018-02-17 -0.109607 -0.417544 -0.672775  0.030527  0.385877  777.000000\n",
       "2018-02-18 -0.430183  0.115473 -0.095961 -0.486916  0.108653  777.000000\n",
       "2018-02-19  0.264955  0.291354 -0.135279 -0.926301  0.612978    0.264955\n",
       "2018-02-20 -0.221295  1.758514 -0.163230 -0.306437 -0.226163  777.000000\n",
       "2018-02-21 -2.144539 -0.257449  1.098726  0.181438 -1.418672  777.000000\n",
       "2018-02-22  0.748759 -1.307392 -0.042986  1.489005 -0.075272    0.748759\n",
       "2018-02-23  0.822987  0.066726  1.075591  1.331790  0.465235    0.822987\n",
       "2018-02-24 -2.580806  2.166977  0.360556 -1.270080 -1.519281  777.000000\n",
       "2018-02-25  0.454718  1.157074 -2.061158 -1.770846  0.347768    0.454718\n",
       "2018-02-26  0.446176 -1.327838  1.213745 -1.057791 -0.264290    0.446176\n",
       "2018-02-27  0.249223 -1.978167  2.249114 -0.559589  0.381185    0.249223\n",
       "2018-02-28 -0.352077  0.283042  0.009425  0.625683  2.062531  777.000000\n",
       "2018-03-01 -0.648812  0.712175 -0.900655  0.170698  0.117826  777.000000"
      ]
     },
     "execution_count": 327,
     "metadata": {},
     "output_type": "execute_result"
    },
    {
     "data": {
      "text/html": [
       "<b>limit_output extension: Maximum message size of 10000 exceeded with 12053 characters</b>"
      ]
     },
     "metadata": {},
     "output_type": "display_data"
    }
   ],
   "source": [
    "df3.fillna(value = 777)"
   ]
  },
  {
   "cell_type": "markdown",
   "id": "41a6ed68",
   "metadata": {
    "heading_collapsed": true
   },
   "source": [
    "### 2.7.3. Dados únicos"
   ]
  },
  {
   "cell_type": "code",
   "execution_count": 328,
   "id": "668a58bc",
   "metadata": {
    "ExecuteTime": {
     "end_time": "2022-05-20T20:18:13.136984Z",
     "start_time": "2022-05-20T20:18:13.074144Z"
    },
    "hidden": true
   },
   "outputs": [
    {
     "ename": "SyntaxError",
     "evalue": "invalid syntax (1595429303.py, line 7)",
     "output_type": "error",
     "traceback": [
      "\u001b[1;36m  Input \u001b[1;32mIn [328]\u001b[1;36m\u001b[0m\n\u001b[1;33m    'G': [2, 2, 4, 4],http://localhost:8888/notebooks/Desktop/ad/analise_de_dados/notebooks/fundamentos_da_linguagem_python.ipynb#2.7.3.-Dados-%C3%BAnicos\u001b[0m\n\u001b[1;37m                           ^\u001b[0m\n\u001b[1;31mSyntaxError\u001b[0m\u001b[1;31m:\u001b[0m invalid syntax\n"
     ]
    }
   ],
   "source": [
    "df2 = pd.DataFrame({'A': 1.,\n",
    "                    'B': pd.Timestamp('20130102'),\n",
    "                    'C': pd.Series(1, index = list(range(4)), dtype= 'float32'),\n",
    "                    'D': np.array([3] * 4, dtype = 'int32'),\n",
    "                    'E': pd.Categorical(['test', 'train', 'test', 'train']),\n",
    "                    'F': 'Python',\n",
    "                    'G': [2, 2, 4, 4],http://localhost:8888/notebooks/Desktop/ad/analise_de_dados/notebooks/fundamentos_da_linguagem_python.ipynb#2.7.3.-Dados-%C3%BAnicos\n",
    "                    'H': [np.nan, 2, 4, np.nan]\n",
    "    \n",
    "})"
   ]
  },
  {
   "cell_type": "code",
   "execution_count": null,
   "id": "22e1908f",
   "metadata": {
    "ExecuteTime": {
     "end_time": "2022-05-20T20:18:13.139985Z",
     "start_time": "2022-05-20T20:18:13.139985Z"
    },
    "hidden": true
   },
   "outputs": [],
   "source": [
    "df2"
   ]
  },
  {
   "cell_type": "markdown",
   "id": "cfb1e912",
   "metadata": {
    "hidden": true
   },
   "source": [
    "Sempre que usar a função nunique ela aponta os dados ÚNICOS ( axis=0 está relacionado a linha e axis= 1 à coluna)"
   ]
  },
  {
   "cell_type": "code",
   "execution_count": null,
   "id": "d86d3371",
   "metadata": {
    "ExecuteTime": {
     "end_time": "2022-05-20T20:18:13.142981Z",
     "start_time": "2022-05-20T20:18:13.142981Z"
    },
    "hidden": true,
    "scrolled": true
   },
   "outputs": [],
   "source": [
    "df2.nunique(axis = 1, dropna = True)"
   ]
  },
  {
   "cell_type": "markdown",
   "id": "3c7bb66d",
   "metadata": {
    "heading_collapsed": true
   },
   "source": [
    "### 2.7.4. Dados duplicados"
   ]
  },
  {
   "cell_type": "markdown",
   "id": "99e4429d",
   "metadata": {
    "hidden": true
   },
   "source": [
    "**Essa função mostra valores duplicados em todas as linhas**"
   ]
  },
  {
   "cell_type": "code",
   "execution_count": null,
   "id": "de84aabe",
   "metadata": {
    "ExecuteTime": {
     "end_time": "2022-05-20T20:18:13.145979Z",
     "start_time": "2022-05-20T20:18:13.145979Z"
    },
    "hidden": true,
    "scrolled": true
   },
   "outputs": [],
   "source": [
    "df2.drop_duplicates()"
   ]
  },
  {
   "cell_type": "markdown",
   "id": "5b1b0ee8",
   "metadata": {
    "hidden": true
   },
   "source": [
    "**Essa função mantém o 1° valor e exclui os valores duplicados na coluna especificada**"
   ]
  },
  {
   "cell_type": "code",
   "execution_count": null,
   "id": "d11769d3",
   "metadata": {
    "ExecuteTime": {
     "end_time": "2022-05-20T20:18:13.148978Z",
     "start_time": "2022-05-20T20:18:13.148978Z"
    },
    "hidden": true
   },
   "outputs": [],
   "source": [
    "df2.drop_duplicates(subset= 'G')"
   ]
  },
  {
   "cell_type": "markdown",
   "id": "f06c713f",
   "metadata": {},
   "source": [
    "### 2.7.5. Ordenação dos dados"
   ]
  },
  {
   "cell_type": "code",
   "execution_count": null,
   "id": "b63169d7",
   "metadata": {
    "ExecuteTime": {
     "end_time": "2022-05-20T20:18:13.152976Z",
     "start_time": "2022-05-20T20:18:13.152976Z"
    }
   },
   "outputs": [],
   "source": [
    "df = pd.DataFrame({\n",
    "                    'col1' : [ 'A', 'A', 'B', np.nan, 'D', 'C' ],  \n",
    "                    'col2' : [ 2, 1, 9, 8, 7, 4 ],\n",
    "                    'col3' : [ 0, 1, 9, 4, 2, 3 ],\n",
    "                })"
   ]
  },
  {
   "cell_type": "code",
   "execution_count": null,
   "id": "d9a1ea0e",
   "metadata": {
    "ExecuteTime": {
     "end_time": "2022-05-20T20:18:13.156973Z",
     "start_time": "2022-05-20T20:18:13.156973Z"
    }
   },
   "outputs": [],
   "source": [
    "df"
   ]
  },
  {
   "cell_type": "markdown",
   "id": "fdaae071",
   "metadata": {},
   "source": [
    "**Ordenação de valores pela coluna 1**"
   ]
  },
  {
   "cell_type": "code",
   "execution_count": null,
   "id": "7e7b038d",
   "metadata": {
    "ExecuteTime": {
     "end_time": "2022-05-20T20:18:13.159970Z",
     "start_time": "2022-05-20T20:18:13.159970Z"
    },
    "scrolled": true
   },
   "outputs": [],
   "source": [
    "df.sort_values(by='col1')"
   ]
  },
  {
   "cell_type": "markdown",
   "id": "c70521c5",
   "metadata": {},
   "source": [
    "**Ordenação de valores pelas colunas 1 e 2**"
   ]
  },
  {
   "cell_type": "code",
   "execution_count": null,
   "id": "a86f4da9",
   "metadata": {
    "ExecuteTime": {
     "end_time": "2022-05-20T20:18:13.162969Z",
     "start_time": "2022-05-20T20:18:13.162969Z"
    },
    "scrolled": true
   },
   "outputs": [],
   "source": [
    "df.sort_values(by=['col1', 'col2'])"
   ]
  },
  {
   "cell_type": "markdown",
   "id": "619c6ff0",
   "metadata": {},
   "source": [
    "**Ordenação de valores pelas colunas 1 e 2 de forma decrescente**"
   ]
  },
  {
   "cell_type": "code",
   "execution_count": null,
   "id": "d6c02823",
   "metadata": {
    "ExecuteTime": {
     "end_time": "2022-05-20T20:18:13.165967Z",
     "start_time": "2022-05-20T20:18:13.165967Z"
    },
    "scrolled": true
   },
   "outputs": [],
   "source": [
    "df.sort_values(by=['col1', 'col2'], ascending= False)"
   ]
  },
  {
   "cell_type": "code",
   "execution_count": null,
   "id": "089325e4",
   "metadata": {
    "ExecuteTime": {
     "end_time": "2022-05-20T20:18:13.169965Z",
     "start_time": "2022-05-20T20:18:13.168965Z"
    }
   },
   "outputs": [],
   "source": [
    "df.sort_values('col1', ascending= True)"
   ]
  }
 ],
 "metadata": {
  "kernelspec": {
   "display_name": "Python 3 (ipykernel)",
   "language": "python",
   "name": "python3"
  },
  "language_info": {
   "codemirror_mode": {
    "name": "ipython",
    "version": 3
   },
   "file_extension": ".py",
   "mimetype": "text/x-python",
   "name": "python",
   "nbconvert_exporter": "python",
   "pygments_lexer": "ipython3",
   "version": "3.9.12"
  },
  "varInspector": {
   "cols": {
    "lenName": 16,
    "lenType": 16,
    "lenVar": 40
   },
   "kernels_config": {
    "python": {
     "delete_cmd_postfix": "",
     "delete_cmd_prefix": "del ",
     "library": "var_list.py",
     "varRefreshCmd": "print(var_dic_list())"
    },
    "r": {
     "delete_cmd_postfix": ") ",
     "delete_cmd_prefix": "rm(",
     "library": "var_list.r",
     "varRefreshCmd": "cat(var_dic_list()) "
    }
   },
   "types_to_exclude": [
    "module",
    "function",
    "builtin_function_or_method",
    "instance",
    "_Feature"
   ],
   "window_display": false
  }
 },
 "nbformat": 4,
 "nbformat_minor": 5
}
