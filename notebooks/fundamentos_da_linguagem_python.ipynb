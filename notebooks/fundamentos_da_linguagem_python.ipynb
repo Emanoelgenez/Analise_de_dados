{
 "cells": [
  {
   "cell_type": "markdown",
   "id": "4b15d2fc",
   "metadata": {},
   "source": [
    "<h1>\n",
    "   <font color = \"grey\">Fundamentos da linguagem Python</font>\n",
    "</h1>"
   ]
  },
  {
   "cell_type": "markdown",
   "id": "dc976fe6",
   "metadata": {
    "heading_collapsed": true
   },
   "source": [
    "# MÓDULO 1"
   ]
  },
  {
   "cell_type": "markdown",
   "id": "e0a62a4d",
   "metadata": {
    "heading_collapsed": true,
    "hidden": true
   },
   "source": [
    "## 1.1. Operadores matemáticos"
   ]
  },
  {
   "cell_type": "code",
   "execution_count": 1,
   "id": "db5f029d",
   "metadata": {
    "hidden": true
   },
   "outputs": [
    {
     "data": {
      "text/plain": [
       "12"
      ]
     },
     "execution_count": 1,
     "metadata": {},
     "output_type": "execute_result"
    }
   ],
   "source": [
    "# adição \n",
    "\n",
    "5 + 7"
   ]
  },
  {
   "cell_type": "code",
   "execution_count": 2,
   "id": "086754d5",
   "metadata": {
    "hidden": true
   },
   "outputs": [
    {
     "data": {
      "text/plain": [
       "12"
      ]
     },
     "execution_count": 2,
     "metadata": {},
     "output_type": "execute_result"
    }
   ],
   "source": [
    "# subtração \n",
    "\n",
    "21 - 9"
   ]
  },
  {
   "cell_type": "code",
   "execution_count": 3,
   "id": "73ad00a4",
   "metadata": {
    "hidden": true
   },
   "outputs": [
    {
     "data": {
      "text/plain": [
       "27"
      ]
     },
     "execution_count": 3,
     "metadata": {},
     "output_type": "execute_result"
    }
   ],
   "source": [
    "# multiplicação \n",
    "\n",
    "3 * 9"
   ]
  },
  {
   "cell_type": "code",
   "execution_count": 4,
   "id": "7edf81d3",
   "metadata": {
    "hidden": true
   },
   "outputs": [
    {
     "data": {
      "text/plain": [
       "19.666666666666668"
      ]
     },
     "execution_count": 4,
     "metadata": {},
     "output_type": "execute_result"
    }
   ],
   "source": [
    "# divisão\n",
    "\n",
    "59 / 3"
   ]
  },
  {
   "cell_type": "markdown",
   "id": "ccae3f61",
   "metadata": {
    "hidden": true
   },
   "source": [
    "### 1.1.1. Operação com variáveis"
   ]
  },
  {
   "cell_type": "code",
   "execution_count": 5,
   "id": "a4163fb5",
   "metadata": {
    "hidden": true
   },
   "outputs": [],
   "source": [
    "a = 39"
   ]
  },
  {
   "cell_type": "code",
   "execution_count": 6,
   "id": "1fa667db",
   "metadata": {
    "hidden": true,
    "scrolled": true
   },
   "outputs": [],
   "source": [
    "b = a + 1"
   ]
  },
  {
   "cell_type": "code",
   "execution_count": 7,
   "id": "8a48dfe1",
   "metadata": {
    "hidden": true
   },
   "outputs": [
    {
     "data": {
      "text/plain": [
       "40"
      ]
     },
     "execution_count": 7,
     "metadata": {},
     "output_type": "execute_result"
    }
   ],
   "source": [
    "b"
   ]
  },
  {
   "cell_type": "code",
   "execution_count": 8,
   "id": "068ca6e0",
   "metadata": {
    "hidden": true
   },
   "outputs": [
    {
     "data": {
      "text/plain": [
       "80"
      ]
     },
     "execution_count": 8,
     "metadata": {},
     "output_type": "execute_result"
    }
   ],
   "source": [
    "b * 2"
   ]
  },
  {
   "cell_type": "markdown",
   "id": "03ed7a7e",
   "metadata": {
    "hidden": true
   },
   "source": [
    "**Aquecimento operadores matemáticos**"
   ]
  },
  {
   "cell_type": "code",
   "execution_count": 9,
   "id": "2cc48ee6",
   "metadata": {
    "hidden": true
   },
   "outputs": [],
   "source": [
    "# compras \n",
    "\n",
    "\n",
    "arroz = 10\n",
    "leite = 11.50\n",
    "carne = 30.80\n",
    "sabonete = 9.56\n",
    "alvejante = 19.58"
   ]
  },
  {
   "cell_type": "code",
   "execution_count": 10,
   "id": "b849174d",
   "metadata": {
    "hidden": true
   },
   "outputs": [],
   "source": [
    "resultado = arroz + leite + carne + sabonete + alvejante "
   ]
  },
  {
   "cell_type": "code",
   "execution_count": 11,
   "id": "2c0582cd",
   "metadata": {
    "hidden": true
   },
   "outputs": [
    {
     "data": {
      "text/plain": [
       "81.44"
      ]
     },
     "execution_count": 11,
     "metadata": {},
     "output_type": "execute_result"
    }
   ],
   "source": [
    "resultado"
   ]
  },
  {
   "cell_type": "code",
   "execution_count": 12,
   "id": "2ed10c8b",
   "metadata": {
    "hidden": true
   },
   "outputs": [
    {
     "name": "stdout",
     "output_type": "stream",
     "text": [
      "O valor total das compras é: R$ 81.44\n"
     ]
    }
   ],
   "source": [
    "print('O valor total das compras é: R$', resultado)"
   ]
  },
  {
   "cell_type": "code",
   "execution_count": 13,
   "id": "d6934e22",
   "metadata": {
    "hidden": true
   },
   "outputs": [
    {
     "data": {
      "text/plain": [
       "4"
      ]
     },
     "execution_count": 13,
     "metadata": {},
     "output_type": "execute_result"
    }
   ],
   "source": [
    "# potenciação \n",
    "\n",
    "2 ** 2"
   ]
  },
  {
   "cell_type": "code",
   "execution_count": 14,
   "id": "45175d16",
   "metadata": {
    "hidden": true
   },
   "outputs": [
    {
     "data": {
      "text/plain": [
       "3"
      ]
     },
     "execution_count": 14,
     "metadata": {},
     "output_type": "execute_result"
    }
   ],
   "source": [
    "# módulo ou resto da divisão \n",
    "\n",
    "10 % 7"
   ]
  },
  {
   "cell_type": "markdown",
   "id": "897ad1f6",
   "metadata": {
    "heading_collapsed": true,
    "hidden": true
   },
   "source": [
    "## 1.2. Operadores relacionais"
   ]
  },
  {
   "cell_type": "code",
   "execution_count": 15,
   "id": "a8a27945",
   "metadata": {
    "hidden": true
   },
   "outputs": [
    {
     "data": {
      "text/plain": [
       "False"
      ]
     },
     "execution_count": 15,
     "metadata": {},
     "output_type": "execute_result"
    }
   ],
   "source": [
    "# igualdade\n",
    "\n",
    "700 == 90"
   ]
  },
  {
   "cell_type": "code",
   "execution_count": 16,
   "id": "80c60896",
   "metadata": {
    "hidden": true
   },
   "outputs": [
    {
     "data": {
      "text/plain": [
       "True"
      ]
     },
     "execution_count": 16,
     "metadata": {},
     "output_type": "execute_result"
    }
   ],
   "source": [
    "100 == 100"
   ]
  },
  {
   "cell_type": "code",
   "execution_count": 17,
   "id": "305e00c2",
   "metadata": {
    "hidden": true
   },
   "outputs": [
    {
     "data": {
      "text/plain": [
       "True"
      ]
     },
     "execution_count": 17,
     "metadata": {},
     "output_type": "execute_result"
    }
   ],
   "source": [
    "80.0 == 80"
   ]
  },
  {
   "cell_type": "code",
   "execution_count": 18,
   "id": "a7fb955f",
   "metadata": {
    "hidden": true
   },
   "outputs": [
    {
     "data": {
      "text/plain": [
       "True"
      ]
     },
     "execution_count": 18,
     "metadata": {},
     "output_type": "execute_result"
    }
   ],
   "source": [
    "# desigualdade \n",
    "\n",
    "3 != 7"
   ]
  },
  {
   "cell_type": "code",
   "execution_count": 19,
   "id": "ca33c454",
   "metadata": {
    "hidden": true
   },
   "outputs": [
    {
     "data": {
      "text/plain": [
       "False"
      ]
     },
     "execution_count": 19,
     "metadata": {},
     "output_type": "execute_result"
    }
   ],
   "source": [
    "3 != 3"
   ]
  },
  {
   "cell_type": "code",
   "execution_count": 20,
   "id": "eceb6cf1",
   "metadata": {
    "hidden": true
   },
   "outputs": [
    {
     "data": {
      "text/plain": [
       "True"
      ]
     },
     "execution_count": 20,
     "metadata": {},
     "output_type": "execute_result"
    }
   ],
   "source": [
    "# maior que \n",
    "\n",
    "500 > 90"
   ]
  },
  {
   "cell_type": "code",
   "execution_count": 21,
   "id": "abf0b349",
   "metadata": {
    "hidden": true
   },
   "outputs": [
    {
     "data": {
      "text/plain": [
       "False"
      ]
     },
     "execution_count": 21,
     "metadata": {},
     "output_type": "execute_result"
    }
   ],
   "source": [
    "90 > 500"
   ]
  },
  {
   "cell_type": "code",
   "execution_count": 22,
   "id": "4704e0ff",
   "metadata": {
    "hidden": true
   },
   "outputs": [
    {
     "data": {
      "text/plain": [
       "False"
      ]
     },
     "execution_count": 22,
     "metadata": {},
     "output_type": "execute_result"
    }
   ],
   "source": [
    "# menor que \n",
    "\n",
    "500 < 90"
   ]
  },
  {
   "cell_type": "code",
   "execution_count": 23,
   "id": "49e66d6c",
   "metadata": {
    "hidden": true
   },
   "outputs": [
    {
     "data": {
      "text/plain": [
       "True"
      ]
     },
     "execution_count": 23,
     "metadata": {},
     "output_type": "execute_result"
    }
   ],
   "source": [
    "90 < 500"
   ]
  },
  {
   "cell_type": "code",
   "execution_count": 24,
   "id": "235c6773",
   "metadata": {
    "hidden": true
   },
   "outputs": [
    {
     "data": {
      "text/plain": [
       "True"
      ]
     },
     "execution_count": 24,
     "metadata": {},
     "output_type": "execute_result"
    }
   ],
   "source": [
    "# maior ou igual \n",
    "\n",
    "8 >= 8"
   ]
  },
  {
   "cell_type": "code",
   "execution_count": 25,
   "id": "84314f33",
   "metadata": {
    "hidden": true
   },
   "outputs": [
    {
     "data": {
      "text/plain": [
       "False"
      ]
     },
     "execution_count": 25,
     "metadata": {},
     "output_type": "execute_result"
    }
   ],
   "source": [
    "5 >= 10"
   ]
  },
  {
   "cell_type": "markdown",
   "id": "fb1ebd4f",
   "metadata": {
    "heading_collapsed": true,
    "hidden": true
   },
   "source": [
    "## 1.3. Operadores lógicos"
   ]
  },
  {
   "cell_type": "markdown",
   "id": "d10cd288",
   "metadata": {
    "hidden": true
   },
   "source": [
    "**and** = e\n",
    "\n",
    "**or** = ou \n",
    "\n",
    "**not** = não"
   ]
  },
  {
   "cell_type": "markdown",
   "id": "87f0b209",
   "metadata": {
    "hidden": true
   },
   "source": [
    "**and** = se todas as alternativas forem verdadeiras\n",
    "\n",
    "**or** = se pelo menos uma das alternativas forem verdadeiras\n",
    "\n",
    "**not** = se for verdadeira será falso"
   ]
  },
  {
   "cell_type": "markdown",
   "id": "5a4f00fe",
   "metadata": {
    "hidden": true
   },
   "source": [
    "**1.Para estudar em uma universidade, o aluno deve:**\n",
    "\n",
    "\n",
    "Ter passado no vestibular\n",
    "\n",
    "e\n",
    "\n",
    "Estar com toda documentação necessária\n",
    "\n",
    "e \n",
    "\n",
    "Estar matriculado "
   ]
  },
  {
   "cell_type": "code",
   "execution_count": 26,
   "id": "aa9cd843",
   "metadata": {
    "hidden": true
   },
   "outputs": [
    {
     "data": {
      "text/plain": [
       "True"
      ]
     },
     "execution_count": 26,
     "metadata": {},
     "output_type": "execute_result"
    }
   ],
   "source": [
    "50 > 40 and 50 > 49"
   ]
  },
  {
   "cell_type": "markdown",
   "id": "b5d28ea0",
   "metadata": {
    "hidden": true
   },
   "source": [
    "**2. Para obter flexibilidade no período de provas, o aluno deve:**\n",
    "\n",
    "Ser militar e estar de serviço\n",
    "\n",
    "ou \n",
    "\n",
    "Estar de licença maternidade\n",
    "\n",
    "ou \n",
    "\n",
    "Estar de atestado médico "
   ]
  },
  {
   "cell_type": "code",
   "execution_count": 27,
   "id": "bfd93664",
   "metadata": {
    "hidden": true
   },
   "outputs": [
    {
     "data": {
      "text/plain": [
       "True"
      ]
     },
     "execution_count": 27,
     "metadata": {},
     "output_type": "execute_result"
    }
   ],
   "source": [
    "80 > 3 or 15 > 20"
   ]
  },
  {
   "cell_type": "markdown",
   "id": "25a3d5d2",
   "metadata": {
    "heading_collapsed": true,
    "hidden": true
   },
   "source": [
    "## 1.4. Laços de repetiçoes for"
   ]
  },
  {
   "cell_type": "code",
   "execution_count": 28,
   "id": "3fec42f4",
   "metadata": {
    "hidden": true,
    "scrolled": true
   },
   "outputs": [
    {
     "name": "stdout",
     "output_type": "stream",
     "text": [
      "0\n",
      "3\n",
      "6\n",
      "9\n",
      "12\n",
      "15\n",
      "18\n"
     ]
    }
   ],
   "source": [
    "for i in range (0, 20, 3):\n",
    "    print(i)"
   ]
  },
  {
   "cell_type": "markdown",
   "id": "f69f5152",
   "metadata": {
    "hidden": true
   },
   "source": [
    "Essa função cria um loop de um range(sequencia numerica) \n",
    "\n",
    "for é função (i) é a variável in conecta ao range ( inicio da sequncia, fim da sequencia, intervalos) "
   ]
  },
  {
   "cell_type": "code",
   "execution_count": 29,
   "id": "74770f50",
   "metadata": {
    "hidden": true
   },
   "outputs": [],
   "source": [
    "lista = [3, 8, 44, 100]"
   ]
  },
  {
   "cell_type": "code",
   "execution_count": 30,
   "id": "7e2a4ec6",
   "metadata": {
    "hidden": true
   },
   "outputs": [
    {
     "name": "stdout",
     "output_type": "stream",
     "text": [
      "3\n",
      "8\n",
      "44\n",
      "100\n"
     ]
    }
   ],
   "source": [
    "for x in lista:\n",
    "    print(x)"
   ]
  },
  {
   "cell_type": "code",
   "execution_count": 31,
   "id": "977d6939",
   "metadata": {
    "hidden": true
   },
   "outputs": [],
   "source": [
    "lista2 = [3, 8, 44, 100]"
   ]
  },
  {
   "cell_type": "code",
   "execution_count": 32,
   "id": "3c00918a",
   "metadata": {
    "hidden": true
   },
   "outputs": [
    {
     "name": "stdout",
     "output_type": "stream",
     "text": [
      "8\n",
      "44\n",
      "100\n"
     ]
    }
   ],
   "source": [
    "for i in lista2:\n",
    "    \n",
    "    if i % 2 == 0:\n",
    "     print(i)"
   ]
  },
  {
   "cell_type": "code",
   "execution_count": 33,
   "id": "c02b0aa9",
   "metadata": {
    "hidden": true
   },
   "outputs": [],
   "source": [
    "lista3 = [ [1,2,3], [2,3,5], [7,8,5,4,3,2] ]"
   ]
  },
  {
   "cell_type": "code",
   "execution_count": 34,
   "id": "b0ac09fa",
   "metadata": {
    "hidden": true
   },
   "outputs": [
    {
     "name": "stdout",
     "output_type": "stream",
     "text": [
      "[1, 2, 3]\n",
      "[2, 3, 5]\n",
      "[7, 8, 5, 4, 3, 2]\n"
     ]
    }
   ],
   "source": [
    "for ii in lista3:\n",
    "    print(ii)"
   ]
  },
  {
   "cell_type": "code",
   "execution_count": 35,
   "id": "a0c9c5a5",
   "metadata": {
    "hidden": true
   },
   "outputs": [],
   "source": [
    "di = {'d1': 10,'d2': 20,'d3': 30,'d4': 40,'d5': 50, };\n",
    "\n",
    "d2 = {'d2': 10,'d2': 20,'d2': 30,'d2': 40,'d2': 50};    "
   ]
  },
  {
   "cell_type": "code",
   "execution_count": 36,
   "id": "04ed3a81",
   "metadata": {
    "hidden": true
   },
   "outputs": [
    {
     "data": {
      "text/plain": [
       "{'d1': 10, 'd2': 20, 'd3': 30, 'd4': 40, 'd5': 50}"
      ]
     },
     "execution_count": 36,
     "metadata": {},
     "output_type": "execute_result"
    }
   ],
   "source": [
    "di"
   ]
  },
  {
   "cell_type": "code",
   "execution_count": 37,
   "id": "4d8d1df3",
   "metadata": {
    "hidden": true,
    "scrolled": true
   },
   "outputs": [
    {
     "name": "stdout",
     "output_type": "stream",
     "text": [
      "d1\n",
      "d2\n",
      "d3\n",
      "d4\n",
      "d5\n"
     ]
    }
   ],
   "source": [
    "for i in di:\n",
    "    print(i)"
   ]
  },
  {
   "cell_type": "code",
   "execution_count": 38,
   "id": "08be1eaa",
   "metadata": {
    "hidden": true
   },
   "outputs": [
    {
     "data": {
      "text/plain": [
       "dict_items([('d1', 10), ('d2', 20), ('d3', 30), ('d4', 40), ('d5', 50)])"
      ]
     },
     "execution_count": 38,
     "metadata": {},
     "output_type": "execute_result"
    }
   ],
   "source": [
    "di.items()"
   ]
  },
  {
   "cell_type": "code",
   "execution_count": 39,
   "id": "6f26d53d",
   "metadata": {
    "hidden": true
   },
   "outputs": [
    {
     "name": "stdout",
     "output_type": "stream",
     "text": [
      "d1 10\n",
      "d2 20\n",
      "d3 30\n",
      "d4 40\n",
      "d5 50\n"
     ]
    }
   ],
   "source": [
    "for c, v, in di.items():\n",
    "    print( c, v)"
   ]
  },
  {
   "cell_type": "code",
   "execution_count": null,
   "id": "7de2e5db",
   "metadata": {
    "hidden": true
   },
   "outputs": [],
   "source": []
  },
  {
   "cell_type": "markdown",
   "id": "0ae554d2",
   "metadata": {
    "heading_collapsed": true,
    "hidden": true
   },
   "source": [
    "## 1.5. Laços de repetiçoes whille(enquanto)"
   ]
  },
  {
   "cell_type": "code",
   "execution_count": 40,
   "id": "6a5352c7",
   "metadata": {
    "hidden": true,
    "scrolled": true
   },
   "outputs": [
    {
     "name": "stdout",
     "output_type": "stream",
     "text": [
      "8\n",
      "9\n",
      "10\n"
     ]
    }
   ],
   "source": [
    "k = 8\n",
    "\n",
    "while k <= 10:\n",
    "    print(k)\n",
    "    \n",
    "    k += 1"
   ]
  },
  {
   "cell_type": "markdown",
   "id": "e550ad2b",
   "metadata": {
    "hidden": true
   },
   "source": [
    "**pass, break e continue**"
   ]
  },
  {
   "cell_type": "code",
   "execution_count": 41,
   "id": "889e25b2",
   "metadata": {
    "hidden": true
   },
   "outputs": [
    {
     "name": "stdout",
     "output_type": "stream",
     "text": [
      "p\n",
      "r\n",
      "o\n",
      "g\n",
      "r\n",
      "a\n",
      "m\n",
      "a\n",
      "d\n",
      "o\n",
      "r\n"
     ]
    }
   ],
   "source": [
    "for letra in 'programador':\n",
    "    if letra == 'a':\n",
    "        pass\n",
    "    print(letra)"
   ]
  },
  {
   "cell_type": "code",
   "execution_count": 42,
   "id": "1941932b",
   "metadata": {
    "hidden": true
   },
   "outputs": [
    {
     "name": "stdout",
     "output_type": "stream",
     "text": [
      "p\n",
      "r\n",
      "o\n",
      "g\n",
      "r\n",
      "m\n",
      "d\n",
      "o\n",
      "r\n"
     ]
    }
   ],
   "source": [
    "for letra in 'programador':\n",
    "    if letra == 'a':\n",
    "        continue\n",
    "    print(letra)"
   ]
  },
  {
   "cell_type": "code",
   "execution_count": 43,
   "id": "edf87000",
   "metadata": {
    "hidden": true,
    "scrolled": true
   },
   "outputs": [
    {
     "name": "stdout",
     "output_type": "stream",
     "text": [
      "p\n",
      "r\n",
      "o\n",
      "g\n",
      "r\n"
     ]
    }
   ],
   "source": [
    "for letra in 'programador':\n",
    "    if letra == 'a':\n",
    "        break\n",
    "    print(letra)"
   ]
  },
  {
   "cell_type": "markdown",
   "id": "1bda9cf9",
   "metadata": {
    "heading_collapsed": true,
    "hidden": true
   },
   "source": [
    "## 1.6. Funções"
   ]
  },
  {
   "cell_type": "code",
   "execution_count": 44,
   "id": "72e597fd",
   "metadata": {
    "hidden": true
   },
   "outputs": [],
   "source": [
    " def print_text():\n",
    "    print('Aqui é um texto qaulquer')"
   ]
  },
  {
   "cell_type": "code",
   "execution_count": 45,
   "id": "691a08e8",
   "metadata": {
    "hidden": true
   },
   "outputs": [
    {
     "name": "stdout",
     "output_type": "stream",
     "text": [
      "Aqui é um texto qaulquer\n"
     ]
    }
   ],
   "source": [
    "print_text()"
   ]
  },
  {
   "cell_type": "code",
   "execution_count": 46,
   "id": "153df271",
   "metadata": {
    "hidden": true
   },
   "outputs": [],
   "source": [
    "def print_isto(x):\n",
    "    print(x)"
   ]
  },
  {
   "cell_type": "code",
   "execution_count": 47,
   "id": "bc08ac58",
   "metadata": {
    "hidden": true
   },
   "outputs": [
    {
     "name": "stdout",
     "output_type": "stream",
     "text": [
      "7958\n"
     ]
    }
   ],
   "source": [
    "print_isto(7958)"
   ]
  },
  {
   "cell_type": "code",
   "execution_count": 48,
   "id": "09fe70b4",
   "metadata": {
    "hidden": true
   },
   "outputs": [],
   "source": [
    "def potencia(x):\n",
    "    p = x ** 2\n",
    "    return p"
   ]
  },
  {
   "cell_type": "code",
   "execution_count": 49,
   "id": "b165f8ce",
   "metadata": {
    "hidden": true
   },
   "outputs": [
    {
     "data": {
      "text/plain": [
       "16"
      ]
     },
     "execution_count": 49,
     "metadata": {},
     "output_type": "execute_result"
    }
   ],
   "source": [
    "potencia(4)"
   ]
  },
  {
   "cell_type": "code",
   "execution_count": 50,
   "id": "d56ac161",
   "metadata": {
    "hidden": true
   },
   "outputs": [],
   "source": [
    "def sub(x):\n",
    "    r = x + 4\n",
    "    return r"
   ]
  },
  {
   "cell_type": "code",
   "execution_count": 51,
   "id": "c3251bc3",
   "metadata": {
    "hidden": true,
    "scrolled": true
   },
   "outputs": [
    {
     "data": {
      "text/plain": [
       "1004"
      ]
     },
     "execution_count": 51,
     "metadata": {},
     "output_type": "execute_result"
    }
   ],
   "source": [
    "sub (1000)"
   ]
  },
  {
   "cell_type": "code",
   "execution_count": 52,
   "id": "2e930be4",
   "metadata": {
    "hidden": true
   },
   "outputs": [],
   "source": [
    "def potencia_n(x, n = 2 ):\n",
    "    p = x ** n\n",
    "    return p"
   ]
  },
  {
   "cell_type": "code",
   "execution_count": 53,
   "id": "34b78b69",
   "metadata": {
    "hidden": true
   },
   "outputs": [
    {
     "data": {
      "text/plain": [
       "25"
      ]
     },
     "execution_count": 53,
     "metadata": {},
     "output_type": "execute_result"
    }
   ],
   "source": [
    "potencia_n(5)"
   ]
  },
  {
   "cell_type": "code",
   "execution_count": 54,
   "id": "7e04ccea",
   "metadata": {
    "hidden": true,
    "scrolled": true
   },
   "outputs": [
    {
     "data": {
      "text/plain": [
       "125"
      ]
     },
     "execution_count": 54,
     "metadata": {},
     "output_type": "execute_result"
    }
   ],
   "source": [
    "potencia_n(5, 3)"
   ]
  },
  {
   "cell_type": "markdown",
   "id": "008a9cf4",
   "metadata": {},
   "source": [
    "# MÓDULO 2"
   ]
  },
  {
   "cell_type": "markdown",
   "id": "3af1ab15",
   "metadata": {
    "heading_collapsed": true
   },
   "source": [
    "### IMPORTS"
   ]
  },
  {
   "cell_type": "code",
   "execution_count": 55,
   "id": "2b252f97",
   "metadata": {
    "hidden": true
   },
   "outputs": [],
   "source": [
    "import pandas as pd\n",
    "import numpy as np"
   ]
  },
  {
   "cell_type": "markdown",
   "id": "7a4257ad",
   "metadata": {
    "heading_collapsed": true
   },
   "source": [
    "## 2.1. Dataframes"
   ]
  },
  {
   "cell_type": "code",
   "execution_count": 56,
   "id": "153860d1",
   "metadata": {
    "hidden": true
   },
   "outputs": [],
   "source": [
    "series = pd.Series([7, 4, 2, np.nan, 6, 9 ])"
   ]
  },
  {
   "cell_type": "code",
   "execution_count": 57,
   "id": "6c6d45b9",
   "metadata": {
    "hidden": true
   },
   "outputs": [
    {
     "data": {
      "text/plain": [
       "0    7.0\n",
       "1    4.0\n",
       "2    2.0\n",
       "3    NaN\n",
       "4    6.0\n",
       "5    9.0\n",
       "dtype: float64"
      ]
     },
     "execution_count": 57,
     "metadata": {},
     "output_type": "execute_result"
    }
   ],
   "source": [
    "series"
   ]
  },
  {
   "cell_type": "code",
   "execution_count": 58,
   "id": "e6454771",
   "metadata": {
    "hidden": true
   },
   "outputs": [
    {
     "data": {
      "text/plain": [
       "pandas.core.series.Series"
      ]
     },
     "execution_count": 58,
     "metadata": {},
     "output_type": "execute_result"
    }
   ],
   "source": [
    "type(series)"
   ]
  },
  {
   "cell_type": "code",
   "execution_count": 59,
   "id": "11009877",
   "metadata": {
    "hidden": true
   },
   "outputs": [],
   "source": [
    "datas = pd.date_range('20220101', periods = 6 )"
   ]
  },
  {
   "cell_type": "code",
   "execution_count": 60,
   "id": "746f19e6",
   "metadata": {
    "hidden": true
   },
   "outputs": [
    {
     "data": {
      "text/plain": [
       "DatetimeIndex(['2022-01-01', '2022-01-02', '2022-01-03', '2022-01-04',\n",
       "               '2022-01-05', '2022-01-06'],\n",
       "              dtype='datetime64[ns]', freq='D')"
      ]
     },
     "execution_count": 60,
     "metadata": {},
     "output_type": "execute_result"
    }
   ],
   "source": [
    "datas"
   ]
  },
  {
   "cell_type": "code",
   "execution_count": 61,
   "id": "b6f98800",
   "metadata": {
    "hidden": true
   },
   "outputs": [
    {
     "data": {
      "text/plain": [
       "pandas.core.indexes.datetimes.DatetimeIndex"
      ]
     },
     "execution_count": 61,
     "metadata": {},
     "output_type": "execute_result"
    }
   ],
   "source": [
    "type(datas)"
   ]
  },
  {
   "cell_type": "code",
   "execution_count": 62,
   "id": "e97f7aca",
   "metadata": {
    "hidden": true
   },
   "outputs": [],
   "source": [
    "df = pd.DataFrame(np.random.randn(6,4), index= datas, columns = list('ABCD'))"
   ]
  },
  {
   "cell_type": "code",
   "execution_count": 63,
   "id": "4a53a4f5",
   "metadata": {
    "hidden": true
   },
   "outputs": [
    {
     "data": {
      "text/html": [
       "<div>\n",
       "<style scoped>\n",
       "    .dataframe tbody tr th:only-of-type {\n",
       "        vertical-align: middle;\n",
       "    }\n",
       "\n",
       "    .dataframe tbody tr th {\n",
       "        vertical-align: top;\n",
       "    }\n",
       "\n",
       "    .dataframe thead th {\n",
       "        text-align: right;\n",
       "    }\n",
       "</style>\n",
       "<table border=\"1\" class=\"dataframe\">\n",
       "  <thead>\n",
       "    <tr style=\"text-align: right;\">\n",
       "      <th></th>\n",
       "      <th>A</th>\n",
       "      <th>B</th>\n",
       "      <th>C</th>\n",
       "      <th>D</th>\n",
       "    </tr>\n",
       "  </thead>\n",
       "  <tbody>\n",
       "    <tr>\n",
       "      <th>2022-01-01</th>\n",
       "      <td>0.464518</td>\n",
       "      <td>1.548093</td>\n",
       "      <td>1.568508</td>\n",
       "      <td>-0.383810</td>\n",
       "    </tr>\n",
       "    <tr>\n",
       "      <th>2022-01-02</th>\n",
       "      <td>1.781279</td>\n",
       "      <td>0.449141</td>\n",
       "      <td>-0.242726</td>\n",
       "      <td>0.724674</td>\n",
       "    </tr>\n",
       "    <tr>\n",
       "      <th>2022-01-03</th>\n",
       "      <td>-1.199956</td>\n",
       "      <td>-0.641651</td>\n",
       "      <td>-0.781283</td>\n",
       "      <td>0.235360</td>\n",
       "    </tr>\n",
       "    <tr>\n",
       "      <th>2022-01-04</th>\n",
       "      <td>0.505532</td>\n",
       "      <td>-2.439244</td>\n",
       "      <td>1.385963</td>\n",
       "      <td>-0.897305</td>\n",
       "    </tr>\n",
       "    <tr>\n",
       "      <th>2022-01-05</th>\n",
       "      <td>-0.742145</td>\n",
       "      <td>-0.479046</td>\n",
       "      <td>0.188150</td>\n",
       "      <td>-0.083268</td>\n",
       "    </tr>\n",
       "    <tr>\n",
       "      <th>2022-01-06</th>\n",
       "      <td>-1.453562</td>\n",
       "      <td>0.622041</td>\n",
       "      <td>0.006414</td>\n",
       "      <td>1.700925</td>\n",
       "    </tr>\n",
       "  </tbody>\n",
       "</table>\n",
       "</div>"
      ],
      "text/plain": [
       "                   A         B         C         D\n",
       "2022-01-01  0.464518  1.548093  1.568508 -0.383810\n",
       "2022-01-02  1.781279  0.449141 -0.242726  0.724674\n",
       "2022-01-03 -1.199956 -0.641651 -0.781283  0.235360\n",
       "2022-01-04  0.505532 -2.439244  1.385963 -0.897305\n",
       "2022-01-05 -0.742145 -0.479046  0.188150 -0.083268\n",
       "2022-01-06 -1.453562  0.622041  0.006414  1.700925"
      ]
     },
     "execution_count": 63,
     "metadata": {},
     "output_type": "execute_result"
    }
   ],
   "source": [
    "df"
   ]
  },
  {
   "cell_type": "code",
   "execution_count": 64,
   "id": "2b9cfbf3",
   "metadata": {
    "hidden": true
   },
   "outputs": [],
   "source": [
    "df2 = pd.DataFrame({'A': 7,\n",
    "                    'B': pd.Timestamp('20220101'),\n",
    "                    'C': pd.Series(1, index=list(range(4)), dtype = 'float32'),\n",
    "                    'D': np.array([3] * 4, dtype = 'int32'), \n",
    "                    'E': pd.Categorical(['test', 'train', 'test', 'train']),\n",
    "                    'F': 'Python'})"
   ]
  },
  {
   "cell_type": "code",
   "execution_count": 65,
   "id": "a0067612",
   "metadata": {
    "hidden": true
   },
   "outputs": [
    {
     "data": {
      "text/html": [
       "<div>\n",
       "<style scoped>\n",
       "    .dataframe tbody tr th:only-of-type {\n",
       "        vertical-align: middle;\n",
       "    }\n",
       "\n",
       "    .dataframe tbody tr th {\n",
       "        vertical-align: top;\n",
       "    }\n",
       "\n",
       "    .dataframe thead th {\n",
       "        text-align: right;\n",
       "    }\n",
       "</style>\n",
       "<table border=\"1\" class=\"dataframe\">\n",
       "  <thead>\n",
       "    <tr style=\"text-align: right;\">\n",
       "      <th></th>\n",
       "      <th>A</th>\n",
       "      <th>B</th>\n",
       "      <th>C</th>\n",
       "      <th>D</th>\n",
       "      <th>E</th>\n",
       "      <th>F</th>\n",
       "    </tr>\n",
       "  </thead>\n",
       "  <tbody>\n",
       "    <tr>\n",
       "      <th>0</th>\n",
       "      <td>7</td>\n",
       "      <td>2022-01-01</td>\n",
       "      <td>1.0</td>\n",
       "      <td>3</td>\n",
       "      <td>test</td>\n",
       "      <td>Python</td>\n",
       "    </tr>\n",
       "    <tr>\n",
       "      <th>1</th>\n",
       "      <td>7</td>\n",
       "      <td>2022-01-01</td>\n",
       "      <td>1.0</td>\n",
       "      <td>3</td>\n",
       "      <td>train</td>\n",
       "      <td>Python</td>\n",
       "    </tr>\n",
       "    <tr>\n",
       "      <th>2</th>\n",
       "      <td>7</td>\n",
       "      <td>2022-01-01</td>\n",
       "      <td>1.0</td>\n",
       "      <td>3</td>\n",
       "      <td>test</td>\n",
       "      <td>Python</td>\n",
       "    </tr>\n",
       "    <tr>\n",
       "      <th>3</th>\n",
       "      <td>7</td>\n",
       "      <td>2022-01-01</td>\n",
       "      <td>1.0</td>\n",
       "      <td>3</td>\n",
       "      <td>train</td>\n",
       "      <td>Python</td>\n",
       "    </tr>\n",
       "  </tbody>\n",
       "</table>\n",
       "</div>"
      ],
      "text/plain": [
       "   A          B    C  D      E       F\n",
       "0  7 2022-01-01  1.0  3   test  Python\n",
       "1  7 2022-01-01  1.0  3  train  Python\n",
       "2  7 2022-01-01  1.0  3   test  Python\n",
       "3  7 2022-01-01  1.0  3  train  Python"
      ]
     },
     "execution_count": 65,
     "metadata": {},
     "output_type": "execute_result"
    }
   ],
   "source": [
    "df2"
   ]
  },
  {
   "cell_type": "code",
   "execution_count": 66,
   "id": "84f8cb20",
   "metadata": {
    "hidden": true
   },
   "outputs": [
    {
     "data": {
      "text/plain": [
       "A             int64\n",
       "B    datetime64[ns]\n",
       "C           float32\n",
       "D             int32\n",
       "E          category\n",
       "F            object\n",
       "dtype: object"
      ]
     },
     "execution_count": 66,
     "metadata": {},
     "output_type": "execute_result"
    }
   ],
   "source": [
    "df2.dtypes"
   ]
  },
  {
   "cell_type": "markdown",
   "id": "80b65a37",
   "metadata": {
    "heading_collapsed": true
   },
   "source": [
    "## 2.2. Merge "
   ]
  },
  {
   "cell_type": "code",
   "execution_count": 67,
   "id": "f0389fba",
   "metadata": {
    "hidden": true,
    "scrolled": true
   },
   "outputs": [
    {
     "data": {
      "text/html": [
       "<div>\n",
       "<style scoped>\n",
       "    .dataframe tbody tr th:only-of-type {\n",
       "        vertical-align: middle;\n",
       "    }\n",
       "\n",
       "    .dataframe tbody tr th {\n",
       "        vertical-align: top;\n",
       "    }\n",
       "\n",
       "    .dataframe thead th {\n",
       "        text-align: right;\n",
       "    }\n",
       "</style>\n",
       "<table border=\"1\" class=\"dataframe\">\n",
       "  <thead>\n",
       "    <tr style=\"text-align: right;\">\n",
       "      <th></th>\n",
       "      <th>Id</th>\n",
       "      <th>Nome</th>\n",
       "      <th>Idade</th>\n",
       "      <th>CEP</th>\n",
       "    </tr>\n",
       "  </thead>\n",
       "  <tbody>\n",
       "    <tr>\n",
       "      <th>0</th>\n",
       "      <td>AA2930</td>\n",
       "      <td>Victor</td>\n",
       "      <td>20</td>\n",
       "      <td>00092-029</td>\n",
       "    </tr>\n",
       "    <tr>\n",
       "      <th>1</th>\n",
       "      <td>BB4563</td>\n",
       "      <td>Amanda</td>\n",
       "      <td>35</td>\n",
       "      <td>11111-111</td>\n",
       "    </tr>\n",
       "    <tr>\n",
       "      <th>2</th>\n",
       "      <td>CC2139</td>\n",
       "      <td>Bruna</td>\n",
       "      <td>40</td>\n",
       "      <td>22222-888</td>\n",
       "    </tr>\n",
       "    <tr>\n",
       "      <th>3</th>\n",
       "      <td>DE2521</td>\n",
       "      <td>Carlos</td>\n",
       "      <td>54</td>\n",
       "      <td>00000-999</td>\n",
       "    </tr>\n",
       "    <tr>\n",
       "      <th>4</th>\n",
       "      <td>GT3462</td>\n",
       "      <td>Ricardo</td>\n",
       "      <td>30</td>\n",
       "      <td>88888-111</td>\n",
       "    </tr>\n",
       "    <tr>\n",
       "      <th>5</th>\n",
       "      <td>HH1158</td>\n",
       "      <td>Maria</td>\n",
       "      <td>27</td>\n",
       "      <td>77777-666</td>\n",
       "    </tr>\n",
       "  </tbody>\n",
       "</table>\n",
       "</div>"
      ],
      "text/plain": [
       "       Id     Nome  Idade        CEP\n",
       "0  AA2930   Victor     20  00092-029\n",
       "1  BB4563   Amanda     35  11111-111\n",
       "2  CC2139    Bruna     40  22222-888\n",
       "3  DE2521   Carlos     54  00000-999\n",
       "4  GT3462  Ricardo     30  88888-111\n",
       "5  HH1158    Maria     27  77777-666"
      ]
     },
     "execution_count": 67,
     "metadata": {},
     "output_type": "execute_result"
    }
   ],
   "source": [
    "# Cadastro da loja a\n",
    "cadastro_a = {'Id': ['AA2930','BB4563','CC2139','DE2521','GT3462','HH1158'],\n",
    "            'Nome':  ['Victor', 'Amanda', 'Bruna', 'Carlos', 'Ricardo', 'Maria'],\n",
    "            'Idade': [20,35,40,54,30,27],\n",
    "            'CEP': ['00092-029','11111-111','22222-888','00000-999','88888-111','77777-666']\n",
    "           }\n",
    "\n",
    "cadastro_a = pd.DataFrame(cadastro_a, columns = ['Id','Nome','Idade','CEP'])\n",
    "cadastro_a"
   ]
  },
  {
   "cell_type": "code",
   "execution_count": 68,
   "id": "6fb38b65",
   "metadata": {
    "hidden": true,
    "scrolled": false
   },
   "outputs": [
    {
     "data": {
      "text/html": [
       "<div>\n",
       "<style scoped>\n",
       "    .dataframe tbody tr th:only-of-type {\n",
       "        vertical-align: middle;\n",
       "    }\n",
       "\n",
       "    .dataframe tbody tr th {\n",
       "        vertical-align: top;\n",
       "    }\n",
       "\n",
       "    .dataframe thead th {\n",
       "        text-align: right;\n",
       "    }\n",
       "</style>\n",
       "<table border=\"1\" class=\"dataframe\">\n",
       "  <thead>\n",
       "    <tr style=\"text-align: right;\">\n",
       "      <th></th>\n",
       "      <th>Id</th>\n",
       "      <th>Nome</th>\n",
       "      <th>Idade</th>\n",
       "      <th>CEP</th>\n",
       "    </tr>\n",
       "  </thead>\n",
       "  <tbody>\n",
       "    <tr>\n",
       "      <th>0</th>\n",
       "      <td>CC9999</td>\n",
       "      <td>Marcos</td>\n",
       "      <td>19</td>\n",
       "      <td>00092-029</td>\n",
       "    </tr>\n",
       "    <tr>\n",
       "      <th>1</th>\n",
       "      <td>EF4488</td>\n",
       "      <td>Patricia</td>\n",
       "      <td>30</td>\n",
       "      <td>11111-111</td>\n",
       "    </tr>\n",
       "    <tr>\n",
       "      <th>2</th>\n",
       "      <td>DD9999</td>\n",
       "      <td>Ericka</td>\n",
       "      <td>22</td>\n",
       "      <td>11111-888</td>\n",
       "    </tr>\n",
       "    <tr>\n",
       "      <th>3</th>\n",
       "      <td>GT3462</td>\n",
       "      <td>Ricardo</td>\n",
       "      <td>30</td>\n",
       "      <td>88888-111</td>\n",
       "    </tr>\n",
       "    <tr>\n",
       "      <th>4</th>\n",
       "      <td>HH1158</td>\n",
       "      <td>Maria</td>\n",
       "      <td>27</td>\n",
       "      <td>77777-666</td>\n",
       "    </tr>\n",
       "  </tbody>\n",
       "</table>\n",
       "</div>"
      ],
      "text/plain": [
       "       Id      Nome  Idade        CEP\n",
       "0  CC9999    Marcos     19  00092-029\n",
       "1  EF4488  Patricia     30  11111-111\n",
       "2  DD9999    Ericka     22  11111-888\n",
       "3  GT3462   Ricardo     30  88888-111\n",
       "4  HH1158     Maria     27  77777-666"
      ]
     },
     "execution_count": 68,
     "metadata": {},
     "output_type": "execute_result"
    }
   ],
   "source": [
    "# Cadastro da loja b\n",
    "cadastro_b = {'Id': ['CC9999','EF4488','DD9999','GT3462','HH1158'],\n",
    "            'Nome':  ['Marcos', 'Patricia', 'Ericka', 'Ricardo', 'Maria'],\n",
    "            'Idade': [19,30,22,30,27],\n",
    "            'CEP': ['00092-029','11111-111','11111-888','88888-111','77777-666']\n",
    "           }\n",
    " \n",
    "cadastro_b = pd.DataFrame(cadastro_b, columns = ['Id','Nome','Idade','CEP'])\n",
    "cadastro_b"
   ]
  },
  {
   "cell_type": "code",
   "execution_count": 69,
   "id": "ccbd6af6",
   "metadata": {
    "hidden": true,
    "scrolled": false
   },
   "outputs": [
    {
     "data": {
      "text/html": [
       "<div>\n",
       "<style scoped>\n",
       "    .dataframe tbody tr th:only-of-type {\n",
       "        vertical-align: middle;\n",
       "    }\n",
       "\n",
       "    .dataframe tbody tr th {\n",
       "        vertical-align: top;\n",
       "    }\n",
       "\n",
       "    .dataframe thead th {\n",
       "        text-align: right;\n",
       "    }\n",
       "</style>\n",
       "<table border=\"1\" class=\"dataframe\">\n",
       "  <thead>\n",
       "    <tr style=\"text-align: right;\">\n",
       "      <th></th>\n",
       "      <th>Id</th>\n",
       "      <th>Data</th>\n",
       "      <th>Valor</th>\n",
       "    </tr>\n",
       "  </thead>\n",
       "  <tbody>\n",
       "    <tr>\n",
       "      <th>0</th>\n",
       "      <td>AA2930</td>\n",
       "      <td>2019-01-01</td>\n",
       "      <td>200</td>\n",
       "    </tr>\n",
       "    <tr>\n",
       "      <th>1</th>\n",
       "      <td>EF4488</td>\n",
       "      <td>2019-01-30</td>\n",
       "      <td>100</td>\n",
       "    </tr>\n",
       "    <tr>\n",
       "      <th>2</th>\n",
       "      <td>CC2139</td>\n",
       "      <td>2019-01-30</td>\n",
       "      <td>40</td>\n",
       "    </tr>\n",
       "    <tr>\n",
       "      <th>3</th>\n",
       "      <td>EF4488</td>\n",
       "      <td>2019-02-01</td>\n",
       "      <td>150</td>\n",
       "    </tr>\n",
       "    <tr>\n",
       "      <th>4</th>\n",
       "      <td>CC9999</td>\n",
       "      <td>2019-02-20</td>\n",
       "      <td>300</td>\n",
       "    </tr>\n",
       "    <tr>\n",
       "      <th>5</th>\n",
       "      <td>AA2930</td>\n",
       "      <td>2019-03-15</td>\n",
       "      <td>25</td>\n",
       "    </tr>\n",
       "    <tr>\n",
       "      <th>6</th>\n",
       "      <td>HH1158</td>\n",
       "      <td>2019-04-01</td>\n",
       "      <td>50</td>\n",
       "    </tr>\n",
       "    <tr>\n",
       "      <th>7</th>\n",
       "      <td>HH1158</td>\n",
       "      <td>2019-04-10</td>\n",
       "      <td>500</td>\n",
       "    </tr>\n",
       "  </tbody>\n",
       "</table>\n",
       "</div>"
      ],
      "text/plain": [
       "       Id        Data  Valor\n",
       "0  AA2930  2019-01-01    200\n",
       "1  EF4488  2019-01-30    100\n",
       "2  CC2139  2019-01-30     40\n",
       "3  EF4488  2019-02-01    150\n",
       "4  CC9999  2019-02-20    300\n",
       "5  AA2930  2019-03-15     25\n",
       "6  HH1158  2019-04-01     50\n",
       "7  HH1158  2019-04-10    500"
      ]
     },
     "execution_count": 69,
     "metadata": {},
     "output_type": "execute_result"
    }
   ],
   "source": [
    "# Registro de compras de todas unidades\n",
    "compras = {'Id': ['AA2930','EF4488','CC2139','EF4488','CC9999','AA2930','HH1158','HH1158'],\n",
    "            'Data':  ['2019-01-01','2019-01-30','2019-01-30','2019-02-01','2019-02-20','2019-03-15','2019-04-01','2019-04-10'],\n",
    "            'Valor': [200,100,40,150,300,25,50,500]\n",
    "           }\n",
    " \n",
    "compras = pd.DataFrame(compras, columns = ['Id','Data','Valor'])\n",
    "\n",
    "compras"
   ]
  },
  {
   "cell_type": "markdown",
   "id": "61ed0e01",
   "metadata": {
    "hidden": true
   },
   "source": [
    "* Merge **inner join** junta a interceção entre as tabelas"
   ]
  },
  {
   "cell_type": "code",
   "execution_count": 70,
   "id": "2021de31",
   "metadata": {
    "hidden": true,
    "scrolled": true
   },
   "outputs": [
    {
     "data": {
      "text/html": [
       "<div>\n",
       "<style scoped>\n",
       "    .dataframe tbody tr th:only-of-type {\n",
       "        vertical-align: middle;\n",
       "    }\n",
       "\n",
       "    .dataframe tbody tr th {\n",
       "        vertical-align: top;\n",
       "    }\n",
       "\n",
       "    .dataframe thead th {\n",
       "        text-align: right;\n",
       "    }\n",
       "</style>\n",
       "<table border=\"1\" class=\"dataframe\">\n",
       "  <thead>\n",
       "    <tr style=\"text-align: right;\">\n",
       "      <th></th>\n",
       "      <th>Id</th>\n",
       "      <th>Nome</th>\n",
       "      <th>Idade_A</th>\n",
       "      <th>CEP_A</th>\n",
       "      <th>Idade_B</th>\n",
       "      <th>CEP_B</th>\n",
       "    </tr>\n",
       "  </thead>\n",
       "  <tbody>\n",
       "    <tr>\n",
       "      <th>0</th>\n",
       "      <td>GT3462</td>\n",
       "      <td>Ricardo</td>\n",
       "      <td>30</td>\n",
       "      <td>88888-111</td>\n",
       "      <td>30</td>\n",
       "      <td>88888-111</td>\n",
       "    </tr>\n",
       "    <tr>\n",
       "      <th>1</th>\n",
       "      <td>HH1158</td>\n",
       "      <td>Maria</td>\n",
       "      <td>27</td>\n",
       "      <td>77777-666</td>\n",
       "      <td>27</td>\n",
       "      <td>77777-666</td>\n",
       "    </tr>\n",
       "  </tbody>\n",
       "</table>\n",
       "</div>"
      ],
      "text/plain": [
       "       Id     Nome  Idade_A      CEP_A  Idade_B      CEP_B\n",
       "0  GT3462  Ricardo       30  88888-111       30  88888-111\n",
       "1  HH1158    Maria       27  77777-666       27  77777-666"
      ]
     },
     "execution_count": 70,
     "metadata": {},
     "output_type": "execute_result"
    }
   ],
   "source": [
    "pd.merge(cadastro_a, cadastro_b[['Id', 'Idade', 'CEP']], on= ['Id'], how='inner', suffixes= ('_A', '_B'))"
   ]
  },
  {
   "cell_type": "markdown",
   "id": "243df605",
   "metadata": {
    "hidden": true
   },
   "source": [
    "* Merge **full join** junta a todas as informações das tabelas"
   ]
  },
  {
   "cell_type": "code",
   "execution_count": 71,
   "id": "c52daa88",
   "metadata": {
    "hidden": true
   },
   "outputs": [],
   "source": [
    "lojas = pd.concat([cadastro_a, cadastro_b], ignore_index= True)"
   ]
  },
  {
   "cell_type": "code",
   "execution_count": 72,
   "id": "2c4191e8",
   "metadata": {
    "hidden": true
   },
   "outputs": [],
   "source": [
    "clientes_unicos = lojas.drop_duplicates(subset=['Id'])"
   ]
  },
  {
   "cell_type": "code",
   "execution_count": 73,
   "id": "a76b2d84",
   "metadata": {
    "hidden": true,
    "scrolled": true
   },
   "outputs": [
    {
     "data": {
      "text/html": [
       "<div>\n",
       "<style scoped>\n",
       "    .dataframe tbody tr th:only-of-type {\n",
       "        vertical-align: middle;\n",
       "    }\n",
       "\n",
       "    .dataframe tbody tr th {\n",
       "        vertical-align: top;\n",
       "    }\n",
       "\n",
       "    .dataframe thead th {\n",
       "        text-align: right;\n",
       "    }\n",
       "</style>\n",
       "<table border=\"1\" class=\"dataframe\">\n",
       "  <thead>\n",
       "    <tr style=\"text-align: right;\">\n",
       "      <th></th>\n",
       "      <th>Id</th>\n",
       "      <th>Nome</th>\n",
       "      <th>Idade</th>\n",
       "      <th>CEP</th>\n",
       "    </tr>\n",
       "  </thead>\n",
       "  <tbody>\n",
       "    <tr>\n",
       "      <th>0</th>\n",
       "      <td>AA2930</td>\n",
       "      <td>Victor</td>\n",
       "      <td>20</td>\n",
       "      <td>00092-029</td>\n",
       "    </tr>\n",
       "    <tr>\n",
       "      <th>1</th>\n",
       "      <td>BB4563</td>\n",
       "      <td>Amanda</td>\n",
       "      <td>35</td>\n",
       "      <td>11111-111</td>\n",
       "    </tr>\n",
       "    <tr>\n",
       "      <th>2</th>\n",
       "      <td>CC2139</td>\n",
       "      <td>Bruna</td>\n",
       "      <td>40</td>\n",
       "      <td>22222-888</td>\n",
       "    </tr>\n",
       "    <tr>\n",
       "      <th>3</th>\n",
       "      <td>DE2521</td>\n",
       "      <td>Carlos</td>\n",
       "      <td>54</td>\n",
       "      <td>00000-999</td>\n",
       "    </tr>\n",
       "    <tr>\n",
       "      <th>4</th>\n",
       "      <td>GT3462</td>\n",
       "      <td>Ricardo</td>\n",
       "      <td>30</td>\n",
       "      <td>88888-111</td>\n",
       "    </tr>\n",
       "    <tr>\n",
       "      <th>5</th>\n",
       "      <td>HH1158</td>\n",
       "      <td>Maria</td>\n",
       "      <td>27</td>\n",
       "      <td>77777-666</td>\n",
       "    </tr>\n",
       "    <tr>\n",
       "      <th>6</th>\n",
       "      <td>CC9999</td>\n",
       "      <td>Marcos</td>\n",
       "      <td>19</td>\n",
       "      <td>00092-029</td>\n",
       "    </tr>\n",
       "    <tr>\n",
       "      <th>7</th>\n",
       "      <td>EF4488</td>\n",
       "      <td>Patricia</td>\n",
       "      <td>30</td>\n",
       "      <td>11111-111</td>\n",
       "    </tr>\n",
       "    <tr>\n",
       "      <th>8</th>\n",
       "      <td>DD9999</td>\n",
       "      <td>Ericka</td>\n",
       "      <td>22</td>\n",
       "      <td>11111-888</td>\n",
       "    </tr>\n",
       "  </tbody>\n",
       "</table>\n",
       "</div>"
      ],
      "text/plain": [
       "       Id      Nome  Idade        CEP\n",
       "0  AA2930    Victor     20  00092-029\n",
       "1  BB4563    Amanda     35  11111-111\n",
       "2  CC2139     Bruna     40  22222-888\n",
       "3  DE2521    Carlos     54  00000-999\n",
       "4  GT3462   Ricardo     30  88888-111\n",
       "5  HH1158     Maria     27  77777-666\n",
       "6  CC9999    Marcos     19  00092-029\n",
       "7  EF4488  Patricia     30  11111-111\n",
       "8  DD9999    Ericka     22  11111-888"
      ]
     },
     "execution_count": 73,
     "metadata": {},
     "output_type": "execute_result"
    }
   ],
   "source": [
    "clientes_unicos"
   ]
  },
  {
   "cell_type": "markdown",
   "id": "56bf2238",
   "metadata": {
    "hidden": true
   },
   "source": [
    "* Merge **left join** junta informações do lado esquerdo da tabela "
   ]
  },
  {
   "cell_type": "code",
   "execution_count": 74,
   "id": "81fe873d",
   "metadata": {
    "hidden": true,
    "scrolled": true
   },
   "outputs": [],
   "source": [
    "esquerda = pd.merge(cadastro_a, compras, how='left', on=['Id'])"
   ]
  },
  {
   "cell_type": "code",
   "execution_count": 75,
   "id": "a83b8568",
   "metadata": {
    "hidden": true,
    "scrolled": true
   },
   "outputs": [
    {
     "data": {
      "text/html": [
       "<div>\n",
       "<style scoped>\n",
       "    .dataframe tbody tr th:only-of-type {\n",
       "        vertical-align: middle;\n",
       "    }\n",
       "\n",
       "    .dataframe tbody tr th {\n",
       "        vertical-align: top;\n",
       "    }\n",
       "\n",
       "    .dataframe thead th {\n",
       "        text-align: right;\n",
       "    }\n",
       "</style>\n",
       "<table border=\"1\" class=\"dataframe\">\n",
       "  <thead>\n",
       "    <tr style=\"text-align: right;\">\n",
       "      <th></th>\n",
       "      <th>Id</th>\n",
       "      <th>Data</th>\n",
       "      <th>Valor</th>\n",
       "    </tr>\n",
       "  </thead>\n",
       "  <tbody>\n",
       "    <tr>\n",
       "      <th>0</th>\n",
       "      <td>AA2930</td>\n",
       "      <td>2019-01-01</td>\n",
       "      <td>200</td>\n",
       "    </tr>\n",
       "    <tr>\n",
       "      <th>1</th>\n",
       "      <td>EF4488</td>\n",
       "      <td>2019-01-30</td>\n",
       "      <td>100</td>\n",
       "    </tr>\n",
       "    <tr>\n",
       "      <th>2</th>\n",
       "      <td>CC2139</td>\n",
       "      <td>2019-01-30</td>\n",
       "      <td>40</td>\n",
       "    </tr>\n",
       "    <tr>\n",
       "      <th>3</th>\n",
       "      <td>EF4488</td>\n",
       "      <td>2019-02-01</td>\n",
       "      <td>150</td>\n",
       "    </tr>\n",
       "    <tr>\n",
       "      <th>4</th>\n",
       "      <td>CC9999</td>\n",
       "      <td>2019-02-20</td>\n",
       "      <td>300</td>\n",
       "    </tr>\n",
       "    <tr>\n",
       "      <th>5</th>\n",
       "      <td>AA2930</td>\n",
       "      <td>2019-03-15</td>\n",
       "      <td>25</td>\n",
       "    </tr>\n",
       "    <tr>\n",
       "      <th>6</th>\n",
       "      <td>HH1158</td>\n",
       "      <td>2019-04-01</td>\n",
       "      <td>50</td>\n",
       "    </tr>\n",
       "    <tr>\n",
       "      <th>7</th>\n",
       "      <td>HH1158</td>\n",
       "      <td>2019-04-10</td>\n",
       "      <td>500</td>\n",
       "    </tr>\n",
       "  </tbody>\n",
       "</table>\n",
       "</div>"
      ],
      "text/plain": [
       "       Id        Data  Valor\n",
       "0  AA2930  2019-01-01    200\n",
       "1  EF4488  2019-01-30    100\n",
       "2  CC2139  2019-01-30     40\n",
       "3  EF4488  2019-02-01    150\n",
       "4  CC9999  2019-02-20    300\n",
       "5  AA2930  2019-03-15     25\n",
       "6  HH1158  2019-04-01     50\n",
       "7  HH1158  2019-04-10    500"
      ]
     },
     "execution_count": 75,
     "metadata": {},
     "output_type": "execute_result"
    }
   ],
   "source": [
    "compras"
   ]
  },
  {
   "cell_type": "code",
   "execution_count": 76,
   "id": "751107f5",
   "metadata": {
    "hidden": true
   },
   "outputs": [
    {
     "data": {
      "text/html": [
       "<div>\n",
       "<style scoped>\n",
       "    .dataframe tbody tr th:only-of-type {\n",
       "        vertical-align: middle;\n",
       "    }\n",
       "\n",
       "    .dataframe tbody tr th {\n",
       "        vertical-align: top;\n",
       "    }\n",
       "\n",
       "    .dataframe thead th {\n",
       "        text-align: right;\n",
       "    }\n",
       "</style>\n",
       "<table border=\"1\" class=\"dataframe\">\n",
       "  <thead>\n",
       "    <tr style=\"text-align: right;\">\n",
       "      <th></th>\n",
       "      <th>Id</th>\n",
       "      <th>Nome</th>\n",
       "      <th>Idade</th>\n",
       "      <th>CEP</th>\n",
       "    </tr>\n",
       "  </thead>\n",
       "  <tbody>\n",
       "    <tr>\n",
       "      <th>0</th>\n",
       "      <td>AA2930</td>\n",
       "      <td>Victor</td>\n",
       "      <td>20</td>\n",
       "      <td>00092-029</td>\n",
       "    </tr>\n",
       "    <tr>\n",
       "      <th>1</th>\n",
       "      <td>BB4563</td>\n",
       "      <td>Amanda</td>\n",
       "      <td>35</td>\n",
       "      <td>11111-111</td>\n",
       "    </tr>\n",
       "    <tr>\n",
       "      <th>2</th>\n",
       "      <td>CC2139</td>\n",
       "      <td>Bruna</td>\n",
       "      <td>40</td>\n",
       "      <td>22222-888</td>\n",
       "    </tr>\n",
       "    <tr>\n",
       "      <th>3</th>\n",
       "      <td>DE2521</td>\n",
       "      <td>Carlos</td>\n",
       "      <td>54</td>\n",
       "      <td>00000-999</td>\n",
       "    </tr>\n",
       "    <tr>\n",
       "      <th>4</th>\n",
       "      <td>GT3462</td>\n",
       "      <td>Ricardo</td>\n",
       "      <td>30</td>\n",
       "      <td>88888-111</td>\n",
       "    </tr>\n",
       "    <tr>\n",
       "      <th>5</th>\n",
       "      <td>HH1158</td>\n",
       "      <td>Maria</td>\n",
       "      <td>27</td>\n",
       "      <td>77777-666</td>\n",
       "    </tr>\n",
       "  </tbody>\n",
       "</table>\n",
       "</div>"
      ],
      "text/plain": [
       "       Id     Nome  Idade        CEP\n",
       "0  AA2930   Victor     20  00092-029\n",
       "1  BB4563   Amanda     35  11111-111\n",
       "2  CC2139    Bruna     40  22222-888\n",
       "3  DE2521   Carlos     54  00000-999\n",
       "4  GT3462  Ricardo     30  88888-111\n",
       "5  HH1158    Maria     27  77777-666"
      ]
     },
     "execution_count": 76,
     "metadata": {},
     "output_type": "execute_result"
    }
   ],
   "source": [
    "cadastro_a"
   ]
  },
  {
   "cell_type": "code",
   "execution_count": 77,
   "id": "94bded05",
   "metadata": {
    "hidden": true,
    "scrolled": false
   },
   "outputs": [
    {
     "data": {
      "text/html": [
       "<div>\n",
       "<style scoped>\n",
       "    .dataframe tbody tr th:only-of-type {\n",
       "        vertical-align: middle;\n",
       "    }\n",
       "\n",
       "    .dataframe tbody tr th {\n",
       "        vertical-align: top;\n",
       "    }\n",
       "\n",
       "    .dataframe thead th {\n",
       "        text-align: right;\n",
       "    }\n",
       "</style>\n",
       "<table border=\"1\" class=\"dataframe\">\n",
       "  <thead>\n",
       "    <tr style=\"text-align: right;\">\n",
       "      <th></th>\n",
       "      <th>Id</th>\n",
       "      <th>Nome</th>\n",
       "      <th>Idade</th>\n",
       "      <th>CEP</th>\n",
       "      <th>Data</th>\n",
       "      <th>Valor</th>\n",
       "    </tr>\n",
       "  </thead>\n",
       "  <tbody>\n",
       "    <tr>\n",
       "      <th>0</th>\n",
       "      <td>AA2930</td>\n",
       "      <td>Victor</td>\n",
       "      <td>20</td>\n",
       "      <td>00092-029</td>\n",
       "      <td>2019-01-01</td>\n",
       "      <td>200.0</td>\n",
       "    </tr>\n",
       "    <tr>\n",
       "      <th>1</th>\n",
       "      <td>AA2930</td>\n",
       "      <td>Victor</td>\n",
       "      <td>20</td>\n",
       "      <td>00092-029</td>\n",
       "      <td>2019-03-15</td>\n",
       "      <td>25.0</td>\n",
       "    </tr>\n",
       "    <tr>\n",
       "      <th>2</th>\n",
       "      <td>BB4563</td>\n",
       "      <td>Amanda</td>\n",
       "      <td>35</td>\n",
       "      <td>11111-111</td>\n",
       "      <td>NaN</td>\n",
       "      <td>NaN</td>\n",
       "    </tr>\n",
       "    <tr>\n",
       "      <th>3</th>\n",
       "      <td>CC2139</td>\n",
       "      <td>Bruna</td>\n",
       "      <td>40</td>\n",
       "      <td>22222-888</td>\n",
       "      <td>2019-01-30</td>\n",
       "      <td>40.0</td>\n",
       "    </tr>\n",
       "    <tr>\n",
       "      <th>4</th>\n",
       "      <td>DE2521</td>\n",
       "      <td>Carlos</td>\n",
       "      <td>54</td>\n",
       "      <td>00000-999</td>\n",
       "      <td>NaN</td>\n",
       "      <td>NaN</td>\n",
       "    </tr>\n",
       "    <tr>\n",
       "      <th>5</th>\n",
       "      <td>GT3462</td>\n",
       "      <td>Ricardo</td>\n",
       "      <td>30</td>\n",
       "      <td>88888-111</td>\n",
       "      <td>NaN</td>\n",
       "      <td>NaN</td>\n",
       "    </tr>\n",
       "    <tr>\n",
       "      <th>6</th>\n",
       "      <td>HH1158</td>\n",
       "      <td>Maria</td>\n",
       "      <td>27</td>\n",
       "      <td>77777-666</td>\n",
       "      <td>2019-04-01</td>\n",
       "      <td>50.0</td>\n",
       "    </tr>\n",
       "    <tr>\n",
       "      <th>7</th>\n",
       "      <td>HH1158</td>\n",
       "      <td>Maria</td>\n",
       "      <td>27</td>\n",
       "      <td>77777-666</td>\n",
       "      <td>2019-04-10</td>\n",
       "      <td>500.0</td>\n",
       "    </tr>\n",
       "  </tbody>\n",
       "</table>\n",
       "</div>"
      ],
      "text/plain": [
       "       Id     Nome  Idade        CEP        Data  Valor\n",
       "0  AA2930   Victor     20  00092-029  2019-01-01  200.0\n",
       "1  AA2930   Victor     20  00092-029  2019-03-15   25.0\n",
       "2  BB4563   Amanda     35  11111-111         NaN    NaN\n",
       "3  CC2139    Bruna     40  22222-888  2019-01-30   40.0\n",
       "4  DE2521   Carlos     54  00000-999         NaN    NaN\n",
       "5  GT3462  Ricardo     30  88888-111         NaN    NaN\n",
       "6  HH1158    Maria     27  77777-666  2019-04-01   50.0\n",
       "7  HH1158    Maria     27  77777-666  2019-04-10  500.0"
      ]
     },
     "execution_count": 77,
     "metadata": {},
     "output_type": "execute_result"
    }
   ],
   "source": [
    "esquerda"
   ]
  },
  {
   "cell_type": "code",
   "execution_count": 78,
   "id": "7921212c",
   "metadata": {
    "hidden": true,
    "scrolled": true
   },
   "outputs": [
    {
     "data": {
      "text/plain": [
       "Id      Nome   \n",
       "AA2930  Victor     225.0\n",
       "BB4563  Amanda       0.0\n",
       "CC2139  Bruna       40.0\n",
       "DE2521  Carlos       0.0\n",
       "GT3462  Ricardo      0.0\n",
       "HH1158  Maria      550.0\n",
       "Name: Valor, dtype: float64"
      ]
     },
     "execution_count": 78,
     "metadata": {},
     "output_type": "execute_result"
    }
   ],
   "source": [
    "esquerda.groupby(['Id', 'Nome'])['Valor'].sum()"
   ]
  },
  {
   "cell_type": "markdown",
   "id": "72c07ba4",
   "metadata": {
    "heading_collapsed": true
   },
   "source": [
    "## 2.3. Groupby "
   ]
  },
  {
   "cell_type": "code",
   "execution_count": 79,
   "id": "2914940d",
   "metadata": {
    "hidden": true
   },
   "outputs": [],
   "source": [
    "dfg = pd.DataFrame({'A': ['verdadeiro', 'falso', 'verdadeiro', 'falso', 'verdadeiro', 'falso', 'verdadeiro', 'falso'],\n",
    "                    \n",
    "                    'B': ['um', 'um', 'dois', 'tres', 'dois', ' dois', 'um ', 'tres'],\n",
    "                    \n",
    "                    'C': np.random.randn(8),\n",
    "                    \n",
    "                    'D': np.random.randn(8)})"
   ]
  },
  {
   "cell_type": "code",
   "execution_count": 80,
   "id": "4d573ed0",
   "metadata": {
    "hidden": true
   },
   "outputs": [
    {
     "data": {
      "text/html": [
       "<div>\n",
       "<style scoped>\n",
       "    .dataframe tbody tr th:only-of-type {\n",
       "        vertical-align: middle;\n",
       "    }\n",
       "\n",
       "    .dataframe tbody tr th {\n",
       "        vertical-align: top;\n",
       "    }\n",
       "\n",
       "    .dataframe thead th {\n",
       "        text-align: right;\n",
       "    }\n",
       "</style>\n",
       "<table border=\"1\" class=\"dataframe\">\n",
       "  <thead>\n",
       "    <tr style=\"text-align: right;\">\n",
       "      <th></th>\n",
       "      <th>A</th>\n",
       "      <th>B</th>\n",
       "      <th>C</th>\n",
       "      <th>D</th>\n",
       "    </tr>\n",
       "  </thead>\n",
       "  <tbody>\n",
       "    <tr>\n",
       "      <th>0</th>\n",
       "      <td>verdadeiro</td>\n",
       "      <td>um</td>\n",
       "      <td>0.115123</td>\n",
       "      <td>-0.853005</td>\n",
       "    </tr>\n",
       "    <tr>\n",
       "      <th>1</th>\n",
       "      <td>falso</td>\n",
       "      <td>um</td>\n",
       "      <td>-0.439573</td>\n",
       "      <td>0.664527</td>\n",
       "    </tr>\n",
       "    <tr>\n",
       "      <th>2</th>\n",
       "      <td>verdadeiro</td>\n",
       "      <td>dois</td>\n",
       "      <td>0.489212</td>\n",
       "      <td>0.411203</td>\n",
       "    </tr>\n",
       "    <tr>\n",
       "      <th>3</th>\n",
       "      <td>falso</td>\n",
       "      <td>tres</td>\n",
       "      <td>1.880224</td>\n",
       "      <td>-0.690515</td>\n",
       "    </tr>\n",
       "    <tr>\n",
       "      <th>4</th>\n",
       "      <td>verdadeiro</td>\n",
       "      <td>dois</td>\n",
       "      <td>-0.615325</td>\n",
       "      <td>0.591808</td>\n",
       "    </tr>\n",
       "    <tr>\n",
       "      <th>5</th>\n",
       "      <td>falso</td>\n",
       "      <td>dois</td>\n",
       "      <td>-0.324936</td>\n",
       "      <td>2.434682</td>\n",
       "    </tr>\n",
       "    <tr>\n",
       "      <th>6</th>\n",
       "      <td>verdadeiro</td>\n",
       "      <td>um</td>\n",
       "      <td>0.129989</td>\n",
       "      <td>-0.019274</td>\n",
       "    </tr>\n",
       "    <tr>\n",
       "      <th>7</th>\n",
       "      <td>falso</td>\n",
       "      <td>tres</td>\n",
       "      <td>0.942944</td>\n",
       "      <td>0.685802</td>\n",
       "    </tr>\n",
       "  </tbody>\n",
       "</table>\n",
       "</div>"
      ],
      "text/plain": [
       "            A      B         C         D\n",
       "0  verdadeiro     um  0.115123 -0.853005\n",
       "1       falso     um -0.439573  0.664527\n",
       "2  verdadeiro   dois  0.489212  0.411203\n",
       "3       falso   tres  1.880224 -0.690515\n",
       "4  verdadeiro   dois -0.615325  0.591808\n",
       "5       falso   dois -0.324936  2.434682\n",
       "6  verdadeiro    um   0.129989 -0.019274\n",
       "7       falso   tres  0.942944  0.685802"
      ]
     },
     "execution_count": 80,
     "metadata": {},
     "output_type": "execute_result"
    }
   ],
   "source": [
    "dfg"
   ]
  },
  {
   "cell_type": "markdown",
   "id": "fc3fba7f",
   "metadata": {
    "heading_collapsed": true,
    "hidden": true
   },
   "source": [
    "#### Soma dos valores das colunas baseada na coluna A"
   ]
  },
  {
   "cell_type": "code",
   "execution_count": 81,
   "id": "642ebe5d",
   "metadata": {
    "hidden": true,
    "scrolled": false
   },
   "outputs": [
    {
     "data": {
      "text/html": [
       "<div>\n",
       "<style scoped>\n",
       "    .dataframe tbody tr th:only-of-type {\n",
       "        vertical-align: middle;\n",
       "    }\n",
       "\n",
       "    .dataframe tbody tr th {\n",
       "        vertical-align: top;\n",
       "    }\n",
       "\n",
       "    .dataframe thead th {\n",
       "        text-align: right;\n",
       "    }\n",
       "</style>\n",
       "<table border=\"1\" class=\"dataframe\">\n",
       "  <thead>\n",
       "    <tr style=\"text-align: right;\">\n",
       "      <th></th>\n",
       "      <th>C</th>\n",
       "      <th>D</th>\n",
       "    </tr>\n",
       "    <tr>\n",
       "      <th>A</th>\n",
       "      <th></th>\n",
       "      <th></th>\n",
       "    </tr>\n",
       "  </thead>\n",
       "  <tbody>\n",
       "    <tr>\n",
       "      <th>falso</th>\n",
       "      <td>2.058659</td>\n",
       "      <td>3.094496</td>\n",
       "    </tr>\n",
       "    <tr>\n",
       "      <th>verdadeiro</th>\n",
       "      <td>0.118998</td>\n",
       "      <td>0.130733</td>\n",
       "    </tr>\n",
       "  </tbody>\n",
       "</table>\n",
       "</div>"
      ],
      "text/plain": [
       "                   C         D\n",
       "A                             \n",
       "falso       2.058659  3.094496\n",
       "verdadeiro  0.118998  0.130733"
      ]
     },
     "execution_count": 81,
     "metadata": {},
     "output_type": "execute_result"
    }
   ],
   "source": [
    "dfg.groupby(['A']).sum()"
   ]
  },
  {
   "cell_type": "markdown",
   "id": "233a711d",
   "metadata": {
    "heading_collapsed": true,
    "hidden": true
   },
   "source": [
    "#### Média dos valores das colunas baseada na coluna A"
   ]
  },
  {
   "cell_type": "code",
   "execution_count": 82,
   "id": "21da4e6d",
   "metadata": {
    "hidden": true
   },
   "outputs": [
    {
     "data": {
      "text/html": [
       "<div>\n",
       "<style scoped>\n",
       "    .dataframe tbody tr th:only-of-type {\n",
       "        vertical-align: middle;\n",
       "    }\n",
       "\n",
       "    .dataframe tbody tr th {\n",
       "        vertical-align: top;\n",
       "    }\n",
       "\n",
       "    .dataframe thead th {\n",
       "        text-align: right;\n",
       "    }\n",
       "</style>\n",
       "<table border=\"1\" class=\"dataframe\">\n",
       "  <thead>\n",
       "    <tr style=\"text-align: right;\">\n",
       "      <th></th>\n",
       "      <th>C</th>\n",
       "      <th>D</th>\n",
       "    </tr>\n",
       "    <tr>\n",
       "      <th>A</th>\n",
       "      <th></th>\n",
       "      <th></th>\n",
       "    </tr>\n",
       "  </thead>\n",
       "  <tbody>\n",
       "    <tr>\n",
       "      <th>falso</th>\n",
       "      <td>0.514665</td>\n",
       "      <td>0.773624</td>\n",
       "    </tr>\n",
       "    <tr>\n",
       "      <th>verdadeiro</th>\n",
       "      <td>0.029750</td>\n",
       "      <td>0.032683</td>\n",
       "    </tr>\n",
       "  </tbody>\n",
       "</table>\n",
       "</div>"
      ],
      "text/plain": [
       "                   C         D\n",
       "A                             \n",
       "falso       0.514665  0.773624\n",
       "verdadeiro  0.029750  0.032683"
      ]
     },
     "execution_count": 82,
     "metadata": {},
     "output_type": "execute_result"
    }
   ],
   "source": [
    "dfg.groupby(['A']).mean()"
   ]
  },
  {
   "cell_type": "markdown",
   "id": "ce76dd69",
   "metadata": {
    "heading_collapsed": true,
    "hidden": true
   },
   "source": [
    "#### Soma dos valores das colunas baseada na coluna B"
   ]
  },
  {
   "cell_type": "code",
   "execution_count": 83,
   "id": "9df408ce",
   "metadata": {
    "hidden": true
   },
   "outputs": [
    {
     "data": {
      "text/html": [
       "<div>\n",
       "<style scoped>\n",
       "    .dataframe tbody tr th:only-of-type {\n",
       "        vertical-align: middle;\n",
       "    }\n",
       "\n",
       "    .dataframe tbody tr th {\n",
       "        vertical-align: top;\n",
       "    }\n",
       "\n",
       "    .dataframe thead th {\n",
       "        text-align: right;\n",
       "    }\n",
       "</style>\n",
       "<table border=\"1\" class=\"dataframe\">\n",
       "  <thead>\n",
       "    <tr style=\"text-align: right;\">\n",
       "      <th></th>\n",
       "      <th>C</th>\n",
       "      <th>D</th>\n",
       "    </tr>\n",
       "    <tr>\n",
       "      <th>B</th>\n",
       "      <th></th>\n",
       "      <th></th>\n",
       "    </tr>\n",
       "  </thead>\n",
       "  <tbody>\n",
       "    <tr>\n",
       "      <th>dois</th>\n",
       "      <td>-0.324936</td>\n",
       "      <td>2.434682</td>\n",
       "    </tr>\n",
       "    <tr>\n",
       "      <th>dois</th>\n",
       "      <td>-0.126114</td>\n",
       "      <td>1.003012</td>\n",
       "    </tr>\n",
       "    <tr>\n",
       "      <th>tres</th>\n",
       "      <td>2.823168</td>\n",
       "      <td>-0.004713</td>\n",
       "    </tr>\n",
       "    <tr>\n",
       "      <th>um</th>\n",
       "      <td>-0.324450</td>\n",
       "      <td>-0.188479</td>\n",
       "    </tr>\n",
       "    <tr>\n",
       "      <th>um</th>\n",
       "      <td>0.129989</td>\n",
       "      <td>-0.019274</td>\n",
       "    </tr>\n",
       "  </tbody>\n",
       "</table>\n",
       "</div>"
      ],
      "text/plain": [
       "              C         D\n",
       "B                        \n",
       " dois -0.324936  2.434682\n",
       "dois  -0.126114  1.003012\n",
       "tres   2.823168 -0.004713\n",
       "um    -0.324450 -0.188479\n",
       "um     0.129989 -0.019274"
      ]
     },
     "execution_count": 83,
     "metadata": {},
     "output_type": "execute_result"
    }
   ],
   "source": [
    "dfg.groupby(['B']).sum()"
   ]
  },
  {
   "cell_type": "markdown",
   "id": "6c3116da",
   "metadata": {
    "heading_collapsed": true,
    "hidden": true
   },
   "source": [
    "#### Média dos valores das colunas baseada na coluna B"
   ]
  },
  {
   "cell_type": "code",
   "execution_count": 84,
   "id": "8bb914c1",
   "metadata": {
    "hidden": true,
    "scrolled": true
   },
   "outputs": [
    {
     "data": {
      "text/html": [
       "<div>\n",
       "<style scoped>\n",
       "    .dataframe tbody tr th:only-of-type {\n",
       "        vertical-align: middle;\n",
       "    }\n",
       "\n",
       "    .dataframe tbody tr th {\n",
       "        vertical-align: top;\n",
       "    }\n",
       "\n",
       "    .dataframe thead th {\n",
       "        text-align: right;\n",
       "    }\n",
       "</style>\n",
       "<table border=\"1\" class=\"dataframe\">\n",
       "  <thead>\n",
       "    <tr style=\"text-align: right;\">\n",
       "      <th></th>\n",
       "      <th>C</th>\n",
       "      <th>D</th>\n",
       "    </tr>\n",
       "    <tr>\n",
       "      <th>B</th>\n",
       "      <th></th>\n",
       "      <th></th>\n",
       "    </tr>\n",
       "  </thead>\n",
       "  <tbody>\n",
       "    <tr>\n",
       "      <th>dois</th>\n",
       "      <td>-0.324936</td>\n",
       "      <td>2.434682</td>\n",
       "    </tr>\n",
       "    <tr>\n",
       "      <th>dois</th>\n",
       "      <td>-0.063057</td>\n",
       "      <td>0.501506</td>\n",
       "    </tr>\n",
       "    <tr>\n",
       "      <th>tres</th>\n",
       "      <td>1.411584</td>\n",
       "      <td>-0.002356</td>\n",
       "    </tr>\n",
       "    <tr>\n",
       "      <th>um</th>\n",
       "      <td>-0.162225</td>\n",
       "      <td>-0.094239</td>\n",
       "    </tr>\n",
       "    <tr>\n",
       "      <th>um</th>\n",
       "      <td>0.129989</td>\n",
       "      <td>-0.019274</td>\n",
       "    </tr>\n",
       "  </tbody>\n",
       "</table>\n",
       "</div>"
      ],
      "text/plain": [
       "              C         D\n",
       "B                        \n",
       " dois -0.324936  2.434682\n",
       "dois  -0.063057  0.501506\n",
       "tres   1.411584 -0.002356\n",
       "um    -0.162225 -0.094239\n",
       "um     0.129989 -0.019274"
      ]
     },
     "execution_count": 84,
     "metadata": {},
     "output_type": "execute_result"
    }
   ],
   "source": [
    "dfg.groupby(['B']).mean()"
   ]
  },
  {
   "cell_type": "markdown",
   "id": "b66d02af",
   "metadata": {
    "heading_collapsed": true,
    "hidden": true
   },
   "source": [
    "#### Soma dos valores das colunas baseada nas colunas A e B"
   ]
  },
  {
   "cell_type": "code",
   "execution_count": 85,
   "id": "f8d1067d",
   "metadata": {
    "hidden": true,
    "scrolled": true
   },
   "outputs": [
    {
     "data": {
      "text/html": [
       "<div>\n",
       "<style scoped>\n",
       "    .dataframe tbody tr th:only-of-type {\n",
       "        vertical-align: middle;\n",
       "    }\n",
       "\n",
       "    .dataframe tbody tr th {\n",
       "        vertical-align: top;\n",
       "    }\n",
       "\n",
       "    .dataframe thead th {\n",
       "        text-align: right;\n",
       "    }\n",
       "</style>\n",
       "<table border=\"1\" class=\"dataframe\">\n",
       "  <thead>\n",
       "    <tr style=\"text-align: right;\">\n",
       "      <th></th>\n",
       "      <th></th>\n",
       "      <th>C</th>\n",
       "      <th>D</th>\n",
       "    </tr>\n",
       "    <tr>\n",
       "      <th>A</th>\n",
       "      <th>B</th>\n",
       "      <th></th>\n",
       "      <th></th>\n",
       "    </tr>\n",
       "  </thead>\n",
       "  <tbody>\n",
       "    <tr>\n",
       "      <th rowspan=\"3\" valign=\"top\">falso</th>\n",
       "      <th>dois</th>\n",
       "      <td>-0.324936</td>\n",
       "      <td>2.434682</td>\n",
       "    </tr>\n",
       "    <tr>\n",
       "      <th>tres</th>\n",
       "      <td>2.823168</td>\n",
       "      <td>-0.004713</td>\n",
       "    </tr>\n",
       "    <tr>\n",
       "      <th>um</th>\n",
       "      <td>-0.439573</td>\n",
       "      <td>0.664527</td>\n",
       "    </tr>\n",
       "    <tr>\n",
       "      <th rowspan=\"3\" valign=\"top\">verdadeiro</th>\n",
       "      <th>dois</th>\n",
       "      <td>-0.126114</td>\n",
       "      <td>1.003012</td>\n",
       "    </tr>\n",
       "    <tr>\n",
       "      <th>um</th>\n",
       "      <td>0.115123</td>\n",
       "      <td>-0.853005</td>\n",
       "    </tr>\n",
       "    <tr>\n",
       "      <th>um</th>\n",
       "      <td>0.129989</td>\n",
       "      <td>-0.019274</td>\n",
       "    </tr>\n",
       "  </tbody>\n",
       "</table>\n",
       "</div>"
      ],
      "text/plain": [
       "                         C         D\n",
       "A          B                        \n",
       "falso       dois -0.324936  2.434682\n",
       "           tres   2.823168 -0.004713\n",
       "           um    -0.439573  0.664527\n",
       "verdadeiro dois  -0.126114  1.003012\n",
       "           um     0.115123 -0.853005\n",
       "           um     0.129989 -0.019274"
      ]
     },
     "execution_count": 85,
     "metadata": {},
     "output_type": "execute_result"
    }
   ],
   "source": [
    "dfg.groupby(['A','B']).sum()"
   ]
  },
  {
   "cell_type": "markdown",
   "id": "231029fe",
   "metadata": {
    "heading_collapsed": true
   },
   "source": [
    "## 2.4. Indexação  "
   ]
  },
  {
   "cell_type": "markdown",
   "id": "ef673d36",
   "metadata": {
    "hidden": true
   },
   "source": [
    "Todo índice em pyhon inicia em 0.\n",
    "\n",
    "Sempre que quisermos selecionar algum objeto em uma lista, devemos considerar esse requisito."
   ]
  },
  {
   "cell_type": "code",
   "execution_count": 86,
   "id": "90fc3223",
   "metadata": {
    "hidden": true
   },
   "outputs": [],
   "source": [
    "lista = [ 32, 96, 11, 27]"
   ]
  },
  {
   "cell_type": "code",
   "execution_count": 87,
   "id": "a7575e5e",
   "metadata": {
    "hidden": true
   },
   "outputs": [
    {
     "data": {
      "text/plain": [
       "32"
      ]
     },
     "execution_count": 87,
     "metadata": {},
     "output_type": "execute_result"
    }
   ],
   "source": [
    "lista[0]"
   ]
  },
  {
   "cell_type": "markdown",
   "id": "88c109dd",
   "metadata": {
    "hidden": true,
    "hide_input": false
   },
   "source": [
    "Sempre que quisermos selecionar os números de trás pra frente, basta adicionar o sinal de subtração e ordenar a casa"
   ]
  },
  {
   "cell_type": "code",
   "execution_count": 88,
   "id": "07ca6108",
   "metadata": {
    "hidden": true
   },
   "outputs": [
    {
     "data": {
      "text/plain": [
       "27"
      ]
     },
     "execution_count": 88,
     "metadata": {},
     "output_type": "execute_result"
    }
   ],
   "source": [
    "lista [-1]"
   ]
  },
  {
   "cell_type": "markdown",
   "id": "2d2b1327",
   "metadata": {
    "hidden": true
   },
   "source": [
    "### Indexação múltlipla"
   ]
  },
  {
   "cell_type": "code",
   "execution_count": 89,
   "id": "8af65c9d",
   "metadata": {
    "hidden": true
   },
   "outputs": [],
   "source": [
    "arrays = [[1, 2, 5, 4], ['red', 'blue', 'green', 'blue']]"
   ]
  },
  {
   "cell_type": "code",
   "execution_count": 90,
   "id": "8f825208",
   "metadata": {
    "hidden": true
   },
   "outputs": [
    {
     "data": {
      "text/plain": [
       "MultiIndex([(1,   'red'),\n",
       "            (2,  'blue'),\n",
       "            (5, 'green'),\n",
       "            (4,  'blue')],\n",
       "           names=['number', 'color'])"
      ]
     },
     "execution_count": 90,
     "metadata": {},
     "output_type": "execute_result"
    }
   ],
   "source": [
    "pd.MultiIndex.from_arrays(arrays, names=('number', 'color'))"
   ]
  },
  {
   "cell_type": "code",
   "execution_count": 91,
   "id": "366edcd8",
   "metadata": {
    "hidden": true
   },
   "outputs": [],
   "source": [
    "numbers = [0, 1, 2]\n",
    "colors = ['green', 'purple']"
   ]
  },
  {
   "cell_type": "markdown",
   "id": "7afbc6af",
   "metadata": {
    "hidden": true
   },
   "source": [
    "**MultiIndex com produto cartesiano**"
   ]
  },
  {
   "cell_type": "code",
   "execution_count": 92,
   "id": "b6494d24",
   "metadata": {
    "hidden": true
   },
   "outputs": [
    {
     "data": {
      "text/plain": [
       "MultiIndex([(0,  'green'),\n",
       "            (0, 'purple'),\n",
       "            (1,  'green'),\n",
       "            (1, 'purple'),\n",
       "            (2,  'green'),\n",
       "            (2, 'purple')],\n",
       "           names=['number', 'color'])"
      ]
     },
     "execution_count": 92,
     "metadata": {},
     "output_type": "execute_result"
    }
   ],
   "source": [
    "pd.MultiIndex.from_product([numbers, colors], names = ['number', 'color'])"
   ]
  },
  {
   "cell_type": "markdown",
   "id": "f9c6f548",
   "metadata": {
    "heading_collapsed": true
   },
   "source": [
    "## 2.5. Reshping dados"
   ]
  },
  {
   "cell_type": "code",
   "execution_count": 93,
   "id": "831def85",
   "metadata": {
    "hidden": true
   },
   "outputs": [],
   "source": [
    "datas = pd.date_range('20220101', periods= 6 )\n",
    "\n",
    "df = pd.DataFrame(np.random.randn(6, 4), index = datas, columns = ['var_A', 'var_B', 'var_C', 'var_D'])"
   ]
  },
  {
   "cell_type": "code",
   "execution_count": 94,
   "id": "caa739d8",
   "metadata": {
    "hidden": true
   },
   "outputs": [
    {
     "data": {
      "text/html": [
       "<div>\n",
       "<style scoped>\n",
       "    .dataframe tbody tr th:only-of-type {\n",
       "        vertical-align: middle;\n",
       "    }\n",
       "\n",
       "    .dataframe tbody tr th {\n",
       "        vertical-align: top;\n",
       "    }\n",
       "\n",
       "    .dataframe thead th {\n",
       "        text-align: right;\n",
       "    }\n",
       "</style>\n",
       "<table border=\"1\" class=\"dataframe\">\n",
       "  <thead>\n",
       "    <tr style=\"text-align: right;\">\n",
       "      <th></th>\n",
       "      <th>var_A</th>\n",
       "      <th>var_B</th>\n",
       "      <th>var_C</th>\n",
       "      <th>var_D</th>\n",
       "    </tr>\n",
       "  </thead>\n",
       "  <tbody>\n",
       "    <tr>\n",
       "      <th>2022-01-01</th>\n",
       "      <td>1.108364</td>\n",
       "      <td>0.933793</td>\n",
       "      <td>0.178068</td>\n",
       "      <td>-0.127550</td>\n",
       "    </tr>\n",
       "    <tr>\n",
       "      <th>2022-01-02</th>\n",
       "      <td>1.225588</td>\n",
       "      <td>0.226341</td>\n",
       "      <td>0.530342</td>\n",
       "      <td>2.017342</td>\n",
       "    </tr>\n",
       "    <tr>\n",
       "      <th>2022-01-03</th>\n",
       "      <td>-0.466156</td>\n",
       "      <td>-0.052488</td>\n",
       "      <td>-1.888489</td>\n",
       "      <td>-0.775619</td>\n",
       "    </tr>\n",
       "    <tr>\n",
       "      <th>2022-01-04</th>\n",
       "      <td>0.835388</td>\n",
       "      <td>1.183071</td>\n",
       "      <td>-0.806877</td>\n",
       "      <td>-0.276428</td>\n",
       "    </tr>\n",
       "    <tr>\n",
       "      <th>2022-01-05</th>\n",
       "      <td>-1.296992</td>\n",
       "      <td>-0.975793</td>\n",
       "      <td>-0.183804</td>\n",
       "      <td>-1.259496</td>\n",
       "    </tr>\n",
       "    <tr>\n",
       "      <th>2022-01-06</th>\n",
       "      <td>-0.068037</td>\n",
       "      <td>1.113119</td>\n",
       "      <td>0.284113</td>\n",
       "      <td>-0.369372</td>\n",
       "    </tr>\n",
       "  </tbody>\n",
       "</table>\n",
       "</div>"
      ],
      "text/plain": [
       "               var_A     var_B     var_C     var_D\n",
       "2022-01-01  1.108364  0.933793  0.178068 -0.127550\n",
       "2022-01-02  1.225588  0.226341  0.530342  2.017342\n",
       "2022-01-03 -0.466156 -0.052488 -1.888489 -0.775619\n",
       "2022-01-04  0.835388  1.183071 -0.806877 -0.276428\n",
       "2022-01-05 -1.296992 -0.975793 -0.183804 -1.259496\n",
       "2022-01-06 -0.068037  1.113119  0.284113 -0.369372"
      ]
     },
     "execution_count": 94,
     "metadata": {},
     "output_type": "execute_result"
    }
   ],
   "source": [
    "df"
   ]
  },
  {
   "cell_type": "code",
   "execution_count": 95,
   "id": "a5786620",
   "metadata": {
    "hidden": true
   },
   "outputs": [],
   "source": [
    "dft = df.T"
   ]
  },
  {
   "cell_type": "code",
   "execution_count": 96,
   "id": "243fbc5b",
   "metadata": {
    "hidden": true
   },
   "outputs": [
    {
     "data": {
      "text/html": [
       "<div>\n",
       "<style scoped>\n",
       "    .dataframe tbody tr th:only-of-type {\n",
       "        vertical-align: middle;\n",
       "    }\n",
       "\n",
       "    .dataframe tbody tr th {\n",
       "        vertical-align: top;\n",
       "    }\n",
       "\n",
       "    .dataframe thead th {\n",
       "        text-align: right;\n",
       "    }\n",
       "</style>\n",
       "<table border=\"1\" class=\"dataframe\">\n",
       "  <thead>\n",
       "    <tr style=\"text-align: right;\">\n",
       "      <th></th>\n",
       "      <th>2022-01-01</th>\n",
       "      <th>2022-01-02</th>\n",
       "      <th>2022-01-03</th>\n",
       "      <th>2022-01-04</th>\n",
       "      <th>2022-01-05</th>\n",
       "      <th>2022-01-06</th>\n",
       "    </tr>\n",
       "  </thead>\n",
       "  <tbody>\n",
       "    <tr>\n",
       "      <th>var_A</th>\n",
       "      <td>1.108364</td>\n",
       "      <td>1.225588</td>\n",
       "      <td>-0.466156</td>\n",
       "      <td>0.835388</td>\n",
       "      <td>-1.296992</td>\n",
       "      <td>-0.068037</td>\n",
       "    </tr>\n",
       "    <tr>\n",
       "      <th>var_B</th>\n",
       "      <td>0.933793</td>\n",
       "      <td>0.226341</td>\n",
       "      <td>-0.052488</td>\n",
       "      <td>1.183071</td>\n",
       "      <td>-0.975793</td>\n",
       "      <td>1.113119</td>\n",
       "    </tr>\n",
       "    <tr>\n",
       "      <th>var_C</th>\n",
       "      <td>0.178068</td>\n",
       "      <td>0.530342</td>\n",
       "      <td>-1.888489</td>\n",
       "      <td>-0.806877</td>\n",
       "      <td>-0.183804</td>\n",
       "      <td>0.284113</td>\n",
       "    </tr>\n",
       "    <tr>\n",
       "      <th>var_D</th>\n",
       "      <td>-0.127550</td>\n",
       "      <td>2.017342</td>\n",
       "      <td>-0.775619</td>\n",
       "      <td>-0.276428</td>\n",
       "      <td>-1.259496</td>\n",
       "      <td>-0.369372</td>\n",
       "    </tr>\n",
       "  </tbody>\n",
       "</table>\n",
       "</div>"
      ],
      "text/plain": [
       "       2022-01-01  2022-01-02  2022-01-03  2022-01-04  2022-01-05  2022-01-06\n",
       "var_A    1.108364    1.225588   -0.466156    0.835388   -1.296992   -0.068037\n",
       "var_B    0.933793    0.226341   -0.052488    1.183071   -0.975793    1.113119\n",
       "var_C    0.178068    0.530342   -1.888489   -0.806877   -0.183804    0.284113\n",
       "var_D   -0.127550    2.017342   -0.775619   -0.276428   -1.259496   -0.369372"
      ]
     },
     "execution_count": 96,
     "metadata": {},
     "output_type": "execute_result"
    }
   ],
   "source": [
    "dft"
   ]
  },
  {
   "cell_type": "code",
   "execution_count": 97,
   "id": "ffc1ce41",
   "metadata": {
    "hidden": true
   },
   "outputs": [
    {
     "data": {
      "text/plain": [
       "(6, 4)"
      ]
     },
     "execution_count": 97,
     "metadata": {},
     "output_type": "execute_result"
    }
   ],
   "source": [
    "df.shape"
   ]
  },
  {
   "cell_type": "markdown",
   "id": "d505c8d6",
   "metadata": {
    "heading_collapsed": true,
    "hidden": true
   },
   "source": [
    "### 2.5.1. Função pivot"
   ]
  },
  {
   "cell_type": "code",
   "execution_count": 98,
   "id": "d8aa1ecb",
   "metadata": {
    "hidden": true
   },
   "outputs": [],
   "source": [
    "data = pd.date_range('20220101', periods= 12 )\n",
    "\n",
    "pessoa = ['George', 'Victor', 'Lucas']"
   ]
  },
  {
   "cell_type": "code",
   "execution_count": 99,
   "id": "444f5335",
   "metadata": {
    "hidden": true
   },
   "outputs": [
    {
     "data": {
      "text/plain": [
       "DatetimeIndex(['2022-01-01', '2022-01-02', '2022-01-03', '2022-01-04',\n",
       "               '2022-01-05', '2022-01-06', '2022-01-07', '2022-01-08',\n",
       "               '2022-01-09', '2022-01-10', '2022-01-11', '2022-01-12'],\n",
       "              dtype='datetime64[ns]', freq='D')"
      ]
     },
     "execution_count": 99,
     "metadata": {},
     "output_type": "execute_result"
    }
   ],
   "source": [
    "data"
   ]
  },
  {
   "cell_type": "code",
   "execution_count": 100,
   "id": "e638e435",
   "metadata": {
    "hidden": true
   },
   "outputs": [],
   "source": [
    "nome = []\n",
    "\n",
    "gasto = []\n",
    "\n",
    "for i in range(12):\n",
    "    nome.append(np.random.choice(pessoa))\n",
    "    gasto.append(np.round(np.random.randn()*100,2 ))\n",
    "    \n",
    "    nome"
   ]
  },
  {
   "cell_type": "code",
   "execution_count": 101,
   "id": "beeabc32",
   "metadata": {
    "hidden": true
   },
   "outputs": [],
   "source": [
    "df = pd.DataFrame({'Data': data, 'Nome': nome, 'Gasto': gasto})"
   ]
  },
  {
   "cell_type": "code",
   "execution_count": 102,
   "id": "19428fe8",
   "metadata": {
    "hidden": true
   },
   "outputs": [
    {
     "data": {
      "text/html": [
       "<div>\n",
       "<style scoped>\n",
       "    .dataframe tbody tr th:only-of-type {\n",
       "        vertical-align: middle;\n",
       "    }\n",
       "\n",
       "    .dataframe tbody tr th {\n",
       "        vertical-align: top;\n",
       "    }\n",
       "\n",
       "    .dataframe thead th {\n",
       "        text-align: right;\n",
       "    }\n",
       "</style>\n",
       "<table border=\"1\" class=\"dataframe\">\n",
       "  <thead>\n",
       "    <tr style=\"text-align: right;\">\n",
       "      <th></th>\n",
       "      <th>Data</th>\n",
       "      <th>Nome</th>\n",
       "      <th>Gasto</th>\n",
       "    </tr>\n",
       "  </thead>\n",
       "  <tbody>\n",
       "    <tr>\n",
       "      <th>0</th>\n",
       "      <td>2022-01-01</td>\n",
       "      <td>Victor</td>\n",
       "      <td>-44.06</td>\n",
       "    </tr>\n",
       "    <tr>\n",
       "      <th>1</th>\n",
       "      <td>2022-01-02</td>\n",
       "      <td>Victor</td>\n",
       "      <td>-74.18</td>\n",
       "    </tr>\n",
       "    <tr>\n",
       "      <th>2</th>\n",
       "      <td>2022-01-03</td>\n",
       "      <td>Lucas</td>\n",
       "      <td>-50.25</td>\n",
       "    </tr>\n",
       "    <tr>\n",
       "      <th>3</th>\n",
       "      <td>2022-01-04</td>\n",
       "      <td>Lucas</td>\n",
       "      <td>-62.83</td>\n",
       "    </tr>\n",
       "    <tr>\n",
       "      <th>4</th>\n",
       "      <td>2022-01-05</td>\n",
       "      <td>George</td>\n",
       "      <td>68.45</td>\n",
       "    </tr>\n",
       "    <tr>\n",
       "      <th>5</th>\n",
       "      <td>2022-01-06</td>\n",
       "      <td>Lucas</td>\n",
       "      <td>80.92</td>\n",
       "    </tr>\n",
       "    <tr>\n",
       "      <th>6</th>\n",
       "      <td>2022-01-07</td>\n",
       "      <td>Victor</td>\n",
       "      <td>-125.06</td>\n",
       "    </tr>\n",
       "    <tr>\n",
       "      <th>7</th>\n",
       "      <td>2022-01-08</td>\n",
       "      <td>Lucas</td>\n",
       "      <td>102.35</td>\n",
       "    </tr>\n",
       "    <tr>\n",
       "      <th>8</th>\n",
       "      <td>2022-01-09</td>\n",
       "      <td>Lucas</td>\n",
       "      <td>-48.57</td>\n",
       "    </tr>\n",
       "    <tr>\n",
       "      <th>9</th>\n",
       "      <td>2022-01-10</td>\n",
       "      <td>Lucas</td>\n",
       "      <td>-2.14</td>\n",
       "    </tr>\n",
       "    <tr>\n",
       "      <th>10</th>\n",
       "      <td>2022-01-11</td>\n",
       "      <td>Victor</td>\n",
       "      <td>45.00</td>\n",
       "    </tr>\n",
       "    <tr>\n",
       "      <th>11</th>\n",
       "      <td>2022-01-12</td>\n",
       "      <td>Lucas</td>\n",
       "      <td>4.29</td>\n",
       "    </tr>\n",
       "  </tbody>\n",
       "</table>\n",
       "</div>"
      ],
      "text/plain": [
       "         Data    Nome   Gasto\n",
       "0  2022-01-01  Victor  -44.06\n",
       "1  2022-01-02  Victor  -74.18\n",
       "2  2022-01-03   Lucas  -50.25\n",
       "3  2022-01-04   Lucas  -62.83\n",
       "4  2022-01-05  George   68.45\n",
       "5  2022-01-06   Lucas   80.92\n",
       "6  2022-01-07  Victor -125.06\n",
       "7  2022-01-08   Lucas  102.35\n",
       "8  2022-01-09   Lucas  -48.57\n",
       "9  2022-01-10   Lucas   -2.14\n",
       "10 2022-01-11  Victor   45.00\n",
       "11 2022-01-12   Lucas    4.29"
      ]
     },
     "execution_count": 102,
     "metadata": {},
     "output_type": "execute_result"
    }
   ],
   "source": [
    "df"
   ]
  },
  {
   "cell_type": "code",
   "execution_count": 103,
   "id": "aa77c601",
   "metadata": {
    "hidden": true
   },
   "outputs": [
    {
     "data": {
      "text/html": [
       "<div>\n",
       "<style scoped>\n",
       "    .dataframe tbody tr th:only-of-type {\n",
       "        vertical-align: middle;\n",
       "    }\n",
       "\n",
       "    .dataframe tbody tr th {\n",
       "        vertical-align: top;\n",
       "    }\n",
       "\n",
       "    .dataframe thead th {\n",
       "        text-align: right;\n",
       "    }\n",
       "</style>\n",
       "<table border=\"1\" class=\"dataframe\">\n",
       "  <thead>\n",
       "    <tr style=\"text-align: right;\">\n",
       "      <th>Nome</th>\n",
       "      <th>George</th>\n",
       "      <th>Lucas</th>\n",
       "      <th>Victor</th>\n",
       "    </tr>\n",
       "    <tr>\n",
       "      <th>Data</th>\n",
       "      <th></th>\n",
       "      <th></th>\n",
       "      <th></th>\n",
       "    </tr>\n",
       "  </thead>\n",
       "  <tbody>\n",
       "    <tr>\n",
       "      <th>2022-01-01</th>\n",
       "      <td>NaN</td>\n",
       "      <td>NaN</td>\n",
       "      <td>-44.06</td>\n",
       "    </tr>\n",
       "    <tr>\n",
       "      <th>2022-01-02</th>\n",
       "      <td>NaN</td>\n",
       "      <td>NaN</td>\n",
       "      <td>-74.18</td>\n",
       "    </tr>\n",
       "    <tr>\n",
       "      <th>2022-01-03</th>\n",
       "      <td>NaN</td>\n",
       "      <td>-50.25</td>\n",
       "      <td>NaN</td>\n",
       "    </tr>\n",
       "    <tr>\n",
       "      <th>2022-01-04</th>\n",
       "      <td>NaN</td>\n",
       "      <td>-62.83</td>\n",
       "      <td>NaN</td>\n",
       "    </tr>\n",
       "    <tr>\n",
       "      <th>2022-01-05</th>\n",
       "      <td>68.45</td>\n",
       "      <td>NaN</td>\n",
       "      <td>NaN</td>\n",
       "    </tr>\n",
       "    <tr>\n",
       "      <th>2022-01-06</th>\n",
       "      <td>NaN</td>\n",
       "      <td>80.92</td>\n",
       "      <td>NaN</td>\n",
       "    </tr>\n",
       "    <tr>\n",
       "      <th>2022-01-07</th>\n",
       "      <td>NaN</td>\n",
       "      <td>NaN</td>\n",
       "      <td>-125.06</td>\n",
       "    </tr>\n",
       "    <tr>\n",
       "      <th>2022-01-08</th>\n",
       "      <td>NaN</td>\n",
       "      <td>102.35</td>\n",
       "      <td>NaN</td>\n",
       "    </tr>\n",
       "    <tr>\n",
       "      <th>2022-01-09</th>\n",
       "      <td>NaN</td>\n",
       "      <td>-48.57</td>\n",
       "      <td>NaN</td>\n",
       "    </tr>\n",
       "    <tr>\n",
       "      <th>2022-01-10</th>\n",
       "      <td>NaN</td>\n",
       "      <td>-2.14</td>\n",
       "      <td>NaN</td>\n",
       "    </tr>\n",
       "    <tr>\n",
       "      <th>2022-01-11</th>\n",
       "      <td>NaN</td>\n",
       "      <td>NaN</td>\n",
       "      <td>45.00</td>\n",
       "    </tr>\n",
       "    <tr>\n",
       "      <th>2022-01-12</th>\n",
       "      <td>NaN</td>\n",
       "      <td>4.29</td>\n",
       "      <td>NaN</td>\n",
       "    </tr>\n",
       "  </tbody>\n",
       "</table>\n",
       "</div>"
      ],
      "text/plain": [
       "Nome        George   Lucas  Victor\n",
       "Data                              \n",
       "2022-01-01     NaN     NaN  -44.06\n",
       "2022-01-02     NaN     NaN  -74.18\n",
       "2022-01-03     NaN  -50.25     NaN\n",
       "2022-01-04     NaN  -62.83     NaN\n",
       "2022-01-05   68.45     NaN     NaN\n",
       "2022-01-06     NaN   80.92     NaN\n",
       "2022-01-07     NaN     NaN -125.06\n",
       "2022-01-08     NaN  102.35     NaN\n",
       "2022-01-09     NaN  -48.57     NaN\n",
       "2022-01-10     NaN   -2.14     NaN\n",
       "2022-01-11     NaN     NaN   45.00\n",
       "2022-01-12     NaN    4.29     NaN"
      ]
     },
     "execution_count": 103,
     "metadata": {},
     "output_type": "execute_result"
    }
   ],
   "source": [
    "pd.pivot(df, index= 'Data', columns= 'Nome', values= 'Gasto')"
   ]
  },
  {
   "cell_type": "markdown",
   "id": "955041ed",
   "metadata": {
    "heading_collapsed": true,
    "hidden": true
   },
   "source": [
    "### 2.5.2. Função pivot table"
   ]
  },
  {
   "cell_type": "code",
   "execution_count": 104,
   "id": "8c45760b",
   "metadata": {
    "hidden": true
   },
   "outputs": [],
   "source": [
    "carros = [7, 4, 3, 2, 8]\n",
    "\n",
    "data = pd.date_range('20220101','20220101', periods= 5 )\n",
    "\n",
    "vendedor = ['George', 'Vagner', 'Pedro', 'Vagner', 'George']"
   ]
  },
  {
   "cell_type": "code",
   "execution_count": 105,
   "id": "c7f60e6c",
   "metadata": {
    "hidden": true
   },
   "outputs": [],
   "source": [
    "df = pd.DataFrame({'Vendas': carros, 'Data': data, 'Vendedor': vendedor})"
   ]
  },
  {
   "cell_type": "code",
   "execution_count": 106,
   "id": "fcb8bd42",
   "metadata": {
    "hidden": true
   },
   "outputs": [
    {
     "data": {
      "text/html": [
       "<div>\n",
       "<style scoped>\n",
       "    .dataframe tbody tr th:only-of-type {\n",
       "        vertical-align: middle;\n",
       "    }\n",
       "\n",
       "    .dataframe tbody tr th {\n",
       "        vertical-align: top;\n",
       "    }\n",
       "\n",
       "    .dataframe thead th {\n",
       "        text-align: right;\n",
       "    }\n",
       "</style>\n",
       "<table border=\"1\" class=\"dataframe\">\n",
       "  <thead>\n",
       "    <tr style=\"text-align: right;\">\n",
       "      <th></th>\n",
       "      <th>Vendas</th>\n",
       "      <th>Data</th>\n",
       "      <th>Vendedor</th>\n",
       "    </tr>\n",
       "  </thead>\n",
       "  <tbody>\n",
       "    <tr>\n",
       "      <th>0</th>\n",
       "      <td>7</td>\n",
       "      <td>2022-01-01</td>\n",
       "      <td>George</td>\n",
       "    </tr>\n",
       "    <tr>\n",
       "      <th>1</th>\n",
       "      <td>4</td>\n",
       "      <td>2022-01-01</td>\n",
       "      <td>Vagner</td>\n",
       "    </tr>\n",
       "    <tr>\n",
       "      <th>2</th>\n",
       "      <td>3</td>\n",
       "      <td>2022-01-01</td>\n",
       "      <td>Pedro</td>\n",
       "    </tr>\n",
       "    <tr>\n",
       "      <th>3</th>\n",
       "      <td>2</td>\n",
       "      <td>2022-01-01</td>\n",
       "      <td>Vagner</td>\n",
       "    </tr>\n",
       "    <tr>\n",
       "      <th>4</th>\n",
       "      <td>8</td>\n",
       "      <td>2022-01-01</td>\n",
       "      <td>George</td>\n",
       "    </tr>\n",
       "  </tbody>\n",
       "</table>\n",
       "</div>"
      ],
      "text/plain": [
       "   Vendas       Data Vendedor\n",
       "0       7 2022-01-01   George\n",
       "1       4 2022-01-01   Vagner\n",
       "2       3 2022-01-01    Pedro\n",
       "3       2 2022-01-01   Vagner\n",
       "4       8 2022-01-01   George"
      ]
     },
     "execution_count": 106,
     "metadata": {},
     "output_type": "execute_result"
    }
   ],
   "source": [
    "df"
   ]
  },
  {
   "cell_type": "markdown",
   "id": "37f64216",
   "metadata": {
    "hidden": true
   },
   "source": [
    "A função **pivot table** não entrega valores de index duplicados"
   ]
  },
  {
   "cell_type": "code",
   "execution_count": 107,
   "id": "03120fab",
   "metadata": {
    "hidden": true,
    "scrolled": false
   },
   "outputs": [
    {
     "data": {
      "text/html": [
       "<div>\n",
       "<style scoped>\n",
       "    .dataframe tbody tr th:only-of-type {\n",
       "        vertical-align: middle;\n",
       "    }\n",
       "\n",
       "    .dataframe tbody tr th {\n",
       "        vertical-align: top;\n",
       "    }\n",
       "\n",
       "    .dataframe thead th {\n",
       "        text-align: right;\n",
       "    }\n",
       "</style>\n",
       "<table border=\"1\" class=\"dataframe\">\n",
       "  <thead>\n",
       "    <tr style=\"text-align: right;\">\n",
       "      <th>Vendedor</th>\n",
       "      <th>George</th>\n",
       "      <th>Pedro</th>\n",
       "      <th>Vagner</th>\n",
       "    </tr>\n",
       "    <tr>\n",
       "      <th>Data</th>\n",
       "      <th></th>\n",
       "      <th></th>\n",
       "      <th></th>\n",
       "    </tr>\n",
       "  </thead>\n",
       "  <tbody>\n",
       "    <tr>\n",
       "      <th>2022-01-01</th>\n",
       "      <td>15</td>\n",
       "      <td>3</td>\n",
       "      <td>6</td>\n",
       "    </tr>\n",
       "  </tbody>\n",
       "</table>\n",
       "</div>"
      ],
      "text/plain": [
       "Vendedor    George  Pedro  Vagner\n",
       "Data                             \n",
       "2022-01-01      15      3       6"
      ]
     },
     "execution_count": 107,
     "metadata": {},
     "output_type": "execute_result"
    }
   ],
   "source": [
    "pd.pivot_table(df, index= 'Data', columns= 'Vendedor', values= 'Vendas', aggfunc='sum')"
   ]
  },
  {
   "cell_type": "markdown",
   "id": "de29cf1e",
   "metadata": {
    "heading_collapsed": true,
    "hidden": true
   },
   "source": [
    "### 2.5.3. Stack e unstack de dados"
   ]
  },
  {
   "cell_type": "markdown",
   "id": "0be57ddc",
   "metadata": {
    "hidden": true
   },
   "source": [
    "coleta de dados da internet"
   ]
  },
  {
   "cell_type": "code",
   "execution_count": 108,
   "id": "eb56f479",
   "metadata": {
    "hidden": true
   },
   "outputs": [],
   "source": [
    "df = pd.read_csv('https://cdncontribute.geeksforgeeks.org/wp-content/uploads/nba.csv')"
   ]
  },
  {
   "cell_type": "code",
   "execution_count": 109,
   "id": "3620c925",
   "metadata": {
    "hidden": true
   },
   "outputs": [
    {
     "data": {
      "text/html": [
       "<div>\n",
       "<style scoped>\n",
       "    .dataframe tbody tr th:only-of-type {\n",
       "        vertical-align: middle;\n",
       "    }\n",
       "\n",
       "    .dataframe tbody tr th {\n",
       "        vertical-align: top;\n",
       "    }\n",
       "\n",
       "    .dataframe thead th {\n",
       "        text-align: right;\n",
       "    }\n",
       "</style>\n",
       "<table border=\"1\" class=\"dataframe\">\n",
       "  <thead>\n",
       "    <tr style=\"text-align: right;\">\n",
       "      <th></th>\n",
       "      <th>Name</th>\n",
       "      <th>Team</th>\n",
       "      <th>Number</th>\n",
       "      <th>Position</th>\n",
       "      <th>Age</th>\n",
       "      <th>Height</th>\n",
       "      <th>Weight</th>\n",
       "      <th>College</th>\n",
       "      <th>Salary</th>\n",
       "    </tr>\n",
       "  </thead>\n",
       "  <tbody>\n",
       "    <tr>\n",
       "      <th>0</th>\n",
       "      <td>Avery Bradley</td>\n",
       "      <td>Boston Celtics</td>\n",
       "      <td>0.0</td>\n",
       "      <td>PG</td>\n",
       "      <td>25.0</td>\n",
       "      <td>6-2</td>\n",
       "      <td>180.0</td>\n",
       "      <td>Texas</td>\n",
       "      <td>7730337.0</td>\n",
       "    </tr>\n",
       "    <tr>\n",
       "      <th>1</th>\n",
       "      <td>Jae Crowder</td>\n",
       "      <td>Boston Celtics</td>\n",
       "      <td>99.0</td>\n",
       "      <td>SF</td>\n",
       "      <td>25.0</td>\n",
       "      <td>6-6</td>\n",
       "      <td>235.0</td>\n",
       "      <td>Marquette</td>\n",
       "      <td>6796117.0</td>\n",
       "    </tr>\n",
       "    <tr>\n",
       "      <th>2</th>\n",
       "      <td>John Holland</td>\n",
       "      <td>Boston Celtics</td>\n",
       "      <td>30.0</td>\n",
       "      <td>SG</td>\n",
       "      <td>27.0</td>\n",
       "      <td>6-5</td>\n",
       "      <td>205.0</td>\n",
       "      <td>Boston University</td>\n",
       "      <td>NaN</td>\n",
       "    </tr>\n",
       "    <tr>\n",
       "      <th>3</th>\n",
       "      <td>R.J. Hunter</td>\n",
       "      <td>Boston Celtics</td>\n",
       "      <td>28.0</td>\n",
       "      <td>SG</td>\n",
       "      <td>22.0</td>\n",
       "      <td>6-5</td>\n",
       "      <td>185.0</td>\n",
       "      <td>Georgia State</td>\n",
       "      <td>1148640.0</td>\n",
       "    </tr>\n",
       "  </tbody>\n",
       "</table>\n",
       "</div>"
      ],
      "text/plain": [
       "            Name            Team  Number Position   Age Height  Weight  \\\n",
       "0  Avery Bradley  Boston Celtics     0.0       PG  25.0    6-2   180.0   \n",
       "1    Jae Crowder  Boston Celtics    99.0       SF  25.0    6-6   235.0   \n",
       "2   John Holland  Boston Celtics    30.0       SG  27.0    6-5   205.0   \n",
       "3    R.J. Hunter  Boston Celtics    28.0       SG  22.0    6-5   185.0   \n",
       "\n",
       "             College     Salary  \n",
       "0              Texas  7730337.0  \n",
       "1          Marquette  6796117.0  \n",
       "2  Boston University        NaN  \n",
       "3      Georgia State  1148640.0  "
      ]
     },
     "execution_count": 109,
     "metadata": {},
     "output_type": "execute_result"
    }
   ],
   "source": [
    "df.head(4)"
   ]
  },
  {
   "cell_type": "code",
   "execution_count": 110,
   "id": "c5460ecf",
   "metadata": {
    "hidden": true
   },
   "outputs": [
    {
     "data": {
      "text/plain": [
       "(458, 9)"
      ]
     },
     "execution_count": 110,
     "metadata": {},
     "output_type": "execute_result"
    }
   ],
   "source": [
    "df.shape"
   ]
  },
  {
   "cell_type": "code",
   "execution_count": 111,
   "id": "42e808b5",
   "metadata": {
    "hidden": true
   },
   "outputs": [],
   "source": [
    "#Essa função empilha os dados em uma coluna\n",
    "\n",
    "empilhamento = df.stack()"
   ]
  },
  {
   "cell_type": "code",
   "execution_count": 112,
   "id": "b0e5f1cb",
   "metadata": {
    "hidden": true
   },
   "outputs": [
    {
     "data": {
      "text/plain": [
       "0  Name         Avery Bradley\n",
       "   Team        Boston Celtics\n",
       "   Number                 0.0\n",
       "   Position                PG\n",
       "   Age                   25.0\n",
       "   Height                 6-2\n",
       "   Weight               180.0\n",
       "   College              Texas\n",
       "   Salary           7730337.0\n",
       "1  Name           Jae Crowder\n",
       "   Team        Boston Celtics\n",
       "   Number                99.0\n",
       "   Position                SF\n",
       "   Age                   25.0\n",
       "   Height                 6-6\n",
       "   Weight               235.0\n",
       "   College          Marquette\n",
       "   Salary           6796117.0\n",
       "2  Name          John Holland\n",
       "   Team        Boston Celtics\n",
       "dtype: object"
      ]
     },
     "execution_count": 112,
     "metadata": {},
     "output_type": "execute_result"
    }
   ],
   "source": [
    "empilhamento.head(20)"
   ]
  },
  {
   "cell_type": "code",
   "execution_count": 113,
   "id": "dd7fc543",
   "metadata": {
    "hidden": true
   },
   "outputs": [
    {
     "data": {
      "text/html": [
       "<div>\n",
       "<style scoped>\n",
       "    .dataframe tbody tr th:only-of-type {\n",
       "        vertical-align: middle;\n",
       "    }\n",
       "\n",
       "    .dataframe tbody tr th {\n",
       "        vertical-align: top;\n",
       "    }\n",
       "\n",
       "    .dataframe thead th {\n",
       "        text-align: right;\n",
       "    }\n",
       "</style>\n",
       "<table border=\"1\" class=\"dataframe\">\n",
       "  <thead>\n",
       "    <tr style=\"text-align: right;\">\n",
       "      <th></th>\n",
       "      <th>Name</th>\n",
       "      <th>Team</th>\n",
       "      <th>Number</th>\n",
       "      <th>Position</th>\n",
       "      <th>Age</th>\n",
       "      <th>Height</th>\n",
       "      <th>Weight</th>\n",
       "      <th>College</th>\n",
       "      <th>Salary</th>\n",
       "    </tr>\n",
       "  </thead>\n",
       "  <tbody>\n",
       "    <tr>\n",
       "      <th>0</th>\n",
       "      <td>Avery Bradley</td>\n",
       "      <td>Boston Celtics</td>\n",
       "      <td>0.0</td>\n",
       "      <td>PG</td>\n",
       "      <td>25.0</td>\n",
       "      <td>6-2</td>\n",
       "      <td>180.0</td>\n",
       "      <td>Texas</td>\n",
       "      <td>7730337.0</td>\n",
       "    </tr>\n",
       "    <tr>\n",
       "      <th>1</th>\n",
       "      <td>Jae Crowder</td>\n",
       "      <td>Boston Celtics</td>\n",
       "      <td>99.0</td>\n",
       "      <td>SF</td>\n",
       "      <td>25.0</td>\n",
       "      <td>6-6</td>\n",
       "      <td>235.0</td>\n",
       "      <td>Marquette</td>\n",
       "      <td>6796117.0</td>\n",
       "    </tr>\n",
       "    <tr>\n",
       "      <th>2</th>\n",
       "      <td>John Holland</td>\n",
       "      <td>Boston Celtics</td>\n",
       "      <td>30.0</td>\n",
       "      <td>SG</td>\n",
       "      <td>27.0</td>\n",
       "      <td>6-5</td>\n",
       "      <td>205.0</td>\n",
       "      <td>Boston University</td>\n",
       "      <td>NaN</td>\n",
       "    </tr>\n",
       "    <tr>\n",
       "      <th>3</th>\n",
       "      <td>R.J. Hunter</td>\n",
       "      <td>Boston Celtics</td>\n",
       "      <td>28.0</td>\n",
       "      <td>SG</td>\n",
       "      <td>22.0</td>\n",
       "      <td>6-5</td>\n",
       "      <td>185.0</td>\n",
       "      <td>Georgia State</td>\n",
       "      <td>1148640.0</td>\n",
       "    </tr>\n",
       "    <tr>\n",
       "      <th>4</th>\n",
       "      <td>Jonas Jerebko</td>\n",
       "      <td>Boston Celtics</td>\n",
       "      <td>8.0</td>\n",
       "      <td>PF</td>\n",
       "      <td>29.0</td>\n",
       "      <td>6-10</td>\n",
       "      <td>231.0</td>\n",
       "      <td>NaN</td>\n",
       "      <td>5000000.0</td>\n",
       "    </tr>\n",
       "    <tr>\n",
       "      <th>...</th>\n",
       "      <td>...</td>\n",
       "      <td>...</td>\n",
       "      <td>...</td>\n",
       "      <td>...</td>\n",
       "      <td>...</td>\n",
       "      <td>...</td>\n",
       "      <td>...</td>\n",
       "      <td>...</td>\n",
       "      <td>...</td>\n",
       "    </tr>\n",
       "    <tr>\n",
       "      <th>452</th>\n",
       "      <td>Trey Lyles</td>\n",
       "      <td>Utah Jazz</td>\n",
       "      <td>41.0</td>\n",
       "      <td>PF</td>\n",
       "      <td>20.0</td>\n",
       "      <td>6-10</td>\n",
       "      <td>234.0</td>\n",
       "      <td>Kentucky</td>\n",
       "      <td>2239800.0</td>\n",
       "    </tr>\n",
       "    <tr>\n",
       "      <th>453</th>\n",
       "      <td>Shelvin Mack</td>\n",
       "      <td>Utah Jazz</td>\n",
       "      <td>8.0</td>\n",
       "      <td>PG</td>\n",
       "      <td>26.0</td>\n",
       "      <td>6-3</td>\n",
       "      <td>203.0</td>\n",
       "      <td>Butler</td>\n",
       "      <td>2433333.0</td>\n",
       "    </tr>\n",
       "    <tr>\n",
       "      <th>454</th>\n",
       "      <td>Raul Neto</td>\n",
       "      <td>Utah Jazz</td>\n",
       "      <td>25.0</td>\n",
       "      <td>PG</td>\n",
       "      <td>24.0</td>\n",
       "      <td>6-1</td>\n",
       "      <td>179.0</td>\n",
       "      <td>NaN</td>\n",
       "      <td>900000.0</td>\n",
       "    </tr>\n",
       "    <tr>\n",
       "      <th>455</th>\n",
       "      <td>Tibor Pleiss</td>\n",
       "      <td>Utah Jazz</td>\n",
       "      <td>21.0</td>\n",
       "      <td>C</td>\n",
       "      <td>26.0</td>\n",
       "      <td>7-3</td>\n",
       "      <td>256.0</td>\n",
       "      <td>NaN</td>\n",
       "      <td>2900000.0</td>\n",
       "    </tr>\n",
       "    <tr>\n",
       "      <th>456</th>\n",
       "      <td>Jeff Withey</td>\n",
       "      <td>Utah Jazz</td>\n",
       "      <td>24.0</td>\n",
       "      <td>C</td>\n",
       "      <td>26.0</td>\n",
       "      <td>7-0</td>\n",
       "      <td>231.0</td>\n",
       "      <td>Kansas</td>\n",
       "      <td>947276.0</td>\n",
       "    </tr>\n",
       "  </tbody>\n",
       "</table>\n",
       "<p>457 rows × 9 columns</p>\n",
       "</div>"
      ],
      "text/plain": [
       "              Name            Team Number Position   Age Height Weight  \\\n",
       "0    Avery Bradley  Boston Celtics    0.0       PG  25.0    6-2  180.0   \n",
       "1      Jae Crowder  Boston Celtics   99.0       SF  25.0    6-6  235.0   \n",
       "2     John Holland  Boston Celtics   30.0       SG  27.0    6-5  205.0   \n",
       "3      R.J. Hunter  Boston Celtics   28.0       SG  22.0    6-5  185.0   \n",
       "4    Jonas Jerebko  Boston Celtics    8.0       PF  29.0   6-10  231.0   \n",
       "..             ...             ...    ...      ...   ...    ...    ...   \n",
       "452     Trey Lyles       Utah Jazz   41.0       PF  20.0   6-10  234.0   \n",
       "453   Shelvin Mack       Utah Jazz    8.0       PG  26.0    6-3  203.0   \n",
       "454      Raul Neto       Utah Jazz   25.0       PG  24.0    6-1  179.0   \n",
       "455   Tibor Pleiss       Utah Jazz   21.0        C  26.0    7-3  256.0   \n",
       "456    Jeff Withey       Utah Jazz   24.0        C  26.0    7-0  231.0   \n",
       "\n",
       "               College     Salary  \n",
       "0                Texas  7730337.0  \n",
       "1            Marquette  6796117.0  \n",
       "2    Boston University        NaN  \n",
       "3        Georgia State  1148640.0  \n",
       "4                  NaN  5000000.0  \n",
       "..                 ...        ...  \n",
       "452           Kentucky  2239800.0  \n",
       "453             Butler  2433333.0  \n",
       "454                NaN   900000.0  \n",
       "455                NaN  2900000.0  \n",
       "456             Kansas   947276.0  \n",
       "\n",
       "[457 rows x 9 columns]"
      ]
     },
     "execution_count": 113,
     "metadata": {},
     "output_type": "execute_result"
    }
   ],
   "source": [
    "# Essa função reverte o processo de empilhamento\n",
    "\n",
    "empilhamento.unstack()"
   ]
  },
  {
   "cell_type": "markdown",
   "id": "88669309",
   "metadata": {
    "heading_collapsed": true,
    "hidden": true
   },
   "source": [
    "### 2.5.4. Função melt"
   ]
  },
  {
   "cell_type": "code",
   "execution_count": 114,
   "id": "5dce22a9",
   "metadata": {
    "hidden": true
   },
   "outputs": [],
   "source": [
    "df = pd.DataFrame({ 'A': {0: 'a', 1: 'b', 2: 'c'},\n",
    "                    'B': {0: 1, 1: 3, 2: 5,},\n",
    "                    'C': {0: 2, 1: 4, 2: 6}})"
   ]
  },
  {
   "cell_type": "code",
   "execution_count": 115,
   "id": "19905468",
   "metadata": {
    "hidden": true
   },
   "outputs": [
    {
     "data": {
      "text/html": [
       "<div>\n",
       "<style scoped>\n",
       "    .dataframe tbody tr th:only-of-type {\n",
       "        vertical-align: middle;\n",
       "    }\n",
       "\n",
       "    .dataframe tbody tr th {\n",
       "        vertical-align: top;\n",
       "    }\n",
       "\n",
       "    .dataframe thead th {\n",
       "        text-align: right;\n",
       "    }\n",
       "</style>\n",
       "<table border=\"1\" class=\"dataframe\">\n",
       "  <thead>\n",
       "    <tr style=\"text-align: right;\">\n",
       "      <th></th>\n",
       "      <th>A</th>\n",
       "      <th>B</th>\n",
       "      <th>C</th>\n",
       "    </tr>\n",
       "  </thead>\n",
       "  <tbody>\n",
       "    <tr>\n",
       "      <th>0</th>\n",
       "      <td>a</td>\n",
       "      <td>1</td>\n",
       "      <td>2</td>\n",
       "    </tr>\n",
       "    <tr>\n",
       "      <th>1</th>\n",
       "      <td>b</td>\n",
       "      <td>3</td>\n",
       "      <td>4</td>\n",
       "    </tr>\n",
       "    <tr>\n",
       "      <th>2</th>\n",
       "      <td>c</td>\n",
       "      <td>5</td>\n",
       "      <td>6</td>\n",
       "    </tr>\n",
       "  </tbody>\n",
       "</table>\n",
       "</div>"
      ],
      "text/plain": [
       "   A  B  C\n",
       "0  a  1  2\n",
       "1  b  3  4\n",
       "2  c  5  6"
      ]
     },
     "execution_count": 115,
     "metadata": {},
     "output_type": "execute_result"
    }
   ],
   "source": [
    "df"
   ]
  },
  {
   "cell_type": "code",
   "execution_count": 116,
   "id": "3e2f47ed",
   "metadata": {
    "hidden": true
   },
   "outputs": [
    {
     "data": {
      "text/html": [
       "<div>\n",
       "<style scoped>\n",
       "    .dataframe tbody tr th:only-of-type {\n",
       "        vertical-align: middle;\n",
       "    }\n",
       "\n",
       "    .dataframe tbody tr th {\n",
       "        vertical-align: top;\n",
       "    }\n",
       "\n",
       "    .dataframe thead th {\n",
       "        text-align: right;\n",
       "    }\n",
       "</style>\n",
       "<table border=\"1\" class=\"dataframe\">\n",
       "  <thead>\n",
       "    <tr style=\"text-align: right;\">\n",
       "      <th></th>\n",
       "      <th>A</th>\n",
       "      <th>variable</th>\n",
       "      <th>value</th>\n",
       "    </tr>\n",
       "  </thead>\n",
       "  <tbody>\n",
       "    <tr>\n",
       "      <th>0</th>\n",
       "      <td>a</td>\n",
       "      <td>B</td>\n",
       "      <td>1</td>\n",
       "    </tr>\n",
       "    <tr>\n",
       "      <th>1</th>\n",
       "      <td>b</td>\n",
       "      <td>B</td>\n",
       "      <td>3</td>\n",
       "    </tr>\n",
       "    <tr>\n",
       "      <th>2</th>\n",
       "      <td>c</td>\n",
       "      <td>B</td>\n",
       "      <td>5</td>\n",
       "    </tr>\n",
       "  </tbody>\n",
       "</table>\n",
       "</div>"
      ],
      "text/plain": [
       "   A variable  value\n",
       "0  a        B      1\n",
       "1  b        B      3\n",
       "2  c        B      5"
      ]
     },
     "execution_count": 116,
     "metadata": {},
     "output_type": "execute_result"
    }
   ],
   "source": [
    "pd.melt(df, id_vars=['A'], value_vars=['B'])"
   ]
  },
  {
   "cell_type": "code",
   "execution_count": 117,
   "id": "7c458673",
   "metadata": {
    "hidden": true
   },
   "outputs": [
    {
     "data": {
      "text/html": [
       "<div>\n",
       "<style scoped>\n",
       "    .dataframe tbody tr th:only-of-type {\n",
       "        vertical-align: middle;\n",
       "    }\n",
       "\n",
       "    .dataframe tbody tr th {\n",
       "        vertical-align: top;\n",
       "    }\n",
       "\n",
       "    .dataframe thead th {\n",
       "        text-align: right;\n",
       "    }\n",
       "</style>\n",
       "<table border=\"1\" class=\"dataframe\">\n",
       "  <thead>\n",
       "    <tr style=\"text-align: right;\">\n",
       "      <th></th>\n",
       "      <th>A</th>\n",
       "      <th>variable</th>\n",
       "      <th>value</th>\n",
       "    </tr>\n",
       "  </thead>\n",
       "  <tbody>\n",
       "    <tr>\n",
       "      <th>0</th>\n",
       "      <td>a</td>\n",
       "      <td>B</td>\n",
       "      <td>1</td>\n",
       "    </tr>\n",
       "    <tr>\n",
       "      <th>1</th>\n",
       "      <td>b</td>\n",
       "      <td>B</td>\n",
       "      <td>3</td>\n",
       "    </tr>\n",
       "    <tr>\n",
       "      <th>2</th>\n",
       "      <td>c</td>\n",
       "      <td>B</td>\n",
       "      <td>5</td>\n",
       "    </tr>\n",
       "    <tr>\n",
       "      <th>3</th>\n",
       "      <td>a</td>\n",
       "      <td>C</td>\n",
       "      <td>2</td>\n",
       "    </tr>\n",
       "    <tr>\n",
       "      <th>4</th>\n",
       "      <td>b</td>\n",
       "      <td>C</td>\n",
       "      <td>4</td>\n",
       "    </tr>\n",
       "    <tr>\n",
       "      <th>5</th>\n",
       "      <td>c</td>\n",
       "      <td>C</td>\n",
       "      <td>6</td>\n",
       "    </tr>\n",
       "  </tbody>\n",
       "</table>\n",
       "</div>"
      ],
      "text/plain": [
       "   A variable  value\n",
       "0  a        B      1\n",
       "1  b        B      3\n",
       "2  c        B      5\n",
       "3  a        C      2\n",
       "4  b        C      4\n",
       "5  c        C      6"
      ]
     },
     "execution_count": 117,
     "metadata": {},
     "output_type": "execute_result"
    }
   ],
   "source": [
    "pd.melt(df, id_vars=['A'], value_vars=['B', 'C'])"
   ]
  },
  {
   "cell_type": "code",
   "execution_count": 118,
   "id": "e83f1f83",
   "metadata": {
    "hidden": true
   },
   "outputs": [
    {
     "data": {
      "text/html": [
       "<div>\n",
       "<style scoped>\n",
       "    .dataframe tbody tr th:only-of-type {\n",
       "        vertical-align: middle;\n",
       "    }\n",
       "\n",
       "    .dataframe tbody tr th {\n",
       "        vertical-align: top;\n",
       "    }\n",
       "\n",
       "    .dataframe thead th {\n",
       "        text-align: right;\n",
       "    }\n",
       "</style>\n",
       "<table border=\"1\" class=\"dataframe\">\n",
       "  <thead>\n",
       "    <tr style=\"text-align: right;\">\n",
       "      <th></th>\n",
       "      <th>A</th>\n",
       "      <th>nome da var</th>\n",
       "      <th>valor da var</th>\n",
       "    </tr>\n",
       "  </thead>\n",
       "  <tbody>\n",
       "    <tr>\n",
       "      <th>0</th>\n",
       "      <td>a</td>\n",
       "      <td>B</td>\n",
       "      <td>1</td>\n",
       "    </tr>\n",
       "    <tr>\n",
       "      <th>1</th>\n",
       "      <td>b</td>\n",
       "      <td>B</td>\n",
       "      <td>3</td>\n",
       "    </tr>\n",
       "    <tr>\n",
       "      <th>2</th>\n",
       "      <td>c</td>\n",
       "      <td>B</td>\n",
       "      <td>5</td>\n",
       "    </tr>\n",
       "    <tr>\n",
       "      <th>3</th>\n",
       "      <td>a</td>\n",
       "      <td>C</td>\n",
       "      <td>2</td>\n",
       "    </tr>\n",
       "    <tr>\n",
       "      <th>4</th>\n",
       "      <td>b</td>\n",
       "      <td>C</td>\n",
       "      <td>4</td>\n",
       "    </tr>\n",
       "    <tr>\n",
       "      <th>5</th>\n",
       "      <td>c</td>\n",
       "      <td>C</td>\n",
       "      <td>6</td>\n",
       "    </tr>\n",
       "  </tbody>\n",
       "</table>\n",
       "</div>"
      ],
      "text/plain": [
       "   A nome da var  valor da var\n",
       "0  a           B             1\n",
       "1  b           B             3\n",
       "2  c           B             5\n",
       "3  a           C             2\n",
       "4  b           C             4\n",
       "5  c           C             6"
      ]
     },
     "execution_count": 118,
     "metadata": {},
     "output_type": "execute_result"
    }
   ],
   "source": [
    "pd.melt(df, id_vars=['A'], value_vars=['B', 'C'], var_name='nome da var', value_name='valor da var')"
   ]
  },
  {
   "cell_type": "code",
   "execution_count": 119,
   "id": "f5a76a48",
   "metadata": {
    "hidden": true
   },
   "outputs": [
    {
     "name": "stdout",
     "output_type": "stream",
     "text": [
      "{'Localização': ['cidadeA', 'cidadeB'], 'Temperatura': ['prevista', 'atual'], 'Set-2021': [30, 32], 'Out-2021': [45, 43], 'Nov-2021': [24, 22]}\n"
     ]
    }
   ],
   "source": [
    "data = {\n",
    "    'Localização' : ['cidadeA', 'cidadeB'], \n",
    "    'Temperatura' : ['prevista', 'atual'],\n",
    "    'Set-2021':     [30, 32],\n",
    "    'Out-2021':     [45, 43],\n",
    "    'Nov-2021':     [24, 22]\n",
    "}\n",
    "\n",
    "print(data)"
   ]
  },
  {
   "cell_type": "code",
   "execution_count": 120,
   "id": "64007b46",
   "metadata": {
    "hidden": true
   },
   "outputs": [
    {
     "data": {
      "text/html": [
       "<div>\n",
       "<style scoped>\n",
       "    .dataframe tbody tr th:only-of-type {\n",
       "        vertical-align: middle;\n",
       "    }\n",
       "\n",
       "    .dataframe tbody tr th {\n",
       "        vertical-align: top;\n",
       "    }\n",
       "\n",
       "    .dataframe thead th {\n",
       "        text-align: right;\n",
       "    }\n",
       "</style>\n",
       "<table border=\"1\" class=\"dataframe\">\n",
       "  <thead>\n",
       "    <tr style=\"text-align: right;\">\n",
       "      <th></th>\n",
       "      <th>Localização</th>\n",
       "      <th>Temperatura</th>\n",
       "      <th>Set-2021</th>\n",
       "      <th>Out-2021</th>\n",
       "      <th>Nov-2021</th>\n",
       "    </tr>\n",
       "  </thead>\n",
       "  <tbody>\n",
       "    <tr>\n",
       "      <th>0</th>\n",
       "      <td>cidadeA</td>\n",
       "      <td>prevista</td>\n",
       "      <td>30</td>\n",
       "      <td>45</td>\n",
       "      <td>24</td>\n",
       "    </tr>\n",
       "    <tr>\n",
       "      <th>1</th>\n",
       "      <td>cidadeB</td>\n",
       "      <td>atual</td>\n",
       "      <td>32</td>\n",
       "      <td>43</td>\n",
       "      <td>22</td>\n",
       "    </tr>\n",
       "  </tbody>\n",
       "</table>\n",
       "</div>"
      ],
      "text/plain": [
       "  Localização Temperatura  Set-2021  Out-2021  Nov-2021\n",
       "0     cidadeA    prevista        30        45        24\n",
       "1     cidadeB       atual        32        43        22"
      ]
     },
     "execution_count": 120,
     "metadata": {},
     "output_type": "execute_result"
    }
   ],
   "source": [
    "df = pd.DataFrame(data, columns = ['Localização', 'Temperatura', 'Set-2021', 'Out-2021', 'Nov-2021'])\n",
    "df"
   ]
  },
  {
   "cell_type": "code",
   "execution_count": 121,
   "id": "04565261",
   "metadata": {
    "hidden": true
   },
   "outputs": [
    {
     "data": {
      "text/html": [
       "<div>\n",
       "<style scoped>\n",
       "    .dataframe tbody tr th:only-of-type {\n",
       "        vertical-align: middle;\n",
       "    }\n",
       "\n",
       "    .dataframe tbody tr th {\n",
       "        vertical-align: top;\n",
       "    }\n",
       "\n",
       "    .dataframe thead th {\n",
       "        text-align: right;\n",
       "    }\n",
       "</style>\n",
       "<table border=\"1\" class=\"dataframe\">\n",
       "  <thead>\n",
       "    <tr style=\"text-align: right;\">\n",
       "      <th></th>\n",
       "      <th>Localização</th>\n",
       "      <th>Temperatura</th>\n",
       "      <th>Data</th>\n",
       "      <th>Valor</th>\n",
       "    </tr>\n",
       "  </thead>\n",
       "  <tbody>\n",
       "    <tr>\n",
       "      <th>0</th>\n",
       "      <td>cidadeA</td>\n",
       "      <td>prevista</td>\n",
       "      <td>Set-2021</td>\n",
       "      <td>30</td>\n",
       "    </tr>\n",
       "    <tr>\n",
       "      <th>1</th>\n",
       "      <td>cidadeB</td>\n",
       "      <td>atual</td>\n",
       "      <td>Set-2021</td>\n",
       "      <td>32</td>\n",
       "    </tr>\n",
       "    <tr>\n",
       "      <th>2</th>\n",
       "      <td>cidadeA</td>\n",
       "      <td>prevista</td>\n",
       "      <td>Out-2021</td>\n",
       "      <td>45</td>\n",
       "    </tr>\n",
       "    <tr>\n",
       "      <th>3</th>\n",
       "      <td>cidadeB</td>\n",
       "      <td>atual</td>\n",
       "      <td>Out-2021</td>\n",
       "      <td>43</td>\n",
       "    </tr>\n",
       "    <tr>\n",
       "      <th>4</th>\n",
       "      <td>cidadeA</td>\n",
       "      <td>prevista</td>\n",
       "      <td>Nov-2021</td>\n",
       "      <td>24</td>\n",
       "    </tr>\n",
       "    <tr>\n",
       "      <th>5</th>\n",
       "      <td>cidadeB</td>\n",
       "      <td>atual</td>\n",
       "      <td>Nov-2021</td>\n",
       "      <td>22</td>\n",
       "    </tr>\n",
       "  </tbody>\n",
       "</table>\n",
       "</div>"
      ],
      "text/plain": [
       "  Localização Temperatura      Data  Valor\n",
       "0     cidadeA    prevista  Set-2021     30\n",
       "1     cidadeB       atual  Set-2021     32\n",
       "2     cidadeA    prevista  Out-2021     45\n",
       "3     cidadeB       atual  Out-2021     43\n",
       "4     cidadeA    prevista  Nov-2021     24\n",
       "5     cidadeB       atual  Nov-2021     22"
      ]
     },
     "execution_count": 121,
     "metadata": {},
     "output_type": "execute_result"
    }
   ],
   "source": [
    "df2 = pd.melt(df, id_vars=['Localização', 'Temperatura'], var_name='Data', value_name='Valor')\n",
    "\n",
    "df2"
   ]
  },
  {
   "cell_type": "markdown",
   "id": "590dd682",
   "metadata": {
    "heading_collapsed": true
   },
   "source": [
    "## 2.6. Seleção de linhas e colunas"
   ]
  },
  {
   "cell_type": "code",
   "execution_count": 122,
   "id": "50b6b747",
   "metadata": {
    "hidden": true
   },
   "outputs": [],
   "source": [
    "datas = pd.date_range('20210101', periods = 600)\n",
    "\n",
    "df = pd.DataFrame(np.random.rand(600, 5), index = datas, columns = list('ABCDE'))"
   ]
  },
  {
   "cell_type": "code",
   "execution_count": 123,
   "id": "fcc0c30a",
   "metadata": {
    "hidden": true
   },
   "outputs": [
    {
     "data": {
      "text/html": [
       "<div>\n",
       "<style scoped>\n",
       "    .dataframe tbody tr th:only-of-type {\n",
       "        vertical-align: middle;\n",
       "    }\n",
       "\n",
       "    .dataframe tbody tr th {\n",
       "        vertical-align: top;\n",
       "    }\n",
       "\n",
       "    .dataframe thead th {\n",
       "        text-align: right;\n",
       "    }\n",
       "</style>\n",
       "<table border=\"1\" class=\"dataframe\">\n",
       "  <thead>\n",
       "    <tr style=\"text-align: right;\">\n",
       "      <th></th>\n",
       "      <th>A</th>\n",
       "      <th>B</th>\n",
       "      <th>C</th>\n",
       "      <th>D</th>\n",
       "      <th>E</th>\n",
       "    </tr>\n",
       "  </thead>\n",
       "  <tbody>\n",
       "    <tr>\n",
       "      <th>2021-01-01</th>\n",
       "      <td>0.402597</td>\n",
       "      <td>0.826211</td>\n",
       "      <td>0.444253</td>\n",
       "      <td>0.329025</td>\n",
       "      <td>0.960315</td>\n",
       "    </tr>\n",
       "    <tr>\n",
       "      <th>2021-01-02</th>\n",
       "      <td>0.195215</td>\n",
       "      <td>0.230581</td>\n",
       "      <td>0.093626</td>\n",
       "      <td>0.763088</td>\n",
       "      <td>0.789160</td>\n",
       "    </tr>\n",
       "    <tr>\n",
       "      <th>2021-01-03</th>\n",
       "      <td>0.828667</td>\n",
       "      <td>0.866978</td>\n",
       "      <td>0.659408</td>\n",
       "      <td>0.118299</td>\n",
       "      <td>0.874435</td>\n",
       "    </tr>\n",
       "    <tr>\n",
       "      <th>2021-01-04</th>\n",
       "      <td>0.837308</td>\n",
       "      <td>0.665054</td>\n",
       "      <td>0.744328</td>\n",
       "      <td>0.540468</td>\n",
       "      <td>0.657550</td>\n",
       "    </tr>\n",
       "  </tbody>\n",
       "</table>\n",
       "</div>"
      ],
      "text/plain": [
       "                   A         B         C         D         E\n",
       "2021-01-01  0.402597  0.826211  0.444253  0.329025  0.960315\n",
       "2021-01-02  0.195215  0.230581  0.093626  0.763088  0.789160\n",
       "2021-01-03  0.828667  0.866978  0.659408  0.118299  0.874435\n",
       "2021-01-04  0.837308  0.665054  0.744328  0.540468  0.657550"
      ]
     },
     "execution_count": 123,
     "metadata": {},
     "output_type": "execute_result"
    }
   ],
   "source": [
    "df.head(4)"
   ]
  },
  {
   "cell_type": "code",
   "execution_count": 124,
   "id": "c8e76031",
   "metadata": {
    "hidden": true
   },
   "outputs": [
    {
     "data": {
      "text/plain": [
       "2022-08-19    0.288441\n",
       "2022-08-20    0.059265\n",
       "2022-08-21    0.876388\n",
       "2022-08-22    0.607972\n",
       "2022-08-23    0.650374\n",
       "Freq: D, Name: D, dtype: float64"
      ]
     },
     "execution_count": 124,
     "metadata": {},
     "output_type": "execute_result"
    }
   ],
   "source": [
    "df['D'].tail(5)"
   ]
  },
  {
   "cell_type": "code",
   "execution_count": 125,
   "id": "b48869e1",
   "metadata": {
    "hidden": true
   },
   "outputs": [
    {
     "data": {
      "text/html": [
       "<div>\n",
       "<style scoped>\n",
       "    .dataframe tbody tr th:only-of-type {\n",
       "        vertical-align: middle;\n",
       "    }\n",
       "\n",
       "    .dataframe tbody tr th {\n",
       "        vertical-align: top;\n",
       "    }\n",
       "\n",
       "    .dataframe thead th {\n",
       "        text-align: right;\n",
       "    }\n",
       "</style>\n",
       "<table border=\"1\" class=\"dataframe\">\n",
       "  <thead>\n",
       "    <tr style=\"text-align: right;\">\n",
       "      <th></th>\n",
       "      <th>A</th>\n",
       "      <th>B</th>\n",
       "      <th>C</th>\n",
       "      <th>D</th>\n",
       "      <th>E</th>\n",
       "    </tr>\n",
       "  </thead>\n",
       "  <tbody>\n",
       "    <tr>\n",
       "      <th>2021-01-02</th>\n",
       "      <td>0.195215</td>\n",
       "      <td>0.230581</td>\n",
       "      <td>0.093626</td>\n",
       "      <td>0.763088</td>\n",
       "      <td>0.789160</td>\n",
       "    </tr>\n",
       "    <tr>\n",
       "      <th>2021-01-03</th>\n",
       "      <td>0.828667</td>\n",
       "      <td>0.866978</td>\n",
       "      <td>0.659408</td>\n",
       "      <td>0.118299</td>\n",
       "      <td>0.874435</td>\n",
       "    </tr>\n",
       "    <tr>\n",
       "      <th>2021-01-04</th>\n",
       "      <td>0.837308</td>\n",
       "      <td>0.665054</td>\n",
       "      <td>0.744328</td>\n",
       "      <td>0.540468</td>\n",
       "      <td>0.657550</td>\n",
       "    </tr>\n",
       "    <tr>\n",
       "      <th>2021-01-05</th>\n",
       "      <td>0.372198</td>\n",
       "      <td>0.687217</td>\n",
       "      <td>0.044099</td>\n",
       "      <td>0.259574</td>\n",
       "      <td>0.072387</td>\n",
       "    </tr>\n",
       "  </tbody>\n",
       "</table>\n",
       "</div>"
      ],
      "text/plain": [
       "                   A         B         C         D         E\n",
       "2021-01-02  0.195215  0.230581  0.093626  0.763088  0.789160\n",
       "2021-01-03  0.828667  0.866978  0.659408  0.118299  0.874435\n",
       "2021-01-04  0.837308  0.665054  0.744328  0.540468  0.657550\n",
       "2021-01-05  0.372198  0.687217  0.044099  0.259574  0.072387"
      ]
     },
     "execution_count": 125,
     "metadata": {},
     "output_type": "execute_result"
    }
   ],
   "source": [
    "df[1 : 5]"
   ]
  },
  {
   "cell_type": "code",
   "execution_count": 126,
   "id": "bc8c2979",
   "metadata": {
    "hidden": true
   },
   "outputs": [
    {
     "data": {
      "text/html": [
       "<div>\n",
       "<style scoped>\n",
       "    .dataframe tbody tr th:only-of-type {\n",
       "        vertical-align: middle;\n",
       "    }\n",
       "\n",
       "    .dataframe tbody tr th {\n",
       "        vertical-align: top;\n",
       "    }\n",
       "\n",
       "    .dataframe thead th {\n",
       "        text-align: right;\n",
       "    }\n",
       "</style>\n",
       "<table border=\"1\" class=\"dataframe\">\n",
       "  <thead>\n",
       "    <tr style=\"text-align: right;\">\n",
       "      <th></th>\n",
       "      <th>B</th>\n",
       "      <th>C</th>\n",
       "      <th>D</th>\n",
       "    </tr>\n",
       "  </thead>\n",
       "  <tbody>\n",
       "    <tr>\n",
       "      <th>2021-01-01</th>\n",
       "      <td>0.826211</td>\n",
       "      <td>0.444253</td>\n",
       "      <td>0.329025</td>\n",
       "    </tr>\n",
       "    <tr>\n",
       "      <th>2021-01-02</th>\n",
       "      <td>0.230581</td>\n",
       "      <td>0.093626</td>\n",
       "      <td>0.763088</td>\n",
       "    </tr>\n",
       "    <tr>\n",
       "      <th>2021-01-03</th>\n",
       "      <td>0.866978</td>\n",
       "      <td>0.659408</td>\n",
       "      <td>0.118299</td>\n",
       "    </tr>\n",
       "    <tr>\n",
       "      <th>2021-01-04</th>\n",
       "      <td>0.665054</td>\n",
       "      <td>0.744328</td>\n",
       "      <td>0.540468</td>\n",
       "    </tr>\n",
       "    <tr>\n",
       "      <th>2021-01-05</th>\n",
       "      <td>0.687217</td>\n",
       "      <td>0.044099</td>\n",
       "      <td>0.259574</td>\n",
       "    </tr>\n",
       "    <tr>\n",
       "      <th>...</th>\n",
       "      <td>...</td>\n",
       "      <td>...</td>\n",
       "      <td>...</td>\n",
       "    </tr>\n",
       "    <tr>\n",
       "      <th>2022-08-19</th>\n",
       "      <td>0.457193</td>\n",
       "      <td>0.431630</td>\n",
       "      <td>0.288441</td>\n",
       "    </tr>\n",
       "    <tr>\n",
       "      <th>2022-08-20</th>\n",
       "      <td>0.098357</td>\n",
       "      <td>0.629108</td>\n",
       "      <td>0.059265</td>\n",
       "    </tr>\n",
       "    <tr>\n",
       "      <th>2022-08-21</th>\n",
       "      <td>0.598208</td>\n",
       "      <td>0.650608</td>\n",
       "      <td>0.876388</td>\n",
       "    </tr>\n",
       "    <tr>\n",
       "      <th>2022-08-22</th>\n",
       "      <td>0.357694</td>\n",
       "      <td>0.979289</td>\n",
       "      <td>0.607972</td>\n",
       "    </tr>\n",
       "    <tr>\n",
       "      <th>2022-08-23</th>\n",
       "      <td>0.754326</td>\n",
       "      <td>0.863149</td>\n",
       "      <td>0.650374</td>\n",
       "    </tr>\n",
       "  </tbody>\n",
       "</table>\n",
       "<p>600 rows × 3 columns</p>\n",
       "</div>"
      ],
      "text/plain": [
       "                   B         C         D\n",
       "2021-01-01  0.826211  0.444253  0.329025\n",
       "2021-01-02  0.230581  0.093626  0.763088\n",
       "2021-01-03  0.866978  0.659408  0.118299\n",
       "2021-01-04  0.665054  0.744328  0.540468\n",
       "2021-01-05  0.687217  0.044099  0.259574\n",
       "...              ...       ...       ...\n",
       "2022-08-19  0.457193  0.431630  0.288441\n",
       "2022-08-20  0.098357  0.629108  0.059265\n",
       "2022-08-21  0.598208  0.650608  0.876388\n",
       "2022-08-22  0.357694  0.979289  0.607972\n",
       "2022-08-23  0.754326  0.863149  0.650374\n",
       "\n",
       "[600 rows x 3 columns]"
      ]
     },
     "execution_count": 126,
     "metadata": {},
     "output_type": "execute_result"
    }
   ],
   "source": [
    "df.loc[:, ['B', 'C', 'D']]"
   ]
  },
  {
   "cell_type": "markdown",
   "id": "a45f4cb9",
   "metadata": {
    "hidden": true
   },
   "source": [
    "**Filtragem do intervalo entre as datas especificadas e das colunas A e C**"
   ]
  },
  {
   "cell_type": "code",
   "execution_count": 127,
   "id": "19f47715",
   "metadata": {
    "hidden": true,
    "scrolled": true
   },
   "outputs": [
    {
     "data": {
      "text/html": [
       "<div>\n",
       "<style scoped>\n",
       "    .dataframe tbody tr th:only-of-type {\n",
       "        vertical-align: middle;\n",
       "    }\n",
       "\n",
       "    .dataframe tbody tr th {\n",
       "        vertical-align: top;\n",
       "    }\n",
       "\n",
       "    .dataframe thead th {\n",
       "        text-align: right;\n",
       "    }\n",
       "</style>\n",
       "<table border=\"1\" class=\"dataframe\">\n",
       "  <thead>\n",
       "    <tr style=\"text-align: right;\">\n",
       "      <th></th>\n",
       "      <th>A</th>\n",
       "      <th>C</th>\n",
       "    </tr>\n",
       "  </thead>\n",
       "  <tbody>\n",
       "    <tr>\n",
       "      <th>2022-01-01</th>\n",
       "      <td>0.435582</td>\n",
       "      <td>0.895076</td>\n",
       "    </tr>\n",
       "    <tr>\n",
       "      <th>2022-01-02</th>\n",
       "      <td>0.341976</td>\n",
       "      <td>0.575061</td>\n",
       "    </tr>\n",
       "    <tr>\n",
       "      <th>2022-01-03</th>\n",
       "      <td>0.460423</td>\n",
       "      <td>0.240820</td>\n",
       "    </tr>\n",
       "    <tr>\n",
       "      <th>2022-01-04</th>\n",
       "      <td>0.225618</td>\n",
       "      <td>0.938291</td>\n",
       "    </tr>\n",
       "    <tr>\n",
       "      <th>2022-01-05</th>\n",
       "      <td>0.342768</td>\n",
       "      <td>0.472574</td>\n",
       "    </tr>\n",
       "  </tbody>\n",
       "</table>\n",
       "</div>"
      ],
      "text/plain": [
       "                   A         C\n",
       "2022-01-01  0.435582  0.895076\n",
       "2022-01-02  0.341976  0.575061\n",
       "2022-01-03  0.460423  0.240820\n",
       "2022-01-04  0.225618  0.938291\n",
       "2022-01-05  0.342768  0.472574"
      ]
     },
     "execution_count": 127,
     "metadata": {},
     "output_type": "execute_result"
    }
   ],
   "source": [
    "df.loc['20220101' : '20220323', ['A', 'C']].head(5)"
   ]
  },
  {
   "cell_type": "markdown",
   "id": "9450ad77",
   "metadata": {
    "hidden": true
   },
   "source": [
    "**Filtragem de todas as colunas da linha 1**"
   ]
  },
  {
   "cell_type": "code",
   "execution_count": 128,
   "id": "a66ff12e",
   "metadata": {
    "hidden": true,
    "scrolled": true
   },
   "outputs": [
    {
     "data": {
      "text/plain": [
       "A    0.195215\n",
       "B    0.230581\n",
       "C    0.093626\n",
       "D    0.763088\n",
       "E    0.789160\n",
       "Name: 2021-01-02 00:00:00, dtype: float64"
      ]
     },
     "execution_count": 128,
     "metadata": {},
     "output_type": "execute_result"
    }
   ],
   "source": [
    "df.iloc[1]"
   ]
  },
  {
   "cell_type": "markdown",
   "id": "51bf6816",
   "metadata": {
    "hidden": true
   },
   "source": [
    "**Filtragem de um intervalo específico entre linhas e colunas (1º intervalo linhas, 2º colunas)**"
   ]
  },
  {
   "cell_type": "code",
   "execution_count": 129,
   "id": "a32b4bfb",
   "metadata": {
    "hidden": true,
    "scrolled": true
   },
   "outputs": [
    {
     "data": {
      "text/html": [
       "<div>\n",
       "<style scoped>\n",
       "    .dataframe tbody tr th:only-of-type {\n",
       "        vertical-align: middle;\n",
       "    }\n",
       "\n",
       "    .dataframe tbody tr th {\n",
       "        vertical-align: top;\n",
       "    }\n",
       "\n",
       "    .dataframe thead th {\n",
       "        text-align: right;\n",
       "    }\n",
       "</style>\n",
       "<table border=\"1\" class=\"dataframe\">\n",
       "  <thead>\n",
       "    <tr style=\"text-align: right;\">\n",
       "      <th></th>\n",
       "      <th>B</th>\n",
       "      <th>C</th>\n",
       "      <th>D</th>\n",
       "      <th>E</th>\n",
       "    </tr>\n",
       "  </thead>\n",
       "  <tbody>\n",
       "    <tr>\n",
       "      <th>2021-01-02</th>\n",
       "      <td>0.230581</td>\n",
       "      <td>0.093626</td>\n",
       "      <td>0.763088</td>\n",
       "      <td>0.789160</td>\n",
       "    </tr>\n",
       "    <tr>\n",
       "      <th>2021-01-03</th>\n",
       "      <td>0.866978</td>\n",
       "      <td>0.659408</td>\n",
       "      <td>0.118299</td>\n",
       "      <td>0.874435</td>\n",
       "    </tr>\n",
       "    <tr>\n",
       "      <th>2021-01-04</th>\n",
       "      <td>0.665054</td>\n",
       "      <td>0.744328</td>\n",
       "      <td>0.540468</td>\n",
       "      <td>0.657550</td>\n",
       "    </tr>\n",
       "  </tbody>\n",
       "</table>\n",
       "</div>"
      ],
      "text/plain": [
       "                   B         C         D         E\n",
       "2021-01-02  0.230581  0.093626  0.763088  0.789160\n",
       "2021-01-03  0.866978  0.659408  0.118299  0.874435\n",
       "2021-01-04  0.665054  0.744328  0.540468  0.657550"
      ]
     },
     "execution_count": 129,
     "metadata": {},
     "output_type": "execute_result"
    }
   ],
   "source": [
    "df.iloc[1:4, 1: 6]"
   ]
  },
  {
   "cell_type": "markdown",
   "id": "8ff7dc80",
   "metadata": {
    "hidden": true
   },
   "source": [
    "**Filtragem de linhas e colunas escolhidas**"
   ]
  },
  {
   "cell_type": "code",
   "execution_count": 130,
   "id": "345428e3",
   "metadata": {
    "hidden": true
   },
   "outputs": [
    {
     "data": {
      "text/html": [
       "<div>\n",
       "<style scoped>\n",
       "    .dataframe tbody tr th:only-of-type {\n",
       "        vertical-align: middle;\n",
       "    }\n",
       "\n",
       "    .dataframe tbody tr th {\n",
       "        vertical-align: top;\n",
       "    }\n",
       "\n",
       "    .dataframe thead th {\n",
       "        text-align: right;\n",
       "    }\n",
       "</style>\n",
       "<table border=\"1\" class=\"dataframe\">\n",
       "  <thead>\n",
       "    <tr style=\"text-align: right;\">\n",
       "      <th></th>\n",
       "      <th>A</th>\n",
       "      <th>D</th>\n",
       "    </tr>\n",
       "  </thead>\n",
       "  <tbody>\n",
       "    <tr>\n",
       "      <th>2021-01-08</th>\n",
       "      <td>0.548726</td>\n",
       "      <td>0.689335</td>\n",
       "    </tr>\n",
       "    <tr>\n",
       "      <th>2021-01-05</th>\n",
       "      <td>0.372198</td>\n",
       "      <td>0.259574</td>\n",
       "    </tr>\n",
       "    <tr>\n",
       "      <th>2021-01-09</th>\n",
       "      <td>0.150814</td>\n",
       "      <td>0.804990</td>\n",
       "    </tr>\n",
       "  </tbody>\n",
       "</table>\n",
       "</div>"
      ],
      "text/plain": [
       "                   A         D\n",
       "2021-01-08  0.548726  0.689335\n",
       "2021-01-05  0.372198  0.259574\n",
       "2021-01-09  0.150814  0.804990"
      ]
     },
     "execution_count": 130,
     "metadata": {},
     "output_type": "execute_result"
    }
   ],
   "source": [
    "df.iloc[[7, 4, 8], [0, 3]]"
   ]
  },
  {
   "cell_type": "markdown",
   "id": "be9fb81b",
   "metadata": {
    "hidden": true
   },
   "source": [
    "**Filtros booleanos**"
   ]
  },
  {
   "cell_type": "code",
   "execution_count": 131,
   "id": "e2341712",
   "metadata": {
    "hidden": true
   },
   "outputs": [
    {
     "data": {
      "text/html": [
       "<div>\n",
       "<style scoped>\n",
       "    .dataframe tbody tr th:only-of-type {\n",
       "        vertical-align: middle;\n",
       "    }\n",
       "\n",
       "    .dataframe tbody tr th {\n",
       "        vertical-align: top;\n",
       "    }\n",
       "\n",
       "    .dataframe thead th {\n",
       "        text-align: right;\n",
       "    }\n",
       "</style>\n",
       "<table border=\"1\" class=\"dataframe\">\n",
       "  <thead>\n",
       "    <tr style=\"text-align: right;\">\n",
       "      <th></th>\n",
       "      <th>A</th>\n",
       "      <th>B</th>\n",
       "      <th>C</th>\n",
       "      <th>D</th>\n",
       "      <th>E</th>\n",
       "    </tr>\n",
       "  </thead>\n",
       "  <tbody>\n",
       "    <tr>\n",
       "      <th>2021-01-01</th>\n",
       "      <td>0.402597</td>\n",
       "      <td>0.826211</td>\n",
       "      <td>0.444253</td>\n",
       "      <td>0.329025</td>\n",
       "      <td>0.960315</td>\n",
       "    </tr>\n",
       "    <tr>\n",
       "      <th>2021-01-02</th>\n",
       "      <td>0.195215</td>\n",
       "      <td>0.230581</td>\n",
       "      <td>0.093626</td>\n",
       "      <td>0.763088</td>\n",
       "      <td>0.789160</td>\n",
       "    </tr>\n",
       "    <tr>\n",
       "      <th>2021-01-03</th>\n",
       "      <td>0.828667</td>\n",
       "      <td>0.866978</td>\n",
       "      <td>0.659408</td>\n",
       "      <td>0.118299</td>\n",
       "      <td>0.874435</td>\n",
       "    </tr>\n",
       "    <tr>\n",
       "      <th>2021-01-04</th>\n",
       "      <td>0.837308</td>\n",
       "      <td>0.665054</td>\n",
       "      <td>0.744328</td>\n",
       "      <td>0.540468</td>\n",
       "      <td>0.657550</td>\n",
       "    </tr>\n",
       "    <tr>\n",
       "      <th>2021-01-05</th>\n",
       "      <td>0.372198</td>\n",
       "      <td>0.687217</td>\n",
       "      <td>0.044099</td>\n",
       "      <td>0.259574</td>\n",
       "      <td>0.072387</td>\n",
       "    </tr>\n",
       "    <tr>\n",
       "      <th>...</th>\n",
       "      <td>...</td>\n",
       "      <td>...</td>\n",
       "      <td>...</td>\n",
       "      <td>...</td>\n",
       "      <td>...</td>\n",
       "    </tr>\n",
       "    <tr>\n",
       "      <th>2022-08-19</th>\n",
       "      <td>0.188307</td>\n",
       "      <td>0.457193</td>\n",
       "      <td>0.431630</td>\n",
       "      <td>0.288441</td>\n",
       "      <td>0.829495</td>\n",
       "    </tr>\n",
       "    <tr>\n",
       "      <th>2022-08-20</th>\n",
       "      <td>0.879451</td>\n",
       "      <td>0.098357</td>\n",
       "      <td>0.629108</td>\n",
       "      <td>0.059265</td>\n",
       "      <td>0.775356</td>\n",
       "    </tr>\n",
       "    <tr>\n",
       "      <th>2022-08-21</th>\n",
       "      <td>0.384942</td>\n",
       "      <td>0.598208</td>\n",
       "      <td>0.650608</td>\n",
       "      <td>0.876388</td>\n",
       "      <td>0.110685</td>\n",
       "    </tr>\n",
       "    <tr>\n",
       "      <th>2022-08-22</th>\n",
       "      <td>0.771109</td>\n",
       "      <td>0.357694</td>\n",
       "      <td>0.979289</td>\n",
       "      <td>0.607972</td>\n",
       "      <td>0.324029</td>\n",
       "    </tr>\n",
       "    <tr>\n",
       "      <th>2022-08-23</th>\n",
       "      <td>0.521814</td>\n",
       "      <td>0.754326</td>\n",
       "      <td>0.863149</td>\n",
       "      <td>0.650374</td>\n",
       "      <td>0.899580</td>\n",
       "    </tr>\n",
       "  </tbody>\n",
       "</table>\n",
       "<p>600 rows × 5 columns</p>\n",
       "</div>"
      ],
      "text/plain": [
       "                   A         B         C         D         E\n",
       "2021-01-01  0.402597  0.826211  0.444253  0.329025  0.960315\n",
       "2021-01-02  0.195215  0.230581  0.093626  0.763088  0.789160\n",
       "2021-01-03  0.828667  0.866978  0.659408  0.118299  0.874435\n",
       "2021-01-04  0.837308  0.665054  0.744328  0.540468  0.657550\n",
       "2021-01-05  0.372198  0.687217  0.044099  0.259574  0.072387\n",
       "...              ...       ...       ...       ...       ...\n",
       "2022-08-19  0.188307  0.457193  0.431630  0.288441  0.829495\n",
       "2022-08-20  0.879451  0.098357  0.629108  0.059265  0.775356\n",
       "2022-08-21  0.384942  0.598208  0.650608  0.876388  0.110685\n",
       "2022-08-22  0.771109  0.357694  0.979289  0.607972  0.324029\n",
       "2022-08-23  0.521814  0.754326  0.863149  0.650374  0.899580\n",
       "\n",
       "[600 rows x 5 columns]"
      ]
     },
     "execution_count": 131,
     "metadata": {},
     "output_type": "execute_result"
    }
   ],
   "source": [
    "df[df.A>0]"
   ]
  },
  {
   "cell_type": "code",
   "execution_count": 132,
   "id": "259289ac",
   "metadata": {
    "hidden": true
   },
   "outputs": [
    {
     "data": {
      "text/html": [
       "<div>\n",
       "<style scoped>\n",
       "    .dataframe tbody tr th:only-of-type {\n",
       "        vertical-align: middle;\n",
       "    }\n",
       "\n",
       "    .dataframe tbody tr th {\n",
       "        vertical-align: top;\n",
       "    }\n",
       "\n",
       "    .dataframe thead th {\n",
       "        text-align: right;\n",
       "    }\n",
       "</style>\n",
       "<table border=\"1\" class=\"dataframe\">\n",
       "  <thead>\n",
       "    <tr style=\"text-align: right;\">\n",
       "      <th></th>\n",
       "      <th>A</th>\n",
       "      <th>B</th>\n",
       "      <th>C</th>\n",
       "      <th>D</th>\n",
       "      <th>E</th>\n",
       "    </tr>\n",
       "  </thead>\n",
       "  <tbody>\n",
       "    <tr>\n",
       "      <th>2021-01-01</th>\n",
       "      <td>0.402597</td>\n",
       "      <td>0.826211</td>\n",
       "      <td>0.444253</td>\n",
       "      <td>0.329025</td>\n",
       "      <td>0.960315</td>\n",
       "    </tr>\n",
       "    <tr>\n",
       "      <th>2021-01-02</th>\n",
       "      <td>0.195215</td>\n",
       "      <td>0.230581</td>\n",
       "      <td>0.093626</td>\n",
       "      <td>0.763088</td>\n",
       "      <td>0.789160</td>\n",
       "    </tr>\n",
       "    <tr>\n",
       "      <th>2021-01-03</th>\n",
       "      <td>0.828667</td>\n",
       "      <td>0.866978</td>\n",
       "      <td>0.659408</td>\n",
       "      <td>0.118299</td>\n",
       "      <td>0.874435</td>\n",
       "    </tr>\n",
       "    <tr>\n",
       "      <th>2021-01-04</th>\n",
       "      <td>0.837308</td>\n",
       "      <td>0.665054</td>\n",
       "      <td>0.744328</td>\n",
       "      <td>0.540468</td>\n",
       "      <td>0.657550</td>\n",
       "    </tr>\n",
       "    <tr>\n",
       "      <th>2021-01-05</th>\n",
       "      <td>0.372198</td>\n",
       "      <td>0.687217</td>\n",
       "      <td>0.044099</td>\n",
       "      <td>0.259574</td>\n",
       "      <td>0.072387</td>\n",
       "    </tr>\n",
       "    <tr>\n",
       "      <th>...</th>\n",
       "      <td>...</td>\n",
       "      <td>...</td>\n",
       "      <td>...</td>\n",
       "      <td>...</td>\n",
       "      <td>...</td>\n",
       "    </tr>\n",
       "    <tr>\n",
       "      <th>2022-08-19</th>\n",
       "      <td>0.188307</td>\n",
       "      <td>0.457193</td>\n",
       "      <td>0.431630</td>\n",
       "      <td>0.288441</td>\n",
       "      <td>0.829495</td>\n",
       "    </tr>\n",
       "    <tr>\n",
       "      <th>2022-08-20</th>\n",
       "      <td>0.879451</td>\n",
       "      <td>0.098357</td>\n",
       "      <td>0.629108</td>\n",
       "      <td>0.059265</td>\n",
       "      <td>0.775356</td>\n",
       "    </tr>\n",
       "    <tr>\n",
       "      <th>2022-08-21</th>\n",
       "      <td>0.384942</td>\n",
       "      <td>0.598208</td>\n",
       "      <td>0.650608</td>\n",
       "      <td>0.876388</td>\n",
       "      <td>0.110685</td>\n",
       "    </tr>\n",
       "    <tr>\n",
       "      <th>2022-08-22</th>\n",
       "      <td>0.771109</td>\n",
       "      <td>0.357694</td>\n",
       "      <td>0.979289</td>\n",
       "      <td>0.607972</td>\n",
       "      <td>0.324029</td>\n",
       "    </tr>\n",
       "    <tr>\n",
       "      <th>2022-08-23</th>\n",
       "      <td>0.521814</td>\n",
       "      <td>0.754326</td>\n",
       "      <td>0.863149</td>\n",
       "      <td>0.650374</td>\n",
       "      <td>0.899580</td>\n",
       "    </tr>\n",
       "  </tbody>\n",
       "</table>\n",
       "<p>600 rows × 5 columns</p>\n",
       "</div>"
      ],
      "text/plain": [
       "                   A         B         C         D         E\n",
       "2021-01-01  0.402597  0.826211  0.444253  0.329025  0.960315\n",
       "2021-01-02  0.195215  0.230581  0.093626  0.763088  0.789160\n",
       "2021-01-03  0.828667  0.866978  0.659408  0.118299  0.874435\n",
       "2021-01-04  0.837308  0.665054  0.744328  0.540468  0.657550\n",
       "2021-01-05  0.372198  0.687217  0.044099  0.259574  0.072387\n",
       "...              ...       ...       ...       ...       ...\n",
       "2022-08-19  0.188307  0.457193  0.431630  0.288441  0.829495\n",
       "2022-08-20  0.879451  0.098357  0.629108  0.059265  0.775356\n",
       "2022-08-21  0.384942  0.598208  0.650608  0.876388  0.110685\n",
       "2022-08-22  0.771109  0.357694  0.979289  0.607972  0.324029\n",
       "2022-08-23  0.521814  0.754326  0.863149  0.650374  0.899580\n",
       "\n",
       "[600 rows x 5 columns]"
      ]
     },
     "execution_count": 132,
     "metadata": {},
     "output_type": "execute_result"
    }
   ],
   "source": [
    "df[df > 0]"
   ]
  },
  {
   "cell_type": "markdown",
   "id": "b481b5e5",
   "metadata": {},
   "source": [
    "## 2.7. Limpeza dos dados"
   ]
  },
  {
   "cell_type": "markdown",
   "id": "6b26f911",
   "metadata": {
    "heading_collapsed": true
   },
   "source": [
    "### 2.7.1 Sumarização dos dados"
   ]
  },
  {
   "cell_type": "code",
   "execution_count": 133,
   "id": "40c88cb4",
   "metadata": {
    "hidden": true
   },
   "outputs": [],
   "source": [
    "datas = pd.date_range('20180101', periods = 6)\n",
    "\n",
    "df = pd.DataFrame(np.random.randn(6,4), index = datas, columns = ['var_A', 'var_B', 'var_C', 'var_D'])"
   ]
  },
  {
   "cell_type": "code",
   "execution_count": 134,
   "id": "8b2cfae4",
   "metadata": {
    "hidden": true
   },
   "outputs": [],
   "source": [
    "df2 = pd.DataFrame({'A': pd.Timestamp('20130102'),\n",
    "                    'B': pd.Series(1, index = list(range(4)), dtype= 'float32'),\n",
    "                    'C': np.array([3] * 4, dtype = 'int32'),\n",
    "                    'D': pd.Categorical(['test', 'train', 'test', 'train']),\n",
    "                    'F': 'Python'\n",
    "    \n",
    "})"
   ]
  },
  {
   "cell_type": "code",
   "execution_count": 135,
   "id": "aacbff55",
   "metadata": {
    "hidden": true
   },
   "outputs": [
    {
     "data": {
      "text/html": [
       "<div>\n",
       "<style scoped>\n",
       "    .dataframe tbody tr th:only-of-type {\n",
       "        vertical-align: middle;\n",
       "    }\n",
       "\n",
       "    .dataframe tbody tr th {\n",
       "        vertical-align: top;\n",
       "    }\n",
       "\n",
       "    .dataframe thead th {\n",
       "        text-align: right;\n",
       "    }\n",
       "</style>\n",
       "<table border=\"1\" class=\"dataframe\">\n",
       "  <thead>\n",
       "    <tr style=\"text-align: right;\">\n",
       "      <th></th>\n",
       "      <th>var_A</th>\n",
       "      <th>var_B</th>\n",
       "      <th>var_C</th>\n",
       "      <th>var_D</th>\n",
       "    </tr>\n",
       "  </thead>\n",
       "  <tbody>\n",
       "    <tr>\n",
       "      <th>2018-01-01</th>\n",
       "      <td>-1.412941</td>\n",
       "      <td>2.270572</td>\n",
       "      <td>-1.287234</td>\n",
       "      <td>0.657636</td>\n",
       "    </tr>\n",
       "    <tr>\n",
       "      <th>2018-01-02</th>\n",
       "      <td>-2.223918</td>\n",
       "      <td>1.774864</td>\n",
       "      <td>0.201484</td>\n",
       "      <td>0.689649</td>\n",
       "    </tr>\n",
       "    <tr>\n",
       "      <th>2018-01-03</th>\n",
       "      <td>-1.300187</td>\n",
       "      <td>-1.736732</td>\n",
       "      <td>-0.054170</td>\n",
       "      <td>-0.847345</td>\n",
       "    </tr>\n",
       "    <tr>\n",
       "      <th>2018-01-04</th>\n",
       "      <td>0.177493</td>\n",
       "      <td>-0.122855</td>\n",
       "      <td>-0.492506</td>\n",
       "      <td>0.834782</td>\n",
       "    </tr>\n",
       "    <tr>\n",
       "      <th>2018-01-05</th>\n",
       "      <td>-0.088960</td>\n",
       "      <td>0.952087</td>\n",
       "      <td>-0.388572</td>\n",
       "      <td>1.286521</td>\n",
       "    </tr>\n",
       "    <tr>\n",
       "      <th>2018-01-06</th>\n",
       "      <td>0.029751</td>\n",
       "      <td>0.317284</td>\n",
       "      <td>1.130740</td>\n",
       "      <td>0.348753</td>\n",
       "    </tr>\n",
       "  </tbody>\n",
       "</table>\n",
       "</div>"
      ],
      "text/plain": [
       "               var_A     var_B     var_C     var_D\n",
       "2018-01-01 -1.412941  2.270572 -1.287234  0.657636\n",
       "2018-01-02 -2.223918  1.774864  0.201484  0.689649\n",
       "2018-01-03 -1.300187 -1.736732 -0.054170 -0.847345\n",
       "2018-01-04  0.177493 -0.122855 -0.492506  0.834782\n",
       "2018-01-05 -0.088960  0.952087 -0.388572  1.286521\n",
       "2018-01-06  0.029751  0.317284  1.130740  0.348753"
      ]
     },
     "execution_count": 135,
     "metadata": {},
     "output_type": "execute_result"
    }
   ],
   "source": [
    "df"
   ]
  },
  {
   "cell_type": "code",
   "execution_count": 136,
   "id": "08e53b60",
   "metadata": {
    "hidden": true,
    "scrolled": false
   },
   "outputs": [
    {
     "data": {
      "text/plain": [
       "(6, 4)"
      ]
     },
     "execution_count": 136,
     "metadata": {},
     "output_type": "execute_result"
    }
   ],
   "source": [
    "df.shape"
   ]
  },
  {
   "cell_type": "code",
   "execution_count": 137,
   "id": "43f9071e",
   "metadata": {
    "hidden": true,
    "scrolled": true
   },
   "outputs": [
    {
     "data": {
      "text/plain": [
       "var_A    float64\n",
       "var_B    float64\n",
       "var_C    float64\n",
       "var_D    float64\n",
       "dtype: object"
      ]
     },
     "execution_count": 137,
     "metadata": {},
     "output_type": "execute_result"
    }
   ],
   "source": [
    "df.dtypes"
   ]
  },
  {
   "cell_type": "code",
   "execution_count": 138,
   "id": "7d91ad5f",
   "metadata": {
    "hidden": true,
    "scrolled": true
   },
   "outputs": [
    {
     "data": {
      "text/html": [
       "<div>\n",
       "<style scoped>\n",
       "    .dataframe tbody tr th:only-of-type {\n",
       "        vertical-align: middle;\n",
       "    }\n",
       "\n",
       "    .dataframe tbody tr th {\n",
       "        vertical-align: top;\n",
       "    }\n",
       "\n",
       "    .dataframe thead th {\n",
       "        text-align: right;\n",
       "    }\n",
       "</style>\n",
       "<table border=\"1\" class=\"dataframe\">\n",
       "  <thead>\n",
       "    <tr style=\"text-align: right;\">\n",
       "      <th></th>\n",
       "      <th>var_A</th>\n",
       "      <th>var_B</th>\n",
       "      <th>var_C</th>\n",
       "      <th>var_D</th>\n",
       "    </tr>\n",
       "  </thead>\n",
       "  <tbody>\n",
       "    <tr>\n",
       "      <th>count</th>\n",
       "      <td>6.000000</td>\n",
       "      <td>6.000000</td>\n",
       "      <td>6.000000</td>\n",
       "      <td>6.000000</td>\n",
       "    </tr>\n",
       "    <tr>\n",
       "      <th>mean</th>\n",
       "      <td>-0.803127</td>\n",
       "      <td>0.575870</td>\n",
       "      <td>-0.148376</td>\n",
       "      <td>0.495000</td>\n",
       "    </tr>\n",
       "    <tr>\n",
       "      <th>std</th>\n",
       "      <td>0.980094</td>\n",
       "      <td>1.439052</td>\n",
       "      <td>0.805050</td>\n",
       "      <td>0.725200</td>\n",
       "    </tr>\n",
       "    <tr>\n",
       "      <th>min</th>\n",
       "      <td>-2.223918</td>\n",
       "      <td>-1.736732</td>\n",
       "      <td>-1.287234</td>\n",
       "      <td>-0.847345</td>\n",
       "    </tr>\n",
       "    <tr>\n",
       "      <th>25%</th>\n",
       "      <td>-1.384752</td>\n",
       "      <td>-0.012820</td>\n",
       "      <td>-0.466523</td>\n",
       "      <td>0.425974</td>\n",
       "    </tr>\n",
       "    <tr>\n",
       "      <th>50%</th>\n",
       "      <td>-0.694574</td>\n",
       "      <td>0.634686</td>\n",
       "      <td>-0.221371</td>\n",
       "      <td>0.673643</td>\n",
       "    </tr>\n",
       "    <tr>\n",
       "      <th>75%</th>\n",
       "      <td>0.000073</td>\n",
       "      <td>1.569170</td>\n",
       "      <td>0.137570</td>\n",
       "      <td>0.798499</td>\n",
       "    </tr>\n",
       "    <tr>\n",
       "      <th>max</th>\n",
       "      <td>0.177493</td>\n",
       "      <td>2.270572</td>\n",
       "      <td>1.130740</td>\n",
       "      <td>1.286521</td>\n",
       "    </tr>\n",
       "  </tbody>\n",
       "</table>\n",
       "</div>"
      ],
      "text/plain": [
       "          var_A     var_B     var_C     var_D\n",
       "count  6.000000  6.000000  6.000000  6.000000\n",
       "mean  -0.803127  0.575870 -0.148376  0.495000\n",
       "std    0.980094  1.439052  0.805050  0.725200\n",
       "min   -2.223918 -1.736732 -1.287234 -0.847345\n",
       "25%   -1.384752 -0.012820 -0.466523  0.425974\n",
       "50%   -0.694574  0.634686 -0.221371  0.673643\n",
       "75%    0.000073  1.569170  0.137570  0.798499\n",
       "max    0.177493  2.270572  1.130740  1.286521"
      ]
     },
     "execution_count": 138,
     "metadata": {},
     "output_type": "execute_result"
    }
   ],
   "source": [
    "df.describe()"
   ]
  },
  {
   "cell_type": "code",
   "execution_count": 139,
   "id": "7329ae7f",
   "metadata": {
    "hidden": true,
    "scrolled": true
   },
   "outputs": [
    {
     "data": {
      "text/html": [
       "<div>\n",
       "<style scoped>\n",
       "    .dataframe tbody tr th:only-of-type {\n",
       "        vertical-align: middle;\n",
       "    }\n",
       "\n",
       "    .dataframe tbody tr th {\n",
       "        vertical-align: top;\n",
       "    }\n",
       "\n",
       "    .dataframe thead th {\n",
       "        text-align: right;\n",
       "    }\n",
       "</style>\n",
       "<table border=\"1\" class=\"dataframe\">\n",
       "  <thead>\n",
       "    <tr style=\"text-align: right;\">\n",
       "      <th></th>\n",
       "      <th>A</th>\n",
       "      <th>B</th>\n",
       "      <th>C</th>\n",
       "      <th>D</th>\n",
       "      <th>F</th>\n",
       "    </tr>\n",
       "  </thead>\n",
       "  <tbody>\n",
       "    <tr>\n",
       "      <th>0</th>\n",
       "      <td>2013-01-02</td>\n",
       "      <td>1.0</td>\n",
       "      <td>3</td>\n",
       "      <td>test</td>\n",
       "      <td>Python</td>\n",
       "    </tr>\n",
       "    <tr>\n",
       "      <th>1</th>\n",
       "      <td>2013-01-02</td>\n",
       "      <td>1.0</td>\n",
       "      <td>3</td>\n",
       "      <td>train</td>\n",
       "      <td>Python</td>\n",
       "    </tr>\n",
       "    <tr>\n",
       "      <th>2</th>\n",
       "      <td>2013-01-02</td>\n",
       "      <td>1.0</td>\n",
       "      <td>3</td>\n",
       "      <td>test</td>\n",
       "      <td>Python</td>\n",
       "    </tr>\n",
       "    <tr>\n",
       "      <th>3</th>\n",
       "      <td>2013-01-02</td>\n",
       "      <td>1.0</td>\n",
       "      <td>3</td>\n",
       "      <td>train</td>\n",
       "      <td>Python</td>\n",
       "    </tr>\n",
       "  </tbody>\n",
       "</table>\n",
       "</div>"
      ],
      "text/plain": [
       "           A    B  C      D       F\n",
       "0 2013-01-02  1.0  3   test  Python\n",
       "1 2013-01-02  1.0  3  train  Python\n",
       "2 2013-01-02  1.0  3   test  Python\n",
       "3 2013-01-02  1.0  3  train  Python"
      ]
     },
     "execution_count": 139,
     "metadata": {},
     "output_type": "execute_result"
    }
   ],
   "source": [
    "df2"
   ]
  },
  {
   "cell_type": "code",
   "execution_count": 140,
   "id": "4ce87f71",
   "metadata": {
    "hidden": true
   },
   "outputs": [
    {
     "data": {
      "text/plain": [
       "(6, 4)"
      ]
     },
     "execution_count": 140,
     "metadata": {},
     "output_type": "execute_result"
    }
   ],
   "source": [
    "df.shape"
   ]
  },
  {
   "cell_type": "code",
   "execution_count": 141,
   "id": "40b4fd89",
   "metadata": {
    "hidden": true
   },
   "outputs": [
    {
     "data": {
      "text/plain": [
       "A    datetime64[ns]\n",
       "B           float32\n",
       "C             int32\n",
       "D          category\n",
       "F            object\n",
       "dtype: object"
      ]
     },
     "execution_count": 141,
     "metadata": {},
     "output_type": "execute_result"
    }
   ],
   "source": [
    "df2.dtypes"
   ]
  },
  {
   "cell_type": "code",
   "execution_count": 142,
   "id": "880daf73",
   "metadata": {
    "hidden": true,
    "scrolled": false
   },
   "outputs": [
    {
     "data": {
      "text/html": [
       "<div>\n",
       "<style scoped>\n",
       "    .dataframe tbody tr th:only-of-type {\n",
       "        vertical-align: middle;\n",
       "    }\n",
       "\n",
       "    .dataframe tbody tr th {\n",
       "        vertical-align: top;\n",
       "    }\n",
       "\n",
       "    .dataframe thead th {\n",
       "        text-align: right;\n",
       "    }\n",
       "</style>\n",
       "<table border=\"1\" class=\"dataframe\">\n",
       "  <thead>\n",
       "    <tr style=\"text-align: right;\">\n",
       "      <th></th>\n",
       "      <th>B</th>\n",
       "      <th>C</th>\n",
       "    </tr>\n",
       "  </thead>\n",
       "  <tbody>\n",
       "    <tr>\n",
       "      <th>count</th>\n",
       "      <td>4.0</td>\n",
       "      <td>4.0</td>\n",
       "    </tr>\n",
       "    <tr>\n",
       "      <th>mean</th>\n",
       "      <td>1.0</td>\n",
       "      <td>3.0</td>\n",
       "    </tr>\n",
       "    <tr>\n",
       "      <th>std</th>\n",
       "      <td>0.0</td>\n",
       "      <td>0.0</td>\n",
       "    </tr>\n",
       "    <tr>\n",
       "      <th>min</th>\n",
       "      <td>1.0</td>\n",
       "      <td>3.0</td>\n",
       "    </tr>\n",
       "    <tr>\n",
       "      <th>25%</th>\n",
       "      <td>1.0</td>\n",
       "      <td>3.0</td>\n",
       "    </tr>\n",
       "    <tr>\n",
       "      <th>50%</th>\n",
       "      <td>1.0</td>\n",
       "      <td>3.0</td>\n",
       "    </tr>\n",
       "    <tr>\n",
       "      <th>75%</th>\n",
       "      <td>1.0</td>\n",
       "      <td>3.0</td>\n",
       "    </tr>\n",
       "    <tr>\n",
       "      <th>max</th>\n",
       "      <td>1.0</td>\n",
       "      <td>3.0</td>\n",
       "    </tr>\n",
       "  </tbody>\n",
       "</table>\n",
       "</div>"
      ],
      "text/plain": [
       "         B    C\n",
       "count  4.0  4.0\n",
       "mean   1.0  3.0\n",
       "std    0.0  0.0\n",
       "min    1.0  3.0\n",
       "25%    1.0  3.0\n",
       "50%    1.0  3.0\n",
       "75%    1.0  3.0\n",
       "max    1.0  3.0"
      ]
     },
     "execution_count": 142,
     "metadata": {},
     "output_type": "execute_result"
    }
   ],
   "source": [
    "df2.describe()"
   ]
  },
  {
   "cell_type": "code",
   "execution_count": 143,
   "id": "4295bef3",
   "metadata": {
    "hidden": true
   },
   "outputs": [
    {
     "data": {
      "text/html": [
       "<div>\n",
       "<style scoped>\n",
       "    .dataframe tbody tr th:only-of-type {\n",
       "        vertical-align: middle;\n",
       "    }\n",
       "\n",
       "    .dataframe tbody tr th {\n",
       "        vertical-align: top;\n",
       "    }\n",
       "\n",
       "    .dataframe thead th {\n",
       "        text-align: right;\n",
       "    }\n",
       "</style>\n",
       "<table border=\"1\" class=\"dataframe\">\n",
       "  <thead>\n",
       "    <tr style=\"text-align: right;\">\n",
       "      <th></th>\n",
       "      <th>var_A</th>\n",
       "      <th>var_B</th>\n",
       "      <th>var_C</th>\n",
       "      <th>var_D</th>\n",
       "    </tr>\n",
       "  </thead>\n",
       "  <tbody>\n",
       "    <tr>\n",
       "      <th>2018-01-01</th>\n",
       "      <td>-1.412941</td>\n",
       "      <td>2.270572</td>\n",
       "      <td>-1.287234</td>\n",
       "      <td>0.657636</td>\n",
       "    </tr>\n",
       "    <tr>\n",
       "      <th>2018-01-02</th>\n",
       "      <td>-2.223918</td>\n",
       "      <td>1.774864</td>\n",
       "      <td>0.201484</td>\n",
       "      <td>0.689649</td>\n",
       "    </tr>\n",
       "    <tr>\n",
       "      <th>2018-01-03</th>\n",
       "      <td>-1.300187</td>\n",
       "      <td>-1.736732</td>\n",
       "      <td>-0.054170</td>\n",
       "      <td>-0.847345</td>\n",
       "    </tr>\n",
       "    <tr>\n",
       "      <th>2018-01-04</th>\n",
       "      <td>0.177493</td>\n",
       "      <td>-0.122855</td>\n",
       "      <td>-0.492506</td>\n",
       "      <td>0.834782</td>\n",
       "    </tr>\n",
       "    <tr>\n",
       "      <th>2018-01-05</th>\n",
       "      <td>-0.088960</td>\n",
       "      <td>0.952087</td>\n",
       "      <td>-0.388572</td>\n",
       "      <td>1.286521</td>\n",
       "    </tr>\n",
       "    <tr>\n",
       "      <th>2018-01-06</th>\n",
       "      <td>0.029751</td>\n",
       "      <td>0.317284</td>\n",
       "      <td>1.130740</td>\n",
       "      <td>0.348753</td>\n",
       "    </tr>\n",
       "  </tbody>\n",
       "</table>\n",
       "</div>"
      ],
      "text/plain": [
       "               var_A     var_B     var_C     var_D\n",
       "2018-01-01 -1.412941  2.270572 -1.287234  0.657636\n",
       "2018-01-02 -2.223918  1.774864  0.201484  0.689649\n",
       "2018-01-03 -1.300187 -1.736732 -0.054170 -0.847345\n",
       "2018-01-04  0.177493 -0.122855 -0.492506  0.834782\n",
       "2018-01-05 -0.088960  0.952087 -0.388572  1.286521\n",
       "2018-01-06  0.029751  0.317284  1.130740  0.348753"
      ]
     },
     "execution_count": 143,
     "metadata": {},
     "output_type": "execute_result"
    }
   ],
   "source": [
    "df"
   ]
  },
  {
   "cell_type": "code",
   "execution_count": 144,
   "id": "cbe733e4",
   "metadata": {
    "hidden": true
   },
   "outputs": [],
   "source": [
    "df1 = df.reindex(index = datas [ 0: 4 ], columns = list(df.columns) + ['var_E'])"
   ]
  },
  {
   "cell_type": "code",
   "execution_count": 145,
   "id": "42a78fd9",
   "metadata": {
    "hidden": true
   },
   "outputs": [
    {
     "data": {
      "text/html": [
       "<div>\n",
       "<style scoped>\n",
       "    .dataframe tbody tr th:only-of-type {\n",
       "        vertical-align: middle;\n",
       "    }\n",
       "\n",
       "    .dataframe tbody tr th {\n",
       "        vertical-align: top;\n",
       "    }\n",
       "\n",
       "    .dataframe thead th {\n",
       "        text-align: right;\n",
       "    }\n",
       "</style>\n",
       "<table border=\"1\" class=\"dataframe\">\n",
       "  <thead>\n",
       "    <tr style=\"text-align: right;\">\n",
       "      <th></th>\n",
       "      <th>var_A</th>\n",
       "      <th>var_B</th>\n",
       "      <th>var_C</th>\n",
       "      <th>var_D</th>\n",
       "      <th>var_E</th>\n",
       "    </tr>\n",
       "  </thead>\n",
       "  <tbody>\n",
       "    <tr>\n",
       "      <th>2018-01-01</th>\n",
       "      <td>-1.412941</td>\n",
       "      <td>2.270572</td>\n",
       "      <td>-1.287234</td>\n",
       "      <td>0.657636</td>\n",
       "      <td>NaN</td>\n",
       "    </tr>\n",
       "    <tr>\n",
       "      <th>2018-01-02</th>\n",
       "      <td>-2.223918</td>\n",
       "      <td>1.774864</td>\n",
       "      <td>0.201484</td>\n",
       "      <td>0.689649</td>\n",
       "      <td>NaN</td>\n",
       "    </tr>\n",
       "    <tr>\n",
       "      <th>2018-01-03</th>\n",
       "      <td>-1.300187</td>\n",
       "      <td>-1.736732</td>\n",
       "      <td>-0.054170</td>\n",
       "      <td>-0.847345</td>\n",
       "      <td>NaN</td>\n",
       "    </tr>\n",
       "    <tr>\n",
       "      <th>2018-01-04</th>\n",
       "      <td>0.177493</td>\n",
       "      <td>-0.122855</td>\n",
       "      <td>-0.492506</td>\n",
       "      <td>0.834782</td>\n",
       "      <td>NaN</td>\n",
       "    </tr>\n",
       "  </tbody>\n",
       "</table>\n",
       "</div>"
      ],
      "text/plain": [
       "               var_A     var_B     var_C     var_D  var_E\n",
       "2018-01-01 -1.412941  2.270572 -1.287234  0.657636    NaN\n",
       "2018-01-02 -2.223918  1.774864  0.201484  0.689649    NaN\n",
       "2018-01-03 -1.300187 -1.736732 -0.054170 -0.847345    NaN\n",
       "2018-01-04  0.177493 -0.122855 -0.492506  0.834782    NaN"
      ]
     },
     "execution_count": 145,
     "metadata": {},
     "output_type": "execute_result"
    }
   ],
   "source": [
    "df1"
   ]
  },
  {
   "cell_type": "code",
   "execution_count": 146,
   "id": "d43b379b",
   "metadata": {
    "hidden": true
   },
   "outputs": [],
   "source": [
    "df1.loc[datas[0]: datas [1], 'var_E'] = 77"
   ]
  },
  {
   "cell_type": "code",
   "execution_count": 147,
   "id": "82b21022",
   "metadata": {
    "hidden": true
   },
   "outputs": [
    {
     "data": {
      "text/html": [
       "<div>\n",
       "<style scoped>\n",
       "    .dataframe tbody tr th:only-of-type {\n",
       "        vertical-align: middle;\n",
       "    }\n",
       "\n",
       "    .dataframe tbody tr th {\n",
       "        vertical-align: top;\n",
       "    }\n",
       "\n",
       "    .dataframe thead th {\n",
       "        text-align: right;\n",
       "    }\n",
       "</style>\n",
       "<table border=\"1\" class=\"dataframe\">\n",
       "  <thead>\n",
       "    <tr style=\"text-align: right;\">\n",
       "      <th></th>\n",
       "      <th>var_A</th>\n",
       "      <th>var_B</th>\n",
       "      <th>var_C</th>\n",
       "      <th>var_D</th>\n",
       "      <th>var_E</th>\n",
       "    </tr>\n",
       "  </thead>\n",
       "  <tbody>\n",
       "    <tr>\n",
       "      <th>2018-01-01</th>\n",
       "      <td>-1.412941</td>\n",
       "      <td>2.270572</td>\n",
       "      <td>-1.287234</td>\n",
       "      <td>0.657636</td>\n",
       "      <td>77.0</td>\n",
       "    </tr>\n",
       "    <tr>\n",
       "      <th>2018-01-02</th>\n",
       "      <td>-2.223918</td>\n",
       "      <td>1.774864</td>\n",
       "      <td>0.201484</td>\n",
       "      <td>0.689649</td>\n",
       "      <td>77.0</td>\n",
       "    </tr>\n",
       "    <tr>\n",
       "      <th>2018-01-03</th>\n",
       "      <td>-1.300187</td>\n",
       "      <td>-1.736732</td>\n",
       "      <td>-0.054170</td>\n",
       "      <td>-0.847345</td>\n",
       "      <td>NaN</td>\n",
       "    </tr>\n",
       "    <tr>\n",
       "      <th>2018-01-04</th>\n",
       "      <td>0.177493</td>\n",
       "      <td>-0.122855</td>\n",
       "      <td>-0.492506</td>\n",
       "      <td>0.834782</td>\n",
       "      <td>NaN</td>\n",
       "    </tr>\n",
       "  </tbody>\n",
       "</table>\n",
       "</div>"
      ],
      "text/plain": [
       "               var_A     var_B     var_C     var_D  var_E\n",
       "2018-01-01 -1.412941  2.270572 -1.287234  0.657636   77.0\n",
       "2018-01-02 -2.223918  1.774864  0.201484  0.689649   77.0\n",
       "2018-01-03 -1.300187 -1.736732 -0.054170 -0.847345    NaN\n",
       "2018-01-04  0.177493 -0.122855 -0.492506  0.834782    NaN"
      ]
     },
     "execution_count": 147,
     "metadata": {},
     "output_type": "execute_result"
    }
   ],
   "source": [
    "df1"
   ]
  },
  {
   "cell_type": "code",
   "execution_count": 148,
   "id": "f657a1a1",
   "metadata": {
    "hidden": true
   },
   "outputs": [
    {
     "data": {
      "text/html": [
       "<div>\n",
       "<style scoped>\n",
       "    .dataframe tbody tr th:only-of-type {\n",
       "        vertical-align: middle;\n",
       "    }\n",
       "\n",
       "    .dataframe tbody tr th {\n",
       "        vertical-align: top;\n",
       "    }\n",
       "\n",
       "    .dataframe thead th {\n",
       "        text-align: right;\n",
       "    }\n",
       "</style>\n",
       "<table border=\"1\" class=\"dataframe\">\n",
       "  <thead>\n",
       "    <tr style=\"text-align: right;\">\n",
       "      <th></th>\n",
       "      <th>var_A</th>\n",
       "      <th>var_B</th>\n",
       "      <th>var_C</th>\n",
       "      <th>var_D</th>\n",
       "      <th>var_E</th>\n",
       "    </tr>\n",
       "  </thead>\n",
       "  <tbody>\n",
       "    <tr>\n",
       "      <th>count</th>\n",
       "      <td>4.000000</td>\n",
       "      <td>4.000000</td>\n",
       "      <td>4.000000</td>\n",
       "      <td>4.000000</td>\n",
       "      <td>2.0</td>\n",
       "    </tr>\n",
       "    <tr>\n",
       "      <th>mean</th>\n",
       "      <td>-1.189888</td>\n",
       "      <td>0.546462</td>\n",
       "      <td>-0.408107</td>\n",
       "      <td>0.333681</td>\n",
       "      <td>77.0</td>\n",
       "    </tr>\n",
       "    <tr>\n",
       "      <th>std</th>\n",
       "      <td>1.000145</td>\n",
       "      <td>1.838703</td>\n",
       "      <td>0.652395</td>\n",
       "      <td>0.791114</td>\n",
       "      <td>0.0</td>\n",
       "    </tr>\n",
       "    <tr>\n",
       "      <th>min</th>\n",
       "      <td>-2.223918</td>\n",
       "      <td>-1.736732</td>\n",
       "      <td>-1.287234</td>\n",
       "      <td>-0.847345</td>\n",
       "      <td>77.0</td>\n",
       "    </tr>\n",
       "    <tr>\n",
       "      <th>25%</th>\n",
       "      <td>-1.615685</td>\n",
       "      <td>-0.526324</td>\n",
       "      <td>-0.691188</td>\n",
       "      <td>0.281391</td>\n",
       "      <td>77.0</td>\n",
       "    </tr>\n",
       "    <tr>\n",
       "      <th>50%</th>\n",
       "      <td>-1.356564</td>\n",
       "      <td>0.826005</td>\n",
       "      <td>-0.273338</td>\n",
       "      <td>0.673643</td>\n",
       "      <td>77.0</td>\n",
       "    </tr>\n",
       "    <tr>\n",
       "      <th>75%</th>\n",
       "      <td>-0.930767</td>\n",
       "      <td>1.898791</td>\n",
       "      <td>0.009743</td>\n",
       "      <td>0.725932</td>\n",
       "      <td>77.0</td>\n",
       "    </tr>\n",
       "    <tr>\n",
       "      <th>max</th>\n",
       "      <td>0.177493</td>\n",
       "      <td>2.270572</td>\n",
       "      <td>0.201484</td>\n",
       "      <td>0.834782</td>\n",
       "      <td>77.0</td>\n",
       "    </tr>\n",
       "  </tbody>\n",
       "</table>\n",
       "</div>"
      ],
      "text/plain": [
       "          var_A     var_B     var_C     var_D  var_E\n",
       "count  4.000000  4.000000  4.000000  4.000000    2.0\n",
       "mean  -1.189888  0.546462 -0.408107  0.333681   77.0\n",
       "std    1.000145  1.838703  0.652395  0.791114    0.0\n",
       "min   -2.223918 -1.736732 -1.287234 -0.847345   77.0\n",
       "25%   -1.615685 -0.526324 -0.691188  0.281391   77.0\n",
       "50%   -1.356564  0.826005 -0.273338  0.673643   77.0\n",
       "75%   -0.930767  1.898791  0.009743  0.725932   77.0\n",
       "max    0.177493  2.270572  0.201484  0.834782   77.0"
      ]
     },
     "execution_count": 148,
     "metadata": {},
     "output_type": "execute_result"
    }
   ],
   "source": [
    "df1.describe()"
   ]
  },
  {
   "cell_type": "markdown",
   "id": "cfde67c2",
   "metadata": {
    "heading_collapsed": true
   },
   "source": [
    "### 2.7.2. Dados faltantes NaN"
   ]
  },
  {
   "cell_type": "code",
   "execution_count": 149,
   "id": "a68f863f",
   "metadata": {
    "hidden": true
   },
   "outputs": [],
   "source": [
    "datas = pd.date_range('20180101', periods = 60, freq=\"D\")\n",
    "\n",
    "df = pd.DataFrame(np.random.randn(60,5), index = datas, columns = list(\"ABCDE\")) "
   ]
  },
  {
   "cell_type": "code",
   "execution_count": 150,
   "id": "81d243c9",
   "metadata": {
    "hidden": true,
    "scrolled": true
   },
   "outputs": [
    {
     "data": {
      "text/html": [
       "<div>\n",
       "<style scoped>\n",
       "    .dataframe tbody tr th:only-of-type {\n",
       "        vertical-align: middle;\n",
       "    }\n",
       "\n",
       "    .dataframe tbody tr th {\n",
       "        vertical-align: top;\n",
       "    }\n",
       "\n",
       "    .dataframe thead th {\n",
       "        text-align: right;\n",
       "    }\n",
       "</style>\n",
       "<table border=\"1\" class=\"dataframe\">\n",
       "  <thead>\n",
       "    <tr style=\"text-align: right;\">\n",
       "      <th></th>\n",
       "      <th>A</th>\n",
       "      <th>B</th>\n",
       "      <th>C</th>\n",
       "      <th>D</th>\n",
       "      <th>E</th>\n",
       "    </tr>\n",
       "  </thead>\n",
       "  <tbody>\n",
       "    <tr>\n",
       "      <th>2018-01-01</th>\n",
       "      <td>0.647581</td>\n",
       "      <td>0.999454</td>\n",
       "      <td>0.837769</td>\n",
       "      <td>-1.972338</td>\n",
       "      <td>0.892713</td>\n",
       "    </tr>\n",
       "    <tr>\n",
       "      <th>2018-01-02</th>\n",
       "      <td>1.251573</td>\n",
       "      <td>0.102169</td>\n",
       "      <td>0.983943</td>\n",
       "      <td>0.315426</td>\n",
       "      <td>-1.945528</td>\n",
       "    </tr>\n",
       "    <tr>\n",
       "      <th>2018-01-03</th>\n",
       "      <td>-0.280812</td>\n",
       "      <td>0.926423</td>\n",
       "      <td>0.578059</td>\n",
       "      <td>-0.211619</td>\n",
       "      <td>1.184339</td>\n",
       "    </tr>\n",
       "  </tbody>\n",
       "</table>\n",
       "</div>"
      ],
      "text/plain": [
       "                   A         B         C         D         E\n",
       "2018-01-01  0.647581  0.999454  0.837769 -1.972338  0.892713\n",
       "2018-01-02  1.251573  0.102169  0.983943  0.315426 -1.945528\n",
       "2018-01-03 -0.280812  0.926423  0.578059 -0.211619  1.184339"
      ]
     },
     "execution_count": 150,
     "metadata": {},
     "output_type": "execute_result"
    }
   ],
   "source": [
    "df.head(3)"
   ]
  },
  {
   "cell_type": "code",
   "execution_count": 151,
   "id": "3c1ffd96",
   "metadata": {
    "hidden": true
   },
   "outputs": [],
   "source": [
    "df['F'] = df.A[df.A > 0]"
   ]
  },
  {
   "cell_type": "code",
   "execution_count": 152,
   "id": "182387c8",
   "metadata": {
    "hidden": true,
    "scrolled": true
   },
   "outputs": [
    {
     "data": {
      "text/html": [
       "<div>\n",
       "<style scoped>\n",
       "    .dataframe tbody tr th:only-of-type {\n",
       "        vertical-align: middle;\n",
       "    }\n",
       "\n",
       "    .dataframe tbody tr th {\n",
       "        vertical-align: top;\n",
       "    }\n",
       "\n",
       "    .dataframe thead th {\n",
       "        text-align: right;\n",
       "    }\n",
       "</style>\n",
       "<table border=\"1\" class=\"dataframe\">\n",
       "  <thead>\n",
       "    <tr style=\"text-align: right;\">\n",
       "      <th></th>\n",
       "      <th>A</th>\n",
       "      <th>B</th>\n",
       "      <th>C</th>\n",
       "      <th>D</th>\n",
       "      <th>E</th>\n",
       "      <th>F</th>\n",
       "    </tr>\n",
       "  </thead>\n",
       "  <tbody>\n",
       "    <tr>\n",
       "      <th>2018-01-01</th>\n",
       "      <td>0.647581</td>\n",
       "      <td>0.999454</td>\n",
       "      <td>0.837769</td>\n",
       "      <td>-1.972338</td>\n",
       "      <td>0.892713</td>\n",
       "      <td>0.647581</td>\n",
       "    </tr>\n",
       "    <tr>\n",
       "      <th>2018-01-02</th>\n",
       "      <td>1.251573</td>\n",
       "      <td>0.102169</td>\n",
       "      <td>0.983943</td>\n",
       "      <td>0.315426</td>\n",
       "      <td>-1.945528</td>\n",
       "      <td>1.251573</td>\n",
       "    </tr>\n",
       "    <tr>\n",
       "      <th>2018-01-03</th>\n",
       "      <td>-0.280812</td>\n",
       "      <td>0.926423</td>\n",
       "      <td>0.578059</td>\n",
       "      <td>-0.211619</td>\n",
       "      <td>1.184339</td>\n",
       "      <td>NaN</td>\n",
       "    </tr>\n",
       "  </tbody>\n",
       "</table>\n",
       "</div>"
      ],
      "text/plain": [
       "                   A         B         C         D         E         F\n",
       "2018-01-01  0.647581  0.999454  0.837769 -1.972338  0.892713  0.647581\n",
       "2018-01-02  1.251573  0.102169  0.983943  0.315426 -1.945528  1.251573\n",
       "2018-01-03 -0.280812  0.926423  0.578059 -0.211619  1.184339       NaN"
      ]
     },
     "execution_count": 152,
     "metadata": {},
     "output_type": "execute_result"
    }
   ],
   "source": [
    "df.head(3)"
   ]
  },
  {
   "cell_type": "code",
   "execution_count": 153,
   "id": "8de8d0d2",
   "metadata": {
    "hidden": true
   },
   "outputs": [],
   "source": [
    "df1 = df.copy()"
   ]
  },
  {
   "cell_type": "code",
   "execution_count": 154,
   "id": "e31134a0",
   "metadata": {
    "hidden": true
   },
   "outputs": [],
   "source": [
    "df2 = df.copy()"
   ]
  },
  {
   "cell_type": "markdown",
   "id": "f29a2134",
   "metadata": {
    "hidden": true
   },
   "source": [
    "**Extração dos valores NaN. Sempre que ultilizamos este comando, também perdemos os demais dados da linha.**"
   ]
  },
  {
   "cell_type": "code",
   "execution_count": 155,
   "id": "cda1690e",
   "metadata": {
    "hidden": true,
    "scrolled": true
   },
   "outputs": [
    {
     "data": {
      "text/plain": [
       "(30, 6)"
      ]
     },
     "execution_count": 155,
     "metadata": {},
     "output_type": "execute_result"
    }
   ],
   "source": [
    "df1.dropna().shape "
   ]
  },
  {
   "cell_type": "code",
   "execution_count": 156,
   "id": "ddf8e687",
   "metadata": {
    "hidden": true
   },
   "outputs": [
    {
     "data": {
      "text/plain": [
       "(60, 6)"
      ]
     },
     "execution_count": 156,
     "metadata": {},
     "output_type": "execute_result"
    }
   ],
   "source": [
    "df.shape"
   ]
  },
  {
   "cell_type": "code",
   "execution_count": 157,
   "id": "7217d682",
   "metadata": {
    "hidden": true
   },
   "outputs": [
    {
     "data": {
      "text/html": [
       "<div>\n",
       "<style scoped>\n",
       "    .dataframe tbody tr th:only-of-type {\n",
       "        vertical-align: middle;\n",
       "    }\n",
       "\n",
       "    .dataframe tbody tr th {\n",
       "        vertical-align: top;\n",
       "    }\n",
       "\n",
       "    .dataframe thead th {\n",
       "        text-align: right;\n",
       "    }\n",
       "</style>\n",
       "<table border=\"1\" class=\"dataframe\">\n",
       "  <thead>\n",
       "    <tr style=\"text-align: right;\">\n",
       "      <th></th>\n",
       "      <th>A</th>\n",
       "      <th>B</th>\n",
       "      <th>C</th>\n",
       "      <th>D</th>\n",
       "      <th>E</th>\n",
       "      <th>F</th>\n",
       "    </tr>\n",
       "  </thead>\n",
       "  <tbody>\n",
       "    <tr>\n",
       "      <th>2018-01-01</th>\n",
       "      <td>0.647581</td>\n",
       "      <td>0.999454</td>\n",
       "      <td>0.837769</td>\n",
       "      <td>-1.972338</td>\n",
       "      <td>0.892713</td>\n",
       "      <td>0.647581</td>\n",
       "    </tr>\n",
       "    <tr>\n",
       "      <th>2018-01-02</th>\n",
       "      <td>1.251573</td>\n",
       "      <td>0.102169</td>\n",
       "      <td>0.983943</td>\n",
       "      <td>0.315426</td>\n",
       "      <td>-1.945528</td>\n",
       "      <td>1.251573</td>\n",
       "    </tr>\n",
       "    <tr>\n",
       "      <th>2018-01-03</th>\n",
       "      <td>-0.280812</td>\n",
       "      <td>0.926423</td>\n",
       "      <td>0.578059</td>\n",
       "      <td>-0.211619</td>\n",
       "      <td>1.184339</td>\n",
       "      <td>NaN</td>\n",
       "    </tr>\n",
       "    <tr>\n",
       "      <th>2018-01-04</th>\n",
       "      <td>1.155684</td>\n",
       "      <td>-0.793745</td>\n",
       "      <td>0.085784</td>\n",
       "      <td>-0.866815</td>\n",
       "      <td>-1.834423</td>\n",
       "      <td>1.155684</td>\n",
       "    </tr>\n",
       "    <tr>\n",
       "      <th>2018-01-05</th>\n",
       "      <td>-0.336098</td>\n",
       "      <td>-0.555097</td>\n",
       "      <td>-2.716628</td>\n",
       "      <td>1.572390</td>\n",
       "      <td>-1.757926</td>\n",
       "      <td>NaN</td>\n",
       "    </tr>\n",
       "  </tbody>\n",
       "</table>\n",
       "</div>"
      ],
      "text/plain": [
       "                   A         B         C         D         E         F\n",
       "2018-01-01  0.647581  0.999454  0.837769 -1.972338  0.892713  0.647581\n",
       "2018-01-02  1.251573  0.102169  0.983943  0.315426 -1.945528  1.251573\n",
       "2018-01-03 -0.280812  0.926423  0.578059 -0.211619  1.184339       NaN\n",
       "2018-01-04  1.155684 -0.793745  0.085784 -0.866815 -1.834423  1.155684\n",
       "2018-01-05 -0.336098 -0.555097 -2.716628  1.572390 -1.757926       NaN"
      ]
     },
     "execution_count": 157,
     "metadata": {},
     "output_type": "execute_result"
    }
   ],
   "source": [
    "df2.head()"
   ]
  },
  {
   "cell_type": "markdown",
   "id": "fb786de3",
   "metadata": {
    "hidden": true
   },
   "source": [
    "**Substituição dos valores NaN pela média da coluna F**"
   ]
  },
  {
   "cell_type": "code",
   "execution_count": 158,
   "id": "48461972",
   "metadata": {
    "hidden": true
   },
   "outputs": [
    {
     "data": {
      "text/plain": [
       "2018-01-01    0.647581\n",
       "2018-01-02    1.251573\n",
       "2018-01-03    0.675765\n",
       "2018-01-04    1.155684\n",
       "2018-01-05    0.675765\n",
       "2018-01-06    0.675765\n",
       "2018-01-07    0.181834\n",
       "2018-01-08    0.102037\n",
       "2018-01-09    0.675765\n",
       "2018-01-10    0.145991\n",
       "2018-01-11    0.675765\n",
       "2018-01-12    0.675765\n",
       "2018-01-13    1.439649\n",
       "2018-01-14    0.113456\n",
       "2018-01-15    0.675765\n",
       "2018-01-16    0.529068\n",
       "2018-01-17    0.803713\n",
       "2018-01-18    0.675765\n",
       "2018-01-19    0.147765\n",
       "2018-01-20    1.642556\n",
       "2018-01-21    0.675765\n",
       "2018-01-22    0.675765\n",
       "2018-01-23    0.876531\n",
       "2018-01-24    0.675765\n",
       "2018-01-25    1.199881\n",
       "2018-01-26    0.475056\n",
       "2018-01-27    0.675765\n",
       "2018-01-28    0.675765\n",
       "2018-01-29    0.675765\n",
       "2018-01-30    0.675765\n",
       "2018-01-31    0.202707\n",
       "2018-02-01    0.906781\n",
       "2018-02-02    0.675765\n",
       "2018-02-03    0.675765\n",
       "2018-02-04    0.675765\n",
       "2018-02-05    0.861446\n",
       "2018-02-06    0.637146\n",
       "2018-02-07    0.089052\n",
       "2018-02-08    0.675765\n",
       "2018-02-09    0.889061\n",
       "2018-02-10    0.172216\n",
       "2018-02-11    0.675765\n",
       "2018-02-12    0.675765\n",
       "2018-02-13    0.675765\n",
       "2018-02-14    0.675765\n",
       "2018-02-15    0.500941\n",
       "2018-02-16    0.675765\n",
       "2018-02-17    0.675765\n",
       "2018-02-18    0.675765\n",
       "2018-02-19    0.523632\n",
       "2018-02-20    0.675765\n",
       "2018-02-21    0.329641\n",
       "2018-02-22    1.083289\n",
       "2018-02-23    0.675765\n",
       "2018-02-24    1.411320\n",
       "2018-02-25    0.534811\n",
       "2018-02-26    1.315074\n",
       "2018-02-27    0.675765\n",
       "2018-02-28    0.103471\n",
       "2018-03-01    0.675765\n",
       "Freq: D, Name: F, dtype: float64"
      ]
     },
     "execution_count": 158,
     "metadata": {},
     "output_type": "execute_result"
    }
   ],
   "source": [
    "df2.F.fillna(np.mean(df2.F))"
   ]
  },
  {
   "cell_type": "code",
   "execution_count": 159,
   "id": "32360300",
   "metadata": {
    "hidden": true
   },
   "outputs": [],
   "source": [
    "df3 = df.copy()"
   ]
  },
  {
   "cell_type": "markdown",
   "id": "3e1b3d7b",
   "metadata": {
    "hidden": true
   },
   "source": [
    "**Substituição de TODOS os valores NaN da tabela por 777**"
   ]
  },
  {
   "cell_type": "code",
   "execution_count": 160,
   "id": "0f50e5ac",
   "metadata": {
    "hidden": true
   },
   "outputs": [
    {
     "data": {
      "text/html": [
       "<div>\n",
       "<style scoped>\n",
       "    .dataframe tbody tr th:only-of-type {\n",
       "        vertical-align: middle;\n",
       "    }\n",
       "\n",
       "    .dataframe tbody tr th {\n",
       "        vertical-align: top;\n",
       "    }\n",
       "\n",
       "    .dataframe thead th {\n",
       "        text-align: right;\n",
       "    }\n",
       "</style>\n",
       "<table border=\"1\" class=\"dataframe\">\n",
       "  <thead>\n",
       "    <tr style=\"text-align: right;\">\n",
       "      <th></th>\n",
       "      <th>A</th>\n",
       "      <th>B</th>\n",
       "      <th>C</th>\n",
       "      <th>D</th>\n",
       "      <th>E</th>\n",
       "      <th>F</th>\n",
       "    </tr>\n",
       "  </thead>\n",
       "  <tbody>\n",
       "    <tr>\n",
       "      <th>2018-01-01</th>\n",
       "      <td>0.647581</td>\n",
       "      <td>0.999454</td>\n",
       "      <td>0.837769</td>\n",
       "      <td>-1.972338</td>\n",
       "      <td>0.892713</td>\n",
       "      <td>0.647581</td>\n",
       "    </tr>\n",
       "    <tr>\n",
       "      <th>2018-01-02</th>\n",
       "      <td>1.251573</td>\n",
       "      <td>0.102169</td>\n",
       "      <td>0.983943</td>\n",
       "      <td>0.315426</td>\n",
       "      <td>-1.945528</td>\n",
       "      <td>1.251573</td>\n",
       "    </tr>\n",
       "    <tr>\n",
       "      <th>2018-01-03</th>\n",
       "      <td>-0.280812</td>\n",
       "      <td>0.926423</td>\n",
       "      <td>0.578059</td>\n",
       "      <td>-0.211619</td>\n",
       "      <td>1.184339</td>\n",
       "      <td>777.000000</td>\n",
       "    </tr>\n",
       "    <tr>\n",
       "      <th>2018-01-04</th>\n",
       "      <td>1.155684</td>\n",
       "      <td>-0.793745</td>\n",
       "      <td>0.085784</td>\n",
       "      <td>-0.866815</td>\n",
       "      <td>-1.834423</td>\n",
       "      <td>1.155684</td>\n",
       "    </tr>\n",
       "    <tr>\n",
       "      <th>2018-01-05</th>\n",
       "      <td>-0.336098</td>\n",
       "      <td>-0.555097</td>\n",
       "      <td>-2.716628</td>\n",
       "      <td>1.572390</td>\n",
       "      <td>-1.757926</td>\n",
       "      <td>777.000000</td>\n",
       "    </tr>\n",
       "    <tr>\n",
       "      <th>2018-01-06</th>\n",
       "      <td>-0.375485</td>\n",
       "      <td>0.461145</td>\n",
       "      <td>0.098959</td>\n",
       "      <td>-1.770803</td>\n",
       "      <td>0.862419</td>\n",
       "      <td>777.000000</td>\n",
       "    </tr>\n",
       "    <tr>\n",
       "      <th>2018-01-07</th>\n",
       "      <td>0.181834</td>\n",
       "      <td>-2.358615</td>\n",
       "      <td>-1.539701</td>\n",
       "      <td>-0.133872</td>\n",
       "      <td>1.564670</td>\n",
       "      <td>0.181834</td>\n",
       "    </tr>\n",
       "    <tr>\n",
       "      <th>2018-01-08</th>\n",
       "      <td>0.102037</td>\n",
       "      <td>0.430319</td>\n",
       "      <td>1.327440</td>\n",
       "      <td>-1.525267</td>\n",
       "      <td>-1.059924</td>\n",
       "      <td>0.102037</td>\n",
       "    </tr>\n",
       "    <tr>\n",
       "      <th>2018-01-09</th>\n",
       "      <td>-1.376594</td>\n",
       "      <td>-0.424772</td>\n",
       "      <td>-1.353171</td>\n",
       "      <td>0.518392</td>\n",
       "      <td>0.061023</td>\n",
       "      <td>777.000000</td>\n",
       "    </tr>\n",
       "    <tr>\n",
       "      <th>2018-01-10</th>\n",
       "      <td>0.145991</td>\n",
       "      <td>-2.278529</td>\n",
       "      <td>-0.292067</td>\n",
       "      <td>1.505037</td>\n",
       "      <td>-0.930969</td>\n",
       "      <td>0.145991</td>\n",
       "    </tr>\n",
       "    <tr>\n",
       "      <th>2018-01-11</th>\n",
       "      <td>-0.563449</td>\n",
       "      <td>0.508420</td>\n",
       "      <td>0.623685</td>\n",
       "      <td>-1.896267</td>\n",
       "      <td>-0.692272</td>\n",
       "      <td>777.000000</td>\n",
       "    </tr>\n",
       "    <tr>\n",
       "      <th>2018-01-12</th>\n",
       "      <td>-2.228108</td>\n",
       "      <td>-0.529599</td>\n",
       "      <td>2.449412</td>\n",
       "      <td>0.913192</td>\n",
       "      <td>-1.490348</td>\n",
       "      <td>777.000000</td>\n",
       "    </tr>\n",
       "    <tr>\n",
       "      <th>2018-01-13</th>\n",
       "      <td>1.439649</td>\n",
       "      <td>-0.891948</td>\n",
       "      <td>1.758443</td>\n",
       "      <td>0.883523</td>\n",
       "      <td>0.159023</td>\n",
       "      <td>1.439649</td>\n",
       "    </tr>\n",
       "    <tr>\n",
       "      <th>2018-01-14</th>\n",
       "      <td>0.113456</td>\n",
       "      <td>0.005051</td>\n",
       "      <td>0.020021</td>\n",
       "      <td>0.501258</td>\n",
       "      <td>0.396175</td>\n",
       "      <td>0.113456</td>\n",
       "    </tr>\n",
       "    <tr>\n",
       "      <th>2018-01-15</th>\n",
       "      <td>-0.214894</td>\n",
       "      <td>0.844470</td>\n",
       "      <td>1.100283</td>\n",
       "      <td>0.572021</td>\n",
       "      <td>-0.657714</td>\n",
       "      <td>777.000000</td>\n",
       "    </tr>\n",
       "    <tr>\n",
       "      <th>2018-01-16</th>\n",
       "      <td>0.529068</td>\n",
       "      <td>0.392652</td>\n",
       "      <td>0.521807</td>\n",
       "      <td>-1.224534</td>\n",
       "      <td>-0.530729</td>\n",
       "      <td>0.529068</td>\n",
       "    </tr>\n",
       "    <tr>\n",
       "      <th>2018-01-17</th>\n",
       "      <td>0.803713</td>\n",
       "      <td>-1.252184</td>\n",
       "      <td>0.576870</td>\n",
       "      <td>-0.616939</td>\n",
       "      <td>-0.369596</td>\n",
       "      <td>0.803713</td>\n",
       "    </tr>\n",
       "    <tr>\n",
       "      <th>2018-01-18</th>\n",
       "      <td>-0.195782</td>\n",
       "      <td>0.475533</td>\n",
       "      <td>0.727619</td>\n",
       "      <td>-0.644422</td>\n",
       "      <td>-0.798231</td>\n",
       "      <td>777.000000</td>\n",
       "    </tr>\n",
       "    <tr>\n",
       "      <th>2018-01-19</th>\n",
       "      <td>0.147765</td>\n",
       "      <td>1.498400</td>\n",
       "      <td>-0.155889</td>\n",
       "      <td>-1.576505</td>\n",
       "      <td>0.458755</td>\n",
       "      <td>0.147765</td>\n",
       "    </tr>\n",
       "    <tr>\n",
       "      <th>2018-01-20</th>\n",
       "      <td>1.642556</td>\n",
       "      <td>-1.365783</td>\n",
       "      <td>-0.413234</td>\n",
       "      <td>-0.773814</td>\n",
       "      <td>-1.095756</td>\n",
       "      <td>1.642556</td>\n",
       "    </tr>\n",
       "    <tr>\n",
       "      <th>2018-01-21</th>\n",
       "      <td>-0.113893</td>\n",
       "      <td>-0.058473</td>\n",
       "      <td>-0.018423</td>\n",
       "      <td>-1.441690</td>\n",
       "      <td>-0.743936</td>\n",
       "      <td>777.000000</td>\n",
       "    </tr>\n",
       "    <tr>\n",
       "      <th>2018-01-22</th>\n",
       "      <td>-2.038456</td>\n",
       "      <td>0.158964</td>\n",
       "      <td>-1.198160</td>\n",
       "      <td>1.643549</td>\n",
       "      <td>0.194696</td>\n",
       "      <td>777.000000</td>\n",
       "    </tr>\n",
       "    <tr>\n",
       "      <th>2018-01-23</th>\n",
       "      <td>0.876531</td>\n",
       "      <td>-0.081752</td>\n",
       "      <td>0.675151</td>\n",
       "      <td>-1.053310</td>\n",
       "      <td>-0.953978</td>\n",
       "      <td>0.876531</td>\n",
       "    </tr>\n",
       "    <tr>\n",
       "      <th>2018-01-24</th>\n",
       "      <td>-0.468963</td>\n",
       "      <td>1.558764</td>\n",
       "      <td>2.386896</td>\n",
       "      <td>-0.988873</td>\n",
       "      <td>0.335720</td>\n",
       "      <td>777.000000</td>\n",
       "    </tr>\n",
       "    <tr>\n",
       "      <th>2018-01-25</th>\n",
       "      <td>1.199881</td>\n",
       "      <td>-0.494817</td>\n",
       "      <td>0.171767</td>\n",
       "      <td>1.513412</td>\n",
       "      <td>-0.240934</td>\n",
       "      <td>1.199881</td>\n",
       "    </tr>\n",
       "    <tr>\n",
       "      <th>2018-01-26</th>\n",
       "      <td>0.475056</td>\n",
       "      <td>1.586685</td>\n",
       "      <td>-1.097272</td>\n",
       "      <td>0.390188</td>\n",
       "      <td>-1.496421</td>\n",
       "      <td>0.475056</td>\n",
       "    </tr>\n",
       "    <tr>\n",
       "      <th>2018-01-27</th>\n",
       "      <td>-0.350344</td>\n",
       "      <td>-0.642061</td>\n",
       "      <td>0.045200</td>\n",
       "      <td>-0.950750</td>\n",
       "      <td>-0.193890</td>\n",
       "      <td>777.000000</td>\n",
       "    </tr>\n",
       "    <tr>\n",
       "      <th>2018-01-28</th>\n",
       "      <td>-0.014424</td>\n",
       "      <td>-0.338079</td>\n",
       "      <td>-0.918327</td>\n",
       "      <td>0.805955</td>\n",
       "      <td>-0.288135</td>\n",
       "      <td>777.000000</td>\n",
       "    </tr>\n",
       "    <tr>\n",
       "      <th>2018-01-29</th>\n",
       "      <td>-0.494586</td>\n",
       "      <td>0.934384</td>\n",
       "      <td>1.019390</td>\n",
       "      <td>2.094206</td>\n",
       "      <td>0.647456</td>\n",
       "      <td>777.000000</td>\n",
       "    </tr>\n",
       "    <tr>\n",
       "      <th>2018-01-30</th>\n",
       "      <td>-1.869451</td>\n",
       "      <td>1.132541</td>\n",
       "      <td>0.266159</td>\n",
       "      <td>1.153330</td>\n",
       "      <td>-2.721533</td>\n",
       "      <td>777.000000</td>\n",
       "    </tr>\n",
       "    <tr>\n",
       "      <th>2018-01-31</th>\n",
       "      <td>0.202707</td>\n",
       "      <td>0.946743</td>\n",
       "      <td>-0.600827</td>\n",
       "      <td>-0.575501</td>\n",
       "      <td>1.356587</td>\n",
       "      <td>0.202707</td>\n",
       "    </tr>\n",
       "    <tr>\n",
       "      <th>2018-02-01</th>\n",
       "      <td>0.906781</td>\n",
       "      <td>1.665487</td>\n",
       "      <td>1.326635</td>\n",
       "      <td>-1.531985</td>\n",
       "      <td>1.050624</td>\n",
       "      <td>0.906781</td>\n",
       "    </tr>\n",
       "    <tr>\n",
       "      <th>2018-02-02</th>\n",
       "      <td>-0.292199</td>\n",
       "      <td>-0.891041</td>\n",
       "      <td>-0.520421</td>\n",
       "      <td>0.640233</td>\n",
       "      <td>-1.914164</td>\n",
       "      <td>777.000000</td>\n",
       "    </tr>\n",
       "    <tr>\n",
       "      <th>2018-02-03</th>\n",
       "      <td>-0.047045</td>\n",
       "      <td>-0.455325</td>\n",
       "      <td>1.447025</td>\n",
       "      <td>0.177986</td>\n",
       "      <td>-0.201079</td>\n",
       "      <td>777.000000</td>\n",
       "    </tr>\n",
       "    <tr>\n",
       "      <th>2018-02-04</th>\n",
       "      <td>-2.165237</td>\n",
       "      <td>1.410151</td>\n",
       "      <td>0.481055</td>\n",
       "      <td>-1.395016</td>\n",
       "      <td>0.330061</td>\n",
       "      <td>777.000000</td>\n",
       "    </tr>\n",
       "    <tr>\n",
       "      <th>2018-02-05</th>\n",
       "      <td>0.861446</td>\n",
       "      <td>0.287274</td>\n",
       "      <td>-2.255376</td>\n",
       "      <td>1.327605</td>\n",
       "      <td>-1.302619</td>\n",
       "      <td>0.861446</td>\n",
       "    </tr>\n",
       "    <tr>\n",
       "      <th>2018-02-06</th>\n",
       "      <td>0.637146</td>\n",
       "      <td>0.436074</td>\n",
       "      <td>-0.046610</td>\n",
       "      <td>-0.472036</td>\n",
       "      <td>-1.660541</td>\n",
       "      <td>0.637146</td>\n",
       "    </tr>\n",
       "    <tr>\n",
       "      <th>2018-02-07</th>\n",
       "      <td>0.089052</td>\n",
       "      <td>-0.320411</td>\n",
       "      <td>0.191560</td>\n",
       "      <td>0.511422</td>\n",
       "      <td>-0.910080</td>\n",
       "      <td>0.089052</td>\n",
       "    </tr>\n",
       "    <tr>\n",
       "      <th>2018-02-08</th>\n",
       "      <td>-0.581836</td>\n",
       "      <td>-1.181834</td>\n",
       "      <td>-0.424918</td>\n",
       "      <td>0.838553</td>\n",
       "      <td>0.461521</td>\n",
       "      <td>777.000000</td>\n",
       "    </tr>\n",
       "    <tr>\n",
       "      <th>2018-02-09</th>\n",
       "      <td>0.889061</td>\n",
       "      <td>-0.379998</td>\n",
       "      <td>0.681560</td>\n",
       "      <td>0.701840</td>\n",
       "      <td>-0.175247</td>\n",
       "      <td>0.889061</td>\n",
       "    </tr>\n",
       "    <tr>\n",
       "      <th>2018-02-10</th>\n",
       "      <td>0.172216</td>\n",
       "      <td>-0.645919</td>\n",
       "      <td>0.443551</td>\n",
       "      <td>-1.458968</td>\n",
       "      <td>0.383977</td>\n",
       "      <td>0.172216</td>\n",
       "    </tr>\n",
       "    <tr>\n",
       "      <th>2018-02-11</th>\n",
       "      <td>-0.410066</td>\n",
       "      <td>0.602322</td>\n",
       "      <td>0.042015</td>\n",
       "      <td>-0.193112</td>\n",
       "      <td>0.665371</td>\n",
       "      <td>777.000000</td>\n",
       "    </tr>\n",
       "    <tr>\n",
       "      <th>2018-02-12</th>\n",
       "      <td>-1.019992</td>\n",
       "      <td>-0.498532</td>\n",
       "      <td>-0.621780</td>\n",
       "      <td>0.295128</td>\n",
       "      <td>-0.358633</td>\n",
       "      <td>777.000000</td>\n",
       "    </tr>\n",
       "    <tr>\n",
       "      <th>2018-02-13</th>\n",
       "      <td>-1.369599</td>\n",
       "      <td>1.371800</td>\n",
       "      <td>0.081825</td>\n",
       "      <td>-0.346615</td>\n",
       "      <td>-0.578785</td>\n",
       "      <td>777.000000</td>\n",
       "    </tr>\n",
       "    <tr>\n",
       "      <th>2018-02-14</th>\n",
       "      <td>-0.450804</td>\n",
       "      <td>0.518367</td>\n",
       "      <td>-1.474939</td>\n",
       "      <td>0.911730</td>\n",
       "      <td>-0.989961</td>\n",
       "      <td>777.000000</td>\n",
       "    </tr>\n",
       "    <tr>\n",
       "      <th>2018-02-15</th>\n",
       "      <td>0.500941</td>\n",
       "      <td>-0.590471</td>\n",
       "      <td>0.050793</td>\n",
       "      <td>-2.089201</td>\n",
       "      <td>-0.526989</td>\n",
       "      <td>0.500941</td>\n",
       "    </tr>\n",
       "    <tr>\n",
       "      <th>2018-02-16</th>\n",
       "      <td>-1.359500</td>\n",
       "      <td>0.041385</td>\n",
       "      <td>-0.392864</td>\n",
       "      <td>0.398349</td>\n",
       "      <td>0.992212</td>\n",
       "      <td>777.000000</td>\n",
       "    </tr>\n",
       "    <tr>\n",
       "      <th>2018-02-17</th>\n",
       "      <td>-0.238370</td>\n",
       "      <td>-2.251406</td>\n",
       "      <td>2.055518</td>\n",
       "      <td>1.555955</td>\n",
       "      <td>2.999591</td>\n",
       "      <td>777.000000</td>\n",
       "    </tr>\n",
       "    <tr>\n",
       "      <th>2018-02-18</th>\n",
       "      <td>-0.453478</td>\n",
       "      <td>1.003979</td>\n",
       "      <td>-0.257540</td>\n",
       "      <td>-1.527108</td>\n",
       "      <td>0.875804</td>\n",
       "      <td>777.000000</td>\n",
       "    </tr>\n",
       "    <tr>\n",
       "      <th>2018-02-19</th>\n",
       "      <td>0.523632</td>\n",
       "      <td>-0.369205</td>\n",
       "      <td>0.30"
      ],
      "text/plain": [
       "                   A         B         C         D         E           F\n",
       "2018-01-01  0.647581  0.999454  0.837769 -1.972338  0.892713    0.647581\n",
       "2018-01-02  1.251573  0.102169  0.983943  0.315426 -1.945528    1.251573\n",
       "2018-01-03 -0.280812  0.926423  0.578059 -0.211619  1.184339  777.000000\n",
       "2018-01-04  1.155684 -0.793745  0.085784 -0.866815 -1.834423    1.155684\n",
       "2018-01-05 -0.336098 -0.555097 -2.716628  1.572390 -1.757926  777.000000\n",
       "2018-01-06 -0.375485  0.461145  0.098959 -1.770803  0.862419  777.000000\n",
       "2018-01-07  0.181834 -2.358615 -1.539701 -0.133872  1.564670    0.181834\n",
       "2018-01-08  0.102037  0.430319  1.327440 -1.525267 -1.059924    0.102037\n",
       "2018-01-09 -1.376594 -0.424772 -1.353171  0.518392  0.061023  777.000000\n",
       "2018-01-10  0.145991 -2.278529 -0.292067  1.505037 -0.930969    0.145991\n",
       "2018-01-11 -0.563449  0.508420  0.623685 -1.896267 -0.692272  777.000000\n",
       "2018-01-12 -2.228108 -0.529599  2.449412  0.913192 -1.490348  777.000000\n",
       "2018-01-13  1.439649 -0.891948  1.758443  0.883523  0.159023    1.439649\n",
       "2018-01-14  0.113456  0.005051  0.020021  0.501258  0.396175    0.113456\n",
       "2018-01-15 -0.214894  0.844470  1.100283  0.572021 -0.657714  777.000000\n",
       "2018-01-16  0.529068  0.392652  0.521807 -1.224534 -0.530729    0.529068\n",
       "2018-01-17  0.803713 -1.252184  0.576870 -0.616939 -0.369596    0.803713\n",
       "2018-01-18 -0.195782  0.475533  0.727619 -0.644422 -0.798231  777.000000\n",
       "2018-01-19  0.147765  1.498400 -0.155889 -1.576505  0.458755    0.147765\n",
       "2018-01-20  1.642556 -1.365783 -0.413234 -0.773814 -1.095756    1.642556\n",
       "2018-01-21 -0.113893 -0.058473 -0.018423 -1.441690 -0.743936  777.000000\n",
       "2018-01-22 -2.038456  0.158964 -1.198160  1.643549  0.194696  777.000000\n",
       "2018-01-23  0.876531 -0.081752  0.675151 -1.053310 -0.953978    0.876531\n",
       "2018-01-24 -0.468963  1.558764  2.386896 -0.988873  0.335720  777.000000\n",
       "2018-01-25  1.199881 -0.494817  0.171767  1.513412 -0.240934    1.199881\n",
       "2018-01-26  0.475056  1.586685 -1.097272  0.390188 -1.496421    0.475056\n",
       "2018-01-27 -0.350344 -0.642061  0.045200 -0.950750 -0.193890  777.000000\n",
       "2018-01-28 -0.014424 -0.338079 -0.918327  0.805955 -0.288135  777.000000\n",
       "2018-01-29 -0.494586  0.934384  1.019390  2.094206  0.647456  777.000000\n",
       "2018-01-30 -1.869451  1.132541  0.266159  1.153330 -2.721533  777.000000\n",
       "2018-01-31  0.202707  0.946743 -0.600827 -0.575501  1.356587    0.202707\n",
       "2018-02-01  0.906781  1.665487  1.326635 -1.531985  1.050624    0.906781\n",
       "2018-02-02 -0.292199 -0.891041 -0.520421  0.640233 -1.914164  777.000000\n",
       "2018-02-03 -0.047045 -0.455325  1.447025  0.177986 -0.201079  777.000000\n",
       "2018-02-04 -2.165237  1.410151  0.481055 -1.395016  0.330061  777.000000\n",
       "2018-02-05  0.861446  0.287274 -2.255376  1.327605 -1.302619    0.861446\n",
       "2018-02-06  0.637146  0.436074 -0.046610 -0.472036 -1.660541    0.637146\n",
       "2018-02-07  0.089052 -0.320411  0.191560  0.511422 -0.910080    0.089052\n",
       "2018-02-08 -0.581836 -1.181834 -0.424918  0.838553  0.461521  777.000000\n",
       "2018-02-09  0.889061 -0.379998  0.681560  0.701840 -0.175247    0.889061\n",
       "2018-02-10  0.172216 -0.645919  0.443551 -1.458968  0.383977    0.172216\n",
       "2018-02-11 -0.410066  0.602322  0.042015 -0.193112  0.665371  777.000000\n",
       "2018-02-12 -1.019992 -0.498532 -0.621780  0.295128 -0.358633  777.000000\n",
       "2018-02-13 -1.369599  1.371800  0.081825 -0.346615 -0.578785  777.000000\n",
       "2018-02-14 -0.450804  0.518367 -1.474939  0.911730 -0.989961  777.000000\n",
       "2018-02-15  0.500941 -0.590471  0.050793 -2.089201 -0.526989    0.500941\n",
       "2018-02-16 -1.359500  0.041385 -0.392864  0.398349  0.992212  777.000000\n",
       "2018-02-17 -0.238370 -2.251406  2.055518  1.555955  2.999591  777.000000\n",
       "2018-02-18 -0.453478  1.003979 -0.257540 -1.527108  0.875804  777.000000\n",
       "2018-02-19  0.523632 -0.369205  0.308626 -0.035765 -1.704355    0.523632\n",
       "2018-02-20 -0.397369  0.826167  0.426142  0.585159 -0.365893  777.000000\n",
       "2018-02-21  0.329641  0.609049  0.850284 -1.297019  0.607967    0.329641\n",
       "2018-02-22  1.083289 -0.653949  0.315254 -0.687218  0.627508    1.083289\n",
       "2018-02-23 -0.028968 -1.298129 -1.032413 -2.716123 -1.453066  777.000000\n",
       "2018-02-24  1.411320  1.330239  1.051961  0.166371  0.402809    1.411320\n",
       "2018-02-25  0.534811  1.168270 -0.270859  1.698650 -0.985874    0.534811\n",
       "2018-02-26  1.315074  0.458564  1.425910  0.657782 -0.521309    1.315074\n",
       "2018-02-27 -0.221356  0.557885 -0.225546 -0.814844 -1.349547  777.000000\n",
       "2018-02-28  0.103471  0.603574  1.229180 -0.590681  0.620927    0.103471\n",
       "2018-03-01 -0.757382 -0.713507 -0.964913 -1.106067 -0.766835  777.000000"
      ]
     },
     "execution_count": 160,
     "metadata": {},
     "output_type": "execute_result"
    },
    {
     "data": {
      "text/html": [
       "<b>limit_output extension: Maximum message size of 10000 exceeded with 12041 characters</b>"
      ]
     },
     "metadata": {},
     "output_type": "display_data"
    }
   ],
   "source": [
    "df3.fillna(value = 777)"
   ]
  },
  {
   "cell_type": "markdown",
   "id": "41a6ed68",
   "metadata": {
    "heading_collapsed": true
   },
   "source": [
    "### 2.7.3. Dados únicos"
   ]
  },
  {
   "cell_type": "code",
   "execution_count": 161,
   "id": "668a58bc",
   "metadata": {
    "hidden": true
   },
   "outputs": [],
   "source": [
    "df2 = pd.DataFrame({'A': 1.,\n",
    "                    'B': pd.Timestamp('20130102'),\n",
    "                    'C': pd.Series(1, index = list(range(4)), dtype= 'float32'),\n",
    "                    'D': np.array([3] * 4, dtype = 'int32'),\n",
    "                    'E': pd.Categorical(['test', 'train', 'test', 'train']),\n",
    "                    'F': 'Python',\n",
    "                    'G': [2, 2, 4, 4],http://localhost:8888/notebooks/Desktop/ad/analise_de_dados/notebooks/fundamentos_da_linguagem_python.ipynb#2.7.3.-Dados-%C3%BAnicos\n",
    "                    'H': [np.nan, 2, 4, np.nan]\n",
    "    \n",
    "})"
   ]
  },
  {
   "cell_type": "code",
   "execution_count": 162,
   "id": "22e1908f",
   "metadata": {
    "hidden": true
   },
   "outputs": [
    {
     "data": {
      "text/html": [
       "<div>\n",
       "<style scoped>\n",
       "    .dataframe tbody tr th:only-of-type {\n",
       "        vertical-align: middle;\n",
       "    }\n",
       "\n",
       "    .dataframe tbody tr th {\n",
       "        vertical-align: top;\n",
       "    }\n",
       "\n",
       "    .dataframe thead th {\n",
       "        text-align: right;\n",
       "    }\n",
       "</style>\n",
       "<table border=\"1\" class=\"dataframe\">\n",
       "  <thead>\n",
       "    <tr style=\"text-align: right;\">\n",
       "      <th></th>\n",
       "      <th>A</th>\n",
       "      <th>B</th>\n",
       "      <th>C</th>\n",
       "      <th>D</th>\n",
       "      <th>E</th>\n",
       "      <th>F</th>\n",
       "      <th>G</th>\n",
       "      <th>H</th>\n",
       "    </tr>\n",
       "  </thead>\n",
       "  <tbody>\n",
       "    <tr>\n",
       "      <th>0</th>\n",
       "      <td>1.0</td>\n",
       "      <td>2013-01-02</td>\n",
       "      <td>1.0</td>\n",
       "      <td>3</td>\n",
       "      <td>test</td>\n",
       "      <td>Python</td>\n",
       "      <td>2</td>\n",
       "      <td>NaN</td>\n",
       "    </tr>\n",
       "    <tr>\n",
       "      <th>1</th>\n",
       "      <td>1.0</td>\n",
       "      <td>2013-01-02</td>\n",
       "      <td>1.0</td>\n",
       "      <td>3</td>\n",
       "      <td>train</td>\n",
       "      <td>Python</td>\n",
       "      <td>2</td>\n",
       "      <td>2.0</td>\n",
       "    </tr>\n",
       "    <tr>\n",
       "      <th>2</th>\n",
       "      <td>1.0</td>\n",
       "      <td>2013-01-02</td>\n",
       "      <td>1.0</td>\n",
       "      <td>3</td>\n",
       "      <td>test</td>\n",
       "      <td>Python</td>\n",
       "      <td>4</td>\n",
       "      <td>4.0</td>\n",
       "    </tr>\n",
       "    <tr>\n",
       "      <th>3</th>\n",
       "      <td>1.0</td>\n",
       "      <td>2013-01-02</td>\n",
       "      <td>1.0</td>\n",
       "      <td>3</td>\n",
       "      <td>train</td>\n",
       "      <td>Python</td>\n",
       "      <td>4</td>\n",
       "      <td>NaN</td>\n",
       "    </tr>\n",
       "  </tbody>\n",
       "</table>\n",
       "</div>"
      ],
      "text/plain": [
       "     A          B    C  D      E       F  G    H\n",
       "0  1.0 2013-01-02  1.0  3   test  Python  2  NaN\n",
       "1  1.0 2013-01-02  1.0  3  train  Python  2  2.0\n",
       "2  1.0 2013-01-02  1.0  3   test  Python  4  4.0\n",
       "3  1.0 2013-01-02  1.0  3  train  Python  4  NaN"
      ]
     },
     "execution_count": 162,
     "metadata": {},
     "output_type": "execute_result"
    }
   ],
   "source": [
    "df2"
   ]
  },
  {
   "cell_type": "markdown",
   "id": "cfb1e912",
   "metadata": {
    "hidden": true
   },
   "source": [
    "Sempre que usar a função nunique ela aponta os dados ÚNICOS ( axis=0 está relacionado a linha e axis= 1 à coluna)"
   ]
  },
  {
   "cell_type": "code",
   "execution_count": 163,
   "id": "d86d3371",
   "metadata": {
    "hidden": true,
    "scrolled": true
   },
   "outputs": [
    {
     "data": {
      "text/plain": [
       "0    6\n",
       "1    6\n",
       "2    6\n",
       "3    6\n",
       "dtype: int64"
      ]
     },
     "execution_count": 163,
     "metadata": {},
     "output_type": "execute_result"
    }
   ],
   "source": [
    "df2.nunique(axis = 1, dropna = True)"
   ]
  },
  {
   "cell_type": "markdown",
   "id": "3c7bb66d",
   "metadata": {
    "heading_collapsed": true
   },
   "source": [
    "### 2.7.4. Dados duplicados"
   ]
  },
  {
   "cell_type": "markdown",
   "id": "99e4429d",
   "metadata": {
    "hidden": true
   },
   "source": [
    "**Essa função mostra valores duplicados em todas as linhas**"
   ]
  },
  {
   "cell_type": "code",
   "execution_count": 164,
   "id": "de84aabe",
   "metadata": {
    "hidden": true,
    "scrolled": true
   },
   "outputs": [
    {
     "data": {
      "text/html": [
       "<div>\n",
       "<style scoped>\n",
       "    .dataframe tbody tr th:only-of-type {\n",
       "        vertical-align: middle;\n",
       "    }\n",
       "\n",
       "    .dataframe tbody tr th {\n",
       "        vertical-align: top;\n",
       "    }\n",
       "\n",
       "    .dataframe thead th {\n",
       "        text-align: right;\n",
       "    }\n",
       "</style>\n",
       "<table border=\"1\" class=\"dataframe\">\n",
       "  <thead>\n",
       "    <tr style=\"text-align: right;\">\n",
       "      <th></th>\n",
       "      <th>A</th>\n",
       "      <th>B</th>\n",
       "      <th>C</th>\n",
       "      <th>D</th>\n",
       "      <th>E</th>\n",
       "      <th>F</th>\n",
       "      <th>G</th>\n",
       "      <th>H</th>\n",
       "    </tr>\n",
       "  </thead>\n",
       "  <tbody>\n",
       "    <tr>\n",
       "      <th>0</th>\n",
       "      <td>1.0</td>\n",
       "      <td>2013-01-02</td>\n",
       "      <td>1.0</td>\n",
       "      <td>3</td>\n",
       "      <td>test</td>\n",
       "      <td>Python</td>\n",
       "      <td>2</td>\n",
       "      <td>NaN</td>\n",
       "    </tr>\n",
       "    <tr>\n",
       "      <th>1</th>\n",
       "      <td>1.0</td>\n",
       "      <td>2013-01-02</td>\n",
       "      <td>1.0</td>\n",
       "      <td>3</td>\n",
       "      <td>train</td>\n",
       "      <td>Python</td>\n",
       "      <td>2</td>\n",
       "      <td>2.0</td>\n",
       "    </tr>\n",
       "    <tr>\n",
       "      <th>2</th>\n",
       "      <td>1.0</td>\n",
       "      <td>2013-01-02</td>\n",
       "      <td>1.0</td>\n",
       "      <td>3</td>\n",
       "      <td>test</td>\n",
       "      <td>Python</td>\n",
       "      <td>4</td>\n",
       "      <td>4.0</td>\n",
       "    </tr>\n",
       "    <tr>\n",
       "      <th>3</th>\n",
       "      <td>1.0</td>\n",
       "      <td>2013-01-02</td>\n",
       "      <td>1.0</td>\n",
       "      <td>3</td>\n",
       "      <td>train</td>\n",
       "      <td>Python</td>\n",
       "      <td>4</td>\n",
       "      <td>NaN</td>\n",
       "    </tr>\n",
       "  </tbody>\n",
       "</table>\n",
       "</div>"
      ],
      "text/plain": [
       "     A          B    C  D      E       F  G    H\n",
       "0  1.0 2013-01-02  1.0  3   test  Python  2  NaN\n",
       "1  1.0 2013-01-02  1.0  3  train  Python  2  2.0\n",
       "2  1.0 2013-01-02  1.0  3   test  Python  4  4.0\n",
       "3  1.0 2013-01-02  1.0  3  train  Python  4  NaN"
      ]
     },
     "execution_count": 164,
     "metadata": {},
     "output_type": "execute_result"
    }
   ],
   "source": [
    "df2.drop_duplicates()"
   ]
  },
  {
   "cell_type": "markdown",
   "id": "5b1b0ee8",
   "metadata": {
    "hidden": true
   },
   "source": [
    "**Essa função mantém o 1° valor e exclui os valores duplicados na coluna especificada**"
   ]
  },
  {
   "cell_type": "code",
   "execution_count": 165,
   "id": "d11769d3",
   "metadata": {
    "hidden": true
   },
   "outputs": [
    {
     "data": {
      "text/html": [
       "<div>\n",
       "<style scoped>\n",
       "    .dataframe tbody tr th:only-of-type {\n",
       "        vertical-align: middle;\n",
       "    }\n",
       "\n",
       "    .dataframe tbody tr th {\n",
       "        vertical-align: top;\n",
       "    }\n",
       "\n",
       "    .dataframe thead th {\n",
       "        text-align: right;\n",
       "    }\n",
       "</style>\n",
       "<table border=\"1\" class=\"dataframe\">\n",
       "  <thead>\n",
       "    <tr style=\"text-align: right;\">\n",
       "      <th></th>\n",
       "      <th>A</th>\n",
       "      <th>B</th>\n",
       "      <th>C</th>\n",
       "      <th>D</th>\n",
       "      <th>E</th>\n",
       "      <th>F</th>\n",
       "      <th>G</th>\n",
       "      <th>H</th>\n",
       "    </tr>\n",
       "  </thead>\n",
       "  <tbody>\n",
       "    <tr>\n",
       "      <th>0</th>\n",
       "      <td>1.0</td>\n",
       "      <td>2013-01-02</td>\n",
       "      <td>1.0</td>\n",
       "      <td>3</td>\n",
       "      <td>test</td>\n",
       "      <td>Python</td>\n",
       "      <td>2</td>\n",
       "      <td>NaN</td>\n",
       "    </tr>\n",
       "    <tr>\n",
       "      <th>2</th>\n",
       "      <td>1.0</td>\n",
       "      <td>2013-01-02</td>\n",
       "      <td>1.0</td>\n",
       "      <td>3</td>\n",
       "      <td>test</td>\n",
       "      <td>Python</td>\n",
       "      <td>4</td>\n",
       "      <td>4.0</td>\n",
       "    </tr>\n",
       "  </tbody>\n",
       "</table>\n",
       "</div>"
      ],
      "text/plain": [
       "     A          B    C  D     E       F  G    H\n",
       "0  1.0 2013-01-02  1.0  3  test  Python  2  NaN\n",
       "2  1.0 2013-01-02  1.0  3  test  Python  4  4.0"
      ]
     },
     "execution_count": 165,
     "metadata": {},
     "output_type": "execute_result"
    }
   ],
   "source": [
    "df2.drop_duplicates(subset= 'G')"
   ]
  },
  {
   "cell_type": "markdown",
   "id": "f06c713f",
   "metadata": {},
   "source": [
    "### 2.7.5. Ordenação dos dados"
   ]
  },
  {
   "cell_type": "code",
   "execution_count": 166,
   "id": "b63169d7",
   "metadata": {},
   "outputs": [],
   "source": [
    "df = pd.DataFrame({\n",
    "                    'col1' : [ 'A', 'A', 'B', np.nan, 'D', 'C' ],  \n",
    "                    'col2' : [ 2, 1, 9, 8, 7, 4 ],\n",
    "                    'col3' : [ 0, 1, 9, 4, 2, 3 ],\n",
    "                })"
   ]
  },
  {
   "cell_type": "code",
   "execution_count": 167,
   "id": "d9a1ea0e",
   "metadata": {},
   "outputs": [
    {
     "data": {
      "text/html": [
       "<div>\n",
       "<style scoped>\n",
       "    .dataframe tbody tr th:only-of-type {\n",
       "        vertical-align: middle;\n",
       "    }\n",
       "\n",
       "    .dataframe tbody tr th {\n",
       "        vertical-align: top;\n",
       "    }\n",
       "\n",
       "    .dataframe thead th {\n",
       "        text-align: right;\n",
       "    }\n",
       "</style>\n",
       "<table border=\"1\" class=\"dataframe\">\n",
       "  <thead>\n",
       "    <tr style=\"text-align: right;\">\n",
       "      <th></th>\n",
       "      <th>col1</th>\n",
       "      <th>col2</th>\n",
       "      <th>col3</th>\n",
       "    </tr>\n",
       "  </thead>\n",
       "  <tbody>\n",
       "    <tr>\n",
       "      <th>0</th>\n",
       "      <td>A</td>\n",
       "      <td>2</td>\n",
       "      <td>0</td>\n",
       "    </tr>\n",
       "    <tr>\n",
       "      <th>1</th>\n",
       "      <td>A</td>\n",
       "      <td>1</td>\n",
       "      <td>1</td>\n",
       "    </tr>\n",
       "    <tr>\n",
       "      <th>2</th>\n",
       "      <td>B</td>\n",
       "      <td>9</td>\n",
       "      <td>9</td>\n",
       "    </tr>\n",
       "    <tr>\n",
       "      <th>3</th>\n",
       "      <td>NaN</td>\n",
       "      <td>8</td>\n",
       "      <td>4</td>\n",
       "    </tr>\n",
       "    <tr>\n",
       "      <th>4</th>\n",
       "      <td>D</td>\n",
       "      <td>7</td>\n",
       "      <td>2</td>\n",
       "    </tr>\n",
       "    <tr>\n",
       "      <th>5</th>\n",
       "      <td>C</td>\n",
       "      <td>4</td>\n",
       "      <td>3</td>\n",
       "    </tr>\n",
       "  </tbody>\n",
       "</table>\n",
       "</div>"
      ],
      "text/plain": [
       "  col1  col2  col3\n",
       "0    A     2     0\n",
       "1    A     1     1\n",
       "2    B     9     9\n",
       "3  NaN     8     4\n",
       "4    D     7     2\n",
       "5    C     4     3"
      ]
     },
     "execution_count": 167,
     "metadata": {},
     "output_type": "execute_result"
    }
   ],
   "source": [
    "df"
   ]
  },
  {
   "cell_type": "markdown",
   "id": "fdaae071",
   "metadata": {},
   "source": [
    "**Ordenação de valores pela coluna 1**"
   ]
  },
  {
   "cell_type": "code",
   "execution_count": 168,
   "id": "7e7b038d",
   "metadata": {
    "ExecuteTime": {
     "end_time": "2022-05-19T11:43:48.048226Z",
     "start_time": "2022-05-19T11:43:48.033239Z"
    },
    "scrolled": true
   },
   "outputs": [
    {
     "data": {
      "text/html": [
       "<div>\n",
       "<style scoped>\n",
       "    .dataframe tbody tr th:only-of-type {\n",
       "        vertical-align: middle;\n",
       "    }\n",
       "\n",
       "    .dataframe tbody tr th {\n",
       "        vertical-align: top;\n",
       "    }\n",
       "\n",
       "    .dataframe thead th {\n",
       "        text-align: right;\n",
       "    }\n",
       "</style>\n",
       "<table border=\"1\" class=\"dataframe\">\n",
       "  <thead>\n",
       "    <tr style=\"text-align: right;\">\n",
       "      <th></th>\n",
       "      <th>col1</th>\n",
       "      <th>col2</th>\n",
       "      <th>col3</th>\n",
       "    </tr>\n",
       "  </thead>\n",
       "  <tbody>\n",
       "    <tr>\n",
       "      <th>0</th>\n",
       "      <td>A</td>\n",
       "      <td>2</td>\n",
       "      <td>0</td>\n",
       "    </tr>\n",
       "    <tr>\n",
       "      <th>1</th>\n",
       "      <td>A</td>\n",
       "      <td>1</td>\n",
       "      <td>1</td>\n",
       "    </tr>\n",
       "    <tr>\n",
       "      <th>2</th>\n",
       "      <td>B</td>\n",
       "      <td>9</td>\n",
       "      <td>9</td>\n",
       "    </tr>\n",
       "    <tr>\n",
       "      <th>5</th>\n",
       "      <td>C</td>\n",
       "      <td>4</td>\n",
       "      <td>3</td>\n",
       "    </tr>\n",
       "    <tr>\n",
       "      <th>4</th>\n",
       "      <td>D</td>\n",
       "      <td>7</td>\n",
       "      <td>2</td>\n",
       "    </tr>\n",
       "    <tr>\n",
       "      <th>3</th>\n",
       "      <td>NaN</td>\n",
       "      <td>8</td>\n",
       "      <td>4</td>\n",
       "    </tr>\n",
       "  </tbody>\n",
       "</table>\n",
       "</div>"
      ],
      "text/plain": [
       "  col1  col2  col3\n",
       "0    A     2     0\n",
       "1    A     1     1\n",
       "2    B     9     9\n",
       "5    C     4     3\n",
       "4    D     7     2\n",
       "3  NaN     8     4"
      ]
     },
     "execution_count": 168,
     "metadata": {},
     "output_type": "execute_result"
    }
   ],
   "source": [
    "df.sort_values(by='col1')"
   ]
  },
  {
   "cell_type": "markdown",
   "id": "c70521c5",
   "metadata": {},
   "source": [
    "**Ordenação de valores pelas colunas 1 e 2**"
   ]
  },
  {
   "cell_type": "code",
   "execution_count": 169,
   "id": "a86f4da9",
   "metadata": {
    "ExecuteTime": {
     "end_time": "2022-05-19T11:46:51.816117Z",
     "start_time": "2022-05-19T11:46:51.794133Z"
    },
    "scrolled": true
   },
   "outputs": [
    {
     "data": {
      "text/html": [
       "<div>\n",
       "<style scoped>\n",
       "    .dataframe tbody tr th:only-of-type {\n",
       "        vertical-align: middle;\n",
       "    }\n",
       "\n",
       "    .dataframe tbody tr th {\n",
       "        vertical-align: top;\n",
       "    }\n",
       "\n",
       "    .dataframe thead th {\n",
       "        text-align: right;\n",
       "    }\n",
       "</style>\n",
       "<table border=\"1\" class=\"dataframe\">\n",
       "  <thead>\n",
       "    <tr style=\"text-align: right;\">\n",
       "      <th></th>\n",
       "      <th>col1</th>\n",
       "      <th>col2</th>\n",
       "      <th>col3</th>\n",
       "    </tr>\n",
       "  </thead>\n",
       "  <tbody>\n",
       "    <tr>\n",
       "      <th>1</th>\n",
       "      <td>A</td>\n",
       "      <td>1</td>\n",
       "      <td>1</td>\n",
       "    </tr>\n",
       "    <tr>\n",
       "      <th>0</th>\n",
       "      <td>A</td>\n",
       "      <td>2</td>\n",
       "      <td>0</td>\n",
       "    </tr>\n",
       "    <tr>\n",
       "      <th>2</th>\n",
       "      <td>B</td>\n",
       "      <td>9</td>\n",
       "      <td>9</td>\n",
       "    </tr>\n",
       "    <tr>\n",
       "      <th>5</th>\n",
       "      <td>C</td>\n",
       "      <td>4</td>\n",
       "      <td>3</td>\n",
       "    </tr>\n",
       "    <tr>\n",
       "      <th>4</th>\n",
       "      <td>D</td>\n",
       "      <td>7</td>\n",
       "      <td>2</td>\n",
       "    </tr>\n",
       "    <tr>\n",
       "      <th>3</th>\n",
       "      <td>NaN</td>\n",
       "      <td>8</td>\n",
       "      <td>4</td>\n",
       "    </tr>\n",
       "  </tbody>\n",
       "</table>\n",
       "</div>"
      ],
      "text/plain": [
       "  col1  col2  col3\n",
       "1    A     1     1\n",
       "0    A     2     0\n",
       "2    B     9     9\n",
       "5    C     4     3\n",
       "4    D     7     2\n",
       "3  NaN     8     4"
      ]
     },
     "execution_count": 169,
     "metadata": {},
     "output_type": "execute_result"
    }
   ],
   "source": [
    "df.sort_values(by=['col1', 'col2'])"
   ]
  },
  {
   "cell_type": "markdown",
   "id": "619c6ff0",
   "metadata": {},
   "source": [
    "**Ordenação de valores pelas colunas 1 e 2 de forma decrescente**"
   ]
  },
  {
   "cell_type": "code",
   "execution_count": 170,
   "id": "d6c02823",
   "metadata": {
    "ExecuteTime": {
     "end_time": "2022-05-19T11:49:18.699329Z",
     "start_time": "2022-05-19T11:49:18.550420Z"
    }
   },
   "outputs": [
    {
     "data": {
      "text/html": [
       "<div>\n",
       "<style scoped>\n",
       "    .dataframe tbody tr th:only-of-type {\n",
       "        vertical-align: middle;\n",
       "    }\n",
       "\n",
       "    .dataframe tbody tr th {\n",
       "        vertical-align: top;\n",
       "    }\n",
       "\n",
       "    .dataframe thead th {\n",
       "        text-align: right;\n",
       "    }\n",
       "</style>\n",
       "<table border=\"1\" class=\"dataframe\">\n",
       "  <thead>\n",
       "    <tr style=\"text-align: right;\">\n",
       "      <th></th>\n",
       "      <th>col1</th>\n",
       "      <th>col2</th>\n",
       "      <th>col3</th>\n",
       "    </tr>\n",
       "  </thead>\n",
       "  <tbody>\n",
       "    <tr>\n",
       "      <th>4</th>\n",
       "      <td>D</td>\n",
       "      <td>7</td>\n",
       "      <td>2</td>\n",
       "    </tr>\n",
       "    <tr>\n",
       "      <th>5</th>\n",
       "      <td>C</td>\n",
       "      <td>4</td>\n",
       "      <td>3</td>\n",
       "    </tr>\n",
       "    <tr>\n",
       "      <th>2</th>\n",
       "      <td>B</td>\n",
       "      <td>9</td>\n",
       "      <td>9</td>\n",
       "    </tr>\n",
       "    <tr>\n",
       "      <th>0</th>\n",
       "      <td>A</td>\n",
       "      <td>2</td>\n",
       "      <td>0</td>\n",
       "    </tr>\n",
       "    <tr>\n",
       "      <th>1</th>\n",
       "      <td>A</td>\n",
       "      <td>1</td>\n",
       "      <td>1</td>\n",
       "    </tr>\n",
       "    <tr>\n",
       "      <th>3</th>\n",
       "      <td>NaN</td>\n",
       "      <td>8</td>\n",
       "      <td>4</td>\n",
       "    </tr>\n",
       "  </tbody>\n",
       "</table>\n",
       "</div>"
      ],
      "text/plain": [
       "  col1  col2  col3\n",
       "4    D     7     2\n",
       "5    C     4     3\n",
       "2    B     9     9\n",
       "0    A     2     0\n",
       "1    A     1     1\n",
       "3  NaN     8     4"
      ]
     },
     "execution_count": 170,
     "metadata": {},
     "output_type": "execute_result"
    }
   ],
   "source": [
    "df.sort_values(by=['col1', 'col2'], ascending= False)"
   ]
  }
 ],
 "metadata": {
  "kernelspec": {
   "display_name": "Python 3 (ipykernel)",
   "language": "python",
   "name": "python3"
  },
  "language_info": {
   "codemirror_mode": {
    "name": "ipython",
    "version": 3
   },
   "file_extension": ".py",
   "mimetype": "text/x-python",
   "name": "python",
   "nbconvert_exporter": "python",
   "pygments_lexer": "ipython3",
   "version": "3.9.12"
  },
  "varInspector": {
   "cols": {
    "lenName": 16,
    "lenType": 16,
    "lenVar": 40
   },
   "kernels_config": {
    "python": {
     "delete_cmd_postfix": "",
     "delete_cmd_prefix": "del ",
     "library": "var_list.py",
     "varRefreshCmd": "print(var_dic_list())"
    },
    "r": {
     "delete_cmd_postfix": ") ",
     "delete_cmd_prefix": "rm(",
     "library": "var_list.r",
     "varRefreshCmd": "cat(var_dic_list()) "
    }
   },
   "types_to_exclude": [
    "module",
    "function",
    "builtin_function_or_method",
    "instance",
    "_Feature"
   ],
   "window_display": false
  }
 },
 "nbformat": 4,
 "nbformat_minor": 5
}
