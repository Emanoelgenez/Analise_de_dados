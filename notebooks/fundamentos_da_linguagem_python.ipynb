{
 "cells": [
  {
   "cell_type": "markdown",
   "id": "4b15d2fc",
   "metadata": {},
   "source": [
    "<h1>\n",
    "   <font color = \"grey\">Fundamentos da linguagem Python</font>\n",
    "</h1>"
   ]
  },
  {
   "cell_type": "markdown",
   "id": "dc976fe6",
   "metadata": {
    "heading_collapsed": true
   },
   "source": [
    "# MÓDULO 1"
   ]
  },
  {
   "cell_type": "markdown",
   "id": "e0a62a4d",
   "metadata": {
    "heading_collapsed": true,
    "hidden": true
   },
   "source": [
    "## 1.1. Operadores matemáticos"
   ]
  },
  {
   "cell_type": "code",
   "execution_count": 39,
   "id": "db5f029d",
   "metadata": {
    "hidden": true
   },
   "outputs": [
    {
     "data": {
      "text/plain": [
       "12"
      ]
     },
     "execution_count": 39,
     "metadata": {},
     "output_type": "execute_result"
    }
   ],
   "source": [
    "# adição \n",
    "\n",
    "5 + 7"
   ]
  },
  {
   "cell_type": "code",
   "execution_count": 40,
   "id": "086754d5",
   "metadata": {
    "hidden": true
   },
   "outputs": [
    {
     "data": {
      "text/plain": [
       "12"
      ]
     },
     "execution_count": 40,
     "metadata": {},
     "output_type": "execute_result"
    }
   ],
   "source": [
    "# subtração \n",
    "\n",
    "21 - 9"
   ]
  },
  {
   "cell_type": "code",
   "execution_count": 41,
   "id": "73ad00a4",
   "metadata": {
    "hidden": true
   },
   "outputs": [
    {
     "data": {
      "text/plain": [
       "27"
      ]
     },
     "execution_count": 41,
     "metadata": {},
     "output_type": "execute_result"
    }
   ],
   "source": [
    "# multiplicação \n",
    "\n",
    "3 * 9"
   ]
  },
  {
   "cell_type": "code",
   "execution_count": 42,
   "id": "7edf81d3",
   "metadata": {
    "hidden": true
   },
   "outputs": [
    {
     "data": {
      "text/plain": [
       "19.666666666666668"
      ]
     },
     "execution_count": 42,
     "metadata": {},
     "output_type": "execute_result"
    }
   ],
   "source": [
    "# divisão\n",
    "\n",
    "59 / 3"
   ]
  },
  {
   "cell_type": "markdown",
   "id": "ccae3f61",
   "metadata": {
    "hidden": true
   },
   "source": [
    "### 1.1.1. Operação com variáveis"
   ]
  },
  {
   "cell_type": "code",
   "execution_count": 43,
   "id": "a4163fb5",
   "metadata": {
    "hidden": true
   },
   "outputs": [],
   "source": [
    "a = 39"
   ]
  },
  {
   "cell_type": "code",
   "execution_count": 44,
   "id": "1fa667db",
   "metadata": {
    "hidden": true,
    "scrolled": true
   },
   "outputs": [],
   "source": [
    "b = a + 1"
   ]
  },
  {
   "cell_type": "code",
   "execution_count": 45,
   "id": "8a48dfe1",
   "metadata": {
    "hidden": true
   },
   "outputs": [
    {
     "data": {
      "text/plain": [
       "40"
      ]
     },
     "execution_count": 45,
     "metadata": {},
     "output_type": "execute_result"
    }
   ],
   "source": [
    "b"
   ]
  },
  {
   "cell_type": "code",
   "execution_count": 46,
   "id": "068ca6e0",
   "metadata": {
    "hidden": true
   },
   "outputs": [
    {
     "data": {
      "text/plain": [
       "80"
      ]
     },
     "execution_count": 46,
     "metadata": {},
     "output_type": "execute_result"
    }
   ],
   "source": [
    "b * 2"
   ]
  },
  {
   "cell_type": "markdown",
   "id": "03ed7a7e",
   "metadata": {
    "hidden": true
   },
   "source": [
    "**Aquecimento operadores matemáticos**"
   ]
  },
  {
   "cell_type": "code",
   "execution_count": 47,
   "id": "2cc48ee6",
   "metadata": {
    "hidden": true
   },
   "outputs": [],
   "source": [
    "# compras \n",
    "\n",
    "\n",
    "arroz = 10\n",
    "leite = 11.50\n",
    "carne = 30.80\n",
    "sabonete = 9.56\n",
    "alvejante = 19.58"
   ]
  },
  {
   "cell_type": "code",
   "execution_count": 48,
   "id": "b849174d",
   "metadata": {
    "hidden": true
   },
   "outputs": [],
   "source": [
    "resultado = arroz + leite + carne + sabonete + alvejante "
   ]
  },
  {
   "cell_type": "code",
   "execution_count": 49,
   "id": "2c0582cd",
   "metadata": {
    "hidden": true
   },
   "outputs": [
    {
     "data": {
      "text/plain": [
       "81.44"
      ]
     },
     "execution_count": 49,
     "metadata": {},
     "output_type": "execute_result"
    }
   ],
   "source": [
    "resultado"
   ]
  },
  {
   "cell_type": "code",
   "execution_count": 50,
   "id": "2ed10c8b",
   "metadata": {
    "hidden": true
   },
   "outputs": [
    {
     "name": "stdout",
     "output_type": "stream",
     "text": [
      "O valor total das compras é: R$ 81.44\n"
     ]
    }
   ],
   "source": [
    "print('O valor total das compras é: R$', resultado)"
   ]
  },
  {
   "cell_type": "code",
   "execution_count": 51,
   "id": "d6934e22",
   "metadata": {
    "hidden": true
   },
   "outputs": [
    {
     "data": {
      "text/plain": [
       "4"
      ]
     },
     "execution_count": 51,
     "metadata": {},
     "output_type": "execute_result"
    }
   ],
   "source": [
    "# potenciação \n",
    "\n",
    "2 ** 2"
   ]
  },
  {
   "cell_type": "code",
   "execution_count": 52,
   "id": "45175d16",
   "metadata": {
    "hidden": true
   },
   "outputs": [
    {
     "data": {
      "text/plain": [
       "3"
      ]
     },
     "execution_count": 52,
     "metadata": {},
     "output_type": "execute_result"
    }
   ],
   "source": [
    "# módulo ou resto da divisão \n",
    "\n",
    "10 % 7"
   ]
  },
  {
   "cell_type": "markdown",
   "id": "897ad1f6",
   "metadata": {
    "heading_collapsed": true,
    "hidden": true
   },
   "source": [
    "## 1.2. Operadores relacionais"
   ]
  },
  {
   "cell_type": "code",
   "execution_count": 53,
   "id": "a8a27945",
   "metadata": {
    "hidden": true
   },
   "outputs": [
    {
     "data": {
      "text/plain": [
       "False"
      ]
     },
     "execution_count": 53,
     "metadata": {},
     "output_type": "execute_result"
    }
   ],
   "source": [
    "# igualdade\n",
    "\n",
    "700 == 90"
   ]
  },
  {
   "cell_type": "code",
   "execution_count": 54,
   "id": "80c60896",
   "metadata": {
    "hidden": true
   },
   "outputs": [
    {
     "data": {
      "text/plain": [
       "True"
      ]
     },
     "execution_count": 54,
     "metadata": {},
     "output_type": "execute_result"
    }
   ],
   "source": [
    "100 == 100"
   ]
  },
  {
   "cell_type": "code",
   "execution_count": 55,
   "id": "305e00c2",
   "metadata": {
    "hidden": true
   },
   "outputs": [
    {
     "data": {
      "text/plain": [
       "True"
      ]
     },
     "execution_count": 55,
     "metadata": {},
     "output_type": "execute_result"
    }
   ],
   "source": [
    "80.0 == 80"
   ]
  },
  {
   "cell_type": "code",
   "execution_count": 56,
   "id": "a7fb955f",
   "metadata": {
    "hidden": true
   },
   "outputs": [
    {
     "data": {
      "text/plain": [
       "True"
      ]
     },
     "execution_count": 56,
     "metadata": {},
     "output_type": "execute_result"
    }
   ],
   "source": [
    "# desigualdade \n",
    "\n",
    "3 != 7"
   ]
  },
  {
   "cell_type": "code",
   "execution_count": 57,
   "id": "ca33c454",
   "metadata": {
    "hidden": true
   },
   "outputs": [
    {
     "data": {
      "text/plain": [
       "False"
      ]
     },
     "execution_count": 57,
     "metadata": {},
     "output_type": "execute_result"
    }
   ],
   "source": [
    "3 != 3"
   ]
  },
  {
   "cell_type": "code",
   "execution_count": 58,
   "id": "eceb6cf1",
   "metadata": {
    "hidden": true
   },
   "outputs": [
    {
     "data": {
      "text/plain": [
       "True"
      ]
     },
     "execution_count": 58,
     "metadata": {},
     "output_type": "execute_result"
    }
   ],
   "source": [
    "# maior que \n",
    "\n",
    "500 > 90"
   ]
  },
  {
   "cell_type": "code",
   "execution_count": 59,
   "id": "abf0b349",
   "metadata": {
    "hidden": true
   },
   "outputs": [
    {
     "data": {
      "text/plain": [
       "False"
      ]
     },
     "execution_count": 59,
     "metadata": {},
     "output_type": "execute_result"
    }
   ],
   "source": [
    "90 > 500"
   ]
  },
  {
   "cell_type": "code",
   "execution_count": 60,
   "id": "4704e0ff",
   "metadata": {
    "hidden": true
   },
   "outputs": [
    {
     "data": {
      "text/plain": [
       "False"
      ]
     },
     "execution_count": 60,
     "metadata": {},
     "output_type": "execute_result"
    }
   ],
   "source": [
    "# menor que \n",
    "\n",
    "500 < 90"
   ]
  },
  {
   "cell_type": "code",
   "execution_count": 61,
   "id": "49e66d6c",
   "metadata": {
    "hidden": true
   },
   "outputs": [
    {
     "data": {
      "text/plain": [
       "True"
      ]
     },
     "execution_count": 61,
     "metadata": {},
     "output_type": "execute_result"
    }
   ],
   "source": [
    "90 < 500"
   ]
  },
  {
   "cell_type": "code",
   "execution_count": 62,
   "id": "235c6773",
   "metadata": {
    "hidden": true
   },
   "outputs": [
    {
     "data": {
      "text/plain": [
       "True"
      ]
     },
     "execution_count": 62,
     "metadata": {},
     "output_type": "execute_result"
    }
   ],
   "source": [
    "# maior ou igual \n",
    "\n",
    "8 >= 8"
   ]
  },
  {
   "cell_type": "code",
   "execution_count": 63,
   "id": "84314f33",
   "metadata": {
    "hidden": true
   },
   "outputs": [
    {
     "data": {
      "text/plain": [
       "False"
      ]
     },
     "execution_count": 63,
     "metadata": {},
     "output_type": "execute_result"
    }
   ],
   "source": [
    "5 >= 10"
   ]
  },
  {
   "cell_type": "markdown",
   "id": "fb1ebd4f",
   "metadata": {
    "heading_collapsed": true,
    "hidden": true
   },
   "source": [
    "## 1.3. Operadores lógicos"
   ]
  },
  {
   "cell_type": "markdown",
   "id": "d10cd288",
   "metadata": {
    "hidden": true
   },
   "source": [
    "**and** = e\n",
    "\n",
    "**or** = ou \n",
    "\n",
    "**not** = não"
   ]
  },
  {
   "cell_type": "markdown",
   "id": "87f0b209",
   "metadata": {
    "hidden": true
   },
   "source": [
    "**and** = se todas as alternativas forem verdadeiras\n",
    "\n",
    "**or** = se pelo menos uma das alternativas forem verdadeiras\n",
    "\n",
    "**not** = se for verdadeira será falso"
   ]
  },
  {
   "cell_type": "markdown",
   "id": "5a4f00fe",
   "metadata": {
    "hidden": true
   },
   "source": [
    "**1.Para estudar em uma universidade, o aluno deve:**\n",
    "\n",
    "\n",
    "Ter passado no vestibular\n",
    "\n",
    "e\n",
    "\n",
    "Estar com toda documentação necessária\n",
    "\n",
    "e \n",
    "\n",
    "Estar matriculado "
   ]
  },
  {
   "cell_type": "code",
   "execution_count": 64,
   "id": "aa9cd843",
   "metadata": {
    "hidden": true
   },
   "outputs": [
    {
     "data": {
      "text/plain": [
       "True"
      ]
     },
     "execution_count": 64,
     "metadata": {},
     "output_type": "execute_result"
    }
   ],
   "source": [
    "50 > 40 and 50 > 49"
   ]
  },
  {
   "cell_type": "markdown",
   "id": "b5d28ea0",
   "metadata": {
    "hidden": true
   },
   "source": [
    "**2. Para obter flexibilidade no período de provas, o aluno deve:**\n",
    "\n",
    "Ser militar e estar de serviço\n",
    "\n",
    "ou \n",
    "\n",
    "Estar de licença maternidade\n",
    "\n",
    "ou \n",
    "\n",
    "Estar de atestado médico "
   ]
  },
  {
   "cell_type": "code",
   "execution_count": 65,
   "id": "bfd93664",
   "metadata": {
    "hidden": true
   },
   "outputs": [
    {
     "data": {
      "text/plain": [
       "True"
      ]
     },
     "execution_count": 65,
     "metadata": {},
     "output_type": "execute_result"
    }
   ],
   "source": [
    "80 > 3 or 15 > 20"
   ]
  },
  {
   "cell_type": "markdown",
   "id": "25a3d5d2",
   "metadata": {
    "heading_collapsed": true,
    "hidden": true
   },
   "source": [
    "## 1.4. Laços de repetiçoes for"
   ]
  },
  {
   "cell_type": "code",
   "execution_count": 66,
   "id": "3fec42f4",
   "metadata": {
    "hidden": true,
    "scrolled": true
   },
   "outputs": [
    {
     "name": "stdout",
     "output_type": "stream",
     "text": [
      "0\n",
      "3\n",
      "6\n",
      "9\n",
      "12\n",
      "15\n",
      "18\n"
     ]
    }
   ],
   "source": [
    "for i in range (0, 20, 3):\n",
    "    print(i)"
   ]
  },
  {
   "cell_type": "markdown",
   "id": "f69f5152",
   "metadata": {
    "hidden": true
   },
   "source": [
    "Essa função cria um loop de um range(sequencia numerica) \n",
    "\n",
    "for é função (i) é a variável in conecta ao range ( inicio da sequncia, fim da sequencia, intervalos) "
   ]
  },
  {
   "cell_type": "code",
   "execution_count": 67,
   "id": "74770f50",
   "metadata": {
    "hidden": true
   },
   "outputs": [],
   "source": [
    "lista = [3, 8, 44, 100]"
   ]
  },
  {
   "cell_type": "code",
   "execution_count": 68,
   "id": "7e2a4ec6",
   "metadata": {
    "hidden": true
   },
   "outputs": [
    {
     "name": "stdout",
     "output_type": "stream",
     "text": [
      "3\n",
      "8\n",
      "44\n",
      "100\n"
     ]
    }
   ],
   "source": [
    "for x in lista:\n",
    "    print(x)"
   ]
  },
  {
   "cell_type": "code",
   "execution_count": 69,
   "id": "977d6939",
   "metadata": {
    "hidden": true
   },
   "outputs": [],
   "source": [
    "lista2 = [3, 8, 44, 100]"
   ]
  },
  {
   "cell_type": "code",
   "execution_count": 70,
   "id": "3c00918a",
   "metadata": {
    "hidden": true
   },
   "outputs": [
    {
     "name": "stdout",
     "output_type": "stream",
     "text": [
      "8\n",
      "44\n",
      "100\n"
     ]
    }
   ],
   "source": [
    "for i in lista2:\n",
    "    \n",
    "    if i % 2 == 0:\n",
    "     print(i)"
   ]
  },
  {
   "cell_type": "code",
   "execution_count": 71,
   "id": "c02b0aa9",
   "metadata": {
    "hidden": true
   },
   "outputs": [],
   "source": [
    "lista3 = [ [1,2,3], [2,3,5], [7,8,5,4,3,2] ]"
   ]
  },
  {
   "cell_type": "code",
   "execution_count": 72,
   "id": "b0ac09fa",
   "metadata": {
    "hidden": true
   },
   "outputs": [
    {
     "name": "stdout",
     "output_type": "stream",
     "text": [
      "[1, 2, 3]\n",
      "[2, 3, 5]\n",
      "[7, 8, 5, 4, 3, 2]\n"
     ]
    }
   ],
   "source": [
    "for ii in lista3:\n",
    "    print(ii)"
   ]
  },
  {
   "cell_type": "code",
   "execution_count": 73,
   "id": "a0c9c5a5",
   "metadata": {
    "hidden": true
   },
   "outputs": [],
   "source": [
    "di = {'d1': 10,'d2': 20,'d3': 30,'d4': 40,'d5': 50, };\n",
    "\n",
    "d2 = {'d2': 10,'d2': 20,'d2': 30,'d2': 40,'d2': 50};    "
   ]
  },
  {
   "cell_type": "code",
   "execution_count": 74,
   "id": "04ed3a81",
   "metadata": {
    "hidden": true
   },
   "outputs": [
    {
     "data": {
      "text/plain": [
       "{'d1': 10, 'd2': 20, 'd3': 30, 'd4': 40, 'd5': 50}"
      ]
     },
     "execution_count": 74,
     "metadata": {},
     "output_type": "execute_result"
    }
   ],
   "source": [
    "di"
   ]
  },
  {
   "cell_type": "code",
   "execution_count": 75,
   "id": "4d8d1df3",
   "metadata": {
    "hidden": true,
    "scrolled": true
   },
   "outputs": [
    {
     "name": "stdout",
     "output_type": "stream",
     "text": [
      "d1\n",
      "d2\n",
      "d3\n",
      "d4\n",
      "d5\n"
     ]
    }
   ],
   "source": [
    "for i in di:\n",
    "    print(i)"
   ]
  },
  {
   "cell_type": "code",
   "execution_count": 76,
   "id": "08be1eaa",
   "metadata": {
    "hidden": true
   },
   "outputs": [
    {
     "data": {
      "text/plain": [
       "dict_items([('d1', 10), ('d2', 20), ('d3', 30), ('d4', 40), ('d5', 50)])"
      ]
     },
     "execution_count": 76,
     "metadata": {},
     "output_type": "execute_result"
    }
   ],
   "source": [
    "di.items()"
   ]
  },
  {
   "cell_type": "code",
   "execution_count": 77,
   "id": "6f26d53d",
   "metadata": {
    "hidden": true
   },
   "outputs": [
    {
     "name": "stdout",
     "output_type": "stream",
     "text": [
      "d1 10\n",
      "d2 20\n",
      "d3 30\n",
      "d4 40\n",
      "d5 50\n"
     ]
    }
   ],
   "source": [
    "for c, v, in di.items():\n",
    "    print( c, v)"
   ]
  },
  {
   "cell_type": "code",
   "execution_count": null,
   "id": "7de2e5db",
   "metadata": {
    "hidden": true
   },
   "outputs": [],
   "source": []
  },
  {
   "cell_type": "markdown",
   "id": "0ae554d2",
   "metadata": {
    "heading_collapsed": true,
    "hidden": true
   },
   "source": [
    "## 1.5. Laços de repetiçoes whille(enquanto)"
   ]
  },
  {
   "cell_type": "code",
   "execution_count": 78,
   "id": "6a5352c7",
   "metadata": {
    "hidden": true,
    "scrolled": true
   },
   "outputs": [
    {
     "name": "stdout",
     "output_type": "stream",
     "text": [
      "8\n",
      "9\n",
      "10\n"
     ]
    }
   ],
   "source": [
    "k = 8\n",
    "\n",
    "while k <= 10:\n",
    "    print(k)\n",
    "    \n",
    "    k += 1"
   ]
  },
  {
   "cell_type": "markdown",
   "id": "e550ad2b",
   "metadata": {
    "hidden": true
   },
   "source": [
    "**pass, break e continue**"
   ]
  },
  {
   "cell_type": "code",
   "execution_count": 79,
   "id": "889e25b2",
   "metadata": {
    "hidden": true
   },
   "outputs": [
    {
     "name": "stdout",
     "output_type": "stream",
     "text": [
      "p\n",
      "r\n",
      "o\n",
      "g\n",
      "r\n",
      "a\n",
      "m\n",
      "a\n",
      "d\n",
      "o\n",
      "r\n"
     ]
    }
   ],
   "source": [
    "for letra in 'programador':\n",
    "    if letra == 'a':\n",
    "        pass\n",
    "    print(letra)"
   ]
  },
  {
   "cell_type": "code",
   "execution_count": 80,
   "id": "1941932b",
   "metadata": {
    "hidden": true
   },
   "outputs": [
    {
     "name": "stdout",
     "output_type": "stream",
     "text": [
      "p\n",
      "r\n",
      "o\n",
      "g\n",
      "r\n",
      "m\n",
      "d\n",
      "o\n",
      "r\n"
     ]
    }
   ],
   "source": [
    "for letra in 'programador':\n",
    "    if letra == 'a':\n",
    "        continue\n",
    "    print(letra)"
   ]
  },
  {
   "cell_type": "code",
   "execution_count": 81,
   "id": "edf87000",
   "metadata": {
    "hidden": true,
    "scrolled": true
   },
   "outputs": [
    {
     "name": "stdout",
     "output_type": "stream",
     "text": [
      "p\n",
      "r\n",
      "o\n",
      "g\n",
      "r\n"
     ]
    }
   ],
   "source": [
    "for letra in 'programador':\n",
    "    if letra == 'a':\n",
    "        break\n",
    "    print(letra)"
   ]
  },
  {
   "cell_type": "markdown",
   "id": "1bda9cf9",
   "metadata": {
    "hidden": true
   },
   "source": [
    "## 1.6. Funções"
   ]
  },
  {
   "cell_type": "code",
   "execution_count": 82,
   "id": "72e597fd",
   "metadata": {
    "hidden": true
   },
   "outputs": [],
   "source": [
    " def print_text():\n",
    "    print('Aqui é um texto qaulquer')"
   ]
  },
  {
   "cell_type": "code",
   "execution_count": 83,
   "id": "691a08e8",
   "metadata": {
    "hidden": true
   },
   "outputs": [
    {
     "name": "stdout",
     "output_type": "stream",
     "text": [
      "Aqui é um texto qaulquer\n"
     ]
    }
   ],
   "source": [
    "print_text()"
   ]
  },
  {
   "cell_type": "code",
   "execution_count": 84,
   "id": "153df271",
   "metadata": {
    "hidden": true
   },
   "outputs": [],
   "source": [
    "def print_isto(x):\n",
    "    print(x)"
   ]
  },
  {
   "cell_type": "code",
   "execution_count": 85,
   "id": "bc08ac58",
   "metadata": {
    "hidden": true
   },
   "outputs": [
    {
     "name": "stdout",
     "output_type": "stream",
     "text": [
      "7958\n"
     ]
    }
   ],
   "source": [
    "print_isto(7958)"
   ]
  },
  {
   "cell_type": "code",
   "execution_count": 86,
   "id": "09fe70b4",
   "metadata": {
    "hidden": true
   },
   "outputs": [],
   "source": [
    "def potencia(x):\n",
    "    p = x ** 2\n",
    "    return p"
   ]
  },
  {
   "cell_type": "code",
   "execution_count": 87,
   "id": "b165f8ce",
   "metadata": {
    "hidden": true
   },
   "outputs": [
    {
     "data": {
      "text/plain": [
       "16"
      ]
     },
     "execution_count": 87,
     "metadata": {},
     "output_type": "execute_result"
    }
   ],
   "source": [
    "potencia(4)"
   ]
  },
  {
   "cell_type": "code",
   "execution_count": 88,
   "id": "d56ac161",
   "metadata": {
    "hidden": true
   },
   "outputs": [],
   "source": [
    "def sub(x):\n",
    "    r = x + 4\n",
    "    return r"
   ]
  },
  {
   "cell_type": "code",
   "execution_count": 89,
   "id": "c3251bc3",
   "metadata": {
    "hidden": true,
    "scrolled": true
   },
   "outputs": [
    {
     "data": {
      "text/plain": [
       "1004"
      ]
     },
     "execution_count": 89,
     "metadata": {},
     "output_type": "execute_result"
    }
   ],
   "source": [
    "sub (1000)"
   ]
  },
  {
   "cell_type": "code",
   "execution_count": 90,
   "id": "2e930be4",
   "metadata": {
    "hidden": true
   },
   "outputs": [],
   "source": [
    "def potencia_n(x, n = 2 ):\n",
    "    p = x ** n\n",
    "    return p"
   ]
  },
  {
   "cell_type": "code",
   "execution_count": 91,
   "id": "34b78b69",
   "metadata": {
    "hidden": true
   },
   "outputs": [
    {
     "data": {
      "text/plain": [
       "25"
      ]
     },
     "execution_count": 91,
     "metadata": {},
     "output_type": "execute_result"
    }
   ],
   "source": [
    "potencia_n(5)"
   ]
  },
  {
   "cell_type": "code",
   "execution_count": 92,
   "id": "7e04ccea",
   "metadata": {
    "hidden": true,
    "scrolled": true
   },
   "outputs": [
    {
     "data": {
      "text/plain": [
       "125"
      ]
     },
     "execution_count": 92,
     "metadata": {},
     "output_type": "execute_result"
    }
   ],
   "source": [
    "potencia_n(5, 3)"
   ]
  },
  {
   "cell_type": "markdown",
   "id": "008a9cf4",
   "metadata": {},
   "source": [
    "# MÓDULO 2"
   ]
  },
  {
   "cell_type": "markdown",
   "id": "7a4257ad",
   "metadata": {
    "heading_collapsed": true
   },
   "source": [
    "## 2.1. Dataframes"
   ]
  },
  {
   "cell_type": "code",
   "execution_count": 93,
   "id": "2b252f97",
   "metadata": {
    "hidden": true
   },
   "outputs": [],
   "source": [
    "import pandas as pd\n",
    "import numpy as np"
   ]
  },
  {
   "cell_type": "code",
   "execution_count": 94,
   "id": "153860d1",
   "metadata": {
    "hidden": true
   },
   "outputs": [],
   "source": [
    "series = pd.Series([7, 4, 2, np.nan, 6, 9 ])"
   ]
  },
  {
   "cell_type": "code",
   "execution_count": 95,
   "id": "6c6d45b9",
   "metadata": {
    "hidden": true
   },
   "outputs": [
    {
     "data": {
      "text/plain": [
       "0    7.0\n",
       "1    4.0\n",
       "2    2.0\n",
       "3    NaN\n",
       "4    6.0\n",
       "5    9.0\n",
       "dtype: float64"
      ]
     },
     "execution_count": 95,
     "metadata": {},
     "output_type": "execute_result"
    }
   ],
   "source": [
    "series"
   ]
  },
  {
   "cell_type": "code",
   "execution_count": 96,
   "id": "e6454771",
   "metadata": {
    "hidden": true
   },
   "outputs": [
    {
     "data": {
      "text/plain": [
       "pandas.core.series.Series"
      ]
     },
     "execution_count": 96,
     "metadata": {},
     "output_type": "execute_result"
    }
   ],
   "source": [
    "type(series)"
   ]
  },
  {
   "cell_type": "code",
   "execution_count": 97,
   "id": "11009877",
   "metadata": {
    "hidden": true
   },
   "outputs": [],
   "source": [
    "datas = pd.date_range('20220101', periods = 6 )"
   ]
  },
  {
   "cell_type": "code",
   "execution_count": 98,
   "id": "746f19e6",
   "metadata": {
    "hidden": true
   },
   "outputs": [
    {
     "data": {
      "text/plain": [
       "DatetimeIndex(['2022-01-01', '2022-01-02', '2022-01-03', '2022-01-04',\n",
       "               '2022-01-05', '2022-01-06'],\n",
       "              dtype='datetime64[ns]', freq='D')"
      ]
     },
     "execution_count": 98,
     "metadata": {},
     "output_type": "execute_result"
    }
   ],
   "source": [
    "datas"
   ]
  },
  {
   "cell_type": "code",
   "execution_count": 99,
   "id": "b6f98800",
   "metadata": {
    "hidden": true
   },
   "outputs": [
    {
     "data": {
      "text/plain": [
       "pandas.core.indexes.datetimes.DatetimeIndex"
      ]
     },
     "execution_count": 99,
     "metadata": {},
     "output_type": "execute_result"
    }
   ],
   "source": [
    "type(datas)"
   ]
  },
  {
   "cell_type": "code",
   "execution_count": 100,
   "id": "e97f7aca",
   "metadata": {
    "hidden": true
   },
   "outputs": [],
   "source": [
    "df = pd.DataFrame(np.random.randn(6,4), index= datas, columns = list('ABCD'))"
   ]
  },
  {
   "cell_type": "code",
   "execution_count": 101,
   "id": "4a53a4f5",
   "metadata": {
    "hidden": true
   },
   "outputs": [
    {
     "data": {
      "text/html": [
       "<div>\n",
       "<style scoped>\n",
       "    .dataframe tbody tr th:only-of-type {\n",
       "        vertical-align: middle;\n",
       "    }\n",
       "\n",
       "    .dataframe tbody tr th {\n",
       "        vertical-align: top;\n",
       "    }\n",
       "\n",
       "    .dataframe thead th {\n",
       "        text-align: right;\n",
       "    }\n",
       "</style>\n",
       "<table border=\"1\" class=\"dataframe\">\n",
       "  <thead>\n",
       "    <tr style=\"text-align: right;\">\n",
       "      <th></th>\n",
       "      <th>A</th>\n",
       "      <th>B</th>\n",
       "      <th>C</th>\n",
       "      <th>D</th>\n",
       "    </tr>\n",
       "  </thead>\n",
       "  <tbody>\n",
       "    <tr>\n",
       "      <th>2022-01-01</th>\n",
       "      <td>-0.370136</td>\n",
       "      <td>-1.215329</td>\n",
       "      <td>0.379889</td>\n",
       "      <td>1.431185</td>\n",
       "    </tr>\n",
       "    <tr>\n",
       "      <th>2022-01-02</th>\n",
       "      <td>0.099705</td>\n",
       "      <td>1.705543</td>\n",
       "      <td>1.146245</td>\n",
       "      <td>1.403920</td>\n",
       "    </tr>\n",
       "    <tr>\n",
       "      <th>2022-01-03</th>\n",
       "      <td>0.897916</td>\n",
       "      <td>0.342919</td>\n",
       "      <td>-0.669462</td>\n",
       "      <td>0.828891</td>\n",
       "    </tr>\n",
       "    <tr>\n",
       "      <th>2022-01-04</th>\n",
       "      <td>-0.442001</td>\n",
       "      <td>-0.668094</td>\n",
       "      <td>1.165814</td>\n",
       "      <td>0.062994</td>\n",
       "    </tr>\n",
       "    <tr>\n",
       "      <th>2022-01-05</th>\n",
       "      <td>-0.037098</td>\n",
       "      <td>0.484880</td>\n",
       "      <td>0.020509</td>\n",
       "      <td>-0.189240</td>\n",
       "    </tr>\n",
       "    <tr>\n",
       "      <th>2022-01-06</th>\n",
       "      <td>-0.454273</td>\n",
       "      <td>-0.124775</td>\n",
       "      <td>-0.731120</td>\n",
       "      <td>-0.775052</td>\n",
       "    </tr>\n",
       "  </tbody>\n",
       "</table>\n",
       "</div>"
      ],
      "text/plain": [
       "                   A         B         C         D\n",
       "2022-01-01 -0.370136 -1.215329  0.379889  1.431185\n",
       "2022-01-02  0.099705  1.705543  1.146245  1.403920\n",
       "2022-01-03  0.897916  0.342919 -0.669462  0.828891\n",
       "2022-01-04 -0.442001 -0.668094  1.165814  0.062994\n",
       "2022-01-05 -0.037098  0.484880  0.020509 -0.189240\n",
       "2022-01-06 -0.454273 -0.124775 -0.731120 -0.775052"
      ]
     },
     "execution_count": 101,
     "metadata": {},
     "output_type": "execute_result"
    }
   ],
   "source": [
    "df"
   ]
  },
  {
   "cell_type": "code",
   "execution_count": 102,
   "id": "2b9cfbf3",
   "metadata": {
    "hidden": true
   },
   "outputs": [],
   "source": [
    "df2 = pd.DataFrame({'A': 7,\n",
    "                    'B': pd.Timestamp('20220101'),\n",
    "                    'C': pd.Series(1, index=list(range(4)), dtype = 'float32'),\n",
    "                    'D': np.array([3] * 4, dtype = 'int32'), \n",
    "                    'E': pd.Categorical(['test', 'train', 'test', 'train']),\n",
    "                    'F': 'Python'})"
   ]
  },
  {
   "cell_type": "code",
   "execution_count": 103,
   "id": "a0067612",
   "metadata": {
    "hidden": true
   },
   "outputs": [
    {
     "data": {
      "text/html": [
       "<div>\n",
       "<style scoped>\n",
       "    .dataframe tbody tr th:only-of-type {\n",
       "        vertical-align: middle;\n",
       "    }\n",
       "\n",
       "    .dataframe tbody tr th {\n",
       "        vertical-align: top;\n",
       "    }\n",
       "\n",
       "    .dataframe thead th {\n",
       "        text-align: right;\n",
       "    }\n",
       "</style>\n",
       "<table border=\"1\" class=\"dataframe\">\n",
       "  <thead>\n",
       "    <tr style=\"text-align: right;\">\n",
       "      <th></th>\n",
       "      <th>A</th>\n",
       "      <th>B</th>\n",
       "      <th>C</th>\n",
       "      <th>D</th>\n",
       "      <th>E</th>\n",
       "      <th>F</th>\n",
       "    </tr>\n",
       "  </thead>\n",
       "  <tbody>\n",
       "    <tr>\n",
       "      <th>0</th>\n",
       "      <td>7</td>\n",
       "      <td>2022-01-01</td>\n",
       "      <td>1.0</td>\n",
       "      <td>3</td>\n",
       "      <td>test</td>\n",
       "      <td>Python</td>\n",
       "    </tr>\n",
       "    <tr>\n",
       "      <th>1</th>\n",
       "      <td>7</td>\n",
       "      <td>2022-01-01</td>\n",
       "      <td>1.0</td>\n",
       "      <td>3</td>\n",
       "      <td>train</td>\n",
       "      <td>Python</td>\n",
       "    </tr>\n",
       "    <tr>\n",
       "      <th>2</th>\n",
       "      <td>7</td>\n",
       "      <td>2022-01-01</td>\n",
       "      <td>1.0</td>\n",
       "      <td>3</td>\n",
       "      <td>test</td>\n",
       "      <td>Python</td>\n",
       "    </tr>\n",
       "    <tr>\n",
       "      <th>3</th>\n",
       "      <td>7</td>\n",
       "      <td>2022-01-01</td>\n",
       "      <td>1.0</td>\n",
       "      <td>3</td>\n",
       "      <td>train</td>\n",
       "      <td>Python</td>\n",
       "    </tr>\n",
       "  </tbody>\n",
       "</table>\n",
       "</div>"
      ],
      "text/plain": [
       "   A          B    C  D      E       F\n",
       "0  7 2022-01-01  1.0  3   test  Python\n",
       "1  7 2022-01-01  1.0  3  train  Python\n",
       "2  7 2022-01-01  1.0  3   test  Python\n",
       "3  7 2022-01-01  1.0  3  train  Python"
      ]
     },
     "execution_count": 103,
     "metadata": {},
     "output_type": "execute_result"
    }
   ],
   "source": [
    "df2"
   ]
  },
  {
   "cell_type": "code",
   "execution_count": 104,
   "id": "84f8cb20",
   "metadata": {
    "hidden": true
   },
   "outputs": [
    {
     "data": {
      "text/plain": [
       "A             int64\n",
       "B    datetime64[ns]\n",
       "C           float32\n",
       "D             int32\n",
       "E          category\n",
       "F            object\n",
       "dtype: object"
      ]
     },
     "execution_count": 104,
     "metadata": {},
     "output_type": "execute_result"
    }
   ],
   "source": [
    "df2.dtypes"
   ]
  },
  {
   "cell_type": "markdown",
   "id": "80b65a37",
   "metadata": {
    "heading_collapsed": true
   },
   "source": [
    "## 2.2. Merge "
   ]
  },
  {
   "cell_type": "code",
   "execution_count": 105,
   "id": "f0389fba",
   "metadata": {
    "hidden": true,
    "scrolled": true
   },
   "outputs": [
    {
     "data": {
      "text/html": [
       "<div>\n",
       "<style scoped>\n",
       "    .dataframe tbody tr th:only-of-type {\n",
       "        vertical-align: middle;\n",
       "    }\n",
       "\n",
       "    .dataframe tbody tr th {\n",
       "        vertical-align: top;\n",
       "    }\n",
       "\n",
       "    .dataframe thead th {\n",
       "        text-align: right;\n",
       "    }\n",
       "</style>\n",
       "<table border=\"1\" class=\"dataframe\">\n",
       "  <thead>\n",
       "    <tr style=\"text-align: right;\">\n",
       "      <th></th>\n",
       "      <th>Id</th>\n",
       "      <th>Nome</th>\n",
       "      <th>Idade</th>\n",
       "      <th>CEP</th>\n",
       "    </tr>\n",
       "  </thead>\n",
       "  <tbody>\n",
       "    <tr>\n",
       "      <th>0</th>\n",
       "      <td>AA2930</td>\n",
       "      <td>Victor</td>\n",
       "      <td>20</td>\n",
       "      <td>00092-029</td>\n",
       "    </tr>\n",
       "    <tr>\n",
       "      <th>1</th>\n",
       "      <td>BB4563</td>\n",
       "      <td>Amanda</td>\n",
       "      <td>35</td>\n",
       "      <td>11111-111</td>\n",
       "    </tr>\n",
       "    <tr>\n",
       "      <th>2</th>\n",
       "      <td>CC2139</td>\n",
       "      <td>Bruna</td>\n",
       "      <td>40</td>\n",
       "      <td>22222-888</td>\n",
       "    </tr>\n",
       "    <tr>\n",
       "      <th>3</th>\n",
       "      <td>DE2521</td>\n",
       "      <td>Carlos</td>\n",
       "      <td>54</td>\n",
       "      <td>00000-999</td>\n",
       "    </tr>\n",
       "    <tr>\n",
       "      <th>4</th>\n",
       "      <td>GT3462</td>\n",
       "      <td>Ricardo</td>\n",
       "      <td>30</td>\n",
       "      <td>88888-111</td>\n",
       "    </tr>\n",
       "    <tr>\n",
       "      <th>5</th>\n",
       "      <td>HH1158</td>\n",
       "      <td>Maria</td>\n",
       "      <td>27</td>\n",
       "      <td>77777-666</td>\n",
       "    </tr>\n",
       "  </tbody>\n",
       "</table>\n",
       "</div>"
      ],
      "text/plain": [
       "       Id     Nome  Idade        CEP\n",
       "0  AA2930   Victor     20  00092-029\n",
       "1  BB4563   Amanda     35  11111-111\n",
       "2  CC2139    Bruna     40  22222-888\n",
       "3  DE2521   Carlos     54  00000-999\n",
       "4  GT3462  Ricardo     30  88888-111\n",
       "5  HH1158    Maria     27  77777-666"
      ]
     },
     "execution_count": 105,
     "metadata": {},
     "output_type": "execute_result"
    }
   ],
   "source": [
    "# Cadastro da loja a\n",
    "cadastro_a = {'Id': ['AA2930','BB4563','CC2139','DE2521','GT3462','HH1158'],\n",
    "            'Nome':  ['Victor', 'Amanda', 'Bruna', 'Carlos', 'Ricardo', 'Maria'],\n",
    "            'Idade': [20,35,40,54,30,27],\n",
    "            'CEP': ['00092-029','11111-111','22222-888','00000-999','88888-111','77777-666']\n",
    "           }\n",
    "\n",
    "cadastro_a = pd.DataFrame(cadastro_a, columns = ['Id','Nome','Idade','CEP'])\n",
    "cadastro_a"
   ]
  },
  {
   "cell_type": "code",
   "execution_count": 106,
   "id": "6fb38b65",
   "metadata": {
    "hidden": true,
    "scrolled": false
   },
   "outputs": [
    {
     "data": {
      "text/html": [
       "<div>\n",
       "<style scoped>\n",
       "    .dataframe tbody tr th:only-of-type {\n",
       "        vertical-align: middle;\n",
       "    }\n",
       "\n",
       "    .dataframe tbody tr th {\n",
       "        vertical-align: top;\n",
       "    }\n",
       "\n",
       "    .dataframe thead th {\n",
       "        text-align: right;\n",
       "    }\n",
       "</style>\n",
       "<table border=\"1\" class=\"dataframe\">\n",
       "  <thead>\n",
       "    <tr style=\"text-align: right;\">\n",
       "      <th></th>\n",
       "      <th>Id</th>\n",
       "      <th>Nome</th>\n",
       "      <th>Idade</th>\n",
       "      <th>CEP</th>\n",
       "    </tr>\n",
       "  </thead>\n",
       "  <tbody>\n",
       "    <tr>\n",
       "      <th>0</th>\n",
       "      <td>CC9999</td>\n",
       "      <td>Marcos</td>\n",
       "      <td>19</td>\n",
       "      <td>00092-029</td>\n",
       "    </tr>\n",
       "    <tr>\n",
       "      <th>1</th>\n",
       "      <td>EF4488</td>\n",
       "      <td>Patricia</td>\n",
       "      <td>30</td>\n",
       "      <td>11111-111</td>\n",
       "    </tr>\n",
       "    <tr>\n",
       "      <th>2</th>\n",
       "      <td>DD9999</td>\n",
       "      <td>Ericka</td>\n",
       "      <td>22</td>\n",
       "      <td>11111-888</td>\n",
       "    </tr>\n",
       "    <tr>\n",
       "      <th>3</th>\n",
       "      <td>GT3462</td>\n",
       "      <td>Ricardo</td>\n",
       "      <td>30</td>\n",
       "      <td>88888-111</td>\n",
       "    </tr>\n",
       "    <tr>\n",
       "      <th>4</th>\n",
       "      <td>HH1158</td>\n",
       "      <td>Maria</td>\n",
       "      <td>27</td>\n",
       "      <td>77777-666</td>\n",
       "    </tr>\n",
       "  </tbody>\n",
       "</table>\n",
       "</div>"
      ],
      "text/plain": [
       "       Id      Nome  Idade        CEP\n",
       "0  CC9999    Marcos     19  00092-029\n",
       "1  EF4488  Patricia     30  11111-111\n",
       "2  DD9999    Ericka     22  11111-888\n",
       "3  GT3462   Ricardo     30  88888-111\n",
       "4  HH1158     Maria     27  77777-666"
      ]
     },
     "execution_count": 106,
     "metadata": {},
     "output_type": "execute_result"
    }
   ],
   "source": [
    "# Cadastro da loja b\n",
    "cadastro_b = {'Id': ['CC9999','EF4488','DD9999','GT3462','HH1158'],\n",
    "            'Nome':  ['Marcos', 'Patricia', 'Ericka', 'Ricardo', 'Maria'],\n",
    "            'Idade': [19,30,22,30,27],\n",
    "            'CEP': ['00092-029','11111-111','11111-888','88888-111','77777-666']\n",
    "           }\n",
    " \n",
    "cadastro_b = pd.DataFrame(cadastro_b, columns = ['Id','Nome','Idade','CEP'])\n",
    "cadastro_b"
   ]
  },
  {
   "cell_type": "code",
   "execution_count": 107,
   "id": "ccbd6af6",
   "metadata": {
    "hidden": true,
    "scrolled": false
   },
   "outputs": [
    {
     "data": {
      "text/html": [
       "<div>\n",
       "<style scoped>\n",
       "    .dataframe tbody tr th:only-of-type {\n",
       "        vertical-align: middle;\n",
       "    }\n",
       "\n",
       "    .dataframe tbody tr th {\n",
       "        vertical-align: top;\n",
       "    }\n",
       "\n",
       "    .dataframe thead th {\n",
       "        text-align: right;\n",
       "    }\n",
       "</style>\n",
       "<table border=\"1\" class=\"dataframe\">\n",
       "  <thead>\n",
       "    <tr style=\"text-align: right;\">\n",
       "      <th></th>\n",
       "      <th>Id</th>\n",
       "      <th>Data</th>\n",
       "      <th>Valor</th>\n",
       "    </tr>\n",
       "  </thead>\n",
       "  <tbody>\n",
       "    <tr>\n",
       "      <th>0</th>\n",
       "      <td>AA2930</td>\n",
       "      <td>2019-01-01</td>\n",
       "      <td>200</td>\n",
       "    </tr>\n",
       "    <tr>\n",
       "      <th>1</th>\n",
       "      <td>EF4488</td>\n",
       "      <td>2019-01-30</td>\n",
       "      <td>100</td>\n",
       "    </tr>\n",
       "    <tr>\n",
       "      <th>2</th>\n",
       "      <td>CC2139</td>\n",
       "      <td>2019-01-30</td>\n",
       "      <td>40</td>\n",
       "    </tr>\n",
       "    <tr>\n",
       "      <th>3</th>\n",
       "      <td>EF4488</td>\n",
       "      <td>2019-02-01</td>\n",
       "      <td>150</td>\n",
       "    </tr>\n",
       "    <tr>\n",
       "      <th>4</th>\n",
       "      <td>CC9999</td>\n",
       "      <td>2019-02-20</td>\n",
       "      <td>300</td>\n",
       "    </tr>\n",
       "    <tr>\n",
       "      <th>5</th>\n",
       "      <td>AA2930</td>\n",
       "      <td>2019-03-15</td>\n",
       "      <td>25</td>\n",
       "    </tr>\n",
       "    <tr>\n",
       "      <th>6</th>\n",
       "      <td>HH1158</td>\n",
       "      <td>2019-04-01</td>\n",
       "      <td>50</td>\n",
       "    </tr>\n",
       "    <tr>\n",
       "      <th>7</th>\n",
       "      <td>HH1158</td>\n",
       "      <td>2019-04-10</td>\n",
       "      <td>500</td>\n",
       "    </tr>\n",
       "  </tbody>\n",
       "</table>\n",
       "</div>"
      ],
      "text/plain": [
       "       Id        Data  Valor\n",
       "0  AA2930  2019-01-01    200\n",
       "1  EF4488  2019-01-30    100\n",
       "2  CC2139  2019-01-30     40\n",
       "3  EF4488  2019-02-01    150\n",
       "4  CC9999  2019-02-20    300\n",
       "5  AA2930  2019-03-15     25\n",
       "6  HH1158  2019-04-01     50\n",
       "7  HH1158  2019-04-10    500"
      ]
     },
     "execution_count": 107,
     "metadata": {},
     "output_type": "execute_result"
    }
   ],
   "source": [
    "# Registro de compras de todas unidades\n",
    "compras = {'Id': ['AA2930','EF4488','CC2139','EF4488','CC9999','AA2930','HH1158','HH1158'],\n",
    "            'Data':  ['2019-01-01','2019-01-30','2019-01-30','2019-02-01','2019-02-20','2019-03-15','2019-04-01','2019-04-10'],\n",
    "            'Valor': [200,100,40,150,300,25,50,500]\n",
    "           }\n",
    " \n",
    "compras = pd.DataFrame(compras, columns = ['Id','Data','Valor'])\n",
    "\n",
    "compras"
   ]
  },
  {
   "cell_type": "markdown",
   "id": "c728a4a7",
   "metadata": {
    "hidden": true
   },
   "source": [
    "* Merge **inner join** junta a interceção entre as tabelas"
   ]
  },
  {
   "cell_type": "code",
   "execution_count": 108,
   "id": "2021de31",
   "metadata": {
    "hidden": true,
    "scrolled": true
   },
   "outputs": [
    {
     "data": {
      "text/html": [
       "<div>\n",
       "<style scoped>\n",
       "    .dataframe tbody tr th:only-of-type {\n",
       "        vertical-align: middle;\n",
       "    }\n",
       "\n",
       "    .dataframe tbody tr th {\n",
       "        vertical-align: top;\n",
       "    }\n",
       "\n",
       "    .dataframe thead th {\n",
       "        text-align: right;\n",
       "    }\n",
       "</style>\n",
       "<table border=\"1\" class=\"dataframe\">\n",
       "  <thead>\n",
       "    <tr style=\"text-align: right;\">\n",
       "      <th></th>\n",
       "      <th>Id</th>\n",
       "      <th>Nome</th>\n",
       "      <th>Idade_A</th>\n",
       "      <th>CEP_A</th>\n",
       "      <th>Idade_B</th>\n",
       "      <th>CEP_B</th>\n",
       "    </tr>\n",
       "  </thead>\n",
       "  <tbody>\n",
       "    <tr>\n",
       "      <th>0</th>\n",
       "      <td>GT3462</td>\n",
       "      <td>Ricardo</td>\n",
       "      <td>30</td>\n",
       "      <td>88888-111</td>\n",
       "      <td>30</td>\n",
       "      <td>88888-111</td>\n",
       "    </tr>\n",
       "    <tr>\n",
       "      <th>1</th>\n",
       "      <td>HH1158</td>\n",
       "      <td>Maria</td>\n",
       "      <td>27</td>\n",
       "      <td>77777-666</td>\n",
       "      <td>27</td>\n",
       "      <td>77777-666</td>\n",
       "    </tr>\n",
       "  </tbody>\n",
       "</table>\n",
       "</div>"
      ],
      "text/plain": [
       "       Id     Nome  Idade_A      CEP_A  Idade_B      CEP_B\n",
       "0  GT3462  Ricardo       30  88888-111       30  88888-111\n",
       "1  HH1158    Maria       27  77777-666       27  77777-666"
      ]
     },
     "execution_count": 108,
     "metadata": {},
     "output_type": "execute_result"
    }
   ],
   "source": [
    "pd.merge(cadastro_a, cadastro_b[['Id', 'Idade', 'CEP']], on= ['Id'], how='inner', suffixes= ('_A', '_B'))"
   ]
  },
  {
   "cell_type": "markdown",
   "id": "fabc0db9",
   "metadata": {
    "hidden": true
   },
   "source": [
    "* Merge **full join** junta a todas as informações das tabelas"
   ]
  },
  {
   "cell_type": "code",
   "execution_count": 109,
   "id": "c52daa88",
   "metadata": {
    "hidden": true
   },
   "outputs": [],
   "source": [
    "lojas = pd.concat([cadastro_a, cadastro_b], ignore_index= True)"
   ]
  },
  {
   "cell_type": "code",
   "execution_count": 110,
   "id": "2c4191e8",
   "metadata": {
    "hidden": true
   },
   "outputs": [],
   "source": [
    "clientes_unicos = lojas.drop_duplicates(subset=['Id'])"
   ]
  },
  {
   "cell_type": "code",
   "execution_count": 111,
   "id": "a76b2d84",
   "metadata": {
    "hidden": true,
    "scrolled": true
   },
   "outputs": [
    {
     "data": {
      "text/html": [
       "<div>\n",
       "<style scoped>\n",
       "    .dataframe tbody tr th:only-of-type {\n",
       "        vertical-align: middle;\n",
       "    }\n",
       "\n",
       "    .dataframe tbody tr th {\n",
       "        vertical-align: top;\n",
       "    }\n",
       "\n",
       "    .dataframe thead th {\n",
       "        text-align: right;\n",
       "    }\n",
       "</style>\n",
       "<table border=\"1\" class=\"dataframe\">\n",
       "  <thead>\n",
       "    <tr style=\"text-align: right;\">\n",
       "      <th></th>\n",
       "      <th>Id</th>\n",
       "      <th>Nome</th>\n",
       "      <th>Idade</th>\n",
       "      <th>CEP</th>\n",
       "    </tr>\n",
       "  </thead>\n",
       "  <tbody>\n",
       "    <tr>\n",
       "      <th>0</th>\n",
       "      <td>AA2930</td>\n",
       "      <td>Victor</td>\n",
       "      <td>20</td>\n",
       "      <td>00092-029</td>\n",
       "    </tr>\n",
       "    <tr>\n",
       "      <th>1</th>\n",
       "      <td>BB4563</td>\n",
       "      <td>Amanda</td>\n",
       "      <td>35</td>\n",
       "      <td>11111-111</td>\n",
       "    </tr>\n",
       "    <tr>\n",
       "      <th>2</th>\n",
       "      <td>CC2139</td>\n",
       "      <td>Bruna</td>\n",
       "      <td>40</td>\n",
       "      <td>22222-888</td>\n",
       "    </tr>\n",
       "    <tr>\n",
       "      <th>3</th>\n",
       "      <td>DE2521</td>\n",
       "      <td>Carlos</td>\n",
       "      <td>54</td>\n",
       "      <td>00000-999</td>\n",
       "    </tr>\n",
       "    <tr>\n",
       "      <th>4</th>\n",
       "      <td>GT3462</td>\n",
       "      <td>Ricardo</td>\n",
       "      <td>30</td>\n",
       "      <td>88888-111</td>\n",
       "    </tr>\n",
       "    <tr>\n",
       "      <th>5</th>\n",
       "      <td>HH1158</td>\n",
       "      <td>Maria</td>\n",
       "      <td>27</td>\n",
       "      <td>77777-666</td>\n",
       "    </tr>\n",
       "    <tr>\n",
       "      <th>6</th>\n",
       "      <td>CC9999</td>\n",
       "      <td>Marcos</td>\n",
       "      <td>19</td>\n",
       "      <td>00092-029</td>\n",
       "    </tr>\n",
       "    <tr>\n",
       "      <th>7</th>\n",
       "      <td>EF4488</td>\n",
       "      <td>Patricia</td>\n",
       "      <td>30</td>\n",
       "      <td>11111-111</td>\n",
       "    </tr>\n",
       "    <tr>\n",
       "      <th>8</th>\n",
       "      <td>DD9999</td>\n",
       "      <td>Ericka</td>\n",
       "      <td>22</td>\n",
       "      <td>11111-888</td>\n",
       "    </tr>\n",
       "  </tbody>\n",
       "</table>\n",
       "</div>"
      ],
      "text/plain": [
       "       Id      Nome  Idade        CEP\n",
       "0  AA2930    Victor     20  00092-029\n",
       "1  BB4563    Amanda     35  11111-111\n",
       "2  CC2139     Bruna     40  22222-888\n",
       "3  DE2521    Carlos     54  00000-999\n",
       "4  GT3462   Ricardo     30  88888-111\n",
       "5  HH1158     Maria     27  77777-666\n",
       "6  CC9999    Marcos     19  00092-029\n",
       "7  EF4488  Patricia     30  11111-111\n",
       "8  DD9999    Ericka     22  11111-888"
      ]
     },
     "execution_count": 111,
     "metadata": {},
     "output_type": "execute_result"
    }
   ],
   "source": [
    "clientes_unicos"
   ]
  },
  {
   "cell_type": "markdown",
   "id": "0e79fce2",
   "metadata": {
    "hidden": true
   },
   "source": [
    "* Merge **left join** junta informações do lado esquerdo da tabela "
   ]
  },
  {
   "cell_type": "code",
   "execution_count": 112,
   "id": "d1800e62",
   "metadata": {
    "hidden": true,
    "scrolled": true
   },
   "outputs": [],
   "source": [
    "esquerda = pd.merge(cadastro_a, compras, how='left', on=['Id'])"
   ]
  },
  {
   "cell_type": "code",
   "execution_count": 113,
   "id": "f518f147",
   "metadata": {
    "hidden": true,
    "scrolled": true
   },
   "outputs": [
    {
     "data": {
      "text/html": [
       "<div>\n",
       "<style scoped>\n",
       "    .dataframe tbody tr th:only-of-type {\n",
       "        vertical-align: middle;\n",
       "    }\n",
       "\n",
       "    .dataframe tbody tr th {\n",
       "        vertical-align: top;\n",
       "    }\n",
       "\n",
       "    .dataframe thead th {\n",
       "        text-align: right;\n",
       "    }\n",
       "</style>\n",
       "<table border=\"1\" class=\"dataframe\">\n",
       "  <thead>\n",
       "    <tr style=\"text-align: right;\">\n",
       "      <th></th>\n",
       "      <th>Id</th>\n",
       "      <th>Data</th>\n",
       "      <th>Valor</th>\n",
       "    </tr>\n",
       "  </thead>\n",
       "  <tbody>\n",
       "    <tr>\n",
       "      <th>0</th>\n",
       "      <td>AA2930</td>\n",
       "      <td>2019-01-01</td>\n",
       "      <td>200</td>\n",
       "    </tr>\n",
       "    <tr>\n",
       "      <th>1</th>\n",
       "      <td>EF4488</td>\n",
       "      <td>2019-01-30</td>\n",
       "      <td>100</td>\n",
       "    </tr>\n",
       "    <tr>\n",
       "      <th>2</th>\n",
       "      <td>CC2139</td>\n",
       "      <td>2019-01-30</td>\n",
       "      <td>40</td>\n",
       "    </tr>\n",
       "    <tr>\n",
       "      <th>3</th>\n",
       "      <td>EF4488</td>\n",
       "      <td>2019-02-01</td>\n",
       "      <td>150</td>\n",
       "    </tr>\n",
       "    <tr>\n",
       "      <th>4</th>\n",
       "      <td>CC9999</td>\n",
       "      <td>2019-02-20</td>\n",
       "      <td>300</td>\n",
       "    </tr>\n",
       "    <tr>\n",
       "      <th>5</th>\n",
       "      <td>AA2930</td>\n",
       "      <td>2019-03-15</td>\n",
       "      <td>25</td>\n",
       "    </tr>\n",
       "    <tr>\n",
       "      <th>6</th>\n",
       "      <td>HH1158</td>\n",
       "      <td>2019-04-01</td>\n",
       "      <td>50</td>\n",
       "    </tr>\n",
       "    <tr>\n",
       "      <th>7</th>\n",
       "      <td>HH1158</td>\n",
       "      <td>2019-04-10</td>\n",
       "      <td>500</td>\n",
       "    </tr>\n",
       "  </tbody>\n",
       "</table>\n",
       "</div>"
      ],
      "text/plain": [
       "       Id        Data  Valor\n",
       "0  AA2930  2019-01-01    200\n",
       "1  EF4488  2019-01-30    100\n",
       "2  CC2139  2019-01-30     40\n",
       "3  EF4488  2019-02-01    150\n",
       "4  CC9999  2019-02-20    300\n",
       "5  AA2930  2019-03-15     25\n",
       "6  HH1158  2019-04-01     50\n",
       "7  HH1158  2019-04-10    500"
      ]
     },
     "execution_count": 113,
     "metadata": {},
     "output_type": "execute_result"
    }
   ],
   "source": [
    "compras"
   ]
  },
  {
   "cell_type": "code",
   "execution_count": 114,
   "id": "1d4b77ff",
   "metadata": {
    "hidden": true
   },
   "outputs": [
    {
     "data": {
      "text/html": [
       "<div>\n",
       "<style scoped>\n",
       "    .dataframe tbody tr th:only-of-type {\n",
       "        vertical-align: middle;\n",
       "    }\n",
       "\n",
       "    .dataframe tbody tr th {\n",
       "        vertical-align: top;\n",
       "    }\n",
       "\n",
       "    .dataframe thead th {\n",
       "        text-align: right;\n",
       "    }\n",
       "</style>\n",
       "<table border=\"1\" class=\"dataframe\">\n",
       "  <thead>\n",
       "    <tr style=\"text-align: right;\">\n",
       "      <th></th>\n",
       "      <th>Id</th>\n",
       "      <th>Nome</th>\n",
       "      <th>Idade</th>\n",
       "      <th>CEP</th>\n",
       "    </tr>\n",
       "  </thead>\n",
       "  <tbody>\n",
       "    <tr>\n",
       "      <th>0</th>\n",
       "      <td>AA2930</td>\n",
       "      <td>Victor</td>\n",
       "      <td>20</td>\n",
       "      <td>00092-029</td>\n",
       "    </tr>\n",
       "    <tr>\n",
       "      <th>1</th>\n",
       "      <td>BB4563</td>\n",
       "      <td>Amanda</td>\n",
       "      <td>35</td>\n",
       "      <td>11111-111</td>\n",
       "    </tr>\n",
       "    <tr>\n",
       "      <th>2</th>\n",
       "      <td>CC2139</td>\n",
       "      <td>Bruna</td>\n",
       "      <td>40</td>\n",
       "      <td>22222-888</td>\n",
       "    </tr>\n",
       "    <tr>\n",
       "      <th>3</th>\n",
       "      <td>DE2521</td>\n",
       "      <td>Carlos</td>\n",
       "      <td>54</td>\n",
       "      <td>00000-999</td>\n",
       "    </tr>\n",
       "    <tr>\n",
       "      <th>4</th>\n",
       "      <td>GT3462</td>\n",
       "      <td>Ricardo</td>\n",
       "      <td>30</td>\n",
       "      <td>88888-111</td>\n",
       "    </tr>\n",
       "    <tr>\n",
       "      <th>5</th>\n",
       "      <td>HH1158</td>\n",
       "      <td>Maria</td>\n",
       "      <td>27</td>\n",
       "      <td>77777-666</td>\n",
       "    </tr>\n",
       "  </tbody>\n",
       "</table>\n",
       "</div>"
      ],
      "text/plain": [
       "       Id     Nome  Idade        CEP\n",
       "0  AA2930   Victor     20  00092-029\n",
       "1  BB4563   Amanda     35  11111-111\n",
       "2  CC2139    Bruna     40  22222-888\n",
       "3  DE2521   Carlos     54  00000-999\n",
       "4  GT3462  Ricardo     30  88888-111\n",
       "5  HH1158    Maria     27  77777-666"
      ]
     },
     "execution_count": 114,
     "metadata": {},
     "output_type": "execute_result"
    }
   ],
   "source": [
    "cadastro_a"
   ]
  },
  {
   "cell_type": "code",
   "execution_count": 115,
   "id": "ba61f9a8",
   "metadata": {
    "hidden": true,
    "scrolled": false
   },
   "outputs": [
    {
     "data": {
      "text/html": [
       "<div>\n",
       "<style scoped>\n",
       "    .dataframe tbody tr th:only-of-type {\n",
       "        vertical-align: middle;\n",
       "    }\n",
       "\n",
       "    .dataframe tbody tr th {\n",
       "        vertical-align: top;\n",
       "    }\n",
       "\n",
       "    .dataframe thead th {\n",
       "        text-align: right;\n",
       "    }\n",
       "</style>\n",
       "<table border=\"1\" class=\"dataframe\">\n",
       "  <thead>\n",
       "    <tr style=\"text-align: right;\">\n",
       "      <th></th>\n",
       "      <th>Id</th>\n",
       "      <th>Nome</th>\n",
       "      <th>Idade</th>\n",
       "      <th>CEP</th>\n",
       "      <th>Data</th>\n",
       "      <th>Valor</th>\n",
       "    </tr>\n",
       "  </thead>\n",
       "  <tbody>\n",
       "    <tr>\n",
       "      <th>0</th>\n",
       "      <td>AA2930</td>\n",
       "      <td>Victor</td>\n",
       "      <td>20</td>\n",
       "      <td>00092-029</td>\n",
       "      <td>2019-01-01</td>\n",
       "      <td>200.0</td>\n",
       "    </tr>\n",
       "    <tr>\n",
       "      <th>1</th>\n",
       "      <td>AA2930</td>\n",
       "      <td>Victor</td>\n",
       "      <td>20</td>\n",
       "      <td>00092-029</td>\n",
       "      <td>2019-03-15</td>\n",
       "      <td>25.0</td>\n",
       "    </tr>\n",
       "    <tr>\n",
       "      <th>2</th>\n",
       "      <td>BB4563</td>\n",
       "      <td>Amanda</td>\n",
       "      <td>35</td>\n",
       "      <td>11111-111</td>\n",
       "      <td>NaN</td>\n",
       "      <td>NaN</td>\n",
       "    </tr>\n",
       "    <tr>\n",
       "      <th>3</th>\n",
       "      <td>CC2139</td>\n",
       "      <td>Bruna</td>\n",
       "      <td>40</td>\n",
       "      <td>22222-888</td>\n",
       "      <td>2019-01-30</td>\n",
       "      <td>40.0</td>\n",
       "    </tr>\n",
       "    <tr>\n",
       "      <th>4</th>\n",
       "      <td>DE2521</td>\n",
       "      <td>Carlos</td>\n",
       "      <td>54</td>\n",
       "      <td>00000-999</td>\n",
       "      <td>NaN</td>\n",
       "      <td>NaN</td>\n",
       "    </tr>\n",
       "    <tr>\n",
       "      <th>5</th>\n",
       "      <td>GT3462</td>\n",
       "      <td>Ricardo</td>\n",
       "      <td>30</td>\n",
       "      <td>88888-111</td>\n",
       "      <td>NaN</td>\n",
       "      <td>NaN</td>\n",
       "    </tr>\n",
       "    <tr>\n",
       "      <th>6</th>\n",
       "      <td>HH1158</td>\n",
       "      <td>Maria</td>\n",
       "      <td>27</td>\n",
       "      <td>77777-666</td>\n",
       "      <td>2019-04-01</td>\n",
       "      <td>50.0</td>\n",
       "    </tr>\n",
       "    <tr>\n",
       "      <th>7</th>\n",
       "      <td>HH1158</td>\n",
       "      <td>Maria</td>\n",
       "      <td>27</td>\n",
       "      <td>77777-666</td>\n",
       "      <td>2019-04-10</td>\n",
       "      <td>500.0</td>\n",
       "    </tr>\n",
       "  </tbody>\n",
       "</table>\n",
       "</div>"
      ],
      "text/plain": [
       "       Id     Nome  Idade        CEP        Data  Valor\n",
       "0  AA2930   Victor     20  00092-029  2019-01-01  200.0\n",
       "1  AA2930   Victor     20  00092-029  2019-03-15   25.0\n",
       "2  BB4563   Amanda     35  11111-111         NaN    NaN\n",
       "3  CC2139    Bruna     40  22222-888  2019-01-30   40.0\n",
       "4  DE2521   Carlos     54  00000-999         NaN    NaN\n",
       "5  GT3462  Ricardo     30  88888-111         NaN    NaN\n",
       "6  HH1158    Maria     27  77777-666  2019-04-01   50.0\n",
       "7  HH1158    Maria     27  77777-666  2019-04-10  500.0"
      ]
     },
     "execution_count": 115,
     "metadata": {},
     "output_type": "execute_result"
    }
   ],
   "source": [
    "esquerda"
   ]
  },
  {
   "cell_type": "code",
   "execution_count": 116,
   "id": "e26ba8d1",
   "metadata": {
    "hidden": true,
    "scrolled": true
   },
   "outputs": [
    {
     "data": {
      "text/plain": [
       "Id      Nome   \n",
       "AA2930  Victor     225.0\n",
       "BB4563  Amanda       0.0\n",
       "CC2139  Bruna       40.0\n",
       "DE2521  Carlos       0.0\n",
       "GT3462  Ricardo      0.0\n",
       "HH1158  Maria      550.0\n",
       "Name: Valor, dtype: float64"
      ]
     },
     "execution_count": 116,
     "metadata": {},
     "output_type": "execute_result"
    }
   ],
   "source": [
    "esquerda.groupby(['Id', 'Nome'])['Valor'].sum()"
   ]
  },
  {
   "cell_type": "markdown",
   "id": "99e1c6e4",
   "metadata": {
    "heading_collapsed": true
   },
   "source": [
    "## 2.3. Groupby "
   ]
  },
  {
   "cell_type": "code",
   "execution_count": 125,
   "id": "a2e10888",
   "metadata": {
    "hidden": true
   },
   "outputs": [],
   "source": [
    "dfg = pd.DataFrame({'A': ['verdadeiro', 'falso', 'verdadeiro', 'falso', 'verdadeiro', 'falso', 'verdadeiro', 'falso'],\n",
    "                    \n",
    "                    'B': ['um', 'um', 'dois', 'tres', 'dois', ' dois', 'um ', 'tres'],\n",
    "                    \n",
    "                    'C': np.random.randn(8),\n",
    "                    \n",
    "                    'D': np.random.randn(8)})"
   ]
  },
  {
   "cell_type": "code",
   "execution_count": 126,
   "id": "69f18696",
   "metadata": {
    "hidden": true
   },
   "outputs": [
    {
     "data": {
      "text/html": [
       "<div>\n",
       "<style scoped>\n",
       "    .dataframe tbody tr th:only-of-type {\n",
       "        vertical-align: middle;\n",
       "    }\n",
       "\n",
       "    .dataframe tbody tr th {\n",
       "        vertical-align: top;\n",
       "    }\n",
       "\n",
       "    .dataframe thead th {\n",
       "        text-align: right;\n",
       "    }\n",
       "</style>\n",
       "<table border=\"1\" class=\"dataframe\">\n",
       "  <thead>\n",
       "    <tr style=\"text-align: right;\">\n",
       "      <th></th>\n",
       "      <th>A</th>\n",
       "      <th>B</th>\n",
       "      <th>C</th>\n",
       "      <th>D</th>\n",
       "    </tr>\n",
       "  </thead>\n",
       "  <tbody>\n",
       "    <tr>\n",
       "      <th>0</th>\n",
       "      <td>verdadeiro</td>\n",
       "      <td>um</td>\n",
       "      <td>-1.827644</td>\n",
       "      <td>-2.538711</td>\n",
       "    </tr>\n",
       "    <tr>\n",
       "      <th>1</th>\n",
       "      <td>falso</td>\n",
       "      <td>um</td>\n",
       "      <td>1.021796</td>\n",
       "      <td>-1.827049</td>\n",
       "    </tr>\n",
       "    <tr>\n",
       "      <th>2</th>\n",
       "      <td>verdadeiro</td>\n",
       "      <td>dois</td>\n",
       "      <td>0.219348</td>\n",
       "      <td>-0.224916</td>\n",
       "    </tr>\n",
       "    <tr>\n",
       "      <th>3</th>\n",
       "      <td>falso</td>\n",
       "      <td>tres</td>\n",
       "      <td>0.573037</td>\n",
       "      <td>-0.359021</td>\n",
       "    </tr>\n",
       "    <tr>\n",
       "      <th>4</th>\n",
       "      <td>verdadeiro</td>\n",
       "      <td>dois</td>\n",
       "      <td>1.125446</td>\n",
       "      <td>-0.420238</td>\n",
       "    </tr>\n",
       "    <tr>\n",
       "      <th>5</th>\n",
       "      <td>falso</td>\n",
       "      <td>dois</td>\n",
       "      <td>-0.895374</td>\n",
       "      <td>0.409150</td>\n",
       "    </tr>\n",
       "    <tr>\n",
       "      <th>6</th>\n",
       "      <td>verdadeiro</td>\n",
       "      <td>um</td>\n",
       "      <td>0.647556</td>\n",
       "      <td>-1.308707</td>\n",
       "    </tr>\n",
       "    <tr>\n",
       "      <th>7</th>\n",
       "      <td>falso</td>\n",
       "      <td>tres</td>\n",
       "      <td>-0.536404</td>\n",
       "      <td>0.798657</td>\n",
       "    </tr>\n",
       "  </tbody>\n",
       "</table>\n",
       "</div>"
      ],
      "text/plain": [
       "            A      B         C         D\n",
       "0  verdadeiro     um -1.827644 -2.538711\n",
       "1       falso     um  1.021796 -1.827049\n",
       "2  verdadeiro   dois  0.219348 -0.224916\n",
       "3       falso   tres  0.573037 -0.359021\n",
       "4  verdadeiro   dois  1.125446 -0.420238\n",
       "5       falso   dois -0.895374  0.409150\n",
       "6  verdadeiro    um   0.647556 -1.308707\n",
       "7       falso   tres -0.536404  0.798657"
      ]
     },
     "execution_count": 126,
     "metadata": {},
     "output_type": "execute_result"
    }
   ],
   "source": [
    "dfg"
   ]
  },
  {
   "cell_type": "markdown",
   "id": "d869fe0b",
   "metadata": {
    "heading_collapsed": true,
    "hidden": true
   },
   "source": [
    "#### Soma dos valores das colunas baseada na coluna A"
   ]
  },
  {
   "cell_type": "code",
   "execution_count": 127,
   "id": "b62911b0",
   "metadata": {
    "hidden": true,
    "scrolled": false
   },
   "outputs": [
    {
     "data": {
      "text/html": [
       "<div>\n",
       "<style scoped>\n",
       "    .dataframe tbody tr th:only-of-type {\n",
       "        vertical-align: middle;\n",
       "    }\n",
       "\n",
       "    .dataframe tbody tr th {\n",
       "        vertical-align: top;\n",
       "    }\n",
       "\n",
       "    .dataframe thead th {\n",
       "        text-align: right;\n",
       "    }\n",
       "</style>\n",
       "<table border=\"1\" class=\"dataframe\">\n",
       "  <thead>\n",
       "    <tr style=\"text-align: right;\">\n",
       "      <th></th>\n",
       "      <th>C</th>\n",
       "      <th>D</th>\n",
       "    </tr>\n",
       "    <tr>\n",
       "      <th>A</th>\n",
       "      <th></th>\n",
       "      <th></th>\n",
       "    </tr>\n",
       "  </thead>\n",
       "  <tbody>\n",
       "    <tr>\n",
       "      <th>falso</th>\n",
       "      <td>0.163055</td>\n",
       "      <td>-0.978263</td>\n",
       "    </tr>\n",
       "    <tr>\n",
       "      <th>verdadeiro</th>\n",
       "      <td>0.164705</td>\n",
       "      <td>-4.492572</td>\n",
       "    </tr>\n",
       "  </tbody>\n",
       "</table>\n",
       "</div>"
      ],
      "text/plain": [
       "                   C         D\n",
       "A                             \n",
       "falso       0.163055 -0.978263\n",
       "verdadeiro  0.164705 -4.492572"
      ]
     },
     "execution_count": 127,
     "metadata": {},
     "output_type": "execute_result"
    }
   ],
   "source": [
    "dfg.groupby(['A']).sum()"
   ]
  },
  {
   "cell_type": "markdown",
   "id": "a2dc86f7",
   "metadata": {
    "heading_collapsed": true,
    "hidden": true
   },
   "source": [
    "#### Média dos valores das colunas baseada na coluna A"
   ]
  },
  {
   "cell_type": "code",
   "execution_count": 128,
   "id": "21da4e6d",
   "metadata": {
    "hidden": true
   },
   "outputs": [
    {
     "data": {
      "text/html": [
       "<div>\n",
       "<style scoped>\n",
       "    .dataframe tbody tr th:only-of-type {\n",
       "        vertical-align: middle;\n",
       "    }\n",
       "\n",
       "    .dataframe tbody tr th {\n",
       "        vertical-align: top;\n",
       "    }\n",
       "\n",
       "    .dataframe thead th {\n",
       "        text-align: right;\n",
       "    }\n",
       "</style>\n",
       "<table border=\"1\" class=\"dataframe\">\n",
       "  <thead>\n",
       "    <tr style=\"text-align: right;\">\n",
       "      <th></th>\n",
       "      <th>C</th>\n",
       "      <th>D</th>\n",
       "    </tr>\n",
       "    <tr>\n",
       "      <th>A</th>\n",
       "      <th></th>\n",
       "      <th></th>\n",
       "    </tr>\n",
       "  </thead>\n",
       "  <tbody>\n",
       "    <tr>\n",
       "      <th>falso</th>\n",
       "      <td>0.040764</td>\n",
       "      <td>-0.244566</td>\n",
       "    </tr>\n",
       "    <tr>\n",
       "      <th>verdadeiro</th>\n",
       "      <td>0.041176</td>\n",
       "      <td>-1.123143</td>\n",
       "    </tr>\n",
       "  </tbody>\n",
       "</table>\n",
       "</div>"
      ],
      "text/plain": [
       "                   C         D\n",
       "A                             \n",
       "falso       0.040764 -0.244566\n",
       "verdadeiro  0.041176 -1.123143"
      ]
     },
     "execution_count": 128,
     "metadata": {},
     "output_type": "execute_result"
    }
   ],
   "source": [
    "dfg.groupby(['A']).mean()"
   ]
  },
  {
   "cell_type": "markdown",
   "id": "aa6fad04",
   "metadata": {
    "heading_collapsed": true,
    "hidden": true
   },
   "source": [
    "#### Soma dos valores das colunas baseada na coluna B"
   ]
  },
  {
   "cell_type": "code",
   "execution_count": 130,
   "id": "2eee5524",
   "metadata": {
    "hidden": true
   },
   "outputs": [
    {
     "data": {
      "text/html": [
       "<div>\n",
       "<style scoped>\n",
       "    .dataframe tbody tr th:only-of-type {\n",
       "        vertical-align: middle;\n",
       "    }\n",
       "\n",
       "    .dataframe tbody tr th {\n",
       "        vertical-align: top;\n",
       "    }\n",
       "\n",
       "    .dataframe thead th {\n",
       "        text-align: right;\n",
       "    }\n",
       "</style>\n",
       "<table border=\"1\" class=\"dataframe\">\n",
       "  <thead>\n",
       "    <tr style=\"text-align: right;\">\n",
       "      <th></th>\n",
       "      <th>C</th>\n",
       "      <th>D</th>\n",
       "    </tr>\n",
       "    <tr>\n",
       "      <th>B</th>\n",
       "      <th></th>\n",
       "      <th></th>\n",
       "    </tr>\n",
       "  </thead>\n",
       "  <tbody>\n",
       "    <tr>\n",
       "      <th>dois</th>\n",
       "      <td>-0.895374</td>\n",
       "      <td>0.409150</td>\n",
       "    </tr>\n",
       "    <tr>\n",
       "      <th>dois</th>\n",
       "      <td>1.344794</td>\n",
       "      <td>-0.645154</td>\n",
       "    </tr>\n",
       "    <tr>\n",
       "      <th>tres</th>\n",
       "      <td>0.036633</td>\n",
       "      <td>0.439636</td>\n",
       "    </tr>\n",
       "    <tr>\n",
       "      <th>um</th>\n",
       "      <td>-0.805849</td>\n",
       "      <td>-4.365760</td>\n",
       "    </tr>\n",
       "    <tr>\n",
       "      <th>um</th>\n",
       "      <td>0.647556</td>\n",
       "      <td>-1.308707</td>\n",
       "    </tr>\n",
       "  </tbody>\n",
       "</table>\n",
       "</div>"
      ],
      "text/plain": [
       "              C         D\n",
       "B                        \n",
       " dois -0.895374  0.409150\n",
       "dois   1.344794 -0.645154\n",
       "tres   0.036633  0.439636\n",
       "um    -0.805849 -4.365760\n",
       "um     0.647556 -1.308707"
      ]
     },
     "execution_count": 130,
     "metadata": {},
     "output_type": "execute_result"
    }
   ],
   "source": [
    "dfg.groupby(['B']).sum()"
   ]
  },
  {
   "cell_type": "markdown",
   "id": "c1ae3cd3",
   "metadata": {
    "heading_collapsed": true,
    "hidden": true
   },
   "source": [
    "#### Média dos valores das colunas baseada na coluna B"
   ]
  },
  {
   "cell_type": "code",
   "execution_count": 129,
   "id": "b87eee22",
   "metadata": {
    "hidden": true,
    "scrolled": true
   },
   "outputs": [
    {
     "data": {
      "text/html": [
       "<div>\n",
       "<style scoped>\n",
       "    .dataframe tbody tr th:only-of-type {\n",
       "        vertical-align: middle;\n",
       "    }\n",
       "\n",
       "    .dataframe tbody tr th {\n",
       "        vertical-align: top;\n",
       "    }\n",
       "\n",
       "    .dataframe thead th {\n",
       "        text-align: right;\n",
       "    }\n",
       "</style>\n",
       "<table border=\"1\" class=\"dataframe\">\n",
       "  <thead>\n",
       "    <tr style=\"text-align: right;\">\n",
       "      <th></th>\n",
       "      <th>C</th>\n",
       "      <th>D</th>\n",
       "    </tr>\n",
       "    <tr>\n",
       "      <th>B</th>\n",
       "      <th></th>\n",
       "      <th></th>\n",
       "    </tr>\n",
       "  </thead>\n",
       "  <tbody>\n",
       "    <tr>\n",
       "      <th>dois</th>\n",
       "      <td>-0.895374</td>\n",
       "      <td>0.409150</td>\n",
       "    </tr>\n",
       "    <tr>\n",
       "      <th>dois</th>\n",
       "      <td>0.672397</td>\n",
       "      <td>-0.322577</td>\n",
       "    </tr>\n",
       "    <tr>\n",
       "      <th>tres</th>\n",
       "      <td>0.018317</td>\n",
       "      <td>0.219818</td>\n",
       "    </tr>\n",
       "    <tr>\n",
       "      <th>um</th>\n",
       "      <td>-0.402924</td>\n",
       "      <td>-2.182880</td>\n",
       "    </tr>\n",
       "    <tr>\n",
       "      <th>um</th>\n",
       "      <td>0.647556</td>\n",
       "      <td>-1.308707</td>\n",
       "    </tr>\n",
       "  </tbody>\n",
       "</table>\n",
       "</div>"
      ],
      "text/plain": [
       "              C         D\n",
       "B                        \n",
       " dois -0.895374  0.409150\n",
       "dois   0.672397 -0.322577\n",
       "tres   0.018317  0.219818\n",
       "um    -0.402924 -2.182880\n",
       "um     0.647556 -1.308707"
      ]
     },
     "execution_count": 129,
     "metadata": {},
     "output_type": "execute_result"
    }
   ],
   "source": [
    "dfg.groupby(['B']).mean()"
   ]
  },
  {
   "cell_type": "markdown",
   "id": "a6d69c4d",
   "metadata": {
    "heading_collapsed": true,
    "hidden": true
   },
   "source": [
    "#### Soma dos valores das colunas baseada nas colunas A e B"
   ]
  },
  {
   "cell_type": "code",
   "execution_count": 131,
   "id": "7c818971",
   "metadata": {
    "hidden": true,
    "scrolled": true
   },
   "outputs": [
    {
     "data": {
      "text/html": [
       "<div>\n",
       "<style scoped>\n",
       "    .dataframe tbody tr th:only-of-type {\n",
       "        vertical-align: middle;\n",
       "    }\n",
       "\n",
       "    .dataframe tbody tr th {\n",
       "        vertical-align: top;\n",
       "    }\n",
       "\n",
       "    .dataframe thead th {\n",
       "        text-align: right;\n",
       "    }\n",
       "</style>\n",
       "<table border=\"1\" class=\"dataframe\">\n",
       "  <thead>\n",
       "    <tr style=\"text-align: right;\">\n",
       "      <th></th>\n",
       "      <th></th>\n",
       "      <th>C</th>\n",
       "      <th>D</th>\n",
       "    </tr>\n",
       "    <tr>\n",
       "      <th>A</th>\n",
       "      <th>B</th>\n",
       "      <th></th>\n",
       "      <th></th>\n",
       "    </tr>\n",
       "  </thead>\n",
       "  <tbody>\n",
       "    <tr>\n",
       "      <th rowspan=\"3\" valign=\"top\">falso</th>\n",
       "      <th>dois</th>\n",
       "      <td>-0.895374</td>\n",
       "      <td>0.409150</td>\n",
       "    </tr>\n",
       "    <tr>\n",
       "      <th>tres</th>\n",
       "      <td>0.036633</td>\n",
       "      <td>0.439636</td>\n",
       "    </tr>\n",
       "    <tr>\n",
       "      <th>um</th>\n",
       "      <td>1.021796</td>\n",
       "      <td>-1.827049</td>\n",
       "    </tr>\n",
       "    <tr>\n",
       "      <th rowspan=\"3\" valign=\"top\">verdadeiro</th>\n",
       "      <th>dois</th>\n",
       "      <td>1.344794</td>\n",
       "      <td>-0.645154</td>\n",
       "    </tr>\n",
       "    <tr>\n",
       "      <th>um</th>\n",
       "      <td>-1.827644</td>\n",
       "      <td>-2.538711</td>\n",
       "    </tr>\n",
       "    <tr>\n",
       "      <th>um</th>\n",
       "      <td>0.647556</td>\n",
       "      <td>-1.308707</td>\n",
       "    </tr>\n",
       "  </tbody>\n",
       "</table>\n",
       "</div>"
      ],
      "text/plain": [
       "                         C         D\n",
       "A          B                        \n",
       "falso       dois -0.895374  0.409150\n",
       "           tres   0.036633  0.439636\n",
       "           um     1.021796 -1.827049\n",
       "verdadeiro dois   1.344794 -0.645154\n",
       "           um    -1.827644 -2.538711\n",
       "           um     0.647556 -1.308707"
      ]
     },
     "execution_count": 131,
     "metadata": {},
     "output_type": "execute_result"
    }
   ],
   "source": [
    "dfg.groupby(['A','B']).sum()"
   ]
  },
  {
   "cell_type": "markdown",
   "id": "5703bffa",
   "metadata": {
    "heading_collapsed": true
   },
   "source": [
    "## 2.4. Indexação  "
   ]
  },
  {
   "cell_type": "markdown",
   "id": "4a50855a",
   "metadata": {
    "hidden": true
   },
   "source": [
    "Todo índice em pyhon inicia em 0.\n",
    "\n",
    "Sempre que quisermos selecionar algum objeto em uma lista, devemos considerar esse requisito."
   ]
  },
  {
   "cell_type": "code",
   "execution_count": 132,
   "id": "f4872323",
   "metadata": {
    "hidden": true
   },
   "outputs": [],
   "source": [
    "lista = [ 32, 96, 11, 27]"
   ]
  },
  {
   "cell_type": "code",
   "execution_count": 133,
   "id": "94ffffc9",
   "metadata": {
    "hidden": true
   },
   "outputs": [
    {
     "data": {
      "text/plain": [
       "32"
      ]
     },
     "execution_count": 133,
     "metadata": {},
     "output_type": "execute_result"
    }
   ],
   "source": [
    "lista[0]"
   ]
  },
  {
   "cell_type": "markdown",
   "id": "73d8ec29",
   "metadata": {
    "hidden": true,
    "hide_input": false
   },
   "source": [
    "Sempre que quisermos selecionar os números de trás pra frente, basta adicionar o sinal de subtração e ordenar a casa"
   ]
  },
  {
   "cell_type": "code",
   "execution_count": 134,
   "id": "5c005fa6",
   "metadata": {
    "hidden": true
   },
   "outputs": [
    {
     "data": {
      "text/plain": [
       "27"
      ]
     },
     "execution_count": 134,
     "metadata": {},
     "output_type": "execute_result"
    }
   ],
   "source": [
    "lista [-1]"
   ]
  },
  {
   "cell_type": "markdown",
   "id": "6a8dc8d7",
   "metadata": {
    "hidden": true
   },
   "source": [
    "### Indexação múltlipla"
   ]
  },
  {
   "cell_type": "code",
   "execution_count": 135,
   "id": "fdf6bf1c",
   "metadata": {
    "hidden": true
   },
   "outputs": [],
   "source": [
    "arrays = [[1, 2, 5, 4], ['red', 'blue', 'green', 'blue']]"
   ]
  },
  {
   "cell_type": "code",
   "execution_count": 136,
   "id": "8dc1225b",
   "metadata": {
    "hidden": true
   },
   "outputs": [
    {
     "data": {
      "text/plain": [
       "MultiIndex([(1,   'red'),\n",
       "            (2,  'blue'),\n",
       "            (5, 'green'),\n",
       "            (4,  'blue')],\n",
       "           names=['number', 'color'])"
      ]
     },
     "execution_count": 136,
     "metadata": {},
     "output_type": "execute_result"
    }
   ],
   "source": [
    "pd.MultiIndex.from_arrays(arrays, names=('number', 'color'))"
   ]
  },
  {
   "cell_type": "code",
   "execution_count": 137,
   "id": "7e97296a",
   "metadata": {
    "hidden": true
   },
   "outputs": [],
   "source": [
    "numbers = [0, 1, 2]\n",
    "colors = ['green', 'purple']"
   ]
  },
  {
   "cell_type": "markdown",
   "id": "ad4d1a61",
   "metadata": {
    "hidden": true
   },
   "source": [
    "**MultiIndex com produto cartesiano**"
   ]
  },
  {
   "cell_type": "code",
   "execution_count": 139,
   "id": "ab69081d",
   "metadata": {
    "hidden": true
   },
   "outputs": [
    {
     "data": {
      "text/plain": [
       "MultiIndex([(0,  'green'),\n",
       "            (0, 'purple'),\n",
       "            (1,  'green'),\n",
       "            (1, 'purple'),\n",
       "            (2,  'green'),\n",
       "            (2, 'purple')],\n",
       "           names=['number', 'color'])"
      ]
     },
     "execution_count": 139,
     "metadata": {},
     "output_type": "execute_result"
    }
   ],
   "source": [
    "pd.MultiIndex.from_product([numbers, colors], names = ['number', 'color'])"
   ]
  },
  {
   "cell_type": "markdown",
   "id": "2c6e6293",
   "metadata": {},
   "source": [
    "## 2.5. Reshping dados"
   ]
  },
  {
   "cell_type": "code",
   "execution_count": null,
   "id": "ab8fa77d",
   "metadata": {},
   "outputs": [],
   "source": []
  },
  {
   "cell_type": "code",
   "execution_count": null,
   "id": "1ecb9422",
   "metadata": {},
   "outputs": [],
   "source": []
  },
  {
   "cell_type": "code",
   "execution_count": null,
   "id": "993a1f2f",
   "metadata": {},
   "outputs": [],
   "source": []
  },
  {
   "cell_type": "code",
   "execution_count": null,
   "id": "b8ab726a",
   "metadata": {},
   "outputs": [],
   "source": []
  },
  {
   "cell_type": "code",
   "execution_count": null,
   "id": "9c8be752",
   "metadata": {},
   "outputs": [],
   "source": []
  },
  {
   "cell_type": "code",
   "execution_count": null,
   "id": "4c6158c5",
   "metadata": {},
   "outputs": [],
   "source": []
  },
  {
   "cell_type": "code",
   "execution_count": null,
   "id": "16a94c12",
   "metadata": {},
   "outputs": [],
   "source": []
  },
  {
   "cell_type": "code",
   "execution_count": null,
   "id": "3a45fa47",
   "metadata": {},
   "outputs": [],
   "source": []
  },
  {
   "cell_type": "code",
   "execution_count": null,
   "id": "41e6ea15",
   "metadata": {},
   "outputs": [],
   "source": []
  },
  {
   "cell_type": "code",
   "execution_count": null,
   "id": "19428fe8",
   "metadata": {},
   "outputs": [],
   "source": []
  }
 ],
 "metadata": {
  "kernelspec": {
   "display_name": "Python 3 (ipykernel)",
   "language": "python",
   "name": "python3"
  },
  "language_info": {
   "codemirror_mode": {
    "name": "ipython",
    "version": 3
   },
   "file_extension": ".py",
   "mimetype": "text/x-python",
   "name": "python",
   "nbconvert_exporter": "python",
   "pygments_lexer": "ipython3",
   "version": "3.9.12"
  },
  "varInspector": {
   "cols": {
    "lenName": 16,
    "lenType": 16,
    "lenVar": 40
   },
   "kernels_config": {
    "python": {
     "delete_cmd_postfix": "",
     "delete_cmd_prefix": "del ",
     "library": "var_list.py",
     "varRefreshCmd": "print(var_dic_list())"
    },
    "r": {
     "delete_cmd_postfix": ") ",
     "delete_cmd_prefix": "rm(",
     "library": "var_list.r",
     "varRefreshCmd": "cat(var_dic_list()) "
    }
   },
   "types_to_exclude": [
    "module",
    "function",
    "builtin_function_or_method",
    "instance",
    "_Feature"
   ],
   "window_display": false
  }
 },
 "nbformat": 4,
 "nbformat_minor": 5
}
