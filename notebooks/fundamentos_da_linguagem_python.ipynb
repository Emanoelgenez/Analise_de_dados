{
 "cells": [
  {
   "cell_type": "markdown",
   "id": "4b15d2fc",
   "metadata": {},
   "source": [
    "<h1>\n",
    "   <font color = \"grey\">Fundamentos da linguagem Python</font>\n",
    "</h1>"
   ]
  },
  {
   "cell_type": "markdown",
   "id": "dc976fe6",
   "metadata": {},
   "source": [
    "# MÓDULO 1"
   ]
  },
  {
   "cell_type": "markdown",
   "id": "e0a62a4d",
   "metadata": {
    "heading_collapsed": true
   },
   "source": [
    "## 1.1. Operadores matemáticos"
   ]
  },
  {
   "cell_type": "code",
   "execution_count": 330,
   "id": "db5f029d",
   "metadata": {
    "ExecuteTime": {
     "end_time": "2022-05-20T20:35:30.283620Z",
     "start_time": "2022-05-20T20:35:30.269628Z"
    },
    "hidden": true
   },
   "outputs": [
    {
     "data": {
      "text/plain": [
       "12"
      ]
     },
     "execution_count": 330,
     "metadata": {},
     "output_type": "execute_result"
    }
   ],
   "source": [
    "# adição \n",
    "\n",
    "5 + 7"
   ]
  },
  {
   "cell_type": "code",
   "execution_count": 331,
   "id": "086754d5",
   "metadata": {
    "ExecuteTime": {
     "end_time": "2022-05-20T20:35:30.379559Z",
     "start_time": "2022-05-20T20:35:30.287618Z"
    },
    "hidden": true
   },
   "outputs": [
    {
     "data": {
      "text/plain": [
       "12"
      ]
     },
     "execution_count": 331,
     "metadata": {},
     "output_type": "execute_result"
    }
   ],
   "source": [
    "# subtração \n",
    "\n",
    "21 - 9"
   ]
  },
  {
   "cell_type": "code",
   "execution_count": 332,
   "id": "73ad00a4",
   "metadata": {
    "ExecuteTime": {
     "end_time": "2022-05-20T20:35:30.459512Z",
     "start_time": "2022-05-20T20:35:30.383558Z"
    },
    "hidden": true
   },
   "outputs": [
    {
     "data": {
      "text/plain": [
       "27"
      ]
     },
     "execution_count": 332,
     "metadata": {},
     "output_type": "execute_result"
    }
   ],
   "source": [
    "# multiplicação \n",
    "\n",
    "3 * 9"
   ]
  },
  {
   "cell_type": "code",
   "execution_count": 333,
   "id": "7edf81d3",
   "metadata": {
    "ExecuteTime": {
     "end_time": "2022-05-20T20:35:30.538467Z",
     "start_time": "2022-05-20T20:35:30.464508Z"
    },
    "hidden": true
   },
   "outputs": [
    {
     "data": {
      "text/plain": [
       "19.666666666666668"
      ]
     },
     "execution_count": 333,
     "metadata": {},
     "output_type": "execute_result"
    }
   ],
   "source": [
    "# divisão\n",
    "\n",
    "59 / 3"
   ]
  },
  {
   "cell_type": "markdown",
   "id": "ccae3f61",
   "metadata": {
    "hidden": true
   },
   "source": [
    "### 1.1.1. Operação com variáveis"
   ]
  },
  {
   "cell_type": "code",
   "execution_count": 334,
   "id": "a4163fb5",
   "metadata": {
    "ExecuteTime": {
     "end_time": "2022-05-20T20:35:30.633406Z",
     "start_time": "2022-05-20T20:35:30.541461Z"
    },
    "hidden": true
   },
   "outputs": [],
   "source": [
    "a = 39"
   ]
  },
  {
   "cell_type": "code",
   "execution_count": 335,
   "id": "1fa667db",
   "metadata": {
    "ExecuteTime": {
     "end_time": "2022-05-20T20:35:30.697365Z",
     "start_time": "2022-05-20T20:35:30.637402Z"
    },
    "hidden": true,
    "scrolled": true
   },
   "outputs": [],
   "source": [
    "b = a + 1"
   ]
  },
  {
   "cell_type": "code",
   "execution_count": 336,
   "id": "8a48dfe1",
   "metadata": {
    "ExecuteTime": {
     "end_time": "2022-05-20T20:35:30.777317Z",
     "start_time": "2022-05-20T20:35:30.701362Z"
    },
    "hidden": true
   },
   "outputs": [
    {
     "data": {
      "text/plain": [
       "40"
      ]
     },
     "execution_count": 336,
     "metadata": {},
     "output_type": "execute_result"
    }
   ],
   "source": [
    "b"
   ]
  },
  {
   "cell_type": "code",
   "execution_count": 337,
   "id": "068ca6e0",
   "metadata": {
    "ExecuteTime": {
     "end_time": "2022-05-20T20:35:30.887250Z",
     "start_time": "2022-05-20T20:35:30.781313Z"
    },
    "hidden": true
   },
   "outputs": [
    {
     "data": {
      "text/plain": [
       "80"
      ]
     },
     "execution_count": 337,
     "metadata": {},
     "output_type": "execute_result"
    }
   ],
   "source": [
    "b * 2"
   ]
  },
  {
   "cell_type": "markdown",
   "id": "03ed7a7e",
   "metadata": {
    "hidden": true
   },
   "source": [
    "**Aquecimento operadores matemáticos**"
   ]
  },
  {
   "cell_type": "code",
   "execution_count": 338,
   "id": "2cc48ee6",
   "metadata": {
    "ExecuteTime": {
     "end_time": "2022-05-20T20:35:30.950210Z",
     "start_time": "2022-05-20T20:35:30.893245Z"
    },
    "hidden": true
   },
   "outputs": [],
   "source": [
    "# compras \n",
    "\n",
    "\n",
    "arroz = 10\n",
    "leite = 11.50\n",
    "carne = 30.80\n",
    "sabonete = 9.56\n",
    "alvejante = 19.58"
   ]
  },
  {
   "cell_type": "code",
   "execution_count": 339,
   "id": "b849174d",
   "metadata": {
    "ExecuteTime": {
     "end_time": "2022-05-20T20:35:31.030162Z",
     "start_time": "2022-05-20T20:35:30.954206Z"
    },
    "hidden": true
   },
   "outputs": [],
   "source": [
    "resultado = arroz + leite + carne + sabonete + alvejante "
   ]
  },
  {
   "cell_type": "code",
   "execution_count": 340,
   "id": "2c0582cd",
   "metadata": {
    "ExecuteTime": {
     "end_time": "2022-05-20T20:35:31.126100Z",
     "start_time": "2022-05-20T20:35:31.033158Z"
    },
    "hidden": true
   },
   "outputs": [
    {
     "data": {
      "text/plain": [
       "81.44"
      ]
     },
     "execution_count": 340,
     "metadata": {},
     "output_type": "execute_result"
    }
   ],
   "source": [
    "resultado"
   ]
  },
  {
   "cell_type": "code",
   "execution_count": 341,
   "id": "2ed10c8b",
   "metadata": {
    "ExecuteTime": {
     "end_time": "2022-05-20T20:35:31.206055Z",
     "start_time": "2022-05-20T20:35:31.129100Z"
    },
    "hidden": true
   },
   "outputs": [
    {
     "name": "stdout",
     "output_type": "stream",
     "text": [
      "O valor total das compras é: R$ 81.44\n"
     ]
    }
   ],
   "source": [
    "print('O valor total das compras é: R$', resultado)"
   ]
  },
  {
   "cell_type": "code",
   "execution_count": 342,
   "id": "d6934e22",
   "metadata": {
    "ExecuteTime": {
     "end_time": "2022-05-20T20:35:31.286003Z",
     "start_time": "2022-05-20T20:35:31.210056Z"
    },
    "hidden": true
   },
   "outputs": [
    {
     "data": {
      "text/plain": [
       "4"
      ]
     },
     "execution_count": 342,
     "metadata": {},
     "output_type": "execute_result"
    }
   ],
   "source": [
    "# potenciação \n",
    "\n",
    "2 ** 2"
   ]
  },
  {
   "cell_type": "code",
   "execution_count": 343,
   "id": "45175d16",
   "metadata": {
    "ExecuteTime": {
     "end_time": "2022-05-20T20:35:31.381945Z",
     "start_time": "2022-05-20T20:35:31.290000Z"
    },
    "hidden": true
   },
   "outputs": [
    {
     "data": {
      "text/plain": [
       "3"
      ]
     },
     "execution_count": 343,
     "metadata": {},
     "output_type": "execute_result"
    }
   ],
   "source": [
    "# módulo ou resto da divisão \n",
    "\n",
    "10 % 7"
   ]
  },
  {
   "cell_type": "markdown",
   "id": "897ad1f6",
   "metadata": {
    "heading_collapsed": true
   },
   "source": [
    "## 1.2. Operadores relacionais"
   ]
  },
  {
   "cell_type": "code",
   "execution_count": 344,
   "id": "a8a27945",
   "metadata": {
    "ExecuteTime": {
     "end_time": "2022-05-20T20:35:31.461132Z",
     "start_time": "2022-05-20T20:35:31.384943Z"
    },
    "hidden": true
   },
   "outputs": [
    {
     "data": {
      "text/plain": [
       "False"
      ]
     },
     "execution_count": 344,
     "metadata": {},
     "output_type": "execute_result"
    }
   ],
   "source": [
    "# igualdade\n",
    "\n",
    "700 == 90"
   ]
  },
  {
   "cell_type": "code",
   "execution_count": 345,
   "id": "80c60896",
   "metadata": {
    "ExecuteTime": {
     "end_time": "2022-05-20T20:35:31.571340Z",
     "start_time": "2022-05-20T20:35:31.465129Z"
    },
    "hidden": true
   },
   "outputs": [
    {
     "data": {
      "text/plain": [
       "True"
      ]
     },
     "execution_count": 345,
     "metadata": {},
     "output_type": "execute_result"
    }
   ],
   "source": [
    "100 == 100"
   ]
  },
  {
   "cell_type": "code",
   "execution_count": 346,
   "id": "305e00c2",
   "metadata": {
    "ExecuteTime": {
     "end_time": "2022-05-20T20:35:31.653441Z",
     "start_time": "2022-05-20T20:35:31.582336Z"
    },
    "hidden": true
   },
   "outputs": [
    {
     "data": {
      "text/plain": [
       "True"
      ]
     },
     "execution_count": 346,
     "metadata": {},
     "output_type": "execute_result"
    }
   ],
   "source": [
    "80.0 == 80"
   ]
  },
  {
   "cell_type": "code",
   "execution_count": 347,
   "id": "a7fb955f",
   "metadata": {
    "ExecuteTime": {
     "end_time": "2022-05-20T20:35:31.849541Z",
     "start_time": "2022-05-20T20:35:31.657439Z"
    },
    "hidden": true
   },
   "outputs": [
    {
     "data": {
      "text/plain": [
       "True"
      ]
     },
     "execution_count": 347,
     "metadata": {},
     "output_type": "execute_result"
    }
   ],
   "source": [
    "# desigualdade \n",
    "\n",
    "3 != 7"
   ]
  },
  {
   "cell_type": "code",
   "execution_count": 348,
   "id": "ca33c454",
   "metadata": {
    "ExecuteTime": {
     "end_time": "2022-05-20T20:35:31.929669Z",
     "start_time": "2022-05-20T20:35:31.853540Z"
    },
    "hidden": true
   },
   "outputs": [
    {
     "data": {
      "text/plain": [
       "False"
      ]
     },
     "execution_count": 348,
     "metadata": {},
     "output_type": "execute_result"
    }
   ],
   "source": [
    "3 != 3"
   ]
  },
  {
   "cell_type": "code",
   "execution_count": 349,
   "id": "eceb6cf1",
   "metadata": {
    "ExecuteTime": {
     "end_time": "2022-05-20T20:35:32.008760Z",
     "start_time": "2022-05-20T20:35:31.933669Z"
    },
    "hidden": true
   },
   "outputs": [
    {
     "data": {
      "text/plain": [
       "True"
      ]
     },
     "execution_count": 349,
     "metadata": {},
     "output_type": "execute_result"
    }
   ],
   "source": [
    "# maior que \n",
    "\n",
    "500 > 90"
   ]
  },
  {
   "cell_type": "code",
   "execution_count": 350,
   "id": "abf0b349",
   "metadata": {
    "ExecuteTime": {
     "end_time": "2022-05-20T20:35:32.103801Z",
     "start_time": "2022-05-20T20:35:32.011758Z"
    },
    "hidden": true
   },
   "outputs": [
    {
     "data": {
      "text/plain": [
       "False"
      ]
     },
     "execution_count": 350,
     "metadata": {},
     "output_type": "execute_result"
    }
   ],
   "source": [
    "90 > 500"
   ]
  },
  {
   "cell_type": "code",
   "execution_count": 351,
   "id": "4704e0ff",
   "metadata": {
    "ExecuteTime": {
     "end_time": "2022-05-20T20:35:32.192810Z",
     "start_time": "2022-05-20T20:35:32.109781Z"
    },
    "hidden": true
   },
   "outputs": [
    {
     "data": {
      "text/plain": [
       "False"
      ]
     },
     "execution_count": 351,
     "metadata": {},
     "output_type": "execute_result"
    }
   ],
   "source": [
    "# menor que \n",
    "\n",
    "500 < 90"
   ]
  },
  {
   "cell_type": "code",
   "execution_count": 352,
   "id": "49e66d6c",
   "metadata": {
    "ExecuteTime": {
     "end_time": "2022-05-20T20:35:32.270755Z",
     "start_time": "2022-05-20T20:35:32.202799Z"
    },
    "hidden": true
   },
   "outputs": [
    {
     "data": {
      "text/plain": [
       "True"
      ]
     },
     "execution_count": 352,
     "metadata": {},
     "output_type": "execute_result"
    }
   ],
   "source": [
    "90 < 500"
   ]
  },
  {
   "cell_type": "code",
   "execution_count": 353,
   "id": "235c6773",
   "metadata": {
    "ExecuteTime": {
     "end_time": "2022-05-20T20:35:32.364781Z",
     "start_time": "2022-05-20T20:35:32.281945Z"
    },
    "hidden": true
   },
   "outputs": [
    {
     "data": {
      "text/plain": [
       "True"
      ]
     },
     "execution_count": 353,
     "metadata": {},
     "output_type": "execute_result"
    }
   ],
   "source": [
    "# maior ou igual \n",
    "\n",
    "8 >= 8"
   ]
  },
  {
   "cell_type": "code",
   "execution_count": 354,
   "id": "84314f33",
   "metadata": {
    "ExecuteTime": {
     "end_time": "2022-05-20T20:35:32.443345Z",
     "start_time": "2022-05-20T20:35:32.375753Z"
    },
    "hidden": true
   },
   "outputs": [
    {
     "data": {
      "text/plain": [
       "False"
      ]
     },
     "execution_count": 354,
     "metadata": {},
     "output_type": "execute_result"
    }
   ],
   "source": [
    "5 >= 10"
   ]
  },
  {
   "cell_type": "markdown",
   "id": "fb1ebd4f",
   "metadata": {
    "heading_collapsed": true
   },
   "source": [
    "## 1.3. Operadores lógicos"
   ]
  },
  {
   "cell_type": "markdown",
   "id": "d10cd288",
   "metadata": {
    "hidden": true
   },
   "source": [
    "**and** = e\n",
    "\n",
    "**or** = ou \n",
    "\n",
    "**not** = não"
   ]
  },
  {
   "cell_type": "markdown",
   "id": "87f0b209",
   "metadata": {
    "hidden": true
   },
   "source": [
    "**and** = se todas as alternativas forem verdadeiras\n",
    "\n",
    "**or** = se pelo menos uma das alternativas forem verdadeiras\n",
    "\n",
    "**not** = se for verdadeira será falso"
   ]
  },
  {
   "cell_type": "markdown",
   "id": "5a4f00fe",
   "metadata": {
    "hidden": true
   },
   "source": [
    "**1.Para estudar em uma universidade, o aluno deve:**\n",
    "\n",
    "\n",
    "Ter passado no vestibular\n",
    "\n",
    "e\n",
    "\n",
    "Estar com toda documentação necessária\n",
    "\n",
    "e \n",
    "\n",
    "Estar matriculado "
   ]
  },
  {
   "cell_type": "code",
   "execution_count": 355,
   "id": "aa9cd843",
   "metadata": {
    "ExecuteTime": {
     "end_time": "2022-05-20T20:35:32.521084Z",
     "start_time": "2022-05-20T20:35:32.452356Z"
    },
    "hidden": true
   },
   "outputs": [
    {
     "data": {
      "text/plain": [
       "True"
      ]
     },
     "execution_count": 355,
     "metadata": {},
     "output_type": "execute_result"
    }
   ],
   "source": [
    "50 > 40 and 50 > 49"
   ]
  },
  {
   "cell_type": "markdown",
   "id": "b5d28ea0",
   "metadata": {
    "hidden": true
   },
   "source": [
    "**2. Para obter flexibilidade no período de provas, o aluno deve:**\n",
    "\n",
    "Ser militar e estar de serviço\n",
    "\n",
    "ou \n",
    "\n",
    "Estar de licença maternidade\n",
    "\n",
    "ou \n",
    "\n",
    "Estar de atestado médico "
   ]
  },
  {
   "cell_type": "code",
   "execution_count": 356,
   "id": "bfd93664",
   "metadata": {
    "ExecuteTime": {
     "end_time": "2022-05-20T20:35:32.616009Z",
     "start_time": "2022-05-20T20:35:32.526078Z"
    },
    "hidden": true
   },
   "outputs": [
    {
     "data": {
      "text/plain": [
       "True"
      ]
     },
     "execution_count": 356,
     "metadata": {},
     "output_type": "execute_result"
    }
   ],
   "source": [
    "80 > 3 or 15 > 20"
   ]
  },
  {
   "cell_type": "markdown",
   "id": "25a3d5d2",
   "metadata": {
    "heading_collapsed": true
   },
   "source": [
    "## 1.4. Laços de repetiçoes for"
   ]
  },
  {
   "cell_type": "code",
   "execution_count": 357,
   "id": "3fec42f4",
   "metadata": {
    "ExecuteTime": {
     "end_time": "2022-05-20T20:35:32.763601Z",
     "start_time": "2022-05-20T20:35:32.620009Z"
    },
    "hidden": true,
    "scrolled": true
   },
   "outputs": [
    {
     "name": "stdout",
     "output_type": "stream",
     "text": [
      "0\n",
      "3\n",
      "6\n",
      "9\n",
      "12\n",
      "15\n",
      "18\n"
     ]
    }
   ],
   "source": [
    "for i in range (0, 20, 3):\n",
    "    print(i)"
   ]
  },
  {
   "cell_type": "markdown",
   "id": "f69f5152",
   "metadata": {
    "hidden": true
   },
   "source": [
    "Essa função cria um loop de um range(sequencia numerica) \n",
    "\n",
    "for é função (i) é a variável in conecta ao range ( inicio da sequncia, fim da sequencia, intervalos) "
   ]
  },
  {
   "cell_type": "code",
   "execution_count": 358,
   "id": "74770f50",
   "metadata": {
    "ExecuteTime": {
     "end_time": "2022-05-20T20:35:32.876163Z",
     "start_time": "2022-05-20T20:35:32.770597Z"
    },
    "hidden": true
   },
   "outputs": [],
   "source": [
    "lista = [3, 8, 44, 100]"
   ]
  },
  {
   "cell_type": "code",
   "execution_count": 359,
   "id": "7e2a4ec6",
   "metadata": {
    "ExecuteTime": {
     "end_time": "2022-05-20T20:35:33.018382Z",
     "start_time": "2022-05-20T20:35:32.881131Z"
    },
    "hidden": true
   },
   "outputs": [
    {
     "name": "stdout",
     "output_type": "stream",
     "text": [
      "3\n",
      "8\n",
      "44\n",
      "100\n"
     ]
    }
   ],
   "source": [
    "for x in lista:\n",
    "    print(x)"
   ]
  },
  {
   "cell_type": "code",
   "execution_count": 360,
   "id": "977d6939",
   "metadata": {
    "ExecuteTime": {
     "end_time": "2022-05-20T20:35:33.066065Z",
     "start_time": "2022-05-20T20:35:33.023376Z"
    },
    "hidden": true
   },
   "outputs": [],
   "source": [
    "lista2 = [3, 8, 44, 100]"
   ]
  },
  {
   "cell_type": "code",
   "execution_count": 361,
   "id": "3c00918a",
   "metadata": {
    "ExecuteTime": {
     "end_time": "2022-05-20T20:35:33.214283Z",
     "start_time": "2022-05-20T20:35:33.071065Z"
    },
    "hidden": true
   },
   "outputs": [
    {
     "name": "stdout",
     "output_type": "stream",
     "text": [
      "8\n",
      "44\n",
      "100\n"
     ]
    }
   ],
   "source": [
    "for i in lista2:\n",
    "    \n",
    "    if i % 2 == 0:\n",
    "     print(i)"
   ]
  },
  {
   "cell_type": "code",
   "execution_count": 362,
   "id": "c02b0aa9",
   "metadata": {
    "ExecuteTime": {
     "end_time": "2022-05-20T20:35:33.330584Z",
     "start_time": "2022-05-20T20:35:33.224265Z"
    },
    "hidden": true
   },
   "outputs": [],
   "source": [
    "lista3 = [ [1,2,3], [2,3,5], [7,8,5,4,3,2] ]"
   ]
  },
  {
   "cell_type": "code",
   "execution_count": 363,
   "id": "b0ac09fa",
   "metadata": {
    "ExecuteTime": {
     "end_time": "2022-05-20T20:35:33.425698Z",
     "start_time": "2022-05-20T20:35:33.340591Z"
    },
    "hidden": true
   },
   "outputs": [
    {
     "name": "stdout",
     "output_type": "stream",
     "text": [
      "[1, 2, 3]\n",
      "[2, 3, 5]\n",
      "[7, 8, 5, 4, 3, 2]\n"
     ]
    }
   ],
   "source": [
    "for ii in lista3:\n",
    "    print(ii)"
   ]
  },
  {
   "cell_type": "code",
   "execution_count": 364,
   "id": "a0c9c5a5",
   "metadata": {
    "ExecuteTime": {
     "end_time": "2022-05-20T20:35:33.499312Z",
     "start_time": "2022-05-20T20:35:33.430703Z"
    },
    "hidden": true
   },
   "outputs": [],
   "source": [
    "di = {'d1': 10,'d2': 20,'d3': 30,'d4': 40,'d5': 50, };\n",
    "\n",
    "d2 = {'d2': 10,'d2': 20,'d2': 30,'d2': 40,'d2': 50};    "
   ]
  },
  {
   "cell_type": "code",
   "execution_count": 365,
   "id": "04ed3a81",
   "metadata": {
    "ExecuteTime": {
     "end_time": "2022-05-20T20:35:33.578379Z",
     "start_time": "2022-05-20T20:35:33.503288Z"
    },
    "hidden": true
   },
   "outputs": [
    {
     "data": {
      "text/plain": [
       "{'d1': 10, 'd2': 20, 'd3': 30, 'd4': 40, 'd5': 50}"
      ]
     },
     "execution_count": 365,
     "metadata": {},
     "output_type": "execute_result"
    }
   ],
   "source": [
    "di"
   ]
  },
  {
   "cell_type": "code",
   "execution_count": 366,
   "id": "4d8d1df3",
   "metadata": {
    "ExecuteTime": {
     "end_time": "2022-05-20T20:35:33.688214Z",
     "start_time": "2022-05-20T20:35:33.582377Z"
    },
    "hidden": true,
    "scrolled": true
   },
   "outputs": [
    {
     "name": "stdout",
     "output_type": "stream",
     "text": [
      "d1\n",
      "d2\n",
      "d3\n",
      "d4\n",
      "d5\n"
     ]
    }
   ],
   "source": [
    "for i in di:\n",
    "    print(i)"
   ]
  },
  {
   "cell_type": "code",
   "execution_count": 367,
   "id": "08be1eaa",
   "metadata": {
    "ExecuteTime": {
     "end_time": "2022-05-20T20:35:33.768479Z",
     "start_time": "2022-05-20T20:35:33.692210Z"
    },
    "hidden": true
   },
   "outputs": [
    {
     "data": {
      "text/plain": [
       "dict_items([('d1', 10), ('d2', 20), ('d3', 30), ('d4', 40), ('d5', 50)])"
      ]
     },
     "execution_count": 367,
     "metadata": {},
     "output_type": "execute_result"
    }
   ],
   "source": [
    "di.items()"
   ]
  },
  {
   "cell_type": "code",
   "execution_count": 368,
   "id": "6f26d53d",
   "metadata": {
    "ExecuteTime": {
     "end_time": "2022-05-20T20:35:33.844443Z",
     "start_time": "2022-05-20T20:35:33.780462Z"
    },
    "hidden": true
   },
   "outputs": [
    {
     "name": "stdout",
     "output_type": "stream",
     "text": [
      "d1 10\n",
      "d2 20\n",
      "d3 30\n",
      "d4 40\n",
      "d5 50\n"
     ]
    }
   ],
   "source": [
    "for c, v, in di.items():\n",
    "    print( c, v)"
   ]
  },
  {
   "cell_type": "code",
   "execution_count": null,
   "id": "7de2e5db",
   "metadata": {
    "hidden": true
   },
   "outputs": [],
   "source": []
  },
  {
   "cell_type": "markdown",
   "id": "0ae554d2",
   "metadata": {
    "heading_collapsed": true
   },
   "source": [
    "## 1.5. Laços de repetiçoes whille(enquanto)"
   ]
  },
  {
   "cell_type": "code",
   "execution_count": 369,
   "id": "6a5352c7",
   "metadata": {
    "ExecuteTime": {
     "end_time": "2022-05-20T20:35:33.938691Z",
     "start_time": "2022-05-20T20:35:33.850440Z"
    },
    "hidden": true,
    "scrolled": true
   },
   "outputs": [
    {
     "name": "stdout",
     "output_type": "stream",
     "text": [
      "8\n",
      "9\n",
      "10\n"
     ]
    }
   ],
   "source": [
    "k = 8\n",
    "\n",
    "while k <= 10:\n",
    "    print(k)\n",
    "    \n",
    "    k += 1"
   ]
  },
  {
   "cell_type": "markdown",
   "id": "e550ad2b",
   "metadata": {
    "hidden": true
   },
   "source": [
    "**pass, break e continue**"
   ]
  },
  {
   "cell_type": "code",
   "execution_count": 370,
   "id": "889e25b2",
   "metadata": {
    "ExecuteTime": {
     "end_time": "2022-05-20T20:35:34.017387Z",
     "start_time": "2022-05-20T20:35:33.948680Z"
    },
    "hidden": true
   },
   "outputs": [
    {
     "name": "stdout",
     "output_type": "stream",
     "text": [
      "p\n",
      "r\n",
      "o\n",
      "g\n",
      "r\n",
      "a\n",
      "m\n",
      "a\n",
      "d\n",
      "o\n",
      "r\n"
     ]
    }
   ],
   "source": [
    "for letra in 'programador':\n",
    "    if letra == 'a':\n",
    "        pass\n",
    "    print(letra)"
   ]
  },
  {
   "cell_type": "code",
   "execution_count": 371,
   "id": "1941932b",
   "metadata": {
    "ExecuteTime": {
     "end_time": "2022-05-20T20:35:34.109346Z",
     "start_time": "2022-05-20T20:35:34.022381Z"
    },
    "hidden": true
   },
   "outputs": [
    {
     "name": "stdout",
     "output_type": "stream",
     "text": [
      "p\n",
      "r\n",
      "o\n",
      "g\n",
      "r\n",
      "m\n",
      "d\n",
      "o\n",
      "r\n"
     ]
    }
   ],
   "source": [
    "for letra in 'programador':\n",
    "    if letra == 'a':\n",
    "        continue\n",
    "    print(letra)"
   ]
  },
  {
   "cell_type": "code",
   "execution_count": 372,
   "id": "edf87000",
   "metadata": {
    "ExecuteTime": {
     "end_time": "2022-05-20T20:35:34.185258Z",
     "start_time": "2022-05-20T20:35:34.112317Z"
    },
    "hidden": true,
    "scrolled": true
   },
   "outputs": [
    {
     "name": "stdout",
     "output_type": "stream",
     "text": [
      "p\n",
      "r\n",
      "o\n",
      "g\n",
      "r\n"
     ]
    }
   ],
   "source": [
    "for letra in 'programador':\n",
    "    if letra == 'a':\n",
    "        break\n",
    "    print(letra)"
   ]
  },
  {
   "cell_type": "markdown",
   "id": "1bda9cf9",
   "metadata": {
    "heading_collapsed": true
   },
   "source": [
    "## 1.6. Funções"
   ]
  },
  {
   "cell_type": "code",
   "execution_count": 373,
   "id": "72e597fd",
   "metadata": {
    "ExecuteTime": {
     "end_time": "2022-05-20T20:35:34.283106Z",
     "start_time": "2022-05-20T20:35:34.189250Z"
    },
    "hidden": true
   },
   "outputs": [],
   "source": [
    " def print_text():\n",
    "    print('Aqui é um texto qaulquer')"
   ]
  },
  {
   "cell_type": "code",
   "execution_count": 374,
   "id": "691a08e8",
   "metadata": {
    "ExecuteTime": {
     "end_time": "2022-05-20T20:35:34.363320Z",
     "start_time": "2022-05-20T20:35:34.292112Z"
    },
    "hidden": true
   },
   "outputs": [
    {
     "name": "stdout",
     "output_type": "stream",
     "text": [
      "Aqui é um texto qaulquer\n"
     ]
    }
   ],
   "source": [
    "print_text()"
   ]
  },
  {
   "cell_type": "code",
   "execution_count": 375,
   "id": "153df271",
   "metadata": {
    "ExecuteTime": {
     "end_time": "2022-05-20T20:35:34.441325Z",
     "start_time": "2022-05-20T20:35:34.374314Z"
    },
    "hidden": true
   },
   "outputs": [],
   "source": [
    "def print_isto(x):\n",
    "    print(x)"
   ]
  },
  {
   "cell_type": "code",
   "execution_count": 376,
   "id": "bc08ac58",
   "metadata": {
    "ExecuteTime": {
     "end_time": "2022-05-20T20:35:34.537319Z",
     "start_time": "2022-05-20T20:35:34.445302Z"
    },
    "hidden": true
   },
   "outputs": [
    {
     "name": "stdout",
     "output_type": "stream",
     "text": [
      "7958\n"
     ]
    }
   ],
   "source": [
    "print_isto(7958)"
   ]
  },
  {
   "cell_type": "code",
   "execution_count": 377,
   "id": "09fe70b4",
   "metadata": {
    "ExecuteTime": {
     "end_time": "2022-05-20T20:35:34.617327Z",
     "start_time": "2022-05-20T20:35:34.547304Z"
    },
    "hidden": true
   },
   "outputs": [],
   "source": [
    "def potencia(x):\n",
    "    p = x ** 2\n",
    "    return p"
   ]
  },
  {
   "cell_type": "code",
   "execution_count": 378,
   "id": "b165f8ce",
   "metadata": {
    "ExecuteTime": {
     "end_time": "2022-05-20T20:35:34.700496Z",
     "start_time": "2022-05-20T20:35:34.619315Z"
    },
    "hidden": true
   },
   "outputs": [
    {
     "data": {
      "text/plain": [
       "16"
      ]
     },
     "execution_count": 378,
     "metadata": {},
     "output_type": "execute_result"
    }
   ],
   "source": [
    "potencia(4)"
   ]
  },
  {
   "cell_type": "code",
   "execution_count": 379,
   "id": "d56ac161",
   "metadata": {
    "ExecuteTime": {
     "end_time": "2022-05-20T20:35:34.879605Z",
     "start_time": "2022-05-20T20:35:34.704489Z"
    },
    "hidden": true
   },
   "outputs": [],
   "source": [
    "def sub(x):\n",
    "    r = x + 4\n",
    "    return r"
   ]
  },
  {
   "cell_type": "code",
   "execution_count": 380,
   "id": "c3251bc3",
   "metadata": {
    "ExecuteTime": {
     "end_time": "2022-05-20T20:35:34.957648Z",
     "start_time": "2022-05-20T20:35:34.888614Z"
    },
    "hidden": true,
    "scrolled": true
   },
   "outputs": [
    {
     "data": {
      "text/plain": [
       "1004"
      ]
     },
     "execution_count": 380,
     "metadata": {},
     "output_type": "execute_result"
    }
   ],
   "source": [
    "sub (1000)"
   ]
  },
  {
   "cell_type": "code",
   "execution_count": 381,
   "id": "2e930be4",
   "metadata": {
    "ExecuteTime": {
     "end_time": "2022-05-20T20:35:35.050798Z",
     "start_time": "2022-05-20T20:35:34.963644Z"
    },
    "hidden": true
   },
   "outputs": [],
   "source": [
    "def potencia_n(x, n = 2 ):\n",
    "    p = x ** n\n",
    "    return p"
   ]
  },
  {
   "cell_type": "code",
   "execution_count": 382,
   "id": "34b78b69",
   "metadata": {
    "ExecuteTime": {
     "end_time": "2022-05-20T20:35:35.132555Z",
     "start_time": "2022-05-20T20:35:35.061762Z"
    },
    "hidden": true
   },
   "outputs": [
    {
     "data": {
      "text/plain": [
       "25"
      ]
     },
     "execution_count": 382,
     "metadata": {},
     "output_type": "execute_result"
    }
   ],
   "source": [
    "potencia_n(5)"
   ]
  },
  {
   "cell_type": "code",
   "execution_count": 383,
   "id": "7e04ccea",
   "metadata": {
    "ExecuteTime": {
     "end_time": "2022-05-20T20:35:35.211456Z",
     "start_time": "2022-05-20T20:35:35.142540Z"
    },
    "hidden": true,
    "scrolled": true
   },
   "outputs": [
    {
     "data": {
      "text/plain": [
       "125"
      ]
     },
     "execution_count": 383,
     "metadata": {},
     "output_type": "execute_result"
    }
   ],
   "source": [
    "potencia_n(5, 3)"
   ]
  },
  {
   "cell_type": "markdown",
   "id": "008a9cf4",
   "metadata": {},
   "source": [
    "# MÓDULO 2"
   ]
  },
  {
   "cell_type": "markdown",
   "id": "3af1ab15",
   "metadata": {
    "heading_collapsed": true
   },
   "source": [
    "### IMPORTS"
   ]
  },
  {
   "cell_type": "code",
   "execution_count": 384,
   "id": "2b252f97",
   "metadata": {
    "ExecuteTime": {
     "end_time": "2022-05-20T20:35:35.306500Z",
     "start_time": "2022-05-20T20:35:35.215451Z"
    },
    "hidden": true
   },
   "outputs": [],
   "source": [
    "import pandas as pd\n",
    "import numpy as np"
   ]
  },
  {
   "cell_type": "markdown",
   "id": "7a4257ad",
   "metadata": {
    "heading_collapsed": true
   },
   "source": [
    "## 2.1. Dataframes"
   ]
  },
  {
   "cell_type": "code",
   "execution_count": 385,
   "id": "153860d1",
   "metadata": {
    "ExecuteTime": {
     "end_time": "2022-05-20T20:35:35.385316Z",
     "start_time": "2022-05-20T20:35:35.311505Z"
    },
    "hidden": true
   },
   "outputs": [],
   "source": [
    "series = pd.Series([7, 4, 2, np.nan, 6, 9 ])"
   ]
  },
  {
   "cell_type": "code",
   "execution_count": 386,
   "id": "6c6d45b9",
   "metadata": {
    "ExecuteTime": {
     "end_time": "2022-05-20T20:35:35.479522Z",
     "start_time": "2022-05-20T20:35:35.389246Z"
    },
    "hidden": true
   },
   "outputs": [
    {
     "data": {
      "text/plain": [
       "0    7.0\n",
       "1    4.0\n",
       "2    2.0\n",
       "3    NaN\n",
       "4    6.0\n",
       "5    9.0\n",
       "dtype: float64"
      ]
     },
     "execution_count": 386,
     "metadata": {},
     "output_type": "execute_result"
    }
   ],
   "source": [
    "series"
   ]
  },
  {
   "cell_type": "code",
   "execution_count": 387,
   "id": "e6454771",
   "metadata": {
    "ExecuteTime": {
     "end_time": "2022-05-20T20:35:35.574643Z",
     "start_time": "2022-05-20T20:35:35.482517Z"
    },
    "hidden": true
   },
   "outputs": [
    {
     "data": {
      "text/plain": [
       "pandas.core.series.Series"
      ]
     },
     "execution_count": 387,
     "metadata": {},
     "output_type": "execute_result"
    }
   ],
   "source": [
    "type(series)"
   ]
  },
  {
   "cell_type": "code",
   "execution_count": 388,
   "id": "11009877",
   "metadata": {
    "ExecuteTime": {
     "end_time": "2022-05-20T20:35:35.655648Z",
     "start_time": "2022-05-20T20:35:35.580635Z"
    },
    "hidden": true
   },
   "outputs": [],
   "source": [
    "datas = pd.date_range('20220101', periods = 6 )"
   ]
  },
  {
   "cell_type": "code",
   "execution_count": 389,
   "id": "746f19e6",
   "metadata": {
    "ExecuteTime": {
     "end_time": "2022-05-20T20:35:35.764798Z",
     "start_time": "2022-05-20T20:35:35.660614Z"
    },
    "hidden": true
   },
   "outputs": [
    {
     "data": {
      "text/plain": [
       "DatetimeIndex(['2022-01-01', '2022-01-02', '2022-01-03', '2022-01-04',\n",
       "               '2022-01-05', '2022-01-06'],\n",
       "              dtype='datetime64[ns]', freq='D')"
      ]
     },
     "execution_count": 389,
     "metadata": {},
     "output_type": "execute_result"
    }
   ],
   "source": [
    "datas"
   ]
  },
  {
   "cell_type": "code",
   "execution_count": 390,
   "id": "b6f98800",
   "metadata": {
    "ExecuteTime": {
     "end_time": "2022-05-20T20:35:35.827564Z",
     "start_time": "2022-05-20T20:35:35.770790Z"
    },
    "hidden": true
   },
   "outputs": [
    {
     "data": {
      "text/plain": [
       "pandas.core.indexes.datetimes.DatetimeIndex"
      ]
     },
     "execution_count": 390,
     "metadata": {},
     "output_type": "execute_result"
    }
   ],
   "source": [
    "type(datas)"
   ]
  },
  {
   "cell_type": "code",
   "execution_count": 391,
   "id": "e97f7aca",
   "metadata": {
    "ExecuteTime": {
     "end_time": "2022-05-20T20:35:35.921632Z",
     "start_time": "2022-05-20T20:35:35.830541Z"
    },
    "hidden": true
   },
   "outputs": [],
   "source": [
    "df = pd.DataFrame(np.random.randn(6,4), index= datas, columns = list('ABCD'))"
   ]
  },
  {
   "cell_type": "code",
   "execution_count": 392,
   "id": "4a53a4f5",
   "metadata": {
    "ExecuteTime": {
     "end_time": "2022-05-20T20:35:36.000545Z",
     "start_time": "2022-05-20T20:35:35.928624Z"
    },
    "hidden": true
   },
   "outputs": [
    {
     "data": {
      "text/html": [
       "<div>\n",
       "<style scoped>\n",
       "    .dataframe tbody tr th:only-of-type {\n",
       "        vertical-align: middle;\n",
       "    }\n",
       "\n",
       "    .dataframe tbody tr th {\n",
       "        vertical-align: top;\n",
       "    }\n",
       "\n",
       "    .dataframe thead th {\n",
       "        text-align: right;\n",
       "    }\n",
       "</style>\n",
       "<table border=\"1\" class=\"dataframe\">\n",
       "  <thead>\n",
       "    <tr style=\"text-align: right;\">\n",
       "      <th></th>\n",
       "      <th>A</th>\n",
       "      <th>B</th>\n",
       "      <th>C</th>\n",
       "      <th>D</th>\n",
       "    </tr>\n",
       "  </thead>\n",
       "  <tbody>\n",
       "    <tr>\n",
       "      <th>2022-01-01</th>\n",
       "      <td>0.368875</td>\n",
       "      <td>-0.467624</td>\n",
       "      <td>-1.138730</td>\n",
       "      <td>0.353323</td>\n",
       "    </tr>\n",
       "    <tr>\n",
       "      <th>2022-01-02</th>\n",
       "      <td>-0.554092</td>\n",
       "      <td>0.916343</td>\n",
       "      <td>-0.818891</td>\n",
       "      <td>-1.506623</td>\n",
       "    </tr>\n",
       "    <tr>\n",
       "      <th>2022-01-03</th>\n",
       "      <td>-0.725546</td>\n",
       "      <td>0.118226</td>\n",
       "      <td>0.114863</td>\n",
       "      <td>-1.753304</td>\n",
       "    </tr>\n",
       "    <tr>\n",
       "      <th>2022-01-04</th>\n",
       "      <td>-0.350230</td>\n",
       "      <td>-0.822414</td>\n",
       "      <td>-0.426441</td>\n",
       "      <td>-0.563034</td>\n",
       "    </tr>\n",
       "    <tr>\n",
       "      <th>2022-01-05</th>\n",
       "      <td>-0.185482</td>\n",
       "      <td>0.363767</td>\n",
       "      <td>1.361698</td>\n",
       "      <td>-0.677825</td>\n",
       "    </tr>\n",
       "    <tr>\n",
       "      <th>2022-01-06</th>\n",
       "      <td>1.146395</td>\n",
       "      <td>-0.914416</td>\n",
       "      <td>-0.621306</td>\n",
       "      <td>-0.288876</td>\n",
       "    </tr>\n",
       "  </tbody>\n",
       "</table>\n",
       "</div>"
      ],
      "text/plain": [
       "                   A         B         C         D\n",
       "2022-01-01  0.368875 -0.467624 -1.138730  0.353323\n",
       "2022-01-02 -0.554092  0.916343 -0.818891 -1.506623\n",
       "2022-01-03 -0.725546  0.118226  0.114863 -1.753304\n",
       "2022-01-04 -0.350230 -0.822414 -0.426441 -0.563034\n",
       "2022-01-05 -0.185482  0.363767  1.361698 -0.677825\n",
       "2022-01-06  1.146395 -0.914416 -0.621306 -0.288876"
      ]
     },
     "execution_count": 392,
     "metadata": {},
     "output_type": "execute_result"
    }
   ],
   "source": [
    "df"
   ]
  },
  {
   "cell_type": "code",
   "execution_count": 393,
   "id": "2b9cfbf3",
   "metadata": {
    "ExecuteTime": {
     "end_time": "2022-05-20T20:35:36.095460Z",
     "start_time": "2022-05-20T20:35:36.003545Z"
    },
    "hidden": true
   },
   "outputs": [],
   "source": [
    "df2 = pd.DataFrame({'A': 7,\n",
    "                    'B': pd.Timestamp('20220101'),\n",
    "                    'C': pd.Series(1, index=list(range(4)), dtype = 'float32'),\n",
    "                    'D': np.array([3] * 4, dtype = 'int32'), \n",
    "                    'E': pd.Categorical(['test', 'train', 'test', 'train']),\n",
    "                    'F': 'Python'})"
   ]
  },
  {
   "cell_type": "code",
   "execution_count": 394,
   "id": "a0067612",
   "metadata": {
    "ExecuteTime": {
     "end_time": "2022-05-20T20:35:36.190660Z",
     "start_time": "2022-05-20T20:35:36.098439Z"
    },
    "hidden": true
   },
   "outputs": [
    {
     "data": {
      "text/html": [
       "<div>\n",
       "<style scoped>\n",
       "    .dataframe tbody tr th:only-of-type {\n",
       "        vertical-align: middle;\n",
       "    }\n",
       "\n",
       "    .dataframe tbody tr th {\n",
       "        vertical-align: top;\n",
       "    }\n",
       "\n",
       "    .dataframe thead th {\n",
       "        text-align: right;\n",
       "    }\n",
       "</style>\n",
       "<table border=\"1\" class=\"dataframe\">\n",
       "  <thead>\n",
       "    <tr style=\"text-align: right;\">\n",
       "      <th></th>\n",
       "      <th>A</th>\n",
       "      <th>B</th>\n",
       "      <th>C</th>\n",
       "      <th>D</th>\n",
       "      <th>E</th>\n",
       "      <th>F</th>\n",
       "    </tr>\n",
       "  </thead>\n",
       "  <tbody>\n",
       "    <tr>\n",
       "      <th>0</th>\n",
       "      <td>7</td>\n",
       "      <td>2022-01-01</td>\n",
       "      <td>1.0</td>\n",
       "      <td>3</td>\n",
       "      <td>test</td>\n",
       "      <td>Python</td>\n",
       "    </tr>\n",
       "    <tr>\n",
       "      <th>1</th>\n",
       "      <td>7</td>\n",
       "      <td>2022-01-01</td>\n",
       "      <td>1.0</td>\n",
       "      <td>3</td>\n",
       "      <td>train</td>\n",
       "      <td>Python</td>\n",
       "    </tr>\n",
       "    <tr>\n",
       "      <th>2</th>\n",
       "      <td>7</td>\n",
       "      <td>2022-01-01</td>\n",
       "      <td>1.0</td>\n",
       "      <td>3</td>\n",
       "      <td>test</td>\n",
       "      <td>Python</td>\n",
       "    </tr>\n",
       "    <tr>\n",
       "      <th>3</th>\n",
       "      <td>7</td>\n",
       "      <td>2022-01-01</td>\n",
       "      <td>1.0</td>\n",
       "      <td>3</td>\n",
       "      <td>train</td>\n",
       "      <td>Python</td>\n",
       "    </tr>\n",
       "  </tbody>\n",
       "</table>\n",
       "</div>"
      ],
      "text/plain": [
       "   A          B    C  D      E       F\n",
       "0  7 2022-01-01  1.0  3   test  Python\n",
       "1  7 2022-01-01  1.0  3  train  Python\n",
       "2  7 2022-01-01  1.0  3   test  Python\n",
       "3  7 2022-01-01  1.0  3  train  Python"
      ]
     },
     "execution_count": 394,
     "metadata": {},
     "output_type": "execute_result"
    }
   ],
   "source": [
    "df2"
   ]
  },
  {
   "cell_type": "code",
   "execution_count": 395,
   "id": "84f8cb20",
   "metadata": {
    "ExecuteTime": {
     "end_time": "2022-05-20T20:35:36.283870Z",
     "start_time": "2022-05-20T20:35:36.193663Z"
    },
    "hidden": true
   },
   "outputs": [
    {
     "data": {
      "text/plain": [
       "A             int64\n",
       "B    datetime64[ns]\n",
       "C           float32\n",
       "D             int32\n",
       "E          category\n",
       "F            object\n",
       "dtype: object"
      ]
     },
     "execution_count": 395,
     "metadata": {},
     "output_type": "execute_result"
    }
   ],
   "source": [
    "df2.dtypes"
   ]
  },
  {
   "cell_type": "markdown",
   "id": "80b65a37",
   "metadata": {
    "heading_collapsed": true
   },
   "source": [
    "## 2.2. Merge "
   ]
  },
  {
   "cell_type": "code",
   "execution_count": 396,
   "id": "f0389fba",
   "metadata": {
    "ExecuteTime": {
     "end_time": "2022-05-20T20:35:36.382678Z",
     "start_time": "2022-05-20T20:35:36.286835Z"
    },
    "hidden": true,
    "scrolled": true
   },
   "outputs": [
    {
     "data": {
      "text/html": [
       "<div>\n",
       "<style scoped>\n",
       "    .dataframe tbody tr th:only-of-type {\n",
       "        vertical-align: middle;\n",
       "    }\n",
       "\n",
       "    .dataframe tbody tr th {\n",
       "        vertical-align: top;\n",
       "    }\n",
       "\n",
       "    .dataframe thead th {\n",
       "        text-align: right;\n",
       "    }\n",
       "</style>\n",
       "<table border=\"1\" class=\"dataframe\">\n",
       "  <thead>\n",
       "    <tr style=\"text-align: right;\">\n",
       "      <th></th>\n",
       "      <th>Id</th>\n",
       "      <th>Nome</th>\n",
       "      <th>Idade</th>\n",
       "      <th>CEP</th>\n",
       "    </tr>\n",
       "  </thead>\n",
       "  <tbody>\n",
       "    <tr>\n",
       "      <th>0</th>\n",
       "      <td>AA2930</td>\n",
       "      <td>Victor</td>\n",
       "      <td>20</td>\n",
       "      <td>00092-029</td>\n",
       "    </tr>\n",
       "    <tr>\n",
       "      <th>1</th>\n",
       "      <td>BB4563</td>\n",
       "      <td>Amanda</td>\n",
       "      <td>35</td>\n",
       "      <td>11111-111</td>\n",
       "    </tr>\n",
       "    <tr>\n",
       "      <th>2</th>\n",
       "      <td>CC2139</td>\n",
       "      <td>Bruna</td>\n",
       "      <td>40</td>\n",
       "      <td>22222-888</td>\n",
       "    </tr>\n",
       "    <tr>\n",
       "      <th>3</th>\n",
       "      <td>DE2521</td>\n",
       "      <td>Carlos</td>\n",
       "      <td>54</td>\n",
       "      <td>00000-999</td>\n",
       "    </tr>\n",
       "    <tr>\n",
       "      <th>4</th>\n",
       "      <td>GT3462</td>\n",
       "      <td>Ricardo</td>\n",
       "      <td>30</td>\n",
       "      <td>88888-111</td>\n",
       "    </tr>\n",
       "    <tr>\n",
       "      <th>5</th>\n",
       "      <td>HH1158</td>\n",
       "      <td>Maria</td>\n",
       "      <td>27</td>\n",
       "      <td>77777-666</td>\n",
       "    </tr>\n",
       "  </tbody>\n",
       "</table>\n",
       "</div>"
      ],
      "text/plain": [
       "       Id     Nome  Idade        CEP\n",
       "0  AA2930   Victor     20  00092-029\n",
       "1  BB4563   Amanda     35  11111-111\n",
       "2  CC2139    Bruna     40  22222-888\n",
       "3  DE2521   Carlos     54  00000-999\n",
       "4  GT3462  Ricardo     30  88888-111\n",
       "5  HH1158    Maria     27  77777-666"
      ]
     },
     "execution_count": 396,
     "metadata": {},
     "output_type": "execute_result"
    }
   ],
   "source": [
    "# Cadastro da loja a\n",
    "cadastro_a = {'Id': ['AA2930','BB4563','CC2139','DE2521','GT3462','HH1158'],\n",
    "            'Nome':  ['Victor', 'Amanda', 'Bruna', 'Carlos', 'Ricardo', 'Maria'],\n",
    "            'Idade': [20,35,40,54,30,27],\n",
    "            'CEP': ['00092-029','11111-111','22222-888','00000-999','88888-111','77777-666']\n",
    "           }\n",
    "\n",
    "cadastro_a = pd.DataFrame(cadastro_a, columns = ['Id','Nome','Idade','CEP'])\n",
    "cadastro_a"
   ]
  },
  {
   "cell_type": "code",
   "execution_count": 397,
   "id": "6fb38b65",
   "metadata": {
    "ExecuteTime": {
     "end_time": "2022-05-20T20:35:36.492183Z",
     "start_time": "2022-05-20T20:35:36.391668Z"
    },
    "hidden": true,
    "scrolled": false
   },
   "outputs": [
    {
     "data": {
      "text/html": [
       "<div>\n",
       "<style scoped>\n",
       "    .dataframe tbody tr th:only-of-type {\n",
       "        vertical-align: middle;\n",
       "    }\n",
       "\n",
       "    .dataframe tbody tr th {\n",
       "        vertical-align: top;\n",
       "    }\n",
       "\n",
       "    .dataframe thead th {\n",
       "        text-align: right;\n",
       "    }\n",
       "</style>\n",
       "<table border=\"1\" class=\"dataframe\">\n",
       "  <thead>\n",
       "    <tr style=\"text-align: right;\">\n",
       "      <th></th>\n",
       "      <th>Id</th>\n",
       "      <th>Nome</th>\n",
       "      <th>Idade</th>\n",
       "      <th>CEP</th>\n",
       "    </tr>\n",
       "  </thead>\n",
       "  <tbody>\n",
       "    <tr>\n",
       "      <th>0</th>\n",
       "      <td>CC9999</td>\n",
       "      <td>Marcos</td>\n",
       "      <td>19</td>\n",
       "      <td>00092-029</td>\n",
       "    </tr>\n",
       "    <tr>\n",
       "      <th>1</th>\n",
       "      <td>EF4488</td>\n",
       "      <td>Patricia</td>\n",
       "      <td>30</td>\n",
       "      <td>11111-111</td>\n",
       "    </tr>\n",
       "    <tr>\n",
       "      <th>2</th>\n",
       "      <td>DD9999</td>\n",
       "      <td>Ericka</td>\n",
       "      <td>22</td>\n",
       "      <td>11111-888</td>\n",
       "    </tr>\n",
       "    <tr>\n",
       "      <th>3</th>\n",
       "      <td>GT3462</td>\n",
       "      <td>Ricardo</td>\n",
       "      <td>30</td>\n",
       "      <td>88888-111</td>\n",
       "    </tr>\n",
       "    <tr>\n",
       "      <th>4</th>\n",
       "      <td>HH1158</td>\n",
       "      <td>Maria</td>\n",
       "      <td>27</td>\n",
       "      <td>77777-666</td>\n",
       "    </tr>\n",
       "  </tbody>\n",
       "</table>\n",
       "</div>"
      ],
      "text/plain": [
       "       Id      Nome  Idade        CEP\n",
       "0  CC9999    Marcos     19  00092-029\n",
       "1  EF4488  Patricia     30  11111-111\n",
       "2  DD9999    Ericka     22  11111-888\n",
       "3  GT3462   Ricardo     30  88888-111\n",
       "4  HH1158     Maria     27  77777-666"
      ]
     },
     "execution_count": 397,
     "metadata": {},
     "output_type": "execute_result"
    }
   ],
   "source": [
    "# Cadastro da loja b\n",
    "cadastro_b = {'Id': ['CC9999','EF4488','DD9999','GT3462','HH1158'],\n",
    "            'Nome':  ['Marcos', 'Patricia', 'Ericka', 'Ricardo', 'Maria'],\n",
    "            'Idade': [19,30,22,30,27],\n",
    "            'CEP': ['00092-029','11111-111','11111-888','88888-111','77777-666']\n",
    "           }\n",
    " \n",
    "cadastro_b = pd.DataFrame(cadastro_b, columns = ['Id','Nome','Idade','CEP'])\n",
    "cadastro_b"
   ]
  },
  {
   "cell_type": "code",
   "execution_count": 398,
   "id": "ccbd6af6",
   "metadata": {
    "ExecuteTime": {
     "end_time": "2022-05-20T20:35:36.587040Z",
     "start_time": "2022-05-20T20:35:36.514179Z"
    },
    "hidden": true,
    "scrolled": false
   },
   "outputs": [
    {
     "data": {
      "text/html": [
       "<div>\n",
       "<style scoped>\n",
       "    .dataframe tbody tr th:only-of-type {\n",
       "        vertical-align: middle;\n",
       "    }\n",
       "\n",
       "    .dataframe tbody tr th {\n",
       "        vertical-align: top;\n",
       "    }\n",
       "\n",
       "    .dataframe thead th {\n",
       "        text-align: right;\n",
       "    }\n",
       "</style>\n",
       "<table border=\"1\" class=\"dataframe\">\n",
       "  <thead>\n",
       "    <tr style=\"text-align: right;\">\n",
       "      <th></th>\n",
       "      <th>Id</th>\n",
       "      <th>Data</th>\n",
       "      <th>Valor</th>\n",
       "    </tr>\n",
       "  </thead>\n",
       "  <tbody>\n",
       "    <tr>\n",
       "      <th>0</th>\n",
       "      <td>AA2930</td>\n",
       "      <td>2019-01-01</td>\n",
       "      <td>200</td>\n",
       "    </tr>\n",
       "    <tr>\n",
       "      <th>1</th>\n",
       "      <td>EF4488</td>\n",
       "      <td>2019-01-30</td>\n",
       "      <td>100</td>\n",
       "    </tr>\n",
       "    <tr>\n",
       "      <th>2</th>\n",
       "      <td>CC2139</td>\n",
       "      <td>2019-01-30</td>\n",
       "      <td>40</td>\n",
       "    </tr>\n",
       "    <tr>\n",
       "      <th>3</th>\n",
       "      <td>EF4488</td>\n",
       "      <td>2019-02-01</td>\n",
       "      <td>150</td>\n",
       "    </tr>\n",
       "    <tr>\n",
       "      <th>4</th>\n",
       "      <td>CC9999</td>\n",
       "      <td>2019-02-20</td>\n",
       "      <td>300</td>\n",
       "    </tr>\n",
       "    <tr>\n",
       "      <th>5</th>\n",
       "      <td>AA2930</td>\n",
       "      <td>2019-03-15</td>\n",
       "      <td>25</td>\n",
       "    </tr>\n",
       "    <tr>\n",
       "      <th>6</th>\n",
       "      <td>HH1158</td>\n",
       "      <td>2019-04-01</td>\n",
       "      <td>50</td>\n",
       "    </tr>\n",
       "    <tr>\n",
       "      <th>7</th>\n",
       "      <td>HH1158</td>\n",
       "      <td>2019-04-10</td>\n",
       "      <td>500</td>\n",
       "    </tr>\n",
       "  </tbody>\n",
       "</table>\n",
       "</div>"
      ],
      "text/plain": [
       "       Id        Data  Valor\n",
       "0  AA2930  2019-01-01    200\n",
       "1  EF4488  2019-01-30    100\n",
       "2  CC2139  2019-01-30     40\n",
       "3  EF4488  2019-02-01    150\n",
       "4  CC9999  2019-02-20    300\n",
       "5  AA2930  2019-03-15     25\n",
       "6  HH1158  2019-04-01     50\n",
       "7  HH1158  2019-04-10    500"
      ]
     },
     "execution_count": 398,
     "metadata": {},
     "output_type": "execute_result"
    }
   ],
   "source": [
    "# Registro de compras de todas unidades\n",
    "compras = {'Id': ['AA2930','EF4488','CC2139','EF4488','CC9999','AA2930','HH1158','HH1158'],\n",
    "            'Data':  ['2019-01-01','2019-01-30','2019-01-30','2019-02-01','2019-02-20','2019-03-15','2019-04-01','2019-04-10'],\n",
    "            'Valor': [200,100,40,150,300,25,50,500]\n",
    "           }\n",
    " \n",
    "compras = pd.DataFrame(compras, columns = ['Id','Data','Valor'])\n",
    "\n",
    "compras"
   ]
  },
  {
   "cell_type": "markdown",
   "id": "61ed0e01",
   "metadata": {
    "hidden": true
   },
   "source": [
    "* Merge **inner join** junta a interceção entre as tabelas"
   ]
  },
  {
   "cell_type": "code",
   "execution_count": 399,
   "id": "2021de31",
   "metadata": {
    "ExecuteTime": {
     "end_time": "2022-05-20T20:35:36.677197Z",
     "start_time": "2022-05-20T20:35:36.594029Z"
    },
    "hidden": true,
    "scrolled": true
   },
   "outputs": [
    {
     "data": {
      "text/html": [
       "<div>\n",
       "<style scoped>\n",
       "    .dataframe tbody tr th:only-of-type {\n",
       "        vertical-align: middle;\n",
       "    }\n",
       "\n",
       "    .dataframe tbody tr th {\n",
       "        vertical-align: top;\n",
       "    }\n",
       "\n",
       "    .dataframe thead th {\n",
       "        text-align: right;\n",
       "    }\n",
       "</style>\n",
       "<table border=\"1\" class=\"dataframe\">\n",
       "  <thead>\n",
       "    <tr style=\"text-align: right;\">\n",
       "      <th></th>\n",
       "      <th>Id</th>\n",
       "      <th>Nome</th>\n",
       "      <th>Idade_A</th>\n",
       "      <th>CEP_A</th>\n",
       "      <th>Idade_B</th>\n",
       "      <th>CEP_B</th>\n",
       "    </tr>\n",
       "  </thead>\n",
       "  <tbody>\n",
       "    <tr>\n",
       "      <th>0</th>\n",
       "      <td>GT3462</td>\n",
       "      <td>Ricardo</td>\n",
       "      <td>30</td>\n",
       "      <td>88888-111</td>\n",
       "      <td>30</td>\n",
       "      <td>88888-111</td>\n",
       "    </tr>\n",
       "    <tr>\n",
       "      <th>1</th>\n",
       "      <td>HH1158</td>\n",
       "      <td>Maria</td>\n",
       "      <td>27</td>\n",
       "      <td>77777-666</td>\n",
       "      <td>27</td>\n",
       "      <td>77777-666</td>\n",
       "    </tr>\n",
       "  </tbody>\n",
       "</table>\n",
       "</div>"
      ],
      "text/plain": [
       "       Id     Nome  Idade_A      CEP_A  Idade_B      CEP_B\n",
       "0  GT3462  Ricardo       30  88888-111       30  88888-111\n",
       "1  HH1158    Maria       27  77777-666       27  77777-666"
      ]
     },
     "execution_count": 399,
     "metadata": {},
     "output_type": "execute_result"
    }
   ],
   "source": [
    "pd.merge(cadastro_a, cadastro_b[['Id', 'Idade', 'CEP']], on= ['Id'], how='inner', suffixes= ('_A', '_B'))"
   ]
  },
  {
   "cell_type": "markdown",
   "id": "243df605",
   "metadata": {
    "hidden": true
   },
   "source": [
    "* Merge **full join** junta a todas as informações das tabelas"
   ]
  },
  {
   "cell_type": "code",
   "execution_count": 400,
   "id": "c52daa88",
   "metadata": {
    "ExecuteTime": {
     "end_time": "2022-05-20T20:35:36.857923Z",
     "start_time": "2022-05-20T20:35:36.680198Z"
    },
    "hidden": true
   },
   "outputs": [],
   "source": [
    "lojas = pd.concat([cadastro_a, cadastro_b], ignore_index= True)"
   ]
  },
  {
   "cell_type": "code",
   "execution_count": 401,
   "id": "2c4191e8",
   "metadata": {
    "ExecuteTime": {
     "end_time": "2022-05-20T20:35:36.934985Z",
     "start_time": "2022-05-20T20:35:36.867937Z"
    },
    "hidden": true
   },
   "outputs": [],
   "source": [
    "clientes_unicos = lojas.drop_duplicates(subset=['Id'])"
   ]
  },
  {
   "cell_type": "code",
   "execution_count": 402,
   "id": "a76b2d84",
   "metadata": {
    "ExecuteTime": {
     "end_time": "2022-05-20T20:35:37.028669Z",
     "start_time": "2022-05-20T20:35:36.940006Z"
    },
    "hidden": true,
    "scrolled": true
   },
   "outputs": [
    {
     "data": {
      "text/html": [
       "<div>\n",
       "<style scoped>\n",
       "    .dataframe tbody tr th:only-of-type {\n",
       "        vertical-align: middle;\n",
       "    }\n",
       "\n",
       "    .dataframe tbody tr th {\n",
       "        vertical-align: top;\n",
       "    }\n",
       "\n",
       "    .dataframe thead th {\n",
       "        text-align: right;\n",
       "    }\n",
       "</style>\n",
       "<table border=\"1\" class=\"dataframe\">\n",
       "  <thead>\n",
       "    <tr style=\"text-align: right;\">\n",
       "      <th></th>\n",
       "      <th>Id</th>\n",
       "      <th>Nome</th>\n",
       "      <th>Idade</th>\n",
       "      <th>CEP</th>\n",
       "    </tr>\n",
       "  </thead>\n",
       "  <tbody>\n",
       "    <tr>\n",
       "      <th>0</th>\n",
       "      <td>AA2930</td>\n",
       "      <td>Victor</td>\n",
       "      <td>20</td>\n",
       "      <td>00092-029</td>\n",
       "    </tr>\n",
       "    <tr>\n",
       "      <th>1</th>\n",
       "      <td>BB4563</td>\n",
       "      <td>Amanda</td>\n",
       "      <td>35</td>\n",
       "      <td>11111-111</td>\n",
       "    </tr>\n",
       "    <tr>\n",
       "      <th>2</th>\n",
       "      <td>CC2139</td>\n",
       "      <td>Bruna</td>\n",
       "      <td>40</td>\n",
       "      <td>22222-888</td>\n",
       "    </tr>\n",
       "    <tr>\n",
       "      <th>3</th>\n",
       "      <td>DE2521</td>\n",
       "      <td>Carlos</td>\n",
       "      <td>54</td>\n",
       "      <td>00000-999</td>\n",
       "    </tr>\n",
       "    <tr>\n",
       "      <th>4</th>\n",
       "      <td>GT3462</td>\n",
       "      <td>Ricardo</td>\n",
       "      <td>30</td>\n",
       "      <td>88888-111</td>\n",
       "    </tr>\n",
       "    <tr>\n",
       "      <th>5</th>\n",
       "      <td>HH1158</td>\n",
       "      <td>Maria</td>\n",
       "      <td>27</td>\n",
       "      <td>77777-666</td>\n",
       "    </tr>\n",
       "    <tr>\n",
       "      <th>6</th>\n",
       "      <td>CC9999</td>\n",
       "      <td>Marcos</td>\n",
       "      <td>19</td>\n",
       "      <td>00092-029</td>\n",
       "    </tr>\n",
       "    <tr>\n",
       "      <th>7</th>\n",
       "      <td>EF4488</td>\n",
       "      <td>Patricia</td>\n",
       "      <td>30</td>\n",
       "      <td>11111-111</td>\n",
       "    </tr>\n",
       "    <tr>\n",
       "      <th>8</th>\n",
       "      <td>DD9999</td>\n",
       "      <td>Ericka</td>\n",
       "      <td>22</td>\n",
       "      <td>11111-888</td>\n",
       "    </tr>\n",
       "  </tbody>\n",
       "</table>\n",
       "</div>"
      ],
      "text/plain": [
       "       Id      Nome  Idade        CEP\n",
       "0  AA2930    Victor     20  00092-029\n",
       "1  BB4563    Amanda     35  11111-111\n",
       "2  CC2139     Bruna     40  22222-888\n",
       "3  DE2521    Carlos     54  00000-999\n",
       "4  GT3462   Ricardo     30  88888-111\n",
       "5  HH1158     Maria     27  77777-666\n",
       "6  CC9999    Marcos     19  00092-029\n",
       "7  EF4488  Patricia     30  11111-111\n",
       "8  DD9999    Ericka     22  11111-888"
      ]
     },
     "execution_count": 402,
     "metadata": {},
     "output_type": "execute_result"
    }
   ],
   "source": [
    "clientes_unicos"
   ]
  },
  {
   "cell_type": "markdown",
   "id": "56bf2238",
   "metadata": {
    "hidden": true
   },
   "source": [
    "* Merge **left join** junta informações do lado esquerdo da tabela "
   ]
  },
  {
   "cell_type": "code",
   "execution_count": 403,
   "id": "81fe873d",
   "metadata": {
    "ExecuteTime": {
     "end_time": "2022-05-20T20:35:37.145942Z",
     "start_time": "2022-05-20T20:35:37.035661Z"
    },
    "hidden": true,
    "scrolled": true
   },
   "outputs": [],
   "source": [
    "esquerda = pd.merge(cadastro_a, compras, how='left', on=['Id'])"
   ]
  },
  {
   "cell_type": "code",
   "execution_count": 404,
   "id": "a83b8568",
   "metadata": {
    "ExecuteTime": {
     "end_time": "2022-05-20T20:35:37.224699Z",
     "start_time": "2022-05-20T20:35:37.154954Z"
    },
    "hidden": true,
    "scrolled": true
   },
   "outputs": [
    {
     "data": {
      "text/html": [
       "<div>\n",
       "<style scoped>\n",
       "    .dataframe tbody tr th:only-of-type {\n",
       "        vertical-align: middle;\n",
       "    }\n",
       "\n",
       "    .dataframe tbody tr th {\n",
       "        vertical-align: top;\n",
       "    }\n",
       "\n",
       "    .dataframe thead th {\n",
       "        text-align: right;\n",
       "    }\n",
       "</style>\n",
       "<table border=\"1\" class=\"dataframe\">\n",
       "  <thead>\n",
       "    <tr style=\"text-align: right;\">\n",
       "      <th></th>\n",
       "      <th>Id</th>\n",
       "      <th>Data</th>\n",
       "      <th>Valor</th>\n",
       "    </tr>\n",
       "  </thead>\n",
       "  <tbody>\n",
       "    <tr>\n",
       "      <th>0</th>\n",
       "      <td>AA2930</td>\n",
       "      <td>2019-01-01</td>\n",
       "      <td>200</td>\n",
       "    </tr>\n",
       "    <tr>\n",
       "      <th>1</th>\n",
       "      <td>EF4488</td>\n",
       "      <td>2019-01-30</td>\n",
       "      <td>100</td>\n",
       "    </tr>\n",
       "    <tr>\n",
       "      <th>2</th>\n",
       "      <td>CC2139</td>\n",
       "      <td>2019-01-30</td>\n",
       "      <td>40</td>\n",
       "    </tr>\n",
       "    <tr>\n",
       "      <th>3</th>\n",
       "      <td>EF4488</td>\n",
       "      <td>2019-02-01</td>\n",
       "      <td>150</td>\n",
       "    </tr>\n",
       "    <tr>\n",
       "      <th>4</th>\n",
       "      <td>CC9999</td>\n",
       "      <td>2019-02-20</td>\n",
       "      <td>300</td>\n",
       "    </tr>\n",
       "    <tr>\n",
       "      <th>5</th>\n",
       "      <td>AA2930</td>\n",
       "      <td>2019-03-15</td>\n",
       "      <td>25</td>\n",
       "    </tr>\n",
       "    <tr>\n",
       "      <th>6</th>\n",
       "      <td>HH1158</td>\n",
       "      <td>2019-04-01</td>\n",
       "      <td>50</td>\n",
       "    </tr>\n",
       "    <tr>\n",
       "      <th>7</th>\n",
       "      <td>HH1158</td>\n",
       "      <td>2019-04-10</td>\n",
       "      <td>500</td>\n",
       "    </tr>\n",
       "  </tbody>\n",
       "</table>\n",
       "</div>"
      ],
      "text/plain": [
       "       Id        Data  Valor\n",
       "0  AA2930  2019-01-01    200\n",
       "1  EF4488  2019-01-30    100\n",
       "2  CC2139  2019-01-30     40\n",
       "3  EF4488  2019-02-01    150\n",
       "4  CC9999  2019-02-20    300\n",
       "5  AA2930  2019-03-15     25\n",
       "6  HH1158  2019-04-01     50\n",
       "7  HH1158  2019-04-10    500"
      ]
     },
     "execution_count": 404,
     "metadata": {},
     "output_type": "execute_result"
    }
   ],
   "source": [
    "compras"
   ]
  },
  {
   "cell_type": "code",
   "execution_count": 405,
   "id": "751107f5",
   "metadata": {
    "ExecuteTime": {
     "end_time": "2022-05-20T20:35:37.330324Z",
     "start_time": "2022-05-20T20:35:37.227691Z"
    },
    "hidden": true
   },
   "outputs": [
    {
     "data": {
      "text/html": [
       "<div>\n",
       "<style scoped>\n",
       "    .dataframe tbody tr th:only-of-type {\n",
       "        vertical-align: middle;\n",
       "    }\n",
       "\n",
       "    .dataframe tbody tr th {\n",
       "        vertical-align: top;\n",
       "    }\n",
       "\n",
       "    .dataframe thead th {\n",
       "        text-align: right;\n",
       "    }\n",
       "</style>\n",
       "<table border=\"1\" class=\"dataframe\">\n",
       "  <thead>\n",
       "    <tr style=\"text-align: right;\">\n",
       "      <th></th>\n",
       "      <th>Id</th>\n",
       "      <th>Nome</th>\n",
       "      <th>Idade</th>\n",
       "      <th>CEP</th>\n",
       "    </tr>\n",
       "  </thead>\n",
       "  <tbody>\n",
       "    <tr>\n",
       "      <th>0</th>\n",
       "      <td>AA2930</td>\n",
       "      <td>Victor</td>\n",
       "      <td>20</td>\n",
       "      <td>00092-029</td>\n",
       "    </tr>\n",
       "    <tr>\n",
       "      <th>1</th>\n",
       "      <td>BB4563</td>\n",
       "      <td>Amanda</td>\n",
       "      <td>35</td>\n",
       "      <td>11111-111</td>\n",
       "    </tr>\n",
       "    <tr>\n",
       "      <th>2</th>\n",
       "      <td>CC2139</td>\n",
       "      <td>Bruna</td>\n",
       "      <td>40</td>\n",
       "      <td>22222-888</td>\n",
       "    </tr>\n",
       "    <tr>\n",
       "      <th>3</th>\n",
       "      <td>DE2521</td>\n",
       "      <td>Carlos</td>\n",
       "      <td>54</td>\n",
       "      <td>00000-999</td>\n",
       "    </tr>\n",
       "    <tr>\n",
       "      <th>4</th>\n",
       "      <td>GT3462</td>\n",
       "      <td>Ricardo</td>\n",
       "      <td>30</td>\n",
       "      <td>88888-111</td>\n",
       "    </tr>\n",
       "    <tr>\n",
       "      <th>5</th>\n",
       "      <td>HH1158</td>\n",
       "      <td>Maria</td>\n",
       "      <td>27</td>\n",
       "      <td>77777-666</td>\n",
       "    </tr>\n",
       "  </tbody>\n",
       "</table>\n",
       "</div>"
      ],
      "text/plain": [
       "       Id     Nome  Idade        CEP\n",
       "0  AA2930   Victor     20  00092-029\n",
       "1  BB4563   Amanda     35  11111-111\n",
       "2  CC2139    Bruna     40  22222-888\n",
       "3  DE2521   Carlos     54  00000-999\n",
       "4  GT3462  Ricardo     30  88888-111\n",
       "5  HH1158    Maria     27  77777-666"
      ]
     },
     "execution_count": 405,
     "metadata": {},
     "output_type": "execute_result"
    }
   ],
   "source": [
    "cadastro_a"
   ]
  },
  {
   "cell_type": "code",
   "execution_count": 406,
   "id": "94bded05",
   "metadata": {
    "ExecuteTime": {
     "end_time": "2022-05-20T20:35:37.445033Z",
     "start_time": "2022-05-20T20:35:37.334324Z"
    },
    "hidden": true,
    "scrolled": false
   },
   "outputs": [
    {
     "data": {
      "text/html": [
       "<div>\n",
       "<style scoped>\n",
       "    .dataframe tbody tr th:only-of-type {\n",
       "        vertical-align: middle;\n",
       "    }\n",
       "\n",
       "    .dataframe tbody tr th {\n",
       "        vertical-align: top;\n",
       "    }\n",
       "\n",
       "    .dataframe thead th {\n",
       "        text-align: right;\n",
       "    }\n",
       "</style>\n",
       "<table border=\"1\" class=\"dataframe\">\n",
       "  <thead>\n",
       "    <tr style=\"text-align: right;\">\n",
       "      <th></th>\n",
       "      <th>Id</th>\n",
       "      <th>Nome</th>\n",
       "      <th>Idade</th>\n",
       "      <th>CEP</th>\n",
       "      <th>Data</th>\n",
       "      <th>Valor</th>\n",
       "    </tr>\n",
       "  </thead>\n",
       "  <tbody>\n",
       "    <tr>\n",
       "      <th>0</th>\n",
       "      <td>AA2930</td>\n",
       "      <td>Victor</td>\n",
       "      <td>20</td>\n",
       "      <td>00092-029</td>\n",
       "      <td>2019-01-01</td>\n",
       "      <td>200.0</td>\n",
       "    </tr>\n",
       "    <tr>\n",
       "      <th>1</th>\n",
       "      <td>AA2930</td>\n",
       "      <td>Victor</td>\n",
       "      <td>20</td>\n",
       "      <td>00092-029</td>\n",
       "      <td>2019-03-15</td>\n",
       "      <td>25.0</td>\n",
       "    </tr>\n",
       "    <tr>\n",
       "      <th>2</th>\n",
       "      <td>BB4563</td>\n",
       "      <td>Amanda</td>\n",
       "      <td>35</td>\n",
       "      <td>11111-111</td>\n",
       "      <td>NaN</td>\n",
       "      <td>NaN</td>\n",
       "    </tr>\n",
       "    <tr>\n",
       "      <th>3</th>\n",
       "      <td>CC2139</td>\n",
       "      <td>Bruna</td>\n",
       "      <td>40</td>\n",
       "      <td>22222-888</td>\n",
       "      <td>2019-01-30</td>\n",
       "      <td>40.0</td>\n",
       "    </tr>\n",
       "    <tr>\n",
       "      <th>4</th>\n",
       "      <td>DE2521</td>\n",
       "      <td>Carlos</td>\n",
       "      <td>54</td>\n",
       "      <td>00000-999</td>\n",
       "      <td>NaN</td>\n",
       "      <td>NaN</td>\n",
       "    </tr>\n",
       "    <tr>\n",
       "      <th>5</th>\n",
       "      <td>GT3462</td>\n",
       "      <td>Ricardo</td>\n",
       "      <td>30</td>\n",
       "      <td>88888-111</td>\n",
       "      <td>NaN</td>\n",
       "      <td>NaN</td>\n",
       "    </tr>\n",
       "    <tr>\n",
       "      <th>6</th>\n",
       "      <td>HH1158</td>\n",
       "      <td>Maria</td>\n",
       "      <td>27</td>\n",
       "      <td>77777-666</td>\n",
       "      <td>2019-04-01</td>\n",
       "      <td>50.0</td>\n",
       "    </tr>\n",
       "    <tr>\n",
       "      <th>7</th>\n",
       "      <td>HH1158</td>\n",
       "      <td>Maria</td>\n",
       "      <td>27</td>\n",
       "      <td>77777-666</td>\n",
       "      <td>2019-04-10</td>\n",
       "      <td>500.0</td>\n",
       "    </tr>\n",
       "  </tbody>\n",
       "</table>\n",
       "</div>"
      ],
      "text/plain": [
       "       Id     Nome  Idade        CEP        Data  Valor\n",
       "0  AA2930   Victor     20  00092-029  2019-01-01  200.0\n",
       "1  AA2930   Victor     20  00092-029  2019-03-15   25.0\n",
       "2  BB4563   Amanda     35  11111-111         NaN    NaN\n",
       "3  CC2139    Bruna     40  22222-888  2019-01-30   40.0\n",
       "4  DE2521   Carlos     54  00000-999         NaN    NaN\n",
       "5  GT3462  Ricardo     30  88888-111         NaN    NaN\n",
       "6  HH1158    Maria     27  77777-666  2019-04-01   50.0\n",
       "7  HH1158    Maria     27  77777-666  2019-04-10  500.0"
      ]
     },
     "execution_count": 406,
     "metadata": {},
     "output_type": "execute_result"
    }
   ],
   "source": [
    "esquerda"
   ]
  },
  {
   "cell_type": "code",
   "execution_count": 407,
   "id": "7921212c",
   "metadata": {
    "ExecuteTime": {
     "end_time": "2022-05-20T20:35:37.555329Z",
     "start_time": "2022-05-20T20:35:37.448031Z"
    },
    "hidden": true,
    "scrolled": true
   },
   "outputs": [
    {
     "data": {
      "text/plain": [
       "Id      Nome   \n",
       "AA2930  Victor     225.0\n",
       "BB4563  Amanda       0.0\n",
       "CC2139  Bruna       40.0\n",
       "DE2521  Carlos       0.0\n",
       "GT3462  Ricardo      0.0\n",
       "HH1158  Maria      550.0\n",
       "Name: Valor, dtype: float64"
      ]
     },
     "execution_count": 407,
     "metadata": {},
     "output_type": "execute_result"
    }
   ],
   "source": [
    "esquerda.groupby(['Id', 'Nome'])['Valor'].sum()"
   ]
  },
  {
   "cell_type": "markdown",
   "id": "72c07ba4",
   "metadata": {
    "heading_collapsed": true
   },
   "source": [
    "## 2.3. Groupby "
   ]
  },
  {
   "cell_type": "code",
   "execution_count": 408,
   "id": "2914940d",
   "metadata": {
    "ExecuteTime": {
     "end_time": "2022-05-20T20:35:37.635655Z",
     "start_time": "2022-05-20T20:35:37.563324Z"
    },
    "hidden": true
   },
   "outputs": [],
   "source": [
    "dfg = pd.DataFrame({'A': ['verdadeiro', 'falso', 'verdadeiro', 'falso', 'verdadeiro', 'falso', 'verdadeiro', 'falso'],\n",
    "                    \n",
    "                    'B': ['um', 'um', 'dois', 'tres', 'dois', ' dois', 'um ', 'tres'],\n",
    "                    \n",
    "                    'C': np.random.randn(8),\n",
    "                    \n",
    "                    'D': np.random.randn(8)})"
   ]
  },
  {
   "cell_type": "code",
   "execution_count": 409,
   "id": "4d573ed0",
   "metadata": {
    "ExecuteTime": {
     "end_time": "2022-05-20T20:35:37.731639Z",
     "start_time": "2022-05-20T20:35:37.639631Z"
    },
    "hidden": true
   },
   "outputs": [
    {
     "data": {
      "text/html": [
       "<div>\n",
       "<style scoped>\n",
       "    .dataframe tbody tr th:only-of-type {\n",
       "        vertical-align: middle;\n",
       "    }\n",
       "\n",
       "    .dataframe tbody tr th {\n",
       "        vertical-align: top;\n",
       "    }\n",
       "\n",
       "    .dataframe thead th {\n",
       "        text-align: right;\n",
       "    }\n",
       "</style>\n",
       "<table border=\"1\" class=\"dataframe\">\n",
       "  <thead>\n",
       "    <tr style=\"text-align: right;\">\n",
       "      <th></th>\n",
       "      <th>A</th>\n",
       "      <th>B</th>\n",
       "      <th>C</th>\n",
       "      <th>D</th>\n",
       "    </tr>\n",
       "  </thead>\n",
       "  <tbody>\n",
       "    <tr>\n",
       "      <th>0</th>\n",
       "      <td>verdadeiro</td>\n",
       "      <td>um</td>\n",
       "      <td>0.261560</td>\n",
       "      <td>-0.886882</td>\n",
       "    </tr>\n",
       "    <tr>\n",
       "      <th>1</th>\n",
       "      <td>falso</td>\n",
       "      <td>um</td>\n",
       "      <td>-0.056704</td>\n",
       "      <td>2.190427</td>\n",
       "    </tr>\n",
       "    <tr>\n",
       "      <th>2</th>\n",
       "      <td>verdadeiro</td>\n",
       "      <td>dois</td>\n",
       "      <td>-1.889658</td>\n",
       "      <td>-1.607883</td>\n",
       "    </tr>\n",
       "    <tr>\n",
       "      <th>3</th>\n",
       "      <td>falso</td>\n",
       "      <td>tres</td>\n",
       "      <td>0.922317</td>\n",
       "      <td>-0.529282</td>\n",
       "    </tr>\n",
       "    <tr>\n",
       "      <th>4</th>\n",
       "      <td>verdadeiro</td>\n",
       "      <td>dois</td>\n",
       "      <td>-0.576508</td>\n",
       "      <td>0.701980</td>\n",
       "    </tr>\n",
       "    <tr>\n",
       "      <th>5</th>\n",
       "      <td>falso</td>\n",
       "      <td>dois</td>\n",
       "      <td>-0.360011</td>\n",
       "      <td>-0.797675</td>\n",
       "    </tr>\n",
       "    <tr>\n",
       "      <th>6</th>\n",
       "      <td>verdadeiro</td>\n",
       "      <td>um</td>\n",
       "      <td>0.446968</td>\n",
       "      <td>-1.422361</td>\n",
       "    </tr>\n",
       "    <tr>\n",
       "      <th>7</th>\n",
       "      <td>falso</td>\n",
       "      <td>tres</td>\n",
       "      <td>-0.860537</td>\n",
       "      <td>-0.102607</td>\n",
       "    </tr>\n",
       "  </tbody>\n",
       "</table>\n",
       "</div>"
      ],
      "text/plain": [
       "            A      B         C         D\n",
       "0  verdadeiro     um  0.261560 -0.886882\n",
       "1       falso     um -0.056704  2.190427\n",
       "2  verdadeiro   dois -1.889658 -1.607883\n",
       "3       falso   tres  0.922317 -0.529282\n",
       "4  verdadeiro   dois -0.576508  0.701980\n",
       "5       falso   dois -0.360011 -0.797675\n",
       "6  verdadeiro    um   0.446968 -1.422361\n",
       "7       falso   tres -0.860537 -0.102607"
      ]
     },
     "execution_count": 409,
     "metadata": {},
     "output_type": "execute_result"
    }
   ],
   "source": [
    "dfg"
   ]
  },
  {
   "cell_type": "markdown",
   "id": "fc3fba7f",
   "metadata": {
    "heading_collapsed": true,
    "hidden": true
   },
   "source": [
    "#### Soma dos valores das colunas baseada na coluna A"
   ]
  },
  {
   "cell_type": "code",
   "execution_count": 410,
   "id": "642ebe5d",
   "metadata": {
    "ExecuteTime": {
     "end_time": "2022-05-20T20:35:37.846630Z",
     "start_time": "2022-05-20T20:35:37.736644Z"
    },
    "hidden": true,
    "scrolled": false
   },
   "outputs": [
    {
     "data": {
      "text/html": [
       "<div>\n",
       "<style scoped>\n",
       "    .dataframe tbody tr th:only-of-type {\n",
       "        vertical-align: middle;\n",
       "    }\n",
       "\n",
       "    .dataframe tbody tr th {\n",
       "        vertical-align: top;\n",
       "    }\n",
       "\n",
       "    .dataframe thead th {\n",
       "        text-align: right;\n",
       "    }\n",
       "</style>\n",
       "<table border=\"1\" class=\"dataframe\">\n",
       "  <thead>\n",
       "    <tr style=\"text-align: right;\">\n",
       "      <th></th>\n",
       "      <th>C</th>\n",
       "      <th>D</th>\n",
       "    </tr>\n",
       "    <tr>\n",
       "      <th>A</th>\n",
       "      <th></th>\n",
       "      <th></th>\n",
       "    </tr>\n",
       "  </thead>\n",
       "  <tbody>\n",
       "    <tr>\n",
       "      <th>falso</th>\n",
       "      <td>-0.354935</td>\n",
       "      <td>0.760863</td>\n",
       "    </tr>\n",
       "    <tr>\n",
       "      <th>verdadeiro</th>\n",
       "      <td>-1.757638</td>\n",
       "      <td>-3.215146</td>\n",
       "    </tr>\n",
       "  </tbody>\n",
       "</table>\n",
       "</div>"
      ],
      "text/plain": [
       "                   C         D\n",
       "A                             \n",
       "falso      -0.354935  0.760863\n",
       "verdadeiro -1.757638 -3.215146"
      ]
     },
     "execution_count": 410,
     "metadata": {},
     "output_type": "execute_result"
    }
   ],
   "source": [
    "dfg.groupby(['A']).sum()"
   ]
  },
  {
   "cell_type": "markdown",
   "id": "233a711d",
   "metadata": {
    "heading_collapsed": true,
    "hidden": true
   },
   "source": [
    "#### Média dos valores das colunas baseada na coluna A"
   ]
  },
  {
   "cell_type": "code",
   "execution_count": 411,
   "id": "21da4e6d",
   "metadata": {
    "ExecuteTime": {
     "end_time": "2022-05-20T20:35:37.941789Z",
     "start_time": "2022-05-20T20:35:37.851633Z"
    },
    "hidden": true
   },
   "outputs": [
    {
     "data": {
      "text/html": [
       "<div>\n",
       "<style scoped>\n",
       "    .dataframe tbody tr th:only-of-type {\n",
       "        vertical-align: middle;\n",
       "    }\n",
       "\n",
       "    .dataframe tbody tr th {\n",
       "        vertical-align: top;\n",
       "    }\n",
       "\n",
       "    .dataframe thead th {\n",
       "        text-align: right;\n",
       "    }\n",
       "</style>\n",
       "<table border=\"1\" class=\"dataframe\">\n",
       "  <thead>\n",
       "    <tr style=\"text-align: right;\">\n",
       "      <th></th>\n",
       "      <th>C</th>\n",
       "      <th>D</th>\n",
       "    </tr>\n",
       "    <tr>\n",
       "      <th>A</th>\n",
       "      <th></th>\n",
       "      <th></th>\n",
       "    </tr>\n",
       "  </thead>\n",
       "  <tbody>\n",
       "    <tr>\n",
       "      <th>falso</th>\n",
       "      <td>-0.088734</td>\n",
       "      <td>0.190216</td>\n",
       "    </tr>\n",
       "    <tr>\n",
       "      <th>verdadeiro</th>\n",
       "      <td>-0.439409</td>\n",
       "      <td>-0.803787</td>\n",
       "    </tr>\n",
       "  </tbody>\n",
       "</table>\n",
       "</div>"
      ],
      "text/plain": [
       "                   C         D\n",
       "A                             \n",
       "falso      -0.088734  0.190216\n",
       "verdadeiro -0.439409 -0.803787"
      ]
     },
     "execution_count": 411,
     "metadata": {},
     "output_type": "execute_result"
    }
   ],
   "source": [
    "dfg.groupby(['A']).mean()"
   ]
  },
  {
   "cell_type": "markdown",
   "id": "ce76dd69",
   "metadata": {
    "heading_collapsed": true,
    "hidden": true
   },
   "source": [
    "#### Soma dos valores das colunas baseada na coluna B"
   ]
  },
  {
   "cell_type": "code",
   "execution_count": 412,
   "id": "9df408ce",
   "metadata": {
    "ExecuteTime": {
     "end_time": "2022-05-20T20:35:38.027794Z",
     "start_time": "2022-05-20T20:35:37.948789Z"
    },
    "hidden": true
   },
   "outputs": [
    {
     "data": {
      "text/html": [
       "<div>\n",
       "<style scoped>\n",
       "    .dataframe tbody tr th:only-of-type {\n",
       "        vertical-align: middle;\n",
       "    }\n",
       "\n",
       "    .dataframe tbody tr th {\n",
       "        vertical-align: top;\n",
       "    }\n",
       "\n",
       "    .dataframe thead th {\n",
       "        text-align: right;\n",
       "    }\n",
       "</style>\n",
       "<table border=\"1\" class=\"dataframe\">\n",
       "  <thead>\n",
       "    <tr style=\"text-align: right;\">\n",
       "      <th></th>\n",
       "      <th>C</th>\n",
       "      <th>D</th>\n",
       "    </tr>\n",
       "    <tr>\n",
       "      <th>B</th>\n",
       "      <th></th>\n",
       "      <th></th>\n",
       "    </tr>\n",
       "  </thead>\n",
       "  <tbody>\n",
       "    <tr>\n",
       "      <th>dois</th>\n",
       "      <td>-0.360011</td>\n",
       "      <td>-0.797675</td>\n",
       "    </tr>\n",
       "    <tr>\n",
       "      <th>dois</th>\n",
       "      <td>-2.466165</td>\n",
       "      <td>-0.905903</td>\n",
       "    </tr>\n",
       "    <tr>\n",
       "      <th>tres</th>\n",
       "      <td>0.061780</td>\n",
       "      <td>-0.631890</td>\n",
       "    </tr>\n",
       "    <tr>\n",
       "      <th>um</th>\n",
       "      <td>0.204856</td>\n",
       "      <td>1.303546</td>\n",
       "    </tr>\n",
       "    <tr>\n",
       "      <th>um</th>\n",
       "      <td>0.446968</td>\n",
       "      <td>-1.422361</td>\n",
       "    </tr>\n",
       "  </tbody>\n",
       "</table>\n",
       "</div>"
      ],
      "text/plain": [
       "              C         D\n",
       "B                        \n",
       " dois -0.360011 -0.797675\n",
       "dois  -2.466165 -0.905903\n",
       "tres   0.061780 -0.631890\n",
       "um     0.204856  1.303546\n",
       "um     0.446968 -1.422361"
      ]
     },
     "execution_count": 412,
     "metadata": {},
     "output_type": "execute_result"
    }
   ],
   "source": [
    "dfg.groupby(['B']).sum()"
   ]
  },
  {
   "cell_type": "markdown",
   "id": "6c3116da",
   "metadata": {
    "heading_collapsed": true,
    "hidden": true
   },
   "source": [
    "#### Média dos valores das colunas baseada na coluna B"
   ]
  },
  {
   "cell_type": "code",
   "execution_count": 413,
   "id": "8bb914c1",
   "metadata": {
    "ExecuteTime": {
     "end_time": "2022-05-20T20:35:38.138289Z",
     "start_time": "2022-05-20T20:35:38.030772Z"
    },
    "hidden": true,
    "scrolled": true
   },
   "outputs": [
    {
     "data": {
      "text/html": [
       "<div>\n",
       "<style scoped>\n",
       "    .dataframe tbody tr th:only-of-type {\n",
       "        vertical-align: middle;\n",
       "    }\n",
       "\n",
       "    .dataframe tbody tr th {\n",
       "        vertical-align: top;\n",
       "    }\n",
       "\n",
       "    .dataframe thead th {\n",
       "        text-align: right;\n",
       "    }\n",
       "</style>\n",
       "<table border=\"1\" class=\"dataframe\">\n",
       "  <thead>\n",
       "    <tr style=\"text-align: right;\">\n",
       "      <th></th>\n",
       "      <th>C</th>\n",
       "      <th>D</th>\n",
       "    </tr>\n",
       "    <tr>\n",
       "      <th>B</th>\n",
       "      <th></th>\n",
       "      <th></th>\n",
       "    </tr>\n",
       "  </thead>\n",
       "  <tbody>\n",
       "    <tr>\n",
       "      <th>dois</th>\n",
       "      <td>-0.360011</td>\n",
       "      <td>-0.797675</td>\n",
       "    </tr>\n",
       "    <tr>\n",
       "      <th>dois</th>\n",
       "      <td>-1.233083</td>\n",
       "      <td>-0.452952</td>\n",
       "    </tr>\n",
       "    <tr>\n",
       "      <th>tres</th>\n",
       "      <td>0.030890</td>\n",
       "      <td>-0.315945</td>\n",
       "    </tr>\n",
       "    <tr>\n",
       "      <th>um</th>\n",
       "      <td>0.102428</td>\n",
       "      <td>0.651773</td>\n",
       "    </tr>\n",
       "    <tr>\n",
       "      <th>um</th>\n",
       "      <td>0.446968</td>\n",
       "      <td>-1.422361</td>\n",
       "    </tr>\n",
       "  </tbody>\n",
       "</table>\n",
       "</div>"
      ],
      "text/plain": [
       "              C         D\n",
       "B                        \n",
       " dois -0.360011 -0.797675\n",
       "dois  -1.233083 -0.452952\n",
       "tres   0.030890 -0.315945\n",
       "um     0.102428  0.651773\n",
       "um     0.446968 -1.422361"
      ]
     },
     "execution_count": 413,
     "metadata": {},
     "output_type": "execute_result"
    }
   ],
   "source": [
    "dfg.groupby(['B']).mean()"
   ]
  },
  {
   "cell_type": "markdown",
   "id": "b66d02af",
   "metadata": {
    "heading_collapsed": true,
    "hidden": true
   },
   "source": [
    "#### Soma dos valores das colunas baseada nas colunas A e B"
   ]
  },
  {
   "cell_type": "code",
   "execution_count": 414,
   "id": "f8d1067d",
   "metadata": {
    "ExecuteTime": {
     "end_time": "2022-05-20T20:35:38.263960Z",
     "start_time": "2022-05-20T20:35:38.141288Z"
    },
    "hidden": true,
    "scrolled": true
   },
   "outputs": [
    {
     "data": {
      "text/html": [
       "<div>\n",
       "<style scoped>\n",
       "    .dataframe tbody tr th:only-of-type {\n",
       "        vertical-align: middle;\n",
       "    }\n",
       "\n",
       "    .dataframe tbody tr th {\n",
       "        vertical-align: top;\n",
       "    }\n",
       "\n",
       "    .dataframe thead th {\n",
       "        text-align: right;\n",
       "    }\n",
       "</style>\n",
       "<table border=\"1\" class=\"dataframe\">\n",
       "  <thead>\n",
       "    <tr style=\"text-align: right;\">\n",
       "      <th></th>\n",
       "      <th></th>\n",
       "      <th>C</th>\n",
       "      <th>D</th>\n",
       "    </tr>\n",
       "    <tr>\n",
       "      <th>A</th>\n",
       "      <th>B</th>\n",
       "      <th></th>\n",
       "      <th></th>\n",
       "    </tr>\n",
       "  </thead>\n",
       "  <tbody>\n",
       "    <tr>\n",
       "      <th rowspan=\"3\" valign=\"top\">falso</th>\n",
       "      <th>dois</th>\n",
       "      <td>-0.360011</td>\n",
       "      <td>-0.797675</td>\n",
       "    </tr>\n",
       "    <tr>\n",
       "      <th>tres</th>\n",
       "      <td>0.061780</td>\n",
       "      <td>-0.631890</td>\n",
       "    </tr>\n",
       "    <tr>\n",
       "      <th>um</th>\n",
       "      <td>-0.056704</td>\n",
       "      <td>2.190427</td>\n",
       "    </tr>\n",
       "    <tr>\n",
       "      <th rowspan=\"3\" valign=\"top\">verdadeiro</th>\n",
       "      <th>dois</th>\n",
       "      <td>-2.466165</td>\n",
       "      <td>-0.905903</td>\n",
       "    </tr>\n",
       "    <tr>\n",
       "      <th>um</th>\n",
       "      <td>0.261560</td>\n",
       "      <td>-0.886882</td>\n",
       "    </tr>\n",
       "    <tr>\n",
       "      <th>um</th>\n",
       "      <td>0.446968</td>\n",
       "      <td>-1.422361</td>\n",
       "    </tr>\n",
       "  </tbody>\n",
       "</table>\n",
       "</div>"
      ],
      "text/plain": [
       "                         C         D\n",
       "A          B                        \n",
       "falso       dois -0.360011 -0.797675\n",
       "           tres   0.061780 -0.631890\n",
       "           um    -0.056704  2.190427\n",
       "verdadeiro dois  -2.466165 -0.905903\n",
       "           um     0.261560 -0.886882\n",
       "           um     0.446968 -1.422361"
      ]
     },
     "execution_count": 414,
     "metadata": {},
     "output_type": "execute_result"
    }
   ],
   "source": [
    "dfg.groupby(['A','B']).sum()"
   ]
  },
  {
   "cell_type": "markdown",
   "id": "231029fe",
   "metadata": {
    "heading_collapsed": true
   },
   "source": [
    "## 2.4. Indexação  "
   ]
  },
  {
   "cell_type": "markdown",
   "id": "ef673d36",
   "metadata": {
    "hidden": true
   },
   "source": [
    "Todo índice em pyhon inicia em 0.\n",
    "\n",
    "Sempre que quisermos selecionar algum objeto em uma lista, devemos considerar esse requisito."
   ]
  },
  {
   "cell_type": "code",
   "execution_count": 415,
   "id": "90fc3223",
   "metadata": {
    "ExecuteTime": {
     "end_time": "2022-05-20T20:35:38.333568Z",
     "start_time": "2022-05-20T20:35:38.266964Z"
    },
    "hidden": true
   },
   "outputs": [],
   "source": [
    "lista = [ 32, 96, 11, 27]"
   ]
  },
  {
   "cell_type": "code",
   "execution_count": 416,
   "id": "a7575e5e",
   "metadata": {
    "ExecuteTime": {
     "end_time": "2022-05-20T20:35:38.429403Z",
     "start_time": "2022-05-20T20:35:38.336571Z"
    },
    "hidden": true
   },
   "outputs": [
    {
     "data": {
      "text/plain": [
       "32"
      ]
     },
     "execution_count": 416,
     "metadata": {},
     "output_type": "execute_result"
    }
   ],
   "source": [
    "lista[0]"
   ]
  },
  {
   "cell_type": "markdown",
   "id": "88c109dd",
   "metadata": {
    "hidden": true,
    "hide_input": false
   },
   "source": [
    "Sempre que quisermos selecionar os números de trás pra frente, basta adicionar o sinal de subtração e ordenar a casa"
   ]
  },
  {
   "cell_type": "code",
   "execution_count": 417,
   "id": "07ca6108",
   "metadata": {
    "ExecuteTime": {
     "end_time": "2022-05-20T20:35:38.518089Z",
     "start_time": "2022-05-20T20:35:38.438395Z"
    },
    "hidden": true
   },
   "outputs": [
    {
     "data": {
      "text/plain": [
       "27"
      ]
     },
     "execution_count": 417,
     "metadata": {},
     "output_type": "execute_result"
    }
   ],
   "source": [
    "lista [-1]"
   ]
  },
  {
   "cell_type": "markdown",
   "id": "2d2b1327",
   "metadata": {
    "hidden": true
   },
   "source": [
    "### Indexação múltlipla"
   ]
  },
  {
   "cell_type": "code",
   "execution_count": 418,
   "id": "8af65c9d",
   "metadata": {
    "ExecuteTime": {
     "end_time": "2022-05-20T20:35:38.596486Z",
     "start_time": "2022-05-20T20:35:38.526054Z"
    },
    "hidden": true
   },
   "outputs": [],
   "source": [
    "arrays = [[1, 2, 5, 4], ['red', 'blue', 'green', 'blue']]"
   ]
  },
  {
   "cell_type": "code",
   "execution_count": 419,
   "id": "8f825208",
   "metadata": {
    "ExecuteTime": {
     "end_time": "2022-05-20T20:35:38.674091Z",
     "start_time": "2022-05-20T20:35:38.598794Z"
    },
    "hidden": true
   },
   "outputs": [
    {
     "data": {
      "text/plain": [
       "MultiIndex([(1,   'red'),\n",
       "            (2,  'blue'),\n",
       "            (5, 'green'),\n",
       "            (4,  'blue')],\n",
       "           names=['number', 'color'])"
      ]
     },
     "execution_count": 419,
     "metadata": {},
     "output_type": "execute_result"
    }
   ],
   "source": [
    "pd.MultiIndex.from_arrays(arrays, names=('number', 'color'))"
   ]
  },
  {
   "cell_type": "code",
   "execution_count": 420,
   "id": "366edcd8",
   "metadata": {
    "ExecuteTime": {
     "end_time": "2022-05-20T20:35:38.751368Z",
     "start_time": "2022-05-20T20:35:38.677088Z"
    },
    "hidden": true
   },
   "outputs": [],
   "source": [
    "numbers = [0, 1, 2]\n",
    "colors = ['green', 'purple']"
   ]
  },
  {
   "cell_type": "markdown",
   "id": "7afbc6af",
   "metadata": {
    "hidden": true
   },
   "source": [
    "**MultiIndex com produto cartesiano**"
   ]
  },
  {
   "cell_type": "code",
   "execution_count": 421,
   "id": "b6494d24",
   "metadata": {
    "ExecuteTime": {
     "end_time": "2022-05-20T20:35:38.852111Z",
     "start_time": "2022-05-20T20:35:38.754379Z"
    },
    "hidden": true
   },
   "outputs": [
    {
     "data": {
      "text/plain": [
       "MultiIndex([(0,  'green'),\n",
       "            (0, 'purple'),\n",
       "            (1,  'green'),\n",
       "            (1, 'purple'),\n",
       "            (2,  'green'),\n",
       "            (2, 'purple')],\n",
       "           names=['number', 'color'])"
      ]
     },
     "execution_count": 421,
     "metadata": {},
     "output_type": "execute_result"
    }
   ],
   "source": [
    "pd.MultiIndex.from_product([numbers, colors], names = ['number', 'color'])"
   ]
  },
  {
   "cell_type": "markdown",
   "id": "f9c6f548",
   "metadata": {
    "heading_collapsed": true
   },
   "source": [
    "## 2.5. Reshping dados"
   ]
  },
  {
   "cell_type": "code",
   "execution_count": 422,
   "id": "831def85",
   "metadata": {
    "ExecuteTime": {
     "end_time": "2022-05-20T20:35:38.931141Z",
     "start_time": "2022-05-20T20:35:38.859093Z"
    },
    "hidden": true
   },
   "outputs": [],
   "source": [
    "datas = pd.date_range('20220101', periods= 6 )\n",
    "\n",
    "df = pd.DataFrame(np.random.randn(6, 4), index = datas, columns = ['var_A', 'var_B', 'var_C', 'var_D'])"
   ]
  },
  {
   "cell_type": "code",
   "execution_count": 423,
   "id": "caa739d8",
   "metadata": {
    "ExecuteTime": {
     "end_time": "2022-05-20T20:35:39.024131Z",
     "start_time": "2022-05-20T20:35:38.934444Z"
    },
    "hidden": true
   },
   "outputs": [
    {
     "data": {
      "text/html": [
       "<div>\n",
       "<style scoped>\n",
       "    .dataframe tbody tr th:only-of-type {\n",
       "        vertical-align: middle;\n",
       "    }\n",
       "\n",
       "    .dataframe tbody tr th {\n",
       "        vertical-align: top;\n",
       "    }\n",
       "\n",
       "    .dataframe thead th {\n",
       "        text-align: right;\n",
       "    }\n",
       "</style>\n",
       "<table border=\"1\" class=\"dataframe\">\n",
       "  <thead>\n",
       "    <tr style=\"text-align: right;\">\n",
       "      <th></th>\n",
       "      <th>var_A</th>\n",
       "      <th>var_B</th>\n",
       "      <th>var_C</th>\n",
       "      <th>var_D</th>\n",
       "    </tr>\n",
       "  </thead>\n",
       "  <tbody>\n",
       "    <tr>\n",
       "      <th>2022-01-01</th>\n",
       "      <td>2.663760</td>\n",
       "      <td>1.953038</td>\n",
       "      <td>0.501446</td>\n",
       "      <td>-0.469586</td>\n",
       "    </tr>\n",
       "    <tr>\n",
       "      <th>2022-01-02</th>\n",
       "      <td>0.261504</td>\n",
       "      <td>0.398835</td>\n",
       "      <td>0.967028</td>\n",
       "      <td>0.790222</td>\n",
       "    </tr>\n",
       "    <tr>\n",
       "      <th>2022-01-03</th>\n",
       "      <td>1.387230</td>\n",
       "      <td>-0.008690</td>\n",
       "      <td>-1.763516</td>\n",
       "      <td>0.329322</td>\n",
       "    </tr>\n",
       "    <tr>\n",
       "      <th>2022-01-04</th>\n",
       "      <td>-0.054217</td>\n",
       "      <td>1.292137</td>\n",
       "      <td>0.261489</td>\n",
       "      <td>-1.158126</td>\n",
       "    </tr>\n",
       "    <tr>\n",
       "      <th>2022-01-05</th>\n",
       "      <td>1.323795</td>\n",
       "      <td>-1.195064</td>\n",
       "      <td>-1.362531</td>\n",
       "      <td>-1.033582</td>\n",
       "    </tr>\n",
       "    <tr>\n",
       "      <th>2022-01-06</th>\n",
       "      <td>0.452582</td>\n",
       "      <td>-0.038903</td>\n",
       "      <td>-0.757357</td>\n",
       "      <td>-1.397330</td>\n",
       "    </tr>\n",
       "  </tbody>\n",
       "</table>\n",
       "</div>"
      ],
      "text/plain": [
       "               var_A     var_B     var_C     var_D\n",
       "2022-01-01  2.663760  1.953038  0.501446 -0.469586\n",
       "2022-01-02  0.261504  0.398835  0.967028  0.790222\n",
       "2022-01-03  1.387230 -0.008690 -1.763516  0.329322\n",
       "2022-01-04 -0.054217  1.292137  0.261489 -1.158126\n",
       "2022-01-05  1.323795 -1.195064 -1.362531 -1.033582\n",
       "2022-01-06  0.452582 -0.038903 -0.757357 -1.397330"
      ]
     },
     "execution_count": 423,
     "metadata": {},
     "output_type": "execute_result"
    }
   ],
   "source": [
    "df"
   ]
  },
  {
   "cell_type": "code",
   "execution_count": 424,
   "id": "a5786620",
   "metadata": {
    "ExecuteTime": {
     "end_time": "2022-05-20T20:35:39.120317Z",
     "start_time": "2022-05-20T20:35:39.029130Z"
    },
    "hidden": true
   },
   "outputs": [],
   "source": [
    "dft = df.T"
   ]
  },
  {
   "cell_type": "code",
   "execution_count": 425,
   "id": "243fbc5b",
   "metadata": {
    "ExecuteTime": {
     "end_time": "2022-05-20T20:35:39.212825Z",
     "start_time": "2022-05-20T20:35:39.131287Z"
    },
    "hidden": true
   },
   "outputs": [
    {
     "data": {
      "text/html": [
       "<div>\n",
       "<style scoped>\n",
       "    .dataframe tbody tr th:only-of-type {\n",
       "        vertical-align: middle;\n",
       "    }\n",
       "\n",
       "    .dataframe tbody tr th {\n",
       "        vertical-align: top;\n",
       "    }\n",
       "\n",
       "    .dataframe thead th {\n",
       "        text-align: right;\n",
       "    }\n",
       "</style>\n",
       "<table border=\"1\" class=\"dataframe\">\n",
       "  <thead>\n",
       "    <tr style=\"text-align: right;\">\n",
       "      <th></th>\n",
       "      <th>2022-01-01</th>\n",
       "      <th>2022-01-02</th>\n",
       "      <th>2022-01-03</th>\n",
       "      <th>2022-01-04</th>\n",
       "      <th>2022-01-05</th>\n",
       "      <th>2022-01-06</th>\n",
       "    </tr>\n",
       "  </thead>\n",
       "  <tbody>\n",
       "    <tr>\n",
       "      <th>var_A</th>\n",
       "      <td>2.663760</td>\n",
       "      <td>0.261504</td>\n",
       "      <td>1.387230</td>\n",
       "      <td>-0.054217</td>\n",
       "      <td>1.323795</td>\n",
       "      <td>0.452582</td>\n",
       "    </tr>\n",
       "    <tr>\n",
       "      <th>var_B</th>\n",
       "      <td>1.953038</td>\n",
       "      <td>0.398835</td>\n",
       "      <td>-0.008690</td>\n",
       "      <td>1.292137</td>\n",
       "      <td>-1.195064</td>\n",
       "      <td>-0.038903</td>\n",
       "    </tr>\n",
       "    <tr>\n",
       "      <th>var_C</th>\n",
       "      <td>0.501446</td>\n",
       "      <td>0.967028</td>\n",
       "      <td>-1.763516</td>\n",
       "      <td>0.261489</td>\n",
       "      <td>-1.362531</td>\n",
       "      <td>-0.757357</td>\n",
       "    </tr>\n",
       "    <tr>\n",
       "      <th>var_D</th>\n",
       "      <td>-0.469586</td>\n",
       "      <td>0.790222</td>\n",
       "      <td>0.329322</td>\n",
       "      <td>-1.158126</td>\n",
       "      <td>-1.033582</td>\n",
       "      <td>-1.397330</td>\n",
       "    </tr>\n",
       "  </tbody>\n",
       "</table>\n",
       "</div>"
      ],
      "text/plain": [
       "       2022-01-01  2022-01-02  2022-01-03  2022-01-04  2022-01-05  2022-01-06\n",
       "var_A    2.663760    0.261504    1.387230   -0.054217    1.323795    0.452582\n",
       "var_B    1.953038    0.398835   -0.008690    1.292137   -1.195064   -0.038903\n",
       "var_C    0.501446    0.967028   -1.763516    0.261489   -1.362531   -0.757357\n",
       "var_D   -0.469586    0.790222    0.329322   -1.158126   -1.033582   -1.397330"
      ]
     },
     "execution_count": 425,
     "metadata": {},
     "output_type": "execute_result"
    }
   ],
   "source": [
    "dft"
   ]
  },
  {
   "cell_type": "code",
   "execution_count": 426,
   "id": "ffc1ce41",
   "metadata": {
    "ExecuteTime": {
     "end_time": "2022-05-20T20:35:39.308026Z",
     "start_time": "2022-05-20T20:35:39.215826Z"
    },
    "hidden": true
   },
   "outputs": [
    {
     "data": {
      "text/plain": [
       "(6, 4)"
      ]
     },
     "execution_count": 426,
     "metadata": {},
     "output_type": "execute_result"
    }
   ],
   "source": [
    "df.shape"
   ]
  },
  {
   "cell_type": "markdown",
   "id": "d505c8d6",
   "metadata": {
    "heading_collapsed": true,
    "hidden": true
   },
   "source": [
    "### 2.5.1. Função pivot"
   ]
  },
  {
   "cell_type": "code",
   "execution_count": 427,
   "id": "d8aa1ecb",
   "metadata": {
    "ExecuteTime": {
     "end_time": "2022-05-20T20:35:39.389818Z",
     "start_time": "2022-05-20T20:35:39.318020Z"
    },
    "hidden": true
   },
   "outputs": [],
   "source": [
    "data = pd.date_range('20220101', periods= 12 )\n",
    "\n",
    "pessoa = ['George', 'Victor', 'Lucas']"
   ]
  },
  {
   "cell_type": "code",
   "execution_count": 428,
   "id": "444f5335",
   "metadata": {
    "ExecuteTime": {
     "end_time": "2022-05-20T20:35:39.482654Z",
     "start_time": "2022-05-20T20:35:39.394827Z"
    },
    "hidden": true
   },
   "outputs": [
    {
     "data": {
      "text/plain": [
       "DatetimeIndex(['2022-01-01', '2022-01-02', '2022-01-03', '2022-01-04',\n",
       "               '2022-01-05', '2022-01-06', '2022-01-07', '2022-01-08',\n",
       "               '2022-01-09', '2022-01-10', '2022-01-11', '2022-01-12'],\n",
       "              dtype='datetime64[ns]', freq='D')"
      ]
     },
     "execution_count": 428,
     "metadata": {},
     "output_type": "execute_result"
    }
   ],
   "source": [
    "data"
   ]
  },
  {
   "cell_type": "code",
   "execution_count": 429,
   "id": "e638e435",
   "metadata": {
    "ExecuteTime": {
     "end_time": "2022-05-20T20:35:39.582638Z",
     "start_time": "2022-05-20T20:35:39.487625Z"
    },
    "hidden": true
   },
   "outputs": [],
   "source": [
    "nome = []\n",
    "\n",
    "gasto = []\n",
    "\n",
    "for i in range(12):\n",
    "    nome.append(np.random.choice(pessoa))\n",
    "    gasto.append(np.round(np.random.randn()*100,2 ))\n",
    "    \n",
    "    nome"
   ]
  },
  {
   "cell_type": "code",
   "execution_count": 430,
   "id": "beeabc32",
   "metadata": {
    "ExecuteTime": {
     "end_time": "2022-05-20T20:35:39.720828Z",
     "start_time": "2022-05-20T20:35:39.592645Z"
    },
    "hidden": true
   },
   "outputs": [],
   "source": [
    "df = pd.DataFrame({'Data': data, 'Nome': nome, 'Gasto': gasto})"
   ]
  },
  {
   "cell_type": "code",
   "execution_count": 431,
   "id": "19428fe8",
   "metadata": {
    "ExecuteTime": {
     "end_time": "2022-05-20T20:35:39.822313Z",
     "start_time": "2022-05-20T20:35:39.731796Z"
    },
    "hidden": true
   },
   "outputs": [
    {
     "data": {
      "text/html": [
       "<div>\n",
       "<style scoped>\n",
       "    .dataframe tbody tr th:only-of-type {\n",
       "        vertical-align: middle;\n",
       "    }\n",
       "\n",
       "    .dataframe tbody tr th {\n",
       "        vertical-align: top;\n",
       "    }\n",
       "\n",
       "    .dataframe thead th {\n",
       "        text-align: right;\n",
       "    }\n",
       "</style>\n",
       "<table border=\"1\" class=\"dataframe\">\n",
       "  <thead>\n",
       "    <tr style=\"text-align: right;\">\n",
       "      <th></th>\n",
       "      <th>Data</th>\n",
       "      <th>Nome</th>\n",
       "      <th>Gasto</th>\n",
       "    </tr>\n",
       "  </thead>\n",
       "  <tbody>\n",
       "    <tr>\n",
       "      <th>0</th>\n",
       "      <td>2022-01-01</td>\n",
       "      <td>George</td>\n",
       "      <td>105.77</td>\n",
       "    </tr>\n",
       "    <tr>\n",
       "      <th>1</th>\n",
       "      <td>2022-01-02</td>\n",
       "      <td>George</td>\n",
       "      <td>-55.02</td>\n",
       "    </tr>\n",
       "    <tr>\n",
       "      <th>2</th>\n",
       "      <td>2022-01-03</td>\n",
       "      <td>Victor</td>\n",
       "      <td>63.83</td>\n",
       "    </tr>\n",
       "    <tr>\n",
       "      <th>3</th>\n",
       "      <td>2022-01-04</td>\n",
       "      <td>George</td>\n",
       "      <td>-12.84</td>\n",
       "    </tr>\n",
       "    <tr>\n",
       "      <th>4</th>\n",
       "      <td>2022-01-05</td>\n",
       "      <td>Victor</td>\n",
       "      <td>-7.37</td>\n",
       "    </tr>\n",
       "    <tr>\n",
       "      <th>5</th>\n",
       "      <td>2022-01-06</td>\n",
       "      <td>Lucas</td>\n",
       "      <td>65.01</td>\n",
       "    </tr>\n",
       "    <tr>\n",
       "      <th>6</th>\n",
       "      <td>2022-01-07</td>\n",
       "      <td>Victor</td>\n",
       "      <td>-129.11</td>\n",
       "    </tr>\n",
       "    <tr>\n",
       "      <th>7</th>\n",
       "      <td>2022-01-08</td>\n",
       "      <td>George</td>\n",
       "      <td>-152.52</td>\n",
       "    </tr>\n",
       "    <tr>\n",
       "      <th>8</th>\n",
       "      <td>2022-01-09</td>\n",
       "      <td>Victor</td>\n",
       "      <td>-108.00</td>\n",
       "    </tr>\n",
       "    <tr>\n",
       "      <th>9</th>\n",
       "      <td>2022-01-10</td>\n",
       "      <td>George</td>\n",
       "      <td>136.28</td>\n",
       "    </tr>\n",
       "    <tr>\n",
       "      <th>10</th>\n",
       "      <td>2022-01-11</td>\n",
       "      <td>Victor</td>\n",
       "      <td>-114.83</td>\n",
       "    </tr>\n",
       "    <tr>\n",
       "      <th>11</th>\n",
       "      <td>2022-01-12</td>\n",
       "      <td>Lucas</td>\n",
       "      <td>-35.90</td>\n",
       "    </tr>\n",
       "  </tbody>\n",
       "</table>\n",
       "</div>"
      ],
      "text/plain": [
       "         Data    Nome   Gasto\n",
       "0  2022-01-01  George  105.77\n",
       "1  2022-01-02  George  -55.02\n",
       "2  2022-01-03  Victor   63.83\n",
       "3  2022-01-04  George  -12.84\n",
       "4  2022-01-05  Victor   -7.37\n",
       "5  2022-01-06   Lucas   65.01\n",
       "6  2022-01-07  Victor -129.11\n",
       "7  2022-01-08  George -152.52\n",
       "8  2022-01-09  Victor -108.00\n",
       "9  2022-01-10  George  136.28\n",
       "10 2022-01-11  Victor -114.83\n",
       "11 2022-01-12   Lucas  -35.90"
      ]
     },
     "execution_count": 431,
     "metadata": {},
     "output_type": "execute_result"
    }
   ],
   "source": [
    "df"
   ]
  },
  {
   "cell_type": "code",
   "execution_count": 432,
   "id": "aa77c601",
   "metadata": {
    "ExecuteTime": {
     "end_time": "2022-05-20T20:35:39.917804Z",
     "start_time": "2022-05-20T20:35:39.825352Z"
    },
    "hidden": true
   },
   "outputs": [
    {
     "data": {
      "text/html": [
       "<div>\n",
       "<style scoped>\n",
       "    .dataframe tbody tr th:only-of-type {\n",
       "        vertical-align: middle;\n",
       "    }\n",
       "\n",
       "    .dataframe tbody tr th {\n",
       "        vertical-align: top;\n",
       "    }\n",
       "\n",
       "    .dataframe thead th {\n",
       "        text-align: right;\n",
       "    }\n",
       "</style>\n",
       "<table border=\"1\" class=\"dataframe\">\n",
       "  <thead>\n",
       "    <tr style=\"text-align: right;\">\n",
       "      <th>Nome</th>\n",
       "      <th>George</th>\n",
       "      <th>Lucas</th>\n",
       "      <th>Victor</th>\n",
       "    </tr>\n",
       "    <tr>\n",
       "      <th>Data</th>\n",
       "      <th></th>\n",
       "      <th></th>\n",
       "      <th></th>\n",
       "    </tr>\n",
       "  </thead>\n",
       "  <tbody>\n",
       "    <tr>\n",
       "      <th>2022-01-01</th>\n",
       "      <td>105.77</td>\n",
       "      <td>NaN</td>\n",
       "      <td>NaN</td>\n",
       "    </tr>\n",
       "    <tr>\n",
       "      <th>2022-01-02</th>\n",
       "      <td>-55.02</td>\n",
       "      <td>NaN</td>\n",
       "      <td>NaN</td>\n",
       "    </tr>\n",
       "    <tr>\n",
       "      <th>2022-01-03</th>\n",
       "      <td>NaN</td>\n",
       "      <td>NaN</td>\n",
       "      <td>63.83</td>\n",
       "    </tr>\n",
       "    <tr>\n",
       "      <th>2022-01-04</th>\n",
       "      <td>-12.84</td>\n",
       "      <td>NaN</td>\n",
       "      <td>NaN</td>\n",
       "    </tr>\n",
       "    <tr>\n",
       "      <th>2022-01-05</th>\n",
       "      <td>NaN</td>\n",
       "      <td>NaN</td>\n",
       "      <td>-7.37</td>\n",
       "    </tr>\n",
       "    <tr>\n",
       "      <th>2022-01-06</th>\n",
       "      <td>NaN</td>\n",
       "      <td>65.01</td>\n",
       "      <td>NaN</td>\n",
       "    </tr>\n",
       "    <tr>\n",
       "      <th>2022-01-07</th>\n",
       "      <td>NaN</td>\n",
       "      <td>NaN</td>\n",
       "      <td>-129.11</td>\n",
       "    </tr>\n",
       "    <tr>\n",
       "      <th>2022-01-08</th>\n",
       "      <td>-152.52</td>\n",
       "      <td>NaN</td>\n",
       "      <td>NaN</td>\n",
       "    </tr>\n",
       "    <tr>\n",
       "      <th>2022-01-09</th>\n",
       "      <td>NaN</td>\n",
       "      <td>NaN</td>\n",
       "      <td>-108.00</td>\n",
       "    </tr>\n",
       "    <tr>\n",
       "      <th>2022-01-10</th>\n",
       "      <td>136.28</td>\n",
       "      <td>NaN</td>\n",
       "      <td>NaN</td>\n",
       "    </tr>\n",
       "    <tr>\n",
       "      <th>2022-01-11</th>\n",
       "      <td>NaN</td>\n",
       "      <td>NaN</td>\n",
       "      <td>-114.83</td>\n",
       "    </tr>\n",
       "    <tr>\n",
       "      <th>2022-01-12</th>\n",
       "      <td>NaN</td>\n",
       "      <td>-35.90</td>\n",
       "      <td>NaN</td>\n",
       "    </tr>\n",
       "  </tbody>\n",
       "</table>\n",
       "</div>"
      ],
      "text/plain": [
       "Nome        George  Lucas  Victor\n",
       "Data                             \n",
       "2022-01-01  105.77    NaN     NaN\n",
       "2022-01-02  -55.02    NaN     NaN\n",
       "2022-01-03     NaN    NaN   63.83\n",
       "2022-01-04  -12.84    NaN     NaN\n",
       "2022-01-05     NaN    NaN   -7.37\n",
       "2022-01-06     NaN  65.01     NaN\n",
       "2022-01-07     NaN    NaN -129.11\n",
       "2022-01-08 -152.52    NaN     NaN\n",
       "2022-01-09     NaN    NaN -108.00\n",
       "2022-01-10  136.28    NaN     NaN\n",
       "2022-01-11     NaN    NaN -114.83\n",
       "2022-01-12     NaN -35.90     NaN"
      ]
     },
     "execution_count": 432,
     "metadata": {},
     "output_type": "execute_result"
    }
   ],
   "source": [
    "pd.pivot(df, index= 'Data', columns= 'Nome', values= 'Gasto')"
   ]
  },
  {
   "cell_type": "markdown",
   "id": "955041ed",
   "metadata": {
    "heading_collapsed": true,
    "hidden": true
   },
   "source": [
    "### 2.5.2. Função pivot table"
   ]
  },
  {
   "cell_type": "code",
   "execution_count": 433,
   "id": "8c45760b",
   "metadata": {
    "ExecuteTime": {
     "end_time": "2022-05-20T20:35:39.998086Z",
     "start_time": "2022-05-20T20:35:39.920796Z"
    },
    "hidden": true
   },
   "outputs": [],
   "source": [
    "carros = [7, 4, 3, 2, 8]\n",
    "\n",
    "data = pd.date_range('20220101','20220101', periods= 5 )\n",
    "\n",
    "vendedor = ['George', 'Vagner', 'Pedro', 'Vagner', 'George']"
   ]
  },
  {
   "cell_type": "code",
   "execution_count": 434,
   "id": "c7f60e6c",
   "metadata": {
    "ExecuteTime": {
     "end_time": "2022-05-20T20:35:40.078233Z",
     "start_time": "2022-05-20T20:35:40.001975Z"
    },
    "hidden": true
   },
   "outputs": [],
   "source": [
    "df = pd.DataFrame({'Vendas': carros, 'Data': data, 'Vendedor': vendedor})"
   ]
  },
  {
   "cell_type": "code",
   "execution_count": 435,
   "id": "fcb8bd42",
   "metadata": {
    "ExecuteTime": {
     "end_time": "2022-05-20T20:35:40.172189Z",
     "start_time": "2022-05-20T20:35:40.082230Z"
    },
    "hidden": true
   },
   "outputs": [
    {
     "data": {
      "text/html": [
       "<div>\n",
       "<style scoped>\n",
       "    .dataframe tbody tr th:only-of-type {\n",
       "        vertical-align: middle;\n",
       "    }\n",
       "\n",
       "    .dataframe tbody tr th {\n",
       "        vertical-align: top;\n",
       "    }\n",
       "\n",
       "    .dataframe thead th {\n",
       "        text-align: right;\n",
       "    }\n",
       "</style>\n",
       "<table border=\"1\" class=\"dataframe\">\n",
       "  <thead>\n",
       "    <tr style=\"text-align: right;\">\n",
       "      <th></th>\n",
       "      <th>Vendas</th>\n",
       "      <th>Data</th>\n",
       "      <th>Vendedor</th>\n",
       "    </tr>\n",
       "  </thead>\n",
       "  <tbody>\n",
       "    <tr>\n",
       "      <th>0</th>\n",
       "      <td>7</td>\n",
       "      <td>2022-01-01</td>\n",
       "      <td>George</td>\n",
       "    </tr>\n",
       "    <tr>\n",
       "      <th>1</th>\n",
       "      <td>4</td>\n",
       "      <td>2022-01-01</td>\n",
       "      <td>Vagner</td>\n",
       "    </tr>\n",
       "    <tr>\n",
       "      <th>2</th>\n",
       "      <td>3</td>\n",
       "      <td>2022-01-01</td>\n",
       "      <td>Pedro</td>\n",
       "    </tr>\n",
       "    <tr>\n",
       "      <th>3</th>\n",
       "      <td>2</td>\n",
       "      <td>2022-01-01</td>\n",
       "      <td>Vagner</td>\n",
       "    </tr>\n",
       "    <tr>\n",
       "      <th>4</th>\n",
       "      <td>8</td>\n",
       "      <td>2022-01-01</td>\n",
       "      <td>George</td>\n",
       "    </tr>\n",
       "  </tbody>\n",
       "</table>\n",
       "</div>"
      ],
      "text/plain": [
       "   Vendas       Data Vendedor\n",
       "0       7 2022-01-01   George\n",
       "1       4 2022-01-01   Vagner\n",
       "2       3 2022-01-01    Pedro\n",
       "3       2 2022-01-01   Vagner\n",
       "4       8 2022-01-01   George"
      ]
     },
     "execution_count": 435,
     "metadata": {},
     "output_type": "execute_result"
    }
   ],
   "source": [
    "df"
   ]
  },
  {
   "cell_type": "markdown",
   "id": "37f64216",
   "metadata": {
    "hidden": true
   },
   "source": [
    "A função **pivot table** não entrega valores de index duplicados"
   ]
  },
  {
   "cell_type": "code",
   "execution_count": 436,
   "id": "03120fab",
   "metadata": {
    "ExecuteTime": {
     "end_time": "2022-05-20T20:35:40.266839Z",
     "start_time": "2022-05-20T20:35:40.178186Z"
    },
    "hidden": true,
    "scrolled": false
   },
   "outputs": [
    {
     "data": {
      "text/html": [
       "<div>\n",
       "<style scoped>\n",
       "    .dataframe tbody tr th:only-of-type {\n",
       "        vertical-align: middle;\n",
       "    }\n",
       "\n",
       "    .dataframe tbody tr th {\n",
       "        vertical-align: top;\n",
       "    }\n",
       "\n",
       "    .dataframe thead th {\n",
       "        text-align: right;\n",
       "    }\n",
       "</style>\n",
       "<table border=\"1\" class=\"dataframe\">\n",
       "  <thead>\n",
       "    <tr style=\"text-align: right;\">\n",
       "      <th>Vendedor</th>\n",
       "      <th>George</th>\n",
       "      <th>Pedro</th>\n",
       "      <th>Vagner</th>\n",
       "    </tr>\n",
       "    <tr>\n",
       "      <th>Data</th>\n",
       "      <th></th>\n",
       "      <th></th>\n",
       "      <th></th>\n",
       "    </tr>\n",
       "  </thead>\n",
       "  <tbody>\n",
       "    <tr>\n",
       "      <th>2022-01-01</th>\n",
       "      <td>15</td>\n",
       "      <td>3</td>\n",
       "      <td>6</td>\n",
       "    </tr>\n",
       "  </tbody>\n",
       "</table>\n",
       "</div>"
      ],
      "text/plain": [
       "Vendedor    George  Pedro  Vagner\n",
       "Data                             \n",
       "2022-01-01      15      3       6"
      ]
     },
     "execution_count": 436,
     "metadata": {},
     "output_type": "execute_result"
    }
   ],
   "source": [
    "pd.pivot_table(df, index= 'Data', columns= 'Vendedor', values= 'Vendas', aggfunc='sum')"
   ]
  },
  {
   "cell_type": "markdown",
   "id": "de29cf1e",
   "metadata": {
    "heading_collapsed": true,
    "hidden": true
   },
   "source": [
    "### 2.5.3. Stack e unstack de dados"
   ]
  },
  {
   "cell_type": "markdown",
   "id": "0be57ddc",
   "metadata": {
    "hidden": true
   },
   "source": [
    "coleta de dados da internet"
   ]
  },
  {
   "cell_type": "code",
   "execution_count": 437,
   "id": "eb56f479",
   "metadata": {
    "ExecuteTime": {
     "end_time": "2022-05-20T20:35:40.514566Z",
     "start_time": "2022-05-20T20:35:40.269840Z"
    },
    "hidden": true
   },
   "outputs": [],
   "source": [
    "df = pd.read_csv('https://cdncontribute.geeksforgeeks.org/wp-content/uploads/nba.csv')"
   ]
  },
  {
   "cell_type": "code",
   "execution_count": 438,
   "id": "3620c925",
   "metadata": {
    "ExecuteTime": {
     "end_time": "2022-05-20T20:35:40.562260Z",
     "start_time": "2022-05-20T20:35:40.521540Z"
    },
    "hidden": true
   },
   "outputs": [
    {
     "data": {
      "text/html": [
       "<div>\n",
       "<style scoped>\n",
       "    .dataframe tbody tr th:only-of-type {\n",
       "        vertical-align: middle;\n",
       "    }\n",
       "\n",
       "    .dataframe tbody tr th {\n",
       "        vertical-align: top;\n",
       "    }\n",
       "\n",
       "    .dataframe thead th {\n",
       "        text-align: right;\n",
       "    }\n",
       "</style>\n",
       "<table border=\"1\" class=\"dataframe\">\n",
       "  <thead>\n",
       "    <tr style=\"text-align: right;\">\n",
       "      <th></th>\n",
       "      <th>Name</th>\n",
       "      <th>Team</th>\n",
       "      <th>Number</th>\n",
       "      <th>Position</th>\n",
       "      <th>Age</th>\n",
       "      <th>Height</th>\n",
       "      <th>Weight</th>\n",
       "      <th>College</th>\n",
       "      <th>Salary</th>\n",
       "    </tr>\n",
       "  </thead>\n",
       "  <tbody>\n",
       "    <tr>\n",
       "      <th>0</th>\n",
       "      <td>Avery Bradley</td>\n",
       "      <td>Boston Celtics</td>\n",
       "      <td>0.0</td>\n",
       "      <td>PG</td>\n",
       "      <td>25.0</td>\n",
       "      <td>6-2</td>\n",
       "      <td>180.0</td>\n",
       "      <td>Texas</td>\n",
       "      <td>7730337.0</td>\n",
       "    </tr>\n",
       "    <tr>\n",
       "      <th>1</th>\n",
       "      <td>Jae Crowder</td>\n",
       "      <td>Boston Celtics</td>\n",
       "      <td>99.0</td>\n",
       "      <td>SF</td>\n",
       "      <td>25.0</td>\n",
       "      <td>6-6</td>\n",
       "      <td>235.0</td>\n",
       "      <td>Marquette</td>\n",
       "      <td>6796117.0</td>\n",
       "    </tr>\n",
       "    <tr>\n",
       "      <th>2</th>\n",
       "      <td>John Holland</td>\n",
       "      <td>Boston Celtics</td>\n",
       "      <td>30.0</td>\n",
       "      <td>SG</td>\n",
       "      <td>27.0</td>\n",
       "      <td>6-5</td>\n",
       "      <td>205.0</td>\n",
       "      <td>Boston University</td>\n",
       "      <td>NaN</td>\n",
       "    </tr>\n",
       "    <tr>\n",
       "      <th>3</th>\n",
       "      <td>R.J. Hunter</td>\n",
       "      <td>Boston Celtics</td>\n",
       "      <td>28.0</td>\n",
       "      <td>SG</td>\n",
       "      <td>22.0</td>\n",
       "      <td>6-5</td>\n",
       "      <td>185.0</td>\n",
       "      <td>Georgia State</td>\n",
       "      <td>1148640.0</td>\n",
       "    </tr>\n",
       "  </tbody>\n",
       "</table>\n",
       "</div>"
      ],
      "text/plain": [
       "            Name            Team  Number Position   Age Height  Weight  \\\n",
       "0  Avery Bradley  Boston Celtics     0.0       PG  25.0    6-2   180.0   \n",
       "1    Jae Crowder  Boston Celtics    99.0       SF  25.0    6-6   235.0   \n",
       "2   John Holland  Boston Celtics    30.0       SG  27.0    6-5   205.0   \n",
       "3    R.J. Hunter  Boston Celtics    28.0       SG  22.0    6-5   185.0   \n",
       "\n",
       "             College     Salary  \n",
       "0              Texas  7730337.0  \n",
       "1          Marquette  6796117.0  \n",
       "2  Boston University        NaN  \n",
       "3      Georgia State  1148640.0  "
      ]
     },
     "execution_count": 438,
     "metadata": {},
     "output_type": "execute_result"
    }
   ],
   "source": [
    "df.head(4)"
   ]
  },
  {
   "cell_type": "code",
   "execution_count": 439,
   "id": "c5460ecf",
   "metadata": {
    "ExecuteTime": {
     "end_time": "2022-05-20T20:35:40.660107Z",
     "start_time": "2022-05-20T20:35:40.567253Z"
    },
    "hidden": true
   },
   "outputs": [
    {
     "data": {
      "text/plain": [
       "(458, 9)"
      ]
     },
     "execution_count": 439,
     "metadata": {},
     "output_type": "execute_result"
    }
   ],
   "source": [
    "df.shape"
   ]
  },
  {
   "cell_type": "code",
   "execution_count": 440,
   "id": "42e808b5",
   "metadata": {
    "ExecuteTime": {
     "end_time": "2022-05-20T20:35:40.727757Z",
     "start_time": "2022-05-20T20:35:40.666097Z"
    },
    "hidden": true
   },
   "outputs": [],
   "source": [
    "#Essa função empilha os dados em uma coluna\n",
    "\n",
    "empilhamento = df.stack()"
   ]
  },
  {
   "cell_type": "code",
   "execution_count": 441,
   "id": "b0e5f1cb",
   "metadata": {
    "ExecuteTime": {
     "end_time": "2022-05-20T20:35:40.823076Z",
     "start_time": "2022-05-20T20:35:40.730763Z"
    },
    "hidden": true
   },
   "outputs": [
    {
     "data": {
      "text/plain": [
       "0  Name         Avery Bradley\n",
       "   Team        Boston Celtics\n",
       "   Number                 0.0\n",
       "   Position                PG\n",
       "   Age                   25.0\n",
       "   Height                 6-2\n",
       "   Weight               180.0\n",
       "   College              Texas\n",
       "   Salary           7730337.0\n",
       "1  Name           Jae Crowder\n",
       "   Team        Boston Celtics\n",
       "   Number                99.0\n",
       "   Position                SF\n",
       "   Age                   25.0\n",
       "   Height                 6-6\n",
       "   Weight               235.0\n",
       "   College          Marquette\n",
       "   Salary           6796117.0\n",
       "2  Name          John Holland\n",
       "   Team        Boston Celtics\n",
       "dtype: object"
      ]
     },
     "execution_count": 441,
     "metadata": {},
     "output_type": "execute_result"
    }
   ],
   "source": [
    "empilhamento.head(20)"
   ]
  },
  {
   "cell_type": "code",
   "execution_count": 442,
   "id": "dd7fc543",
   "metadata": {
    "ExecuteTime": {
     "end_time": "2022-05-20T20:35:40.932989Z",
     "start_time": "2022-05-20T20:35:40.834055Z"
    },
    "hidden": true
   },
   "outputs": [
    {
     "data": {
      "text/html": [
       "<div>\n",
       "<style scoped>\n",
       "    .dataframe tbody tr th:only-of-type {\n",
       "        vertical-align: middle;\n",
       "    }\n",
       "\n",
       "    .dataframe tbody tr th {\n",
       "        vertical-align: top;\n",
       "    }\n",
       "\n",
       "    .dataframe thead th {\n",
       "        text-align: right;\n",
       "    }\n",
       "</style>\n",
       "<table border=\"1\" class=\"dataframe\">\n",
       "  <thead>\n",
       "    <tr style=\"text-align: right;\">\n",
       "      <th></th>\n",
       "      <th>Name</th>\n",
       "      <th>Team</th>\n",
       "      <th>Number</th>\n",
       "      <th>Position</th>\n",
       "      <th>Age</th>\n",
       "      <th>Height</th>\n",
       "      <th>Weight</th>\n",
       "      <th>College</th>\n",
       "      <th>Salary</th>\n",
       "    </tr>\n",
       "  </thead>\n",
       "  <tbody>\n",
       "    <tr>\n",
       "      <th>0</th>\n",
       "      <td>Avery Bradley</td>\n",
       "      <td>Boston Celtics</td>\n",
       "      <td>0.0</td>\n",
       "      <td>PG</td>\n",
       "      <td>25.0</td>\n",
       "      <td>6-2</td>\n",
       "      <td>180.0</td>\n",
       "      <td>Texas</td>\n",
       "      <td>7730337.0</td>\n",
       "    </tr>\n",
       "    <tr>\n",
       "      <th>1</th>\n",
       "      <td>Jae Crowder</td>\n",
       "      <td>Boston Celtics</td>\n",
       "      <td>99.0</td>\n",
       "      <td>SF</td>\n",
       "      <td>25.0</td>\n",
       "      <td>6-6</td>\n",
       "      <td>235.0</td>\n",
       "      <td>Marquette</td>\n",
       "      <td>6796117.0</td>\n",
       "    </tr>\n",
       "    <tr>\n",
       "      <th>2</th>\n",
       "      <td>John Holland</td>\n",
       "      <td>Boston Celtics</td>\n",
       "      <td>30.0</td>\n",
       "      <td>SG</td>\n",
       "      <td>27.0</td>\n",
       "      <td>6-5</td>\n",
       "      <td>205.0</td>\n",
       "      <td>Boston University</td>\n",
       "      <td>NaN</td>\n",
       "    </tr>\n",
       "    <tr>\n",
       "      <th>3</th>\n",
       "      <td>R.J. Hunter</td>\n",
       "      <td>Boston Celtics</td>\n",
       "      <td>28.0</td>\n",
       "      <td>SG</td>\n",
       "      <td>22.0</td>\n",
       "      <td>6-5</td>\n",
       "      <td>185.0</td>\n",
       "      <td>Georgia State</td>\n",
       "      <td>1148640.0</td>\n",
       "    </tr>\n",
       "    <tr>\n",
       "      <th>4</th>\n",
       "      <td>Jonas Jerebko</td>\n",
       "      <td>Boston Celtics</td>\n",
       "      <td>8.0</td>\n",
       "      <td>PF</td>\n",
       "      <td>29.0</td>\n",
       "      <td>6-10</td>\n",
       "      <td>231.0</td>\n",
       "      <td>NaN</td>\n",
       "      <td>5000000.0</td>\n",
       "    </tr>\n",
       "    <tr>\n",
       "      <th>...</th>\n",
       "      <td>...</td>\n",
       "      <td>...</td>\n",
       "      <td>...</td>\n",
       "      <td>...</td>\n",
       "      <td>...</td>\n",
       "      <td>...</td>\n",
       "      <td>...</td>\n",
       "      <td>...</td>\n",
       "      <td>...</td>\n",
       "    </tr>\n",
       "    <tr>\n",
       "      <th>452</th>\n",
       "      <td>Trey Lyles</td>\n",
       "      <td>Utah Jazz</td>\n",
       "      <td>41.0</td>\n",
       "      <td>PF</td>\n",
       "      <td>20.0</td>\n",
       "      <td>6-10</td>\n",
       "      <td>234.0</td>\n",
       "      <td>Kentucky</td>\n",
       "      <td>2239800.0</td>\n",
       "    </tr>\n",
       "    <tr>\n",
       "      <th>453</th>\n",
       "      <td>Shelvin Mack</td>\n",
       "      <td>Utah Jazz</td>\n",
       "      <td>8.0</td>\n",
       "      <td>PG</td>\n",
       "      <td>26.0</td>\n",
       "      <td>6-3</td>\n",
       "      <td>203.0</td>\n",
       "      <td>Butler</td>\n",
       "      <td>2433333.0</td>\n",
       "    </tr>\n",
       "    <tr>\n",
       "      <th>454</th>\n",
       "      <td>Raul Neto</td>\n",
       "      <td>Utah Jazz</td>\n",
       "      <td>25.0</td>\n",
       "      <td>PG</td>\n",
       "      <td>24.0</td>\n",
       "      <td>6-1</td>\n",
       "      <td>179.0</td>\n",
       "      <td>NaN</td>\n",
       "      <td>900000.0</td>\n",
       "    </tr>\n",
       "    <tr>\n",
       "      <th>455</th>\n",
       "      <td>Tibor Pleiss</td>\n",
       "      <td>Utah Jazz</td>\n",
       "      <td>21.0</td>\n",
       "      <td>C</td>\n",
       "      <td>26.0</td>\n",
       "      <td>7-3</td>\n",
       "      <td>256.0</td>\n",
       "      <td>NaN</td>\n",
       "      <td>2900000.0</td>\n",
       "    </tr>\n",
       "    <tr>\n",
       "      <th>456</th>\n",
       "      <td>Jeff Withey</td>\n",
       "      <td>Utah Jazz</td>\n",
       "      <td>24.0</td>\n",
       "      <td>C</td>\n",
       "      <td>26.0</td>\n",
       "      <td>7-0</td>\n",
       "      <td>231.0</td>\n",
       "      <td>Kansas</td>\n",
       "      <td>947276.0</td>\n",
       "    </tr>\n",
       "  </tbody>\n",
       "</table>\n",
       "<p>457 rows × 9 columns</p>\n",
       "</div>"
      ],
      "text/plain": [
       "              Name            Team Number Position   Age Height Weight  \\\n",
       "0    Avery Bradley  Boston Celtics    0.0       PG  25.0    6-2  180.0   \n",
       "1      Jae Crowder  Boston Celtics   99.0       SF  25.0    6-6  235.0   \n",
       "2     John Holland  Boston Celtics   30.0       SG  27.0    6-5  205.0   \n",
       "3      R.J. Hunter  Boston Celtics   28.0       SG  22.0    6-5  185.0   \n",
       "4    Jonas Jerebko  Boston Celtics    8.0       PF  29.0   6-10  231.0   \n",
       "..             ...             ...    ...      ...   ...    ...    ...   \n",
       "452     Trey Lyles       Utah Jazz   41.0       PF  20.0   6-10  234.0   \n",
       "453   Shelvin Mack       Utah Jazz    8.0       PG  26.0    6-3  203.0   \n",
       "454      Raul Neto       Utah Jazz   25.0       PG  24.0    6-1  179.0   \n",
       "455   Tibor Pleiss       Utah Jazz   21.0        C  26.0    7-3  256.0   \n",
       "456    Jeff Withey       Utah Jazz   24.0        C  26.0    7-0  231.0   \n",
       "\n",
       "               College     Salary  \n",
       "0                Texas  7730337.0  \n",
       "1            Marquette  6796117.0  \n",
       "2    Boston University        NaN  \n",
       "3        Georgia State  1148640.0  \n",
       "4                  NaN  5000000.0  \n",
       "..                 ...        ...  \n",
       "452           Kentucky  2239800.0  \n",
       "453             Butler  2433333.0  \n",
       "454                NaN   900000.0  \n",
       "455                NaN  2900000.0  \n",
       "456             Kansas   947276.0  \n",
       "\n",
       "[457 rows x 9 columns]"
      ]
     },
     "execution_count": 442,
     "metadata": {},
     "output_type": "execute_result"
    }
   ],
   "source": [
    "# Essa função reverte o processo de empilhamento\n",
    "\n",
    "empilhamento.unstack()"
   ]
  },
  {
   "cell_type": "markdown",
   "id": "88669309",
   "metadata": {
    "heading_collapsed": true,
    "hidden": true
   },
   "source": [
    "### 2.5.4. Função melt"
   ]
  },
  {
   "cell_type": "code",
   "execution_count": 443,
   "id": "5dce22a9",
   "metadata": {
    "ExecuteTime": {
     "end_time": "2022-05-20T20:35:40.981189Z",
     "start_time": "2022-05-20T20:35:40.936986Z"
    },
    "hidden": true
   },
   "outputs": [],
   "source": [
    "df = pd.DataFrame({ 'A': {0: 'a', 1: 'b', 2: 'c'},\n",
    "                    'B': {0: 1, 1: 3, 2: 5,},\n",
    "                    'C': {0: 2, 1: 4, 2: 6}})"
   ]
  },
  {
   "cell_type": "code",
   "execution_count": 444,
   "id": "19905468",
   "metadata": {
    "ExecuteTime": {
     "end_time": "2022-05-20T20:35:41.092292Z",
     "start_time": "2022-05-20T20:35:40.984165Z"
    },
    "hidden": true
   },
   "outputs": [
    {
     "data": {
      "text/html": [
       "<div>\n",
       "<style scoped>\n",
       "    .dataframe tbody tr th:only-of-type {\n",
       "        vertical-align: middle;\n",
       "    }\n",
       "\n",
       "    .dataframe tbody tr th {\n",
       "        vertical-align: top;\n",
       "    }\n",
       "\n",
       "    .dataframe thead th {\n",
       "        text-align: right;\n",
       "    }\n",
       "</style>\n",
       "<table border=\"1\" class=\"dataframe\">\n",
       "  <thead>\n",
       "    <tr style=\"text-align: right;\">\n",
       "      <th></th>\n",
       "      <th>A</th>\n",
       "      <th>B</th>\n",
       "      <th>C</th>\n",
       "    </tr>\n",
       "  </thead>\n",
       "  <tbody>\n",
       "    <tr>\n",
       "      <th>0</th>\n",
       "      <td>a</td>\n",
       "      <td>1</td>\n",
       "      <td>2</td>\n",
       "    </tr>\n",
       "    <tr>\n",
       "      <th>1</th>\n",
       "      <td>b</td>\n",
       "      <td>3</td>\n",
       "      <td>4</td>\n",
       "    </tr>\n",
       "    <tr>\n",
       "      <th>2</th>\n",
       "      <td>c</td>\n",
       "      <td>5</td>\n",
       "      <td>6</td>\n",
       "    </tr>\n",
       "  </tbody>\n",
       "</table>\n",
       "</div>"
      ],
      "text/plain": [
       "   A  B  C\n",
       "0  a  1  2\n",
       "1  b  3  4\n",
       "2  c  5  6"
      ]
     },
     "execution_count": 444,
     "metadata": {},
     "output_type": "execute_result"
    }
   ],
   "source": [
    "df"
   ]
  },
  {
   "cell_type": "code",
   "execution_count": 445,
   "id": "3e2f47ed",
   "metadata": {
    "ExecuteTime": {
     "end_time": "2022-05-20T20:35:41.177207Z",
     "start_time": "2022-05-20T20:35:41.097271Z"
    },
    "hidden": true
   },
   "outputs": [
    {
     "data": {
      "text/html": [
       "<div>\n",
       "<style scoped>\n",
       "    .dataframe tbody tr th:only-of-type {\n",
       "        vertical-align: middle;\n",
       "    }\n",
       "\n",
       "    .dataframe tbody tr th {\n",
       "        vertical-align: top;\n",
       "    }\n",
       "\n",
       "    .dataframe thead th {\n",
       "        text-align: right;\n",
       "    }\n",
       "</style>\n",
       "<table border=\"1\" class=\"dataframe\">\n",
       "  <thead>\n",
       "    <tr style=\"text-align: right;\">\n",
       "      <th></th>\n",
       "      <th>A</th>\n",
       "      <th>variable</th>\n",
       "      <th>value</th>\n",
       "    </tr>\n",
       "  </thead>\n",
       "  <tbody>\n",
       "    <tr>\n",
       "      <th>0</th>\n",
       "      <td>a</td>\n",
       "      <td>B</td>\n",
       "      <td>1</td>\n",
       "    </tr>\n",
       "    <tr>\n",
       "      <th>1</th>\n",
       "      <td>b</td>\n",
       "      <td>B</td>\n",
       "      <td>3</td>\n",
       "    </tr>\n",
       "    <tr>\n",
       "      <th>2</th>\n",
       "      <td>c</td>\n",
       "      <td>B</td>\n",
       "      <td>5</td>\n",
       "    </tr>\n",
       "  </tbody>\n",
       "</table>\n",
       "</div>"
      ],
      "text/plain": [
       "   A variable  value\n",
       "0  a        B      1\n",
       "1  b        B      3\n",
       "2  c        B      5"
      ]
     },
     "execution_count": 445,
     "metadata": {},
     "output_type": "execute_result"
    }
   ],
   "source": [
    "pd.melt(df, id_vars=['A'], value_vars=['B'])"
   ]
  },
  {
   "cell_type": "code",
   "execution_count": 446,
   "id": "7c458673",
   "metadata": {
    "ExecuteTime": {
     "end_time": "2022-05-20T20:35:41.294303Z",
     "start_time": "2022-05-20T20:35:41.180202Z"
    },
    "hidden": true
   },
   "outputs": [
    {
     "data": {
      "text/html": [
       "<div>\n",
       "<style scoped>\n",
       "    .dataframe tbody tr th:only-of-type {\n",
       "        vertical-align: middle;\n",
       "    }\n",
       "\n",
       "    .dataframe tbody tr th {\n",
       "        vertical-align: top;\n",
       "    }\n",
       "\n",
       "    .dataframe thead th {\n",
       "        text-align: right;\n",
       "    }\n",
       "</style>\n",
       "<table border=\"1\" class=\"dataframe\">\n",
       "  <thead>\n",
       "    <tr style=\"text-align: right;\">\n",
       "      <th></th>\n",
       "      <th>A</th>\n",
       "      <th>variable</th>\n",
       "      <th>value</th>\n",
       "    </tr>\n",
       "  </thead>\n",
       "  <tbody>\n",
       "    <tr>\n",
       "      <th>0</th>\n",
       "      <td>a</td>\n",
       "      <td>B</td>\n",
       "      <td>1</td>\n",
       "    </tr>\n",
       "    <tr>\n",
       "      <th>1</th>\n",
       "      <td>b</td>\n",
       "      <td>B</td>\n",
       "      <td>3</td>\n",
       "    </tr>\n",
       "    <tr>\n",
       "      <th>2</th>\n",
       "      <td>c</td>\n",
       "      <td>B</td>\n",
       "      <td>5</td>\n",
       "    </tr>\n",
       "    <tr>\n",
       "      <th>3</th>\n",
       "      <td>a</td>\n",
       "      <td>C</td>\n",
       "      <td>2</td>\n",
       "    </tr>\n",
       "    <tr>\n",
       "      <th>4</th>\n",
       "      <td>b</td>\n",
       "      <td>C</td>\n",
       "      <td>4</td>\n",
       "    </tr>\n",
       "    <tr>\n",
       "      <th>5</th>\n",
       "      <td>c</td>\n",
       "      <td>C</td>\n",
       "      <td>6</td>\n",
       "    </tr>\n",
       "  </tbody>\n",
       "</table>\n",
       "</div>"
      ],
      "text/plain": [
       "   A variable  value\n",
       "0  a        B      1\n",
       "1  b        B      3\n",
       "2  c        B      5\n",
       "3  a        C      2\n",
       "4  b        C      4\n",
       "5  c        C      6"
      ]
     },
     "execution_count": 446,
     "metadata": {},
     "output_type": "execute_result"
    }
   ],
   "source": [
    "pd.melt(df, id_vars=['A'], value_vars=['B', 'C'])"
   ]
  },
  {
   "cell_type": "code",
   "execution_count": 447,
   "id": "e83f1f83",
   "metadata": {
    "ExecuteTime": {
     "end_time": "2022-05-20T20:35:41.380419Z",
     "start_time": "2022-05-20T20:35:41.297295Z"
    },
    "hidden": true
   },
   "outputs": [
    {
     "data": {
      "text/html": [
       "<div>\n",
       "<style scoped>\n",
       "    .dataframe tbody tr th:only-of-type {\n",
       "        vertical-align: middle;\n",
       "    }\n",
       "\n",
       "    .dataframe tbody tr th {\n",
       "        vertical-align: top;\n",
       "    }\n",
       "\n",
       "    .dataframe thead th {\n",
       "        text-align: right;\n",
       "    }\n",
       "</style>\n",
       "<table border=\"1\" class=\"dataframe\">\n",
       "  <thead>\n",
       "    <tr style=\"text-align: right;\">\n",
       "      <th></th>\n",
       "      <th>A</th>\n",
       "      <th>nome da var</th>\n",
       "      <th>valor da var</th>\n",
       "    </tr>\n",
       "  </thead>\n",
       "  <tbody>\n",
       "    <tr>\n",
       "      <th>0</th>\n",
       "      <td>a</td>\n",
       "      <td>B</td>\n",
       "      <td>1</td>\n",
       "    </tr>\n",
       "    <tr>\n",
       "      <th>1</th>\n",
       "      <td>b</td>\n",
       "      <td>B</td>\n",
       "      <td>3</td>\n",
       "    </tr>\n",
       "    <tr>\n",
       "      <th>2</th>\n",
       "      <td>c</td>\n",
       "      <td>B</td>\n",
       "      <td>5</td>\n",
       "    </tr>\n",
       "    <tr>\n",
       "      <th>3</th>\n",
       "      <td>a</td>\n",
       "      <td>C</td>\n",
       "      <td>2</td>\n",
       "    </tr>\n",
       "    <tr>\n",
       "      <th>4</th>\n",
       "      <td>b</td>\n",
       "      <td>C</td>\n",
       "      <td>4</td>\n",
       "    </tr>\n",
       "    <tr>\n",
       "      <th>5</th>\n",
       "      <td>c</td>\n",
       "      <td>C</td>\n",
       "      <td>6</td>\n",
       "    </tr>\n",
       "  </tbody>\n",
       "</table>\n",
       "</div>"
      ],
      "text/plain": [
       "   A nome da var  valor da var\n",
       "0  a           B             1\n",
       "1  b           B             3\n",
       "2  c           B             5\n",
       "3  a           C             2\n",
       "4  b           C             4\n",
       "5  c           C             6"
      ]
     },
     "execution_count": 447,
     "metadata": {},
     "output_type": "execute_result"
    }
   ],
   "source": [
    "pd.melt(df, id_vars=['A'], value_vars=['B', 'C'], var_name='nome da var', value_name='valor da var')"
   ]
  },
  {
   "cell_type": "code",
   "execution_count": 448,
   "id": "f5a76a48",
   "metadata": {
    "ExecuteTime": {
     "end_time": "2022-05-20T20:35:41.474612Z",
     "start_time": "2022-05-20T20:35:41.390414Z"
    },
    "hidden": true
   },
   "outputs": [
    {
     "name": "stdout",
     "output_type": "stream",
     "text": [
      "{'Localização': ['cidadeA', 'cidadeB'], 'Temperatura': ['prevista', 'atual'], 'Set-2021': [30, 32], 'Out-2021': [45, 43], 'Nov-2021': [24, 22]}\n"
     ]
    }
   ],
   "source": [
    "data = {\n",
    "    'Localização' : ['cidadeA', 'cidadeB'], \n",
    "    'Temperatura' : ['prevista', 'atual'],\n",
    "    'Set-2021':     [30, 32],\n",
    "    'Out-2021':     [45, 43],\n",
    "    'Nov-2021':     [24, 22]\n",
    "}\n",
    "\n",
    "print(data)"
   ]
  },
  {
   "cell_type": "code",
   "execution_count": 449,
   "id": "64007b46",
   "metadata": {
    "ExecuteTime": {
     "end_time": "2022-05-20T20:35:41.584532Z",
     "start_time": "2022-05-20T20:35:41.480356Z"
    },
    "hidden": true
   },
   "outputs": [
    {
     "data": {
      "text/html": [
       "<div>\n",
       "<style scoped>\n",
       "    .dataframe tbody tr th:only-of-type {\n",
       "        vertical-align: middle;\n",
       "    }\n",
       "\n",
       "    .dataframe tbody tr th {\n",
       "        vertical-align: top;\n",
       "    }\n",
       "\n",
       "    .dataframe thead th {\n",
       "        text-align: right;\n",
       "    }\n",
       "</style>\n",
       "<table border=\"1\" class=\"dataframe\">\n",
       "  <thead>\n",
       "    <tr style=\"text-align: right;\">\n",
       "      <th></th>\n",
       "      <th>Localização</th>\n",
       "      <th>Temperatura</th>\n",
       "      <th>Set-2021</th>\n",
       "      <th>Out-2021</th>\n",
       "      <th>Nov-2021</th>\n",
       "    </tr>\n",
       "  </thead>\n",
       "  <tbody>\n",
       "    <tr>\n",
       "      <th>0</th>\n",
       "      <td>cidadeA</td>\n",
       "      <td>prevista</td>\n",
       "      <td>30</td>\n",
       "      <td>45</td>\n",
       "      <td>24</td>\n",
       "    </tr>\n",
       "    <tr>\n",
       "      <th>1</th>\n",
       "      <td>cidadeB</td>\n",
       "      <td>atual</td>\n",
       "      <td>32</td>\n",
       "      <td>43</td>\n",
       "      <td>22</td>\n",
       "    </tr>\n",
       "  </tbody>\n",
       "</table>\n",
       "</div>"
      ],
      "text/plain": [
       "  Localização Temperatura  Set-2021  Out-2021  Nov-2021\n",
       "0     cidadeA    prevista        30        45        24\n",
       "1     cidadeB       atual        32        43        22"
      ]
     },
     "execution_count": 449,
     "metadata": {},
     "output_type": "execute_result"
    }
   ],
   "source": [
    "df = pd.DataFrame(data, columns = ['Localização', 'Temperatura', 'Set-2021', 'Out-2021', 'Nov-2021'])\n",
    "df"
   ]
  },
  {
   "cell_type": "code",
   "execution_count": 450,
   "id": "04565261",
   "metadata": {
    "ExecuteTime": {
     "end_time": "2022-05-20T20:35:41.664767Z",
     "start_time": "2022-05-20T20:35:41.588528Z"
    },
    "hidden": true
   },
   "outputs": [
    {
     "data": {
      "text/html": [
       "<div>\n",
       "<style scoped>\n",
       "    .dataframe tbody tr th:only-of-type {\n",
       "        vertical-align: middle;\n",
       "    }\n",
       "\n",
       "    .dataframe tbody tr th {\n",
       "        vertical-align: top;\n",
       "    }\n",
       "\n",
       "    .dataframe thead th {\n",
       "        text-align: right;\n",
       "    }\n",
       "</style>\n",
       "<table border=\"1\" class=\"dataframe\">\n",
       "  <thead>\n",
       "    <tr style=\"text-align: right;\">\n",
       "      <th></th>\n",
       "      <th>Localização</th>\n",
       "      <th>Temperatura</th>\n",
       "      <th>Data</th>\n",
       "      <th>Valor</th>\n",
       "    </tr>\n",
       "  </thead>\n",
       "  <tbody>\n",
       "    <tr>\n",
       "      <th>0</th>\n",
       "      <td>cidadeA</td>\n",
       "      <td>prevista</td>\n",
       "      <td>Set-2021</td>\n",
       "      <td>30</td>\n",
       "    </tr>\n",
       "    <tr>\n",
       "      <th>1</th>\n",
       "      <td>cidadeB</td>\n",
       "      <td>atual</td>\n",
       "      <td>Set-2021</td>\n",
       "      <td>32</td>\n",
       "    </tr>\n",
       "    <tr>\n",
       "      <th>2</th>\n",
       "      <td>cidadeA</td>\n",
       "      <td>prevista</td>\n",
       "      <td>Out-2021</td>\n",
       "      <td>45</td>\n",
       "    </tr>\n",
       "    <tr>\n",
       "      <th>3</th>\n",
       "      <td>cidadeB</td>\n",
       "      <td>atual</td>\n",
       "      <td>Out-2021</td>\n",
       "      <td>43</td>\n",
       "    </tr>\n",
       "    <tr>\n",
       "      <th>4</th>\n",
       "      <td>cidadeA</td>\n",
       "      <td>prevista</td>\n",
       "      <td>Nov-2021</td>\n",
       "      <td>24</td>\n",
       "    </tr>\n",
       "    <tr>\n",
       "      <th>5</th>\n",
       "      <td>cidadeB</td>\n",
       "      <td>atual</td>\n",
       "      <td>Nov-2021</td>\n",
       "      <td>22</td>\n",
       "    </tr>\n",
       "  </tbody>\n",
       "</table>\n",
       "</div>"
      ],
      "text/plain": [
       "  Localização Temperatura      Data  Valor\n",
       "0     cidadeA    prevista  Set-2021     30\n",
       "1     cidadeB       atual  Set-2021     32\n",
       "2     cidadeA    prevista  Out-2021     45\n",
       "3     cidadeB       atual  Out-2021     43\n",
       "4     cidadeA    prevista  Nov-2021     24\n",
       "5     cidadeB       atual  Nov-2021     22"
      ]
     },
     "execution_count": 450,
     "metadata": {},
     "output_type": "execute_result"
    }
   ],
   "source": [
    "df2 = pd.melt(df, id_vars=['Localização', 'Temperatura'], var_name='Data', value_name='Valor')\n",
    "\n",
    "df2"
   ]
  },
  {
   "cell_type": "markdown",
   "id": "590dd682",
   "metadata": {
    "heading_collapsed": true
   },
   "source": [
    "## 2.6. Seleção de linhas e colunas"
   ]
  },
  {
   "cell_type": "code",
   "execution_count": 451,
   "id": "50b6b747",
   "metadata": {
    "ExecuteTime": {
     "end_time": "2022-05-20T20:35:41.761782Z",
     "start_time": "2022-05-20T20:35:41.667771Z"
    },
    "hidden": true
   },
   "outputs": [],
   "source": [
    "datas = pd.date_range('20210101', periods = 600)\n",
    "\n",
    "df = pd.DataFrame(np.random.rand(600, 5), index = datas, columns = list('ABCDE'))"
   ]
  },
  {
   "cell_type": "code",
   "execution_count": 452,
   "id": "fcc0c30a",
   "metadata": {
    "ExecuteTime": {
     "end_time": "2022-05-20T20:35:41.856721Z",
     "start_time": "2022-05-20T20:35:41.766772Z"
    },
    "hidden": true
   },
   "outputs": [
    {
     "data": {
      "text/html": [
       "<div>\n",
       "<style scoped>\n",
       "    .dataframe tbody tr th:only-of-type {\n",
       "        vertical-align: middle;\n",
       "    }\n",
       "\n",
       "    .dataframe tbody tr th {\n",
       "        vertical-align: top;\n",
       "    }\n",
       "\n",
       "    .dataframe thead th {\n",
       "        text-align: right;\n",
       "    }\n",
       "</style>\n",
       "<table border=\"1\" class=\"dataframe\">\n",
       "  <thead>\n",
       "    <tr style=\"text-align: right;\">\n",
       "      <th></th>\n",
       "      <th>A</th>\n",
       "      <th>B</th>\n",
       "      <th>C</th>\n",
       "      <th>D</th>\n",
       "      <th>E</th>\n",
       "    </tr>\n",
       "  </thead>\n",
       "  <tbody>\n",
       "    <tr>\n",
       "      <th>2021-01-01</th>\n",
       "      <td>0.021547</td>\n",
       "      <td>0.428380</td>\n",
       "      <td>0.542407</td>\n",
       "      <td>0.279093</td>\n",
       "      <td>0.554962</td>\n",
       "    </tr>\n",
       "    <tr>\n",
       "      <th>2021-01-02</th>\n",
       "      <td>0.843119</td>\n",
       "      <td>0.583107</td>\n",
       "      <td>0.531524</td>\n",
       "      <td>0.139144</td>\n",
       "      <td>0.326495</td>\n",
       "    </tr>\n",
       "    <tr>\n",
       "      <th>2021-01-03</th>\n",
       "      <td>0.201015</td>\n",
       "      <td>0.724828</td>\n",
       "      <td>0.011241</td>\n",
       "      <td>0.051885</td>\n",
       "      <td>0.367616</td>\n",
       "    </tr>\n",
       "    <tr>\n",
       "      <th>2021-01-04</th>\n",
       "      <td>0.367234</td>\n",
       "      <td>0.295923</td>\n",
       "      <td>0.671572</td>\n",
       "      <td>0.281377</td>\n",
       "      <td>0.888606</td>\n",
       "    </tr>\n",
       "  </tbody>\n",
       "</table>\n",
       "</div>"
      ],
      "text/plain": [
       "                   A         B         C         D         E\n",
       "2021-01-01  0.021547  0.428380  0.542407  0.279093  0.554962\n",
       "2021-01-02  0.843119  0.583107  0.531524  0.139144  0.326495\n",
       "2021-01-03  0.201015  0.724828  0.011241  0.051885  0.367616\n",
       "2021-01-04  0.367234  0.295923  0.671572  0.281377  0.888606"
      ]
     },
     "execution_count": 452,
     "metadata": {},
     "output_type": "execute_result"
    }
   ],
   "source": [
    "df.head(4)"
   ]
  },
  {
   "cell_type": "code",
   "execution_count": 453,
   "id": "c8e76031",
   "metadata": {
    "ExecuteTime": {
     "end_time": "2022-05-20T20:35:41.951516Z",
     "start_time": "2022-05-20T20:35:41.861712Z"
    },
    "hidden": true
   },
   "outputs": [
    {
     "data": {
      "text/plain": [
       "2022-08-19    0.763628\n",
       "2022-08-20    0.216176\n",
       "2022-08-21    0.042622\n",
       "2022-08-22    0.451007\n",
       "2022-08-23    0.327430\n",
       "Freq: D, Name: D, dtype: float64"
      ]
     },
     "execution_count": 453,
     "metadata": {},
     "output_type": "execute_result"
    }
   ],
   "source": [
    "df['D'].tail(5)"
   ]
  },
  {
   "cell_type": "code",
   "execution_count": 454,
   "id": "b48869e1",
   "metadata": {
    "ExecuteTime": {
     "end_time": "2022-05-20T20:35:42.030912Z",
     "start_time": "2022-05-20T20:35:41.955485Z"
    },
    "hidden": true
   },
   "outputs": [
    {
     "data": {
      "text/html": [
       "<div>\n",
       "<style scoped>\n",
       "    .dataframe tbody tr th:only-of-type {\n",
       "        vertical-align: middle;\n",
       "    }\n",
       "\n",
       "    .dataframe tbody tr th {\n",
       "        vertical-align: top;\n",
       "    }\n",
       "\n",
       "    .dataframe thead th {\n",
       "        text-align: right;\n",
       "    }\n",
       "</style>\n",
       "<table border=\"1\" class=\"dataframe\">\n",
       "  <thead>\n",
       "    <tr style=\"text-align: right;\">\n",
       "      <th></th>\n",
       "      <th>A</th>\n",
       "      <th>B</th>\n",
       "      <th>C</th>\n",
       "      <th>D</th>\n",
       "      <th>E</th>\n",
       "    </tr>\n",
       "  </thead>\n",
       "  <tbody>\n",
       "    <tr>\n",
       "      <th>2021-01-02</th>\n",
       "      <td>0.843119</td>\n",
       "      <td>0.583107</td>\n",
       "      <td>0.531524</td>\n",
       "      <td>0.139144</td>\n",
       "      <td>0.326495</td>\n",
       "    </tr>\n",
       "    <tr>\n",
       "      <th>2021-01-03</th>\n",
       "      <td>0.201015</td>\n",
       "      <td>0.724828</td>\n",
       "      <td>0.011241</td>\n",
       "      <td>0.051885</td>\n",
       "      <td>0.367616</td>\n",
       "    </tr>\n",
       "    <tr>\n",
       "      <th>2021-01-04</th>\n",
       "      <td>0.367234</td>\n",
       "      <td>0.295923</td>\n",
       "      <td>0.671572</td>\n",
       "      <td>0.281377</td>\n",
       "      <td>0.888606</td>\n",
       "    </tr>\n",
       "    <tr>\n",
       "      <th>2021-01-05</th>\n",
       "      <td>0.366916</td>\n",
       "      <td>0.354673</td>\n",
       "      <td>0.114978</td>\n",
       "      <td>0.220624</td>\n",
       "      <td>0.813402</td>\n",
       "    </tr>\n",
       "  </tbody>\n",
       "</table>\n",
       "</div>"
      ],
      "text/plain": [
       "                   A         B         C         D         E\n",
       "2021-01-02  0.843119  0.583107  0.531524  0.139144  0.326495\n",
       "2021-01-03  0.201015  0.724828  0.011241  0.051885  0.367616\n",
       "2021-01-04  0.367234  0.295923  0.671572  0.281377  0.888606\n",
       "2021-01-05  0.366916  0.354673  0.114978  0.220624  0.813402"
      ]
     },
     "execution_count": 454,
     "metadata": {},
     "output_type": "execute_result"
    }
   ],
   "source": [
    "df[1 : 5]"
   ]
  },
  {
   "cell_type": "code",
   "execution_count": 455,
   "id": "bc8c2979",
   "metadata": {
    "ExecuteTime": {
     "end_time": "2022-05-20T20:35:42.164128Z",
     "start_time": "2022-05-20T20:35:42.033904Z"
    },
    "hidden": true
   },
   "outputs": [
    {
     "data": {
      "text/html": [
       "<div>\n",
       "<style scoped>\n",
       "    .dataframe tbody tr th:only-of-type {\n",
       "        vertical-align: middle;\n",
       "    }\n",
       "\n",
       "    .dataframe tbody tr th {\n",
       "        vertical-align: top;\n",
       "    }\n",
       "\n",
       "    .dataframe thead th {\n",
       "        text-align: right;\n",
       "    }\n",
       "</style>\n",
       "<table border=\"1\" class=\"dataframe\">\n",
       "  <thead>\n",
       "    <tr style=\"text-align: right;\">\n",
       "      <th></th>\n",
       "      <th>B</th>\n",
       "      <th>C</th>\n",
       "      <th>D</th>\n",
       "    </tr>\n",
       "  </thead>\n",
       "  <tbody>\n",
       "    <tr>\n",
       "      <th>2021-01-01</th>\n",
       "      <td>0.428380</td>\n",
       "      <td>0.542407</td>\n",
       "      <td>0.279093</td>\n",
       "    </tr>\n",
       "    <tr>\n",
       "      <th>2021-01-02</th>\n",
       "      <td>0.583107</td>\n",
       "      <td>0.531524</td>\n",
       "      <td>0.139144</td>\n",
       "    </tr>\n",
       "    <tr>\n",
       "      <th>2021-01-03</th>\n",
       "      <td>0.724828</td>\n",
       "      <td>0.011241</td>\n",
       "      <td>0.051885</td>\n",
       "    </tr>\n",
       "    <tr>\n",
       "      <th>2021-01-04</th>\n",
       "      <td>0.295923</td>\n",
       "      <td>0.671572</td>\n",
       "      <td>0.281377</td>\n",
       "    </tr>\n",
       "    <tr>\n",
       "      <th>2021-01-05</th>\n",
       "      <td>0.354673</td>\n",
       "      <td>0.114978</td>\n",
       "      <td>0.220624</td>\n",
       "    </tr>\n",
       "    <tr>\n",
       "      <th>...</th>\n",
       "      <td>...</td>\n",
       "      <td>...</td>\n",
       "      <td>...</td>\n",
       "    </tr>\n",
       "    <tr>\n",
       "      <th>2022-08-19</th>\n",
       "      <td>0.497617</td>\n",
       "      <td>0.007763</td>\n",
       "      <td>0.763628</td>\n",
       "    </tr>\n",
       "    <tr>\n",
       "      <th>2022-08-20</th>\n",
       "      <td>0.404967</td>\n",
       "      <td>0.502643</td>\n",
       "      <td>0.216176</td>\n",
       "    </tr>\n",
       "    <tr>\n",
       "      <th>2022-08-21</th>\n",
       "      <td>0.552447</td>\n",
       "      <td>0.704130</td>\n",
       "      <td>0.042622</td>\n",
       "    </tr>\n",
       "    <tr>\n",
       "      <th>2022-08-22</th>\n",
       "      <td>0.447645</td>\n",
       "      <td>0.947670</td>\n",
       "      <td>0.451007</td>\n",
       "    </tr>\n",
       "    <tr>\n",
       "      <th>2022-08-23</th>\n",
       "      <td>0.822440</td>\n",
       "      <td>0.984994</td>\n",
       "      <td>0.327430</td>\n",
       "    </tr>\n",
       "  </tbody>\n",
       "</table>\n",
       "<p>600 rows × 3 columns</p>\n",
       "</div>"
      ],
      "text/plain": [
       "                   B         C         D\n",
       "2021-01-01  0.428380  0.542407  0.279093\n",
       "2021-01-02  0.583107  0.531524  0.139144\n",
       "2021-01-03  0.724828  0.011241  0.051885\n",
       "2021-01-04  0.295923  0.671572  0.281377\n",
       "2021-01-05  0.354673  0.114978  0.220624\n",
       "...              ...       ...       ...\n",
       "2022-08-19  0.497617  0.007763  0.763628\n",
       "2022-08-20  0.404967  0.502643  0.216176\n",
       "2022-08-21  0.552447  0.704130  0.042622\n",
       "2022-08-22  0.447645  0.947670  0.451007\n",
       "2022-08-23  0.822440  0.984994  0.327430\n",
       "\n",
       "[600 rows x 3 columns]"
      ]
     },
     "execution_count": 455,
     "metadata": {},
     "output_type": "execute_result"
    }
   ],
   "source": [
    "df.loc[:, ['B', 'C', 'D']]"
   ]
  },
  {
   "cell_type": "markdown",
   "id": "a45f4cb9",
   "metadata": {
    "hidden": true
   },
   "source": [
    "**Filtragem do intervalo entre as datas especificadas e das colunas A e C**"
   ]
  },
  {
   "cell_type": "code",
   "execution_count": 456,
   "id": "19f47715",
   "metadata": {
    "ExecuteTime": {
     "end_time": "2022-05-20T20:35:42.243241Z",
     "start_time": "2022-05-20T20:35:42.167132Z"
    },
    "hidden": true,
    "scrolled": true
   },
   "outputs": [
    {
     "data": {
      "text/html": [
       "<div>\n",
       "<style scoped>\n",
       "    .dataframe tbody tr th:only-of-type {\n",
       "        vertical-align: middle;\n",
       "    }\n",
       "\n",
       "    .dataframe tbody tr th {\n",
       "        vertical-align: top;\n",
       "    }\n",
       "\n",
       "    .dataframe thead th {\n",
       "        text-align: right;\n",
       "    }\n",
       "</style>\n",
       "<table border=\"1\" class=\"dataframe\">\n",
       "  <thead>\n",
       "    <tr style=\"text-align: right;\">\n",
       "      <th></th>\n",
       "      <th>A</th>\n",
       "      <th>C</th>\n",
       "    </tr>\n",
       "  </thead>\n",
       "  <tbody>\n",
       "    <tr>\n",
       "      <th>2022-01-01</th>\n",
       "      <td>0.436381</td>\n",
       "      <td>0.078828</td>\n",
       "    </tr>\n",
       "    <tr>\n",
       "      <th>2022-01-02</th>\n",
       "      <td>0.770485</td>\n",
       "      <td>0.143371</td>\n",
       "    </tr>\n",
       "    <tr>\n",
       "      <th>2022-01-03</th>\n",
       "      <td>0.069644</td>\n",
       "      <td>0.004678</td>\n",
       "    </tr>\n",
       "    <tr>\n",
       "      <th>2022-01-04</th>\n",
       "      <td>0.776966</td>\n",
       "      <td>0.009622</td>\n",
       "    </tr>\n",
       "    <tr>\n",
       "      <th>2022-01-05</th>\n",
       "      <td>0.140590</td>\n",
       "      <td>0.978920</td>\n",
       "    </tr>\n",
       "  </tbody>\n",
       "</table>\n",
       "</div>"
      ],
      "text/plain": [
       "                   A         C\n",
       "2022-01-01  0.436381  0.078828\n",
       "2022-01-02  0.770485  0.143371\n",
       "2022-01-03  0.069644  0.004678\n",
       "2022-01-04  0.776966  0.009622\n",
       "2022-01-05  0.140590  0.978920"
      ]
     },
     "execution_count": 456,
     "metadata": {},
     "output_type": "execute_result"
    }
   ],
   "source": [
    "df.loc['20220101' : '20220323', ['A', 'C']].head(5)"
   ]
  },
  {
   "cell_type": "markdown",
   "id": "9450ad77",
   "metadata": {
    "hidden": true
   },
   "source": [
    "**Filtragem de todas as colunas da linha 1**"
   ]
  },
  {
   "cell_type": "code",
   "execution_count": 457,
   "id": "a66ff12e",
   "metadata": {
    "ExecuteTime": {
     "end_time": "2022-05-20T20:35:42.309479Z",
     "start_time": "2022-05-20T20:35:42.246231Z"
    },
    "hidden": true,
    "scrolled": true
   },
   "outputs": [
    {
     "data": {
      "text/plain": [
       "A    0.843119\n",
       "B    0.583107\n",
       "C    0.531524\n",
       "D    0.139144\n",
       "E    0.326495\n",
       "Name: 2021-01-02 00:00:00, dtype: float64"
      ]
     },
     "execution_count": 457,
     "metadata": {},
     "output_type": "execute_result"
    }
   ],
   "source": [
    "df.iloc[1]"
   ]
  },
  {
   "cell_type": "markdown",
   "id": "51bf6816",
   "metadata": {
    "hidden": true
   },
   "source": [
    "**Filtragem de um intervalo específico entre linhas e colunas (1º intervalo linhas, 2º colunas)**"
   ]
  },
  {
   "cell_type": "code",
   "execution_count": 458,
   "id": "a32b4bfb",
   "metadata": {
    "ExecuteTime": {
     "end_time": "2022-05-20T20:35:42.500122Z",
     "start_time": "2022-05-20T20:35:42.312477Z"
    },
    "hidden": true,
    "scrolled": true
   },
   "outputs": [
    {
     "data": {
      "text/html": [
       "<div>\n",
       "<style scoped>\n",
       "    .dataframe tbody tr th:only-of-type {\n",
       "        vertical-align: middle;\n",
       "    }\n",
       "\n",
       "    .dataframe tbody tr th {\n",
       "        vertical-align: top;\n",
       "    }\n",
       "\n",
       "    .dataframe thead th {\n",
       "        text-align: right;\n",
       "    }\n",
       "</style>\n",
       "<table border=\"1\" class=\"dataframe\">\n",
       "  <thead>\n",
       "    <tr style=\"text-align: right;\">\n",
       "      <th></th>\n",
       "      <th>B</th>\n",
       "      <th>C</th>\n",
       "      <th>D</th>\n",
       "      <th>E</th>\n",
       "    </tr>\n",
       "  </thead>\n",
       "  <tbody>\n",
       "    <tr>\n",
       "      <th>2021-01-02</th>\n",
       "      <td>0.583107</td>\n",
       "      <td>0.531524</td>\n",
       "      <td>0.139144</td>\n",
       "      <td>0.326495</td>\n",
       "    </tr>\n",
       "    <tr>\n",
       "      <th>2021-01-03</th>\n",
       "      <td>0.724828</td>\n",
       "      <td>0.011241</td>\n",
       "      <td>0.051885</td>\n",
       "      <td>0.367616</td>\n",
       "    </tr>\n",
       "    <tr>\n",
       "      <th>2021-01-04</th>\n",
       "      <td>0.295923</td>\n",
       "      <td>0.671572</td>\n",
       "      <td>0.281377</td>\n",
       "      <td>0.888606</td>\n",
       "    </tr>\n",
       "  </tbody>\n",
       "</table>\n",
       "</div>"
      ],
      "text/plain": [
       "                   B         C         D         E\n",
       "2021-01-02  0.583107  0.531524  0.139144  0.326495\n",
       "2021-01-03  0.724828  0.011241  0.051885  0.367616\n",
       "2021-01-04  0.295923  0.671572  0.281377  0.888606"
      ]
     },
     "execution_count": 458,
     "metadata": {},
     "output_type": "execute_result"
    }
   ],
   "source": [
    "df.iloc[1:4, 1: 6]"
   ]
  },
  {
   "cell_type": "markdown",
   "id": "8ff7dc80",
   "metadata": {
    "hidden": true
   },
   "source": [
    "**Filtragem de linhas e colunas escolhidas**"
   ]
  },
  {
   "cell_type": "code",
   "execution_count": 459,
   "id": "345428e3",
   "metadata": {
    "ExecuteTime": {
     "end_time": "2022-05-20T20:35:42.597125Z",
     "start_time": "2022-05-20T20:35:42.506109Z"
    },
    "hidden": true
   },
   "outputs": [
    {
     "data": {
      "text/html": [
       "<div>\n",
       "<style scoped>\n",
       "    .dataframe tbody tr th:only-of-type {\n",
       "        vertical-align: middle;\n",
       "    }\n",
       "\n",
       "    .dataframe tbody tr th {\n",
       "        vertical-align: top;\n",
       "    }\n",
       "\n",
       "    .dataframe thead th {\n",
       "        text-align: right;\n",
       "    }\n",
       "</style>\n",
       "<table border=\"1\" class=\"dataframe\">\n",
       "  <thead>\n",
       "    <tr style=\"text-align: right;\">\n",
       "      <th></th>\n",
       "      <th>A</th>\n",
       "      <th>D</th>\n",
       "    </tr>\n",
       "  </thead>\n",
       "  <tbody>\n",
       "    <tr>\n",
       "      <th>2021-01-08</th>\n",
       "      <td>0.537620</td>\n",
       "      <td>0.166507</td>\n",
       "    </tr>\n",
       "    <tr>\n",
       "      <th>2021-01-05</th>\n",
       "      <td>0.366916</td>\n",
       "      <td>0.220624</td>\n",
       "    </tr>\n",
       "    <tr>\n",
       "      <th>2021-01-09</th>\n",
       "      <td>0.941162</td>\n",
       "      <td>0.855022</td>\n",
       "    </tr>\n",
       "  </tbody>\n",
       "</table>\n",
       "</div>"
      ],
      "text/plain": [
       "                   A         D\n",
       "2021-01-08  0.537620  0.166507\n",
       "2021-01-05  0.366916  0.220624\n",
       "2021-01-09  0.941162  0.855022"
      ]
     },
     "execution_count": 459,
     "metadata": {},
     "output_type": "execute_result"
    }
   ],
   "source": [
    "df.iloc[[7, 4, 8], [0, 3]]"
   ]
  },
  {
   "cell_type": "markdown",
   "id": "be9fb81b",
   "metadata": {
    "hidden": true
   },
   "source": [
    "**Filtros booleanos**"
   ]
  },
  {
   "cell_type": "code",
   "execution_count": 460,
   "id": "e2341712",
   "metadata": {
    "ExecuteTime": {
     "end_time": "2022-05-20T20:35:42.700260Z",
     "start_time": "2022-05-20T20:35:42.603096Z"
    },
    "hidden": true
   },
   "outputs": [
    {
     "data": {
      "text/html": [
       "<div>\n",
       "<style scoped>\n",
       "    .dataframe tbody tr th:only-of-type {\n",
       "        vertical-align: middle;\n",
       "    }\n",
       "\n",
       "    .dataframe tbody tr th {\n",
       "        vertical-align: top;\n",
       "    }\n",
       "\n",
       "    .dataframe thead th {\n",
       "        text-align: right;\n",
       "    }\n",
       "</style>\n",
       "<table border=\"1\" class=\"dataframe\">\n",
       "  <thead>\n",
       "    <tr style=\"text-align: right;\">\n",
       "      <th></th>\n",
       "      <th>A</th>\n",
       "      <th>B</th>\n",
       "      <th>C</th>\n",
       "      <th>D</th>\n",
       "      <th>E</th>\n",
       "    </tr>\n",
       "  </thead>\n",
       "  <tbody>\n",
       "    <tr>\n",
       "      <th>2021-01-01</th>\n",
       "      <td>0.021547</td>\n",
       "      <td>0.428380</td>\n",
       "      <td>0.542407</td>\n",
       "      <td>0.279093</td>\n",
       "      <td>0.554962</td>\n",
       "    </tr>\n",
       "    <tr>\n",
       "      <th>2021-01-02</th>\n",
       "      <td>0.843119</td>\n",
       "      <td>0.583107</td>\n",
       "      <td>0.531524</td>\n",
       "      <td>0.139144</td>\n",
       "      <td>0.326495</td>\n",
       "    </tr>\n",
       "    <tr>\n",
       "      <th>2021-01-03</th>\n",
       "      <td>0.201015</td>\n",
       "      <td>0.724828</td>\n",
       "      <td>0.011241</td>\n",
       "      <td>0.051885</td>\n",
       "      <td>0.367616</td>\n",
       "    </tr>\n",
       "    <tr>\n",
       "      <th>2021-01-04</th>\n",
       "      <td>0.367234</td>\n",
       "      <td>0.295923</td>\n",
       "      <td>0.671572</td>\n",
       "      <td>0.281377</td>\n",
       "      <td>0.888606</td>\n",
       "    </tr>\n",
       "    <tr>\n",
       "      <th>2021-01-05</th>\n",
       "      <td>0.366916</td>\n",
       "      <td>0.354673</td>\n",
       "      <td>0.114978</td>\n",
       "      <td>0.220624</td>\n",
       "      <td>0.813402</td>\n",
       "    </tr>\n",
       "    <tr>\n",
       "      <th>...</th>\n",
       "      <td>...</td>\n",
       "      <td>...</td>\n",
       "      <td>...</td>\n",
       "      <td>...</td>\n",
       "      <td>...</td>\n",
       "    </tr>\n",
       "    <tr>\n",
       "      <th>2022-08-19</th>\n",
       "      <td>0.507953</td>\n",
       "      <td>0.497617</td>\n",
       "      <td>0.007763</td>\n",
       "      <td>0.763628</td>\n",
       "      <td>0.535182</td>\n",
       "    </tr>\n",
       "    <tr>\n",
       "      <th>2022-08-20</th>\n",
       "      <td>0.038485</td>\n",
       "      <td>0.404967</td>\n",
       "      <td>0.502643</td>\n",
       "      <td>0.216176</td>\n",
       "      <td>0.035315</td>\n",
       "    </tr>\n",
       "    <tr>\n",
       "      <th>2022-08-21</th>\n",
       "      <td>0.267950</td>\n",
       "      <td>0.552447</td>\n",
       "      <td>0.704130</td>\n",
       "      <td>0.042622</td>\n",
       "      <td>0.906845</td>\n",
       "    </tr>\n",
       "    <tr>\n",
       "      <th>2022-08-22</th>\n",
       "      <td>0.688848</td>\n",
       "      <td>0.447645</td>\n",
       "      <td>0.947670</td>\n",
       "      <td>0.451007</td>\n",
       "      <td>0.009681</td>\n",
       "    </tr>\n",
       "    <tr>\n",
       "      <th>2022-08-23</th>\n",
       "      <td>0.581289</td>\n",
       "      <td>0.822440</td>\n",
       "      <td>0.984994</td>\n",
       "      <td>0.327430</td>\n",
       "      <td>0.282426</td>\n",
       "    </tr>\n",
       "  </tbody>\n",
       "</table>\n",
       "<p>600 rows × 5 columns</p>\n",
       "</div>"
      ],
      "text/plain": [
       "                   A         B         C         D         E\n",
       "2021-01-01  0.021547  0.428380  0.542407  0.279093  0.554962\n",
       "2021-01-02  0.843119  0.583107  0.531524  0.139144  0.326495\n",
       "2021-01-03  0.201015  0.724828  0.011241  0.051885  0.367616\n",
       "2021-01-04  0.367234  0.295923  0.671572  0.281377  0.888606\n",
       "2021-01-05  0.366916  0.354673  0.114978  0.220624  0.813402\n",
       "...              ...       ...       ...       ...       ...\n",
       "2022-08-19  0.507953  0.497617  0.007763  0.763628  0.535182\n",
       "2022-08-20  0.038485  0.404967  0.502643  0.216176  0.035315\n",
       "2022-08-21  0.267950  0.552447  0.704130  0.042622  0.906845\n",
       "2022-08-22  0.688848  0.447645  0.947670  0.451007  0.009681\n",
       "2022-08-23  0.581289  0.822440  0.984994  0.327430  0.282426\n",
       "\n",
       "[600 rows x 5 columns]"
      ]
     },
     "execution_count": 460,
     "metadata": {},
     "output_type": "execute_result"
    }
   ],
   "source": [
    "df[df.A>0]"
   ]
  },
  {
   "cell_type": "code",
   "execution_count": 461,
   "id": "259289ac",
   "metadata": {
    "ExecuteTime": {
     "end_time": "2022-05-20T20:35:42.830983Z",
     "start_time": "2022-05-20T20:35:42.703267Z"
    },
    "hidden": true
   },
   "outputs": [
    {
     "data": {
      "text/html": [
       "<div>\n",
       "<style scoped>\n",
       "    .dataframe tbody tr th:only-of-type {\n",
       "        vertical-align: middle;\n",
       "    }\n",
       "\n",
       "    .dataframe tbody tr th {\n",
       "        vertical-align: top;\n",
       "    }\n",
       "\n",
       "    .dataframe thead th {\n",
       "        text-align: right;\n",
       "    }\n",
       "</style>\n",
       "<table border=\"1\" class=\"dataframe\">\n",
       "  <thead>\n",
       "    <tr style=\"text-align: right;\">\n",
       "      <th></th>\n",
       "      <th>A</th>\n",
       "      <th>B</th>\n",
       "      <th>C</th>\n",
       "      <th>D</th>\n",
       "      <th>E</th>\n",
       "    </tr>\n",
       "  </thead>\n",
       "  <tbody>\n",
       "    <tr>\n",
       "      <th>2021-01-01</th>\n",
       "      <td>0.021547</td>\n",
       "      <td>0.428380</td>\n",
       "      <td>0.542407</td>\n",
       "      <td>0.279093</td>\n",
       "      <td>0.554962</td>\n",
       "    </tr>\n",
       "    <tr>\n",
       "      <th>2021-01-02</th>\n",
       "      <td>0.843119</td>\n",
       "      <td>0.583107</td>\n",
       "      <td>0.531524</td>\n",
       "      <td>0.139144</td>\n",
       "      <td>0.326495</td>\n",
       "    </tr>\n",
       "    <tr>\n",
       "      <th>2021-01-03</th>\n",
       "      <td>0.201015</td>\n",
       "      <td>0.724828</td>\n",
       "      <td>0.011241</td>\n",
       "      <td>0.051885</td>\n",
       "      <td>0.367616</td>\n",
       "    </tr>\n",
       "    <tr>\n",
       "      <th>2021-01-04</th>\n",
       "      <td>0.367234</td>\n",
       "      <td>0.295923</td>\n",
       "      <td>0.671572</td>\n",
       "      <td>0.281377</td>\n",
       "      <td>0.888606</td>\n",
       "    </tr>\n",
       "    <tr>\n",
       "      <th>2021-01-05</th>\n",
       "      <td>0.366916</td>\n",
       "      <td>0.354673</td>\n",
       "      <td>0.114978</td>\n",
       "      <td>0.220624</td>\n",
       "      <td>0.813402</td>\n",
       "    </tr>\n",
       "    <tr>\n",
       "      <th>...</th>\n",
       "      <td>...</td>\n",
       "      <td>...</td>\n",
       "      <td>...</td>\n",
       "      <td>...</td>\n",
       "      <td>...</td>\n",
       "    </tr>\n",
       "    <tr>\n",
       "      <th>2022-08-19</th>\n",
       "      <td>0.507953</td>\n",
       "      <td>0.497617</td>\n",
       "      <td>0.007763</td>\n",
       "      <td>0.763628</td>\n",
       "      <td>0.535182</td>\n",
       "    </tr>\n",
       "    <tr>\n",
       "      <th>2022-08-20</th>\n",
       "      <td>0.038485</td>\n",
       "      <td>0.404967</td>\n",
       "      <td>0.502643</td>\n",
       "      <td>0.216176</td>\n",
       "      <td>0.035315</td>\n",
       "    </tr>\n",
       "    <tr>\n",
       "      <th>2022-08-21</th>\n",
       "      <td>0.267950</td>\n",
       "      <td>0.552447</td>\n",
       "      <td>0.704130</td>\n",
       "      <td>0.042622</td>\n",
       "      <td>0.906845</td>\n",
       "    </tr>\n",
       "    <tr>\n",
       "      <th>2022-08-22</th>\n",
       "      <td>0.688848</td>\n",
       "      <td>0.447645</td>\n",
       "      <td>0.947670</td>\n",
       "      <td>0.451007</td>\n",
       "      <td>0.009681</td>\n",
       "    </tr>\n",
       "    <tr>\n",
       "      <th>2022-08-23</th>\n",
       "      <td>0.581289</td>\n",
       "      <td>0.822440</td>\n",
       "      <td>0.984994</td>\n",
       "      <td>0.327430</td>\n",
       "      <td>0.282426</td>\n",
       "    </tr>\n",
       "  </tbody>\n",
       "</table>\n",
       "<p>600 rows × 5 columns</p>\n",
       "</div>"
      ],
      "text/plain": [
       "                   A         B         C         D         E\n",
       "2021-01-01  0.021547  0.428380  0.542407  0.279093  0.554962\n",
       "2021-01-02  0.843119  0.583107  0.531524  0.139144  0.326495\n",
       "2021-01-03  0.201015  0.724828  0.011241  0.051885  0.367616\n",
       "2021-01-04  0.367234  0.295923  0.671572  0.281377  0.888606\n",
       "2021-01-05  0.366916  0.354673  0.114978  0.220624  0.813402\n",
       "...              ...       ...       ...       ...       ...\n",
       "2022-08-19  0.507953  0.497617  0.007763  0.763628  0.535182\n",
       "2022-08-20  0.038485  0.404967  0.502643  0.216176  0.035315\n",
       "2022-08-21  0.267950  0.552447  0.704130  0.042622  0.906845\n",
       "2022-08-22  0.688848  0.447645  0.947670  0.451007  0.009681\n",
       "2022-08-23  0.581289  0.822440  0.984994  0.327430  0.282426\n",
       "\n",
       "[600 rows x 5 columns]"
      ]
     },
     "execution_count": 461,
     "metadata": {},
     "output_type": "execute_result"
    }
   ],
   "source": [
    "df[df > 0]"
   ]
  },
  {
   "cell_type": "markdown",
   "id": "b481b5e5",
   "metadata": {},
   "source": [
    "## 2.7. Limpeza dos dados"
   ]
  },
  {
   "cell_type": "markdown",
   "id": "6b26f911",
   "metadata": {
    "heading_collapsed": true
   },
   "source": [
    "### 2.7.1 Sumarização dos dados"
   ]
  },
  {
   "cell_type": "code",
   "execution_count": 462,
   "id": "40c88cb4",
   "metadata": {
    "ExecuteTime": {
     "end_time": "2022-05-20T20:35:42.877712Z",
     "start_time": "2022-05-20T20:35:42.834680Z"
    },
    "hidden": true
   },
   "outputs": [],
   "source": [
    "datas = pd.date_range('20180101', periods = 6)\n",
    "\n",
    "df = pd.DataFrame(np.random.randn(6,4), index = datas, columns = ['var_A', 'var_B', 'var_C', 'var_D'])"
   ]
  },
  {
   "cell_type": "code",
   "execution_count": 463,
   "id": "8b2cfae4",
   "metadata": {
    "ExecuteTime": {
     "end_time": "2022-05-20T20:35:42.972733Z",
     "start_time": "2022-05-20T20:35:42.880717Z"
    },
    "hidden": true
   },
   "outputs": [],
   "source": [
    "df2 = pd.DataFrame({'A': pd.Timestamp('20130102'),\n",
    "                    'B': pd.Series(1, index = list(range(4)), dtype= 'float32'),\n",
    "                    'C': np.array([3] * 4, dtype = 'int32'),\n",
    "                    'D': pd.Categorical(['test', 'train', 'test', 'train']),\n",
    "                    'F': 'Python'\n",
    "    \n",
    "})"
   ]
  },
  {
   "cell_type": "code",
   "execution_count": 464,
   "id": "aacbff55",
   "metadata": {
    "ExecuteTime": {
     "end_time": "2022-05-20T20:35:43.067321Z",
     "start_time": "2022-05-20T20:35:42.979727Z"
    },
    "hidden": true
   },
   "outputs": [
    {
     "data": {
      "text/html": [
       "<div>\n",
       "<style scoped>\n",
       "    .dataframe tbody tr th:only-of-type {\n",
       "        vertical-align: middle;\n",
       "    }\n",
       "\n",
       "    .dataframe tbody tr th {\n",
       "        vertical-align: top;\n",
       "    }\n",
       "\n",
       "    .dataframe thead th {\n",
       "        text-align: right;\n",
       "    }\n",
       "</style>\n",
       "<table border=\"1\" class=\"dataframe\">\n",
       "  <thead>\n",
       "    <tr style=\"text-align: right;\">\n",
       "      <th></th>\n",
       "      <th>var_A</th>\n",
       "      <th>var_B</th>\n",
       "      <th>var_C</th>\n",
       "      <th>var_D</th>\n",
       "    </tr>\n",
       "  </thead>\n",
       "  <tbody>\n",
       "    <tr>\n",
       "      <th>2018-01-01</th>\n",
       "      <td>0.246660</td>\n",
       "      <td>-0.263178</td>\n",
       "      <td>1.552661</td>\n",
       "      <td>-0.109595</td>\n",
       "    </tr>\n",
       "    <tr>\n",
       "      <th>2018-01-02</th>\n",
       "      <td>-0.851810</td>\n",
       "      <td>0.536350</td>\n",
       "      <td>-1.353763</td>\n",
       "      <td>-2.540346</td>\n",
       "    </tr>\n",
       "    <tr>\n",
       "      <th>2018-01-03</th>\n",
       "      <td>-1.195132</td>\n",
       "      <td>-2.201084</td>\n",
       "      <td>-0.483701</td>\n",
       "      <td>-0.453930</td>\n",
       "    </tr>\n",
       "    <tr>\n",
       "      <th>2018-01-04</th>\n",
       "      <td>-2.833019</td>\n",
       "      <td>-0.882256</td>\n",
       "      <td>-0.337155</td>\n",
       "      <td>1.427728</td>\n",
       "    </tr>\n",
       "    <tr>\n",
       "      <th>2018-01-05</th>\n",
       "      <td>0.311277</td>\n",
       "      <td>-0.201444</td>\n",
       "      <td>-1.184356</td>\n",
       "      <td>-0.648900</td>\n",
       "    </tr>\n",
       "    <tr>\n",
       "      <th>2018-01-06</th>\n",
       "      <td>0.092450</td>\n",
       "      <td>-0.282128</td>\n",
       "      <td>-0.430210</td>\n",
       "      <td>0.121224</td>\n",
       "    </tr>\n",
       "  </tbody>\n",
       "</table>\n",
       "</div>"
      ],
      "text/plain": [
       "               var_A     var_B     var_C     var_D\n",
       "2018-01-01  0.246660 -0.263178  1.552661 -0.109595\n",
       "2018-01-02 -0.851810  0.536350 -1.353763 -2.540346\n",
       "2018-01-03 -1.195132 -2.201084 -0.483701 -0.453930\n",
       "2018-01-04 -2.833019 -0.882256 -0.337155  1.427728\n",
       "2018-01-05  0.311277 -0.201444 -1.184356 -0.648900\n",
       "2018-01-06  0.092450 -0.282128 -0.430210  0.121224"
      ]
     },
     "execution_count": 464,
     "metadata": {},
     "output_type": "execute_result"
    }
   ],
   "source": [
    "df"
   ]
  },
  {
   "cell_type": "code",
   "execution_count": 465,
   "id": "08e53b60",
   "metadata": {
    "ExecuteTime": {
     "end_time": "2022-05-20T20:35:43.144506Z",
     "start_time": "2022-05-20T20:35:43.071319Z"
    },
    "hidden": true,
    "scrolled": false
   },
   "outputs": [
    {
     "data": {
      "text/plain": [
       "(6, 4)"
      ]
     },
     "execution_count": 465,
     "metadata": {},
     "output_type": "execute_result"
    }
   ],
   "source": [
    "df.shape"
   ]
  },
  {
   "cell_type": "code",
   "execution_count": 466,
   "id": "43f9071e",
   "metadata": {
    "ExecuteTime": {
     "end_time": "2022-05-20T20:35:43.241503Z",
     "start_time": "2022-05-20T20:35:43.147503Z"
    },
    "hidden": true,
    "scrolled": true
   },
   "outputs": [
    {
     "data": {
      "text/plain": [
       "var_A    float64\n",
       "var_B    float64\n",
       "var_C    float64\n",
       "var_D    float64\n",
       "dtype: object"
      ]
     },
     "execution_count": 466,
     "metadata": {},
     "output_type": "execute_result"
    }
   ],
   "source": [
    "df.dtypes"
   ]
  },
  {
   "cell_type": "code",
   "execution_count": 467,
   "id": "7d91ad5f",
   "metadata": {
    "ExecuteTime": {
     "end_time": "2022-05-20T20:35:43.353261Z",
     "start_time": "2022-05-20T20:35:43.244499Z"
    },
    "hidden": true,
    "scrolled": true
   },
   "outputs": [
    {
     "data": {
      "text/html": [
       "<div>\n",
       "<style scoped>\n",
       "    .dataframe tbody tr th:only-of-type {\n",
       "        vertical-align: middle;\n",
       "    }\n",
       "\n",
       "    .dataframe tbody tr th {\n",
       "        vertical-align: top;\n",
       "    }\n",
       "\n",
       "    .dataframe thead th {\n",
       "        text-align: right;\n",
       "    }\n",
       "</style>\n",
       "<table border=\"1\" class=\"dataframe\">\n",
       "  <thead>\n",
       "    <tr style=\"text-align: right;\">\n",
       "      <th></th>\n",
       "      <th>var_A</th>\n",
       "      <th>var_B</th>\n",
       "      <th>var_C</th>\n",
       "      <th>var_D</th>\n",
       "    </tr>\n",
       "  </thead>\n",
       "  <tbody>\n",
       "    <tr>\n",
       "      <th>count</th>\n",
       "      <td>6.000000</td>\n",
       "      <td>6.000000</td>\n",
       "      <td>6.000000</td>\n",
       "      <td>6.000000</td>\n",
       "    </tr>\n",
       "    <tr>\n",
       "      <th>mean</th>\n",
       "      <td>-0.704929</td>\n",
       "      <td>-0.548957</td>\n",
       "      <td>-0.372754</td>\n",
       "      <td>-0.367303</td>\n",
       "    </tr>\n",
       "    <tr>\n",
       "      <th>std</th>\n",
       "      <td>1.213643</td>\n",
       "      <td>0.926514</td>\n",
       "      <td>1.033942</td>\n",
       "      <td>1.291211</td>\n",
       "    </tr>\n",
       "    <tr>\n",
       "      <th>min</th>\n",
       "      <td>-2.833019</td>\n",
       "      <td>-2.201084</td>\n",
       "      <td>-1.353763</td>\n",
       "      <td>-2.540346</td>\n",
       "    </tr>\n",
       "    <tr>\n",
       "      <th>25%</th>\n",
       "      <td>-1.109302</td>\n",
       "      <td>-0.732224</td>\n",
       "      <td>-1.009192</td>\n",
       "      <td>-0.600158</td>\n",
       "    </tr>\n",
       "    <tr>\n",
       "      <th>50%</th>\n",
       "      <td>-0.379680</td>\n",
       "      <td>-0.272653</td>\n",
       "      <td>-0.456956</td>\n",
       "      <td>-0.281763</td>\n",
       "    </tr>\n",
       "    <tr>\n",
       "      <th>75%</th>\n",
       "      <td>0.208107</td>\n",
       "      <td>-0.216878</td>\n",
       "      <td>-0.360419</td>\n",
       "      <td>0.063520</td>\n",
       "    </tr>\n",
       "    <tr>\n",
       "      <th>max</th>\n",
       "      <td>0.311277</td>\n",
       "      <td>0.536350</td>\n",
       "      <td>1.552661</td>\n",
       "      <td>1.427728</td>\n",
       "    </tr>\n",
       "  </tbody>\n",
       "</table>\n",
       "</div>"
      ],
      "text/plain": [
       "          var_A     var_B     var_C     var_D\n",
       "count  6.000000  6.000000  6.000000  6.000000\n",
       "mean  -0.704929 -0.548957 -0.372754 -0.367303\n",
       "std    1.213643  0.926514  1.033942  1.291211\n",
       "min   -2.833019 -2.201084 -1.353763 -2.540346\n",
       "25%   -1.109302 -0.732224 -1.009192 -0.600158\n",
       "50%   -0.379680 -0.272653 -0.456956 -0.281763\n",
       "75%    0.208107 -0.216878 -0.360419  0.063520\n",
       "max    0.311277  0.536350  1.552661  1.427728"
      ]
     },
     "execution_count": 467,
     "metadata": {},
     "output_type": "execute_result"
    }
   ],
   "source": [
    "df.describe()"
   ]
  },
  {
   "cell_type": "code",
   "execution_count": 468,
   "id": "7329ae7f",
   "metadata": {
    "ExecuteTime": {
     "end_time": "2022-05-20T20:35:43.415408Z",
     "start_time": "2022-05-20T20:35:43.357255Z"
    },
    "hidden": true,
    "scrolled": true
   },
   "outputs": [
    {
     "data": {
      "text/html": [
       "<div>\n",
       "<style scoped>\n",
       "    .dataframe tbody tr th:only-of-type {\n",
       "        vertical-align: middle;\n",
       "    }\n",
       "\n",
       "    .dataframe tbody tr th {\n",
       "        vertical-align: top;\n",
       "    }\n",
       "\n",
       "    .dataframe thead th {\n",
       "        text-align: right;\n",
       "    }\n",
       "</style>\n",
       "<table border=\"1\" class=\"dataframe\">\n",
       "  <thead>\n",
       "    <tr style=\"text-align: right;\">\n",
       "      <th></th>\n",
       "      <th>A</th>\n",
       "      <th>B</th>\n",
       "      <th>C</th>\n",
       "      <th>D</th>\n",
       "      <th>F</th>\n",
       "    </tr>\n",
       "  </thead>\n",
       "  <tbody>\n",
       "    <tr>\n",
       "      <th>0</th>\n",
       "      <td>2013-01-02</td>\n",
       "      <td>1.0</td>\n",
       "      <td>3</td>\n",
       "      <td>test</td>\n",
       "      <td>Python</td>\n",
       "    </tr>\n",
       "    <tr>\n",
       "      <th>1</th>\n",
       "      <td>2013-01-02</td>\n",
       "      <td>1.0</td>\n",
       "      <td>3</td>\n",
       "      <td>train</td>\n",
       "      <td>Python</td>\n",
       "    </tr>\n",
       "    <tr>\n",
       "      <th>2</th>\n",
       "      <td>2013-01-02</td>\n",
       "      <td>1.0</td>\n",
       "      <td>3</td>\n",
       "      <td>test</td>\n",
       "      <td>Python</td>\n",
       "    </tr>\n",
       "    <tr>\n",
       "      <th>3</th>\n",
       "      <td>2013-01-02</td>\n",
       "      <td>1.0</td>\n",
       "      <td>3</td>\n",
       "      <td>train</td>\n",
       "      <td>Python</td>\n",
       "    </tr>\n",
       "  </tbody>\n",
       "</table>\n",
       "</div>"
      ],
      "text/plain": [
       "           A    B  C      D       F\n",
       "0 2013-01-02  1.0  3   test  Python\n",
       "1 2013-01-02  1.0  3  train  Python\n",
       "2 2013-01-02  1.0  3   test  Python\n",
       "3 2013-01-02  1.0  3  train  Python"
      ]
     },
     "execution_count": 468,
     "metadata": {},
     "output_type": "execute_result"
    }
   ],
   "source": [
    "df2"
   ]
  },
  {
   "cell_type": "code",
   "execution_count": 469,
   "id": "4ce87f71",
   "metadata": {
    "ExecuteTime": {
     "end_time": "2022-05-20T20:35:43.502331Z",
     "start_time": "2022-05-20T20:35:43.418433Z"
    },
    "hidden": true
   },
   "outputs": [
    {
     "data": {
      "text/plain": [
       "(6, 4)"
      ]
     },
     "execution_count": 469,
     "metadata": {},
     "output_type": "execute_result"
    }
   ],
   "source": [
    "df.shape"
   ]
  },
  {
   "cell_type": "code",
   "execution_count": 470,
   "id": "40b4fd89",
   "metadata": {
    "ExecuteTime": {
     "end_time": "2022-05-20T20:35:43.583775Z",
     "start_time": "2022-05-20T20:35:43.508328Z"
    },
    "hidden": true
   },
   "outputs": [
    {
     "data": {
      "text/plain": [
       "A    datetime64[ns]\n",
       "B           float32\n",
       "C             int32\n",
       "D          category\n",
       "F            object\n",
       "dtype: object"
      ]
     },
     "execution_count": 470,
     "metadata": {},
     "output_type": "execute_result"
    }
   ],
   "source": [
    "df2.dtypes"
   ]
  },
  {
   "cell_type": "code",
   "execution_count": 471,
   "id": "880daf73",
   "metadata": {
    "ExecuteTime": {
     "end_time": "2022-05-20T20:35:43.681203Z",
     "start_time": "2022-05-20T20:35:43.586768Z"
    },
    "hidden": true,
    "scrolled": false
   },
   "outputs": [
    {
     "data": {
      "text/html": [
       "<div>\n",
       "<style scoped>\n",
       "    .dataframe tbody tr th:only-of-type {\n",
       "        vertical-align: middle;\n",
       "    }\n",
       "\n",
       "    .dataframe tbody tr th {\n",
       "        vertical-align: top;\n",
       "    }\n",
       "\n",
       "    .dataframe thead th {\n",
       "        text-align: right;\n",
       "    }\n",
       "</style>\n",
       "<table border=\"1\" class=\"dataframe\">\n",
       "  <thead>\n",
       "    <tr style=\"text-align: right;\">\n",
       "      <th></th>\n",
       "      <th>B</th>\n",
       "      <th>C</th>\n",
       "    </tr>\n",
       "  </thead>\n",
       "  <tbody>\n",
       "    <tr>\n",
       "      <th>count</th>\n",
       "      <td>4.0</td>\n",
       "      <td>4.0</td>\n",
       "    </tr>\n",
       "    <tr>\n",
       "      <th>mean</th>\n",
       "      <td>1.0</td>\n",
       "      <td>3.0</td>\n",
       "    </tr>\n",
       "    <tr>\n",
       "      <th>std</th>\n",
       "      <td>0.0</td>\n",
       "      <td>0.0</td>\n",
       "    </tr>\n",
       "    <tr>\n",
       "      <th>min</th>\n",
       "      <td>1.0</td>\n",
       "      <td>3.0</td>\n",
       "    </tr>\n",
       "    <tr>\n",
       "      <th>25%</th>\n",
       "      <td>1.0</td>\n",
       "      <td>3.0</td>\n",
       "    </tr>\n",
       "    <tr>\n",
       "      <th>50%</th>\n",
       "      <td>1.0</td>\n",
       "      <td>3.0</td>\n",
       "    </tr>\n",
       "    <tr>\n",
       "      <th>75%</th>\n",
       "      <td>1.0</td>\n",
       "      <td>3.0</td>\n",
       "    </tr>\n",
       "    <tr>\n",
       "      <th>max</th>\n",
       "      <td>1.0</td>\n",
       "      <td>3.0</td>\n",
       "    </tr>\n",
       "  </tbody>\n",
       "</table>\n",
       "</div>"
      ],
      "text/plain": [
       "         B    C\n",
       "count  4.0  4.0\n",
       "mean   1.0  3.0\n",
       "std    0.0  0.0\n",
       "min    1.0  3.0\n",
       "25%    1.0  3.0\n",
       "50%    1.0  3.0\n",
       "75%    1.0  3.0\n",
       "max    1.0  3.0"
      ]
     },
     "execution_count": 471,
     "metadata": {},
     "output_type": "execute_result"
    }
   ],
   "source": [
    "df2.describe()"
   ]
  },
  {
   "cell_type": "code",
   "execution_count": 472,
   "id": "4295bef3",
   "metadata": {
    "ExecuteTime": {
     "end_time": "2022-05-20T20:35:43.796714Z",
     "start_time": "2022-05-20T20:35:43.684177Z"
    },
    "hidden": true
   },
   "outputs": [
    {
     "data": {
      "text/html": [
       "<div>\n",
       "<style scoped>\n",
       "    .dataframe tbody tr th:only-of-type {\n",
       "        vertical-align: middle;\n",
       "    }\n",
       "\n",
       "    .dataframe tbody tr th {\n",
       "        vertical-align: top;\n",
       "    }\n",
       "\n",
       "    .dataframe thead th {\n",
       "        text-align: right;\n",
       "    }\n",
       "</style>\n",
       "<table border=\"1\" class=\"dataframe\">\n",
       "  <thead>\n",
       "    <tr style=\"text-align: right;\">\n",
       "      <th></th>\n",
       "      <th>var_A</th>\n",
       "      <th>var_B</th>\n",
       "      <th>var_C</th>\n",
       "      <th>var_D</th>\n",
       "    </tr>\n",
       "  </thead>\n",
       "  <tbody>\n",
       "    <tr>\n",
       "      <th>2018-01-01</th>\n",
       "      <td>0.246660</td>\n",
       "      <td>-0.263178</td>\n",
       "      <td>1.552661</td>\n",
       "      <td>-0.109595</td>\n",
       "    </tr>\n",
       "    <tr>\n",
       "      <th>2018-01-02</th>\n",
       "      <td>-0.851810</td>\n",
       "      <td>0.536350</td>\n",
       "      <td>-1.353763</td>\n",
       "      <td>-2.540346</td>\n",
       "    </tr>\n",
       "    <tr>\n",
       "      <th>2018-01-03</th>\n",
       "      <td>-1.195132</td>\n",
       "      <td>-2.201084</td>\n",
       "      <td>-0.483701</td>\n",
       "      <td>-0.453930</td>\n",
       "    </tr>\n",
       "    <tr>\n",
       "      <th>2018-01-04</th>\n",
       "      <td>-2.833019</td>\n",
       "      <td>-0.882256</td>\n",
       "      <td>-0.337155</td>\n",
       "      <td>1.427728</td>\n",
       "    </tr>\n",
       "    <tr>\n",
       "      <th>2018-01-05</th>\n",
       "      <td>0.311277</td>\n",
       "      <td>-0.201444</td>\n",
       "      <td>-1.184356</td>\n",
       "      <td>-0.648900</td>\n",
       "    </tr>\n",
       "    <tr>\n",
       "      <th>2018-01-06</th>\n",
       "      <td>0.092450</td>\n",
       "      <td>-0.282128</td>\n",
       "      <td>-0.430210</td>\n",
       "      <td>0.121224</td>\n",
       "    </tr>\n",
       "  </tbody>\n",
       "</table>\n",
       "</div>"
      ],
      "text/plain": [
       "               var_A     var_B     var_C     var_D\n",
       "2018-01-01  0.246660 -0.263178  1.552661 -0.109595\n",
       "2018-01-02 -0.851810  0.536350 -1.353763 -2.540346\n",
       "2018-01-03 -1.195132 -2.201084 -0.483701 -0.453930\n",
       "2018-01-04 -2.833019 -0.882256 -0.337155  1.427728\n",
       "2018-01-05  0.311277 -0.201444 -1.184356 -0.648900\n",
       "2018-01-06  0.092450 -0.282128 -0.430210  0.121224"
      ]
     },
     "execution_count": 472,
     "metadata": {},
     "output_type": "execute_result"
    }
   ],
   "source": [
    "df"
   ]
  },
  {
   "cell_type": "code",
   "execution_count": 473,
   "id": "cbe733e4",
   "metadata": {
    "ExecuteTime": {
     "end_time": "2022-05-20T20:35:43.860790Z",
     "start_time": "2022-05-20T20:35:43.800818Z"
    },
    "hidden": true
   },
   "outputs": [],
   "source": [
    "df1 = df.reindex(index = datas [ 0: 4 ], columns = list(df.columns) + ['var_E'])"
   ]
  },
  {
   "cell_type": "code",
   "execution_count": 474,
   "id": "42a78fd9",
   "metadata": {
    "ExecuteTime": {
     "end_time": "2022-05-20T20:35:43.985747Z",
     "start_time": "2022-05-20T20:35:43.865766Z"
    },
    "hidden": true
   },
   "outputs": [
    {
     "data": {
      "text/html": [
       "<div>\n",
       "<style scoped>\n",
       "    .dataframe tbody tr th:only-of-type {\n",
       "        vertical-align: middle;\n",
       "    }\n",
       "\n",
       "    .dataframe tbody tr th {\n",
       "        vertical-align: top;\n",
       "    }\n",
       "\n",
       "    .dataframe thead th {\n",
       "        text-align: right;\n",
       "    }\n",
       "</style>\n",
       "<table border=\"1\" class=\"dataframe\">\n",
       "  <thead>\n",
       "    <tr style=\"text-align: right;\">\n",
       "      <th></th>\n",
       "      <th>var_A</th>\n",
       "      <th>var_B</th>\n",
       "      <th>var_C</th>\n",
       "      <th>var_D</th>\n",
       "      <th>var_E</th>\n",
       "    </tr>\n",
       "  </thead>\n",
       "  <tbody>\n",
       "    <tr>\n",
       "      <th>2018-01-01</th>\n",
       "      <td>0.246660</td>\n",
       "      <td>-0.263178</td>\n",
       "      <td>1.552661</td>\n",
       "      <td>-0.109595</td>\n",
       "      <td>NaN</td>\n",
       "    </tr>\n",
       "    <tr>\n",
       "      <th>2018-01-02</th>\n",
       "      <td>-0.851810</td>\n",
       "      <td>0.536350</td>\n",
       "      <td>-1.353763</td>\n",
       "      <td>-2.540346</td>\n",
       "      <td>NaN</td>\n",
       "    </tr>\n",
       "    <tr>\n",
       "      <th>2018-01-03</th>\n",
       "      <td>-1.195132</td>\n",
       "      <td>-2.201084</td>\n",
       "      <td>-0.483701</td>\n",
       "      <td>-0.453930</td>\n",
       "      <td>NaN</td>\n",
       "    </tr>\n",
       "    <tr>\n",
       "      <th>2018-01-04</th>\n",
       "      <td>-2.833019</td>\n",
       "      <td>-0.882256</td>\n",
       "      <td>-0.337155</td>\n",
       "      <td>1.427728</td>\n",
       "      <td>NaN</td>\n",
       "    </tr>\n",
       "  </tbody>\n",
       "</table>\n",
       "</div>"
      ],
      "text/plain": [
       "               var_A     var_B     var_C     var_D  var_E\n",
       "2018-01-01  0.246660 -0.263178  1.552661 -0.109595    NaN\n",
       "2018-01-02 -0.851810  0.536350 -1.353763 -2.540346    NaN\n",
       "2018-01-03 -1.195132 -2.201084 -0.483701 -0.453930    NaN\n",
       "2018-01-04 -2.833019 -0.882256 -0.337155  1.427728    NaN"
      ]
     },
     "execution_count": 474,
     "metadata": {},
     "output_type": "execute_result"
    }
   ],
   "source": [
    "df1"
   ]
  },
  {
   "cell_type": "code",
   "execution_count": 475,
   "id": "d43b379b",
   "metadata": {
    "ExecuteTime": {
     "end_time": "2022-05-20T20:35:44.067890Z",
     "start_time": "2022-05-20T20:35:43.990742Z"
    },
    "hidden": true
   },
   "outputs": [],
   "source": [
    "df1.loc[datas[0]: datas [1], 'var_E'] = 77"
   ]
  },
  {
   "cell_type": "code",
   "execution_count": 476,
   "id": "82b21022",
   "metadata": {
    "ExecuteTime": {
     "end_time": "2022-05-20T20:35:44.148986Z",
     "start_time": "2022-05-20T20:35:44.075895Z"
    },
    "hidden": true
   },
   "outputs": [
    {
     "data": {
      "text/html": [
       "<div>\n",
       "<style scoped>\n",
       "    .dataframe tbody tr th:only-of-type {\n",
       "        vertical-align: middle;\n",
       "    }\n",
       "\n",
       "    .dataframe tbody tr th {\n",
       "        vertical-align: top;\n",
       "    }\n",
       "\n",
       "    .dataframe thead th {\n",
       "        text-align: right;\n",
       "    }\n",
       "</style>\n",
       "<table border=\"1\" class=\"dataframe\">\n",
       "  <thead>\n",
       "    <tr style=\"text-align: right;\">\n",
       "      <th></th>\n",
       "      <th>var_A</th>\n",
       "      <th>var_B</th>\n",
       "      <th>var_C</th>\n",
       "      <th>var_D</th>\n",
       "      <th>var_E</th>\n",
       "    </tr>\n",
       "  </thead>\n",
       "  <tbody>\n",
       "    <tr>\n",
       "      <th>2018-01-01</th>\n",
       "      <td>0.246660</td>\n",
       "      <td>-0.263178</td>\n",
       "      <td>1.552661</td>\n",
       "      <td>-0.109595</td>\n",
       "      <td>77.0</td>\n",
       "    </tr>\n",
       "    <tr>\n",
       "      <th>2018-01-02</th>\n",
       "      <td>-0.851810</td>\n",
       "      <td>0.536350</td>\n",
       "      <td>-1.353763</td>\n",
       "      <td>-2.540346</td>\n",
       "      <td>77.0</td>\n",
       "    </tr>\n",
       "    <tr>\n",
       "      <th>2018-01-03</th>\n",
       "      <td>-1.195132</td>\n",
       "      <td>-2.201084</td>\n",
       "      <td>-0.483701</td>\n",
       "      <td>-0.453930</td>\n",
       "      <td>NaN</td>\n",
       "    </tr>\n",
       "    <tr>\n",
       "      <th>2018-01-04</th>\n",
       "      <td>-2.833019</td>\n",
       "      <td>-0.882256</td>\n",
       "      <td>-0.337155</td>\n",
       "      <td>1.427728</td>\n",
       "      <td>NaN</td>\n",
       "    </tr>\n",
       "  </tbody>\n",
       "</table>\n",
       "</div>"
      ],
      "text/plain": [
       "               var_A     var_B     var_C     var_D  var_E\n",
       "2018-01-01  0.246660 -0.263178  1.552661 -0.109595   77.0\n",
       "2018-01-02 -0.851810  0.536350 -1.353763 -2.540346   77.0\n",
       "2018-01-03 -1.195132 -2.201084 -0.483701 -0.453930    NaN\n",
       "2018-01-04 -2.833019 -0.882256 -0.337155  1.427728    NaN"
      ]
     },
     "execution_count": 476,
     "metadata": {},
     "output_type": "execute_result"
    }
   ],
   "source": [
    "df1"
   ]
  },
  {
   "cell_type": "code",
   "execution_count": 477,
   "id": "f657a1a1",
   "metadata": {
    "ExecuteTime": {
     "end_time": "2022-05-20T20:35:44.290250Z",
     "start_time": "2022-05-20T20:35:44.151982Z"
    },
    "hidden": true
   },
   "outputs": [
    {
     "data": {
      "text/html": [
       "<div>\n",
       "<style scoped>\n",
       "    .dataframe tbody tr th:only-of-type {\n",
       "        vertical-align: middle;\n",
       "    }\n",
       "\n",
       "    .dataframe tbody tr th {\n",
       "        vertical-align: top;\n",
       "    }\n",
       "\n",
       "    .dataframe thead th {\n",
       "        text-align: right;\n",
       "    }\n",
       "</style>\n",
       "<table border=\"1\" class=\"dataframe\">\n",
       "  <thead>\n",
       "    <tr style=\"text-align: right;\">\n",
       "      <th></th>\n",
       "      <th>var_A</th>\n",
       "      <th>var_B</th>\n",
       "      <th>var_C</th>\n",
       "      <th>var_D</th>\n",
       "      <th>var_E</th>\n",
       "    </tr>\n",
       "  </thead>\n",
       "  <tbody>\n",
       "    <tr>\n",
       "      <th>count</th>\n",
       "      <td>4.000000</td>\n",
       "      <td>4.000000</td>\n",
       "      <td>4.000000</td>\n",
       "      <td>4.000000</td>\n",
       "      <td>2.0</td>\n",
       "    </tr>\n",
       "    <tr>\n",
       "      <th>mean</th>\n",
       "      <td>-1.158325</td>\n",
       "      <td>-0.702542</td>\n",
       "      <td>-0.155490</td>\n",
       "      <td>-0.419036</td>\n",
       "      <td>77.0</td>\n",
       "    </tr>\n",
       "    <tr>\n",
       "      <th>std</th>\n",
       "      <td>1.274609</td>\n",
       "      <td>1.155540</td>\n",
       "      <td>1.223977</td>\n",
       "      <td>1.633755</td>\n",
       "      <td>0.0</td>\n",
       "    </tr>\n",
       "    <tr>\n",
       "      <th>min</th>\n",
       "      <td>-2.833019</td>\n",
       "      <td>-2.201084</td>\n",
       "      <td>-1.353763</td>\n",
       "      <td>-2.540346</td>\n",
       "      <td>77.0</td>\n",
       "    </tr>\n",
       "    <tr>\n",
       "      <th>25%</th>\n",
       "      <td>-1.604604</td>\n",
       "      <td>-1.211963</td>\n",
       "      <td>-0.701217</td>\n",
       "      <td>-0.975534</td>\n",
       "      <td>77.0</td>\n",
       "    </tr>\n",
       "    <tr>\n",
       "      <th>50%</th>\n",
       "      <td>-1.023471</td>\n",
       "      <td>-0.572717</td>\n",
       "      <td>-0.410428</td>\n",
       "      <td>-0.281763</td>\n",
       "      <td>77.0</td>\n",
       "    </tr>\n",
       "    <tr>\n",
       "      <th>75%</th>\n",
       "      <td>-0.577193</td>\n",
       "      <td>-0.063296</td>\n",
       "      <td>0.135299</td>\n",
       "      <td>0.274735</td>\n",
       "      <td>77.0</td>\n",
       "    </tr>\n",
       "    <tr>\n",
       "      <th>max</th>\n",
       "      <td>0.246660</td>\n",
       "      <td>0.536350</td>\n",
       "      <td>1.552661</td>\n",
       "      <td>1.427728</td>\n",
       "      <td>77.0</td>\n",
       "    </tr>\n",
       "  </tbody>\n",
       "</table>\n",
       "</div>"
      ],
      "text/plain": [
       "          var_A     var_B     var_C     var_D  var_E\n",
       "count  4.000000  4.000000  4.000000  4.000000    2.0\n",
       "mean  -1.158325 -0.702542 -0.155490 -0.419036   77.0\n",
       "std    1.274609  1.155540  1.223977  1.633755    0.0\n",
       "min   -2.833019 -2.201084 -1.353763 -2.540346   77.0\n",
       "25%   -1.604604 -1.211963 -0.701217 -0.975534   77.0\n",
       "50%   -1.023471 -0.572717 -0.410428 -0.281763   77.0\n",
       "75%   -0.577193 -0.063296  0.135299  0.274735   77.0\n",
       "max    0.246660  0.536350  1.552661  1.427728   77.0"
      ]
     },
     "execution_count": 477,
     "metadata": {},
     "output_type": "execute_result"
    }
   ],
   "source": [
    "df1.describe()"
   ]
  },
  {
   "cell_type": "markdown",
   "id": "cfde67c2",
   "metadata": {
    "heading_collapsed": true
   },
   "source": [
    "### 2.7.2. Dados faltantes NaN"
   ]
  },
  {
   "cell_type": "code",
   "execution_count": 478,
   "id": "a68f863f",
   "metadata": {
    "ExecuteTime": {
     "end_time": "2022-05-20T20:35:44.343437Z",
     "start_time": "2022-05-20T20:35:44.294266Z"
    },
    "hidden": true
   },
   "outputs": [],
   "source": [
    "datas = pd.date_range('20180101', periods = 60, freq=\"D\")\n",
    "\n",
    "df = pd.DataFrame(np.random.randn(60,5), index = datas, columns = list(\"ABCDE\")) "
   ]
  },
  {
   "cell_type": "code",
   "execution_count": 479,
   "id": "81d243c9",
   "metadata": {
    "ExecuteTime": {
     "end_time": "2022-05-20T20:35:44.433500Z",
     "start_time": "2022-05-20T20:35:44.347449Z"
    },
    "hidden": true,
    "scrolled": true
   },
   "outputs": [
    {
     "data": {
      "text/html": [
       "<div>\n",
       "<style scoped>\n",
       "    .dataframe tbody tr th:only-of-type {\n",
       "        vertical-align: middle;\n",
       "    }\n",
       "\n",
       "    .dataframe tbody tr th {\n",
       "        vertical-align: top;\n",
       "    }\n",
       "\n",
       "    .dataframe thead th {\n",
       "        text-align: right;\n",
       "    }\n",
       "</style>\n",
       "<table border=\"1\" class=\"dataframe\">\n",
       "  <thead>\n",
       "    <tr style=\"text-align: right;\">\n",
       "      <th></th>\n",
       "      <th>A</th>\n",
       "      <th>B</th>\n",
       "      <th>C</th>\n",
       "      <th>D</th>\n",
       "      <th>E</th>\n",
       "    </tr>\n",
       "  </thead>\n",
       "  <tbody>\n",
       "    <tr>\n",
       "      <th>2018-01-01</th>\n",
       "      <td>-0.033405</td>\n",
       "      <td>0.065932</td>\n",
       "      <td>0.678457</td>\n",
       "      <td>-1.215829</td>\n",
       "      <td>-0.605459</td>\n",
       "    </tr>\n",
       "    <tr>\n",
       "      <th>2018-01-02</th>\n",
       "      <td>-0.122190</td>\n",
       "      <td>0.160209</td>\n",
       "      <td>-0.121218</td>\n",
       "      <td>-1.126751</td>\n",
       "      <td>0.753587</td>\n",
       "    </tr>\n",
       "    <tr>\n",
       "      <th>2018-01-03</th>\n",
       "      <td>0.301857</td>\n",
       "      <td>-0.464063</td>\n",
       "      <td>1.836580</td>\n",
       "      <td>0.165792</td>\n",
       "      <td>-0.387519</td>\n",
       "    </tr>\n",
       "  </tbody>\n",
       "</table>\n",
       "</div>"
      ],
      "text/plain": [
       "                   A         B         C         D         E\n",
       "2018-01-01 -0.033405  0.065932  0.678457 -1.215829 -0.605459\n",
       "2018-01-02 -0.122190  0.160209 -0.121218 -1.126751  0.753587\n",
       "2018-01-03  0.301857 -0.464063  1.836580  0.165792 -0.387519"
      ]
     },
     "execution_count": 479,
     "metadata": {},
     "output_type": "execute_result"
    }
   ],
   "source": [
    "df.head(3)"
   ]
  },
  {
   "cell_type": "code",
   "execution_count": 480,
   "id": "3c1ffd96",
   "metadata": {
    "ExecuteTime": {
     "end_time": "2022-05-20T20:35:44.528795Z",
     "start_time": "2022-05-20T20:35:44.436479Z"
    },
    "hidden": true
   },
   "outputs": [],
   "source": [
    "df['F'] = df.A[df.A > 0]"
   ]
  },
  {
   "cell_type": "code",
   "execution_count": 481,
   "id": "182387c8",
   "metadata": {
    "ExecuteTime": {
     "end_time": "2022-05-20T20:35:44.621799Z",
     "start_time": "2022-05-20T20:35:44.535784Z"
    },
    "hidden": true,
    "scrolled": true
   },
   "outputs": [
    {
     "data": {
      "text/html": [
       "<div>\n",
       "<style scoped>\n",
       "    .dataframe tbody tr th:only-of-type {\n",
       "        vertical-align: middle;\n",
       "    }\n",
       "\n",
       "    .dataframe tbody tr th {\n",
       "        vertical-align: top;\n",
       "    }\n",
       "\n",
       "    .dataframe thead th {\n",
       "        text-align: right;\n",
       "    }\n",
       "</style>\n",
       "<table border=\"1\" class=\"dataframe\">\n",
       "  <thead>\n",
       "    <tr style=\"text-align: right;\">\n",
       "      <th></th>\n",
       "      <th>A</th>\n",
       "      <th>B</th>\n",
       "      <th>C</th>\n",
       "      <th>D</th>\n",
       "      <th>E</th>\n",
       "      <th>F</th>\n",
       "    </tr>\n",
       "  </thead>\n",
       "  <tbody>\n",
       "    <tr>\n",
       "      <th>2018-01-01</th>\n",
       "      <td>-0.033405</td>\n",
       "      <td>0.065932</td>\n",
       "      <td>0.678457</td>\n",
       "      <td>-1.215829</td>\n",
       "      <td>-0.605459</td>\n",
       "      <td>NaN</td>\n",
       "    </tr>\n",
       "    <tr>\n",
       "      <th>2018-01-02</th>\n",
       "      <td>-0.122190</td>\n",
       "      <td>0.160209</td>\n",
       "      <td>-0.121218</td>\n",
       "      <td>-1.126751</td>\n",
       "      <td>0.753587</td>\n",
       "      <td>NaN</td>\n",
       "    </tr>\n",
       "    <tr>\n",
       "      <th>2018-01-03</th>\n",
       "      <td>0.301857</td>\n",
       "      <td>-0.464063</td>\n",
       "      <td>1.836580</td>\n",
       "      <td>0.165792</td>\n",
       "      <td>-0.387519</td>\n",
       "      <td>0.301857</td>\n",
       "    </tr>\n",
       "  </tbody>\n",
       "</table>\n",
       "</div>"
      ],
      "text/plain": [
       "                   A         B         C         D         E         F\n",
       "2018-01-01 -0.033405  0.065932  0.678457 -1.215829 -0.605459       NaN\n",
       "2018-01-02 -0.122190  0.160209 -0.121218 -1.126751  0.753587       NaN\n",
       "2018-01-03  0.301857 -0.464063  1.836580  0.165792 -0.387519  0.301857"
      ]
     },
     "execution_count": 481,
     "metadata": {},
     "output_type": "execute_result"
    }
   ],
   "source": [
    "df.head(3)"
   ]
  },
  {
   "cell_type": "code",
   "execution_count": 482,
   "id": "8de8d0d2",
   "metadata": {
    "ExecuteTime": {
     "end_time": "2022-05-20T20:35:44.700321Z",
     "start_time": "2022-05-20T20:35:44.624798Z"
    },
    "hidden": true
   },
   "outputs": [],
   "source": [
    "df1 = df.copy()"
   ]
  },
  {
   "cell_type": "code",
   "execution_count": 483,
   "id": "e31134a0",
   "metadata": {
    "ExecuteTime": {
     "end_time": "2022-05-20T20:35:44.874034Z",
     "start_time": "2022-05-20T20:35:44.703328Z"
    },
    "hidden": true
   },
   "outputs": [],
   "source": [
    "df2 = df.copy()"
   ]
  },
  {
   "cell_type": "markdown",
   "id": "f29a2134",
   "metadata": {
    "hidden": true
   },
   "source": [
    "**Extração dos valores NaN. Sempre que ultilizamos este comando, também perdemos os demais dados da linha.**"
   ]
  },
  {
   "cell_type": "code",
   "execution_count": 484,
   "id": "cda1690e",
   "metadata": {
    "ExecuteTime": {
     "end_time": "2022-05-20T20:35:44.964767Z",
     "start_time": "2022-05-20T20:35:44.883041Z"
    },
    "hidden": true,
    "scrolled": true
   },
   "outputs": [
    {
     "data": {
      "text/plain": [
       "(31, 6)"
      ]
     },
     "execution_count": 484,
     "metadata": {},
     "output_type": "execute_result"
    }
   ],
   "source": [
    "df1.dropna().shape "
   ]
  },
  {
   "cell_type": "code",
   "execution_count": 485,
   "id": "ddf8e687",
   "metadata": {
    "ExecuteTime": {
     "end_time": "2022-05-20T20:35:45.059476Z",
     "start_time": "2022-05-20T20:35:44.973764Z"
    },
    "hidden": true
   },
   "outputs": [
    {
     "data": {
      "text/plain": [
       "(60, 6)"
      ]
     },
     "execution_count": 485,
     "metadata": {},
     "output_type": "execute_result"
    }
   ],
   "source": [
    "df.shape"
   ]
  },
  {
   "cell_type": "code",
   "execution_count": 486,
   "id": "7217d682",
   "metadata": {
    "ExecuteTime": {
     "end_time": "2022-05-20T20:35:45.146423Z",
     "start_time": "2022-05-20T20:35:45.066483Z"
    },
    "hidden": true
   },
   "outputs": [
    {
     "data": {
      "text/html": [
       "<div>\n",
       "<style scoped>\n",
       "    .dataframe tbody tr th:only-of-type {\n",
       "        vertical-align: middle;\n",
       "    }\n",
       "\n",
       "    .dataframe tbody tr th {\n",
       "        vertical-align: top;\n",
       "    }\n",
       "\n",
       "    .dataframe thead th {\n",
       "        text-align: right;\n",
       "    }\n",
       "</style>\n",
       "<table border=\"1\" class=\"dataframe\">\n",
       "  <thead>\n",
       "    <tr style=\"text-align: right;\">\n",
       "      <th></th>\n",
       "      <th>A</th>\n",
       "      <th>B</th>\n",
       "      <th>C</th>\n",
       "      <th>D</th>\n",
       "      <th>E</th>\n",
       "      <th>F</th>\n",
       "    </tr>\n",
       "  </thead>\n",
       "  <tbody>\n",
       "    <tr>\n",
       "      <th>2018-01-01</th>\n",
       "      <td>-0.033405</td>\n",
       "      <td>0.065932</td>\n",
       "      <td>0.678457</td>\n",
       "      <td>-1.215829</td>\n",
       "      <td>-0.605459</td>\n",
       "      <td>NaN</td>\n",
       "    </tr>\n",
       "    <tr>\n",
       "      <th>2018-01-02</th>\n",
       "      <td>-0.122190</td>\n",
       "      <td>0.160209</td>\n",
       "      <td>-0.121218</td>\n",
       "      <td>-1.126751</td>\n",
       "      <td>0.753587</td>\n",
       "      <td>NaN</td>\n",
       "    </tr>\n",
       "    <tr>\n",
       "      <th>2018-01-03</th>\n",
       "      <td>0.301857</td>\n",
       "      <td>-0.464063</td>\n",
       "      <td>1.836580</td>\n",
       "      <td>0.165792</td>\n",
       "      <td>-0.387519</td>\n",
       "      <td>0.301857</td>\n",
       "    </tr>\n",
       "    <tr>\n",
       "      <th>2018-01-04</th>\n",
       "      <td>-0.007032</td>\n",
       "      <td>-0.038534</td>\n",
       "      <td>-0.038928</td>\n",
       "      <td>-1.153859</td>\n",
       "      <td>2.162086</td>\n",
       "      <td>NaN</td>\n",
       "    </tr>\n",
       "    <tr>\n",
       "      <th>2018-01-05</th>\n",
       "      <td>1.590059</td>\n",
       "      <td>0.412589</td>\n",
       "      <td>0.264971</td>\n",
       "      <td>-0.661633</td>\n",
       "      <td>-0.004108</td>\n",
       "      <td>1.590059</td>\n",
       "    </tr>\n",
       "  </tbody>\n",
       "</table>\n",
       "</div>"
      ],
      "text/plain": [
       "                   A         B         C         D         E         F\n",
       "2018-01-01 -0.033405  0.065932  0.678457 -1.215829 -0.605459       NaN\n",
       "2018-01-02 -0.122190  0.160209 -0.121218 -1.126751  0.753587       NaN\n",
       "2018-01-03  0.301857 -0.464063  1.836580  0.165792 -0.387519  0.301857\n",
       "2018-01-04 -0.007032 -0.038534 -0.038928 -1.153859  2.162086       NaN\n",
       "2018-01-05  1.590059  0.412589  0.264971 -0.661633 -0.004108  1.590059"
      ]
     },
     "execution_count": 486,
     "metadata": {},
     "output_type": "execute_result"
    }
   ],
   "source": [
    "df2.head()"
   ]
  },
  {
   "cell_type": "markdown",
   "id": "fb786de3",
   "metadata": {
    "hidden": true
   },
   "source": [
    "**Substituição dos valores NaN pela média da coluna F**"
   ]
  },
  {
   "cell_type": "code",
   "execution_count": 487,
   "id": "48461972",
   "metadata": {
    "ExecuteTime": {
     "end_time": "2022-05-20T20:35:45.226091Z",
     "start_time": "2022-05-20T20:35:45.151418Z"
    },
    "hidden": true
   },
   "outputs": [
    {
     "data": {
      "text/plain": [
       "2018-01-01    0.632934\n",
       "2018-01-02    0.632934\n",
       "2018-01-03    0.301857\n",
       "2018-01-04    0.632934\n",
       "2018-01-05    1.590059\n",
       "2018-01-06    0.353272\n",
       "2018-01-07    0.204678\n",
       "2018-01-08    0.448992\n",
       "2018-01-09    0.338114\n",
       "2018-01-10    2.056521\n",
       "2018-01-11    0.632934\n",
       "2018-01-12    0.793912\n",
       "2018-01-13    0.632934\n",
       "2018-01-14    0.632934\n",
       "2018-01-15    0.632934\n",
       "2018-01-16    0.817093\n",
       "2018-01-17    0.632934\n",
       "2018-01-18    0.242279\n",
       "2018-01-19    0.632934\n",
       "2018-01-20    0.632934\n",
       "2018-01-21    0.387488\n",
       "2018-01-22    0.607969\n",
       "2018-01-23    0.760622\n",
       "2018-01-24    0.632934\n",
       "2018-01-25    0.256496\n",
       "2018-01-26    0.202236\n",
       "2018-01-27    0.632934\n",
       "2018-01-28    0.632934\n",
       "2018-01-29    0.527507\n",
       "2018-01-30    0.255153\n",
       "2018-01-31    1.474785\n",
       "2018-02-01    0.632934\n",
       "2018-02-02    0.632934\n",
       "2018-02-03    0.632934\n",
       "2018-02-04    0.488812\n",
       "2018-02-05    0.632934\n",
       "2018-02-06    0.632934\n",
       "2018-02-07    0.632934\n",
       "2018-02-08    1.498705\n",
       "2018-02-09    2.280314\n",
       "2018-02-10    0.249256\n",
       "2018-02-11    0.732251\n",
       "2018-02-12    0.632934\n",
       "2018-02-13    0.632934\n",
       "2018-02-14    0.386506\n",
       "2018-02-15    0.632934\n",
       "2018-02-16    0.632934\n",
       "2018-02-17    0.632934\n",
       "2018-02-18    0.117567\n",
       "2018-02-19    0.632934\n",
       "2018-02-20    0.306789\n",
       "2018-02-21    0.632934\n",
       "2018-02-22    0.078274\n",
       "2018-02-23    0.222355\n",
       "2018-02-24    0.368703\n",
       "2018-02-25    0.632934\n",
       "2018-02-26    0.632934\n",
       "2018-02-27    0.501694\n",
       "2018-02-28    0.770685\n",
       "2018-03-01    0.632934\n",
       "Freq: D, Name: F, dtype: float64"
      ]
     },
     "execution_count": 487,
     "metadata": {},
     "output_type": "execute_result"
    }
   ],
   "source": [
    "df2.F.fillna(np.mean(df2.F))"
   ]
  },
  {
   "cell_type": "code",
   "execution_count": 488,
   "id": "32360300",
   "metadata": {
    "ExecuteTime": {
     "end_time": "2022-05-20T20:35:45.307346Z",
     "start_time": "2022-05-20T20:35:45.232083Z"
    },
    "hidden": true
   },
   "outputs": [],
   "source": [
    "df3 = df.copy()"
   ]
  },
  {
   "cell_type": "markdown",
   "id": "3e1b3d7b",
   "metadata": {
    "hidden": true
   },
   "source": [
    "**Substituição de TODOS os valores NaN da tabela por 777**"
   ]
  },
  {
   "cell_type": "code",
   "execution_count": 489,
   "id": "0f50e5ac",
   "metadata": {
    "ExecuteTime": {
     "end_time": "2022-05-20T20:35:45.434891Z",
     "start_time": "2022-05-20T20:35:45.311346Z"
    },
    "hidden": true
   },
   "outputs": [
    {
     "data": {
      "text/html": [
       "<div>\n",
       "<style scoped>\n",
       "    .dataframe tbody tr th:only-of-type {\n",
       "        vertical-align: middle;\n",
       "    }\n",
       "\n",
       "    .dataframe tbody tr th {\n",
       "        vertical-align: top;\n",
       "    }\n",
       "\n",
       "    .dataframe thead th {\n",
       "        text-align: right;\n",
       "    }\n",
       "</style>\n",
       "<table border=\"1\" class=\"dataframe\">\n",
       "  <thead>\n",
       "    <tr style=\"text-align: right;\">\n",
       "      <th></th>\n",
       "      <th>A</th>\n",
       "      <th>B</th>\n",
       "      <th>C</th>\n",
       "      <th>D</th>\n",
       "      <th>E</th>\n",
       "      <th>F</th>\n",
       "    </tr>\n",
       "  </thead>\n",
       "  <tbody>\n",
       "    <tr>\n",
       "      <th>2018-01-01</th>\n",
       "      <td>-0.033405</td>\n",
       "      <td>0.065932</td>\n",
       "      <td>0.678457</td>\n",
       "      <td>-1.215829</td>\n",
       "      <td>-0.605459</td>\n",
       "      <td>777.000000</td>\n",
       "    </tr>\n",
       "    <tr>\n",
       "      <th>2018-01-02</th>\n",
       "      <td>-0.122190</td>\n",
       "      <td>0.160209</td>\n",
       "      <td>-0.121218</td>\n",
       "      <td>-1.126751</td>\n",
       "      <td>0.753587</td>\n",
       "      <td>777.000000</td>\n",
       "    </tr>\n",
       "    <tr>\n",
       "      <th>2018-01-03</th>\n",
       "      <td>0.301857</td>\n",
       "      <td>-0.464063</td>\n",
       "      <td>1.836580</td>\n",
       "      <td>0.165792</td>\n",
       "      <td>-0.387519</td>\n",
       "      <td>0.301857</td>\n",
       "    </tr>\n",
       "    <tr>\n",
       "      <th>2018-01-04</th>\n",
       "      <td>-0.007032</td>\n",
       "      <td>-0.038534</td>\n",
       "      <td>-0.038928</td>\n",
       "      <td>-1.153859</td>\n",
       "      <td>2.162086</td>\n",
       "      <td>777.000000</td>\n",
       "    </tr>\n",
       "    <tr>\n",
       "      <th>2018-01-05</th>\n",
       "      <td>1.590059</td>\n",
       "      <td>0.412589</td>\n",
       "      <td>0.264971</td>\n",
       "      <td>-0.661633</td>\n",
       "      <td>-0.004108</td>\n",
       "      <td>1.590059</td>\n",
       "    </tr>\n",
       "    <tr>\n",
       "      <th>2018-01-06</th>\n",
       "      <td>0.353272</td>\n",
       "      <td>-0.255948</td>\n",
       "      <td>-0.304905</td>\n",
       "      <td>0.165491</td>\n",
       "      <td>1.511347</td>\n",
       "      <td>0.353272</td>\n",
       "    </tr>\n",
       "    <tr>\n",
       "      <th>2018-01-07</th>\n",
       "      <td>0.204678</td>\n",
       "      <td>0.211893</td>\n",
       "      <td>-1.033119</td>\n",
       "      <td>0.430512</td>\n",
       "      <td>0.283768</td>\n",
       "      <td>0.204678</td>\n",
       "    </tr>\n",
       "    <tr>\n",
       "      <th>2018-01-08</th>\n",
       "      <td>0.448992</td>\n",
       "      <td>-1.130225</td>\n",
       "      <td>0.333658</td>\n",
       "      <td>1.903283</td>\n",
       "      <td>0.196417</td>\n",
       "      <td>0.448992</td>\n",
       "    </tr>\n",
       "    <tr>\n",
       "      <th>2018-01-09</th>\n",
       "      <td>0.338114</td>\n",
       "      <td>1.416623</td>\n",
       "      <td>1.295214</td>\n",
       "      <td>-0.578358</td>\n",
       "      <td>0.357398</td>\n",
       "      <td>0.338114</td>\n",
       "    </tr>\n",
       "    <tr>\n",
       "      <th>2018-01-10</th>\n",
       "      <td>2.056521</td>\n",
       "      <td>-0.604803</td>\n",
       "      <td>0.235799</td>\n",
       "      <td>0.016352</td>\n",
       "      <td>1.541257</td>\n",
       "      <td>2.056521</td>\n",
       "    </tr>\n",
       "    <tr>\n",
       "      <th>2018-01-11</th>\n",
       "      <td>-0.625231</td>\n",
       "      <td>0.911742</td>\n",
       "      <td>-0.259857</td>\n",
       "      <td>1.127223</td>\n",
       "      <td>-0.909315</td>\n",
       "      <td>777.000000</td>\n",
       "    </tr>\n",
       "    <tr>\n",
       "      <th>2018-01-12</th>\n",
       "      <td>0.793912</td>\n",
       "      <td>0.585674</td>\n",
       "      <td>0.310868</td>\n",
       "      <td>-1.445733</td>\n",
       "      <td>-1.213014</td>\n",
       "      <td>0.793912</td>\n",
       "    </tr>\n",
       "    <tr>\n",
       "      <th>2018-01-13</th>\n",
       "      <td>-0.200659</td>\n",
       "      <td>0.259516</td>\n",
       "      <td>-1.302899</td>\n",
       "      <td>-1.375056</td>\n",
       "      <td>0.701609</td>\n",
       "      <td>777.000000</td>\n",
       "    </tr>\n",
       "    <tr>\n",
       "      <th>2018-01-14</th>\n",
       "      <td>-0.374041</td>\n",
       "      <td>-0.739086</td>\n",
       "      <td>-0.614743</td>\n",
       "      <td>-0.264745</td>\n",
       "      <td>-0.762149</td>\n",
       "      <td>777.000000</td>\n",
       "    </tr>\n",
       "    <tr>\n",
       "      <th>2018-01-15</th>\n",
       "      <td>-1.010645</td>\n",
       "      <td>0.141492</td>\n",
       "      <td>1.303574</td>\n",
       "      <td>-1.153040</td>\n",
       "      <td>-0.668357</td>\n",
       "      <td>777.000000</td>\n",
       "    </tr>\n",
       "    <tr>\n",
       "      <th>2018-01-16</th>\n",
       "      <td>0.817093</td>\n",
       "      <td>-0.868982</td>\n",
       "      <td>-0.244973</td>\n",
       "      <td>-2.096274</td>\n",
       "      <td>0.119588</td>\n",
       "      <td>0.817093</td>\n",
       "    </tr>\n",
       "    <tr>\n",
       "      <th>2018-01-17</th>\n",
       "      <td>-0.591892</td>\n",
       "      <td>0.176132</td>\n",
       "      <td>0.326398</td>\n",
       "      <td>0.471566</td>\n",
       "      <td>-0.223348</td>\n",
       "      <td>777.000000</td>\n",
       "    </tr>\n",
       "    <tr>\n",
       "      <th>2018-01-18</th>\n",
       "      <td>0.242279</td>\n",
       "      <td>-0.482786</td>\n",
       "      <td>-1.206748</td>\n",
       "      <td>-0.794091</td>\n",
       "      <td>2.344652</td>\n",
       "      <td>0.242279</td>\n",
       "    </tr>\n",
       "    <tr>\n",
       "      <th>2018-01-19</th>\n",
       "      <td>-0.471243</td>\n",
       "      <td>0.070704</td>\n",
       "      <td>-0.227539</td>\n",
       "      <td>-0.289980</td>\n",
       "      <td>1.630482</td>\n",
       "      <td>777.000000</td>\n",
       "    </tr>\n",
       "    <tr>\n",
       "      <th>2018-01-20</th>\n",
       "      <td>-0.093837</td>\n",
       "      <td>1.339178</td>\n",
       "      <td>-0.763018</td>\n",
       "      <td>-0.324734</td>\n",
       "      <td>0.540417</td>\n",
       "      <td>777.000000</td>\n",
       "    </tr>\n",
       "    <tr>\n",
       "      <th>2018-01-21</th>\n",
       "      <td>0.387488</td>\n",
       "      <td>-0.691933</td>\n",
       "      <td>0.541393</td>\n",
       "      <td>-0.073885</td>\n",
       "      <td>1.648393</td>\n",
       "      <td>0.387488</td>\n",
       "    </tr>\n",
       "    <tr>\n",
       "      <th>2018-01-22</th>\n",
       "      <td>0.607969</td>\n",
       "      <td>-0.358856</td>\n",
       "      <td>-0.244973</td>\n",
       "      <td>0.210821</td>\n",
       "      <td>0.190132</td>\n",
       "      <td>0.607969</td>\n",
       "    </tr>\n",
       "    <tr>\n",
       "      <th>2018-01-23</th>\n",
       "      <td>0.760622</td>\n",
       "      <td>-0.376243</td>\n",
       "      <td>1.868073</td>\n",
       "      <td>0.052494</td>\n",
       "      <td>0.662541</td>\n",
       "      <td>0.760622</td>\n",
       "    </tr>\n",
       "    <tr>\n",
       "      <th>2018-01-24</th>\n",
       "      <td>-1.373584</td>\n",
       "      <td>-2.287985</td>\n",
       "      <td>-1.708430</td>\n",
       "      <td>0.488802</td>\n",
       "      <td>-0.531597</td>\n",
       "      <td>777.000000</td>\n",
       "    </tr>\n",
       "    <tr>\n",
       "      <th>2018-01-25</th>\n",
       "      <td>0.256496</td>\n",
       "      <td>0.309716</td>\n",
       "      <td>1.329276</td>\n",
       "      <td>-0.570413</td>\n",
       "      <td>-0.806534</td>\n",
       "      <td>0.256496</td>\n",
       "    </tr>\n",
       "    <tr>\n",
       "      <th>2018-01-26</th>\n",
       "      <td>0.202236</td>\n",
       "      <td>0.166475</td>\n",
       "      <td>1.181956</td>\n",
       "      <td>0.719204</td>\n",
       "      <td>-2.869129</td>\n",
       "      <td>0.202236</td>\n",
       "    </tr>\n",
       "    <tr>\n",
       "      <th>2018-01-27</th>\n",
       "      <td>-0.169629</td>\n",
       "      <td>-0.390872</td>\n",
       "      <td>-0.249137</td>\n",
       "      <td>-0.966835</td>\n",
       "      <td>0.805089</td>\n",
       "      <td>777.000000</td>\n",
       "    </tr>\n",
       "    <tr>\n",
       "      <th>2018-01-28</th>\n",
       "      <td>-1.202606</td>\n",
       "      <td>-0.393204</td>\n",
       "      <td>-0.621431</td>\n",
       "      <td>1.331697</td>\n",
       "      <td>-0.585501</td>\n",
       "      <td>777.000000</td>\n",
       "    </tr>\n",
       "    <tr>\n",
       "      <th>2018-01-29</th>\n",
       "      <td>0.527507</td>\n",
       "      <td>0.239640</td>\n",
       "      <td>1.217683</td>\n",
       "      <td>0.171927</td>\n",
       "      <td>-0.697738</td>\n",
       "      <td>0.527507</td>\n",
       "    </tr>\n",
       "    <tr>\n",
       "      <th>2018-01-30</th>\n",
       "      <td>0.255153</td>\n",
       "      <td>-0.389501</td>\n",
       "      <td>-0.001845</td>\n",
       "      <td>-1.042469</td>\n",
       "      <td>-0.612030</td>\n",
       "      <td>0.255153</td>\n",
       "    </tr>\n",
       "    <tr>\n",
       "      <th>2018-01-31</th>\n",
       "      <td>1.474785</td>\n",
       "      <td>-1.499036</td>\n",
       "      <td>-0.796443</td>\n",
       "      <td>0.338740</td>\n",
       "      <td>-0.399724</td>\n",
       "      <td>1.474785</td>\n",
       "    </tr>\n",
       "    <tr>\n",
       "      <th>2018-02-01</th>\n",
       "      <td>-0.747439</td>\n",
       "      <td>0.588217</td>\n",
       "      <td>-0.614902</td>\n",
       "      <td>0.346972</td>\n",
       "      <td>0.296083</td>\n",
       "      <td>777.000000</td>\n",
       "    </tr>\n",
       "    <tr>\n",
       "      <th>2018-02-02</th>\n",
       "      <td>-1.387098</td>\n",
       "      <td>-0.342154</td>\n",
       "      <td>0.849810</td>\n",
       "      <td>-0.239163</td>\n",
       "      <td>-1.528750</td>\n",
       "      <td>777.000000</td>\n",
       "    </tr>\n",
       "    <tr>\n",
       "      <th>2018-02-03</th>\n",
       "      <td>-0.449346</td>\n",
       "      <td>-0.380232</td>\n",
       "      <td>0.245011</td>\n",
       "      <td>-0.261457</td>\n",
       "      <td>0.150098</td>\n",
       "      <td>777.000000</td>\n",
       "    </tr>\n",
       "    <tr>\n",
       "      <th>2018-02-04</th>\n",
       "      <td>0.488812</td>\n",
       "      <td>-0.878475</td>\n",
       "      <td>-1.430957</td>\n",
       "      <td>-0.883332</td>\n",
       "      <td>0.250535</td>\n",
       "      <td>0.488812</td>\n",
       "    </tr>\n",
       "    <tr>\n",
       "      <th>2018-02-05</th>\n",
       "      <td>-0.797891</td>\n",
       "      <td>-0.005918</td>\n",
       "      <td>1.932399</td>\n",
       "      <td>-1.144887</td>\n",
       "      <td>0.027056</td>\n",
       "      <td>777.000000</td>\n",
       "    </tr>\n",
       "    <tr>\n",
       "      <th>2018-02-06</th>\n",
       "      <td>-0.716385</td>\n",
       "      <td>-1.684141</td>\n",
       "      <td>0.013656</td>\n",
       "      <td>0.449430</td>\n",
       "      <td>-0.937184</td>\n",
       "      <td>777.000000</td>\n",
       "    </tr>\n",
       "    <tr>\n",
       "      <th>2018-02-07</th>\n",
       "      <td>-0.920314</td>\n",
       "      <td>0.363915</td>\n",
       "      <td>0.438543</td>\n",
       "      <td>0.106845</td>\n",
       "      <td>-0.621797</td>\n",
       "      <td>777.000000</td>\n",
       "    </tr>\n",
       "    <tr>\n",
       "      <th>2018-02-08</th>\n",
       "      <td>1.498705</td>\n",
       "      <td>1.768490</td>\n",
       "      <td>0.696912</td>\n",
       "      <td>0.496568</td>\n",
       "      <td>-0.794234</td>\n",
       "      <td>1.498705</td>\n",
       "    </tr>\n",
       "    <tr>\n",
       "      <th>2018-02-09</th>\n",
       "      <td>2.280314</td>\n",
       "      <td>0.839355</td>\n",
       "      <td>0.021807</td>\n",
       "      <td>-2.455570</td>\n",
       "      <td>-0.132898</td>\n",
       "      <td>2.280314</td>\n",
       "    </tr>\n",
       "    <tr>\n",
       "      <th>2018-02-10</th>\n",
       "      <td>0.249256</td>\n",
       "      <td>0.346101</td>\n",
       "      <td>0.843451</td>\n",
       "      <td>0.008687</td>\n",
       "      <td>1.870715</td>\n",
       "      <td>0.249256</td>\n",
       "    </tr>\n",
       "    <tr>\n",
       "      <th>2018-02-11</th>\n",
       "      <td>0.732251</td>\n",
       "      <td>-1.559913</td>\n",
       "      <td>-0.699191</td>\n",
       "      <td>-0.260448</td>\n",
       "      <td>1.075539</td>\n",
       "      <td>0.732251</td>\n",
       "    </tr>\n",
       "    <tr>\n",
       "      <th>2018-02-12</th>\n",
       "      <td>-0.081742</td>\n",
       "      <td>1.867763</td>\n",
       "      <td>0.014033</td>\n",
       "      <td>-0.491216</td>\n",
       "      <td>0.743154</td>\n",
       "      <td>777.000000</td>\n",
       "    </tr>\n",
       "    <tr>\n",
       "      <th>2018-02-13</th>\n",
       "      <td>-0.038027</td>\n",
       "      <td>-2.429784</td>\n",
       "      <td>-1.285886</td>\n",
       "      <td>0.510311</td>\n",
       "      <td>-1.160909</td>\n",
       "      <td>777.000000</td>\n",
       "    </tr>\n",
       "    <tr>\n",
       "      <th>2018-02-14</th>\n",
       "      <td>0.386506</td>\n",
       "      <td>-0.447899</td>\n",
       "      <td>-0.388033</td>\n",
       "      <td>-0.222615</td>\n",
       "      <td>-0.131726</td>\n",
       "      <td>0.386506</td>\n",
       "    </tr>\n",
       "    <tr>\n",
       "      <th>2018-02-15</th>\n",
       "      <td>-0.651520</td>\n",
       "      <td>1.663082</td>\n",
       "      <td>-0.635163</td>\n",
       "      <td>1.464676</td>\n",
       "      <td>-0.857727</td>\n",
       "      <td>777.000000</td>\n",
       "    </tr>\n",
       "    <tr>\n",
       "      <th>2018-02-16</th>\n",
       "      <td>-0.310666</td>\n",
       "      <td>-0.760781</td>\n",
       "      <td>1.303372</td>\n",
       "      <td>0.767291</td>\n",
       "      <td>1.392962</td>\n",
       "      <td>777.000000</td>\n",
       "    </tr>\n",
       "    <tr>\n",
       "      <th>2018-02-17</th>\n",
       "      <td>-1.642733</td>\n",
       "      <td>1.406131</td>\n",
       "      <td>0.335110</td>\n",
       "      <td>1.329161</td>\n",
       "      <td>-1.152537</td>\n",
       "      <td>777.000000</td>\n",
       "    </tr>\n",
       "    <tr>\n",
       "      <th>2018-02-18</th>\n",
       "      <td>0.117567</td>\n",
       "      <td>0.009085</td>\n",
       "      <td>0.311748</td>\n",
       "      <td>-0.487979</td>\n",
       "      <td>0.509658</td>\n",
       "      <td>0.117567</td>\n",
       "    </tr>\n",
       "    <tr>\n",
       "      <th>2018-02-19</th>\n",
       "      <td>-2.739616</td>\n",
       "      <td>0.546448</td>\n",
       "      <td>0.780110"
      ],
      "text/plain": [
       "                   A         B         C         D         E           F\n",
       "2018-01-01 -0.033405  0.065932  0.678457 -1.215829 -0.605459  777.000000\n",
       "2018-01-02 -0.122190  0.160209 -0.121218 -1.126751  0.753587  777.000000\n",
       "2018-01-03  0.301857 -0.464063  1.836580  0.165792 -0.387519    0.301857\n",
       "2018-01-04 -0.007032 -0.038534 -0.038928 -1.153859  2.162086  777.000000\n",
       "2018-01-05  1.590059  0.412589  0.264971 -0.661633 -0.004108    1.590059\n",
       "2018-01-06  0.353272 -0.255948 -0.304905  0.165491  1.511347    0.353272\n",
       "2018-01-07  0.204678  0.211893 -1.033119  0.430512  0.283768    0.204678\n",
       "2018-01-08  0.448992 -1.130225  0.333658  1.903283  0.196417    0.448992\n",
       "2018-01-09  0.338114  1.416623  1.295214 -0.578358  0.357398    0.338114\n",
       "2018-01-10  2.056521 -0.604803  0.235799  0.016352  1.541257    2.056521\n",
       "2018-01-11 -0.625231  0.911742 -0.259857  1.127223 -0.909315  777.000000\n",
       "2018-01-12  0.793912  0.585674  0.310868 -1.445733 -1.213014    0.793912\n",
       "2018-01-13 -0.200659  0.259516 -1.302899 -1.375056  0.701609  777.000000\n",
       "2018-01-14 -0.374041 -0.739086 -0.614743 -0.264745 -0.762149  777.000000\n",
       "2018-01-15 -1.010645  0.141492  1.303574 -1.153040 -0.668357  777.000000\n",
       "2018-01-16  0.817093 -0.868982 -0.244973 -2.096274  0.119588    0.817093\n",
       "2018-01-17 -0.591892  0.176132  0.326398  0.471566 -0.223348  777.000000\n",
       "2018-01-18  0.242279 -0.482786 -1.206748 -0.794091  2.344652    0.242279\n",
       "2018-01-19 -0.471243  0.070704 -0.227539 -0.289980  1.630482  777.000000\n",
       "2018-01-20 -0.093837  1.339178 -0.763018 -0.324734  0.540417  777.000000\n",
       "2018-01-21  0.387488 -0.691933  0.541393 -0.073885  1.648393    0.387488\n",
       "2018-01-22  0.607969 -0.358856 -0.244973  0.210821  0.190132    0.607969\n",
       "2018-01-23  0.760622 -0.376243  1.868073  0.052494  0.662541    0.760622\n",
       "2018-01-24 -1.373584 -2.287985 -1.708430  0.488802 -0.531597  777.000000\n",
       "2018-01-25  0.256496  0.309716  1.329276 -0.570413 -0.806534    0.256496\n",
       "2018-01-26  0.202236  0.166475  1.181956  0.719204 -2.869129    0.202236\n",
       "2018-01-27 -0.169629 -0.390872 -0.249137 -0.966835  0.805089  777.000000\n",
       "2018-01-28 -1.202606 -0.393204 -0.621431  1.331697 -0.585501  777.000000\n",
       "2018-01-29  0.527507  0.239640  1.217683  0.171927 -0.697738    0.527507\n",
       "2018-01-30  0.255153 -0.389501 -0.001845 -1.042469 -0.612030    0.255153\n",
       "2018-01-31  1.474785 -1.499036 -0.796443  0.338740 -0.399724    1.474785\n",
       "2018-02-01 -0.747439  0.588217 -0.614902  0.346972  0.296083  777.000000\n",
       "2018-02-02 -1.387098 -0.342154  0.849810 -0.239163 -1.528750  777.000000\n",
       "2018-02-03 -0.449346 -0.380232  0.245011 -0.261457  0.150098  777.000000\n",
       "2018-02-04  0.488812 -0.878475 -1.430957 -0.883332  0.250535    0.488812\n",
       "2018-02-05 -0.797891 -0.005918  1.932399 -1.144887  0.027056  777.000000\n",
       "2018-02-06 -0.716385 -1.684141  0.013656  0.449430 -0.937184  777.000000\n",
       "2018-02-07 -0.920314  0.363915  0.438543  0.106845 -0.621797  777.000000\n",
       "2018-02-08  1.498705  1.768490  0.696912  0.496568 -0.794234    1.498705\n",
       "2018-02-09  2.280314  0.839355  0.021807 -2.455570 -0.132898    2.280314\n",
       "2018-02-10  0.249256  0.346101  0.843451  0.008687  1.870715    0.249256\n",
       "2018-02-11  0.732251 -1.559913 -0.699191 -0.260448  1.075539    0.732251\n",
       "2018-02-12 -0.081742  1.867763  0.014033 -0.491216  0.743154  777.000000\n",
       "2018-02-13 -0.038027 -2.429784 -1.285886  0.510311 -1.160909  777.000000\n",
       "2018-02-14  0.386506 -0.447899 -0.388033 -0.222615 -0.131726    0.386506\n",
       "2018-02-15 -0.651520  1.663082 -0.635163  1.464676 -0.857727  777.000000\n",
       "2018-02-16 -0.310666 -0.760781  1.303372  0.767291  1.392962  777.000000\n",
       "2018-02-17 -1.642733  1.406131  0.335110  1.329161 -1.152537  777.000000\n",
       "2018-02-18  0.117567  0.009085  0.311748 -0.487979  0.509658    0.117567\n",
       "2018-02-19 -2.739616  0.546448  0.780110  0.569931  1.563356  777.000000\n",
       "2018-02-20  0.306789  0.046518 -2.464424  0.871162  0.783685    0.306789\n",
       "2018-02-21 -2.668223  0.338729 -0.490114  1.303063 -0.071273  777.000000\n",
       "2018-02-22  0.078274 -0.574376  1.251181 -0.524113 -0.067606    0.078274\n",
       "2018-02-23  0.222355  0.239966  0.608473  1.453050 -0.003458    0.222355\n",
       "2018-02-24  0.368703 -0.873924  0.603701 -1.620020  0.981318    0.368703\n",
       "2018-02-25 -0.259766  2.554854 -1.495099 -0.290476 -0.741385  777.000000\n",
       "2018-02-26 -0.132262 -0.288803 -0.375208  0.906621 -0.068754  777.000000\n",
       "2018-02-27  0.501694 -0.556252 -0.327277 -1.217243  1.866320    0.501694\n",
       "2018-02-28  0.770685 -0.666044 -0.970635 -1.545690  1.258156    0.770685\n",
       "2018-03-01 -0.682233 -0.223522 -0.754884 -0.518306  0.594068  777.000000"
      ]
     },
     "execution_count": 489,
     "metadata": {},
     "output_type": "execute_result"
    },
    {
     "data": {
      "text/html": [
       "<b>limit_output extension: Maximum message size of 10000 exceeded with 12042 characters</b>"
      ]
     },
     "metadata": {},
     "output_type": "display_data"
    }
   ],
   "source": [
    "df3.fillna(value = 777)"
   ]
  },
  {
   "cell_type": "markdown",
   "id": "41a6ed68",
   "metadata": {},
   "source": [
    "### 2.7.3. Dados únicos"
   ]
  },
  {
   "cell_type": "code",
   "execution_count": 490,
   "id": "668a58bc",
   "metadata": {
    "ExecuteTime": {
     "end_time": "2022-05-20T20:35:45.514841Z",
     "start_time": "2022-05-20T20:35:45.437890Z"
    }
   },
   "outputs": [],
   "source": [
    "df2 = pd.DataFrame({'A': 1.,\n",
    "                    'B': pd.Timestamp('20130102'),\n",
    "                    'C': pd.Series(1, index = list(range(4)), dtype= 'float32'),\n",
    "                    'D': np.array([3] * 4, dtype = 'int32'),\n",
    "                    'E': pd.Categorical(['test', 'train', 'test', 'train']),\n",
    "                    'F': 'Python',\n",
    "                    'G': [2, 2, 4, 4],\n",
    "                    'H': [np.nan, 2, 4, np.nan]\n",
    "    \n",
    "})"
   ]
  },
  {
   "cell_type": "code",
   "execution_count": 491,
   "id": "22e1908f",
   "metadata": {
    "ExecuteTime": {
     "end_time": "2022-05-20T20:35:45.599791Z",
     "start_time": "2022-05-20T20:35:45.518839Z"
    }
   },
   "outputs": [
    {
     "data": {
      "text/html": [
       "<div>\n",
       "<style scoped>\n",
       "    .dataframe tbody tr th:only-of-type {\n",
       "        vertical-align: middle;\n",
       "    }\n",
       "\n",
       "    .dataframe tbody tr th {\n",
       "        vertical-align: top;\n",
       "    }\n",
       "\n",
       "    .dataframe thead th {\n",
       "        text-align: right;\n",
       "    }\n",
       "</style>\n",
       "<table border=\"1\" class=\"dataframe\">\n",
       "  <thead>\n",
       "    <tr style=\"text-align: right;\">\n",
       "      <th></th>\n",
       "      <th>A</th>\n",
       "      <th>B</th>\n",
       "      <th>C</th>\n",
       "      <th>D</th>\n",
       "      <th>E</th>\n",
       "      <th>F</th>\n",
       "      <th>G</th>\n",
       "      <th>H</th>\n",
       "    </tr>\n",
       "  </thead>\n",
       "  <tbody>\n",
       "    <tr>\n",
       "      <th>0</th>\n",
       "      <td>1.0</td>\n",
       "      <td>2013-01-02</td>\n",
       "      <td>1.0</td>\n",
       "      <td>3</td>\n",
       "      <td>test</td>\n",
       "      <td>Python</td>\n",
       "      <td>2</td>\n",
       "      <td>NaN</td>\n",
       "    </tr>\n",
       "    <tr>\n",
       "      <th>1</th>\n",
       "      <td>1.0</td>\n",
       "      <td>2013-01-02</td>\n",
       "      <td>1.0</td>\n",
       "      <td>3</td>\n",
       "      <td>train</td>\n",
       "      <td>Python</td>\n",
       "      <td>2</td>\n",
       "      <td>2.0</td>\n",
       "    </tr>\n",
       "    <tr>\n",
       "      <th>2</th>\n",
       "      <td>1.0</td>\n",
       "      <td>2013-01-02</td>\n",
       "      <td>1.0</td>\n",
       "      <td>3</td>\n",
       "      <td>test</td>\n",
       "      <td>Python</td>\n",
       "      <td>4</td>\n",
       "      <td>4.0</td>\n",
       "    </tr>\n",
       "    <tr>\n",
       "      <th>3</th>\n",
       "      <td>1.0</td>\n",
       "      <td>2013-01-02</td>\n",
       "      <td>1.0</td>\n",
       "      <td>3</td>\n",
       "      <td>train</td>\n",
       "      <td>Python</td>\n",
       "      <td>4</td>\n",
       "      <td>NaN</td>\n",
       "    </tr>\n",
       "  </tbody>\n",
       "</table>\n",
       "</div>"
      ],
      "text/plain": [
       "     A          B    C  D      E       F  G    H\n",
       "0  1.0 2013-01-02  1.0  3   test  Python  2  NaN\n",
       "1  1.0 2013-01-02  1.0  3  train  Python  2  2.0\n",
       "2  1.0 2013-01-02  1.0  3   test  Python  4  4.0\n",
       "3  1.0 2013-01-02  1.0  3  train  Python  4  NaN"
      ]
     },
     "execution_count": 491,
     "metadata": {},
     "output_type": "execute_result"
    }
   ],
   "source": [
    "df2"
   ]
  },
  {
   "cell_type": "markdown",
   "id": "cfb1e912",
   "metadata": {},
   "source": [
    "Sempre que usar a função nunique ela aponta os dados ÚNICOS ( axis=0 está relacionado a linha e axis= 1 à coluna)"
   ]
  },
  {
   "cell_type": "code",
   "execution_count": 492,
   "id": "d86d3371",
   "metadata": {
    "ExecuteTime": {
     "end_time": "2022-05-20T20:35:45.721715Z",
     "start_time": "2022-05-20T20:35:45.607786Z"
    },
    "scrolled": true
   },
   "outputs": [
    {
     "data": {
      "text/plain": [
       "0    6\n",
       "1    6\n",
       "2    6\n",
       "3    6\n",
       "dtype: int64"
      ]
     },
     "execution_count": 492,
     "metadata": {},
     "output_type": "execute_result"
    }
   ],
   "source": [
    "df2.nunique(axis = 1, dropna = True)"
   ]
  },
  {
   "cell_type": "markdown",
   "id": "3c7bb66d",
   "metadata": {
    "heading_collapsed": true
   },
   "source": [
    "### 2.7.4. Dados duplicados"
   ]
  },
  {
   "cell_type": "markdown",
   "id": "99e4429d",
   "metadata": {
    "hidden": true
   },
   "source": [
    "**Essa função mostra valores duplicados em todas as linhas**"
   ]
  },
  {
   "cell_type": "code",
   "execution_count": 493,
   "id": "de84aabe",
   "metadata": {
    "ExecuteTime": {
     "end_time": "2022-05-20T20:35:45.849636Z",
     "start_time": "2022-05-20T20:35:45.725714Z"
    },
    "hidden": true,
    "scrolled": true
   },
   "outputs": [
    {
     "data": {
      "text/html": [
       "<div>\n",
       "<style scoped>\n",
       "    .dataframe tbody tr th:only-of-type {\n",
       "        vertical-align: middle;\n",
       "    }\n",
       "\n",
       "    .dataframe tbody tr th {\n",
       "        vertical-align: top;\n",
       "    }\n",
       "\n",
       "    .dataframe thead th {\n",
       "        text-align: right;\n",
       "    }\n",
       "</style>\n",
       "<table border=\"1\" class=\"dataframe\">\n",
       "  <thead>\n",
       "    <tr style=\"text-align: right;\">\n",
       "      <th></th>\n",
       "      <th>A</th>\n",
       "      <th>B</th>\n",
       "      <th>C</th>\n",
       "      <th>D</th>\n",
       "      <th>E</th>\n",
       "      <th>F</th>\n",
       "      <th>G</th>\n",
       "      <th>H</th>\n",
       "    </tr>\n",
       "  </thead>\n",
       "  <tbody>\n",
       "    <tr>\n",
       "      <th>0</th>\n",
       "      <td>1.0</td>\n",
       "      <td>2013-01-02</td>\n",
       "      <td>1.0</td>\n",
       "      <td>3</td>\n",
       "      <td>test</td>\n",
       "      <td>Python</td>\n",
       "      <td>2</td>\n",
       "      <td>NaN</td>\n",
       "    </tr>\n",
       "    <tr>\n",
       "      <th>1</th>\n",
       "      <td>1.0</td>\n",
       "      <td>2013-01-02</td>\n",
       "      <td>1.0</td>\n",
       "      <td>3</td>\n",
       "      <td>train</td>\n",
       "      <td>Python</td>\n",
       "      <td>2</td>\n",
       "      <td>2.0</td>\n",
       "    </tr>\n",
       "    <tr>\n",
       "      <th>2</th>\n",
       "      <td>1.0</td>\n",
       "      <td>2013-01-02</td>\n",
       "      <td>1.0</td>\n",
       "      <td>3</td>\n",
       "      <td>test</td>\n",
       "      <td>Python</td>\n",
       "      <td>4</td>\n",
       "      <td>4.0</td>\n",
       "    </tr>\n",
       "    <tr>\n",
       "      <th>3</th>\n",
       "      <td>1.0</td>\n",
       "      <td>2013-01-02</td>\n",
       "      <td>1.0</td>\n",
       "      <td>3</td>\n",
       "      <td>train</td>\n",
       "      <td>Python</td>\n",
       "      <td>4</td>\n",
       "      <td>NaN</td>\n",
       "    </tr>\n",
       "  </tbody>\n",
       "</table>\n",
       "</div>"
      ],
      "text/plain": [
       "     A          B    C  D      E       F  G    H\n",
       "0  1.0 2013-01-02  1.0  3   test  Python  2  NaN\n",
       "1  1.0 2013-01-02  1.0  3  train  Python  2  2.0\n",
       "2  1.0 2013-01-02  1.0  3   test  Python  4  4.0\n",
       "3  1.0 2013-01-02  1.0  3  train  Python  4  NaN"
      ]
     },
     "execution_count": 493,
     "metadata": {},
     "output_type": "execute_result"
    }
   ],
   "source": [
    "df2.drop_duplicates()"
   ]
  },
  {
   "cell_type": "markdown",
   "id": "5b1b0ee8",
   "metadata": {
    "hidden": true
   },
   "source": [
    "**Essa função mantém o 1° valor e exclui os valores duplicados na coluna especificada**"
   ]
  },
  {
   "cell_type": "code",
   "execution_count": 494,
   "id": "d11769d3",
   "metadata": {
    "ExecuteTime": {
     "end_time": "2022-05-20T20:35:46.040521Z",
     "start_time": "2022-05-20T20:35:45.854634Z"
    },
    "hidden": true
   },
   "outputs": [
    {
     "data": {
      "text/html": [
       "<div>\n",
       "<style scoped>\n",
       "    .dataframe tbody tr th:only-of-type {\n",
       "        vertical-align: middle;\n",
       "    }\n",
       "\n",
       "    .dataframe tbody tr th {\n",
       "        vertical-align: top;\n",
       "    }\n",
       "\n",
       "    .dataframe thead th {\n",
       "        text-align: right;\n",
       "    }\n",
       "</style>\n",
       "<table border=\"1\" class=\"dataframe\">\n",
       "  <thead>\n",
       "    <tr style=\"text-align: right;\">\n",
       "      <th></th>\n",
       "      <th>A</th>\n",
       "      <th>B</th>\n",
       "      <th>C</th>\n",
       "      <th>D</th>\n",
       "      <th>E</th>\n",
       "      <th>F</th>\n",
       "      <th>G</th>\n",
       "      <th>H</th>\n",
       "    </tr>\n",
       "  </thead>\n",
       "  <tbody>\n",
       "    <tr>\n",
       "      <th>0</th>\n",
       "      <td>1.0</td>\n",
       "      <td>2013-01-02</td>\n",
       "      <td>1.0</td>\n",
       "      <td>3</td>\n",
       "      <td>test</td>\n",
       "      <td>Python</td>\n",
       "      <td>2</td>\n",
       "      <td>NaN</td>\n",
       "    </tr>\n",
       "    <tr>\n",
       "      <th>2</th>\n",
       "      <td>1.0</td>\n",
       "      <td>2013-01-02</td>\n",
       "      <td>1.0</td>\n",
       "      <td>3</td>\n",
       "      <td>test</td>\n",
       "      <td>Python</td>\n",
       "      <td>4</td>\n",
       "      <td>4.0</td>\n",
       "    </tr>\n",
       "  </tbody>\n",
       "</table>\n",
       "</div>"
      ],
      "text/plain": [
       "     A          B    C  D     E       F  G    H\n",
       "0  1.0 2013-01-02  1.0  3  test  Python  2  NaN\n",
       "2  1.0 2013-01-02  1.0  3  test  Python  4  4.0"
      ]
     },
     "execution_count": 494,
     "metadata": {},
     "output_type": "execute_result"
    }
   ],
   "source": [
    "df2.drop_duplicates(subset= 'G')"
   ]
  },
  {
   "cell_type": "markdown",
   "id": "f06c713f",
   "metadata": {},
   "source": [
    "### 2.7.5. Ordenação dos dados"
   ]
  },
  {
   "cell_type": "code",
   "execution_count": 495,
   "id": "b63169d7",
   "metadata": {
    "ExecuteTime": {
     "end_time": "2022-05-20T20:35:46.119473Z",
     "start_time": "2022-05-20T20:35:46.044517Z"
    }
   },
   "outputs": [],
   "source": [
    "df = pd.DataFrame({\n",
    "                    'col1' : [ 'A', 'A', 'B', np.nan, 'D', 'C' ],  \n",
    "                    'col2' : [ 2, 1, 9, 8, 7, 4 ],\n",
    "                    'col3' : [ 0, 1, 9, 4, 2, 3 ],\n",
    "                })"
   ]
  },
  {
   "cell_type": "code",
   "execution_count": 496,
   "id": "d9a1ea0e",
   "metadata": {
    "ExecuteTime": {
     "end_time": "2022-05-20T20:35:46.216412Z",
     "start_time": "2022-05-20T20:35:46.123469Z"
    }
   },
   "outputs": [
    {
     "data": {
      "text/html": [
       "<div>\n",
       "<style scoped>\n",
       "    .dataframe tbody tr th:only-of-type {\n",
       "        vertical-align: middle;\n",
       "    }\n",
       "\n",
       "    .dataframe tbody tr th {\n",
       "        vertical-align: top;\n",
       "    }\n",
       "\n",
       "    .dataframe thead th {\n",
       "        text-align: right;\n",
       "    }\n",
       "</style>\n",
       "<table border=\"1\" class=\"dataframe\">\n",
       "  <thead>\n",
       "    <tr style=\"text-align: right;\">\n",
       "      <th></th>\n",
       "      <th>col1</th>\n",
       "      <th>col2</th>\n",
       "      <th>col3</th>\n",
       "    </tr>\n",
       "  </thead>\n",
       "  <tbody>\n",
       "    <tr>\n",
       "      <th>0</th>\n",
       "      <td>A</td>\n",
       "      <td>2</td>\n",
       "      <td>0</td>\n",
       "    </tr>\n",
       "    <tr>\n",
       "      <th>1</th>\n",
       "      <td>A</td>\n",
       "      <td>1</td>\n",
       "      <td>1</td>\n",
       "    </tr>\n",
       "    <tr>\n",
       "      <th>2</th>\n",
       "      <td>B</td>\n",
       "      <td>9</td>\n",
       "      <td>9</td>\n",
       "    </tr>\n",
       "    <tr>\n",
       "      <th>3</th>\n",
       "      <td>NaN</td>\n",
       "      <td>8</td>\n",
       "      <td>4</td>\n",
       "    </tr>\n",
       "    <tr>\n",
       "      <th>4</th>\n",
       "      <td>D</td>\n",
       "      <td>7</td>\n",
       "      <td>2</td>\n",
       "    </tr>\n",
       "    <tr>\n",
       "      <th>5</th>\n",
       "      <td>C</td>\n",
       "      <td>4</td>\n",
       "      <td>3</td>\n",
       "    </tr>\n",
       "  </tbody>\n",
       "</table>\n",
       "</div>"
      ],
      "text/plain": [
       "  col1  col2  col3\n",
       "0    A     2     0\n",
       "1    A     1     1\n",
       "2    B     9     9\n",
       "3  NaN     8     4\n",
       "4    D     7     2\n",
       "5    C     4     3"
      ]
     },
     "execution_count": 496,
     "metadata": {},
     "output_type": "execute_result"
    }
   ],
   "source": [
    "df"
   ]
  },
  {
   "cell_type": "markdown",
   "id": "fdaae071",
   "metadata": {},
   "source": [
    "**Ordenação de valores pela coluna 1**"
   ]
  },
  {
   "cell_type": "code",
   "execution_count": 497,
   "id": "7e7b038d",
   "metadata": {
    "ExecuteTime": {
     "end_time": "2022-05-20T20:35:46.311353Z",
     "start_time": "2022-05-20T20:35:46.222409Z"
    },
    "scrolled": false
   },
   "outputs": [
    {
     "data": {
      "text/html": [
       "<div>\n",
       "<style scoped>\n",
       "    .dataframe tbody tr th:only-of-type {\n",
       "        vertical-align: middle;\n",
       "    }\n",
       "\n",
       "    .dataframe tbody tr th {\n",
       "        vertical-align: top;\n",
       "    }\n",
       "\n",
       "    .dataframe thead th {\n",
       "        text-align: right;\n",
       "    }\n",
       "</style>\n",
       "<table border=\"1\" class=\"dataframe\">\n",
       "  <thead>\n",
       "    <tr style=\"text-align: right;\">\n",
       "      <th></th>\n",
       "      <th>col1</th>\n",
       "      <th>col2</th>\n",
       "      <th>col3</th>\n",
       "    </tr>\n",
       "  </thead>\n",
       "  <tbody>\n",
       "    <tr>\n",
       "      <th>0</th>\n",
       "      <td>A</td>\n",
       "      <td>2</td>\n",
       "      <td>0</td>\n",
       "    </tr>\n",
       "    <tr>\n",
       "      <th>1</th>\n",
       "      <td>A</td>\n",
       "      <td>1</td>\n",
       "      <td>1</td>\n",
       "    </tr>\n",
       "    <tr>\n",
       "      <th>2</th>\n",
       "      <td>B</td>\n",
       "      <td>9</td>\n",
       "      <td>9</td>\n",
       "    </tr>\n",
       "    <tr>\n",
       "      <th>5</th>\n",
       "      <td>C</td>\n",
       "      <td>4</td>\n",
       "      <td>3</td>\n",
       "    </tr>\n",
       "    <tr>\n",
       "      <th>4</th>\n",
       "      <td>D</td>\n",
       "      <td>7</td>\n",
       "      <td>2</td>\n",
       "    </tr>\n",
       "    <tr>\n",
       "      <th>3</th>\n",
       "      <td>NaN</td>\n",
       "      <td>8</td>\n",
       "      <td>4</td>\n",
       "    </tr>\n",
       "  </tbody>\n",
       "</table>\n",
       "</div>"
      ],
      "text/plain": [
       "  col1  col2  col3\n",
       "0    A     2     0\n",
       "1    A     1     1\n",
       "2    B     9     9\n",
       "5    C     4     3\n",
       "4    D     7     2\n",
       "3  NaN     8     4"
      ]
     },
     "execution_count": 497,
     "metadata": {},
     "output_type": "execute_result"
    }
   ],
   "source": [
    "df.sort_values(by='col1')"
   ]
  },
  {
   "cell_type": "markdown",
   "id": "c70521c5",
   "metadata": {},
   "source": [
    "**Ordenação de valores pelas colunas 1 e 2**"
   ]
  },
  {
   "cell_type": "code",
   "execution_count": 498,
   "id": "a86f4da9",
   "metadata": {
    "ExecuteTime": {
     "end_time": "2022-05-20T20:35:46.422286Z",
     "start_time": "2022-05-20T20:35:46.315350Z"
    },
    "scrolled": true
   },
   "outputs": [
    {
     "data": {
      "text/html": [
       "<div>\n",
       "<style scoped>\n",
       "    .dataframe tbody tr th:only-of-type {\n",
       "        vertical-align: middle;\n",
       "    }\n",
       "\n",
       "    .dataframe tbody tr th {\n",
       "        vertical-align: top;\n",
       "    }\n",
       "\n",
       "    .dataframe thead th {\n",
       "        text-align: right;\n",
       "    }\n",
       "</style>\n",
       "<table border=\"1\" class=\"dataframe\">\n",
       "  <thead>\n",
       "    <tr style=\"text-align: right;\">\n",
       "      <th></th>\n",
       "      <th>col1</th>\n",
       "      <th>col2</th>\n",
       "      <th>col3</th>\n",
       "    </tr>\n",
       "  </thead>\n",
       "  <tbody>\n",
       "    <tr>\n",
       "      <th>1</th>\n",
       "      <td>A</td>\n",
       "      <td>1</td>\n",
       "      <td>1</td>\n",
       "    </tr>\n",
       "    <tr>\n",
       "      <th>0</th>\n",
       "      <td>A</td>\n",
       "      <td>2</td>\n",
       "      <td>0</td>\n",
       "    </tr>\n",
       "    <tr>\n",
       "      <th>2</th>\n",
       "      <td>B</td>\n",
       "      <td>9</td>\n",
       "      <td>9</td>\n",
       "    </tr>\n",
       "    <tr>\n",
       "      <th>5</th>\n",
       "      <td>C</td>\n",
       "      <td>4</td>\n",
       "      <td>3</td>\n",
       "    </tr>\n",
       "    <tr>\n",
       "      <th>4</th>\n",
       "      <td>D</td>\n",
       "      <td>7</td>\n",
       "      <td>2</td>\n",
       "    </tr>\n",
       "    <tr>\n",
       "      <th>3</th>\n",
       "      <td>NaN</td>\n",
       "      <td>8</td>\n",
       "      <td>4</td>\n",
       "    </tr>\n",
       "  </tbody>\n",
       "</table>\n",
       "</div>"
      ],
      "text/plain": [
       "  col1  col2  col3\n",
       "1    A     1     1\n",
       "0    A     2     0\n",
       "2    B     9     9\n",
       "5    C     4     3\n",
       "4    D     7     2\n",
       "3  NaN     8     4"
      ]
     },
     "execution_count": 498,
     "metadata": {},
     "output_type": "execute_result"
    }
   ],
   "source": [
    "df.sort_values(by=['col1', 'col2'])"
   ]
  },
  {
   "cell_type": "markdown",
   "id": "619c6ff0",
   "metadata": {},
   "source": [
    "**Ordenação de valores pelas colunas 1 e 2 de forma decrescente**"
   ]
  },
  {
   "cell_type": "code",
   "execution_count": 499,
   "id": "d6c02823",
   "metadata": {
    "ExecuteTime": {
     "end_time": "2022-05-20T20:35:46.517226Z",
     "start_time": "2022-05-20T20:35:46.426283Z"
    },
    "scrolled": true
   },
   "outputs": [
    {
     "data": {
      "text/html": [
       "<div>\n",
       "<style scoped>\n",
       "    .dataframe tbody tr th:only-of-type {\n",
       "        vertical-align: middle;\n",
       "    }\n",
       "\n",
       "    .dataframe tbody tr th {\n",
       "        vertical-align: top;\n",
       "    }\n",
       "\n",
       "    .dataframe thead th {\n",
       "        text-align: right;\n",
       "    }\n",
       "</style>\n",
       "<table border=\"1\" class=\"dataframe\">\n",
       "  <thead>\n",
       "    <tr style=\"text-align: right;\">\n",
       "      <th></th>\n",
       "      <th>col1</th>\n",
       "      <th>col2</th>\n",
       "      <th>col3</th>\n",
       "    </tr>\n",
       "  </thead>\n",
       "  <tbody>\n",
       "    <tr>\n",
       "      <th>4</th>\n",
       "      <td>D</td>\n",
       "      <td>7</td>\n",
       "      <td>2</td>\n",
       "    </tr>\n",
       "    <tr>\n",
       "      <th>5</th>\n",
       "      <td>C</td>\n",
       "      <td>4</td>\n",
       "      <td>3</td>\n",
       "    </tr>\n",
       "    <tr>\n",
       "      <th>2</th>\n",
       "      <td>B</td>\n",
       "      <td>9</td>\n",
       "      <td>9</td>\n",
       "    </tr>\n",
       "    <tr>\n",
       "      <th>0</th>\n",
       "      <td>A</td>\n",
       "      <td>2</td>\n",
       "      <td>0</td>\n",
       "    </tr>\n",
       "    <tr>\n",
       "      <th>1</th>\n",
       "      <td>A</td>\n",
       "      <td>1</td>\n",
       "      <td>1</td>\n",
       "    </tr>\n",
       "    <tr>\n",
       "      <th>3</th>\n",
       "      <td>NaN</td>\n",
       "      <td>8</td>\n",
       "      <td>4</td>\n",
       "    </tr>\n",
       "  </tbody>\n",
       "</table>\n",
       "</div>"
      ],
      "text/plain": [
       "  col1  col2  col3\n",
       "4    D     7     2\n",
       "5    C     4     3\n",
       "2    B     9     9\n",
       "0    A     2     0\n",
       "1    A     1     1\n",
       "3  NaN     8     4"
      ]
     },
     "execution_count": 499,
     "metadata": {},
     "output_type": "execute_result"
    }
   ],
   "source": [
    "df.sort_values(by=['col1', 'col2'], ascending= False)"
   ]
  },
  {
   "cell_type": "code",
   "execution_count": 500,
   "id": "87fb4da5",
   "metadata": {
    "ExecuteTime": {
     "end_time": "2022-05-20T20:35:46.629157Z",
     "start_time": "2022-05-20T20:35:46.522225Z"
    }
   },
   "outputs": [
    {
     "data": {
      "text/html": [
       "<div>\n",
       "<style scoped>\n",
       "    .dataframe tbody tr th:only-of-type {\n",
       "        vertical-align: middle;\n",
       "    }\n",
       "\n",
       "    .dataframe tbody tr th {\n",
       "        vertical-align: top;\n",
       "    }\n",
       "\n",
       "    .dataframe thead th {\n",
       "        text-align: right;\n",
       "    }\n",
       "</style>\n",
       "<table border=\"1\" class=\"dataframe\">\n",
       "  <thead>\n",
       "    <tr style=\"text-align: right;\">\n",
       "      <th></th>\n",
       "      <th>col1</th>\n",
       "      <th>col2</th>\n",
       "      <th>col3</th>\n",
       "    </tr>\n",
       "  </thead>\n",
       "  <tbody>\n",
       "    <tr>\n",
       "      <th>0</th>\n",
       "      <td>A</td>\n",
       "      <td>2</td>\n",
       "      <td>0</td>\n",
       "    </tr>\n",
       "    <tr>\n",
       "      <th>1</th>\n",
       "      <td>A</td>\n",
       "      <td>1</td>\n",
       "      <td>1</td>\n",
       "    </tr>\n",
       "    <tr>\n",
       "      <th>2</th>\n",
       "      <td>B</td>\n",
       "      <td>9</td>\n",
       "      <td>9</td>\n",
       "    </tr>\n",
       "    <tr>\n",
       "      <th>5</th>\n",
       "      <td>C</td>\n",
       "      <td>4</td>\n",
       "      <td>3</td>\n",
       "    </tr>\n",
       "    <tr>\n",
       "      <th>4</th>\n",
       "      <td>D</td>\n",
       "      <td>7</td>\n",
       "      <td>2</td>\n",
       "    </tr>\n",
       "    <tr>\n",
       "      <th>3</th>\n",
       "      <td>NaN</td>\n",
       "      <td>8</td>\n",
       "      <td>4</td>\n",
       "    </tr>\n",
       "  </tbody>\n",
       "</table>\n",
       "</div>"
      ],
      "text/plain": [
       "  col1  col2  col3\n",
       "0    A     2     0\n",
       "1    A     1     1\n",
       "2    B     9     9\n",
       "5    C     4     3\n",
       "4    D     7     2\n",
       "3  NaN     8     4"
      ]
     },
     "execution_count": 500,
     "metadata": {},
     "output_type": "execute_result"
    }
   ],
   "source": [
    "df.sort_values('col1', ascending= True)"
   ]
  }
 ],
 "metadata": {
  "kernelspec": {
   "display_name": "Python 3 (ipykernel)",
   "language": "python",
   "name": "python3"
  },
  "language_info": {
   "codemirror_mode": {
    "name": "ipython",
    "version": 3
   },
   "file_extension": ".py",
   "mimetype": "text/x-python",
   "name": "python",
   "nbconvert_exporter": "python",
   "pygments_lexer": "ipython3",
   "version": "3.9.12"
  },
  "varInspector": {
   "cols": {
    "lenName": 16,
    "lenType": 16,
    "lenVar": 40
   },
   "kernels_config": {
    "python": {
     "delete_cmd_postfix": "",
     "delete_cmd_prefix": "del ",
     "library": "var_list.py",
     "varRefreshCmd": "print(var_dic_list())"
    },
    "r": {
     "delete_cmd_postfix": ") ",
     "delete_cmd_prefix": "rm(",
     "library": "var_list.r",
     "varRefreshCmd": "cat(var_dic_list()) "
    }
   },
   "types_to_exclude": [
    "module",
    "function",
    "builtin_function_or_method",
    "instance",
    "_Feature"
   ],
   "window_display": false
  }
 },
 "nbformat": 4,
 "nbformat_minor": 5
}
